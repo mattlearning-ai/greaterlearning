{
  "nbformat": 4,
  "nbformat_minor": 0,
  "metadata": {
    "colab": {
      "name": "Solution_NLP.ipynb",
      "provenance": [],
      "collapsed_sections": []
    },
    "kernelspec": {
      "display_name": "Python 3",
      "language": "python",
      "name": "python3"
    },
    "language_info": {
      "codemirror_mode": {
        "name": "ipython",
        "version": 3
      },
      "file_extension": ".py",
      "mimetype": "text/x-python",
      "name": "python",
      "nbconvert_exporter": "python",
      "pygments_lexer": "ipython3",
      "version": "3.7.4"
    }
  },
  "cells": [
    {
      "cell_type": "code",
      "metadata": {
        "colab": {
          "base_uri": "https://localhost:8080/"
        },
        "id": "Ut8djaql1HHS",
        "outputId": "b1be499d-c214-44b6-cb96-d061ada8ef7d"
      },
      "source": [
        "# Installing the necessary libraries \n",
        "!pip install contractions\n",
        "!pip install demoji\n",
        "!pip install -U spacy\n",
        "!pip install pattern\n"
      ],
      "execution_count": 1,
      "outputs": [
        {
          "output_type": "stream",
          "text": [
            "Collecting contractions\n",
            "  Downloading https://files.pythonhosted.org/packages/0a/04/d5e0bb9f2cef5d15616ebf68087a725c5dbdd71bd422bcfb35d709f98ce7/contractions-0.0.48-py2.py3-none-any.whl\n",
            "Collecting textsearch>=0.0.21\n",
            "  Downloading https://files.pythonhosted.org/packages/d3/fe/021d7d76961b5ceb9f8d022c4138461d83beff36c3938dc424586085e559/textsearch-0.0.21-py2.py3-none-any.whl\n",
            "Collecting anyascii\n",
            "\u001b[?25l  Downloading https://files.pythonhosted.org/packages/a3/14/666cd44bf53f36a961544af592cb5c5c800013f9c51a4745af8d7c17362a/anyascii-0.2.0-py3-none-any.whl (283kB)\n",
            "\u001b[K     |████████████████████████████████| 286kB 4.9MB/s \n",
            "\u001b[?25hCollecting pyahocorasick\n",
            "\u001b[?25l  Downloading https://files.pythonhosted.org/packages/7f/c2/eae730037ae1cbbfaa229d27030d1d5e34a1e41114b21447d1202ae9c220/pyahocorasick-1.4.2.tar.gz (321kB)\n",
            "\u001b[K     |████████████████████████████████| 327kB 8.7MB/s \n",
            "\u001b[?25hBuilding wheels for collected packages: pyahocorasick\n",
            "  Building wheel for pyahocorasick (setup.py) ... \u001b[?25l\u001b[?25hdone\n",
            "  Created wheel for pyahocorasick: filename=pyahocorasick-1.4.2-cp37-cp37m-linux_x86_64.whl size=85411 sha256=1fbb4d9e5641d4f0ad685dab73457e53d7e9da8a65ef7fd9d910765849fff1bf\n",
            "  Stored in directory: /root/.cache/pip/wheels/3a/03/34/77e3ece0bba8b86bfac88a79f923b36d805cad63caeba38842\n",
            "Successfully built pyahocorasick\n",
            "Installing collected packages: anyascii, pyahocorasick, textsearch, contractions\n",
            "Successfully installed anyascii-0.2.0 contractions-0.0.48 pyahocorasick-1.4.2 textsearch-0.0.21\n",
            "Collecting demoji\n",
            "  Downloading https://files.pythonhosted.org/packages/88/6a/34379abe01c9c36fe9fddc4181dd935332e7d0159ec3fae76f712e49bcea/demoji-0.4.0-py2.py3-none-any.whl\n",
            "Collecting colorama\n",
            "  Downloading https://files.pythonhosted.org/packages/44/98/5b86278fbbf250d239ae0ecb724f8572af1c91f4a11edf4d36a206189440/colorama-0.4.4-py2.py3-none-any.whl\n",
            "Requirement already satisfied: requests<3.0.0 in /usr/local/lib/python3.7/dist-packages (from demoji) (2.23.0)\n",
            "Requirement already satisfied: chardet<4,>=3.0.2 in /usr/local/lib/python3.7/dist-packages (from requests<3.0.0->demoji) (3.0.4)\n",
            "Requirement already satisfied: certifi>=2017.4.17 in /usr/local/lib/python3.7/dist-packages (from requests<3.0.0->demoji) (2020.12.5)\n",
            "Requirement already satisfied: urllib3!=1.25.0,!=1.25.1,<1.26,>=1.21.1 in /usr/local/lib/python3.7/dist-packages (from requests<3.0.0->demoji) (1.24.3)\n",
            "Requirement already satisfied: idna<3,>=2.5 in /usr/local/lib/python3.7/dist-packages (from requests<3.0.0->demoji) (2.10)\n",
            "Installing collected packages: colorama, demoji\n",
            "Successfully installed colorama-0.4.4 demoji-0.4.0\n",
            "Collecting spacy\n",
            "\u001b[?25l  Downloading https://files.pythonhosted.org/packages/1b/d8/0361bbaf7a1ff56b44dca04dace54c82d63dad7475b7d25ea1baefafafb2/spacy-3.0.6-cp37-cp37m-manylinux2014_x86_64.whl (12.8MB)\n",
            "\u001b[K     |████████████████████████████████| 12.8MB 324kB/s \n",
            "\u001b[?25hCollecting pathy>=0.3.5\n",
            "\u001b[?25l  Downloading https://files.pythonhosted.org/packages/13/87/5991d87be8ed60beb172b4062dbafef18b32fa559635a8e2b633c2974f85/pathy-0.5.2-py3-none-any.whl (42kB)\n",
            "\u001b[K     |████████████████████████████████| 51kB 6.1MB/s \n",
            "\u001b[?25hCollecting thinc<8.1.0,>=8.0.3\n",
            "\u001b[?25l  Downloading https://files.pythonhosted.org/packages/61/87/decceba68a0c6ca356ddcb6aea8b2500e71d9bc187f148aae19b747b7d3c/thinc-8.0.3-cp37-cp37m-manylinux2014_x86_64.whl (1.1MB)\n",
            "\u001b[K     |████████████████████████████████| 1.1MB 42.8MB/s \n",
            "\u001b[?25hRequirement already satisfied, skipping upgrade: numpy>=1.15.0 in /usr/local/lib/python3.7/dist-packages (from spacy) (1.19.5)\n",
            "Requirement already satisfied, skipping upgrade: blis<0.8.0,>=0.4.0 in /usr/local/lib/python3.7/dist-packages (from spacy) (0.4.1)\n",
            "Requirement already satisfied, skipping upgrade: cymem<2.1.0,>=2.0.2 in /usr/local/lib/python3.7/dist-packages (from spacy) (2.0.5)\n",
            "Collecting spacy-legacy<3.1.0,>=3.0.4\n",
            "  Downloading https://files.pythonhosted.org/packages/8d/67/d4002a18e26bf29b17ab563ddb55232b445ab6a02f97bf17d1345ff34d3f/spacy_legacy-3.0.5-py2.py3-none-any.whl\n",
            "Requirement already satisfied, skipping upgrade: tqdm<5.0.0,>=4.38.0 in /usr/local/lib/python3.7/dist-packages (from spacy) (4.41.1)\n",
            "Collecting typer<0.4.0,>=0.3.0\n",
            "  Downloading https://files.pythonhosted.org/packages/90/34/d138832f6945432c638f32137e6c79a3b682f06a63c488dcfaca6b166c64/typer-0.3.2-py3-none-any.whl\n",
            "Requirement already satisfied, skipping upgrade: preshed<3.1.0,>=3.0.2 in /usr/local/lib/python3.7/dist-packages (from spacy) (3.0.5)\n",
            "Collecting pydantic<1.8.0,>=1.7.1\n",
            "\u001b[?25l  Downloading https://files.pythonhosted.org/packages/b3/0a/52ae1c659fc08f13dd7c0ae07b88e4f807ad83fb9954a59b0b0a3d1a8ab6/pydantic-1.7.3-cp37-cp37m-manylinux2014_x86_64.whl (9.1MB)\n",
            "\u001b[K     |████████████████████████████████| 9.1MB 21.5MB/s \n",
            "\u001b[?25hRequirement already satisfied, skipping upgrade: packaging>=20.0 in /usr/local/lib/python3.7/dist-packages (from spacy) (20.9)\n",
            "Requirement already satisfied, skipping upgrade: wasabi<1.1.0,>=0.8.1 in /usr/local/lib/python3.7/dist-packages (from spacy) (0.8.2)\n",
            "Requirement already satisfied, skipping upgrade: typing-extensions<4.0.0.0,>=3.7.4; python_version < \"3.8\" in /usr/local/lib/python3.7/dist-packages (from spacy) (3.7.4.3)\n",
            "Requirement already satisfied, skipping upgrade: murmurhash<1.1.0,>=0.28.0 in /usr/local/lib/python3.7/dist-packages (from spacy) (1.0.5)\n",
            "Requirement already satisfied, skipping upgrade: requests<3.0.0,>=2.13.0 in /usr/local/lib/python3.7/dist-packages (from spacy) (2.23.0)\n",
            "Collecting srsly<3.0.0,>=2.4.1\n",
            "\u001b[?25l  Downloading https://files.pythonhosted.org/packages/c3/84/dfdfc9f6f04f6b88207d96d9520b911e5fec0c67ff47a0dea31ab5429a1e/srsly-2.4.1-cp37-cp37m-manylinux2014_x86_64.whl (456kB)\n",
            "\u001b[K     |████████████████████████████████| 460kB 42.4MB/s \n",
            "\u001b[?25hRequirement already satisfied, skipping upgrade: jinja2 in /usr/local/lib/python3.7/dist-packages (from spacy) (2.11.3)\n",
            "Requirement already satisfied, skipping upgrade: setuptools in /usr/local/lib/python3.7/dist-packages (from spacy) (56.0.0)\n",
            "Collecting catalogue<2.1.0,>=2.0.3\n",
            "  Downloading https://files.pythonhosted.org/packages/82/a5/b5021c74c04cac35a27d34cbf3146d86eb8e173b4491888bc4908c4c8b3b/catalogue-2.0.3-py3-none-any.whl\n",
            "Collecting smart-open<4.0.0,>=2.2.0\n",
            "\u001b[?25l  Downloading https://files.pythonhosted.org/packages/11/9a/ba2d5f67f25e8d5bbf2fcec7a99b1e38428e83cb715f64dd179ca43a11bb/smart_open-3.0.0.tar.gz (113kB)\n",
            "\u001b[K     |████████████████████████████████| 122kB 46.3MB/s \n",
            "\u001b[?25hRequirement already satisfied, skipping upgrade: click<7.2.0,>=7.1.1 in /usr/local/lib/python3.7/dist-packages (from typer<0.4.0,>=0.3.0->spacy) (7.1.2)\n",
            "Requirement already satisfied, skipping upgrade: pyparsing>=2.0.2 in /usr/local/lib/python3.7/dist-packages (from packaging>=20.0->spacy) (2.4.7)\n",
            "Requirement already satisfied, skipping upgrade: certifi>=2017.4.17 in /usr/local/lib/python3.7/dist-packages (from requests<3.0.0,>=2.13.0->spacy) (2020.12.5)\n",
            "Requirement already satisfied, skipping upgrade: idna<3,>=2.5 in /usr/local/lib/python3.7/dist-packages (from requests<3.0.0,>=2.13.0->spacy) (2.10)\n",
            "Requirement already satisfied, skipping upgrade: urllib3!=1.25.0,!=1.25.1,<1.26,>=1.21.1 in /usr/local/lib/python3.7/dist-packages (from requests<3.0.0,>=2.13.0->spacy) (1.24.3)\n",
            "Requirement already satisfied, skipping upgrade: chardet<4,>=3.0.2 in /usr/local/lib/python3.7/dist-packages (from requests<3.0.0,>=2.13.0->spacy) (3.0.4)\n",
            "Requirement already satisfied, skipping upgrade: MarkupSafe>=0.23 in /usr/local/lib/python3.7/dist-packages (from jinja2->spacy) (1.1.1)\n",
            "Requirement already satisfied, skipping upgrade: zipp>=0.5; python_version < \"3.8\" in /usr/local/lib/python3.7/dist-packages (from catalogue<2.1.0,>=2.0.3->spacy) (3.4.1)\n",
            "Building wheels for collected packages: smart-open\n",
            "  Building wheel for smart-open (setup.py) ... \u001b[?25l\u001b[?25hdone\n",
            "  Created wheel for smart-open: filename=smart_open-3.0.0-cp37-none-any.whl size=107098 sha256=402c00c549bdf403ae91425c8146855b075af03d863e9f426408d49bd6edf2dd\n",
            "  Stored in directory: /root/.cache/pip/wheels/18/88/7c/f06dabd5e9cabe02d2269167bcacbbf9b47d0c0ff7d6ebcb78\n",
            "Successfully built smart-open\n",
            "Installing collected packages: typer, smart-open, pathy, catalogue, srsly, pydantic, thinc, spacy-legacy, spacy\n",
            "  Found existing installation: smart-open 5.0.0\n",
            "    Uninstalling smart-open-5.0.0:\n",
            "      Successfully uninstalled smart-open-5.0.0\n",
            "  Found existing installation: catalogue 1.0.0\n",
            "    Uninstalling catalogue-1.0.0:\n",
            "      Successfully uninstalled catalogue-1.0.0\n",
            "  Found existing installation: srsly 1.0.5\n",
            "    Uninstalling srsly-1.0.5:\n",
            "      Successfully uninstalled srsly-1.0.5\n",
            "  Found existing installation: thinc 7.4.0\n",
            "    Uninstalling thinc-7.4.0:\n",
            "      Successfully uninstalled thinc-7.4.0\n",
            "  Found existing installation: spacy 2.2.4\n",
            "    Uninstalling spacy-2.2.4:\n",
            "      Successfully uninstalled spacy-2.2.4\n",
            "Successfully installed catalogue-2.0.3 pathy-0.5.2 pydantic-1.7.3 smart-open-3.0.0 spacy-3.0.6 spacy-legacy-3.0.5 srsly-2.4.1 thinc-8.0.3 typer-0.3.2\n",
            "Collecting pattern\n",
            "\u001b[?25l  Downloading https://files.pythonhosted.org/packages/1e/07/b0e61b6c818ed4b6145fe01d1c341223aa6cfbc3928538ad1f2b890924a3/Pattern-3.6.0.tar.gz (22.2MB)\n",
            "\u001b[K     |████████████████████████████████| 22.3MB 1.9MB/s \n",
            "\u001b[?25hRequirement already satisfied: future in /usr/local/lib/python3.7/dist-packages (from pattern) (0.16.0)\n",
            "Collecting backports.csv\n",
            "  Downloading https://files.pythonhosted.org/packages/8e/26/a6bd68f13e0f38fbb643d6e497fc3462be83a0b6c4d43425c78bb51a7291/backports.csv-1.0.7-py2.py3-none-any.whl\n",
            "Collecting mysqlclient\n",
            "\u001b[?25l  Downloading https://files.pythonhosted.org/packages/3c/df/59cd2fa5e48d0804d213bdcb1acb4d08c403b61c7ff7ed4dd4a6a2deb3f7/mysqlclient-2.0.3.tar.gz (88kB)\n",
            "\u001b[K     |████████████████████████████████| 92kB 10.0MB/s \n",
            "\u001b[?25hRequirement already satisfied: beautifulsoup4 in /usr/local/lib/python3.7/dist-packages (from pattern) (4.6.3)\n",
            "Requirement already satisfied: lxml in /usr/local/lib/python3.7/dist-packages (from pattern) (4.2.6)\n",
            "Collecting feedparser\n",
            "\u001b[?25l  Downloading https://files.pythonhosted.org/packages/1c/21/faf1bac028662cc8adb2b5ef7a6f3999a765baa2835331df365289b0ca56/feedparser-6.0.2-py3-none-any.whl (80kB)\n",
            "\u001b[K     |████████████████████████████████| 81kB 8.2MB/s \n",
            "\u001b[?25hCollecting pdfminer.six\n",
            "\u001b[?25l  Downloading https://files.pythonhosted.org/packages/93/f3/4fec7dabe8802ebec46141345bf714cd1fc7d93cb74ddde917e4b6d97d88/pdfminer.six-20201018-py3-none-any.whl (5.6MB)\n",
            "\u001b[K     |████████████████████████████████| 5.6MB 29.1MB/s \n",
            "\u001b[?25hRequirement already satisfied: numpy in /usr/local/lib/python3.7/dist-packages (from pattern) (1.19.5)\n",
            "Requirement already satisfied: scipy in /usr/local/lib/python3.7/dist-packages (from pattern) (1.4.1)\n",
            "Requirement already satisfied: nltk in /usr/local/lib/python3.7/dist-packages (from pattern) (3.2.5)\n",
            "Collecting python-docx\n",
            "\u001b[?25l  Downloading https://files.pythonhosted.org/packages/e4/83/c66a1934ed5ed8ab1dbb9931f1779079f8bca0f6bbc5793c06c4b5e7d671/python-docx-0.8.10.tar.gz (5.5MB)\n",
            "\u001b[K     |████████████████████████████████| 5.5MB 41.7MB/s \n",
            "\u001b[?25hCollecting cherrypy\n",
            "\u001b[?25l  Downloading https://files.pythonhosted.org/packages/a8/f9/e11f893dcabe6bc222a1442bf5e14f0322a2d363c92910ed41947078a35a/CherryPy-18.6.0-py2.py3-none-any.whl (419kB)\n",
            "\u001b[K     |████████████████████████████████| 419kB 42.9MB/s \n",
            "\u001b[?25hRequirement already satisfied: requests in /usr/local/lib/python3.7/dist-packages (from pattern) (2.23.0)\n",
            "Collecting sgmllib3k\n",
            "  Downloading https://files.pythonhosted.org/packages/9e/bd/3704a8c3e0942d711c1299ebf7b9091930adae6675d7c8f476a7ce48653c/sgmllib3k-1.0.0.tar.gz\n",
            "Collecting cryptography\n",
            "\u001b[?25l  Downloading https://files.pythonhosted.org/packages/b2/26/7af637e6a7e87258b963f1731c5982fb31cd507f0d90d91836e446955d02/cryptography-3.4.7-cp36-abi3-manylinux2014_x86_64.whl (3.2MB)\n",
            "\u001b[K     |████████████████████████████████| 3.2MB 41.2MB/s \n",
            "\u001b[?25hRequirement already satisfied: sortedcontainers in /usr/local/lib/python3.7/dist-packages (from pdfminer.six->pattern) (2.3.0)\n",
            "Requirement already satisfied: chardet; python_version > \"3.0\" in /usr/local/lib/python3.7/dist-packages (from pdfminer.six->pattern) (3.0.4)\n",
            "Requirement already satisfied: six in /usr/local/lib/python3.7/dist-packages (from nltk->pattern) (1.15.0)\n",
            "Requirement already satisfied: more-itertools in /usr/local/lib/python3.7/dist-packages (from cherrypy->pattern) (8.7.0)\n",
            "Collecting portend>=2.1.1\n",
            "  Downloading https://files.pythonhosted.org/packages/b8/a1/fd29409cced540facdd29abb986d988cb1f22c8170d10022ea73af77fa55/portend-2.7.1-py3-none-any.whl\n",
            "Collecting zc.lockfile\n",
            "  Downloading https://files.pythonhosted.org/packages/6c/2a/268389776288f0f26c7272c70c36c96dcc0bdb88ab6216ea18e19df1fadd/zc.lockfile-2.0-py2.py3-none-any.whl\n",
            "Collecting cheroot>=8.2.1\n",
            "\u001b[?25l  Downloading https://files.pythonhosted.org/packages/46/95/86fe6480af78fea7b0e7e1bf02e6acd4cb9e561ea200bd6d6e1398fe5426/cheroot-8.5.2-py2.py3-none-any.whl (97kB)\n",
            "\u001b[K     |████████████████████████████████| 102kB 9.7MB/s \n",
            "\u001b[?25hCollecting jaraco.collections\n",
            "  Downloading https://files.pythonhosted.org/packages/d5/1a/a0d6861d2aca6df92643c755966c8a60e40353e4c5e7a5c2f4e5ed733817/jaraco.collections-3.3.0-py3-none-any.whl\n",
            "Requirement already satisfied: urllib3!=1.25.0,!=1.25.1,<1.26,>=1.21.1 in /usr/local/lib/python3.7/dist-packages (from requests->pattern) (1.24.3)\n",
            "Requirement already satisfied: certifi>=2017.4.17 in /usr/local/lib/python3.7/dist-packages (from requests->pattern) (2020.12.5)\n",
            "Requirement already satisfied: idna<3,>=2.5 in /usr/local/lib/python3.7/dist-packages (from requests->pattern) (2.10)\n",
            "Requirement already satisfied: cffi>=1.12 in /usr/local/lib/python3.7/dist-packages (from cryptography->pdfminer.six->pattern) (1.14.5)\n",
            "Collecting tempora>=1.8\n",
            "  Downloading https://files.pythonhosted.org/packages/44/83/4d5c3de53bbc463f30ab6764e27bc2e8ed9b59736e8b40d95403ff802008/tempora-4.0.2-py3-none-any.whl\n",
            "Requirement already satisfied: setuptools in /usr/local/lib/python3.7/dist-packages (from zc.lockfile->cherrypy->pattern) (56.0.0)\n",
            "Collecting jaraco.functools\n",
            "  Downloading https://files.pythonhosted.org/packages/b5/da/e51e7b58c8fe132990edd1e3ef25bcd9801eb7f91d0f642ac7f8d97e4a36/jaraco.functools-3.3.0-py3-none-any.whl\n",
            "Collecting jaraco.classes\n",
            "  Downloading https://files.pythonhosted.org/packages/b8/74/bee5fc11594974746535117546404678fc7b899476e769c3c55bc0cfaa02/jaraco.classes-3.2.1-py3-none-any.whl\n",
            "Collecting jaraco.text\n",
            "  Downloading https://files.pythonhosted.org/packages/c1/74/2a3c4835c079df16db8a9c50263eebb0125849fee5b16de353a059b7545d/jaraco.text-3.5.0-py3-none-any.whl\n",
            "Requirement already satisfied: pycparser in /usr/local/lib/python3.7/dist-packages (from cffi>=1.12->cryptography->pdfminer.six->pattern) (2.20)\n",
            "Requirement already satisfied: pytz in /usr/local/lib/python3.7/dist-packages (from tempora>=1.8->portend>=2.1.1->cherrypy->pattern) (2018.9)\n",
            "Building wheels for collected packages: pattern, mysqlclient, python-docx, sgmllib3k\n",
            "  Building wheel for pattern (setup.py) ... \u001b[?25l\u001b[?25hdone\n",
            "  Created wheel for pattern: filename=Pattern-3.6-cp37-none-any.whl size=22332724 sha256=ab34eb0347946d7da8fc3481d54387d1a54399b9ee0fb53b242a49762da09d30\n",
            "  Stored in directory: /root/.cache/pip/wheels/dc/9a/0e/5fb1a603ed4e3aa8722a88e9cf4a82da7d1b63e3d2cc34bee5\n",
            "  Building wheel for mysqlclient (setup.py) ... \u001b[?25l\u001b[?25hdone\n",
            "  Created wheel for mysqlclient: filename=mysqlclient-2.0.3-cp37-cp37m-linux_x86_64.whl size=100104 sha256=0cf12a9c495758e590c0b6c25925c44817e636feb62f035742027b3f0a82cb36\n",
            "  Stored in directory: /root/.cache/pip/wheels/75/ca/e8/ad4e7ce3df18bcd91c7d84dd28c7c08db491a2a2360efed363\n",
            "  Building wheel for python-docx (setup.py) ... \u001b[?25l\u001b[?25hdone\n",
            "  Created wheel for python-docx: filename=python_docx-0.8.10-cp37-none-any.whl size=184491 sha256=2a74d2cc355f753bf26cb3c0db869ed7ddd4d3e95c9ff86aff20ad50cae873dd\n",
            "  Stored in directory: /root/.cache/pip/wheels/18/0b/a0/1dd62ff812c857c9e487f27d80d53d2b40531bec1acecfa47b\n",
            "  Building wheel for sgmllib3k (setup.py) ... \u001b[?25l\u001b[?25hdone\n",
            "  Created wheel for sgmllib3k: filename=sgmllib3k-1.0.0-cp37-none-any.whl size=6067 sha256=14def7079639934db3ad970c79fb0e6ab4b52d32c66e43d075849cac0ec5433c\n",
            "  Stored in directory: /root/.cache/pip/wheels/f1/80/5a/444ba08a550cdd241bd9baf8bae44be750efe370adb944506a\n",
            "Successfully built pattern mysqlclient python-docx sgmllib3k\n",
            "Installing collected packages: backports.csv, mysqlclient, sgmllib3k, feedparser, cryptography, pdfminer.six, python-docx, jaraco.functools, tempora, portend, zc.lockfile, cheroot, jaraco.classes, jaraco.text, jaraco.collections, cherrypy, pattern\n",
            "Successfully installed backports.csv-1.0.7 cheroot-8.5.2 cherrypy-18.6.0 cryptography-3.4.7 feedparser-6.0.2 jaraco.classes-3.2.1 jaraco.collections-3.3.0 jaraco.functools-3.3.0 jaraco.text-3.5.0 mysqlclient-2.0.3 pattern-3.6 pdfminer.six-20201018 portend-2.7.1 python-docx-0.8.10 sgmllib3k-1.0.0 tempora-4.0.2 zc.lockfile-2.0\n"
          ],
          "name": "stdout"
        }
      ]
    },
    {
      "cell_type": "code",
      "metadata": {
        "id": "ri1yJ_oxQC_s",
        "colab": {
          "base_uri": "https://localhost:8080/"
        },
        "outputId": "a5e77d9b-e150-44b3-8818-47d8a1dd76a9"
      },
      "source": [
        "# importing the necessary libraries\n",
        "import pandas as pd \n",
        "from pattern.en import lemma\n",
        "from sklearn.feature_extraction.text import TfidfVectorizer\n",
        "from sklearn.metrics import confusion_matrix, classification_report, accuracy_score\n",
        "from sklearn.model_selection import train_test_split \n",
        "from sklearn.preprocessing import LabelEncoder\n",
        "import matplotlib.pyplot as plt\n",
        "import demoji\n",
        "from imblearn.over_sampling import SMOTE\n",
        "import seaborn as sns\n",
        "from bs4 import BeautifulSoup \n",
        "import re\n",
        "from sklearn.feature_extraction.text import CountVectorizer\n",
        "import numpy as np\n",
        "from sklearn.ensemble import RandomForestClassifier\n",
        "from sklearn.model_selection import cross_val_score\n",
        "from google.colab import drive\n",
        "import nltk\n",
        "from nltk import word_tokenize, sent_tokenize\n",
        "from nltk.corpus import stopwords, wordnet    # Stopwords, and wordnet corpus\n",
        "from nltk.stem import LancasterStemmer, WordNetLemmatizer\n",
        "import string\n",
        "import contractions\n",
        "import string\n",
        "import spacy\n",
        "import unicodedata\n",
        "pd.set_option('display.max_colwidth', None)"
      ],
      "execution_count": 2,
      "outputs": [
        {
          "output_type": "stream",
          "text": [
            "/usr/local/lib/python3.7/dist-packages/sklearn/externals/six.py:31: FutureWarning: The module is deprecated in version 0.21 and will be removed in version 0.23 since we've dropped support for Python 2.7. Please rely on the official version of six (https://pypi.org/project/six/).\n",
            "  \"(https://pypi.org/project/six/).\", FutureWarning)\n",
            "/usr/local/lib/python3.7/dist-packages/sklearn/utils/deprecation.py:144: FutureWarning: The sklearn.neighbors.base module is  deprecated in version 0.22 and will be removed in version 0.24. The corresponding classes / functions should instead be imported from sklearn.neighbors. Anything that cannot be imported from sklearn.neighbors is now part of the private API.\n",
            "  warnings.warn(message, FutureWarning)\n"
          ],
          "name": "stderr"
        }
      ]
    },
    {
      "cell_type": "code",
      "metadata": {
        "colab": {
          "base_uri": "https://localhost:8080/"
        },
        "id": "BCho9q9iXwFh",
        "outputId": "7bb4968c-d7fa-4a96-cd94-8139c3480466"
      },
      "source": [
        "# Downloading stopwords etc \n",
        "nltk.download('stopwords')\n",
        "nltk.download('punkt')\n",
        "nltk.download('wordnet')\n",
        "demoji.download_codes()\n",
        "!python -m spacy download en"
      ],
      "execution_count": 34,
      "outputs": [
        {
          "output_type": "stream",
          "text": [
            "[nltk_data] Downloading package stopwords to /root/nltk_data...\n",
            "[nltk_data]   Package stopwords is already up-to-date!\n",
            "[nltk_data] Downloading package punkt to /root/nltk_data...\n",
            "[nltk_data]   Unzipping tokenizers/punkt.zip.\n",
            "[nltk_data] Downloading package wordnet to /root/nltk_data...\n",
            "[nltk_data]   Package wordnet is already up-to-date!\n",
            "Downloading emoji data ...\n",
            "... OK (Got response in 0.11 seconds)\n",
            "Writing emoji data to /root/.demoji/codes.json ...\n",
            "... OK\n",
            "2021-04-26 22:23:42.576496: I tensorflow/stream_executor/platform/default/dso_loader.cc:49] Successfully opened dynamic library libcudart.so.11.0\n",
            "⚠ As of spaCy v3.0, shortcuts like 'en' are deprecated. Please use the\n",
            "full pipeline package name 'en_core_web_sm' instead.\n",
            "Requirement already satisfied: en-core-web-sm==3.0.0 from https://github.com/explosion/spacy-models/releases/download/en_core_web_sm-3.0.0/en_core_web_sm-3.0.0-py3-none-any.whl#egg=en_core_web_sm==3.0.0 in /usr/local/lib/python3.7/dist-packages (3.0.0)\n",
            "Requirement already satisfied: spacy<3.1.0,>=3.0.0 in /usr/local/lib/python3.7/dist-packages (from en-core-web-sm==3.0.0) (3.0.6)\n",
            "Requirement already satisfied: wasabi<1.1.0,>=0.8.1 in /usr/local/lib/python3.7/dist-packages (from spacy<3.1.0,>=3.0.0->en-core-web-sm==3.0.0) (0.8.2)\n",
            "Requirement already satisfied: pathy>=0.3.5 in /usr/local/lib/python3.7/dist-packages (from spacy<3.1.0,>=3.0.0->en-core-web-sm==3.0.0) (0.5.2)\n",
            "Requirement already satisfied: jinja2 in /usr/local/lib/python3.7/dist-packages (from spacy<3.1.0,>=3.0.0->en-core-web-sm==3.0.0) (2.11.3)\n",
            "Requirement already satisfied: catalogue<2.1.0,>=2.0.3 in /usr/local/lib/python3.7/dist-packages (from spacy<3.1.0,>=3.0.0->en-core-web-sm==3.0.0) (2.0.3)\n",
            "Requirement already satisfied: pydantic<1.8.0,>=1.7.1 in /usr/local/lib/python3.7/dist-packages (from spacy<3.1.0,>=3.0.0->en-core-web-sm==3.0.0) (1.7.3)\n",
            "Requirement already satisfied: typing-extensions<4.0.0.0,>=3.7.4; python_version < \"3.8\" in /usr/local/lib/python3.7/dist-packages (from spacy<3.1.0,>=3.0.0->en-core-web-sm==3.0.0) (3.7.4.3)\n",
            "Requirement already satisfied: requests<3.0.0,>=2.13.0 in /usr/local/lib/python3.7/dist-packages (from spacy<3.1.0,>=3.0.0->en-core-web-sm==3.0.0) (2.23.0)\n",
            "Requirement already satisfied: cymem<2.1.0,>=2.0.2 in /usr/local/lib/python3.7/dist-packages (from spacy<3.1.0,>=3.0.0->en-core-web-sm==3.0.0) (2.0.5)\n",
            "Requirement already satisfied: thinc<8.1.0,>=8.0.3 in /usr/local/lib/python3.7/dist-packages (from spacy<3.1.0,>=3.0.0->en-core-web-sm==3.0.0) (8.0.3)\n",
            "Requirement already satisfied: typer<0.4.0,>=0.3.0 in /usr/local/lib/python3.7/dist-packages (from spacy<3.1.0,>=3.0.0->en-core-web-sm==3.0.0) (0.3.2)\n",
            "Requirement already satisfied: tqdm<5.0.0,>=4.38.0 in /usr/local/lib/python3.7/dist-packages (from spacy<3.1.0,>=3.0.0->en-core-web-sm==3.0.0) (4.41.1)\n",
            "Requirement already satisfied: murmurhash<1.1.0,>=0.28.0 in /usr/local/lib/python3.7/dist-packages (from spacy<3.1.0,>=3.0.0->en-core-web-sm==3.0.0) (1.0.5)\n",
            "Requirement already satisfied: blis<0.8.0,>=0.4.0 in /usr/local/lib/python3.7/dist-packages (from spacy<3.1.0,>=3.0.0->en-core-web-sm==3.0.0) (0.4.1)\n",
            "Requirement already satisfied: numpy>=1.15.0 in /usr/local/lib/python3.7/dist-packages (from spacy<3.1.0,>=3.0.0->en-core-web-sm==3.0.0) (1.19.5)\n",
            "Requirement already satisfied: packaging>=20.0 in /usr/local/lib/python3.7/dist-packages (from spacy<3.1.0,>=3.0.0->en-core-web-sm==3.0.0) (20.9)\n",
            "Requirement already satisfied: srsly<3.0.0,>=2.4.1 in /usr/local/lib/python3.7/dist-packages (from spacy<3.1.0,>=3.0.0->en-core-web-sm==3.0.0) (2.4.1)\n",
            "Requirement already satisfied: preshed<3.1.0,>=3.0.2 in /usr/local/lib/python3.7/dist-packages (from spacy<3.1.0,>=3.0.0->en-core-web-sm==3.0.0) (3.0.5)\n",
            "Requirement already satisfied: setuptools in /usr/local/lib/python3.7/dist-packages (from spacy<3.1.0,>=3.0.0->en-core-web-sm==3.0.0) (56.0.0)\n",
            "Requirement already satisfied: spacy-legacy<3.1.0,>=3.0.4 in /usr/local/lib/python3.7/dist-packages (from spacy<3.1.0,>=3.0.0->en-core-web-sm==3.0.0) (3.0.5)\n",
            "Requirement already satisfied: smart-open<4.0.0,>=2.2.0 in /usr/local/lib/python3.7/dist-packages (from pathy>=0.3.5->spacy<3.1.0,>=3.0.0->en-core-web-sm==3.0.0) (3.0.0)\n",
            "Requirement already satisfied: MarkupSafe>=0.23 in /usr/local/lib/python3.7/dist-packages (from jinja2->spacy<3.1.0,>=3.0.0->en-core-web-sm==3.0.0) (1.1.1)\n",
            "Requirement already satisfied: zipp>=0.5; python_version < \"3.8\" in /usr/local/lib/python3.7/dist-packages (from catalogue<2.1.0,>=2.0.3->spacy<3.1.0,>=3.0.0->en-core-web-sm==3.0.0) (3.4.1)\n",
            "Requirement already satisfied: certifi>=2017.4.17 in /usr/local/lib/python3.7/dist-packages (from requests<3.0.0,>=2.13.0->spacy<3.1.0,>=3.0.0->en-core-web-sm==3.0.0) (2020.12.5)\n",
            "Requirement already satisfied: urllib3!=1.25.0,!=1.25.1,<1.26,>=1.21.1 in /usr/local/lib/python3.7/dist-packages (from requests<3.0.0,>=2.13.0->spacy<3.1.0,>=3.0.0->en-core-web-sm==3.0.0) (1.24.3)\n",
            "Requirement already satisfied: chardet<4,>=3.0.2 in /usr/local/lib/python3.7/dist-packages (from requests<3.0.0,>=2.13.0->spacy<3.1.0,>=3.0.0->en-core-web-sm==3.0.0) (3.0.4)\n",
            "Requirement already satisfied: idna<3,>=2.5 in /usr/local/lib/python3.7/dist-packages (from requests<3.0.0,>=2.13.0->spacy<3.1.0,>=3.0.0->en-core-web-sm==3.0.0) (2.10)\n",
            "Requirement already satisfied: click<7.2.0,>=7.1.1 in /usr/local/lib/python3.7/dist-packages (from typer<0.4.0,>=0.3.0->spacy<3.1.0,>=3.0.0->en-core-web-sm==3.0.0) (7.1.2)\n",
            "Requirement already satisfied: pyparsing>=2.0.2 in /usr/local/lib/python3.7/dist-packages (from packaging>=20.0->spacy<3.1.0,>=3.0.0->en-core-web-sm==3.0.0) (2.4.7)\n",
            "✔ Download and installation successful\n",
            "You can now load the package via spacy.load('en_core_web_sm')\n"
          ],
          "name": "stdout"
        }
      ]
    },
    {
      "cell_type": "code",
      "metadata": {
        "id": "4mGrPFXuukwf"
      },
      "source": [
        "# Spacy \n",
        "sp = spacy.load('en_core_web_sm')"
      ],
      "execution_count": 4,
      "outputs": []
    },
    {
      "cell_type": "code",
      "metadata": {
        "colab": {
          "base_uri": "https://localhost:8080/"
        },
        "id": "GVzeECfVTNXv",
        "outputId": "d19a067f-f51e-42db-b4f6-b09303ffcdfd"
      },
      "source": [
        "# Mount Google Drive\n",
        "drive.mount('/content/drive')"
      ],
      "execution_count": 5,
      "outputs": [
        {
          "output_type": "stream",
          "text": [
            "Mounted at /content/drive\n"
          ],
          "name": "stdout"
        }
      ]
    },
    {
      "cell_type": "code",
      "metadata": {
        "id": "69ofYXIXTZOh"
      },
      "source": [
        "# Path to csv file\n",
        "tweets_path = \"/content/drive/My Drive/NLP/Tweets.csv\""
      ],
      "execution_count": 6,
      "outputs": []
    },
    {
      "cell_type": "code",
      "metadata": {
        "id": "55zuMypDSYdN"
      },
      "source": [
        " # Loading csv    \n",
        "tweets_csv = pd.read_csv(tweets_path)"
      ],
      "execution_count": 7,
      "outputs": []
    },
    {
      "cell_type": "code",
      "metadata": {
        "colab": {
          "base_uri": "https://localhost:8080/"
        },
        "id": "npn90zUQQC_t",
        "outputId": "cc174672-f786-4703-a586-25c397178b06"
      },
      "source": [
        "# 14640 rows and 15 columns\n",
        "tweets_csv.shape"
      ],
      "execution_count": 8,
      "outputs": [
        {
          "output_type": "execute_result",
          "data": {
            "text/plain": [
              "(14640, 15)"
            ]
          },
          "metadata": {
            "tags": []
          },
          "execution_count": 8
        }
      ]
    },
    {
      "cell_type": "code",
      "metadata": {
        "colab": {
          "base_uri": "https://localhost:8080/",
          "height": 632
        },
        "id": "IQZHyA6-WKnK",
        "outputId": "ee4535c2-ee88-4de5-ecb4-cdc14610fe16"
      },
      "source": [
        "# Displaying top 5 rows\n",
        "tweets_csv.head(5)"
      ],
      "execution_count": 9,
      "outputs": [
        {
          "output_type": "execute_result",
          "data": {
            "text/html": [
              "<div>\n",
              "<style scoped>\n",
              "    .dataframe tbody tr th:only-of-type {\n",
              "        vertical-align: middle;\n",
              "    }\n",
              "\n",
              "    .dataframe tbody tr th {\n",
              "        vertical-align: top;\n",
              "    }\n",
              "\n",
              "    .dataframe thead th {\n",
              "        text-align: right;\n",
              "    }\n",
              "</style>\n",
              "<table border=\"1\" class=\"dataframe\">\n",
              "  <thead>\n",
              "    <tr style=\"text-align: right;\">\n",
              "      <th></th>\n",
              "      <th>tweet_id</th>\n",
              "      <th>airline_sentiment</th>\n",
              "      <th>airline_sentiment_confidence</th>\n",
              "      <th>negativereason</th>\n",
              "      <th>negativereason_confidence</th>\n",
              "      <th>airline</th>\n",
              "      <th>airline_sentiment_gold</th>\n",
              "      <th>name</th>\n",
              "      <th>negativereason_gold</th>\n",
              "      <th>retweet_count</th>\n",
              "      <th>text</th>\n",
              "      <th>tweet_coord</th>\n",
              "      <th>tweet_created</th>\n",
              "      <th>tweet_location</th>\n",
              "      <th>user_timezone</th>\n",
              "    </tr>\n",
              "  </thead>\n",
              "  <tbody>\n",
              "    <tr>\n",
              "      <th>0</th>\n",
              "      <td>570306133677760513</td>\n",
              "      <td>neutral</td>\n",
              "      <td>1.0000</td>\n",
              "      <td>NaN</td>\n",
              "      <td>NaN</td>\n",
              "      <td>Virgin America</td>\n",
              "      <td>NaN</td>\n",
              "      <td>cairdin</td>\n",
              "      <td>NaN</td>\n",
              "      <td>0</td>\n",
              "      <td>@VirginAmerica What @dhepburn said.</td>\n",
              "      <td>NaN</td>\n",
              "      <td>2015-02-24 11:35:52 -0800</td>\n",
              "      <td>NaN</td>\n",
              "      <td>Eastern Time (US &amp; Canada)</td>\n",
              "    </tr>\n",
              "    <tr>\n",
              "      <th>1</th>\n",
              "      <td>570301130888122368</td>\n",
              "      <td>positive</td>\n",
              "      <td>0.3486</td>\n",
              "      <td>NaN</td>\n",
              "      <td>0.0000</td>\n",
              "      <td>Virgin America</td>\n",
              "      <td>NaN</td>\n",
              "      <td>jnardino</td>\n",
              "      <td>NaN</td>\n",
              "      <td>0</td>\n",
              "      <td>@VirginAmerica plus you've added commercials to the experience... tacky.</td>\n",
              "      <td>NaN</td>\n",
              "      <td>2015-02-24 11:15:59 -0800</td>\n",
              "      <td>NaN</td>\n",
              "      <td>Pacific Time (US &amp; Canada)</td>\n",
              "    </tr>\n",
              "    <tr>\n",
              "      <th>2</th>\n",
              "      <td>570301083672813571</td>\n",
              "      <td>neutral</td>\n",
              "      <td>0.6837</td>\n",
              "      <td>NaN</td>\n",
              "      <td>NaN</td>\n",
              "      <td>Virgin America</td>\n",
              "      <td>NaN</td>\n",
              "      <td>yvonnalynn</td>\n",
              "      <td>NaN</td>\n",
              "      <td>0</td>\n",
              "      <td>@VirginAmerica I didn't today... Must mean I need to take another trip!</td>\n",
              "      <td>NaN</td>\n",
              "      <td>2015-02-24 11:15:48 -0800</td>\n",
              "      <td>Lets Play</td>\n",
              "      <td>Central Time (US &amp; Canada)</td>\n",
              "    </tr>\n",
              "    <tr>\n",
              "      <th>3</th>\n",
              "      <td>570301031407624196</td>\n",
              "      <td>negative</td>\n",
              "      <td>1.0000</td>\n",
              "      <td>Bad Flight</td>\n",
              "      <td>0.7033</td>\n",
              "      <td>Virgin America</td>\n",
              "      <td>NaN</td>\n",
              "      <td>jnardino</td>\n",
              "      <td>NaN</td>\n",
              "      <td>0</td>\n",
              "      <td>@VirginAmerica it's really aggressive to blast obnoxious \"entertainment\" in your guests' faces &amp;amp; they have little recourse</td>\n",
              "      <td>NaN</td>\n",
              "      <td>2015-02-24 11:15:36 -0800</td>\n",
              "      <td>NaN</td>\n",
              "      <td>Pacific Time (US &amp; Canada)</td>\n",
              "    </tr>\n",
              "    <tr>\n",
              "      <th>4</th>\n",
              "      <td>570300817074462722</td>\n",
              "      <td>negative</td>\n",
              "      <td>1.0000</td>\n",
              "      <td>Can't Tell</td>\n",
              "      <td>1.0000</td>\n",
              "      <td>Virgin America</td>\n",
              "      <td>NaN</td>\n",
              "      <td>jnardino</td>\n",
              "      <td>NaN</td>\n",
              "      <td>0</td>\n",
              "      <td>@VirginAmerica and it's a really big bad thing about it</td>\n",
              "      <td>NaN</td>\n",
              "      <td>2015-02-24 11:14:45 -0800</td>\n",
              "      <td>NaN</td>\n",
              "      <td>Pacific Time (US &amp; Canada)</td>\n",
              "    </tr>\n",
              "  </tbody>\n",
              "</table>\n",
              "</div>"
            ],
            "text/plain": [
              "             tweet_id  ...               user_timezone\n",
              "0  570306133677760513  ...  Eastern Time (US & Canada)\n",
              "1  570301130888122368  ...  Pacific Time (US & Canada)\n",
              "2  570301083672813571  ...  Central Time (US & Canada)\n",
              "3  570301031407624196  ...  Pacific Time (US & Canada)\n",
              "4  570300817074462722  ...  Pacific Time (US & Canada)\n",
              "\n",
              "[5 rows x 15 columns]"
            ]
          },
          "metadata": {
            "tags": []
          },
          "execution_count": 9
        }
      ]
    },
    {
      "cell_type": "code",
      "metadata": {
        "colab": {
          "base_uri": "https://localhost:8080/",
          "height": 173
        },
        "id": "QjA_o6oLWOlC",
        "outputId": "1c25b0f7-9dfb-44e1-dd94-a52cc172f329"
      },
      "source": [
        "# Describing data \n",
        "tweets_csv.describe().T"
      ],
      "execution_count": 10,
      "outputs": [
        {
          "output_type": "execute_result",
          "data": {
            "text/html": [
              "<div>\n",
              "<style scoped>\n",
              "    .dataframe tbody tr th:only-of-type {\n",
              "        vertical-align: middle;\n",
              "    }\n",
              "\n",
              "    .dataframe tbody tr th {\n",
              "        vertical-align: top;\n",
              "    }\n",
              "\n",
              "    .dataframe thead th {\n",
              "        text-align: right;\n",
              "    }\n",
              "</style>\n",
              "<table border=\"1\" class=\"dataframe\">\n",
              "  <thead>\n",
              "    <tr style=\"text-align: right;\">\n",
              "      <th></th>\n",
              "      <th>count</th>\n",
              "      <th>mean</th>\n",
              "      <th>std</th>\n",
              "      <th>min</th>\n",
              "      <th>25%</th>\n",
              "      <th>50%</th>\n",
              "      <th>75%</th>\n",
              "      <th>max</th>\n",
              "    </tr>\n",
              "  </thead>\n",
              "  <tbody>\n",
              "    <tr>\n",
              "      <th>tweet_id</th>\n",
              "      <td>14640.0</td>\n",
              "      <td>5.692184e+17</td>\n",
              "      <td>7.791112e+14</td>\n",
              "      <td>5.675883e+17</td>\n",
              "      <td>5.685592e+17</td>\n",
              "      <td>5.694779e+17</td>\n",
              "      <td>5.698905e+17</td>\n",
              "      <td>5.703106e+17</td>\n",
              "    </tr>\n",
              "    <tr>\n",
              "      <th>airline_sentiment_confidence</th>\n",
              "      <td>14640.0</td>\n",
              "      <td>9.001689e-01</td>\n",
              "      <td>1.628300e-01</td>\n",
              "      <td>3.350000e-01</td>\n",
              "      <td>6.923000e-01</td>\n",
              "      <td>1.000000e+00</td>\n",
              "      <td>1.000000e+00</td>\n",
              "      <td>1.000000e+00</td>\n",
              "    </tr>\n",
              "    <tr>\n",
              "      <th>negativereason_confidence</th>\n",
              "      <td>10522.0</td>\n",
              "      <td>6.382983e-01</td>\n",
              "      <td>3.304398e-01</td>\n",
              "      <td>0.000000e+00</td>\n",
              "      <td>3.606000e-01</td>\n",
              "      <td>6.706000e-01</td>\n",
              "      <td>1.000000e+00</td>\n",
              "      <td>1.000000e+00</td>\n",
              "    </tr>\n",
              "    <tr>\n",
              "      <th>retweet_count</th>\n",
              "      <td>14640.0</td>\n",
              "      <td>8.265027e-02</td>\n",
              "      <td>7.457782e-01</td>\n",
              "      <td>0.000000e+00</td>\n",
              "      <td>0.000000e+00</td>\n",
              "      <td>0.000000e+00</td>\n",
              "      <td>0.000000e+00</td>\n",
              "      <td>4.400000e+01</td>\n",
              "    </tr>\n",
              "  </tbody>\n",
              "</table>\n",
              "</div>"
            ],
            "text/plain": [
              "                                count          mean  ...           75%           max\n",
              "tweet_id                      14640.0  5.692184e+17  ...  5.698905e+17  5.703106e+17\n",
              "airline_sentiment_confidence  14640.0  9.001689e-01  ...  1.000000e+00  1.000000e+00\n",
              "negativereason_confidence     10522.0  6.382983e-01  ...  1.000000e+00  1.000000e+00\n",
              "retweet_count                 14640.0  8.265027e-02  ...  0.000000e+00  4.400000e+01\n",
              "\n",
              "[4 rows x 8 columns]"
            ]
          },
          "metadata": {
            "tags": []
          },
          "execution_count": 10
        }
      ]
    },
    {
      "cell_type": "code",
      "metadata": {
        "colab": {
          "base_uri": "https://localhost:8080/"
        },
        "id": "osGmnaKyHeYj",
        "outputId": "e80c0c12-bc64-4b79-f544-79fd41d35bff"
      },
      "source": [
        "# Most of the datatypes are objects including text and airline_sentiment\n",
        "tweets_csv.info()"
      ],
      "execution_count": 12,
      "outputs": [
        {
          "output_type": "stream",
          "text": [
            "<class 'pandas.core.frame.DataFrame'>\n",
            "RangeIndex: 14640 entries, 0 to 14639\n",
            "Data columns (total 15 columns):\n",
            " #   Column                        Non-Null Count  Dtype  \n",
            "---  ------                        --------------  -----  \n",
            " 0   tweet_id                      14640 non-null  int64  \n",
            " 1   airline_sentiment             14640 non-null  object \n",
            " 2   airline_sentiment_confidence  14640 non-null  float64\n",
            " 3   negativereason                9178 non-null   object \n",
            " 4   negativereason_confidence     10522 non-null  float64\n",
            " 5   airline                       14640 non-null  object \n",
            " 6   airline_sentiment_gold        40 non-null     object \n",
            " 7   name                          14640 non-null  object \n",
            " 8   negativereason_gold           32 non-null     object \n",
            " 9   retweet_count                 14640 non-null  int64  \n",
            " 10  text                          14640 non-null  object \n",
            " 11  tweet_coord                   1019 non-null   object \n",
            " 12  tweet_created                 14640 non-null  object \n",
            " 13  tweet_location                9907 non-null   object \n",
            " 14  user_timezone                 9820 non-null   object \n",
            "dtypes: float64(2), int64(2), object(11)\n",
            "memory usage: 1.7+ MB\n"
          ],
          "name": "stdout"
        }
      ]
    },
    {
      "cell_type": "code",
      "metadata": {
        "colab": {
          "base_uri": "https://localhost:8080/"
        },
        "id": "t2StltgGHwTi",
        "outputId": "4f53c423-3c3b-45f0-ddfe-7d2468393366"
      },
      "source": [
        "# The columns we will be working with \"text\" and \"airline_sentiment\" have no Null values\n",
        "tweets_csv.isnull().sum()"
      ],
      "execution_count": 13,
      "outputs": [
        {
          "output_type": "execute_result",
          "data": {
            "text/plain": [
              "tweet_id                            0\n",
              "airline_sentiment                   0\n",
              "airline_sentiment_confidence        0\n",
              "negativereason                   5462\n",
              "negativereason_confidence        4118\n",
              "airline                             0\n",
              "airline_sentiment_gold          14600\n",
              "name                                0\n",
              "negativereason_gold             14608\n",
              "retweet_count                       0\n",
              "text                                0\n",
              "tweet_coord                     13621\n",
              "tweet_created                       0\n",
              "tweet_location                   4733\n",
              "user_timezone                    4820\n",
              "dtype: int64"
            ]
          },
          "metadata": {
            "tags": []
          },
          "execution_count": 13
        }
      ]
    },
    {
      "cell_type": "code",
      "metadata": {
        "id": "Gs119OgiVqTX"
      },
      "source": [
        "# New dataframe with the 2 required columns \n",
        "tweets_df = tweets_csv[['text','airline_sentiment']]"
      ],
      "execution_count": 15,
      "outputs": []
    },
    {
      "cell_type": "code",
      "metadata": {
        "colab": {
          "base_uri": "https://localhost:8080/"
        },
        "id": "husFsZZRV8vr",
        "outputId": "13af10c5-abe2-4162-b32e-caf72c6c39be"
      },
      "source": [
        "# Shape of 14640 rows and 2 columns\n",
        "tweets_df.shape"
      ],
      "execution_count": 16,
      "outputs": [
        {
          "output_type": "execute_result",
          "data": {
            "text/plain": [
              "(14640, 2)"
            ]
          },
          "metadata": {
            "tags": []
          },
          "execution_count": 16
        }
      ]
    },
    {
      "cell_type": "code",
      "metadata": {
        "colab": {
          "base_uri": "https://localhost:8080/",
          "height": 204
        },
        "id": "DogC7DzjWBJJ",
        "outputId": "d0dcc21e-a7ff-4d70-e381-4cc92a040e3b"
      },
      "source": [
        "# Displaying the first 5 rows\n",
        "tweets_df.head(5)"
      ],
      "execution_count": 17,
      "outputs": [
        {
          "output_type": "execute_result",
          "data": {
            "text/html": [
              "<div>\n",
              "<style scoped>\n",
              "    .dataframe tbody tr th:only-of-type {\n",
              "        vertical-align: middle;\n",
              "    }\n",
              "\n",
              "    .dataframe tbody tr th {\n",
              "        vertical-align: top;\n",
              "    }\n",
              "\n",
              "    .dataframe thead th {\n",
              "        text-align: right;\n",
              "    }\n",
              "</style>\n",
              "<table border=\"1\" class=\"dataframe\">\n",
              "  <thead>\n",
              "    <tr style=\"text-align: right;\">\n",
              "      <th></th>\n",
              "      <th>text</th>\n",
              "      <th>airline_sentiment</th>\n",
              "    </tr>\n",
              "  </thead>\n",
              "  <tbody>\n",
              "    <tr>\n",
              "      <th>0</th>\n",
              "      <td>@VirginAmerica What @dhepburn said.</td>\n",
              "      <td>neutral</td>\n",
              "    </tr>\n",
              "    <tr>\n",
              "      <th>1</th>\n",
              "      <td>@VirginAmerica plus you've added commercials to the experience... tacky.</td>\n",
              "      <td>positive</td>\n",
              "    </tr>\n",
              "    <tr>\n",
              "      <th>2</th>\n",
              "      <td>@VirginAmerica I didn't today... Must mean I need to take another trip!</td>\n",
              "      <td>neutral</td>\n",
              "    </tr>\n",
              "    <tr>\n",
              "      <th>3</th>\n",
              "      <td>@VirginAmerica it's really aggressive to blast obnoxious \"entertainment\" in your guests' faces &amp;amp; they have little recourse</td>\n",
              "      <td>negative</td>\n",
              "    </tr>\n",
              "    <tr>\n",
              "      <th>4</th>\n",
              "      <td>@VirginAmerica and it's a really big bad thing about it</td>\n",
              "      <td>negative</td>\n",
              "    </tr>\n",
              "  </tbody>\n",
              "</table>\n",
              "</div>"
            ],
            "text/plain": [
              "                                                                                                                             text airline_sentiment\n",
              "0                                                                                             @VirginAmerica What @dhepburn said.           neutral\n",
              "1                                                        @VirginAmerica plus you've added commercials to the experience... tacky.          positive\n",
              "2                                                         @VirginAmerica I didn't today... Must mean I need to take another trip!           neutral\n",
              "3  @VirginAmerica it's really aggressive to blast obnoxious \"entertainment\" in your guests' faces &amp; they have little recourse          negative\n",
              "4                                                                         @VirginAmerica and it's a really big bad thing about it          negative"
            ]
          },
          "metadata": {
            "tags": []
          },
          "execution_count": 17
        }
      ]
    },
    {
      "cell_type": "code",
      "metadata": {
        "colab": {
          "base_uri": "https://localhost:8080/"
        },
        "id": "pGj7PkZyMadH",
        "outputId": "a17792bd-c796-4ee8-8af4-f52ff6a9c1dd"
      },
      "source": [
        "# Not very evenly distributed will use SMOTE to upsample later on\n",
        "tweets_df['airline_sentiment'].value_counts()"
      ],
      "execution_count": 19,
      "outputs": [
        {
          "output_type": "execute_result",
          "data": {
            "text/plain": [
              "negative    9178\n",
              "neutral     3099\n",
              "positive    2363\n",
              "Name: airline_sentiment, dtype: int64"
            ]
          },
          "metadata": {
            "tags": []
          },
          "execution_count": 19
        }
      ]
    },
    {
      "cell_type": "code",
      "metadata": {
        "id": "ZjyS9ow16W20"
      },
      "source": [
        "# Function to extract airlines, we could have used the airline column but saw that the Delta rows have VirginAmerica in text and chose to extract from text\n",
        "airline_list = ['@americanair','@jetblue','@southwestair','@united','@usairways','@virginamerica','@deltaassist']\n",
        "def get_Entity(enti):\n",
        "  listToStr =re.findall('@\\w+', enti)\n",
        "  for x in listToStr:\n",
        "    x_lower = x.lower()\n",
        "    if x_lower in airline_list:\n",
        "      clean_list_str = re.sub('@',\"\",x_lower)\n",
        "      return clean_list_str.lower()\n",
        "    "
      ],
      "execution_count": 21,
      "outputs": []
    },
    {
      "cell_type": "code",
      "metadata": {
        "colab": {
          "base_uri": "https://localhost:8080/"
        },
        "id": "IU0WEYO26cXz",
        "outputId": "dd578cca-e4d5-42c3-bd2b-18775fe59f3c"
      },
      "source": [
        "# Creating a new column for company\n",
        "tweets_df['Company'] = tweets_df['text'].apply(lambda x: get_Entity(x))"
      ],
      "execution_count": 22,
      "outputs": [
        {
          "output_type": "stream",
          "text": [
            "/usr/local/lib/python3.7/dist-packages/ipykernel_launcher.py:2: SettingWithCopyWarning: \n",
            "A value is trying to be set on a copy of a slice from a DataFrame.\n",
            "Try using .loc[row_indexer,col_indexer] = value instead\n",
            "\n",
            "See the caveats in the documentation: https://pandas.pydata.org/pandas-docs/stable/user_guide/indexing.html#returning-a-view-versus-a-copy\n",
            "  \n"
          ],
          "name": "stderr"
        }
      ]
    },
    {
      "cell_type": "code",
      "metadata": {
        "colab": {
          "base_uri": "https://localhost:8080/"
        },
        "id": "Z6pT8r06FF4r",
        "outputId": "aed223b2-e416-400c-f9e0-1969f073e184"
      },
      "source": [
        "# Getting unique companies\n",
        "tweets_df['Company'].unique()"
      ],
      "execution_count": 23,
      "outputs": [
        {
          "output_type": "execute_result",
          "data": {
            "text/plain": [
              "array(['virginamerica', 'united', 'southwestair', 'jetblue', None,\n",
              "       'usairways', 'americanair', 'deltaassist'], dtype=object)"
            ]
          },
          "metadata": {
            "tags": []
          },
          "execution_count": 23
        }
      ]
    },
    {
      "cell_type": "code",
      "metadata": {
        "colab": {
          "base_uri": "https://localhost:8080/",
          "height": 204
        },
        "id": "ub8qLWzy_KU9",
        "outputId": "319e62c6-7f5b-497b-838c-5ab9cc99131b"
      },
      "source": [
        "# Displaying top 5 rows\n",
        "tweets_df.head(5)"
      ],
      "execution_count": 24,
      "outputs": [
        {
          "output_type": "execute_result",
          "data": {
            "text/html": [
              "<div>\n",
              "<style scoped>\n",
              "    .dataframe tbody tr th:only-of-type {\n",
              "        vertical-align: middle;\n",
              "    }\n",
              "\n",
              "    .dataframe tbody tr th {\n",
              "        vertical-align: top;\n",
              "    }\n",
              "\n",
              "    .dataframe thead th {\n",
              "        text-align: right;\n",
              "    }\n",
              "</style>\n",
              "<table border=\"1\" class=\"dataframe\">\n",
              "  <thead>\n",
              "    <tr style=\"text-align: right;\">\n",
              "      <th></th>\n",
              "      <th>text</th>\n",
              "      <th>airline_sentiment</th>\n",
              "      <th>Company</th>\n",
              "    </tr>\n",
              "  </thead>\n",
              "  <tbody>\n",
              "    <tr>\n",
              "      <th>0</th>\n",
              "      <td>@VirginAmerica What @dhepburn said.</td>\n",
              "      <td>neutral</td>\n",
              "      <td>virginamerica</td>\n",
              "    </tr>\n",
              "    <tr>\n",
              "      <th>1</th>\n",
              "      <td>@VirginAmerica plus you've added commercials to the experience... tacky.</td>\n",
              "      <td>positive</td>\n",
              "      <td>virginamerica</td>\n",
              "    </tr>\n",
              "    <tr>\n",
              "      <th>2</th>\n",
              "      <td>@VirginAmerica I didn't today... Must mean I need to take another trip!</td>\n",
              "      <td>neutral</td>\n",
              "      <td>virginamerica</td>\n",
              "    </tr>\n",
              "    <tr>\n",
              "      <th>3</th>\n",
              "      <td>@VirginAmerica it's really aggressive to blast obnoxious \"entertainment\" in your guests' faces &amp;amp; they have little recourse</td>\n",
              "      <td>negative</td>\n",
              "      <td>virginamerica</td>\n",
              "    </tr>\n",
              "    <tr>\n",
              "      <th>4</th>\n",
              "      <td>@VirginAmerica and it's a really big bad thing about it</td>\n",
              "      <td>negative</td>\n",
              "      <td>virginamerica</td>\n",
              "    </tr>\n",
              "  </tbody>\n",
              "</table>\n",
              "</div>"
            ],
            "text/plain": [
              "                                                                                                                             text  ...        Company\n",
              "0                                                                                             @VirginAmerica What @dhepburn said.  ...  virginamerica\n",
              "1                                                        @VirginAmerica plus you've added commercials to the experience... tacky.  ...  virginamerica\n",
              "2                                                         @VirginAmerica I didn't today... Must mean I need to take another trip!  ...  virginamerica\n",
              "3  @VirginAmerica it's really aggressive to blast obnoxious \"entertainment\" in your guests' faces &amp; they have little recourse  ...  virginamerica\n",
              "4                                                                         @VirginAmerica and it's a really big bad thing about it  ...  virginamerica\n",
              "\n",
              "[5 rows x 3 columns]"
            ]
          },
          "metadata": {
            "tags": []
          },
          "execution_count": 24
        }
      ]
    },
    {
      "cell_type": "code",
      "metadata": {
        "colab": {
          "base_uri": "https://localhost:8080/",
          "height": 128
        },
        "id": "Sh_Tre3pC2pk",
        "outputId": "f7cd8e61-9921-4e04-898b-47267a35507b"
      },
      "source": [
        "# Two text fields do not have airline info\n",
        "tweets_df[tweets_df['Company'].isna()]"
      ],
      "execution_count": 25,
      "outputs": [
        {
          "output_type": "execute_result",
          "data": {
            "text/html": [
              "<div>\n",
              "<style scoped>\n",
              "    .dataframe tbody tr th:only-of-type {\n",
              "        vertical-align: middle;\n",
              "    }\n",
              "\n",
              "    .dataframe tbody tr th {\n",
              "        vertical-align: top;\n",
              "    }\n",
              "\n",
              "    .dataframe thead th {\n",
              "        text-align: right;\n",
              "    }\n",
              "</style>\n",
              "<table border=\"1\" class=\"dataframe\">\n",
              "  <thead>\n",
              "    <tr style=\"text-align: right;\">\n",
              "      <th></th>\n",
              "      <th>text</th>\n",
              "      <th>airline_sentiment</th>\n",
              "      <th>Company</th>\n",
              "    </tr>\n",
              "  </thead>\n",
              "  <tbody>\n",
              "    <tr>\n",
              "      <th>7330</th>\n",
              "      <td>@shannonwoodward If you want, we can keep you updated on who's wearing who, &amp;amp; who's with who, &amp;amp; who wins what. We're nice like that. ;)</td>\n",
              "      <td>neutral</td>\n",
              "      <td>None</td>\n",
              "    </tr>\n",
              "    <tr>\n",
              "      <th>8215</th>\n",
              "      <td>@NinaDavuluri We think it's a treat to have you onboard! Enjoy your flight. 💙</td>\n",
              "      <td>positive</td>\n",
              "      <td>None</td>\n",
              "    </tr>\n",
              "  </tbody>\n",
              "</table>\n",
              "</div>"
            ],
            "text/plain": [
              "                                                                                                                                                 text  ... Company\n",
              "7330  @shannonwoodward If you want, we can keep you updated on who's wearing who, &amp; who's with who, &amp; who wins what. We're nice like that. ;)  ...    None\n",
              "8215                                                                    @NinaDavuluri We think it's a treat to have you onboard! Enjoy your flight. 💙  ...    None\n",
              "\n",
              "[2 rows x 3 columns]"
            ]
          },
          "metadata": {
            "tags": []
          },
          "execution_count": 25
        }
      ]
    },
    {
      "cell_type": "code",
      "metadata": {
        "colab": {
          "base_uri": "https://localhost:8080/"
        },
        "id": "I9IS2ClEJZ4U",
        "outputId": "aaf3352d-11d2-45fd-e814-4aa400b5dd47"
      },
      "source": [
        "# Looking it up in the original dataframe by index, intersting the airline column shows Delta the text shows jetblue seems the airline column may be wrong\n",
        "print(tweets_csv[\"airline\"].iloc[7330])\n",
        "print(tweets_csv[\"airline\"].iloc[8215])"
      ],
      "execution_count": 26,
      "outputs": [
        {
          "output_type": "stream",
          "text": [
            "Delta\n",
            "Delta\n"
          ],
          "name": "stdout"
        }
      ]
    },
    {
      "cell_type": "code",
      "metadata": {
        "colab": {
          "base_uri": "https://localhost:8080/",
          "height": 669
        },
        "id": "WCUNOx9iEUR6",
        "outputId": "2a6b9986-5f84-4db7-9bbb-bcffb5287b2a"
      },
      "source": [
        "# Count on sentiment by airline\n",
        "grouped_df = tweets_df.groupby([\"Company\", \"airline_sentiment\"]).count()\n",
        "grouped_df.head(100)"
      ],
      "execution_count": 27,
      "outputs": [
        {
          "output_type": "execute_result",
          "data": {
            "text/html": [
              "<div>\n",
              "<style scoped>\n",
              "    .dataframe tbody tr th:only-of-type {\n",
              "        vertical-align: middle;\n",
              "    }\n",
              "\n",
              "    .dataframe tbody tr th {\n",
              "        vertical-align: top;\n",
              "    }\n",
              "\n",
              "    .dataframe thead th {\n",
              "        text-align: right;\n",
              "    }\n",
              "</style>\n",
              "<table border=\"1\" class=\"dataframe\">\n",
              "  <thead>\n",
              "    <tr style=\"text-align: right;\">\n",
              "      <th></th>\n",
              "      <th></th>\n",
              "      <th>text</th>\n",
              "    </tr>\n",
              "    <tr>\n",
              "      <th>Company</th>\n",
              "      <th>airline_sentiment</th>\n",
              "      <th></th>\n",
              "    </tr>\n",
              "  </thead>\n",
              "  <tbody>\n",
              "    <tr>\n",
              "      <th rowspan=\"3\" valign=\"top\">americanair</th>\n",
              "      <th>negative</th>\n",
              "      <td>1960</td>\n",
              "    </tr>\n",
              "    <tr>\n",
              "      <th>neutral</th>\n",
              "      <td>463</td>\n",
              "    </tr>\n",
              "    <tr>\n",
              "      <th>positive</th>\n",
              "      <td>336</td>\n",
              "    </tr>\n",
              "    <tr>\n",
              "      <th>deltaassist</th>\n",
              "      <th>negative</th>\n",
              "      <td>2</td>\n",
              "    </tr>\n",
              "    <tr>\n",
              "      <th rowspan=\"3\" valign=\"top\">jetblue</th>\n",
              "      <th>negative</th>\n",
              "      <td>953</td>\n",
              "    </tr>\n",
              "    <tr>\n",
              "      <th>neutral</th>\n",
              "      <td>722</td>\n",
              "    </tr>\n",
              "    <tr>\n",
              "      <th>positive</th>\n",
              "      <td>543</td>\n",
              "    </tr>\n",
              "    <tr>\n",
              "      <th rowspan=\"3\" valign=\"top\">southwestair</th>\n",
              "      <th>negative</th>\n",
              "      <td>1187</td>\n",
              "    </tr>\n",
              "    <tr>\n",
              "      <th>neutral</th>\n",
              "      <td>664</td>\n",
              "    </tr>\n",
              "    <tr>\n",
              "      <th>positive</th>\n",
              "      <td>570</td>\n",
              "    </tr>\n",
              "    <tr>\n",
              "      <th rowspan=\"3\" valign=\"top\">united</th>\n",
              "      <th>negative</th>\n",
              "      <td>2632</td>\n",
              "    </tr>\n",
              "    <tr>\n",
              "      <th>neutral</th>\n",
              "      <td>697</td>\n",
              "    </tr>\n",
              "    <tr>\n",
              "      <th>positive</th>\n",
              "      <td>492</td>\n",
              "    </tr>\n",
              "    <tr>\n",
              "      <th rowspan=\"3\" valign=\"top\">usairways</th>\n",
              "      <th>negative</th>\n",
              "      <td>2263</td>\n",
              "    </tr>\n",
              "    <tr>\n",
              "      <th>neutral</th>\n",
              "      <td>381</td>\n",
              "    </tr>\n",
              "    <tr>\n",
              "      <th>positive</th>\n",
              "      <td>269</td>\n",
              "    </tr>\n",
              "    <tr>\n",
              "      <th rowspan=\"3\" valign=\"top\">virginamerica</th>\n",
              "      <th>negative</th>\n",
              "      <td>181</td>\n",
              "    </tr>\n",
              "    <tr>\n",
              "      <th>neutral</th>\n",
              "      <td>171</td>\n",
              "    </tr>\n",
              "    <tr>\n",
              "      <th>positive</th>\n",
              "      <td>152</td>\n",
              "    </tr>\n",
              "  </tbody>\n",
              "</table>\n",
              "</div>"
            ],
            "text/plain": [
              "                                 text\n",
              "Company       airline_sentiment      \n",
              "americanair   negative           1960\n",
              "              neutral             463\n",
              "              positive            336\n",
              "deltaassist   negative              2\n",
              "jetblue       negative            953\n",
              "              neutral             722\n",
              "              positive            543\n",
              "southwestair  negative           1187\n",
              "              neutral             664\n",
              "              positive            570\n",
              "united        negative           2632\n",
              "              neutral             697\n",
              "              positive            492\n",
              "usairways     negative           2263\n",
              "              neutral             381\n",
              "              positive            269\n",
              "virginamerica negative            181\n",
              "              neutral             171\n",
              "              positive            152"
            ]
          },
          "metadata": {
            "tags": []
          },
          "execution_count": 27
        }
      ]
    },
    {
      "cell_type": "code",
      "metadata": {
        "colab": {
          "base_uri": "https://localhost:8080/",
          "height": 514
        },
        "id": "RNkeT541YE4h",
        "outputId": "6ba04eae-8772-4a51-fe4e-71a96d5ecb54"
      },
      "source": [
        "# Visualize sentiment count by airline -- United, USairways and Americanair have a lot of negative comments, VirginAmerica is pretty evenly distributed\n",
        "plt.figure(figsize=(12, 8))\n",
        "sns.countplot(x='Company', hue=\"airline_sentiment\", data=tweets_df)"
      ],
      "execution_count": 29,
      "outputs": [
        {
          "output_type": "execute_result",
          "data": {
            "text/plain": [
              "<matplotlib.axes._subplots.AxesSubplot at 0x7fa8a110fb50>"
            ]
          },
          "metadata": {
            "tags": []
          },
          "execution_count": 29
        },
        {
          "output_type": "display_data",
          "data": {
            "image/png": "[encoded data removed]",
            "text/plain": [
              "<Figure size 864x576 with 1 Axes>"
            ]
          },
          "metadata": {
            "tags": [],
            "needs_background": "light"
          }
        }
      ]
    },
    {
      "cell_type": "code",
      "metadata": {
        "id": "m-FdW7xQe8MN"
      },
      "source": [
        "# Function to clean the tweets comments on each section below\n",
        "wordlemmatizer = WordNetLemmatizer()\n",
        "pattern = r'[^a-zA-z.,!?/:;\\\"\\'\\s]'\n",
        "pattern_whitespace = r'^\\s*|\\s\\s*'\n",
        "stoplist = stopwords.words('english')\n",
        "stoplist.remove('not')\n",
        "stoplist.remove('ain')\n",
        "\n",
        "def review_to_words(raw_review):\n",
        "\n",
        "    # Remove HTML\n",
        "    bsoup = BeautifulSoup(raw_review,'html.parser')\n",
        "    no_html = bsoup.get_text() \n",
        "\n",
        "    # Convert emoji into text -- not in instructions but thought it might be fun to do\n",
        "    no_emoji = demoji.replace_with_desc(no_html, sep=' ')\n",
        "   \n",
        "    # Remove company\n",
        "    #no_company = re.sub(r'^@\\w+','', no_html)\n",
        "\n",
        "    # Remove http links\n",
        "    no_links = re.sub(r'http\\S+','', no_emoji)\n",
        "  \n",
        "    # Remove Punctuation\n",
        "    no_punct = \"\".join([c for c in no_links if c not in string.punctuation])\n",
        "   \n",
        "    # Expand Contractions\n",
        "    no_contratictions = contractions.fix(no_punct)\n",
        "    \n",
        "    # Convert to lower case\n",
        "    no_upper = no_contratictions.lower()\n",
        " \n",
        "    # Remove accents\n",
        "    no_accent = unicodedata.normalize('NFKD', no_upper).encode('ascii', 'ignore').decode('utf-8', 'ignore')\n",
        "  \n",
        "    # Removing special characters and numbers\n",
        "    no_special = re.sub(pattern, '', no_accent)\n",
        "  \n",
        "    # Removing white space and tabs\n",
        "    #no_space = re.sub(pattern_whitespace, ' ', no_special).strip()\n",
        "\n",
        "    # Remove aa or one a \n",
        "    no_aa = re.sub(r'aa\\s', '', no_special)\n",
        "    no_aa = re.sub(r'aa', 'a', no_aa)\n",
        "   \n",
        "    # Tokenize\n",
        "    no_token = word_tokenize(no_aa)\n",
        "   \n",
        "    # Remove Stopwords\n",
        "    no_stop = [x for x in no_token if x not in stoplist]\n",
        "   \n",
        "    # Lemmatize\n",
        "    no_lem = [lemma(wd) for wd in no_stop]\n",
        " \n",
        "    # Joining it all back together to text\n",
        "    return_value = \" \".join(no_lem)\n",
        "\n",
        "    return  return_value     \n",
        "   \n",
        "  "
      ],
      "execution_count": 37,
      "outputs": []
    },
    {
      "cell_type": "code",
      "metadata": {
        "colab": {
          "base_uri": "https://localhost:8080/",
          "height": 411
        },
        "id": "QoZt2UXL67iv",
        "outputId": "61b7c474-d959-4421-81b5-7ad20dbd4bb3"
      },
      "source": [
        "# Calling the cleaning function per tweet row\n",
        "tweets_df.drop(['Company'], axis=1, inplace=True)\n",
        "tweets_df['text'] = tweets_df['text'].apply(lambda x: review_to_words(x))\n",
        "tweets_df.head() "
      ],
      "execution_count": 39,
      "outputs": [
        {
          "output_type": "stream",
          "text": [
            "/usr/local/lib/python3.7/dist-packages/pandas/core/frame.py:4174: SettingWithCopyWarning: \n",
            "A value is trying to be set on a copy of a slice from a DataFrame\n",
            "\n",
            "See the caveats in the documentation: https://pandas.pydata.org/pandas-docs/stable/user_guide/indexing.html#returning-a-view-versus-a-copy\n",
            "  errors=errors,\n",
            "/usr/local/lib/python3.7/dist-packages/ipykernel_launcher.py:3: SettingWithCopyWarning: \n",
            "A value is trying to be set on a copy of a slice from a DataFrame.\n",
            "Try using .loc[row_indexer,col_indexer] = value instead\n",
            "\n",
            "See the caveats in the documentation: https://pandas.pydata.org/pandas-docs/stable/user_guide/indexing.html#returning-a-view-versus-a-copy\n",
            "  This is separate from the ipykernel package so we can avoid doing imports until\n"
          ],
          "name": "stderr"
        },
        {
          "output_type": "execute_result",
          "data": {
            "text/html": [
              "<div>\n",
              "<style scoped>\n",
              "    .dataframe tbody tr th:only-of-type {\n",
              "        vertical-align: middle;\n",
              "    }\n",
              "\n",
              "    .dataframe tbody tr th {\n",
              "        vertical-align: top;\n",
              "    }\n",
              "\n",
              "    .dataframe thead th {\n",
              "        text-align: right;\n",
              "    }\n",
              "</style>\n",
              "<table border=\"1\" class=\"dataframe\">\n",
              "  <thead>\n",
              "    <tr style=\"text-align: right;\">\n",
              "      <th></th>\n",
              "      <th>text</th>\n",
              "      <th>airline_sentiment</th>\n",
              "    </tr>\n",
              "  </thead>\n",
              "  <tbody>\n",
              "    <tr>\n",
              "      <th>0</th>\n",
              "      <td>virginamerica dhepburn say</td>\n",
              "      <td>neutral</td>\n",
              "    </tr>\n",
              "    <tr>\n",
              "      <th>1</th>\n",
              "      <td>virginamerica plu add commercial experience tacky</td>\n",
              "      <td>positive</td>\n",
              "    </tr>\n",
              "    <tr>\n",
              "      <th>2</th>\n",
              "      <td>virginamerica not today must mean need take another trip</td>\n",
              "      <td>neutral</td>\n",
              "    </tr>\n",
              "    <tr>\n",
              "      <th>3</th>\n",
              "      <td>virginamerica really aggressive blast obnoxiou entertainment guest face little recourse</td>\n",
              "      <td>negative</td>\n",
              "    </tr>\n",
              "    <tr>\n",
              "      <th>4</th>\n",
              "      <td>virginamerica really big bad thing</td>\n",
              "      <td>negative</td>\n",
              "    </tr>\n",
              "  </tbody>\n",
              "</table>\n",
              "</div>"
            ],
            "text/plain": [
              "                                                                                      text airline_sentiment\n",
              "0                                                               virginamerica dhepburn say           neutral\n",
              "1                                        virginamerica plu add commercial experience tacky          positive\n",
              "2                                 virginamerica not today must mean need take another trip           neutral\n",
              "3  virginamerica really aggressive blast obnoxiou entertainment guest face little recourse          negative\n",
              "4                                                       virginamerica really big bad thing          negative"
            ]
          },
          "metadata": {
            "tags": []
          },
          "execution_count": 39
        }
      ]
    },
    {
      "cell_type": "code",
      "metadata": {
        "id": "9f9X9phl3d1E"
      },
      "source": [
        "# Saving the result to examine\n",
        "tweets_df.to_html(\"/content/drive/My Drive/NLP/test.html\")"
      ],
      "execution_count": 41,
      "outputs": []
    },
    {
      "cell_type": "code",
      "metadata": {
        "id": "Q70_0by32XT_"
      },
      "source": [
        "# Creating a list of words\n",
        "num_reviews = tweets_df[\"text\"].size\n",
        "clean_tweets = []\n",
        "for i in range( 0, num_reviews ):\n",
        "   clean_tweets.append(tweets_df[\"text\"][i]) "
      ],
      "execution_count": 43,
      "outputs": []
    },
    {
      "cell_type": "code",
      "metadata": {
        "id": "bQfFWx9zJGvs"
      },
      "source": [
        "# Creating the Term Frequency count Vectorizer\n",
        "vectorizer = CountVectorizer(analyzer = \"word\", tokenizer = None, preprocessor = None, stop_words = None, max_features = 1000, ngram_range=(1,2))\n",
        "train_data_features = vectorizer.fit_transform(clean_tweets)\n",
        "train_data_features = train_data_features.toarray()"
      ],
      "execution_count": 44,
      "outputs": []
    },
    {
      "cell_type": "code",
      "metadata": {
        "colab": {
          "base_uri": "https://localhost:8080/"
        },
        "id": "yuaX0SEGJGhm",
        "outputId": "49c32290-3357-47b7-8613-21c3f90c2e4f"
      },
      "source": [
        "# Words in the vocabulary\n",
        "vocab = vectorizer.get_feature_names()\n",
        "print (vocab)"
      ],
      "execution_count": 45,
      "outputs": [
        {
          "output_type": "stream",
          "text": [
            "['able', 'able get', 'absolutely', 'accept', 'access', 'accommodate', 'account', 'actually', 'add', 'address', 'advantage', 'afternoon', 'agent', 'ago', 'air', 'aircraft', 'airline', 'airline ever', 'airplane', 'airport', 'airway', 'allow', 'almost', 'almost hour', 'already', 'also', 'alway', 'amaze', 'american', 'americanair', 'americanair call', 'americanair cancel', 'americanair flight', 'americanair get', 'americanair need', 'americanair not', 'americanair please', 'americanair thank', 'americanair try', 'americanair usairway', 'americanair ye', 'americanairline', 'angry', 'announce', 'another', 'another airline', 'another flight', 'answer', 'answer phone', 'anymore', 'anyone', 'anythe', 'anyway', 'anywhere', 'apology', 'app', 'apparently', 'apply', 'appreciate', 'area', 'around', 'arrival', 'arrive', 'ask', 'assist', 'assistance', 'atl', 'atlanta', 'attempt', 'attendant', 'attitude', 'austin', 'automate', 'available', 'award', 'away', 'awesome', 'awful', 'baby', 'back', 'bad', 'bad weather', 'bag', 'bag not', 'baggage', 'baggage claim', 'bc', 'behind', 'believe', 'best', 'better', 'beyond', 'big', 'birthday', 'bit', 'blame', 'blue', 'bna', 'bo', 'board', 'board pass', 'book', 'book flight', 'book problem', 'boston', 'break', 'bring', 'bump', 'busine', 'busy', 'buy', 'bwi', 'cabin', 'call', 'call back', 'call customer', 'call not', 'cancel', 'cancel flight', 'cancel flightlation', 'cancel flightle', 'car', 'card', 'care', 'carry', 'case', 'catch', 'ceo', 'chance', 'change', 'change flight', 'charge', 'charlotte', 'check', 'check bag', 'checkin', 'chicago', 'child', 'choice', 'choose', 'city', 'claim', 'clap', 'clap hand', 'class', 'clear', 'close', 'clothe', 'clt', 'club', 'code', 'cold', 'come', 'communication', 'companion', 'company', 'compensate', 'compensation', 'complaint', 'complete', 'completely', 'computer', 'concern', 'conf', 'confirm', 'confirmation', 'connect', 'connect flight', 'connection', 'consider', 'contact', 'continue', 'control', 'cool', 'correct', 'cost', 'count', 'counter', 'country', 'course', 'cover', 'crazy', 'credit', 'credit card', 'crew', 'cross', 'cry', 'cry face', 'currently', 'cust', 'customer', 'customer relation', 'customer service', 'customerservice', 'cut', 'dalla', 'date', 'daughter', 'day', 'dc', 'dca', 'deal', 'delay', 'delay cancel', 'delay due', 'delay flight', 'delay hour', 'delay not', 'deliver', 'delta', 'den', 'denver', 'depart', 'departure', 'deserve', 'desk', 'despite', 'destination', 'destinationdragon', 'detail', 'dfw', 'different', 'direct', 'direct flight', 'disappoint', 'disconnect', 'dividend', 'dividend mile', 'dm', 'door', 'drink', 'drive', 'drop', 'due', 'due weather', 'earlier', 'earlier flight', 'early', 'easy', 'either', 'else', 'email', 'email address', 'employee', 'empty', 'end', 'enjoy', 'enough', 'entire', 'error', 'even', 'even though', 'ever', 'every', 'every time', 'everyone', 'everythe', 'ewr', 'excellent', 'excite', 'excuse', 'expect', 'experience', 'experience ever', 'expire', 'explain', 'explanation', 'extra', 'extremely', 'eye', 'face', 'face smile', 'face tear', 'fact', 'fail', 'family', 'far', 'fare', 'fault', 'feb', 'fee', 'feed', 'feedback', 'feel', 'feel like', 'figure', 'file', 'fill', 'finally', 'finally get', 'find', 'fine', 'first', 'first class', 'first time', 'fix', 'fl', 'fleek', 'fleet', 'fleet fleek', 'flight', 'flight attendant', 'flight book', 'flight cancel', 'flight change', 'flight crew', 'flight delay', 'flight dfw', 'flight flight', 'flight get', 'flight go', 'flight hour', 'flight leave', 'flight not', 'flight still', 'flight time', 'flight today', 'flight tomorrow', 'flightlation', 'flightle', 'flightle flight', 'flightr', 'fll', 'flt', 'fly', 'fly guy', 'fly unite', 'flyer', 'fold', 'fold hand', 'folk', 'follow', 'follow dm', 'food', 'force', 'forget', 'form', 'forward', 'four', 'free', 'freeze', 'friday', 'friend', 'friendly', 'front', 'frustrate', 'fuck', 'full', 'fun', 'future', 'gate', 'gate agent', 'get', 'get back', 'get bag', 'get call', 'get cancel', 'get email', 'get flight', 'get gate', 'get home', 'get plane', 'give', 'glad', 'go', 'go miss', 'gold', 'good', 'great', 'great flight', 'great job', 'grin', 'grin face', 'grind', 'group', 'guess', 'guy', 'haha', 'half', 'hand', 'hand fold', 'handle', 'hang', 'happen', 'happy', 'hard', 'hate', 'head', 'hear', 'heart', 'hello', 'help', 'help get', 'helpful', 'hey', 'hi', 'high', 'hire', 'hold', 'hold hour', 'hold hr', 'hold min', 'hold minute', 'home', 'hope', 'hopefully', 'horrible', 'hotel', 'hour', 'hour ago', 'hour delay', 'hour flight', 'hour hold', 'hour late', 'hour wait', 'houston', 'however', 'hr', 'hr delay', 'hr late', 'huge', 'human', 'husband', 'iad', 'iah', 'ice', 'id', 'idea', 'ill', 'imaginedragon', 'include', 'inconvenience', 'inflight', 'info', 'information', 'instead', 'international', 'issue', 'item', 'itinerary', 'jet', 'jet blue', 'jetblue', 'jetblue fleet', 'jetblue flight', 'jetblue get', 'jetblue not', 'jetblue thank', 'jetblue would', 'jfk', 'job', 'joke', 'joy', 'joy face', 'keep', 'keep get', 'kid', 'kind', 'know', 'kudo', 'la', 'lack', 'lady', 'land', 'last', 'last night', 'last time', 'late', 'late flight', 'late flightr', 'lax', 'layover', 'le', 'learn', 'least', 'leave', 'left', 'leg', 'let', 'let know', 'letter', 'lga', 'lie', 'life', 'like', 'line', 'link', 'list', 'listen', 'literally', 'little', 'live', 'load', 'lol', 'long', 'longer', 'look', 'look forward', 'look like', 'lose', 'lose bag', 'lose luggage', 'lot', 'loudly', 'loudly cry', 'lounge', 'love', 'loyal', 'luck', 'luggage', 'maintenance', 'make', 'make flight', 'make sure', 'man', 'many', 'matter', 'may', 'maybe', 'mco', 'meal', 'mean', 'mechanical', 'mechanical issue', 'media', 'meet', 'member', 'mention', 'mess', 'message', 'mia', 'miami', 'middle', 'might', 'mile', 'mileage', 'min', 'mind', 'mine', 'minute', 'minute hold', 'miss', 'miss connection', 'miss flight', 'mistake', 'mobile', 'mom', 'monday', 'money', 'month', 'morn', 'move', 'much', 'multiple', 'must', 'name', 'nashville', 'nd', 'need', 'need change', 'need get', 'need help', 'never', 'never fly', 'never get', 'neveragain', 'new', 'new flight', 'newark', 'next', 'next flight', 'next time', 'nice', 'night', 'non', 'nonstop', 'nope', 'not', 'not able', 'not allow', 'not believe', 'not book', 'not cancel', 'not care', 'not even', 'not find', 'not fly', 'not get', 'not give', 'not go', 'not good', 'not happy', 'not help', 'not know', 'not let', 'not make', 'not need', 'not see', 'not sure', 'not take', 'not think', 'not wait', 'not want', 'not work', 'note', 'nothe', 'notice', 'notification', 'notify', 'number', 'ny', 'nyc', 'offer', 'office', 'oh', 'ok', 'okay', 'old', 'one', 'online', 'open', 'option', 'ord', 'order', 'original', 'orlando', 'oscar', 'overhead', 'overnight', 'page', 'paid', 'part', 'party', 'pass', 'passbook', 'passenger', 'past', 'pay', 'people', 'person', 'philly', 'phl', 'phone', 'phone number', 'phx', 'pick', 'pilot', 'pl', 'place', 'plan', 'plane', 'plane not', 'platinum', 'play', 'please', 'please help', 'plu', 'plz', 'pm', 'point', 'policy', 'poor', 'possible', 'post', 'pout', 'pout face', 'ppl', 'prefer', 'pretty', 'price', 'priority', 'probably', 'problem', 'process', 'promise', 'provide', 'pull', 'purchase', 'push', 'put', 'question', 'quick', 'rate', 'rather', 'rd', 'rdu', 'reach', 'read', 'ready', 'real', 'really', 'reason', 'rebook', 'rebook flight', 'receipt', 'receive', 'record', 'red', 'red heart', 'reflight', 'reflight book', 'refund', 'refuse', 'relation', 'rep', 'reply', 'report', 'request', 'reroute', 'reschedule', 'reschedule flight', 'reservation', 'resolve', 'respond', 'response', 'return', 'ride', 'ridiculou', 'right', 'rock', 'room', 'round', 'route', 'row', 'rt', 'rt jetblue', 'rude', 'ruin', 'run', 'runway', 'sad', 'safety', 'san', 'saturday', 'save', 'say', 'say not', 'schedule', 'screw', 'seat', 'second', 'see', 'seem', 'select', 'sell', 'send', 'send dm', 'sense', 'seriously', 'serve', 'service', 'service ever', 'set', 'several', 'sfo', 'share', 'shit', 'short', 'show', 'sign', 'since', 'sit', 'sit plane', 'site', 'situation', 'sleep', 'small', 'smile', 'smile eye', 'smile face', 'snow', 'social', 'someone', 'somethe', 'son', 'soon', 'soon possible', 'sorry', 'sort', 'sound', 'southwest', 'southwestair', 'southwestair flight', 'southwestair get', 'southwestair hold', 'southwestair love', 'southwestair not', 'southwestair please', 'southwestair thank', 'southwestair try', 'southwestair would', 'southwestair ye', 'space', 'speak', 'speak someone', 'spend', 'st', 'st class', 'staff', 'stand', 'standby', 'start', 'state', 'statu', 'stay', 'step', 'stick', 'still', 'still not', 'still wait', 'stop', 'storm', 'story', 'strand', 'submit', 'suck', 'sunday', 'super', 'supervisor', 'support', 'suppose', 'sure', 'surprise', 'sw', 'swa', 'switch', 'system', 'tag', 'take', 'take care', 'talk', 'tarmac', 'team', 'tear', 'tear joy', 'tell', 'tell not', 'terminal', 'terrible', 'text', 'th', 'thank', 'thank help', 'thank make', 'thank much', 'thank reply', 'thing', 'think', 'though', 'three', 'thru', 'thumb', 'thx', 'ticket', 'time', 'time fly', 'tire', 'tix', 'today', 'together', 'tomorrow', 'tomorrow morn', 'tonight', 'top', 'totally', 'track', 'train', 'transfer', 'travel', 'travele', 'traveler', 'treat', 'trip', 'trouble', 'true', 'try', 'try book', 'try call', 'try get', 'tsa', 'tuesday', 'turn', 'tv', 'tweet', 'twice', 'twitter', 'two', 'two day', 'two hour', 'ua', 'unable', 'unacceptable', 'understand', 'unfortunately', 'unite', 'unite airline', 'unite cancel', 'unite flight', 'unite get', 'unite need', 'unite not', 'unite please', 'unite send', 'unite thank', 'unite try', 'unite ua', 'unite worst', 'unite would', 'unite ye', 'unitedairline', 'update', 'upgrade', 'upset', 'ur', 'usair', 'usairway', 'usairway americanair', 'usairway call', 'usairway cancel', 'usairway flight', 'usairway get', 'usairway hold', 'usairway hour', 'usairway need', 'usairway not', 'usairway please', 'usairway tell', 'usairway thank', 'usairway try', 'usairway worst', 'usairway would', 'usairway ye', 'usairwaysfail', 'use', 'used', 'vacation', 'vega', 'via', 'virgin', 'virginamerica', 'virginamerica thank', 'voucher', 'wait', 'wait bag', 'wait hour', 'wait min', 'wait time', 'walk', 'wall', 'want', 'waste', 'watch', 'water', 'way', 'way get', 'weather', 'web', 'website', 'wed', 'week', 'weekend', 'well', 'whole', 'wife', 'wifi', 'win', 'window', 'wink', 'wink face', 'winter', 'wish', 'without', 'wo', 'wonder', 'wonderful', 'word', 'work', 'world', 'worry', 'worse', 'worst', 'worst airline', 'worst customer', 'worth', 'would', 'would like', 'would love', 'would nice', 'would not', 'wow', 'write', 'wrong', 'wtf', 'ye', 'yeah', 'year', 'yesterday', 'yet', 'yr', 'zero']\n"
          ],
          "name": "stdout"
        }
      ]
    },
    {
      "cell_type": "code",
      "metadata": {
        "colab": {
          "base_uri": "https://localhost:8080/"
        },
        "id": "qebCYwK6GuFO",
        "outputId": "09537173-1664-44b2-cb2b-0babcb426c55"
      },
      "source": [
        "# Sum up the counts of each vocabulary word stopped at count of 12 to save processing time\n",
        "dist = np.sum(train_data_features, axis=0)\n",
        "for tag, count in zip(vocab, dist):\n",
        "    print (count, tag)\n",
        "    if count == 53:\n",
        "      break"
      ],
      "execution_count": 46,
      "outputs": [
        {
          "output_type": "stream",
          "text": [
            "121 able\n",
            "27 able get\n",
            "30 absolutely\n",
            "32 accept\n",
            "39 access\n",
            "26 accommodate\n",
            "80 account\n",
            "86 actually\n",
            "126 add\n",
            "54 address\n",
            "26 advantage\n",
            "30 afternoon\n",
            "416 agent\n",
            "130 ago\n",
            "141 air\n",
            "33 aircraft\n",
            "553 airline\n",
            "33 airline ever\n",
            "84 airplane\n",
            "366 airport\n",
            "89 airway\n",
            "88 allow\n",
            "95 almost\n",
            "26 almost hour\n",
            "179 already\n",
            "133 also\n",
            "109 alway\n",
            "102 amaze\n",
            "79 american\n",
            "2958 americanair\n",
            "27 americanair call\n",
            "41 americanair cancel\n",
            "131 americanair flight\n",
            "46 americanair get\n",
            "37 americanair need\n",
            "164 americanair not\n",
            "29 americanair please\n",
            "161 americanair thank\n",
            "63 americanair try\n",
            "28 americanair usairway\n",
            "39 americanair ye\n",
            "28 americanairline\n",
            "26 angry\n",
            "29 announce\n",
            "272 another\n",
            "28 another airline\n",
            "46 another flight\n",
            "189 answer\n",
            "44 answer phone\n",
            "27 anymore\n",
            "114 anyone\n",
            "135 anythe\n",
            "29 anyway\n",
            "27 anywhere\n",
            "65 apology\n",
            "113 app\n",
            "38 apparently\n",
            "30 apply\n",
            "159 appreciate\n",
            "30 area\n",
            "63 around\n",
            "34 arrival\n",
            "154 arrive\n",
            "165 ask\n",
            "27 assist\n",
            "53 assistance\n"
          ],
          "name": "stdout"
        }
      ]
    },
    {
      "cell_type": "code",
      "metadata": {
        "id": "Uf0w87z4nTgG",
        "colab": {
          "base_uri": "https://localhost:8080/"
        },
        "outputId": "cf203bdd-daa0-4721-b383-6caaf2e5990c"
      },
      "source": [
        "# Creating training and testing set\n",
        "le = LabelEncoder()\n",
        "tweets_df['encoded'] = le.fit_transform(tweets_df['airline_sentiment'])\n",
        "Y = tweets_df['encoded']\n",
        "XC_train, XC_test, yc_train, yc_test = train_test_split(train_data_features, Y, test_size=0.3, random_state=0, stratify=Y) "
      ],
      "execution_count": 47,
      "outputs": [
        {
          "output_type": "stream",
          "text": [
            "/usr/local/lib/python3.7/dist-packages/ipykernel_launcher.py:3: SettingWithCopyWarning: \n",
            "A value is trying to be set on a copy of a slice from a DataFrame.\n",
            "Try using .loc[row_indexer,col_indexer] = value instead\n",
            "\n",
            "See the caveats in the documentation: https://pandas.pydata.org/pandas-docs/stable/user_guide/indexing.html#returning-a-view-versus-a-copy\n",
            "  This is separate from the ipykernel package so we can avoid doing imports until\n"
          ],
          "name": "stderr"
        }
      ]
    },
    {
      "cell_type": "code",
      "metadata": {
        "colab": {
          "base_uri": "https://localhost:8080/"
        },
        "id": "6YARFvYBDsnr",
        "outputId": "f379a07b-aa6e-4adc-a23a-59efdcfd84c0"
      },
      "source": [
        "oversample = SMOTE()\n",
        "XC_train, yc_train = oversample.fit_resample(XC_train, yc_train)  \n"
      ],
      "execution_count": 48,
      "outputs": [
        {
          "output_type": "stream",
          "text": [
            "/usr/local/lib/python3.7/dist-packages/sklearn/utils/deprecation.py:87: FutureWarning: Function safe_indexing is deprecated; safe_indexing is deprecated in version 0.22 and will be removed in version 0.24.\n",
            "  warnings.warn(msg, category=FutureWarning)\n",
            "/usr/local/lib/python3.7/dist-packages/sklearn/utils/deprecation.py:87: FutureWarning: Function safe_indexing is deprecated; safe_indexing is deprecated in version 0.22 and will be removed in version 0.24.\n",
            "  warnings.warn(msg, category=FutureWarning)\n"
          ],
          "name": "stderr"
        }
      ]
    },
    {
      "cell_type": "code",
      "metadata": {
        "colab": {
          "base_uri": "https://localhost:8080/"
        },
        "id": "H2PlHUcIGbwx",
        "outputId": "ca4dff67-a121-4b30-a543-8acfe6c10bb2"
      },
      "source": [
        "from collections import Counter\n",
        "counter = Counter(yc_train)\n",
        "print(counter)"
      ],
      "execution_count": 49,
      "outputs": [
        {
          "output_type": "stream",
          "text": [
            "Counter({2: 6425, 0: 6425, 1: 6425})\n"
          ],
          "name": "stdout"
        }
      ]
    },
    {
      "cell_type": "code",
      "metadata": {
        "colab": {
          "base_uri": "https://localhost:8080/"
        },
        "id": "uW25QpUIJGUH",
        "outputId": "3572e631-fe06-49d6-8ac7-d9941cb4c312"
      },
      "source": [
        "# Initialize a Random Forest classifier with 100 trees\n",
        "forest = RandomForestClassifier(verbose=2,n_jobs=1,n_estimators = 100, criterion='gini') \n",
        "print (\"Training the random forest...\")\n",
        "forest = forest.fit( XC_train, yc_train )\n",
        "print (forest)\n",
        "# Printing score\n",
        "print (np.mean(cross_val_score(forest,XC_train,yc_train,cv=10)))"
      ],
      "execution_count": 50,
      "outputs": [
        {
          "output_type": "stream",
          "text": [
            "Training the random forest...\n"
          ],
          "name": "stdout"
        },
        {
          "output_type": "stream",
          "text": [
            "[Parallel(n_jobs=1)]: Using backend SequentialBackend with 1 concurrent workers.\n"
          ],
          "name": "stderr"
        },
        {
          "output_type": "stream",
          "text": [
            "building tree 1 of 100\n"
          ],
          "name": "stdout"
        },
        {
          "output_type": "stream",
          "text": [
            "[Parallel(n_jobs=1)]: Done   1 out of   1 | elapsed:    0.2s remaining:    0.0s\n"
          ],
          "name": "stderr"
        },
        {
          "output_type": "stream",
          "text": [
            "building tree 2 of 100\n",
            "building tree 3 of 100\n",
            "building tree 4 of 100\n",
            "building tree 5 of 100\n",
            "building tree 6 of 100\n",
            "building tree 7 of 100\n",
            "building tree 8 of 100\n",
            "building tree 9 of 100\n",
            "building tree 10 of 100\n",
            "building tree 11 of 100\n",
            "building tree 12 of 100\n",
            "building tree 13 of 100\n",
            "building tree 14 of 100\n",
            "building tree 15 of 100\n",
            "building tree 16 of 100\n",
            "building tree 17 of 100\n",
            "building tree 18 of 100\n",
            "building tree 19 of 100\n",
            "building tree 20 of 100\n",
            "building tree 21 of 100\n",
            "building tree 22 of 100\n",
            "building tree 23 of 100\n",
            "building tree 24 of 100\n",
            "building tree 25 of 100\n",
            "building tree 26 of 100\n",
            "building tree 27 of 100\n",
            "building tree 28 of 100\n",
            "building tree 29 of 100\n",
            "building tree 30 of 100\n",
            "building tree 31 of 100\n",
            "building tree 32 of 100\n",
            "building tree 33 of 100\n",
            "building tree 34 of 100\n",
            "building tree 35 of 100\n",
            "building tree 36 of 100\n",
            "building tree 37 of 100\n",
            "building tree 38 of 100\n",
            "building tree 39 of 100\n",
            "building tree 40 of 100\n",
            "building tree 41 of 100\n",
            "building tree 42 of 100\n",
            "building tree 43 of 100\n",
            "building tree 44 of 100\n",
            "building tree 45 of 100\n",
            "building tree 46 of 100\n",
            "building tree 47 of 100\n",
            "building tree 48 of 100\n",
            "building tree 49 of 100\n",
            "building tree 50 of 100\n",
            "building tree 51 of 100\n",
            "building tree 52 of 100\n",
            "building tree 53 of 100\n",
            "building tree 54 of 100\n",
            "building tree 55 of 100\n",
            "building tree 56 of 100\n",
            "building tree 57 of 100\n",
            "building tree 58 of 100\n",
            "building tree 59 of 100\n",
            "building tree 60 of 100\n",
            "building tree 61 of 100\n",
            "building tree 62 of 100\n",
            "building tree 63 of 100\n",
            "building tree 64 of 100\n",
            "building tree 65 of 100\n",
            "building tree 66 of 100\n",
            "building tree 67 of 100\n",
            "building tree 68 of 100\n",
            "building tree 69 of 100\n",
            "building tree 70 of 100\n",
            "building tree 71 of 100\n",
            "building tree 72 of 100\n",
            "building tree 73 of 100\n",
            "building tree 74 of 100\n",
            "building tree 75 of 100\n",
            "building tree 76 of 100\n",
            "building tree 77 of 100\n",
            "building tree 78 of 100\n",
            "building tree 79 of 100\n",
            "building tree 80 of 100\n",
            "building tree 81 of 100\n",
            "building tree 82 of 100\n",
            "building tree 83 of 100\n",
            "building tree 84 of 100\n",
            "building tree 85 of 100\n",
            "building tree 86 of 100\n",
            "building tree 87 of 100\n",
            "building tree 88 of 100\n",
            "building tree 89 of 100\n",
            "building tree 90 of 100\n",
            "building tree 91 of 100\n",
            "building tree 92 of 100\n",
            "building tree 93 of 100\n",
            "building tree 94 of 100\n",
            "building tree 95 of 100\n",
            "building tree 96 of 100\n",
            "building tree 97 of 100\n",
            "building tree 98 of 100\n",
            "building tree 99 of 100\n",
            "building tree 100 of 100\n"
          ],
          "name": "stdout"
        },
        {
          "output_type": "stream",
          "text": [
            "[Parallel(n_jobs=1)]: Done 100 out of 100 | elapsed:   21.9s finished\n"
          ],
          "name": "stderr"
        },
        {
          "output_type": "stream",
          "text": [
            "RandomForestClassifier(bootstrap=True, ccp_alpha=0.0, class_weight=None,\n",
            "                       criterion='gini', max_depth=None, max_features='auto',\n",
            "                       max_leaf_nodes=None, max_samples=None,\n",
            "                       min_impurity_decrease=0.0, min_impurity_split=None,\n",
            "                       min_samples_leaf=1, min_samples_split=2,\n",
            "                       min_weight_fraction_leaf=0.0, n_estimators=100, n_jobs=1,\n",
            "                       oob_score=False, random_state=None, verbose=2,\n",
            "                       warm_start=False)\n"
          ],
          "name": "stdout"
        },
        {
          "output_type": "stream",
          "text": [
            "[Parallel(n_jobs=1)]: Using backend SequentialBackend with 1 concurrent workers.\n"
          ],
          "name": "stderr"
        },
        {
          "output_type": "stream",
          "text": [
            "building tree 1 of 100\n"
          ],
          "name": "stdout"
        },
        {
          "output_type": "stream",
          "text": [
            "[Parallel(n_jobs=1)]: Done   1 out of   1 | elapsed:    0.2s remaining:    0.0s\n"
          ],
          "name": "stderr"
        },
        {
          "output_type": "stream",
          "text": [
            "building tree 2 of 100\n",
            "building tree 3 of 100\n",
            "building tree 4 of 100\n",
            "building tree 5 of 100\n",
            "building tree 6 of 100\n",
            "building tree 7 of 100\n",
            "building tree 8 of 100\n",
            "building tree 9 of 100\n",
            "building tree 10 of 100\n",
            "building tree 11 of 100\n",
            "building tree 12 of 100\n",
            "building tree 13 of 100\n",
            "building tree 14 of 100\n",
            "building tree 15 of 100\n",
            "building tree 16 of 100\n",
            "building tree 17 of 100\n",
            "building tree 18 of 100\n",
            "building tree 19 of 100\n",
            "building tree 20 of 100\n",
            "building tree 21 of 100\n",
            "building tree 22 of 100\n",
            "building tree 23 of 100\n",
            "building tree 24 of 100\n",
            "building tree 25 of 100\n",
            "building tree 26 of 100\n",
            "building tree 27 of 100\n",
            "building tree 28 of 100\n",
            "building tree 29 of 100\n",
            "building tree 30 of 100\n",
            "building tree 31 of 100\n",
            "building tree 32 of 100\n",
            "building tree 33 of 100\n",
            "building tree 34 of 100\n",
            "building tree 35 of 100\n",
            "building tree 36 of 100\n",
            "building tree 37 of 100\n",
            "building tree 38 of 100\n",
            "building tree 39 of 100\n",
            "building tree 40 of 100\n",
            "building tree 41 of 100\n",
            "building tree 42 of 100\n",
            "building tree 43 of 100\n",
            "building tree 44 of 100\n",
            "building tree 45 of 100\n",
            "building tree 46 of 100\n",
            "building tree 47 of 100\n",
            "building tree 48 of 100\n",
            "building tree 49 of 100\n",
            "building tree 50 of 100\n",
            "building tree 51 of 100\n",
            "building tree 52 of 100\n",
            "building tree 53 of 100\n",
            "building tree 54 of 100\n",
            "building tree 55 of 100\n",
            "building tree 56 of 100\n",
            "building tree 57 of 100\n",
            "building tree 58 of 100\n",
            "building tree 59 of 100\n",
            "building tree 60 of 100\n",
            "building tree 61 of 100\n",
            "building tree 62 of 100\n",
            "building tree 63 of 100\n",
            "building tree 64 of 100\n",
            "building tree 65 of 100\n",
            "building tree 66 of 100\n",
            "building tree 67 of 100\n",
            "building tree 68 of 100\n",
            "building tree 69 of 100\n",
            "building tree 70 of 100\n",
            "building tree 71 of 100\n",
            "building tree 72 of 100\n",
            "building tree 73 of 100\n",
            "building tree 74 of 100\n",
            "building tree 75 of 100\n",
            "building tree 76 of 100\n",
            "building tree 77 of 100\n",
            "building tree 78 of 100\n",
            "building tree 79 of 100\n",
            "building tree 80 of 100\n",
            "building tree 81 of 100\n",
            "building tree 82 of 100\n",
            "building tree 83 of 100\n",
            "building tree 84 of 100\n",
            "building tree 85 of 100\n",
            "building tree 86 of 100\n",
            "building tree 87 of 100\n",
            "building tree 88 of 100\n",
            "building tree 89 of 100\n",
            "building tree 90 of 100\n",
            "building tree 91 of 100\n",
            "building tree 92 of 100\n",
            "building tree 93 of 100\n",
            "building tree 94 of 100\n",
            "building tree 95 of 100\n",
            "building tree 96 of 100\n",
            "building tree 97 of 100\n",
            "building tree 98 of 100\n",
            "building tree 99 of 100\n",
            "building tree 100 of 100\n"
          ],
          "name": "stdout"
        },
        {
          "output_type": "stream",
          "text": [
            "[Parallel(n_jobs=1)]: Done 100 out of 100 | elapsed:   19.3s finished\n",
            "[Parallel(n_jobs=1)]: Using backend SequentialBackend with 1 concurrent workers.\n",
            "[Parallel(n_jobs=1)]: Done   1 out of   1 | elapsed:    0.0s remaining:    0.0s\n",
            "[Parallel(n_jobs=1)]: Done 100 out of 100 | elapsed:    0.1s finished\n",
            "[Parallel(n_jobs=1)]: Using backend SequentialBackend with 1 concurrent workers.\n"
          ],
          "name": "stderr"
        },
        {
          "output_type": "stream",
          "text": [
            "building tree 1 of 100\n"
          ],
          "name": "stdout"
        },
        {
          "output_type": "stream",
          "text": [
            "[Parallel(n_jobs=1)]: Done   1 out of   1 | elapsed:    0.2s remaining:    0.0s\n"
          ],
          "name": "stderr"
        },
        {
          "output_type": "stream",
          "text": [
            "building tree 2 of 100\n",
            "building tree 3 of 100\n",
            "building tree 4 of 100\n",
            "building tree 5 of 100\n",
            "building tree 6 of 100\n",
            "building tree 7 of 100\n",
            "building tree 8 of 100\n",
            "building tree 9 of 100\n",
            "building tree 10 of 100\n",
            "building tree 11 of 100\n",
            "building tree 12 of 100\n",
            "building tree 13 of 100\n",
            "building tree 14 of 100\n",
            "building tree 15 of 100\n",
            "building tree 16 of 100\n",
            "building tree 17 of 100\n",
            "building tree 18 of 100\n",
            "building tree 19 of 100\n",
            "building tree 20 of 100\n",
            "building tree 21 of 100\n",
            "building tree 22 of 100\n",
            "building tree 23 of 100\n",
            "building tree 24 of 100\n",
            "building tree 25 of 100\n",
            "building tree 26 of 100\n",
            "building tree 27 of 100\n",
            "building tree 28 of 100\n",
            "building tree 29 of 100\n",
            "building tree 30 of 100\n",
            "building tree 31 of 100\n",
            "building tree 32 of 100\n",
            "building tree 33 of 100\n",
            "building tree 34 of 100\n",
            "building tree 35 of 100\n",
            "building tree 36 of 100\n",
            "building tree 37 of 100\n",
            "building tree 38 of 100\n",
            "building tree 39 of 100\n",
            "building tree 40 of 100\n",
            "building tree 41 of 100\n",
            "building tree 42 of 100\n",
            "building tree 43 of 100\n",
            "building tree 44 of 100\n",
            "building tree 45 of 100\n",
            "building tree 46 of 100\n",
            "building tree 47 of 100\n",
            "building tree 48 of 100\n",
            "building tree 49 of 100\n",
            "building tree 50 of 100\n",
            "building tree 51 of 100\n",
            "building tree 52 of 100\n",
            "building tree 53 of 100\n",
            "building tree 54 of 100\n",
            "building tree 55 of 100\n",
            "building tree 56 of 100\n",
            "building tree 57 of 100\n",
            "building tree 58 of 100\n",
            "building tree 59 of 100\n",
            "building tree 60 of 100\n",
            "building tree 61 of 100\n",
            "building tree 62 of 100\n",
            "building tree 63 of 100\n",
            "building tree 64 of 100\n",
            "building tree 65 of 100\n",
            "building tree 66 of 100\n",
            "building tree 67 of 100\n",
            "building tree 68 of 100\n",
            "building tree 69 of 100\n",
            "building tree 70 of 100\n",
            "building tree 71 of 100\n",
            "building tree 72 of 100\n",
            "building tree 73 of 100\n",
            "building tree 74 of 100\n",
            "building tree 75 of 100\n",
            "building tree 76 of 100\n",
            "building tree 77 of 100\n",
            "building tree 78 of 100\n",
            "building tree 79 of 100\n",
            "building tree 80 of 100\n",
            "building tree 81 of 100\n",
            "building tree 82 of 100\n",
            "building tree 83 of 100\n",
            "building tree 84 of 100\n",
            "building tree 85 of 100\n",
            "building tree 86 of 100\n",
            "building tree 87 of 100\n",
            "building tree 88 of 100\n",
            "building tree 89 of 100\n",
            "building tree 90 of 100\n",
            "building tree 91 of 100\n",
            "building tree 92 of 100\n",
            "building tree 93 of 100\n",
            "building tree 94 of 100\n",
            "building tree 95 of 100\n",
            "building tree 96 of 100\n",
            "building tree 97 of 100\n",
            "building tree 98 of 100\n",
            "building tree 99 of 100\n",
            "building tree 100 of 100\n"
          ],
          "name": "stdout"
        },
        {
          "output_type": "stream",
          "text": [
            "[Parallel(n_jobs=1)]: Done 100 out of 100 | elapsed:   18.6s finished\n",
            "[Parallel(n_jobs=1)]: Using backend SequentialBackend with 1 concurrent workers.\n",
            "[Parallel(n_jobs=1)]: Done   1 out of   1 | elapsed:    0.0s remaining:    0.0s\n",
            "[Parallel(n_jobs=1)]: Done 100 out of 100 | elapsed:    0.1s finished\n",
            "[Parallel(n_jobs=1)]: Using backend SequentialBackend with 1 concurrent workers.\n"
          ],
          "name": "stderr"
        },
        {
          "output_type": "stream",
          "text": [
            "building tree 1 of 100\n"
          ],
          "name": "stdout"
        },
        {
          "output_type": "stream",
          "text": [
            "[Parallel(n_jobs=1)]: Done   1 out of   1 | elapsed:    0.2s remaining:    0.0s\n"
          ],
          "name": "stderr"
        },
        {
          "output_type": "stream",
          "text": [
            "building tree 2 of 100\n",
            "building tree 3 of 100\n",
            "building tree 4 of 100\n",
            "building tree 5 of 100\n",
            "building tree 6 of 100\n",
            "building tree 7 of 100\n",
            "building tree 8 of 100\n",
            "building tree 9 of 100\n",
            "building tree 10 of 100\n",
            "building tree 11 of 100\n",
            "building tree 12 of 100\n",
            "building tree 13 of 100\n",
            "building tree 14 of 100\n",
            "building tree 15 of 100\n",
            "building tree 16 of 100\n",
            "building tree 17 of 100\n",
            "building tree 18 of 100\n",
            "building tree 19 of 100\n",
            "building tree 20 of 100\n",
            "building tree 21 of 100\n",
            "building tree 22 of 100\n",
            "building tree 23 of 100\n",
            "building tree 24 of 100\n",
            "building tree 25 of 100\n",
            "building tree 26 of 100\n",
            "building tree 27 of 100\n",
            "building tree 28 of 100\n",
            "building tree 29 of 100\n",
            "building tree 30 of 100\n",
            "building tree 31 of 100\n",
            "building tree 32 of 100\n",
            "building tree 33 of 100\n",
            "building tree 34 of 100\n",
            "building tree 35 of 100\n",
            "building tree 36 of 100\n",
            "building tree 37 of 100\n",
            "building tree 38 of 100\n",
            "building tree 39 of 100\n",
            "building tree 40 of 100\n",
            "building tree 41 of 100\n",
            "building tree 42 of 100\n",
            "building tree 43 of 100\n",
            "building tree 44 of 100\n",
            "building tree 45 of 100\n",
            "building tree 46 of 100\n",
            "building tree 47 of 100\n",
            "building tree 48 of 100\n",
            "building tree 49 of 100\n",
            "building tree 50 of 100\n",
            "building tree 51 of 100\n",
            "building tree 52 of 100\n",
            "building tree 53 of 100\n",
            "building tree 54 of 100\n",
            "building tree 55 of 100\n",
            "building tree 56 of 100\n",
            "building tree 57 of 100\n",
            "building tree 58 of 100\n",
            "building tree 59 of 100\n",
            "building tree 60 of 100\n",
            "building tree 61 of 100\n",
            "building tree 62 of 100\n",
            "building tree 63 of 100\n",
            "building tree 64 of 100\n",
            "building tree 65 of 100\n",
            "building tree 66 of 100\n",
            "building tree 67 of 100\n",
            "building tree 68 of 100\n",
            "building tree 69 of 100\n",
            "building tree 70 of 100\n",
            "building tree 71 of 100\n",
            "building tree 72 of 100\n",
            "building tree 73 of 100\n",
            "building tree 74 of 100\n",
            "building tree 75 of 100\n",
            "building tree 76 of 100\n",
            "building tree 77 of 100\n",
            "building tree 78 of 100\n",
            "building tree 79 of 100\n",
            "building tree 80 of 100\n",
            "building tree 81 of 100\n",
            "building tree 82 of 100\n",
            "building tree 83 of 100\n",
            "building tree 84 of 100\n",
            "building tree 85 of 100\n",
            "building tree 86 of 100\n",
            "building tree 87 of 100\n",
            "building tree 88 of 100\n",
            "building tree 89 of 100\n",
            "building tree 90 of 100\n",
            "building tree 91 of 100\n",
            "building tree 92 of 100\n",
            "building tree 93 of 100\n",
            "building tree 94 of 100\n",
            "building tree 95 of 100\n",
            "building tree 96 of 100\n",
            "building tree 97 of 100\n",
            "building tree 98 of 100\n",
            "building tree 99 of 100\n",
            "building tree 100 of 100\n"
          ],
          "name": "stdout"
        },
        {
          "output_type": "stream",
          "text": [
            "[Parallel(n_jobs=1)]: Done 100 out of 100 | elapsed:   18.3s finished\n",
            "[Parallel(n_jobs=1)]: Using backend SequentialBackend with 1 concurrent workers.\n",
            "[Parallel(n_jobs=1)]: Done   1 out of   1 | elapsed:    0.0s remaining:    0.0s\n",
            "[Parallel(n_jobs=1)]: Done 100 out of 100 | elapsed:    0.1s finished\n",
            "[Parallel(n_jobs=1)]: Using backend SequentialBackend with 1 concurrent workers.\n"
          ],
          "name": "stderr"
        },
        {
          "output_type": "stream",
          "text": [
            "building tree 1 of 100\n"
          ],
          "name": "stdout"
        },
        {
          "output_type": "stream",
          "text": [
            "[Parallel(n_jobs=1)]: Done   1 out of   1 | elapsed:    0.2s remaining:    0.0s\n"
          ],
          "name": "stderr"
        },
        {
          "output_type": "stream",
          "text": [
            "building tree 2 of 100\n",
            "building tree 3 of 100\n",
            "building tree 4 of 100\n",
            "building tree 5 of 100\n",
            "building tree 6 of 100\n",
            "building tree 7 of 100\n",
            "building tree 8 of 100\n",
            "building tree 9 of 100\n",
            "building tree 10 of 100\n",
            "building tree 11 of 100\n",
            "building tree 12 of 100\n",
            "building tree 13 of 100\n",
            "building tree 14 of 100\n",
            "building tree 15 of 100\n",
            "building tree 16 of 100\n",
            "building tree 17 of 100\n",
            "building tree 18 of 100\n",
            "building tree 19 of 100\n",
            "building tree 20 of 100\n",
            "building tree 21 of 100\n",
            "building tree 22 of 100\n",
            "building tree 23 of 100\n",
            "building tree 24 of 100\n",
            "building tree 25 of 100\n",
            "building tree 26 of 100\n",
            "building tree 27 of 100\n",
            "building tree 28 of 100\n",
            "building tree 29 of 100\n",
            "building tree 30 of 100\n",
            "building tree 31 of 100\n",
            "building tree 32 of 100\n",
            "building tree 33 of 100\n",
            "building tree 34 of 100\n",
            "building tree 35 of 100\n",
            "building tree 36 of 100\n",
            "building tree 37 of 100\n",
            "building tree 38 of 100\n",
            "building tree 39 of 100\n",
            "building tree 40 of 100\n",
            "building tree 41 of 100\n",
            "building tree 42 of 100\n",
            "building tree 43 of 100\n",
            "building tree 44 of 100\n",
            "building tree 45 of 100\n",
            "building tree 46 of 100\n",
            "building tree 47 of 100\n",
            "building tree 48 of 100\n",
            "building tree 49 of 100\n",
            "building tree 50 of 100\n",
            "building tree 51 of 100\n",
            "building tree 52 of 100\n",
            "building tree 53 of 100\n",
            "building tree 54 of 100\n",
            "building tree 55 of 100\n",
            "building tree 56 of 100\n",
            "building tree 57 of 100\n",
            "building tree 58 of 100\n",
            "building tree 59 of 100\n",
            "building tree 60 of 100\n",
            "building tree 61 of 100\n",
            "building tree 62 of 100\n",
            "building tree 63 of 100\n",
            "building tree 64 of 100\n",
            "building tree 65 of 100\n",
            "building tree 66 of 100\n",
            "building tree 67 of 100\n",
            "building tree 68 of 100\n",
            "building tree 69 of 100\n",
            "building tree 70 of 100\n",
            "building tree 71 of 100\n",
            "building tree 72 of 100\n",
            "building tree 73 of 100\n",
            "building tree 74 of 100\n",
            "building tree 75 of 100\n",
            "building tree 76 of 100\n",
            "building tree 77 of 100\n",
            "building tree 78 of 100\n",
            "building tree 79 of 100\n",
            "building tree 80 of 100\n",
            "building tree 81 of 100\n",
            "building tree 82 of 100\n",
            "building tree 83 of 100\n",
            "building tree 84 of 100\n",
            "building tree 85 of 100\n",
            "building tree 86 of 100\n",
            "building tree 87 of 100\n",
            "building tree 88 of 100\n",
            "building tree 89 of 100\n",
            "building tree 90 of 100\n",
            "building tree 91 of 100\n",
            "building tree 92 of 100\n",
            "building tree 93 of 100\n",
            "building tree 94 of 100\n",
            "building tree 95 of 100\n",
            "building tree 96 of 100\n",
            "building tree 97 of 100\n",
            "building tree 98 of 100\n",
            "building tree 99 of 100\n",
            "building tree 100 of 100\n"
          ],
          "name": "stdout"
        },
        {
          "output_type": "stream",
          "text": [
            "[Parallel(n_jobs=1)]: Done 100 out of 100 | elapsed:   18.3s finished\n",
            "[Parallel(n_jobs=1)]: Using backend SequentialBackend with 1 concurrent workers.\n",
            "[Parallel(n_jobs=1)]: Done   1 out of   1 | elapsed:    0.0s remaining:    0.0s\n",
            "[Parallel(n_jobs=1)]: Done 100 out of 100 | elapsed:    0.1s finished\n",
            "[Parallel(n_jobs=1)]: Using backend SequentialBackend with 1 concurrent workers.\n"
          ],
          "name": "stderr"
        },
        {
          "output_type": "stream",
          "text": [
            "building tree 1 of 100\n"
          ],
          "name": "stdout"
        },
        {
          "output_type": "stream",
          "text": [
            "[Parallel(n_jobs=1)]: Done   1 out of   1 | elapsed:    0.2s remaining:    0.0s\n"
          ],
          "name": "stderr"
        },
        {
          "output_type": "stream",
          "text": [
            "building tree 2 of 100\n",
            "building tree 3 of 100\n",
            "building tree 4 of 100\n",
            "building tree 5 of 100\n",
            "building tree 6 of 100\n",
            "building tree 7 of 100\n",
            "building tree 8 of 100\n",
            "building tree 9 of 100\n",
            "building tree 10 of 100\n",
            "building tree 11 of 100\n",
            "building tree 12 of 100\n",
            "building tree 13 of 100\n",
            "building tree 14 of 100\n",
            "building tree 15 of 100\n",
            "building tree 16 of 100\n",
            "building tree 17 of 100\n",
            "building tree 18 of 100\n",
            "building tree 19 of 100\n",
            "building tree 20 of 100\n",
            "building tree 21 of 100\n",
            "building tree 22 of 100\n",
            "building tree 23 of 100\n",
            "building tree 24 of 100\n",
            "building tree 25 of 100\n",
            "building tree 26 of 100\n",
            "building tree 27 of 100\n",
            "building tree 28 of 100\n",
            "building tree 29 of 100\n",
            "building tree 30 of 100\n",
            "building tree 31 of 100\n",
            "building tree 32 of 100\n",
            "building tree 33 of 100\n",
            "building tree 34 of 100\n",
            "building tree 35 of 100\n",
            "building tree 36 of 100\n",
            "building tree 37 of 100\n",
            "building tree 38 of 100\n",
            "building tree 39 of 100\n",
            "building tree 40 of 100\n",
            "building tree 41 of 100\n",
            "building tree 42 of 100\n",
            "building tree 43 of 100\n",
            "building tree 44 of 100\n",
            "building tree 45 of 100\n",
            "building tree 46 of 100\n",
            "building tree 47 of 100\n",
            "building tree 48 of 100\n",
            "building tree 49 of 100\n",
            "building tree 50 of 100\n",
            "building tree 51 of 100\n",
            "building tree 52 of 100\n",
            "building tree 53 of 100\n",
            "building tree 54 of 100\n",
            "building tree 55 of 100\n",
            "building tree 56 of 100\n",
            "building tree 57 of 100\n",
            "building tree 58 of 100\n",
            "building tree 59 of 100\n",
            "building tree 60 of 100\n",
            "building tree 61 of 100\n",
            "building tree 62 of 100\n",
            "building tree 63 of 100\n",
            "building tree 64 of 100\n",
            "building tree 65 of 100\n",
            "building tree 66 of 100\n",
            "building tree 67 of 100\n",
            "building tree 68 of 100\n",
            "building tree 69 of 100\n",
            "building tree 70 of 100\n",
            "building tree 71 of 100\n",
            "building tree 72 of 100\n",
            "building tree 73 of 100\n",
            "building tree 74 of 100\n",
            "building tree 75 of 100\n",
            "building tree 76 of 100\n",
            "building tree 77 of 100\n",
            "building tree 78 of 100\n",
            "building tree 79 of 100\n",
            "building tree 80 of 100\n",
            "building tree 81 of 100\n",
            "building tree 82 of 100\n",
            "building tree 83 of 100\n",
            "building tree 84 of 100\n",
            "building tree 85 of 100\n",
            "building tree 86 of 100\n",
            "building tree 87 of 100\n",
            "building tree 88 of 100\n",
            "building tree 89 of 100\n",
            "building tree 90 of 100\n",
            "building tree 91 of 100\n",
            "building tree 92 of 100\n",
            "building tree 93 of 100\n",
            "building tree 94 of 100\n",
            "building tree 95 of 100\n",
            "building tree 96 of 100\n",
            "building tree 97 of 100\n",
            "building tree 98 of 100\n",
            "building tree 99 of 100\n",
            "building tree 100 of 100\n"
          ],
          "name": "stdout"
        },
        {
          "output_type": "stream",
          "text": [
            "[Parallel(n_jobs=1)]: Done 100 out of 100 | elapsed:   18.1s finished\n",
            "[Parallel(n_jobs=1)]: Using backend SequentialBackend with 1 concurrent workers.\n",
            "[Parallel(n_jobs=1)]: Done   1 out of   1 | elapsed:    0.0s remaining:    0.0s\n",
            "[Parallel(n_jobs=1)]: Done 100 out of 100 | elapsed:    0.1s finished\n",
            "[Parallel(n_jobs=1)]: Using backend SequentialBackend with 1 concurrent workers.\n"
          ],
          "name": "stderr"
        },
        {
          "output_type": "stream",
          "text": [
            "building tree 1 of 100\n"
          ],
          "name": "stdout"
        },
        {
          "output_type": "stream",
          "text": [
            "[Parallel(n_jobs=1)]: Done   1 out of   1 | elapsed:    0.2s remaining:    0.0s\n"
          ],
          "name": "stderr"
        },
        {
          "output_type": "stream",
          "text": [
            "building tree 2 of 100\n",
            "building tree 3 of 100\n",
            "building tree 4 of 100\n",
            "building tree 5 of 100\n",
            "building tree 6 of 100\n",
            "building tree 7 of 100\n",
            "building tree 8 of 100\n",
            "building tree 9 of 100\n",
            "building tree 10 of 100\n",
            "building tree 11 of 100\n",
            "building tree 12 of 100\n",
            "building tree 13 of 100\n",
            "building tree 14 of 100\n",
            "building tree 15 of 100\n",
            "building tree 16 of 100\n",
            "building tree 17 of 100\n",
            "building tree 18 of 100\n",
            "building tree 19 of 100\n",
            "building tree 20 of 100\n",
            "building tree 21 of 100\n",
            "building tree 22 of 100\n",
            "building tree 23 of 100\n",
            "building tree 24 of 100\n",
            "building tree 25 of 100\n",
            "building tree 26 of 100\n",
            "building tree 27 of 100\n",
            "building tree 28 of 100\n",
            "building tree 29 of 100\n",
            "building tree 30 of 100\n",
            "building tree 31 of 100\n",
            "building tree 32 of 100\n",
            "building tree 33 of 100\n",
            "building tree 34 of 100\n",
            "building tree 35 of 100\n",
            "building tree 36 of 100\n",
            "building tree 37 of 100\n",
            "building tree 38 of 100\n",
            "building tree 39 of 100\n",
            "building tree 40 of 100\n",
            "building tree 41 of 100\n",
            "building tree 42 of 100\n",
            "building tree 43 of 100\n",
            "building tree 44 of 100\n",
            "building tree 45 of 100\n",
            "building tree 46 of 100\n",
            "building tree 47 of 100\n",
            "building tree 48 of 100\n",
            "building tree 49 of 100\n",
            "building tree 50 of 100\n",
            "building tree 51 of 100\n",
            "building tree 52 of 100\n",
            "building tree 53 of 100\n",
            "building tree 54 of 100\n",
            "building tree 55 of 100\n",
            "building tree 56 of 100\n",
            "building tree 57 of 100\n",
            "building tree 58 of 100\n",
            "building tree 59 of 100\n",
            "building tree 60 of 100\n",
            "building tree 61 of 100\n",
            "building tree 62 of 100\n",
            "building tree 63 of 100\n",
            "building tree 64 of 100\n",
            "building tree 65 of 100\n",
            "building tree 66 of 100\n",
            "building tree 67 of 100\n",
            "building tree 68 of 100\n",
            "building tree 69 of 100\n",
            "building tree 70 of 100\n",
            "building tree 71 of 100\n",
            "building tree 72 of 100\n",
            "building tree 73 of 100\n",
            "building tree 74 of 100\n",
            "building tree 75 of 100\n",
            "building tree 76 of 100\n",
            "building tree 77 of 100\n",
            "building tree 78 of 100\n",
            "building tree 79 of 100\n",
            "building tree 80 of 100\n",
            "building tree 81 of 100\n",
            "building tree 82 of 100\n",
            "building tree 83 of 100\n",
            "building tree 84 of 100\n",
            "building tree 85 of 100\n",
            "building tree 86 of 100\n",
            "building tree 87 of 100\n",
            "building tree 88 of 100\n",
            "building tree 89 of 100\n",
            "building tree 90 of 100\n",
            "building tree 91 of 100\n",
            "building tree 92 of 100\n",
            "building tree 93 of 100\n",
            "building tree 94 of 100\n",
            "building tree 95 of 100\n",
            "building tree 96 of 100\n",
            "building tree 97 of 100\n",
            "building tree 98 of 100\n",
            "building tree 99 of 100\n",
            "building tree 100 of 100\n"
          ],
          "name": "stdout"
        },
        {
          "output_type": "stream",
          "text": [
            "[Parallel(n_jobs=1)]: Done 100 out of 100 | elapsed:   17.6s finished\n",
            "[Parallel(n_jobs=1)]: Using backend SequentialBackend with 1 concurrent workers.\n",
            "[Parallel(n_jobs=1)]: Done   1 out of   1 | elapsed:    0.0s remaining:    0.0s\n",
            "[Parallel(n_jobs=1)]: Done 100 out of 100 | elapsed:    0.1s finished\n",
            "[Parallel(n_jobs=1)]: Using backend SequentialBackend with 1 concurrent workers.\n"
          ],
          "name": "stderr"
        },
        {
          "output_type": "stream",
          "text": [
            "building tree 1 of 100\n"
          ],
          "name": "stdout"
        },
        {
          "output_type": "stream",
          "text": [
            "[Parallel(n_jobs=1)]: Done   1 out of   1 | elapsed:    0.2s remaining:    0.0s\n"
          ],
          "name": "stderr"
        },
        {
          "output_type": "stream",
          "text": [
            "building tree 2 of 100\n",
            "building tree 3 of 100\n",
            "building tree 4 of 100\n",
            "building tree 5 of 100\n",
            "building tree 6 of 100\n",
            "building tree 7 of 100\n",
            "building tree 8 of 100\n",
            "building tree 9 of 100\n",
            "building tree 10 of 100\n",
            "building tree 11 of 100\n",
            "building tree 12 of 100\n",
            "building tree 13 of 100\n",
            "building tree 14 of 100\n",
            "building tree 15 of 100\n",
            "building tree 16 of 100\n",
            "building tree 17 of 100\n",
            "building tree 18 of 100\n",
            "building tree 19 of 100\n",
            "building tree 20 of 100\n",
            "building tree 21 of 100\n",
            "building tree 22 of 100\n",
            "building tree 23 of 100\n",
            "building tree 24 of 100\n",
            "building tree 25 of 100\n",
            "building tree 26 of 100\n",
            "building tree 27 of 100\n",
            "building tree 28 of 100\n",
            "building tree 29 of 100\n",
            "building tree 30 of 100\n",
            "building tree 31 of 100\n",
            "building tree 32 of 100\n",
            "building tree 33 of 100\n",
            "building tree 34 of 100\n",
            "building tree 35 of 100\n",
            "building tree 36 of 100\n",
            "building tree 37 of 100\n",
            "building tree 38 of 100\n",
            "building tree 39 of 100\n",
            "building tree 40 of 100\n",
            "building tree 41 of 100\n",
            "building tree 42 of 100\n",
            "building tree 43 of 100\n",
            "building tree 44 of 100\n",
            "building tree 45 of 100\n",
            "building tree 46 of 100\n",
            "building tree 47 of 100\n",
            "building tree 48 of 100\n",
            "building tree 49 of 100\n",
            "building tree 50 of 100\n",
            "building tree 51 of 100\n",
            "building tree 52 of 100\n",
            "building tree 53 of 100\n",
            "building tree 54 of 100\n",
            "building tree 55 of 100\n",
            "building tree 56 of 100\n",
            "building tree 57 of 100\n",
            "building tree 58 of 100\n",
            "building tree 59 of 100\n",
            "building tree 60 of 100\n",
            "building tree 61 of 100\n",
            "building tree 62 of 100\n",
            "building tree 63 of 100\n",
            "building tree 64 of 100\n",
            "building tree 65 of 100\n",
            "building tree 66 of 100\n",
            "building tree 67 of 100\n",
            "building tree 68 of 100\n",
            "building tree 69 of 100\n",
            "building tree 70 of 100\n",
            "building tree 71 of 100\n",
            "building tree 72 of 100\n",
            "building tree 73 of 100\n",
            "building tree 74 of 100\n",
            "building tree 75 of 100\n",
            "building tree 76 of 100\n",
            "building tree 77 of 100\n",
            "building tree 78 of 100\n",
            "building tree 79 of 100\n",
            "building tree 80 of 100\n",
            "building tree 81 of 100\n",
            "building tree 82 of 100\n",
            "building tree 83 of 100\n",
            "building tree 84 of 100\n",
            "building tree 85 of 100\n",
            "building tree 86 of 100\n",
            "building tree 87 of 100\n",
            "building tree 88 of 100\n",
            "building tree 89 of 100\n",
            "building tree 90 of 100\n",
            "building tree 91 of 100\n",
            "building tree 92 of 100\n",
            "building tree 93 of 100\n",
            "building tree 94 of 100\n",
            "building tree 95 of 100\n",
            "building tree 96 of 100\n",
            "building tree 97 of 100\n",
            "building tree 98 of 100\n",
            "building tree 99 of 100\n",
            "building tree 100 of 100\n"
          ],
          "name": "stdout"
        },
        {
          "output_type": "stream",
          "text": [
            "[Parallel(n_jobs=1)]: Done 100 out of 100 | elapsed:   17.8s finished\n",
            "[Parallel(n_jobs=1)]: Using backend SequentialBackend with 1 concurrent workers.\n",
            "[Parallel(n_jobs=1)]: Done   1 out of   1 | elapsed:    0.0s remaining:    0.0s\n",
            "[Parallel(n_jobs=1)]: Done 100 out of 100 | elapsed:    0.1s finished\n",
            "[Parallel(n_jobs=1)]: Using backend SequentialBackend with 1 concurrent workers.\n"
          ],
          "name": "stderr"
        },
        {
          "output_type": "stream",
          "text": [
            "building tree 1 of 100\n"
          ],
          "name": "stdout"
        },
        {
          "output_type": "stream",
          "text": [
            "[Parallel(n_jobs=1)]: Done   1 out of   1 | elapsed:    0.2s remaining:    0.0s\n"
          ],
          "name": "stderr"
        },
        {
          "output_type": "stream",
          "text": [
            "building tree 2 of 100\n",
            "building tree 3 of 100\n",
            "building tree 4 of 100\n",
            "building tree 5 of 100\n",
            "building tree 6 of 100\n",
            "building tree 7 of 100\n",
            "building tree 8 of 100\n",
            "building tree 9 of 100\n",
            "building tree 10 of 100\n",
            "building tree 11 of 100\n",
            "building tree 12 of 100\n",
            "building tree 13 of 100\n",
            "building tree 14 of 100\n",
            "building tree 15 of 100\n",
            "building tree 16 of 100\n",
            "building tree 17 of 100\n",
            "building tree 18 of 100\n",
            "building tree 19 of 100\n",
            "building tree 20 of 100\n",
            "building tree 21 of 100\n",
            "building tree 22 of 100\n",
            "building tree 23 of 100\n",
            "building tree 24 of 100\n",
            "building tree 25 of 100\n",
            "building tree 26 of 100\n",
            "building tree 27 of 100\n",
            "building tree 28 of 100\n",
            "building tree 29 of 100\n",
            "building tree 30 of 100\n",
            "building tree 31 of 100\n",
            "building tree 32 of 100\n",
            "building tree 33 of 100\n",
            "building tree 34 of 100\n",
            "building tree 35 of 100\n",
            "building tree 36 of 100\n",
            "building tree 37 of 100\n",
            "building tree 38 of 100\n",
            "building tree 39 of 100\n",
            "building tree 40 of 100\n",
            "building tree 41 of 100\n",
            "building tree 42 of 100\n",
            "building tree 43 of 100\n",
            "building tree 44 of 100\n",
            "building tree 45 of 100\n",
            "building tree 46 of 100\n",
            "building tree 47 of 100\n",
            "building tree 48 of 100\n",
            "building tree 49 of 100\n",
            "building tree 50 of 100\n",
            "building tree 51 of 100\n",
            "building tree 52 of 100\n",
            "building tree 53 of 100\n",
            "building tree 54 of 100\n",
            "building tree 55 of 100\n",
            "building tree 56 of 100\n",
            "building tree 57 of 100\n",
            "building tree 58 of 100\n",
            "building tree 59 of 100\n",
            "building tree 60 of 100\n",
            "building tree 61 of 100\n",
            "building tree 62 of 100\n",
            "building tree 63 of 100\n",
            "building tree 64 of 100\n",
            "building tree 65 of 100\n",
            "building tree 66 of 100\n",
            "building tree 67 of 100\n",
            "building tree 68 of 100\n",
            "building tree 69 of 100\n",
            "building tree 70 of 100\n",
            "building tree 71 of 100\n",
            "building tree 72 of 100\n",
            "building tree 73 of 100\n",
            "building tree 74 of 100\n",
            "building tree 75 of 100\n",
            "building tree 76 of 100\n",
            "building tree 77 of 100\n",
            "building tree 78 of 100\n",
            "building tree 79 of 100\n",
            "building tree 80 of 100\n",
            "building tree 81 of 100\n",
            "building tree 82 of 100\n",
            "building tree 83 of 100\n",
            "building tree 84 of 100\n",
            "building tree 85 of 100\n",
            "building tree 86 of 100\n",
            "building tree 87 of 100\n",
            "building tree 88 of 100\n",
            "building tree 89 of 100\n",
            "building tree 90 of 100\n",
            "building tree 91 of 100\n",
            "building tree 92 of 100\n",
            "building tree 93 of 100\n",
            "building tree 94 of 100\n",
            "building tree 95 of 100\n",
            "building tree 96 of 100\n",
            "building tree 97 of 100\n",
            "building tree 98 of 100\n",
            "building tree 99 of 100\n",
            "building tree 100 of 100\n"
          ],
          "name": "stdout"
        },
        {
          "output_type": "stream",
          "text": [
            "[Parallel(n_jobs=1)]: Done 100 out of 100 | elapsed:   17.6s finished\n",
            "[Parallel(n_jobs=1)]: Using backend SequentialBackend with 1 concurrent workers.\n",
            "[Parallel(n_jobs=1)]: Done   1 out of   1 | elapsed:    0.0s remaining:    0.0s\n",
            "[Parallel(n_jobs=1)]: Done 100 out of 100 | elapsed:    0.1s finished\n",
            "[Parallel(n_jobs=1)]: Using backend SequentialBackend with 1 concurrent workers.\n"
          ],
          "name": "stderr"
        },
        {
          "output_type": "stream",
          "text": [
            "building tree 1 of 100\n"
          ],
          "name": "stdout"
        },
        {
          "output_type": "stream",
          "text": [
            "[Parallel(n_jobs=1)]: Done   1 out of   1 | elapsed:    0.2s remaining:    0.0s\n"
          ],
          "name": "stderr"
        },
        {
          "output_type": "stream",
          "text": [
            "building tree 2 of 100\n",
            "building tree 3 of 100\n",
            "building tree 4 of 100\n",
            "building tree 5 of 100\n",
            "building tree 6 of 100\n",
            "building tree 7 of 100\n",
            "building tree 8 of 100\n",
            "building tree 9 of 100\n",
            "building tree 10 of 100\n",
            "building tree 11 of 100\n",
            "building tree 12 of 100\n",
            "building tree 13 of 100\n",
            "building tree 14 of 100\n",
            "building tree 15 of 100\n",
            "building tree 16 of 100\n",
            "building tree 17 of 100\n",
            "building tree 18 of 100\n",
            "building tree 19 of 100\n",
            "building tree 20 of 100\n",
            "building tree 21 of 100\n",
            "building tree 22 of 100\n",
            "building tree 23 of 100\n",
            "building tree 24 of 100\n",
            "building tree 25 of 100\n",
            "building tree 26 of 100\n",
            "building tree 27 of 100\n",
            "building tree 28 of 100\n",
            "building tree 29 of 100\n",
            "building tree 30 of 100\n",
            "building tree 31 of 100\n",
            "building tree 32 of 100\n",
            "building tree 33 of 100\n",
            "building tree 34 of 100\n",
            "building tree 35 of 100\n",
            "building tree 36 of 100\n",
            "building tree 37 of 100\n",
            "building tree 38 of 100\n",
            "building tree 39 of 100\n",
            "building tree 40 of 100\n",
            "building tree 41 of 100\n",
            "building tree 42 of 100\n",
            "building tree 43 of 100\n",
            "building tree 44 of 100\n",
            "building tree 45 of 100\n",
            "building tree 46 of 100\n",
            "building tree 47 of 100\n",
            "building tree 48 of 100\n",
            "building tree 49 of 100\n",
            "building tree 50 of 100\n",
            "building tree 51 of 100\n",
            "building tree 52 of 100\n",
            "building tree 53 of 100\n",
            "building tree 54 of 100\n",
            "building tree 55 of 100\n",
            "building tree 56 of 100\n",
            "building tree 57 of 100\n",
            "building tree 58 of 100\n",
            "building tree 59 of 100\n",
            "building tree 60 of 100\n",
            "building tree 61 of 100\n",
            "building tree 62 of 100\n",
            "building tree 63 of 100\n",
            "building tree 64 of 100\n",
            "building tree 65 of 100\n",
            "building tree 66 of 100\n",
            "building tree 67 of 100\n",
            "building tree 68 of 100\n",
            "building tree 69 of 100\n",
            "building tree 70 of 100\n",
            "building tree 71 of 100\n",
            "building tree 72 of 100\n",
            "building tree 73 of 100\n",
            "building tree 74 of 100\n",
            "building tree 75 of 100\n",
            "building tree 76 of 100\n",
            "building tree 77 of 100\n",
            "building tree 78 of 100\n",
            "building tree 79 of 100\n",
            "building tree 80 of 100\n",
            "building tree 81 of 100\n",
            "building tree 82 of 100\n",
            "building tree 83 of 100\n",
            "building tree 84 of 100\n",
            "building tree 85 of 100\n",
            "building tree 86 of 100\n",
            "building tree 87 of 100\n",
            "building tree 88 of 100\n",
            "building tree 89 of 100\n",
            "building tree 90 of 100\n",
            "building tree 91 of 100\n",
            "building tree 92 of 100\n",
            "building tree 93 of 100\n",
            "building tree 94 of 100\n",
            "building tree 95 of 100\n",
            "building tree 96 of 100\n",
            "building tree 97 of 100\n",
            "building tree 98 of 100\n",
            "building tree 99 of 100\n",
            "building tree 100 of 100\n"
          ],
          "name": "stdout"
        },
        {
          "output_type": "stream",
          "text": [
            "[Parallel(n_jobs=1)]: Done 100 out of 100 | elapsed:   17.7s finished\n",
            "[Parallel(n_jobs=1)]: Using backend SequentialBackend with 1 concurrent workers.\n",
            "[Parallel(n_jobs=1)]: Done   1 out of   1 | elapsed:    0.0s remaining:    0.0s\n",
            "[Parallel(n_jobs=1)]: Done 100 out of 100 | elapsed:    0.1s finished\n",
            "[Parallel(n_jobs=1)]: Using backend SequentialBackend with 1 concurrent workers.\n"
          ],
          "name": "stderr"
        },
        {
          "output_type": "stream",
          "text": [
            "building tree 1 of 100\n"
          ],
          "name": "stdout"
        },
        {
          "output_type": "stream",
          "text": [
            "[Parallel(n_jobs=1)]: Done   1 out of   1 | elapsed:    0.2s remaining:    0.0s\n"
          ],
          "name": "stderr"
        },
        {
          "output_type": "stream",
          "text": [
            "building tree 2 of 100\n",
            "building tree 3 of 100\n",
            "building tree 4 of 100\n",
            "building tree 5 of 100\n",
            "building tree 6 of 100\n",
            "building tree 7 of 100\n",
            "building tree 8 of 100\n",
            "building tree 9 of 100\n",
            "building tree 10 of 100\n",
            "building tree 11 of 100\n",
            "building tree 12 of 100\n",
            "building tree 13 of 100\n",
            "building tree 14 of 100\n",
            "building tree 15 of 100\n",
            "building tree 16 of 100\n",
            "building tree 17 of 100\n",
            "building tree 18 of 100\n",
            "building tree 19 of 100\n",
            "building tree 20 of 100\n",
            "building tree 21 of 100\n",
            "building tree 22 of 100\n",
            "building tree 23 of 100\n",
            "building tree 24 of 100\n",
            "building tree 25 of 100\n",
            "building tree 26 of 100\n",
            "building tree 27 of 100\n",
            "building tree 28 of 100\n",
            "building tree 29 of 100\n",
            "building tree 30 of 100\n",
            "building tree 31 of 100\n",
            "building tree 32 of 100\n",
            "building tree 33 of 100\n",
            "building tree 34 of 100\n",
            "building tree 35 of 100\n",
            "building tree 36 of 100\n",
            "building tree 37 of 100\n",
            "building tree 38 of 100\n",
            "building tree 39 of 100\n",
            "building tree 40 of 100\n",
            "building tree 41 of 100\n",
            "building tree 42 of 100\n",
            "building tree 43 of 100\n",
            "building tree 44 of 100\n",
            "building tree 45 of 100\n",
            "building tree 46 of 100\n",
            "building tree 47 of 100\n",
            "building tree 48 of 100\n",
            "building tree 49 of 100\n",
            "building tree 50 of 100\n",
            "building tree 51 of 100\n",
            "building tree 52 of 100\n",
            "building tree 53 of 100\n",
            "building tree 54 of 100\n",
            "building tree 55 of 100\n",
            "building tree 56 of 100\n",
            "building tree 57 of 100\n",
            "building tree 58 of 100\n",
            "building tree 59 of 100\n",
            "building tree 60 of 100\n",
            "building tree 61 of 100\n",
            "building tree 62 of 100\n",
            "building tree 63 of 100\n",
            "building tree 64 of 100\n",
            "building tree 65 of 100\n",
            "building tree 66 of 100\n",
            "building tree 67 of 100\n",
            "building tree 68 of 100\n",
            "building tree 69 of 100\n",
            "building tree 70 of 100\n",
            "building tree 71 of 100\n",
            "building tree 72 of 100\n",
            "building tree 73 of 100\n",
            "building tree 74 of 100\n",
            "building tree 75 of 100\n",
            "building tree 76 of 100\n",
            "building tree 77 of 100\n",
            "building tree 78 of 100\n",
            "building tree 79 of 100\n",
            "building tree 80 of 100\n",
            "building tree 81 of 100\n",
            "building tree 82 of 100\n",
            "building tree 83 of 100\n",
            "building tree 84 of 100\n",
            "building tree 85 of 100\n",
            "building tree 86 of 100\n",
            "building tree 87 of 100\n",
            "building tree 88 of 100\n",
            "building tree 89 of 100\n",
            "building tree 90 of 100\n",
            "building tree 91 of 100\n",
            "building tree 92 of 100\n",
            "building tree 93 of 100\n",
            "building tree 94 of 100\n",
            "building tree 95 of 100\n",
            "building tree 96 of 100\n",
            "building tree 97 of 100\n",
            "building tree 98 of 100\n",
            "building tree 99 of 100\n",
            "building tree 100 of 100\n"
          ],
          "name": "stdout"
        },
        {
          "output_type": "stream",
          "text": [
            "[Parallel(n_jobs=1)]: Done 100 out of 100 | elapsed:   18.8s finished\n",
            "[Parallel(n_jobs=1)]: Using backend SequentialBackend with 1 concurrent workers.\n",
            "[Parallel(n_jobs=1)]: Done   1 out of   1 | elapsed:    0.0s remaining:    0.0s\n",
            "[Parallel(n_jobs=1)]: Done 100 out of 100 | elapsed:    0.1s finished\n"
          ],
          "name": "stderr"
        },
        {
          "output_type": "stream",
          "text": [
            "0.7614094694955071\n"
          ],
          "name": "stdout"
        }
      ]
    },
    {
      "cell_type": "code",
      "metadata": {
        "colab": {
          "base_uri": "https://localhost:8080/"
        },
        "id": "5RCCWWQrrGs2",
        "outputId": "3228e8a9-f94b-48c1-fd6b-02918817305b"
      },
      "source": [
        "# Predicting and creating the confusion matrix and scores\n",
        "predictions = forest.predict(XC_test)\n",
        " \n",
        "cm = confusion_matrix(yc_test,predictions) \n",
        "print(cm)  \n",
        "print(classification_report(yc_test,predictions))  \n",
        "print(accuracy_score(yc_test, predictions))"
      ],
      "execution_count": 51,
      "outputs": [
        {
          "output_type": "stream",
          "text": [
            "[Parallel(n_jobs=1)]: Using backend SequentialBackend with 1 concurrent workers.\n",
            "[Parallel(n_jobs=1)]: Done   1 out of   1 | elapsed:    0.0s remaining:    0.0s\n",
            "[Parallel(n_jobs=1)]: Done 100 out of 100 | elapsed:    0.3s finished\n"
          ],
          "name": "stderr"
        },
        {
          "output_type": "stream",
          "text": [
            "[[2225  353  175]\n",
            " [ 310  474  146]\n",
            " [ 137  122  450]]\n",
            "              precision    recall  f1-score   support\n",
            "\n",
            "           0       0.83      0.81      0.82      2753\n",
            "           1       0.50      0.51      0.50       930\n",
            "           2       0.58      0.63      0.61       709\n",
            "\n",
            "    accuracy                           0.72      4392\n",
            "   macro avg       0.64      0.65      0.64      4392\n",
            "weighted avg       0.72      0.72      0.72      4392\n",
            "\n",
            "0.7169854280510018\n"
          ],
          "name": "stdout"
        }
      ]
    },
    {
      "cell_type": "code",
      "metadata": {
        "colab": {
          "base_uri": "https://localhost:8080/",
          "height": 500
        },
        "id": "j9V4iG34rok7",
        "outputId": "0e172c6d-bcc8-4e5a-8214-470541fcc69b"
      },
      "source": [
        "# Confusion matrix as heatmap\n",
        "df_cm = pd.DataFrame(cm, index = [i for i in range(3)],\n",
        "                     columns = [i for i in range(3)])\n",
        "plt.figure(figsize = (8,8))\n",
        "sns.heatmap(df_cm, annot=True, fmt='d')"
      ],
      "execution_count": 52,
      "outputs": [
        {
          "output_type": "execute_result",
          "data": {
            "text/plain": [
              "<matplotlib.axes._subplots.AxesSubplot at 0x7fa89f59b710>"
            ]
          },
          "metadata": {
            "tags": []
          },
          "execution_count": 52
        },
        {
          "output_type": "display_data",
          "data": {
            "image/png": "[encoded data removed]",
            "text/plain": [
              "<Figure size 576x576 with 2 Axes>"
            ]
          },
          "metadata": {
            "tags": [],
            "needs_background": "light"
          }
        }
      ]
    },
    {
      "cell_type": "code",
      "metadata": {
        "colab": {
          "base_uri": "https://localhost:8080/"
        },
        "id": "8zyvsSmGKCO3",
        "outputId": "97f24707-13f6-487e-cf23-36c041dfbe02"
      },
      "source": [
        "# # Compare actual to predicted values -- model is performing well -- 2 wrong\n",
        "picarr = [0, 59, 89,1234,700]\n",
        "\n",
        "for i in picarr:\n",
        "  print(f\"Predict {i}: {predictions[i]}\")\n",
        "  print(f\"Actual {i}: {yc_test.iloc[i]}\")  "
      ],
      "execution_count": 53,
      "outputs": [
        {
          "output_type": "stream",
          "text": [
            "Predict 0: 0\n",
            "Actual 0: 0\n",
            "Predict 59: 0\n",
            "Actual 59: 0\n",
            "Predict 89: 0\n",
            "Actual 89: 1\n",
            "Predict 1234: 1\n",
            "Actual 1234: 1\n",
            "Predict 700: 0\n",
            "Actual 700: 1\n"
          ],
          "name": "stdout"
        }
      ]
    },
    {
      "cell_type": "code",
      "metadata": {
        "colab": {
          "base_uri": "https://localhost:8080/"
        },
        "id": "LF0REmqgTXnI",
        "outputId": "071ed15c-d1d6-4272-85f9-272ec86ad49b"
      },
      "source": [
        "# Creating TF IDF Vectorizer and printing distribution\n",
        "tfidfconverter = TfidfVectorizer(max_features=1000, min_df=5, max_df=0.7,ngram_range=(1,2))  \n",
        "X = tfidfconverter.fit_transform(clean_train_reviews)\n",
        "df = pd.DataFrame(X[0].T.todense(), index=tfidfconverter.get_feature_names(), columns=[\"TF-IDF\"])\n",
        "df = df.sort_values('TF-IDF', ascending=False)\n",
        "print (df.head(5000))"
      ],
      "execution_count": 55,
      "outputs": [
        {
          "output_type": "stream",
          "text": [
            "                 TF-IDF\n",
            "say            0.713425\n",
            "virginamerica  0.700732\n",
            "reach          0.000000\n",
            "rdu            0.000000\n",
            "point          0.000000\n",
            "...                 ...\n",
            "free           0.000000\n",
            "freeze         0.000000\n",
            "friday         0.000000\n",
            "friend         0.000000\n",
            "zero           0.000000\n",
            "\n",
            "[1000 rows x 1 columns]\n"
          ],
          "name": "stdout"
        }
      ]
    },
    {
      "cell_type": "code",
      "metadata": {
        "id": "Mop3ExEdY228"
      },
      "source": [
        "# Creating training and testing set\n",
        "  \n",
        "X_train, X_test, y_train, y_test = train_test_split(X, Y, test_size=0.3, random_state=0, stratify=Y) "
      ],
      "execution_count": 56,
      "outputs": []
    },
    {
      "cell_type": "code",
      "metadata": {
        "colab": {
          "base_uri": "https://localhost:8080/"
        },
        "id": "24G4SLoyIjC1",
        "outputId": "47cc9013-eaa0-4304-bd26-7210f2cff120"
      },
      "source": [
        "# Upsampling\n",
        "oversample = SMOTE()\n",
        "X_train, y_train = oversample.fit_resample(X_train, y_train)"
      ],
      "execution_count": 57,
      "outputs": [
        {
          "output_type": "stream",
          "text": [
            "/usr/local/lib/python3.7/dist-packages/sklearn/utils/deprecation.py:87: FutureWarning: Function safe_indexing is deprecated; safe_indexing is deprecated in version 0.22 and will be removed in version 0.24.\n",
            "  warnings.warn(msg, category=FutureWarning)\n"
          ],
          "name": "stderr"
        }
      ]
    },
    {
      "cell_type": "code",
      "metadata": {
        "colab": {
          "base_uri": "https://localhost:8080/"
        },
        "id": "LqZ6r2p9ZZ3F",
        "outputId": "bad1fcb9-90ee-4ccf-b136-ba8280620dd5"
      },
      "source": [
        "# Running RandomForest Classifier and training the model, displaying the score\n",
        "text_classifier = RandomForestClassifier(verbose=2,n_jobs=1,n_estimators = 100, criterion='gini')  \n",
        "text_classifier.fit(X_train, y_train)\n",
        "print (np.mean(cross_val_score(text_classifier,X_train,y_train,cv=10)))"
      ],
      "execution_count": 58,
      "outputs": [
        {
          "output_type": "stream",
          "text": [
            "[Parallel(n_jobs=1)]: Using backend SequentialBackend with 1 concurrent workers.\n"
          ],
          "name": "stderr"
        },
        {
          "output_type": "stream",
          "text": [
            "building tree 1 of 100\n"
          ],
          "name": "stdout"
        },
        {
          "output_type": "stream",
          "text": [
            "[Parallel(n_jobs=1)]: Done   1 out of   1 | elapsed:    0.2s remaining:    0.0s\n"
          ],
          "name": "stderr"
        },
        {
          "output_type": "stream",
          "text": [
            "building tree 2 of 100\n",
            "building tree 3 of 100\n",
            "building tree 4 of 100\n",
            "building tree 5 of 100\n",
            "building tree 6 of 100\n",
            "building tree 7 of 100\n",
            "building tree 8 of 100\n",
            "building tree 9 of 100\n",
            "building tree 10 of 100\n",
            "building tree 11 of 100\n",
            "building tree 12 of 100\n",
            "building tree 13 of 100\n",
            "building tree 14 of 100\n",
            "building tree 15 of 100\n",
            "building tree 16 of 100\n",
            "building tree 17 of 100\n",
            "building tree 18 of 100\n",
            "building tree 19 of 100\n",
            "building tree 20 of 100\n",
            "building tree 21 of 100\n",
            "building tree 22 of 100\n",
            "building tree 23 of 100\n",
            "building tree 24 of 100\n",
            "building tree 25 of 100\n",
            "building tree 26 of 100\n",
            "building tree 27 of 100\n",
            "building tree 28 of 100\n",
            "building tree 29 of 100\n",
            "building tree 30 of 100\n",
            "building tree 31 of 100\n",
            "building tree 32 of 100\n",
            "building tree 33 of 100\n",
            "building tree 34 of 100\n",
            "building tree 35 of 100\n",
            "building tree 36 of 100\n",
            "building tree 37 of 100\n",
            "building tree 38 of 100\n",
            "building tree 39 of 100\n",
            "building tree 40 of 100\n",
            "building tree 41 of 100\n",
            "building tree 42 of 100\n",
            "building tree 43 of 100\n",
            "building tree 44 of 100\n",
            "building tree 45 of 100\n",
            "building tree 46 of 100\n",
            "building tree 47 of 100\n",
            "building tree 48 of 100\n",
            "building tree 49 of 100\n",
            "building tree 50 of 100\n",
            "building tree 51 of 100\n",
            "building tree 52 of 100\n",
            "building tree 53 of 100\n",
            "building tree 54 of 100\n",
            "building tree 55 of 100\n",
            "building tree 56 of 100\n",
            "building tree 57 of 100\n",
            "building tree 58 of 100\n",
            "building tree 59 of 100\n",
            "building tree 60 of 100\n",
            "building tree 61 of 100\n",
            "building tree 62 of 100\n",
            "building tree 63 of 100\n",
            "building tree 64 of 100\n",
            "building tree 65 of 100\n",
            "building tree 66 of 100\n",
            "building tree 67 of 100\n",
            "building tree 68 of 100\n",
            "building tree 69 of 100\n",
            "building tree 70 of 100\n",
            "building tree 71 of 100\n",
            "building tree 72 of 100\n",
            "building tree 73 of 100\n",
            "building tree 74 of 100\n",
            "building tree 75 of 100\n",
            "building tree 76 of 100\n",
            "building tree 77 of 100\n",
            "building tree 78 of 100\n",
            "building tree 79 of 100\n",
            "building tree 80 of 100\n",
            "building tree 81 of 100\n",
            "building tree 82 of 100\n",
            "building tree 83 of 100\n",
            "building tree 84 of 100\n",
            "building tree 85 of 100\n",
            "building tree 86 of 100\n",
            "building tree 87 of 100\n",
            "building tree 88 of 100\n",
            "building tree 89 of 100\n",
            "building tree 90 of 100\n",
            "building tree 91 of 100\n",
            "building tree 92 of 100\n",
            "building tree 93 of 100\n",
            "building tree 94 of 100\n",
            "building tree 95 of 100\n",
            "building tree 96 of 100\n",
            "building tree 97 of 100\n",
            "building tree 98 of 100\n",
            "building tree 99 of 100\n",
            "building tree 100 of 100\n"
          ],
          "name": "stdout"
        },
        {
          "output_type": "stream",
          "text": [
            "[Parallel(n_jobs=1)]: Done 100 out of 100 | elapsed:   16.7s finished\n",
            "[Parallel(n_jobs=1)]: Using backend SequentialBackend with 1 concurrent workers.\n"
          ],
          "name": "stderr"
        },
        {
          "output_type": "stream",
          "text": [
            "building tree 1 of 100\n"
          ],
          "name": "stdout"
        },
        {
          "output_type": "stream",
          "text": [
            "[Parallel(n_jobs=1)]: Done   1 out of   1 | elapsed:    0.1s remaining:    0.0s\n"
          ],
          "name": "stderr"
        },
        {
          "output_type": "stream",
          "text": [
            "building tree 2 of 100\n",
            "building tree 3 of 100\n",
            "building tree 4 of 100\n",
            "building tree 5 of 100\n",
            "building tree 6 of 100\n",
            "building tree 7 of 100\n",
            "building tree 8 of 100\n",
            "building tree 9 of 100\n",
            "building tree 10 of 100\n",
            "building tree 11 of 100\n",
            "building tree 12 of 100\n",
            "building tree 13 of 100\n",
            "building tree 14 of 100\n",
            "building tree 15 of 100\n",
            "building tree 16 of 100\n",
            "building tree 17 of 100\n",
            "building tree 18 of 100\n",
            "building tree 19 of 100\n",
            "building tree 20 of 100\n",
            "building tree 21 of 100\n",
            "building tree 22 of 100\n",
            "building tree 23 of 100\n",
            "building tree 24 of 100\n",
            "building tree 25 of 100\n",
            "building tree 26 of 100\n",
            "building tree 27 of 100\n",
            "building tree 28 of 100\n",
            "building tree 29 of 100\n",
            "building tree 30 of 100\n",
            "building tree 31 of 100\n",
            "building tree 32 of 100\n",
            "building tree 33 of 100\n",
            "building tree 34 of 100\n",
            "building tree 35 of 100\n",
            "building tree 36 of 100\n",
            "building tree 37 of 100\n",
            "building tree 38 of 100\n",
            "building tree 39 of 100\n",
            "building tree 40 of 100\n",
            "building tree 41 of 100\n",
            "building tree 42 of 100\n",
            "building tree 43 of 100\n",
            "building tree 44 of 100\n",
            "building tree 45 of 100\n",
            "building tree 46 of 100\n",
            "building tree 47 of 100\n",
            "building tree 48 of 100\n",
            "building tree 49 of 100\n",
            "building tree 50 of 100\n",
            "building tree 51 of 100\n",
            "building tree 52 of 100\n",
            "building tree 53 of 100\n",
            "building tree 54 of 100\n",
            "building tree 55 of 100\n",
            "building tree 56 of 100\n",
            "building tree 57 of 100\n",
            "building tree 58 of 100\n",
            "building tree 59 of 100\n",
            "building tree 60 of 100\n",
            "building tree 61 of 100\n",
            "building tree 62 of 100\n",
            "building tree 63 of 100\n",
            "building tree 64 of 100\n",
            "building tree 65 of 100\n",
            "building tree 66 of 100\n",
            "building tree 67 of 100\n",
            "building tree 68 of 100\n",
            "building tree 69 of 100\n",
            "building tree 70 of 100\n",
            "building tree 71 of 100\n",
            "building tree 72 of 100\n",
            "building tree 73 of 100\n",
            "building tree 74 of 100\n",
            "building tree 75 of 100\n",
            "building tree 76 of 100\n",
            "building tree 77 of 100\n",
            "building tree 78 of 100\n",
            "building tree 79 of 100\n",
            "building tree 80 of 100\n",
            "building tree 81 of 100\n",
            "building tree 82 of 100\n",
            "building tree 83 of 100\n",
            "building tree 84 of 100\n",
            "building tree 85 of 100\n",
            "building tree 86 of 100\n",
            "building tree 87 of 100\n",
            "building tree 88 of 100\n",
            "building tree 89 of 100\n",
            "building tree 90 of 100\n",
            "building tree 91 of 100\n",
            "building tree 92 of 100\n",
            "building tree 93 of 100\n",
            "building tree 94 of 100\n",
            "building tree 95 of 100\n",
            "building tree 96 of 100\n",
            "building tree 97 of 100\n",
            "building tree 98 of 100\n",
            "building tree 99 of 100\n",
            "building tree 100 of 100\n"
          ],
          "name": "stdout"
        },
        {
          "output_type": "stream",
          "text": [
            "[Parallel(n_jobs=1)]: Done 100 out of 100 | elapsed:   14.3s finished\n",
            "[Parallel(n_jobs=1)]: Using backend SequentialBackend with 1 concurrent workers.\n",
            "[Parallel(n_jobs=1)]: Done   1 out of   1 | elapsed:    0.0s remaining:    0.0s\n",
            "[Parallel(n_jobs=1)]: Done 100 out of 100 | elapsed:    0.1s finished\n",
            "[Parallel(n_jobs=1)]: Using backend SequentialBackend with 1 concurrent workers.\n"
          ],
          "name": "stderr"
        },
        {
          "output_type": "stream",
          "text": [
            "building tree 1 of 100\n"
          ],
          "name": "stdout"
        },
        {
          "output_type": "stream",
          "text": [
            "[Parallel(n_jobs=1)]: Done   1 out of   1 | elapsed:    0.1s remaining:    0.0s\n"
          ],
          "name": "stderr"
        },
        {
          "output_type": "stream",
          "text": [
            "building tree 2 of 100\n",
            "building tree 3 of 100\n",
            "building tree 4 of 100\n",
            "building tree 5 of 100\n",
            "building tree 6 of 100\n",
            "building tree 7 of 100\n",
            "building tree 8 of 100\n",
            "building tree 9 of 100\n",
            "building tree 10 of 100\n",
            "building tree 11 of 100\n",
            "building tree 12 of 100\n",
            "building tree 13 of 100\n",
            "building tree 14 of 100\n",
            "building tree 15 of 100\n",
            "building tree 16 of 100\n",
            "building tree 17 of 100\n",
            "building tree 18 of 100\n",
            "building tree 19 of 100\n",
            "building tree 20 of 100\n",
            "building tree 21 of 100\n",
            "building tree 22 of 100\n",
            "building tree 23 of 100\n",
            "building tree 24 of 100\n",
            "building tree 25 of 100\n",
            "building tree 26 of 100\n",
            "building tree 27 of 100\n",
            "building tree 28 of 100\n",
            "building tree 29 of 100\n",
            "building tree 30 of 100\n",
            "building tree 31 of 100\n",
            "building tree 32 of 100\n",
            "building tree 33 of 100\n",
            "building tree 34 of 100\n",
            "building tree 35 of 100\n",
            "building tree 36 of 100\n",
            "building tree 37 of 100\n",
            "building tree 38 of 100\n",
            "building tree 39 of 100\n",
            "building tree 40 of 100\n",
            "building tree 41 of 100\n",
            "building tree 42 of 100\n",
            "building tree 43 of 100\n",
            "building tree 44 of 100\n",
            "building tree 45 of 100\n",
            "building tree 46 of 100\n",
            "building tree 47 of 100\n",
            "building tree 48 of 100\n",
            "building tree 49 of 100\n",
            "building tree 50 of 100\n",
            "building tree 51 of 100\n",
            "building tree 52 of 100\n",
            "building tree 53 of 100\n",
            "building tree 54 of 100\n",
            "building tree 55 of 100\n",
            "building tree 56 of 100\n",
            "building tree 57 of 100\n",
            "building tree 58 of 100\n",
            "building tree 59 of 100\n",
            "building tree 60 of 100\n",
            "building tree 61 of 100\n",
            "building tree 62 of 100\n",
            "building tree 63 of 100\n",
            "building tree 64 of 100\n",
            "building tree 65 of 100\n",
            "building tree 66 of 100\n",
            "building tree 67 of 100\n",
            "building tree 68 of 100\n",
            "building tree 69 of 100\n",
            "building tree 70 of 100\n",
            "building tree 71 of 100\n",
            "building tree 72 of 100\n",
            "building tree 73 of 100\n",
            "building tree 74 of 100\n",
            "building tree 75 of 100\n",
            "building tree 76 of 100\n",
            "building tree 77 of 100\n",
            "building tree 78 of 100\n",
            "building tree 79 of 100\n",
            "building tree 80 of 100\n",
            "building tree 81 of 100\n",
            "building tree 82 of 100\n",
            "building tree 83 of 100\n",
            "building tree 84 of 100\n",
            "building tree 85 of 100\n",
            "building tree 86 of 100\n",
            "building tree 87 of 100\n",
            "building tree 88 of 100\n",
            "building tree 89 of 100\n",
            "building tree 90 of 100\n",
            "building tree 91 of 100\n",
            "building tree 92 of 100\n",
            "building tree 93 of 100\n",
            "building tree 94 of 100\n",
            "building tree 95 of 100\n",
            "building tree 96 of 100\n",
            "building tree 97 of 100\n",
            "building tree 98 of 100\n",
            "building tree 99 of 100\n",
            "building tree 100 of 100\n"
          ],
          "name": "stdout"
        },
        {
          "output_type": "stream",
          "text": [
            "[Parallel(n_jobs=1)]: Done 100 out of 100 | elapsed:   14.2s finished\n",
            "[Parallel(n_jobs=1)]: Using backend SequentialBackend with 1 concurrent workers.\n",
            "[Parallel(n_jobs=1)]: Done   1 out of   1 | elapsed:    0.0s remaining:    0.0s\n",
            "[Parallel(n_jobs=1)]: Done 100 out of 100 | elapsed:    0.1s finished\n",
            "[Parallel(n_jobs=1)]: Using backend SequentialBackend with 1 concurrent workers.\n"
          ],
          "name": "stderr"
        },
        {
          "output_type": "stream",
          "text": [
            "building tree 1 of 100\n"
          ],
          "name": "stdout"
        },
        {
          "output_type": "stream",
          "text": [
            "[Parallel(n_jobs=1)]: Done   1 out of   1 | elapsed:    0.1s remaining:    0.0s\n"
          ],
          "name": "stderr"
        },
        {
          "output_type": "stream",
          "text": [
            "building tree 2 of 100\n",
            "building tree 3 of 100\n",
            "building tree 4 of 100\n",
            "building tree 5 of 100\n",
            "building tree 6 of 100\n",
            "building tree 7 of 100\n",
            "building tree 8 of 100\n",
            "building tree 9 of 100\n",
            "building tree 10 of 100\n",
            "building tree 11 of 100\n",
            "building tree 12 of 100\n",
            "building tree 13 of 100\n",
            "building tree 14 of 100\n",
            "building tree 15 of 100\n",
            "building tree 16 of 100\n",
            "building tree 17 of 100\n",
            "building tree 18 of 100\n",
            "building tree 19 of 100\n",
            "building tree 20 of 100\n",
            "building tree 21 of 100\n",
            "building tree 22 of 100\n",
            "building tree 23 of 100\n",
            "building tree 24 of 100\n",
            "building tree 25 of 100\n",
            "building tree 26 of 100\n",
            "building tree 27 of 100\n",
            "building tree 28 of 100\n",
            "building tree 29 of 100\n",
            "building tree 30 of 100\n",
            "building tree 31 of 100\n",
            "building tree 32 of 100\n",
            "building tree 33 of 100\n",
            "building tree 34 of 100\n",
            "building tree 35 of 100\n",
            "building tree 36 of 100\n",
            "building tree 37 of 100\n",
            "building tree 38 of 100\n",
            "building tree 39 of 100\n",
            "building tree 40 of 100\n",
            "building tree 41 of 100\n",
            "building tree 42 of 100\n",
            "building tree 43 of 100\n",
            "building tree 44 of 100\n",
            "building tree 45 of 100\n",
            "building tree 46 of 100\n",
            "building tree 47 of 100\n",
            "building tree 48 of 100\n",
            "building tree 49 of 100\n",
            "building tree 50 of 100\n",
            "building tree 51 of 100\n",
            "building tree 52 of 100\n",
            "building tree 53 of 100\n",
            "building tree 54 of 100\n",
            "building tree 55 of 100\n",
            "building tree 56 of 100\n",
            "building tree 57 of 100\n",
            "building tree 58 of 100\n",
            "building tree 59 of 100\n",
            "building tree 60 of 100\n",
            "building tree 61 of 100\n",
            "building tree 62 of 100\n",
            "building tree 63 of 100\n",
            "building tree 64 of 100\n",
            "building tree 65 of 100\n",
            "building tree 66 of 100\n",
            "building tree 67 of 100\n",
            "building tree 68 of 100\n",
            "building tree 69 of 100\n",
            "building tree 70 of 100\n",
            "building tree 71 of 100\n",
            "building tree 72 of 100\n",
            "building tree 73 of 100\n",
            "building tree 74 of 100\n",
            "building tree 75 of 100\n",
            "building tree 76 of 100\n",
            "building tree 77 of 100\n",
            "building tree 78 of 100\n",
            "building tree 79 of 100\n",
            "building tree 80 of 100\n",
            "building tree 81 of 100\n",
            "building tree 82 of 100\n",
            "building tree 83 of 100\n",
            "building tree 84 of 100\n",
            "building tree 85 of 100\n",
            "building tree 86 of 100\n",
            "building tree 87 of 100\n",
            "building tree 88 of 100\n",
            "building tree 89 of 100\n",
            "building tree 90 of 100\n",
            "building tree 91 of 100\n",
            "building tree 92 of 100\n",
            "building tree 93 of 100\n",
            "building tree 94 of 100\n",
            "building tree 95 of 100\n",
            "building tree 96 of 100\n",
            "building tree 97 of 100\n",
            "building tree 98 of 100\n",
            "building tree 99 of 100\n",
            "building tree 100 of 100\n"
          ],
          "name": "stdout"
        },
        {
          "output_type": "stream",
          "text": [
            "[Parallel(n_jobs=1)]: Done 100 out of 100 | elapsed:   14.3s finished\n",
            "[Parallel(n_jobs=1)]: Using backend SequentialBackend with 1 concurrent workers.\n",
            "[Parallel(n_jobs=1)]: Done   1 out of   1 | elapsed:    0.0s remaining:    0.0s\n",
            "[Parallel(n_jobs=1)]: Done 100 out of 100 | elapsed:    0.1s finished\n",
            "[Parallel(n_jobs=1)]: Using backend SequentialBackend with 1 concurrent workers.\n"
          ],
          "name": "stderr"
        },
        {
          "output_type": "stream",
          "text": [
            "building tree 1 of 100\n"
          ],
          "name": "stdout"
        },
        {
          "output_type": "stream",
          "text": [
            "[Parallel(n_jobs=1)]: Done   1 out of   1 | elapsed:    0.2s remaining:    0.0s\n"
          ],
          "name": "stderr"
        },
        {
          "output_type": "stream",
          "text": [
            "building tree 2 of 100\n",
            "building tree 3 of 100\n",
            "building tree 4 of 100\n",
            "building tree 5 of 100\n",
            "building tree 6 of 100\n",
            "building tree 7 of 100\n",
            "building tree 8 of 100\n",
            "building tree 9 of 100\n",
            "building tree 10 of 100\n",
            "building tree 11 of 100\n",
            "building tree 12 of 100\n",
            "building tree 13 of 100\n",
            "building tree 14 of 100\n",
            "building tree 15 of 100\n",
            "building tree 16 of 100\n",
            "building tree 17 of 100\n",
            "building tree 18 of 100\n",
            "building tree 19 of 100\n",
            "building tree 20 of 100\n",
            "building tree 21 of 100\n",
            "building tree 22 of 100\n",
            "building tree 23 of 100\n",
            "building tree 24 of 100\n",
            "building tree 25 of 100\n",
            "building tree 26 of 100\n",
            "building tree 27 of 100\n",
            "building tree 28 of 100\n",
            "building tree 29 of 100\n",
            "building tree 30 of 100\n",
            "building tree 31 of 100\n",
            "building tree 32 of 100\n",
            "building tree 33 of 100\n",
            "building tree 34 of 100\n",
            "building tree 35 of 100\n",
            "building tree 36 of 100\n",
            "building tree 37 of 100\n",
            "building tree 38 of 100\n",
            "building tree 39 of 100\n",
            "building tree 40 of 100\n",
            "building tree 41 of 100\n",
            "building tree 42 of 100\n",
            "building tree 43 of 100\n",
            "building tree 44 of 100\n",
            "building tree 45 of 100\n",
            "building tree 46 of 100\n",
            "building tree 47 of 100\n",
            "building tree 48 of 100\n",
            "building tree 49 of 100\n",
            "building tree 50 of 100\n",
            "building tree 51 of 100\n",
            "building tree 52 of 100\n",
            "building tree 53 of 100\n",
            "building tree 54 of 100\n",
            "building tree 55 of 100\n",
            "building tree 56 of 100\n",
            "building tree 57 of 100\n",
            "building tree 58 of 100\n",
            "building tree 59 of 100\n",
            "building tree 60 of 100\n",
            "building tree 61 of 100\n",
            "building tree 62 of 100\n",
            "building tree 63 of 100\n",
            "building tree 64 of 100\n",
            "building tree 65 of 100\n",
            "building tree 66 of 100\n",
            "building tree 67 of 100\n",
            "building tree 68 of 100\n",
            "building tree 69 of 100\n",
            "building tree 70 of 100\n",
            "building tree 71 of 100\n",
            "building tree 72 of 100\n",
            "building tree 73 of 100\n",
            "building tree 74 of 100\n",
            "building tree 75 of 100\n",
            "building tree 76 of 100\n",
            "building tree 77 of 100\n",
            "building tree 78 of 100\n",
            "building tree 79 of 100\n",
            "building tree 80 of 100\n",
            "building tree 81 of 100\n",
            "building tree 82 of 100\n",
            "building tree 83 of 100\n",
            "building tree 84 of 100\n",
            "building tree 85 of 100\n",
            "building tree 86 of 100\n",
            "building tree 87 of 100\n",
            "building tree 88 of 100\n",
            "building tree 89 of 100\n",
            "building tree 90 of 100\n",
            "building tree 91 of 100\n",
            "building tree 92 of 100\n",
            "building tree 93 of 100\n",
            "building tree 94 of 100\n",
            "building tree 95 of 100\n",
            "building tree 96 of 100\n",
            "building tree 97 of 100\n",
            "building tree 98 of 100\n",
            "building tree 99 of 100\n",
            "building tree 100 of 100\n"
          ],
          "name": "stdout"
        },
        {
          "output_type": "stream",
          "text": [
            "[Parallel(n_jobs=1)]: Done 100 out of 100 | elapsed:   14.9s finished\n",
            "[Parallel(n_jobs=1)]: Using backend SequentialBackend with 1 concurrent workers.\n",
            "[Parallel(n_jobs=1)]: Done   1 out of   1 | elapsed:    0.0s remaining:    0.0s\n",
            "[Parallel(n_jobs=1)]: Done 100 out of 100 | elapsed:    0.1s finished\n",
            "[Parallel(n_jobs=1)]: Using backend SequentialBackend with 1 concurrent workers.\n"
          ],
          "name": "stderr"
        },
        {
          "output_type": "stream",
          "text": [
            "building tree 1 of 100\n"
          ],
          "name": "stdout"
        },
        {
          "output_type": "stream",
          "text": [
            "[Parallel(n_jobs=1)]: Done   1 out of   1 | elapsed:    0.2s remaining:    0.0s\n"
          ],
          "name": "stderr"
        },
        {
          "output_type": "stream",
          "text": [
            "building tree 2 of 100\n",
            "building tree 3 of 100\n",
            "building tree 4 of 100\n",
            "building tree 5 of 100\n",
            "building tree 6 of 100\n",
            "building tree 7 of 100\n",
            "building tree 8 of 100\n",
            "building tree 9 of 100\n",
            "building tree 10 of 100\n",
            "building tree 11 of 100\n",
            "building tree 12 of 100\n",
            "building tree 13 of 100\n",
            "building tree 14 of 100\n",
            "building tree 15 of 100\n",
            "building tree 16 of 100\n",
            "building tree 17 of 100\n",
            "building tree 18 of 100\n",
            "building tree 19 of 100\n",
            "building tree 20 of 100\n",
            "building tree 21 of 100\n",
            "building tree 22 of 100\n",
            "building tree 23 of 100\n",
            "building tree 24 of 100\n",
            "building tree 25 of 100\n",
            "building tree 26 of 100\n",
            "building tree 27 of 100\n",
            "building tree 28 of 100\n",
            "building tree 29 of 100\n",
            "building tree 30 of 100\n",
            "building tree 31 of 100\n",
            "building tree 32 of 100\n",
            "building tree 33 of 100\n",
            "building tree 34 of 100\n",
            "building tree 35 of 100\n",
            "building tree 36 of 100\n",
            "building tree 37 of 100\n",
            "building tree 38 of 100\n",
            "building tree 39 of 100\n",
            "building tree 40 of 100\n",
            "building tree 41 of 100\n",
            "building tree 42 of 100\n",
            "building tree 43 of 100\n",
            "building tree 44 of 100\n",
            "building tree 45 of 100\n",
            "building tree 46 of 100\n",
            "building tree 47 of 100\n",
            "building tree 48 of 100\n",
            "building tree 49 of 100\n",
            "building tree 50 of 100\n",
            "building tree 51 of 100\n",
            "building tree 52 of 100\n",
            "building tree 53 of 100\n",
            "building tree 54 of 100\n",
            "building tree 55 of 100\n",
            "building tree 56 of 100\n",
            "building tree 57 of 100\n",
            "building tree 58 of 100\n",
            "building tree 59 of 100\n",
            "building tree 60 of 100\n",
            "building tree 61 of 100\n",
            "building tree 62 of 100\n",
            "building tree 63 of 100\n",
            "building tree 64 of 100\n",
            "building tree 65 of 100\n",
            "building tree 66 of 100\n",
            "building tree 67 of 100\n",
            "building tree 68 of 100\n",
            "building tree 69 of 100\n",
            "building tree 70 of 100\n",
            "building tree 71 of 100\n",
            "building tree 72 of 100\n",
            "building tree 73 of 100\n",
            "building tree 74 of 100\n",
            "building tree 75 of 100\n",
            "building tree 76 of 100\n",
            "building tree 77 of 100\n",
            "building tree 78 of 100\n",
            "building tree 79 of 100\n",
            "building tree 80 of 100\n",
            "building tree 81 of 100\n",
            "building tree 82 of 100\n",
            "building tree 83 of 100\n",
            "building tree 84 of 100\n",
            "building tree 85 of 100\n",
            "building tree 86 of 100\n",
            "building tree 87 of 100\n",
            "building tree 88 of 100\n",
            "building tree 89 of 100\n",
            "building tree 90 of 100\n",
            "building tree 91 of 100\n",
            "building tree 92 of 100\n",
            "building tree 93 of 100\n",
            "building tree 94 of 100\n",
            "building tree 95 of 100\n",
            "building tree 96 of 100\n",
            "building tree 97 of 100\n",
            "building tree 98 of 100\n",
            "building tree 99 of 100\n",
            "building tree 100 of 100\n"
          ],
          "name": "stdout"
        },
        {
          "output_type": "stream",
          "text": [
            "[Parallel(n_jobs=1)]: Done 100 out of 100 | elapsed:   14.7s finished\n",
            "[Parallel(n_jobs=1)]: Using backend SequentialBackend with 1 concurrent workers.\n",
            "[Parallel(n_jobs=1)]: Done   1 out of   1 | elapsed:    0.0s remaining:    0.0s\n",
            "[Parallel(n_jobs=1)]: Done 100 out of 100 | elapsed:    0.1s finished\n",
            "[Parallel(n_jobs=1)]: Using backend SequentialBackend with 1 concurrent workers.\n"
          ],
          "name": "stderr"
        },
        {
          "output_type": "stream",
          "text": [
            "building tree 1 of 100\n"
          ],
          "name": "stdout"
        },
        {
          "output_type": "stream",
          "text": [
            "[Parallel(n_jobs=1)]: Done   1 out of   1 | elapsed:    0.2s remaining:    0.0s\n"
          ],
          "name": "stderr"
        },
        {
          "output_type": "stream",
          "text": [
            "building tree 2 of 100\n",
            "building tree 3 of 100\n",
            "building tree 4 of 100\n",
            "building tree 5 of 100\n",
            "building tree 6 of 100\n",
            "building tree 7 of 100\n",
            "building tree 8 of 100\n",
            "building tree 9 of 100\n",
            "building tree 10 of 100\n",
            "building tree 11 of 100\n",
            "building tree 12 of 100\n",
            "building tree 13 of 100\n",
            "building tree 14 of 100\n",
            "building tree 15 of 100\n",
            "building tree 16 of 100\n",
            "building tree 17 of 100\n",
            "building tree 18 of 100\n",
            "building tree 19 of 100\n",
            "building tree 20 of 100\n",
            "building tree 21 of 100\n",
            "building tree 22 of 100\n",
            "building tree 23 of 100\n",
            "building tree 24 of 100\n",
            "building tree 25 of 100\n",
            "building tree 26 of 100\n",
            "building tree 27 of 100\n",
            "building tree 28 of 100\n",
            "building tree 29 of 100\n",
            "building tree 30 of 100\n",
            "building tree 31 of 100\n",
            "building tree 32 of 100\n",
            "building tree 33 of 100\n",
            "building tree 34 of 100\n",
            "building tree 35 of 100\n",
            "building tree 36 of 100\n",
            "building tree 37 of 100\n",
            "building tree 38 of 100\n",
            "building tree 39 of 100\n",
            "building tree 40 of 100\n",
            "building tree 41 of 100\n",
            "building tree 42 of 100\n",
            "building tree 43 of 100\n",
            "building tree 44 of 100\n",
            "building tree 45 of 100\n",
            "building tree 46 of 100\n",
            "building tree 47 of 100\n",
            "building tree 48 of 100\n",
            "building tree 49 of 100\n",
            "building tree 50 of 100\n",
            "building tree 51 of 100\n",
            "building tree 52 of 100\n",
            "building tree 53 of 100\n",
            "building tree 54 of 100\n",
            "building tree 55 of 100\n",
            "building tree 56 of 100\n",
            "building tree 57 of 100\n",
            "building tree 58 of 100\n",
            "building tree 59 of 100\n",
            "building tree 60 of 100\n",
            "building tree 61 of 100\n",
            "building tree 62 of 100\n",
            "building tree 63 of 100\n",
            "building tree 64 of 100\n",
            "building tree 65 of 100\n",
            "building tree 66 of 100\n",
            "building tree 67 of 100\n",
            "building tree 68 of 100\n",
            "building tree 69 of 100\n",
            "building tree 70 of 100\n",
            "building tree 71 of 100\n",
            "building tree 72 of 100\n",
            "building tree 73 of 100\n",
            "building tree 74 of 100\n",
            "building tree 75 of 100\n",
            "building tree 76 of 100\n",
            "building tree 77 of 100\n",
            "building tree 78 of 100\n",
            "building tree 79 of 100\n",
            "building tree 80 of 100\n",
            "building tree 81 of 100\n",
            "building tree 82 of 100\n",
            "building tree 83 of 100\n",
            "building tree 84 of 100\n",
            "building tree 85 of 100\n",
            "building tree 86 of 100\n",
            "building tree 87 of 100\n",
            "building tree 88 of 100\n",
            "building tree 89 of 100\n",
            "building tree 90 of 100\n",
            "building tree 91 of 100\n",
            "building tree 92 of 100\n",
            "building tree 93 of 100\n",
            "building tree 94 of 100\n",
            "building tree 95 of 100\n",
            "building tree 96 of 100\n",
            "building tree 97 of 100\n",
            "building tree 98 of 100\n",
            "building tree 99 of 100\n",
            "building tree 100 of 100\n"
          ],
          "name": "stdout"
        },
        {
          "output_type": "stream",
          "text": [
            "[Parallel(n_jobs=1)]: Done 100 out of 100 | elapsed:   14.8s finished\n",
            "[Parallel(n_jobs=1)]: Using backend SequentialBackend with 1 concurrent workers.\n",
            "[Parallel(n_jobs=1)]: Done   1 out of   1 | elapsed:    0.0s remaining:    0.0s\n",
            "[Parallel(n_jobs=1)]: Done 100 out of 100 | elapsed:    0.1s finished\n",
            "[Parallel(n_jobs=1)]: Using backend SequentialBackend with 1 concurrent workers.\n"
          ],
          "name": "stderr"
        },
        {
          "output_type": "stream",
          "text": [
            "building tree 1 of 100\n"
          ],
          "name": "stdout"
        },
        {
          "output_type": "stream",
          "text": [
            "[Parallel(n_jobs=1)]: Done   1 out of   1 | elapsed:    0.1s remaining:    0.0s\n"
          ],
          "name": "stderr"
        },
        {
          "output_type": "stream",
          "text": [
            "building tree 2 of 100\n",
            "building tree 3 of 100\n",
            "building tree 4 of 100\n",
            "building tree 5 of 100\n",
            "building tree 6 of 100\n",
            "building tree 7 of 100\n",
            "building tree 8 of 100\n",
            "building tree 9 of 100\n",
            "building tree 10 of 100\n",
            "building tree 11 of 100\n",
            "building tree 12 of 100\n",
            "building tree 13 of 100\n",
            "building tree 14 of 100\n",
            "building tree 15 of 100\n",
            "building tree 16 of 100\n",
            "building tree 17 of 100\n",
            "building tree 18 of 100\n",
            "building tree 19 of 100\n",
            "building tree 20 of 100\n",
            "building tree 21 of 100\n",
            "building tree 22 of 100\n",
            "building tree 23 of 100\n",
            "building tree 24 of 100\n",
            "building tree 25 of 100\n",
            "building tree 26 of 100\n",
            "building tree 27 of 100\n",
            "building tree 28 of 100\n",
            "building tree 29 of 100\n",
            "building tree 30 of 100\n",
            "building tree 31 of 100\n",
            "building tree 32 of 100\n",
            "building tree 33 of 100\n",
            "building tree 34 of 100\n",
            "building tree 35 of 100\n",
            "building tree 36 of 100\n",
            "building tree 37 of 100\n",
            "building tree 38 of 100\n",
            "building tree 39 of 100\n",
            "building tree 40 of 100\n",
            "building tree 41 of 100\n",
            "building tree 42 of 100\n",
            "building tree 43 of 100\n",
            "building tree 44 of 100\n",
            "building tree 45 of 100\n",
            "building tree 46 of 100\n",
            "building tree 47 of 100\n",
            "building tree 48 of 100\n",
            "building tree 49 of 100\n",
            "building tree 50 of 100\n",
            "building tree 51 of 100\n",
            "building tree 52 of 100\n",
            "building tree 53 of 100\n",
            "building tree 54 of 100\n",
            "building tree 55 of 100\n",
            "building tree 56 of 100\n",
            "building tree 57 of 100\n",
            "building tree 58 of 100\n",
            "building tree 59 of 100\n",
            "building tree 60 of 100\n",
            "building tree 61 of 100\n",
            "building tree 62 of 100\n",
            "building tree 63 of 100\n",
            "building tree 64 of 100\n",
            "building tree 65 of 100\n",
            "building tree 66 of 100\n",
            "building tree 67 of 100\n",
            "building tree 68 of 100\n",
            "building tree 69 of 100\n",
            "building tree 70 of 100\n",
            "building tree 71 of 100\n",
            "building tree 72 of 100\n",
            "building tree 73 of 100\n",
            "building tree 74 of 100\n",
            "building tree 75 of 100\n",
            "building tree 76 of 100\n",
            "building tree 77 of 100\n",
            "building tree 78 of 100\n",
            "building tree 79 of 100\n",
            "building tree 80 of 100\n",
            "building tree 81 of 100\n",
            "building tree 82 of 100\n",
            "building tree 83 of 100\n",
            "building tree 84 of 100\n",
            "building tree 85 of 100\n",
            "building tree 86 of 100\n",
            "building tree 87 of 100\n",
            "building tree 88 of 100\n",
            "building tree 89 of 100\n",
            "building tree 90 of 100\n",
            "building tree 91 of 100\n",
            "building tree 92 of 100\n",
            "building tree 93 of 100\n",
            "building tree 94 of 100\n",
            "building tree 95 of 100\n",
            "building tree 96 of 100\n",
            "building tree 97 of 100\n",
            "building tree 98 of 100\n",
            "building tree 99 of 100\n",
            "building tree 100 of 100\n"
          ],
          "name": "stdout"
        },
        {
          "output_type": "stream",
          "text": [
            "[Parallel(n_jobs=1)]: Done 100 out of 100 | elapsed:   14.8s finished\n",
            "[Parallel(n_jobs=1)]: Using backend SequentialBackend with 1 concurrent workers.\n",
            "[Parallel(n_jobs=1)]: Done   1 out of   1 | elapsed:    0.0s remaining:    0.0s\n",
            "[Parallel(n_jobs=1)]: Done 100 out of 100 | elapsed:    0.1s finished\n",
            "[Parallel(n_jobs=1)]: Using backend SequentialBackend with 1 concurrent workers.\n"
          ],
          "name": "stderr"
        },
        {
          "output_type": "stream",
          "text": [
            "building tree 1 of 100\n"
          ],
          "name": "stdout"
        },
        {
          "output_type": "stream",
          "text": [
            "[Parallel(n_jobs=1)]: Done   1 out of   1 | elapsed:    0.1s remaining:    0.0s\n"
          ],
          "name": "stderr"
        },
        {
          "output_type": "stream",
          "text": [
            "building tree 2 of 100\n",
            "building tree 3 of 100\n",
            "building tree 4 of 100\n",
            "building tree 5 of 100\n",
            "building tree 6 of 100\n",
            "building tree 7 of 100\n",
            "building tree 8 of 100\n",
            "building tree 9 of 100\n",
            "building tree 10 of 100\n",
            "building tree 11 of 100\n",
            "building tree 12 of 100\n",
            "building tree 13 of 100\n",
            "building tree 14 of 100\n",
            "building tree 15 of 100\n",
            "building tree 16 of 100\n",
            "building tree 17 of 100\n",
            "building tree 18 of 100\n",
            "building tree 19 of 100\n",
            "building tree 20 of 100\n",
            "building tree 21 of 100\n",
            "building tree 22 of 100\n",
            "building tree 23 of 100\n",
            "building tree 24 of 100\n",
            "building tree 25 of 100\n",
            "building tree 26 of 100\n",
            "building tree 27 of 100\n",
            "building tree 28 of 100\n",
            "building tree 29 of 100\n",
            "building tree 30 of 100\n",
            "building tree 31 of 100\n",
            "building tree 32 of 100\n",
            "building tree 33 of 100\n",
            "building tree 34 of 100\n",
            "building tree 35 of 100\n",
            "building tree 36 of 100\n",
            "building tree 37 of 100\n",
            "building tree 38 of 100\n",
            "building tree 39 of 100\n",
            "building tree 40 of 100\n",
            "building tree 41 of 100\n",
            "building tree 42 of 100\n",
            "building tree 43 of 100\n",
            "building tree 44 of 100\n",
            "building tree 45 of 100\n",
            "building tree 46 of 100\n",
            "building tree 47 of 100\n",
            "building tree 48 of 100\n",
            "building tree 49 of 100\n",
            "building tree 50 of 100\n",
            "building tree 51 of 100\n",
            "building tree 52 of 100\n",
            "building tree 53 of 100\n",
            "building tree 54 of 100\n",
            "building tree 55 of 100\n",
            "building tree 56 of 100\n",
            "building tree 57 of 100\n",
            "building tree 58 of 100\n",
            "building tree 59 of 100\n",
            "building tree 60 of 100\n",
            "building tree 61 of 100\n",
            "building tree 62 of 100\n",
            "building tree 63 of 100\n",
            "building tree 64 of 100\n",
            "building tree 65 of 100\n",
            "building tree 66 of 100\n",
            "building tree 67 of 100\n",
            "building tree 68 of 100\n",
            "building tree 69 of 100\n",
            "building tree 70 of 100\n",
            "building tree 71 of 100\n",
            "building tree 72 of 100\n",
            "building tree 73 of 100\n",
            "building tree 74 of 100\n",
            "building tree 75 of 100\n",
            "building tree 76 of 100\n",
            "building tree 77 of 100\n",
            "building tree 78 of 100\n",
            "building tree 79 of 100\n",
            "building tree 80 of 100\n",
            "building tree 81 of 100\n",
            "building tree 82 of 100\n",
            "building tree 83 of 100\n",
            "building tree 84 of 100\n",
            "building tree 85 of 100\n",
            "building tree 86 of 100\n",
            "building tree 87 of 100\n",
            "building tree 88 of 100\n",
            "building tree 89 of 100\n",
            "building tree 90 of 100\n",
            "building tree 91 of 100\n",
            "building tree 92 of 100\n",
            "building tree 93 of 100\n",
            "building tree 94 of 100\n",
            "building tree 95 of 100\n",
            "building tree 96 of 100\n",
            "building tree 97 of 100\n",
            "building tree 98 of 100\n",
            "building tree 99 of 100\n",
            "building tree 100 of 100\n"
          ],
          "name": "stdout"
        },
        {
          "output_type": "stream",
          "text": [
            "[Parallel(n_jobs=1)]: Done 100 out of 100 | elapsed:   14.8s finished\n",
            "[Parallel(n_jobs=1)]: Using backend SequentialBackend with 1 concurrent workers.\n",
            "[Parallel(n_jobs=1)]: Done   1 out of   1 | elapsed:    0.0s remaining:    0.0s\n",
            "[Parallel(n_jobs=1)]: Done 100 out of 100 | elapsed:    0.1s finished\n",
            "[Parallel(n_jobs=1)]: Using backend SequentialBackend with 1 concurrent workers.\n"
          ],
          "name": "stderr"
        },
        {
          "output_type": "stream",
          "text": [
            "building tree 1 of 100\n"
          ],
          "name": "stdout"
        },
        {
          "output_type": "stream",
          "text": [
            "[Parallel(n_jobs=1)]: Done   1 out of   1 | elapsed:    0.2s remaining:    0.0s\n"
          ],
          "name": "stderr"
        },
        {
          "output_type": "stream",
          "text": [
            "building tree 2 of 100\n",
            "building tree 3 of 100\n",
            "building tree 4 of 100\n",
            "building tree 5 of 100\n",
            "building tree 6 of 100\n",
            "building tree 7 of 100\n",
            "building tree 8 of 100\n",
            "building tree 9 of 100\n",
            "building tree 10 of 100\n",
            "building tree 11 of 100\n",
            "building tree 12 of 100\n",
            "building tree 13 of 100\n",
            "building tree 14 of 100\n",
            "building tree 15 of 100\n",
            "building tree 16 of 100\n",
            "building tree 17 of 100\n",
            "building tree 18 of 100\n",
            "building tree 19 of 100\n",
            "building tree 20 of 100\n",
            "building tree 21 of 100\n",
            "building tree 22 of 100\n",
            "building tree 23 of 100\n",
            "building tree 24 of 100\n",
            "building tree 25 of 100\n",
            "building tree 26 of 100\n",
            "building tree 27 of 100\n",
            "building tree 28 of 100\n",
            "building tree 29 of 100\n",
            "building tree 30 of 100\n",
            "building tree 31 of 100\n",
            "building tree 32 of 100\n",
            "building tree 33 of 100\n",
            "building tree 34 of 100\n",
            "building tree 35 of 100\n",
            "building tree 36 of 100\n",
            "building tree 37 of 100\n",
            "building tree 38 of 100\n",
            "building tree 39 of 100\n",
            "building tree 40 of 100\n",
            "building tree 41 of 100\n",
            "building tree 42 of 100\n",
            "building tree 43 of 100\n",
            "building tree 44 of 100\n",
            "building tree 45 of 100\n",
            "building tree 46 of 100\n",
            "building tree 47 of 100\n",
            "building tree 48 of 100\n",
            "building tree 49 of 100\n",
            "building tree 50 of 100\n",
            "building tree 51 of 100\n",
            "building tree 52 of 100\n",
            "building tree 53 of 100\n",
            "building tree 54 of 100\n",
            "building tree 55 of 100\n",
            "building tree 56 of 100\n",
            "building tree 57 of 100\n",
            "building tree 58 of 100\n",
            "building tree 59 of 100\n",
            "building tree 60 of 100\n",
            "building tree 61 of 100\n",
            "building tree 62 of 100\n",
            "building tree 63 of 100\n",
            "building tree 64 of 100\n",
            "building tree 65 of 100\n",
            "building tree 66 of 100\n",
            "building tree 67 of 100\n",
            "building tree 68 of 100\n",
            "building tree 69 of 100\n",
            "building tree 70 of 100\n",
            "building tree 71 of 100\n",
            "building tree 72 of 100\n",
            "building tree 73 of 100\n",
            "building tree 74 of 100\n",
            "building tree 75 of 100\n",
            "building tree 76 of 100\n",
            "building tree 77 of 100\n",
            "building tree 78 of 100\n",
            "building tree 79 of 100\n",
            "building tree 80 of 100\n",
            "building tree 81 of 100\n",
            "building tree 82 of 100\n",
            "building tree 83 of 100\n",
            "building tree 84 of 100\n",
            "building tree 85 of 100\n",
            "building tree 86 of 100\n",
            "building tree 87 of 100\n",
            "building tree 88 of 100\n",
            "building tree 89 of 100\n",
            "building tree 90 of 100\n",
            "building tree 91 of 100\n",
            "building tree 92 of 100\n",
            "building tree 93 of 100\n",
            "building tree 94 of 100\n",
            "building tree 95 of 100\n",
            "building tree 96 of 100\n",
            "building tree 97 of 100\n",
            "building tree 98 of 100\n",
            "building tree 99 of 100\n",
            "building tree 100 of 100\n"
          ],
          "name": "stdout"
        },
        {
          "output_type": "stream",
          "text": [
            "[Parallel(n_jobs=1)]: Done 100 out of 100 | elapsed:   14.8s finished\n",
            "[Parallel(n_jobs=1)]: Using backend SequentialBackend with 1 concurrent workers.\n",
            "[Parallel(n_jobs=1)]: Done   1 out of   1 | elapsed:    0.0s remaining:    0.0s\n",
            "[Parallel(n_jobs=1)]: Done 100 out of 100 | elapsed:    0.1s finished\n",
            "[Parallel(n_jobs=1)]: Using backend SequentialBackend with 1 concurrent workers.\n"
          ],
          "name": "stderr"
        },
        {
          "output_type": "stream",
          "text": [
            "building tree 1 of 100\n"
          ],
          "name": "stdout"
        },
        {
          "output_type": "stream",
          "text": [
            "[Parallel(n_jobs=1)]: Done   1 out of   1 | elapsed:    0.2s remaining:    0.0s\n"
          ],
          "name": "stderr"
        },
        {
          "output_type": "stream",
          "text": [
            "building tree 2 of 100\n",
            "building tree 3 of 100\n",
            "building tree 4 of 100\n",
            "building tree 5 of 100\n",
            "building tree 6 of 100\n",
            "building tree 7 of 100\n",
            "building tree 8 of 100\n",
            "building tree 9 of 100\n",
            "building tree 10 of 100\n",
            "building tree 11 of 100\n",
            "building tree 12 of 100\n",
            "building tree 13 of 100\n",
            "building tree 14 of 100\n",
            "building tree 15 of 100\n",
            "building tree 16 of 100\n",
            "building tree 17 of 100\n",
            "building tree 18 of 100\n",
            "building tree 19 of 100\n",
            "building tree 20 of 100\n",
            "building tree 21 of 100\n",
            "building tree 22 of 100\n",
            "building tree 23 of 100\n",
            "building tree 24 of 100\n",
            "building tree 25 of 100\n",
            "building tree 26 of 100\n",
            "building tree 27 of 100\n",
            "building tree 28 of 100\n",
            "building tree 29 of 100\n",
            "building tree 30 of 100\n",
            "building tree 31 of 100\n",
            "building tree 32 of 100\n",
            "building tree 33 of 100\n",
            "building tree 34 of 100\n",
            "building tree 35 of 100\n",
            "building tree 36 of 100\n",
            "building tree 37 of 100\n",
            "building tree 38 of 100\n",
            "building tree 39 of 100\n",
            "building tree 40 of 100\n",
            "building tree 41 of 100\n",
            "building tree 42 of 100\n",
            "building tree 43 of 100\n",
            "building tree 44 of 100\n",
            "building tree 45 of 100\n",
            "building tree 46 of 100\n",
            "building tree 47 of 100\n",
            "building tree 48 of 100\n",
            "building tree 49 of 100\n",
            "building tree 50 of 100\n",
            "building tree 51 of 100\n",
            "building tree 52 of 100\n",
            "building tree 53 of 100\n",
            "building tree 54 of 100\n",
            "building tree 55 of 100\n",
            "building tree 56 of 100\n",
            "building tree 57 of 100\n",
            "building tree 58 of 100\n",
            "building tree 59 of 100\n",
            "building tree 60 of 100\n",
            "building tree 61 of 100\n",
            "building tree 62 of 100\n",
            "building tree 63 of 100\n",
            "building tree 64 of 100\n",
            "building tree 65 of 100\n",
            "building tree 66 of 100\n",
            "building tree 67 of 100\n",
            "building tree 68 of 100\n",
            "building tree 69 of 100\n",
            "building tree 70 of 100\n",
            "building tree 71 of 100\n",
            "building tree 72 of 100\n",
            "building tree 73 of 100\n",
            "building tree 74 of 100\n",
            "building tree 75 of 100\n",
            "building tree 76 of 100\n",
            "building tree 77 of 100\n",
            "building tree 78 of 100\n",
            "building tree 79 of 100\n",
            "building tree 80 of 100\n",
            "building tree 81 of 100\n",
            "building tree 82 of 100\n",
            "building tree 83 of 100\n",
            "building tree 84 of 100\n",
            "building tree 85 of 100\n",
            "building tree 86 of 100\n",
            "building tree 87 of 100\n",
            "building tree 88 of 100\n",
            "building tree 89 of 100\n",
            "building tree 90 of 100\n",
            "building tree 91 of 100\n",
            "building tree 92 of 100\n",
            "building tree 93 of 100\n",
            "building tree 94 of 100\n",
            "building tree 95 of 100\n",
            "building tree 96 of 100\n",
            "building tree 97 of 100\n",
            "building tree 98 of 100\n",
            "building tree 99 of 100\n",
            "building tree 100 of 100\n"
          ],
          "name": "stdout"
        },
        {
          "output_type": "stream",
          "text": [
            "[Parallel(n_jobs=1)]: Done 100 out of 100 | elapsed:   14.9s finished\n",
            "[Parallel(n_jobs=1)]: Using backend SequentialBackend with 1 concurrent workers.\n",
            "[Parallel(n_jobs=1)]: Done   1 out of   1 | elapsed:    0.0s remaining:    0.0s\n",
            "[Parallel(n_jobs=1)]: Done 100 out of 100 | elapsed:    0.1s finished\n"
          ],
          "name": "stderr"
        },
        {
          "output_type": "stream",
          "text": [
            "0.8833822218442012\n"
          ],
          "name": "stdout"
        }
      ]
    },
    {
      "cell_type": "code",
      "metadata": {
        "colab": {
          "base_uri": "https://localhost:8080/"
        },
        "id": "WTeF7XxeZjic",
        "outputId": "660f068a-81e7-4f33-ddc7-8481b1b35242"
      },
      "source": [
        "# Predicting and creating the confusion matrix and scores\n",
        "prediction = text_classifier.predict(X_test)\n",
        " \n",
        "\n",
        "cm = confusion_matrix(y_test,prediction) \n",
        "print(cm)  \n",
        "print(classification_report(y_test,prediction))  \n",
        "print(accuracy_score(y_test, prediction))"
      ],
      "execution_count": 59,
      "outputs": [
        {
          "output_type": "stream",
          "text": [
            "[Parallel(n_jobs=1)]: Using backend SequentialBackend with 1 concurrent workers.\n",
            "[Parallel(n_jobs=1)]: Done   1 out of   1 | elapsed:    0.0s remaining:    0.0s\n",
            "[Parallel(n_jobs=1)]: Done 100 out of 100 | elapsed:    0.2s finished\n"
          ],
          "name": "stderr"
        },
        {
          "output_type": "stream",
          "text": [
            "[[2373  276  104]\n",
            " [ 351  501   78]\n",
            " [ 124  133  452]]\n",
            "              precision    recall  f1-score   support\n",
            "\n",
            "           0       0.83      0.86      0.85      2753\n",
            "           1       0.55      0.54      0.54       930\n",
            "           2       0.71      0.64      0.67       709\n",
            "\n",
            "    accuracy                           0.76      4392\n",
            "   macro avg       0.70      0.68      0.69      4392\n",
            "weighted avg       0.75      0.76      0.76      4392\n",
            "\n",
            "0.7572859744990893\n"
          ],
          "name": "stdout"
        }
      ]
    },
    {
      "cell_type": "code",
      "metadata": {
        "colab": {
          "base_uri": "https://localhost:8080/",
          "height": 500
        },
        "id": "4xhawV4vaSS3",
        "outputId": "f3fd8d31-bdc5-4dd1-f91b-8f4b381a6927"
      },
      "source": [
        "# Confusion matrix as heatmap\n",
        "df_cm = pd.DataFrame(cm, index = [i for i in range(3)],\n",
        "                     columns = [i for i in range(3)])\n",
        "plt.figure(figsize = (8,8))\n",
        "sns.heatmap(df_cm, annot=True, fmt='d')"
      ],
      "execution_count": 60,
      "outputs": [
        {
          "output_type": "execute_result",
          "data": {
            "text/plain": [
              "<matplotlib.axes._subplots.AxesSubplot at 0x7fa89ffcf390>"
            ]
          },
          "metadata": {
            "tags": []
          },
          "execution_count": 60
        },
        {
          "output_type": "display_data",
          "data": {
            "image/png": "[encoded data removed]",
            "text/plain": [
              "<Figure size 576x576 with 2 Axes>"
            ]
          },
          "metadata": {
            "tags": [],
            "needs_background": "light"
          }
        }
      ]
    },
    {
      "cell_type": "code",
      "metadata": {
        "id": "1nBR52LOr0QP",
        "colab": {
          "base_uri": "https://localhost:8080/"
        },
        "outputId": "26978fd4-09fa-4665-cf06-2142ced20ef4"
      },
      "source": [
        "# # Compare actual to predicted values -- model is performing well -- 2 wrong\n",
        "picarr = [0, 59, 89,1234,700]\n",
        "\n",
        "for i in picarr:\n",
        "  print(f\"Predict {i}: {prediction[i]}\")\n",
        "  print(f\"Actual {i}: {yc_test.iloc[i]}\")"
      ],
      "execution_count": 61,
      "outputs": [
        {
          "output_type": "stream",
          "text": [
            "Predict 0: 0\n",
            "Actual 0: 0\n",
            "Predict 59: 0\n",
            "Actual 59: 0\n",
            "Predict 89: 0\n",
            "Actual 89: 1\n",
            "Predict 1234: 1\n",
            "Actual 1234: 1\n",
            "Predict 700: 0\n",
            "Actual 700: 1\n"
          ],
          "name": "stdout"
        }
      ]
    },
    {
      "cell_type": "markdown",
      "metadata": {
        "id": "mfOhazMOfgDz"
      },
      "source": [
        "Please look at my comments in each cell for documentation\n",
        "\n",
        "It seems that from an accuracy score perspective TF IDF is performing slightly better at ~76% vs ~71%. This holds true for the other scores as well.\n",
        "\n",
        "The diagonal in the confusion matrix shows the correct predictions.\n",
        "\n",
        "0 = negative, 1 = neutral and 2 = positive\n",
        "\n",
        "So for example 2558 tweets were predicted as negative comments and they were actually negative comments or 380 comments were predicted positive and they were positive.\n",
        "\n",
        "Overall people are not to happy with their airlines, looking at the countplot UsAir, United and American have a lot of unhappy customers.\n",
        "\n",
        "Virginair seems to have as manny neutral or negative comments as they have positive comments.\n",
        "\n"
      ]
    },
    {
      "cell_type": "code",
      "metadata": {
        "id": "W1TgyjuAW8aF"
      },
      "source": [
        ""
      ],
      "execution_count": null,
      "outputs": []
    },
    {
      "cell_type": "code",
      "metadata": {
        "id": "Xjl9OzhcW8M8"
      },
      "source": [
        ""
      ],
      "execution_count": null,
      "outputs": []
    },
    {
      "cell_type": "markdown",
      "metadata": {
        "id": "HjLA-OdrWkCX"
      },
      "source": [
        "I did some extra work to use a DNN model. I know this was not in the instructions but wanted to try it"
      ]
    },
    {
      "cell_type": "code",
      "metadata": {
        "id": "Jdgow5WVvLoA"
      },
      "source": [
        "import pandas as pd\n",
        "import numpy as np\n",
        "import re\n",
        "import nltk\n",
        "from nltk.corpus import stopwords\n",
        "\n",
        "from numpy import array\n",
        "from keras.preprocessing.text import one_hot\n",
        "from keras.preprocessing.sequence import pad_sequences\n",
        "from keras.models import Sequential\n",
        "from keras.layers.core import Activation, Dropout, Dense\n",
        "from keras.layers import Flatten\n",
        "from keras.layers import GlobalMaxPooling1D\n",
        "from keras.layers.embeddings import Embedding\n",
        "from sklearn.model_selection import train_test_split\n",
        "from keras.preprocessing.text import Tokenizer\n",
        "from tensorflow.keras.preprocessing.text import Tokenizer\n",
        "from tensorflow.keras.preprocessing.sequence import pad_sequences\n",
        "from keras.callbacks import ModelCheckpoint\n",
        "from tensorflow.keras.models import Sequential\n",
        "from tensorflow.keras.layers import LSTM,Dense, Dropout\n",
        "from tensorflow.keras.layers import SpatialDropout1D\n",
        "from tensorflow.keras.layers import Embedding"
      ],
      "execution_count": 62,
      "outputs": []
    },
    {
      "cell_type": "code",
      "metadata": {
        "colab": {
          "base_uri": "https://localhost:8080/"
        },
        "id": "aVG85cV9tzrH",
        "outputId": "a2ecd4fc-3c86-40c2-aa7a-636b2640911b"
      },
      "source": [
        "# convert airline_seentiment to numeric\n",
        "sentiment_label = tweets_df.airline_sentiment.factorize()\n",
        "sentiment_label"
      ],
      "execution_count": 63,
      "outputs": [
        {
          "output_type": "execute_result",
          "data": {
            "text/plain": [
              "(array([0, 1, 0, ..., 0, 2, 0]),\n",
              " Index(['neutral', 'positive', 'negative'], dtype='object'))"
            ]
          },
          "metadata": {
            "tags": []
          },
          "execution_count": 63
        }
      ]
    },
    {
      "cell_type": "code",
      "metadata": {
        "colab": {
          "base_uri": "https://localhost:8080/"
        },
        "id": "bLbQYGt9tGx9",
        "outputId": "49604ef2-7f52-4bc3-c47d-b7b60027ce0f"
      },
      "source": [
        "# Created a padded vector\n",
        "max_fatures = 2000\n",
        "tokenizer = Tokenizer(num_words=max_fatures, split=' ')\n",
        "tokenizer.fit_on_texts(tweets_df['text'].values)\n",
        "X = tokenizer.texts_to_sequences(tweets_df['text'].values)\n",
        "X = pad_sequences(X)\n",
        "print(tokenizer.word_index)\n",
        "print(X[0])"
      ],
      "execution_count": 73,
      "outputs": [
        {
          "output_type": "stream",
          "text": [
            "{'flight': 1, 'unite': 2, 'not': 3, 'usairway': 4, 'americanair': 5, 'southwestair': 6, 'jetblue': 7, 'get': 8, 'thank': 9, 'hour': 10, 'cancel': 11, 'service': 12, 'delay': 13, 'time': 14, 'help': 15, 'customer': 16, 'go': 17, 'fly': 18, 'call': 19, 'bag': 20, 'wait': 21, 'plane': 22, 'hold': 23, 'make': 24, 'need': 25, 'would': 26, 'try': 27, 'one': 28, 'still': 29, 'please': 30, 'day': 31, 'airline': 32, 'gate': 33, 'back': 34, 'virginamerica': 35, 'flightle': 36, 'seat': 37, 'take': 38, 'say': 39, 'book': 40, 'tell': 41, 'face': 42, 'change': 43, 'phone': 44, 'know': 45, 'check': 46, 'like': 47, 'hr': 48, 'late': 49, 'today': 50, 'guy': 51, 'agent': 52, 'work': 53, 'miss': 54, 'ticket': 55, 'give': 56, 'min': 57, 'airport': 58, 'way': 59, 'minute': 60, 'board': 61, 'want': 62, 'see': 63, 'great': 64, 'sit': 65, 'lose': 66, 'even': 67, 'send': 68, 'never': 69, 'problem': 70, 'last': 71, 'tomorrow': 72, 'love': 73, 'weather': 74, 'really': 75, 'good': 76, 'new': 77, 'home': 78, 'issue': 79, 'people': 80, 'look': 81, 'email': 82, 'another': 83, 'let': 84, 'rebook': 85, 'first': 86, 'luggage': 87, 'number': 88, 'travel': 89, 'dm': 90, 'find': 91, 'ever': 92, 'due': 93, 'crew': 94, 'worst': 95, 'experience': 96, 'ye': 97, 'someone': 98, 'next': 99, 'think': 100, 'passenger': 101, 'hand': 102, 'trip': 103, 'much': 104, 'reservation': 105, 'two': 106, 'come': 107, 'baggage': 108, 'ua': 109, 'right': 110, 'keep': 111, 'response': 112, 'line': 113, 'well': 114, 'leave': 115, 'hope': 116, 'online': 117, 'follow': 118, 'week': 119, 'staff': 120, 'best': 121, 'answer': 122, 'pay': 123, 'stick': 124, 'bad': 125, 'connection': 126, 'long': 127, 'update': 128, 'better': 129, 'already': 130, 'land': 131, 'sure': 132, 'left': 133, 'jfk': 134, 'since': 135, 'refund': 136, 'pm': 137, 'ill': 138, 'morn': 139, 'care': 140, 'mile': 141, 'ask': 142, 'happen': 143, 'hang': 144, 'flt': 145, 'w': 146, 'show': 147, 'tonight': 148, 'system': 149, 'flightr': 150, 'website': 151, 'appreciate': 152, 'speak': 153, 'night': 154, 'arrive': 155, 'hotel': 156, 'nothe': 157, 'yet': 158, 'fleet': 159, 'fleek': 160, 'use': 161, 'put': 162, 'dfw': 163, 'attendant': 164, 'fail': 165, 'year': 166, 'info': 167, 'offer': 168, 'upgrade': 169, 'pilot': 170, 'air': 171, 'point': 172, 'charge': 173, 'talk': 174, 'smile': 175, 'anythe': 176, 'credit': 177, 'rude': 178, 'fix': 179, 'also': 180, 'disappoint': 181, 'free': 182, 'nice': 183, 'used': 184, 'thing': 185, 'ago': 186, 'connect': 187, 'voucher': 188, 'rep': 189, 'pass': 190, 'start': 191, 'class': 192, 'fold': 193, 'add': 194, 'hear': 195, 'finally': 196, 'frustrate': 197, 'wifi': 198, 'awesome': 199, 'option': 200, 'understand': 201, 'employee': 202, 'st': 203, 'able': 204, 'break': 205, 'tweet': 206, 'contact': 207, 'person': 208, 'lax': 209, 'receive': 210, 'busine': 211, 'every': 212, 'open': 213, 'ok': 214, 'anyone': 215, 'claim': 216, 'name': 217, 'app': 218, 'b': 219, 'via': 220, 'phl': 221, 'delta': 222, 'available': 223, 'alway': 224, 'id': 225, 'mean': 226, 'without': 227, 'soon': 228, 'team': 229, 'suck': 230, 'stop': 231, 'statu': 232, 'possible': 233, 'yesterday': 234, 'suppose': 235, 'thx': 236, 'many': 237, 'amaze': 238, 'seem': 239, 'terrible': 240, 'deal': 241, 'sorry': 242, 'helpful': 243, 'plan': 244, 'departure': 245, 'sfo': 246, 'dca': 247, 'schedule': 248, 'buy': 249, 'bc': 250, 'extra': 251, 'instead': 252, 'return': 253, 'early': 254, 'friend': 255, 'site': 256, 'strand': 257, 'eye': 258, 'kid': 259, 'southwest': 260, 'almost': 261, 'feel': 262, 'direct': 263, 'run': 264, 'money': 265, 'hi': 266, 'paid': 267, 'grind': 268, 'heart': 269, 'rt': 270, 'though': 271, 'earlier': 272, 'chance': 273, 'ord': 274, 'cry': 275, 'move': 276, 'lot': 277, 'happy': 278, 'clt': 279, 'la': 280, 'different': 281, 'policy': 282, 'job': 283, 'card': 284, 'member': 285, 'spend': 286, 'message': 287, 'family': 288, 'company': 289, 'airway': 290, 'vega': 291, 'unacceptable': 292, 'respond': 293, 'snow': 294, 'allow': 295, 'big': 296, 'least': 297, 'wife': 298, 'reply': 299, 'somethe': 300, 'everyone': 301, 'month': 302, 'question': 303, 'expect': 304, 'full': 305, 'actually': 306, 'boston': 307, 'poor': 308, 'ridiculou': 309, 'destinationdragon': 310, 'airplane': 311, 'reason': 312, 'dalla': 313, 'th': 314, 'horrible': 315, 'pick': 316, 'oh': 317, 'tarmac': 318, 'request': 319, 'chicago': 320, 'provide': 321, 'account': 322, 'reschedule': 323, 'old': 324, 'denver': 325, 'seriously': 326, 'twitter': 327, 'american': 328, 'vacation': 329, 'ur': 330, 'ewr': 331, 'cost': 332, 'treat': 333, 'san': 334, 'maybe': 335, 'desk': 336, 'wrong': 337, 'drive': 338, 'food': 339, 'bo': 340, 'confirm': 341, 'stay': 342, 'far': 343, 'might': 344, 'flightlation': 345, 'link': 346, 'c': 347, 'count': 348, 'away': 349, 'end': 350, 'bring': 351, 'handle': 352, 'half': 353, 'enough': 354, 'travele': 355, 'destination': 356, 'complaint': 357, 'hey': 358, 'fee': 359, 'depart': 360, 'confirmation': 361, 'past': 362, 'three': 363, 'mechanical': 364, 'price': 365, 'car': 366, 'little': 367, 'may': 368, 'together': 369, 'row': 370, 'tear': 371, 'nyc': 372, 'twice': 373, 'apology': 374, 'charlotte': 375, 'runway': 376, 'cool': 377, 'drop': 378, 'le': 379, 'switch': 380, 'around': 381, 'pl': 382, 'joy': 383, 'place': 384, 'guess': 385, 'terminal': 386, 'idea': 387, 'longer': 388, 'sleep': 389, 'blue': 390, 'error': 391, 'second': 392, 'dc': 393, 'checkin': 394, 'worse': 395, 'newark': 396, 'lack': 397, 'else': 398, 'awful': 399, 'plu': 400, 'watch': 401, 'reach': 402, 'real': 403, 'thumb': 404, 'city': 405, 'computer': 406, 'houston': 407, 'room': 408, 'believe': 409, 'iad': 410, 'process': 411, 'live': 412, 'life': 413, 'close': 414, 'head': 415, 'k': 416, 'thru': 417, 'deliver': 418, 'fare': 419, 'hard': 420, 'load': 421, 'meet': 422, 'purchase': 423, 'cust': 424, 'lol': 425, 'philly': 426, 'international': 427, 'jet': 428, 'figure': 429, 'nd': 430, 'worry': 431, 'share': 432, 'turn': 433, 'address': 434, 'reflight': 435, 'disconnect': 436, 'phx': 437, 'everythe': 438, 'human': 439, 'assistance': 440, 'monday': 441, 'carry': 442, 'waste': 443, 'fll': 444, 'leg': 445, 'information': 446, 'maintenance': 447, 'swa': 448, 'award': 449, 'loyal': 450, 'joke': 451, 'lga': 452, 'route': 453, 'quick': 454, 'drink': 455, 'forward': 456, 'standby': 457, 'glad': 458, 'group': 459, 'miami': 460, 'usair': 461, 'club': 462, 'world': 463, 'resolve': 464, 'ceo': 465, 'feed': 466, 'iah': 467, 'form': 468, 'date': 469, 'busy': 470, 'rock': 471, 'tv': 472, 'word': 473, 'case': 474, 'communication': 475, 'unitedairline': 476, 'screw': 477, 'lie': 478, 'flyer': 479, 'fuck': 480, 'refuse': 481, 'file': 482, 'hate': 483, 'sw': 484, 'red': 485, 'mess': 486, 'wish': 487, 'empty': 488, 'yr': 489, 'explain': 490, 'record': 491, 'list': 492, 'imaginedragon': 493, 'traveler': 494, 'loudly': 495, 'entire': 496, 'train': 497, 'ruin': 498, 'counter': 499, 'sunday': 500, 'yeah': 501, 'concern': 502, 'promise': 503, 'force': 504, 'currently': 505, 'read': 506, 'bwi': 507, 'pretty': 508, 'support': 509, 'correct': 510, 'sad': 511, 'whole': 512, 'supervisor': 513, 'hopefully': 514, 'either': 515, 'wow': 516, 'tsa': 517, 'report': 518, 'kind': 519, 'detail': 520, 'rather': 521, 'den': 522, 'fault': 523, 'companion': 524, 'beyond': 525, 'wtf': 526, 'learn': 527, 'future': 528, 'sign': 529, 'fine': 530, 'super': 531, 'continue': 532, 'ready': 533, 'state': 534, 'sell': 535, 'set': 536, 'forget': 537, 'storm': 538, 'upset': 539, 'situation': 540, 'nashville': 541, 'automate': 542, 'post': 543, 'inflight': 544, 'high': 545, 'access': 546, 'cabin': 547, 'wonder': 548, 'cross': 549, 'mco': 550, 'feb': 551, 'customerservice': 552, 'grin': 553, 'apparently': 554, 'easy': 555, 'safety': 556, 'clothe': 557, 'okay': 558, 'door': 559, 'tuesday': 560, 'atlanta': 561, 'media': 562, 'layover': 563, 'completely': 564, 'x': 565, 'probably': 566, 'save': 567, 'submit': 568, 'part': 569, 'fill': 570, 'stand': 571, 'atl': 572, 'note': 573, 'top': 574, 'must': 575, 'priority': 576, 'r': 577, 'inconvenience': 578, 'space': 579, 'shit': 580, 'bump': 581, 'luck': 582, 'orlando': 583, 'transfer': 584, 'platinum': 585, 'weekend': 586, 'compensation': 587, 'original': 588, 'fact': 589, 'huge': 590, 'cold': 591, 'middle': 592, 'trouble': 593, 'austin': 594, 'husband': 595, 'complete': 596, 'zero': 597, 'lounge': 598, 'wed': 599, 'catch': 600, 'wall': 601, 'pout': 602, 'expire': 603, 'notice': 604, 'fun': 605, 'several': 606, 'daughter': 607, 'mom': 608, 'winter': 609, 'arrival': 610, 'water': 611, 'oscar': 612, 'mobile': 613, 'despite': 614, 'tix': 615, 'aircraft': 616, 'enjoy': 617, 'matter': 618, 'extremely': 619, 'write': 620, 'tire': 621, 'front': 622, 'consider': 623, 'sense': 624, 'freeze': 625, 'meal': 626, 'crazy': 627, 'dividend': 628, 'country': 629, 'birthday': 630, 'page': 631, 'notification': 632, 'rd': 633, 'accept': 634, 'ppl': 635, 'baby': 636, 'listen': 637, 'unable': 638, 'multiple': 639, 'choose': 640, 'attitude': 641, 'notify': 642, 'letter': 643, 'select': 644, 'win': 645, 'track': 646, 'step': 647, 'four': 648, 'code': 649, 'folk': 650, 'friday': 651, 'choice': 652, 'gold': 653, 'item': 654, 'ice': 655, 'party': 656, 'unfortunately': 657, 'tag': 658, 'rdu': 659, 'compensate': 660, 'hello': 661, 'virgin': 662, 'non': 663, 'apply': 664, 'totally': 665, 'fl': 666, 'area': 667, 'afternoon': 668, 'absolutely': 669, 'mileage': 670, 'rate': 671, 'overnight': 672, 'control': 673, 'mine': 674, 'excuse': 675, 'kudo': 676, 'nope': 677, 'cover': 678, 'true': 679, 'relation': 680, 'lady': 681, 'anyway': 682, 'friendly': 683, 'text': 684, 'include': 685, 'sort': 686, 'itinerary': 687, 'round': 688, 'small': 689, 'course': 690, 'child': 691, 'announce': 692, 'overhead': 693, 'cut': 694, 'wonderful': 695, 'worth': 696, 'literally': 697, 'surprise': 698, 'social': 699, 'haha': 700, 'plz': 701, 'ride': 702, 'nonstop': 703, 'hire': 704, 'americanairline': 705, 'ny': 706, 'bit': 707, 'clap': 708, 'sound': 709, 'window': 710, 'order': 711, 'wink': 712, 'pull': 713, 'excellent': 714, 'short': 715, 'son': 716, 'mistake': 717, 'blame': 718, 'walk': 719, 'n': 720, 'clear': 721, 'office': 722, 'explanation': 723, 'push': 724, 'bna': 725, 'mia': 726, 'excite': 727, 'saturday': 728, 'assist': 729, 'passbook': 730, 'story': 731, 'man': 732, 'wo': 733, 'anymore': 734, 'anywhere': 735, 'attempt': 736, 'feedback': 737, 'neveragain': 738, 'however': 739, 'reroute': 740, 'play': 741, 'prefer': 742, 'mind': 743, 'web': 744, 'mention': 745, 'center': 746, 'march': 747, 'advantage': 748, 'behind': 749, 'earn': 750, 'receipt': 751, 'deserve': 752, 'accommodate': 753, 'conf': 754, 'phoenix': 755, 'serve': 756, 'failure': 757, 'angry': 758, 'usairwaysfail': 759, 'clean': 760, 'volume': 761, 'reward': 762, 'entertainment': 763, 'p': 764, 'enter': 765, 'takeoff': 766, 'view': 767, 'video': 768, 'btw': 769, 'damage': 770, 'stuff': 771, 'dollar': 772, 'svc': 773, 'regard': 774, 'domestic': 775, 'bother': 776, 'honor': 777, 'flightd': 778, 'advisory': 779, 'flightation': 780, 'power': 781, 'merger': 782, 'fan': 783, 'disgust': 784, 'funeral': 785, 'dragon': 786, 'warm': 787, 'usele': 788, 'button': 789, 'begin': 790, 'frequent': 791, 'bank': 792, 'raise': 793, 'touch': 794, 'intl': 795, 'finger': 796, 'captain': 797, 'deny': 798, 'confuse': 799, 'none': 800, 'cater': 801, 'sky': 802, 'special': 803, 'become': 804, 'uk': 805, 'unhelpful': 806, 'impress': 807, 'fall': 808, 'single': 809, 'hell': 810, 'deplane': 811, 'locate': 812, 'safe': 813, 'acceptable': 814, 'f': 815, 'current': 816, 'representative': 817, 'absolute': 818, 'definitely': 819, 'reimburse': 820, 'mexico': 821, 'philadelphia': 822, 'avgeek': 823, 'security': 824, 'total': 825, 'appear': 826, 'unhappy': 827, 'onto': 828, 'major': 829, 'final': 830, 'fair': 831, 'damn': 832, 'suggestion': 833, 'tmrw': 834, 'snack': 835, 'street': 836, 'carrier': 837, 'match': 838, 'program': 839, 'welcome': 840, 'trust': 841, 'suitcase': 842, 'funny': 843, 'battle': 844, 'slow': 845, 'nightmare': 846, 'actual': 847, 'deice': 848, 'h': 849, 'ignore': 850, 'rule': 851, 'announcement': 852, 'equipment': 853, 'bird': 854, 'pathetic': 855, 'remember': 856, 'premier': 857, 'annoy': 858, 'fit': 859, 'difference': 860, 'cc': 861, 'badservice': 862, 'visit': 863, 'per': 864, 'except': 865, 'realize': 866, 'sister': 867, 'especially': 868, 'callback': 869, 'merge': 870, 'south': 871, 'die': 872, 'fantastic': 873, 'inform': 874, 'apologize': 875, 'america': 876, 'seattle': 877, 'interest': 878, 'sun': 879, 'advise': 880, 'imagine': 881, 'weary': 882, 'kill': 883, 'base': 884, 'palm': 885, 'result': 886, 'manage': 887, 'resolution': 888, 'solution': 889, 'partner': 890, 'favorite': 891, 'carryon': 892, 'require': 893, 'complain': 894, 'coach': 895, 'usually': 896, 'overbook': 897, 'tho': 898, 'sick': 899, 'redeem': 900, 'onboard': 901, 'print': 902, 'operate': 903, 'hit': 904, 'god': 905, 'star': 906, 'condition': 907, 'mark': 908, 'unbelievable': 909, 'department': 910, 'phlairport': 911, 'game': 912, 'smh': 913, 'iphone': 914, 'improve': 915, 'screen': 916, 'lovely': 917, 'rental': 918, 'diego': 919, 'seriou': 920, 'emergency': 921, 'victory': 922, 'impossible': 923, 'delivery': 924, 'yo': 925, 'photo': 926, 'personal': 927, 'assign': 928, 'suggest': 929, 'fa': 930, 'bus': 931, 'important': 932, 'log': 933, 'decide': 934, 'children': 935, 'exit': 936, 'clearly': 937, 'appease': 938, 'chairman': 939, 'internet': 940, 'eat': 941, 'expensive': 942, 'bin': 943, 'midnight': 944, 'dmd': 945, 'beam': 946, 'ugh': 947, 'along': 948, 'event': 949, 'hot': 950, 'fyi': 951, 'toward': 952, 'likely': 953, 'auto': 954, 'badcustomerservice': 955, 'dmed': 956, 'avoid': 957, 'dept': 958, 'crash': 959, 'limit': 960, 'hundr': 961, 'inside': 962, 'effort': 963, 'shoot': 964, 'ohare': 965, 'steal': 966, 'exactly': 967, 'etc': 968, 'level': 969, 'prompt': 970, 'engine': 971, 'till': 972, 'brother': 973, 'act': 974, 'cheap': 975, 'discount': 976, 'wednesday': 977, 'alert': 978, 'trueblue': 979, 'commercial': 980, 'lead': 981, 'reserve': 982, 'market': 983, 'congrat': 984, 'music': 985, 'premium': 986, 'infant': 987, 'alone': 988, 'daily': 989, 'coffee': 990, 'unamuse': 991, 'usa': 992, 'degree': 993, 'couple': 994, 'omg': 995, 'exist': 996, 'additional': 997, 'main': 998, 'mail': 999, 'outside': 1000, 'mileageplu': 1001, 'ahead': 1002, 'previou': 1003, 'diff': 1004, 'extend': 1005, 'patience': 1006, 'forever': 1007, 'fast': 1008, 'rent': 1009, 'amount': 1010, 'eventually': 1011, 'plenty': 1012, 'type': 1013, 'patient': 1014, 'nc': 1015, 'admiral': 1016, 'columbu': 1017, 'dfwairport': 1018, 'brand': 1019, 'hawaii': 1020, 'waive': 1021, 'acro': 1022, 'faster': 1023, 'pdx': 1024, 'spring': 1025, 'sweet': 1026, 'girl': 1027, 'comp': 1028, 'treatment': 1029, 'ball': 1030, 'avail': 1031, 'cheer': 1032, 'bday': 1033, 'shock': 1034, 'hook': 1035, 'truly': 1036, 'third': 1037, 'incredibly': 1038, 'character': 1039, 'yep': 1040, 'taxi': 1041, 'within': 1042, 'nobody': 1043, 'incompetence': 1044, 'clue': 1045, 'decision': 1046, 'divert': 1047, 'example': 1048, 'quickly': 1049, 'frustration': 1050, 'florida': 1051, 'manager': 1052, 'tampa': 1053, 'park': 1054, 'incompetent': 1055, 'safely': 1056, 'embarrass': 1057, 'mad': 1058, 'straight': 1059, 'buffalo': 1060, 'professional': 1061, 'mint': 1062, 'journal': 1063, 'blow': 1064, 'beat': 1065, 'floor': 1066, 'bet': 1067, 'shame': 1068, 'dog': 1069, 'silver': 1070, 'jump': 1071, 'school': 1072, 'picture': 1073, 'fight': 1074, 'light': 1075, 'profit': 1076, 'promo': 1077, 'stewarde': 1078, 'moment': 1079, 'perfect': 1080, 'affect': 1081, 'economy': 1082, 'shoe': 1083, 'client': 1084, 'pre': 1085, 'fund': 1086, 'solve': 1087, 'unprofessional': 1088, 'courtesy': 1089, 'carousel': 1090, 'yell': 1091, 'sea': 1092, 'simply': 1093, 'age': 1094, 'woman': 1095, 'piss': 1096, 'msg': 1097, 'jetway': 1098, 'double': 1099, 'pleasant': 1100, 'house': 1101, 'value': 1102, 'pr': 1103, 'honest': 1104, 'cab': 1105, 'possibly': 1106, 'five': 1107, 'perhap': 1108, 'guarantee': 1109, 'corporate': 1110, 'mother': 1111, 'traffic': 1112, 'sale': 1113, 'slc': 1114, 'relate': 1115, 'pbi': 1116, 'estimate': 1117, 'somewhere': 1118, 'rr': 1119, 'wsj': 1120, 'nearly': 1121, 'death': 1122, 'side': 1123, 'dream': 1124, 'dal': 1125, 'feet': 1126, 'thursday': 1127, 'fuel': 1128, 'kick': 1129, 'beautiful': 1130, 'design': 1131, 'create': 1132, 'logan': 1133, 'april': 1134, 'throw': 1135, 'texa': 1136, 'ipad': 1137, 'click': 1138, 'wheel': 1139, 'flier': 1140, 'au': 1141, 'low': 1142, 'thankyou': 1143, 'dad': 1144, 'advance': 1145, 'prior': 1146, 'tough': 1147, 'mechanic': 1148, 'military': 1149, 'prepare': 1150, 'ontime': 1151, 'comment': 1152, 'certificate': 1153, 'disaster': 1154, 'dia': 1155, 'frm': 1156, 'originally': 1157, 'london': 1158, 'ty': 1159, 'piece': 1160, 'officially': 1161, 'worker': 1162, 'crappy': 1163, 'quality': 1164, 'pit': 1165, 'near': 1166, 'elite': 1167, 'automatically': 1168, 'juan': 1169, 'legroom': 1170, 'fire': 1171, 'remind': 1172, 'wheelchair': 1173, 'nothappy': 1174, 'specific': 1175, 'flyfi': 1176, 'vx': 1177, 'opportunity': 1178, 'stress': 1179, 'operation': 1180, 'carrieunderwood': 1181, 'song': 1182, 'hearteye': 1183, 'sf': 1184, 'outstand': 1185, 'precheck': 1186, 'queue': 1187, 'afford': 1188, 'sooner': 1189, 'pair': 1190, 'cmh': 1191, 'york': 1192, 'easily': 1193, 'crap': 1194, 'paper': 1195, 'alternate': 1196, 'jan': 1197, 'thnx': 1198, 'disappear': 1199, 'minor': 1200, 'simple': 1201, 'ski': 1202, 'cheaper': 1203, 'washington': 1204, 'dead': 1205, 'action': 1206, 'absurd': 1207, 'discuss': 1208, 'pic': 1209, 'directly': 1210, 'otherwise': 1211, 'location': 1212, 'til': 1213, 'management': 1214, 'public': 1215, 'holder': 1216, 'speed': 1217, 'global': 1218, 'yyz': 1219, 'ha': 1220, 'replace': 1221, 'ual': 1222, 'rsw': 1223, 'aware': 1224, 'respect': 1225, 'lower': 1226, 'shuttle': 1227, 'obviously': 1228, 'separate': 1229, 'often': 1230, 'roundtrip': 1231, 'rest': 1232, 'six': 1233, 'insult': 1234, 'interview': 1235, 'although': 1236, 'east': 1237, 'winner': 1238, 'promotion': 1239, 'fort': 1240, 'feature': 1241, 'summer': 1242, 'sju': 1243, 'jb': 1244, 'locator': 1245, 'chat': 1246, 'glass': 1247, 'ladygaga': 1248, 'february': 1249, 'student': 1250, 'biz': 1251, 'recent': 1252, 'remove': 1253, 'dulle': 1254, 'lame': 1255, 'normal': 1256, 'grow': 1257, 'pari': 1258, 'benefit': 1259, 'standard': 1260, 'road': 1261, 'express': 1262, 'suit': 1263, 'guitar': 1264, 'search': 1265, 'coat': 1266, 'airfare': 1267, 'difficult': 1268, 'properly': 1269, 'local': 1270, 'cancun': 1271, 'pax': 1272, 'yea': 1273, 'outlet': 1274, 'exact': 1275, 'easier': 1276, 'device': 1277, 'assume': 1278, 'whose': 1279, 'pt': 1280, 'release': 1281, 'chair': 1282, 'unreal': 1283, 'wet': 1284, 'acct': 1285, 'raleigh': 1286, 'epicfail': 1287, 'bdl': 1288, 'buf': 1289, 'fraud': 1290, 'higher': 1291, 'retrieve': 1292, 'bathroom': 1293, 'memphi': 1294, 'communicate': 1295, 'million': 1296, 'weight': 1297, 'peanut': 1298, 'loyalty': 1299, 'assignment': 1300, 'cell': 1301, 'usual': 1302, 'rapid': 1303, 'insane': 1304, 'west': 1305, 'parent': 1306, 'august': 1307, 'ft': 1308, 'lauderdale': 1309, 'gear': 1310, 'mdw': 1311, 'contest': 1312, 'fortunemagazine': 1313, 'beach': 1314, 'jblu': 1315, 'flyingitforward': 1316, 'among': 1317, 'large': 1318, 'lo': 1319, 'bill': 1320, 'somehow': 1321, 'position': 1322, 'flag': 1323, 'payment': 1324, 'method': 1325, 'recommend': 1326, 'model': 1327, 'laptop': 1328, 'black': 1329, 'incredible': 1330, 'prevent': 1331, 'timely': 1332, 'accord': 1333, 'inconvenient': 1334, 'okc': 1335, 'medical': 1336, 'nut': 1337, 'unavailable': 1338, 'sna': 1339, 'heathrow': 1340, 'california': 1341, 'inbound': 1342, 'lb': 1343, 'rip': 1344, 'review': 1345, 'disappointment': 1346, 'finish': 1347, 'reimbursement': 1348, 'balance': 1349, 'spot': 1350, 'kp': 1351, 'stl': 1352, 'jh': 1353, 'certainly': 1354, 'basically': 1355, 'handler': 1356, 'pensive': 1357, 'advertise': 1358, 'lesson': 1359, 'shameful': 1360, 'understaf': 1361, 'costumer': 1362, 'beer': 1363, 'cun': 1364, 'poorly': 1365, 'honeymoon': 1366, 'certain': 1367, 'bf': 1368, 'tue': 1369, 'freak': 1370, 'pvd': 1371, 'practice': 1372, 'ah': 1373, 'fam': 1374, 'yay': 1375, 'ripoff': 1376, 'msp': 1377, 'somebody': 1378, 'size': 1379, 'nasty': 1380, 'mke': 1381, 'alist': 1382, 'hunt': 1383, 'cmon': 1384, 'va': 1385, 'australia': 1386, 'dirty': 1387, 'whenever': 1388, 'q': 1389, 'uncomfortable': 1390, 'exp': 1391, 'tech': 1392, 'register': 1393, 'field': 1394, 'mon': 1395, 'surgery': 1396, 'virginatlantic': 1397, 'positive': 1398, 'wind': 1399, 'ribbon': 1400, 'lap': 1401, 'gift': 1402, 'incident': 1403, 'portland': 1404, 'io': 1405, 'pa': 1406, 'david': 1407, 'outbound': 1408, 'repeat': 1409, 'zone': 1410, 'coast': 1411, 'fb': 1412, 'coupon': 1413, 'heat': 1414, 'lhr': 1415, 'hostage': 1416, 'pack': 1417, 'nah': 1418, 'split': 1419, 'unle': 1420, 'wout': 1421, 'unfriendlysky': 1422, 'repair': 1423, 'poorservice': 1424, 'attention': 1425, 'miserable': 1426, 'ba': 1427, 'whatever': 1428, 'police': 1429, 'garbage': 1430, 'kiosk': 1431, 'prob': 1432, 'upcome': 1433, 'dinner': 1434, 'official': 1435, 'false': 1436, 'idiot': 1437, 'sometime': 1438, 'attend': 1439, 'approach': 1440, 'personnel': 1441, 'immediately': 1442, 'nj': 1443, 'shitty': 1444, 'sadly': 1445, 'shout': 1446, 'remain': 1447, 'procedure': 1448, 'tpa': 1449, 'aviation': 1450, 'golf': 1451, 'warn': 1452, 'accurate': 1453, 'father': 1454, 'laguardia': 1455, 'join': 1456, 'puerto': 1457, 'term': 1458, 'pittsburgh': 1459, 'ashame': 1460, 'steam': 1461, 'est': 1462, 'stroller': 1463, 'ring': 1464, 'compassion': 1465, 'lucky': 1466, 'sunny': 1467, 'lovedragon': 1468, 'exec': 1469, 'fabulou': 1470, 'anytime': 1471, 'elevate': 1472, 'wine': 1473, 'agree': 1474, 'g': 1475, 'boy': 1476, 'secure': 1477, 'francisco': 1478, 'complimentary': 1479, 'central': 1480, 'sjc': 1481, 'sunglas': 1482, 'inspire': 1483, 'abq': 1484, 'salt': 1485, 'revenue': 1486, 'increase': 1487, 'flightly': 1488, 'smooth': 1489, 'greet': 1490, 'channel': 1491, 'tea': 1492, 'industry': 1493, 'mr': 1494, 'manner': 1495, 'ac': 1496, 'elsewhere': 1497, 'private': 1498, 'seek': 1499, 'doubt': 1500, 'define': 1501, 'valid': 1502, 'wake': 1503, 'apple': 1504, 'apart': 1505, 'reference': 1506, 'generic': 1507, 'canada': 1508, 'statement': 1509, 'boyfriend': 1510, 'prove': 1511, 'cuz': 1512, 'consistent': 1513, 'general': 1514, 'ton': 1515, 'cleveland': 1516, 'blog': 1517, 'english': 1518, 'accommodation': 1519, 'l': 1520, 'mci': 1521, 'eta': 1522, 'reagan': 1523, 'breakfast': 1524, 'ktn': 1525, 'downgrade': 1526, 'ad': 1527, 'dozen': 1528, 'csr': 1529, 'truck': 1530, 'exception': 1531, 'programme': 1532, 'bummer': 1533, 'volunteer': 1534, 'honestly': 1535, 'sight': 1536, 'present': 1537, 'unitedsuck': 1538, 'toddler': 1539, 'toilet': 1540, 'conference': 1541, 'belong': 1542, 'alliance': 1543, 'pile': 1544, 'alright': 1545, 'tree': 1546, 'perk': 1547, 'operator': 1548, 'badly': 1549, 'young': 1550, 'cnn': 1551, 'advice': 1552, 'tkt': 1553, 'ind': 1554, 'biggest': 1555, 'history': 1556, 'teach': 1557, 'cup': 1558, 'yup': 1559, 'whether': 1560, 'flytpa': 1561, 'bonu': 1562, 'odd': 1563, 'initial': 1564, 'icy': 1565, 'nose': 1566, 'midway': 1567, 'voice': 1568, 'tx': 1569, 'band': 1570, 'loose': 1571, 'plat': 1572, 'waterbury': 1573, 'republican': 1574, 'circle': 1575, 'cowboycerrone': 1576, 'guest': 1577, 'redirect': 1578, 'scan': 1579, 'comfortable': 1580, 'indicate': 1581, 'stink': 1582, 'dance': 1583, 'snowflake': 1584, 'bug': 1585, 'password': 1586, 'grand': 1587, 'race': 1588, 'dtw': 1589, 'paperwork': 1590, 'challenge': 1591, 'celebrate': 1592, 'eastern': 1593, 'fear': 1594, 'malfunction': 1595, 'popper': 1596, 'rough': 1597, 'luckily': 1598, 'abc': 1599, 'penalty': 1600, 'common': 1601, 'january': 1602, 'ya': 1603, 'preboard': 1604, 'sincerely': 1605, 'huh': 1606, 'have': 1607, 'stressful': 1608, 'hence': 1609, 'curiou': 1610, 'owe': 1611, 'machine': 1612, 'bullshit': 1613, 'bunch': 1614, 'monitor': 1615, 'period': 1616, 'notcool': 1617, 'reminder': 1618, 'ensure': 1619, 'membership': 1620, 'karen': 1621, 'gross': 1622, 'correctly': 1623, 'lufthansa': 1624, 'replacement': 1625, 'lit': 1626, 'article': 1627, 'hassle': 1628, 'flightst': 1629, 'reasonable': 1630, 'occur': 1631, 'consistently': 1632, 'outsource': 1633, 'shut': 1634, 'segment': 1635, 'transaction': 1636, 'epic': 1637, 'irritate': 1638, 'wear': 1639, 'lousy': 1640, 'metal': 1641, 'worstairlineever': 1642, 'dumb': 1643, 'hurt': 1644, 'memory': 1645, 'availability': 1646, 'strike': 1647, 'trap': 1648, 'staralliance': 1649, 'passport': 1650, 'ahold': 1651, 'unitedfail': 1652, 'conversation': 1653, 'cle': 1654, 'ff': 1655, 'approve': 1656, 'ship': 1657, 'inch': 1658, 'airbu': 1659, 'jax': 1660, 'technical': 1661, 'horrendou': 1662, 'disgrace': 1663, 'john': 1664, 'furiou': 1665, 'cart': 1666, 'transport': 1667, 'thousand': 1668, 'misplace': 1669, 'wth': 1670, 'gg': 1671, 'cont': 1672, 'tablet': 1673, 'anniversary': 1674, 'hide': 1675, 'rico': 1676, 'camera': 1677, 'nexu': 1678, 'jacksonville': 1679, 'de': 1680, 'spiritairline': 1681, 'scavenger': 1682, 'aug': 1683, 'resch': 1684, 'arrow': 1685, 'stupid': 1686, 'cash': 1687, 'velourlive': 1688, 'selfie': 1689, 'lauren': 1690, 'transportation': 1691, 'njb': 1692, 'bluemanity': 1693, 'livery': 1694, 'bottle': 1695, 'usairwayssuck': 1696, 'teen': 1697, 'await': 1698, 'unuse': 1699, 'entertain': 1700, 'stat': 1701, 'table': 1702, 'film': 1703, 'sarcasm': 1704, 'plain': 1705, 'buck': 1706, 'refresh': 1707, 'white': 1708, 'ability': 1709, 'putt': 1710, 'reset': 1711, 'ca': 1712, 'purpose': 1713, 'pillow': 1714, 'barely': 1715, 'turbulence': 1716, 'forecast': 1717, 'nytime': 1718, 'visa': 1719, 'badge': 1720, 'grandma': 1721, 'gesture': 1722, 'scream': 1723, 'spread': 1724, 'jack': 1725, 'europe': 1726, 'dear': 1727, 'serv': 1728, 'law': 1729, 'cousin': 1730, 'existent': 1731, 'upon': 1732, 'gf': 1733, 'quite': 1734, 'october': 1735, 'whoever': 1736, 'loui': 1737, 'quote': 1738, 'atrociou': 1739, 'responsibility': 1740, 'compliment': 1741, 'assure': 1742, 'deep': 1743, 'pocket': 1744, 'wk': 1745, 'jp': 1746, 'bar': 1747, 'impact': 1748, 'refuel': 1749, 'rectify': 1750, 'display': 1751, 'reinstate': 1752, 'yvr': 1753, 'msy': 1754, 'male': 1755, 'threaten': 1756, 'canadian': 1757, 'wallet': 1758, 'abt': 1759, 'hubby': 1760, 'forth': 1761, 'glitch': 1762, 'unfriendly': 1763, 'aspen': 1764, 'block': 1765, 'gain': 1766, 'terribly': 1767, 'shop': 1768, 'compare': 1769, 'aircanada': 1770, 'pray': 1771, 'worstcustomerservice': 1772, 'copy': 1773, 'reconsider': 1774, 'desperately': 1775, 'girlfriend': 1776, 'mech': 1777, 'bay': 1778, 'content': 1779, 'relationship': 1780, 'exceptional': 1781, 'pend': 1782, 'chi': 1783, 'tick': 1784, 'appall': 1785, 'delete': 1786, 'inexcusable': 1787, 'arrange': 1788, 'ramp': 1789, 'download': 1790, 'cxl': 1791, 'progress': 1792, 'weird': 1793, 'decent': 1794, 'pound': 1795, 'disregard': 1796, 'pen': 1797, 'commitment': 1798, 'plastic': 1799, 'useful': 1800, 'expedia': 1801, 'extension': 1802, 'argue': 1803, 'basic': 1804, 'responsible': 1805, 'painful': 1806, 'june': 1807, 'lifetime': 1808, 'hungry': 1809, 'alternative': 1810, 'exchange': 1811, 'dial': 1812, 'tongue': 1813, 'courteou': 1814, 'gas': 1815, 'survey': 1816, 'pet': 1817, 'women': 1818, 'waiver': 1819, 'harder': 1820, 'van': 1821, 'fresh': 1822, 'cat': 1823, 'ric': 1824, 'neither': 1825, 'understandable': 1826, 'indee': 1827, 'xx': 1828, 'succe': 1829, 'hub': 1830, 'sigh': 1831, 'birmingham': 1832, 'brutal': 1833, 'charleston': 1834, 'throughout': 1835, 'tip': 1836, 'partnership': 1837, 'test': 1838, 'noon': 1839, 'arrangement': 1840, 'md': 1841, 'baltimore': 1842, 'corporation': 1843, 'refer': 1844, 'crowd': 1845, 'expressionle': 1846, 'aww': 1847, 'college': 1848, 'chao': 1849, 'unload': 1850, 'disney': 1851, 'involve': 1852, 'regular': 1853, 'agency': 1854, 'nantucket': 1855, 'hpn': 1856, 'shoutout': 1857, 'ctl': 1858, 'key': 1859, 'blast': 1860, 'suicide': 1861, 'fully': 1862, 'impressive': 1863, 'unexpect': 1864, 'getaway': 1865, 'oneway': 1866, 'browser': 1867, 'cabo': 1868, 'redcarpet': 1869, 'globe': 1870, 'destroy': 1871, 'driver': 1872, 'license': 1873, 'dullesairport': 1874, 'ep': 1875, 'nervou': 1876, 'wing': 1877, 'pro': 1878, 'scare': 1879, 'sec': 1880, 'nicely': 1881, 'fav': 1882, 'regulation': 1883, 'atlantic': 1884, 'application': 1885, 'performance': 1886, 'relieve': 1887, 'gma': 1888, 'jacket': 1889, 'superior': 1890, 'constant': 1891, 'fat': 1892, 'brilliant': 1893, 'jose': 1894, 'lock': 1895, 'movie': 1896, 'accident': 1897, 'executive': 1898, 'chase': 1899, 'weak': 1900, 'thankfully': 1901, 'expense': 1902, 'beside': 1903, 'improvement': 1904, 'unfortunate': 1905, 'buddy': 1906, 'guide': 1907, 'scam': 1908, 'ey': 1909, 'disrespect': 1910, 'december': 1911, 'ref': 1912, 'operational': 1913, 'esp': 1914, 'tel': 1915, 'hou': 1916, 'flyohare': 1917, 'stellar': 1918, 'happily': 1919, 'stranger': 1920, 'highly': 1921, 'adopt': 1922, 'spare': 1923, 'beverage': 1924, 'confusion': 1925, 'software': 1926, 'unnecessary': 1927, 'flat': 1928, 'chicken': 1929, 'proper': 1930, 'incur': 1931, 'typical': 1932, 'overweight': 1933, 'dming': 1934, 'coworker': 1935, 'oversell': 1936, 'mex': 1937, 'ten': 1938, 'hm': 1939, 'worthle': 1940, 'ber': 1941, 'frankfurt': 1942, 'humor': 1943, 'grr': 1944, 'cx': 1945, 'hilariou': 1946, 'facebook': 1947, 'tiny': 1948, 'tone': 1949, 'lazy': 1950, 'wu': 1951, 'valuable': 1952, 'perform': 1953, 'contract': 1954, 'relative': 1955, 'organization': 1956, 'describe': 1957, 'tail': 1958, 'capt': 1959, 'discover': 1960, 'bhm': 1961, 'accountability': 1962, 'aisle': 1963, 'planet': 1964, 'concourse': 1965, 'journey': 1966, 'cvg': 1967, 'albany': 1968, 'clarify': 1969, 'detroit': 1970, 'bush': 1971, 'rout': 1972, 'abysmal': 1973, 'hnl': 1974, 'stream': 1975, 'extreme': 1976, 'similar': 1977, 'directtv': 1978, 'closer': 1979, 'backup': 1980, 'formal': 1981, 'roc': 1982, 'map': 1983, 'north': 1984, 'overall': 1985, 'recently': 1986, 'document': 1987, 'incentive': 1988, 'forgive': 1989, 'charity': 1990, 'tight': 1991, 'combine': 1992, 'menu': 1993, 'maint': 1994, 'firstcla': 1995, 'highheel': 1996, 'fave': 1997, 'expedite': 1998, 'heavy': 1999, 'income': 2000, 'alot': 2001, 'selection': 2002, 'admit': 2003, 'jt': 2004, 'custom': 2005, 'shortly': 2006, 'conflict': 2007, 'laugh': 2008, 'scale': 2009, 'blah': 2010, 'en': 2011, 'hartford': 2012, 'package': 2013, 'lmao': 2014, 'earth': 2015, 'fortunately': 2016, 'qualify': 2017, 'technically': 2018, 'gogo': 2019, 'thankful': 2020, 'data': 2021, 'southwestairline': 2022, 'unreliable': 2023, 'bae': 2024, 'injury': 2025, 'terry': 2026, 'oakland': 2027, 'bostonlogan': 2028, 'enroute': 2029, 'telephone': 2030, 'cali': 2031, 'battery': 2032, 'colleague': 2033, 'kelly': 2034, 'triflight': 2035, 'nearby': 2036, 'savannah': 2037, 'anticipate': 2038, 'costa': 2039, 'rica': 2040, 'evaluate': 2041, 'caller': 2042, 'national': 2043, 'cuba': 2044, 'mosaic': 2045, 'goodwill': 2046, 'asleep': 2047, 'digital': 2048, 'crewmember': 2049, 'significant': 2050, 'cot': 2051, 'onhold': 2052, 'filmcrew': 2053, 'recourse': 2054, 'hat': 2055, 'headphone': 2056, 'touchdown': 2057, 'andrew': 2058, 'random': 2059, 'user': 2060, 'desktop': 2061, 'prince': 2062, 'version': 2063, 'represent': 2064, 'cake': 2065, 'andor': 2066, 'comfort': 2067, 'inquire': 2068, 'crisi': 2069, 'recline': 2070, 'assault': 2071, 'cocktail': 2072, 'exhaust': 2073, 'boo': 2074, 'flylaxairport': 2075, 'inappropriate': 2076, 'kiss': 2077, 'stun': 2078, 'kingdom': 2079, 'ella': 2080, 'bounce': 2081, 'requirement': 2082, 'thur': 2083, 'classy': 2084, 'strong': 2085, 'umm': 2086, 'popular': 2087, 'hop': 2088, 'wave': 2089, 'september': 2090, 'illegal': 2091, 'removal': 2092, 'cessna': 2093, 'flex': 2094, 'bogota': 2095, 'negotiate': 2096, 'boot': 2097, 'neglect': 2098, 'july': 2099, 'tourist': 2100, 'century': 2101, 'pop': 2102, 'property': 2103, 'bot': 2104, 'horrid': 2105, 'china': 2106, 'aviv': 2107, 'continental': 2108, 'fran': 2109, 'po': 2110, 'regret': 2111, 'encounter': 2112, 'constantly': 2113, 'appropriate': 2114, 'corp': 2115, 'friendlysky': 2116, 'finest': 2117, 'project': 2118, 'ogg': 2119, 'closest': 2120, 'pacific': 2121, 'carseat': 2122, 'kit': 2123, 'pj': 2124, 'attach': 2125, 'reserv': 2126, 'connector': 2127, 'inadequate': 2128, 'nonsense': 2129, 'pqd': 2130, 'poorcustomerservice': 2131, 'lake': 2132, 'truth': 2133, 'orf': 2134, 'recover': 2135, 'musician': 2136, 'premiere': 2137, 'cute': 2138, 'kindne': 2139, 'beauty': 2140, 'settle': 2141, 'bridge': 2142, 'temp': 2143, 'foot': 2144, 'rob': 2145, 'dry': 2146, 'btv': 2147, 'lisa': 2148, 'j': 2149, 'dr': 2150, 'freq': 2151, 'wreck': 2152, 'dot': 2153, 'pleasure': 2154, 'explorer': 2155, 'snowy': 2156, 'disgraceful': 2157, 'ph': 2158, 'pat': 2159, 'restore': 2160, 'pretzel': 2161, 'legal': 2162, 'mi': 2163, 'spanish': 2164, 'sincere': 2165, 'circumstance': 2166, 'reliable': 2167, 'flightaware': 2168, 'efficiency': 2169, 'worstairline': 2170, 'philippine': 2171, 'co': 2172, 'hdn': 2173, 'numerou': 2174, 'everytime': 2175, 'green': 2176, 'stt': 2177, 'competitor': 2178, 'proof': 2179, 'oversize': 2180, 'cluster': 2181, 'bereavement': 2182, 'uh': 2183, 'notch': 2184, 'shoulder': 2185, 'particularly': 2186, 'pricey': 2187, 'nh': 2188, 'unknown': 2189, 'poo': 2190, 'cranky': 2191, 'average': 2192, 'draw': 2193, 'hardly': 2194, 'fiasco': 2195, 'relax': 2196, 'nature': 2197, 'proud': 2198, 'pain': 2199, 'belize': 2200, 'congratulation': 2201, 'fra': 2202, 'stock': 2203, 'orlean': 2204, 'skill': 2205, 'login': 2206, 'bahama': 2207, 'officer': 2208, 'consideration': 2209, 'verify': 2210, 'bankrupt': 2211, 'google': 2212, 'folder': 2213, 'darn': 2214, 'clarification': 2215, 'belt': 2216, 'lavatory': 2217, 'function': 2218, 'roll': 2219, 'necessary': 2220, 'burn': 2221, 'box': 2222, 'massive': 2223, 'annual': 2224, 'dest': 2225, 'sept': 2226, 'magic': 2227, 'customerservicefail': 2228, 'annricord': 2229, 'boss': 2230, 'dobetter': 2231, 'weigh': 2232, 'custserv': 2233, 'tab': 2234, 'rush': 2235, 'gj': 2236, 'mission': 2237, 'subpar': 2238, 'pref': 2239, 'invite': 2240, 'protect': 2241, 'nonexistent': 2242, 'provider': 2243, 'omaha': 2244, 'dang': 2245, 'magazine': 2246, 'greatservice': 2247, 'rno': 2248, 'cheat': 2249, 'speedy': 2250, 'dime': 2251, 'ivr': 2252, 'proceed': 2253, 'al': 2254, 'birth': 2255, 'spirit': 2256, 'grateful': 2257, 'hopeful': 2258, 'station': 2259, 'antonio': 2260, 'ohio': 2261, 'heavily': 2262, 'soak': 2263, 'rethink': 2264, 'athlete': 2265, 'aka': 2266, 'color': 2267, 'jamaica': 2268, 'harbor': 2269, 'impression': 2270, 'smirk': 2271, 'greenville': 2272, 'indy': 2273, 'northeast': 2274, 'hv': 2275, 'heck': 2276, 'louisville': 2277, 'gr': 2278, 'lunch': 2279, 'anxiou': 2280, 'gary': 2281, 'utah': 2282, 'paypal': 2283, 'pwm': 2284, 'na': 2285, 'unlike': 2286, 'pump': 2287, 'fastest': 2288, 'lodge': 2289, 'vieque': 2290, 'barbado': 2291, 'rely': 2292, 'mem': 2293, 'flush': 2294, 'neutral': 2295, 'getittogether': 2296, 'brandmance': 2297, 'praise': 2298, 'sxm': 2299, 'flyitforward': 2300, 'diversion': 2301, 'dissatisfy': 2302, 'comm': 2303, 'dump': 2304, 'paint': 2305, 'awe': 2306, 'alaska': 2307, 'jvmchat': 2308, 'sympathy': 2309, 'flydelta': 2310, 'med': 2311, 'ho': 2312, 'vile': 2313, 'logistic': 2314, 'assult': 2315, 'americanview': 2316, 'prime': 2317, 'innovation': 2318, 'rain': 2319, 'mary': 2320, 'appointment': 2321, 'cheapflight': 2322, 'farecompare': 2323, 'build': 2324, 'delight': 2325, 'spoil': 2326, 'investor': 2327, 'psp': 2328, 'pressure': 2329, 'safari': 2330, 'hahaha': 2331, 'severely': 2332, 'shift': 2333, 'expectation': 2334, 'santa': 2335, 'financial': 2336, 'consecutive': 2337, 'competition': 2338, 'ct': 2339, 'wa': 2340, 'temperature': 2341, 'section': 2342, 'chrome': 2343, 'asset': 2344, 'tonite': 2345, 'bound': 2346, 'style': 2347, 'tax': 2348, 'checkout': 2349, 'mood': 2350, 'emboss': 2351, 'patch': 2352, 'cue': 2353, 'sparkle': 2354, 'develop': 2355, 'giant': 2356, 'dallaslovefield': 2357, 'expand': 2358, 'consumer': 2359, 'cheese': 2360, 'richard': 2361, 'plate': 2362, 'haul': 2363, 'network': 2364, 'recieve': 2365, 'town': 2366, 'risk': 2367, 'flaw': 2368, 'ase': 2369, 'debacle': 2370, 'int': 2371, 'silverairway': 2372, 'marry': 2373, 'recheck': 2374, 'addition': 2375, 'active': 2376, 'brain': 2377, 'coincidence': 2378, 'silly': 2379, 'negligence': 2380, 'faith': 2381, 'continually': 2382, 'tide': 2383, 'reduce': 2384, 'severe': 2385, 'confident': 2386, 'lostluggage': 2387, 'variou': 2388, 'holiday': 2389, 'kn': 2390, 'equal': 2391, 'manchester': 2392, 'delhi': 2393, 'thin': 2394, 'ftw': 2395, 'sched': 2396, 'manually': 2397, 'bed': 2398, 'sandwich': 2399, 'quiet': 2400, 'norm': 2401, 'terrific': 2402, 'madrid': 2403, 'randomly': 2404, 'kindle': 2405, 'overwhelm': 2406, 'tool': 2407, 'saver': 2408, 'shall': 2409, 'investigate': 2410, 'resume': 2411, 'rarely': 2412, 'commit': 2413, 'etihad': 2414, 'theworst': 2415, 'reunite': 2416, 'enquire': 2417, 'understatement': 2418, 'measure': 2419, 'tom': 2420, 'wipe': 2421, 'robin': 2422, 'host': 2423, 'suffer': 2424, 'partial': 2425, 'nrt': 2426, 'practical': 2427, 'cushion': 2428, 'retrain': 2429, 'oop': 2430, 'scott': 2431, 'nite': 2432, 'intend': 2433, 'zurich': 2434, 'oct': 2435, 'paste': 2436, 'hanger': 2437, 'sdf': 2438, 'robotic': 2439, 'deck': 2440, 'servicefail': 2441, 'beg': 2442, 'deltassist': 2443, 'acknowledge': 2444, 'efficient': 2445, 'definition': 2446, 'snowstorm': 2447, 'intentionally': 2448, 'singapore': 2449, 'toronto': 2450, 'strategy': 2451, 'bagage': 2452, 'mtg': 2453, 'albuquerque': 2454, 'nowhere': 2455, 'retain': 2456, 'haydensteamboat': 2457, 'dark': 2458, 'origin': 2459, 'ana': 2460, 'thu': 2461, 'convince': 2462, 'astound': 2463, 'seg': 2464, 'shv': 2465, 'boise': 2466, 'atc': 2467, 'smallest': 2468, 'continuou': 2469, 'dunno': 2470, 'outrageou': 2471, 'norfolk': 2472, 'allowance': 2473, 'tucson': 2474, 'pant': 2475, 'smell': 2476, 'self': 2477, 'ntrustopen': 2478, 'cae': 2479, 'hospitality': 2480, 'anthony': 2481, 'def': 2482, 'snowboard': 2483, 'honolulu': 2484, 'miler': 2485, 'sacramento': 2486, 'providence': 2487, 'quicker': 2488, 'mislead': 2489, 'mth': 2490, 'easiest': 2491, 'flip': 2492, 'tk': 2493, 'restriction': 2494, 'accidentally': 2495, 'duh': 2496, 'tremendou': 2497, 'goal': 2498, 'traveller': 2499, 'orig': 2500, 'cooky': 2501, 'swap': 2502, 'calgary': 2503, 'wno': 2504, 'halfway': 2505, 'lmfao': 2506, 'ali': 2507, 'collection': 2508, 'oz': 2509, 'normally': 2510, 'trash': 2511, 'aboard': 2512, 'mid': 2513, 'bum': 2514, 'comcast': 2515, 'difficulty': 2516, 'reopen': 2517, 'cruise': 2518, 'nola': 2519, 'sm': 2520, 'inefficient': 2521, 'favor': 2522, 'cramp': 2523, 'lh': 2524, 'awkward': 2525, 'newyork': 2526, 'smoothly': 2527, 'thoma': 2528, 'blanket': 2529, 'fc': 2530, 'quit': 2531, 'bro': 2532, 'armrest': 2533, 'remote': 2534, 'twelve': 2535, 'letsgo': 2536, 'therefore': 2537, 'vomit': 2538, 'notimpres': 2539, 'patiently': 2540, 'chocolate': 2541, 'jeff': 2542, 'chill': 2543, 'tray': 2544, 'donation': 2545, 'jam': 2546, 'galley': 2547, 'alive': 2548, 'nocustomerservice': 2549, 'accordingly': 2550, 'duty': 2551, 'dpt': 2552, 'refundable': 2553, 'cloud': 2554, 'rant': 2555, 'sop': 2556, 'perfectomobile': 2557, 'supposedly': 2558, 'incorrect': 2559, 'sayin': 2560, 'incorrectly': 2561, 'dep': 2562, 'equally': 2563, 'uniform': 2564, 'err': 2565, 'punta': 2566, 'cana': 2567, 'specifically': 2568, 'unaware': 2569, 'grab': 2570, 'accomplish': 2571, 'headache': 2572, 'sydney': 2573, 'hardwork': 2574, 'britishairway': 2575, 'rudest': 2576, 'movy': 2577, 'boee': 2578, 'trade': 2579, 'cert': 2580, 'preciou': 2581, 'shannon': 2582, 'lowest': 2583, 'identical': 2584, 'federal': 2585, 'internal': 2586, 'flyunite': 2587, 'functionality': 2588, 'rudene': 2589, 'highlight': 2590, 'input': 2591, 'gent': 2592, 'holy': 2593, 'entirely': 2594, 'nynjairport': 2595, 'disorganize': 2596, 'nicer': 2597, 'budget': 2598, 'snag': 2599, 'anamarketer': 2600, 'clever': 2601, 'nonprofit': 2602, 'allergy': 2603, 'profile': 2604, 'personally': 2605, 'hero': 2606, 'signal': 2607, 'reflect': 2608, 'integration': 2609, 'scene': 2610, 'interaction': 2611, 'arizona': 2612, 'range': 2613, 'daytona': 2614, 'contingency': 2615, 'retire': 2616, 'miracle': 2617, 'aruba': 2618, 'elderly': 2619, 'nolove': 2620, 'sb': 2621, 'confound': 2622, 'asshole': 2623, 'holdup': 2624, 'az': 2625, 'valentine': 2626, 'photography': 2627, 'november': 2628, 'maiden': 2629, 'doug': 2630, 'concert': 2631, 'restroom': 2632, 'el': 2633, 'kc': 2634, 'opinion': 2635, 'sweat': 2636, 'insist': 2637, 'indianapoli': 2638, 'mouth': 2639, 'disrespectful': 2640, 'winterweather': 2641, 'cxld': 2642, 'gun': 2643, 'inclement': 2644, 'forfeit': 2645, 'amex': 2646, 'responsive': 2647, 'gracia': 2648, 'carolina': 2649, 'rid': 2650, 'oak': 2651, 'sing': 2652, 'protocol': 2653, 'bottom': 2654, 'bestairline': 2655, 'curve': 2656, 'ragandisney': 2657, 'recovery': 2658, 'wknd': 2659, 'agt': 2660, 'woohoo': 2661, 'bloody': 2662, 'bike': 2663, 'ahhhh': 2664, 'behavior': 2665, 'tryin': 2666, 'mt': 2667, 'dsm': 2668, 'deplorable': 2669, 'pool': 2670, 'madne': 2671, 'establish': 2672, 'sc': 2673, 'um': 2674, 'nassau': 2675, 'jetbae': 2676, 'tomato': 2677, 'charter': 2678, 'gladly': 2679, 'surely': 2680, 'opposite': 2681, 'idk': 2682, 'yest': 2683, 'gorgeou': 2684, 'brandloveaffair': 2685, 'nine': 2686, 'haiti': 2687, 'dl': 2688, 'div': 2689, 'wyou': 2690, 'seven': 2691, 'island': 2692, 'misunderstand': 2693, 'lovejetblue': 2694, 'unwil': 2695, 'fed': 2696, 'nvr': 2697, 'italy': 2698, 'marie': 2699, 'depend': 2700, 'brush': 2701, 'anybody': 2702, 'kylejudah': 2703, 'jayvig': 2704, 'reverse': 2705, 'utterly': 2706, 'oneworld': 2707, 'sabre': 2708, 'kphl': 2709, 'phil': 2710, 'usairsuck': 2711, 'cracker': 2712, 'cherry': 2713, 'srvc': 2714, 'cr': 2715, 'jeanine': 2716, 'yousuck': 2717, 'askpaypal': 2718, 'yuma': 2719, 'neptune': 2720, 'thenewamerican': 2721, 'ramper': 2722, 'sexual': 2723, 'rev': 2724, 'goodbye': 2725, 'derekc': 2726, 'aggressive': 2727, 'men': 2728, 'vegan': 2729, 'worstflightever': 2730, 'roast': 2731, 'moodlight': 2732, 'downtown': 2733, 'julie': 2734, 'modify': 2735, 'distribution': 2736, 'peep': 2737, 'apt': 2738, 'butt': 2739, 'reputation': 2740, 'intern': 2741, 'jfksfo': 2742, 'hotline': 2743, 'dude': 2744, 'sunset': 2745, 'monkey': 2746, 'precipitation': 2747, 'disruption': 2748, 'unusable': 2749, 'sanfrancisco': 2750, 'fanew': 2751, 'painle': 2752, 'woaw': 2753, 'lieflat': 2754, 'arm': 2755, 'mayweatherpacquiao': 2756, 'doctor': 2757, 'kciairport': 2758, 'soooo': 2759, 'dislike': 2760, 'achieve': 2761, 'capaviation': 2762, 'mostly': 2763, 'noooo': 2764, 'urgent': 2765, 'cancer': 2766, 'momma': 2767, 'duffle': 2768, 'rockstar': 2769, 'soft': 2770, 'bruh': 2771, 'dig': 2772, 'pink': 2773, 'atx': 2774, 'stray': 2775, 'plough': 2776, 'lone': 2777, 'furrow': 2778, 'middleeast': 2779, 'thenationaluae': 2780, 'sprint': 2781, 'dick': 2782, 'integrate': 2783, 'heaven': 2784, 'affiliate': 2785, 'xweekly': 2786, 'usatoday': 2787, 'compete': 2788, 'mph': 2789, 'tailwind': 2790, 'minneapoli': 2791, 'bff': 2792, 'enroll': 2793, 'hugely': 2794, 'glasgow': 2795, 'ta': 2796, 'logic': 2797, 'gee': 2798, 'repeatedly': 2799, 'newly': 2800, 'reissue': 2801, 'instruct': 2802, 'austrian': 2803, 'codeshare': 2804, 'incl': 2805, 'disable': 2806, 'plague': 2807, 'roger': 2808, 'wc': 2809, 'worstunitedflightsever': 2810, 'pattern': 2811, 'legitimate': 2812, 'systemwide': 2813, 'unrelate': 2814, 'french': 2815, 'indication': 2816, 'fiancee': 2817, 'panic': 2818, 'dispute': 2819, 'convenient': 2820, 'thanx': 2821, 'strange': 2822, 'wour': 2823, 'runaround': 2824, 'addtl': 2825, 'stall': 2826, 'rearrange': 2827, 'ethiopia': 2828, 'frigid': 2829, 'unschedule': 2830, 'suspect': 2831, 'mass': 2832, 'christma': 2833, 'permission': 2834, 'vice': 2835, 'void': 2836, 'argument': 2837, 'shake': 2838, 'isi': 2839, 'tune': 2840, 'cnxn': 2841, 'deaf': 2842, 'horn': 2843, 'president': 2844, 'dublin': 2845, 'confidence': 2846, 'saga': 2847, 'bkk': 2848, 'jm': 2849, 'collect': 2850, 'formally': 2851, 'pointle': 2852, 'slightly': 2853, 'altitude': 2854, 'supply': 2855, 'milan': 2856, 'jj': 2857, 'clown': 2858, 'terribleservice': 2859, 'blatant': 2860, 'eu': 2861, 'hopele': 2862, 'interior': 2863, 'peace': 2864, 'inept': 2865, 'fucken': 2866, 'frontrunner': 2867, 'charm': 2868, 'bull': 2869, 'liar': 2870, 'hourdelay': 2871, 'happycustomer': 2872, 'oma': 2873, 'oti': 2874, 'trace': 2875, 'brave': 2876, 'irresponsible': 2877, 'sympathetic': 2878, 'paulo': 2879, 'rcvd': 2880, 'comedy': 2881, 'voicemail': 2882, 'educate': 2883, 'mike': 2884, 'intention': 2885, 'winterstorm': 2886, 'gettin': 2887, 'sunrise': 2888, 'laxjfk': 2889, 'decline': 2890, 'arrogant': 2891, 'rikrik': 2892, 'alwayslate': 2893, 'fewer': 2894, 'overflight': 2895, 'shirt': 2896, 'disgruntle': 2897, 'enforce': 2898, 'strongly': 2899, 'grandfather': 2900, 'maintain': 2901, 'empathy': 2902, 'calendar': 2903, 'happier': 2904, 'pricele': 2905, 'thread': 2906, 'eco': 2907, 'shrug': 2908, 'hemisphere': 2909, 'pressurization': 2910, 'cnx': 2911, 'checkpoint': 2912, 'immediate': 2913, 'visible': 2914, 'pin': 2915, 'shouldhaveflowndelta': 2916, 'bk': 2917, 'nt': 2918, 'border': 2919, 'con': 2920, 'unitedairlinessuck': 2921, 'tour': 2922, 'appreciation': 2923, 'flysfo': 2924, 'jeokoo': 2925, 'solo': 2926, 'hack': 2927, 'exclusively': 2928, 'qanta': 2929, 'cruel': 2930, 'flatter': 2931, 'legit': 2932, 'lag': 2933, 'approx': 2934, 'regardle': 2935, 'foxnew': 2936, 'transit': 2937, 'preflight': 2938, 'witness': 2939, 'culture': 2940, 'rank': 2941, 'adam': 2942, 'livid': 2943, 'opal': 2944, 'weave': 2945, 'murder': 2946, 'internationally': 2947, 'turnaround': 2948, 'individual': 2949, 'concept': 2950, 'econ': 2951, 'plow': 2952, 'movement': 2953, 'competent': 2954, 'preference': 2955, 'vital': 2956, 'overcharge': 2957, 'op': 2958, 'hole': 2959, 'hrmin': 2960, 'denphx': 2961, 'contain': 2962, 'backlog': 2963, 'downhill': 2964, 'username': 2965, 'orbitz': 2966, 'frequentflyer': 2967, 'inevitable': 2968, 'greedy': 2969, 'relay': 2970, 'chief': 2971, 'curbside': 2972, 'satisfy': 2973, 'kingscollegelondon': 2974, 'jailbreak': 2975, 'rag': 2976, 'columbia': 2977, 'rotten': 2978, 'owner': 2979, 'notgoodenough': 2980, 'airlinegeek': 2981, 'sadden': 2982, 'bye': 2983, 'behave': 2984, 'former': 2985, 'pia': 2986, 'jfklax': 2987, 'resend': 2988, 'booze': 2989, 'beware': 2990, 'frontier': 2991, 'harsh': 2992, 'entitle': 2993, 'reek': 2994, 'discrimination': 2995, 'reassign': 2996, 'enjoyable': 2997, 'jedediahbila': 2998, 'vote': 2999, 'path': 3000, 'loser': 3001, 'warmth': 3002, 'sentiment': 3003, 'regional': 3004, 'friendliest': 3005, 'abuse': 3006, 'privilege': 3007, 'mn': 3008, 'stow': 3009, 'pnr': 3010, 'smisek': 3011, 'aw': 3012, 'hug': 3013, 'hangar': 3014, 'janet': 3015, 'xdaily': 3016, 'erj': 3017, 'entry': 3018, 'sobewff': 3019, 'ont': 3020, 'prebook': 3021, 'uncare': 3022, 'brag': 3023, 'perth': 3024, 'nxt': 3025, 'evry': 3026, 'mht': 3027, 'ru': 3028, 'silence': 3029, 'moon': 3030, 'reboard': 3031, 'argentina': 3032, 'woo': 3033, 'fr': 3034, 'typo': 3035, 'pleasantly': 3036, 'awake': 3037, 'nothank': 3038, 'suite': 3039, 'promptly': 3040, 'trick': 3041, 'heathrowairport': 3042, 'xday': 3043, 'loc': 3044, 'stillwait': 3045, 'slip': 3046, 'oversea': 3047, 'jerk': 3048, 'bat': 3049, 'slapintheface': 3050, 'capital': 3051, 'amateur': 3052, 'tnx': 3053, 'fallow': 3054, 'health': 3055, 'math': 3056, 'metro': 3057, 'insufficient': 3058, 'overflow': 3059, 'midland': 3060, 'staffer': 3061, 'westjet': 3062, 'apparent': 3063, 'nicest': 3064, 'technology': 3065, 'storage': 3066, 'bitch': 3067, 'knee': 3068, 'shade': 3069, 'wrap': 3070, 'pretend': 3071, 'troubleshoot': 3072, 'stone': 3073, 'court': 3074, 'hashtag': 3075, 'previously': 3076, 'headach': 3077, 'fella': 3078, 'humiliate': 3079, 'dine': 3080, 'hometown': 3081, 'hypocrisy': 3082, 'captive': 3083, 'jane': 3084, 'retweet': 3085, 'decency': 3086, 'fiance': 3087, 'everywhere': 3088, 'ferry': 3089, 'equip': 3090, 'inbox': 3091, 'boat': 3092, 'distance': 3093, 'outdate': 3094, 'myer': 3095, 'durango': 3096, 'meantime': 3097, 'survive': 3098, 'cld': 3099, 'proactive': 3100, 'port': 3101, 'torture': 3102, 'research': 3103, 'pregnant': 3104, 'sweetheart': 3105, 'ffl': 3106, 'taylor': 3107, 'vallarta': 3108, 'honey': 3109, 'france': 3110, 'delayscancel': 3111, 'affordable': 3112, 'lynn': 3113, 'nephew': 3114, 'lindsey': 3115, 'principle': 3116, 'mug': 3117, 'larger': 3118, 'combination': 3119, 'luvswa': 3120, 'capacity': 3121, 'strip': 3122, 'sport': 3123, 'earlybird': 3124, 'cellphone': 3125, 'weatherrelate': 3126, 'intercom': 3127, 'nsw': 3128, 'chg': 3129, 'flgt': 3130, 'unveil': 3131, 'orangecounty': 3132, 'spam': 3133, 'sery': 3134, 'loop': 3135, 'phxskyharbor': 3136, 'robot': 3137, 'huntsville': 3138, 'lasairport': 3139, 'carpet': 3140, 'discontinue': 3141, 'secret': 3142, 'homele': 3143, 'unpleasant': 3144, 'prop': 3145, 'rumor': 3146, 'boycott': 3147, 'arp': 3148, 'goin': 3149, 'alex': 3150, 'glow': 3151, 'seatac': 3152, 'wld': 3153, 'paso': 3154, 'coordinate': 3155, 'particular': 3156, 'crazine': 3157, 'wheelsup': 3158, 'portion': 3159, 'bgr': 3160, 'theellenshow': 3161, 'complicate': 3162, 'flynashville': 3163, 'horror': 3164, 'mask': 3165, 'horse': 3166, 'bless': 3167, 'soul': 3168, 'buyer': 3169, 'noone': 3170, 'rn': 3171, 'jacquie': 3172, 'plitt': 3173, 'unhappycustomer': 3174, 'bwiairport': 3175, 'srsly': 3176, 'gosh': 3177, 'bestfriend': 3178, 'happine': 3179, 'squint': 3180, 'vaca': 3181, 'invalid': 3182, 'android': 3183, 'jason': 3184, 'rescue': 3185, 'gotcha': 3186, 'gmail': 3187, 'hrl': 3188, 'fist': 3189, 'instrument': 3190, 'goto': 3191, 'wmy': 3192, 'logo': 3193, 'mvp': 3194, 'physically': 3195, 'whoa': 3196, 'stewardes': 3197, 'mardigra': 3198, 'hmmm': 3199, 'sooo': 3200, 'flysouthwest': 3201, 'possibility': 3202, 'txt': 3203, 'backpack': 3204, 'scenario': 3205, 'predict': 3206, 'gsp': 3207, 'separately': 3208, 'starve': 3209, 'grade': 3210, 'hangup': 3211, 'inability': 3212, 'jetbluesofly': 3213, 'reader': 3214, 'occasion': 3215, 'uvf': 3216, 'westchester': 3217, 'tatianake': 3218, 'adv': 3219, 'wmcactionnew': 3220, 'stare': 3221, 'blank': 3222, 'toledo': 3223, 'lord': 3224, 'community': 3225, 'awww': 3226, 'woof': 3227, 'pitt': 3228, 'joanna': 3229, 'robert': 3230, 'specify': 3231, 'amybruni': 3232, 'maimi': 3233, 'abcnetwork': 3234, 'geek': 3235, 'dissapoint': 3236, 'disorganization': 3237, 'syracuse': 3238, 'haye': 3239, 'endle': 3240, 'srq': 3241, 'capture': 3242, 'jetbluerock': 3243, 'desire': 3244, 'scheme': 3245, 'controller': 3246, 'flite': 3247, 'ch': 3248, 'mercy': 3249, 'pig': 3250, 'marathon': 3251, 'ping': 3252, 'likelihood': 3253, 'reality': 3254, 'dare': 3255, 'sunshine': 3256, 'lovesongfriday': 3257, 'taxie': 3258, 'slide': 3259, 'tb': 3260, 'angel': 3261, 'coverage': 3262, 'physical': 3263, 'zkatcher': 3264, 'convo': 3265, 'youth': 3266, 'dcabo': 3267, 'target': 3268, 'sensitive': 3269, 'greatest': 3270, 'safetyfirst': 3271, 'ellahenderson': 3272, 'vincenzolandino': 3273, 'hint': 3274, 'roxydigital': 3275, 'registration': 3276, 'breast': 3277, 'beamske': 3278, 'spell': 3279, 'citizen': 3280, 'grace': 3281, 'bougth': 3282, 'mc': 3283, 'basket': 3284, 'vm': 3285, 'derrick': 3286, 'bussey': 3287, 'eyw': 3288, 'kim': 3289, 'cargo': 3290, 'nbr': 3291, 'wd': 3292, 'delayedcancel': 3293, 'cincy': 3294, 'glove': 3295, 'gainesville': 3296, 'pst': 3297, 'patrick': 3298, 'flightno': 3299, 'offload': 3300, 'sauce': 3301, 'onholdwith': 3302, 'goingforgreatnessfail': 3303, 'gso': 3304, 'aggravate': 3305, 'unusual': 3306, 'jtrexsocial': 3307, 'xna': 3308, 'abandon': 3309, 'faulty': 3310, 'obj': 3311, 'horriblecustomerservice': 3312, 'sweetingr': 3313, 'sean': 3314, 'fresno': 3315, 'cho': 3316, 'bout': 3317, 'manch': 3318, 'execplat': 3319, 'faithful': 3320, 'occupy': 3321, 'inferior': 3322, 'mastercard': 3323, 'parker': 3324, 'notmyfault': 3325, 'deadhead': 3326, 'jackkairy': 3327, 'gem': 3328, 'sensele': 3329, 'grk': 3330, 'wichita': 3331, 'mce': 3332, 'pn': 3333, 'veer': 3334, 'auh': 3335, 'worstcustomerserviceever': 3336, 'latime': 3337, 'chicagotribune': 3338, 'fourth': 3339, 'envoy': 3340, 'evoucher': 3341, 'cnnbrk': 3342, 'cll': 3343, 'ky': 3344, 'billion': 3345, 'taste': 3346, 'badmgmt': 3347, 'hoop': 3348, 'obnoxiou': 3349, 'ear': 3350, 'graphic': 3351, 'gentleman': 3352, 'amazingly': 3353, 'bosla': 3354, 'permanently': 3355, 'vent': 3356, 'maneuver': 3357, 'lf': 3358, 'selfservice': 3359, 'vibe': 3360, 'moodlitmonday': 3361, 'sciencebehindtheexperience': 3362, 'purple': 3363, 'angele': 3364, 'mountain': 3365, 'spotify': 3366, 'gaga': 3367, 'carrie': 3368, 'meh': 3369, 'classic': 3370, 'neverflyvirginforbusine': 3371, 'kitty': 3372, 'sfolax': 3373, 'fllsfo': 3374, 'sneaky': 3375, 'beautifully': 3376, 'backend': 3377, 'compatible': 3378, 'xoxo': 3379, 'anxiety': 3380, 'princesshalf': 3381, 'dallasaustin': 3382, 'dallasnew': 3383, 'restr': 3384, 'recd': 3385, 'goodne': 3386, 'toss': 3387, 'mac': 3388, 'subsequent': 3389, 'silicon': 3390, 'valley': 3391, 'rocky': 3392, 'ban': 3393, 'impend': 3394, 'sentinel': 3395, 'rise': 3396, 'female': 3397, 'dress': 3398, 'seatbelt': 3399, 'gopro': 3400, 'exceed': 3401, 'profitability': 3402, 'sorrynotsorry': 3403, 'sanity': 3404, 'freyabevanfund': 3405, 'freyasfund': 3406, 'portfolio': 3407, 'jkf': 3408, 'demo': 3409, 'ourprince': 3410, 'asiaustralia': 3411, 'adore': 3412, 'uphold': 3413, 'sfofll': 3414, 'mere': 3415, 'product': 3416, 'singer': 3417, 'square': 3418, 'avi': 3419, 'yummy': 3420, 'hair': 3421, 'kewl': 3422, 'donkey': 3423, 'boom': 3424, 'slot': 3425, 'caffeine': 3426, 'austinairport': 3427, 'intro': 3428, 'apr': 3429, 'sandiego': 3430, 'dalau': 3431, 'nerdbird': 3432, 'nerd': 3433, 'frequency': 3434, 'jezziegoldz': 3435, 'steel': 3436, 'hotspot': 3437, 'expose': 3438, 'cu': 3439, 'definitive': 3440, 'bonuse': 3441, 'potentially': 3442, 'nonrefundable': 3443, 'cheertymedad': 3444, 'necessity': 3445, 'adult': 3446, 'loaner': 3447, 'inop': 3448, 'awhile': 3449, 'colo': 3450, 'disability': 3451, 'grp': 3452, 'starbuck': 3453, 'construction': 3454, 'surly': 3455, 'hmm': 3456, 'ordlga': 3457, 'informative': 3458, 'unaccompany': 3459, 'bench': 3460, 'hannah': 3461, 'requiresshe': 3462, 'helppl': 3463, 'donatert': 3464, 'remorse': 3465, 'obviou': 3466, 'intact': 3467, 'produce': 3468, 'distress': 3469, 'steve': 3470, 'politely': 3471, 'iceland': 3472, 'disrupt': 3473, 'lusaka': 3474, 'transatlantic': 3475, 'season': 3476, 'frankly': 3477, 'kul': 3478, 'wdelay': 3479, 'bright': 3480, 'inquiry': 3481, 'flypdx': 3482, 'consolation': 3483, 'publicly': 3484, 'phn': 3485, 'mammoth': 3486, 'flyyow': 3487, 'encourage': 3488, 'cpap': 3489, 'ward': 3490, 'sked': 3491, 'fro': 3492, 'trend': 3493, 'reboot': 3494, 'dispatch': 3495, 'adjacent': 3496, 'mandarinjourney': 3497, 'momsgoodeat': 3498, 'amenity': 3499, 'wastedtime': 3500, 'reno': 3501, 'behalf': 3502, 'jac': 3503, 'devalue': 3504, 'goodenoughmother': 3505, 'agnt': 3506, 'phrp': 3507, 'upload': 3508, 'ondemand': 3509, 'empathize': 3510, 'goodnight': 3511, 'bom': 3512, 'ex': 3513, 'flysha': 3514, 'bio': 3515, 'kevin': 3516, 'enuf': 3517, 'belfast': 3518, 'reveal': 3519, 'communicationfail': 3520, 'possession': 3521, 'campilley': 3522, 'planehow': 3523, 'max': 3524, 'epicfailunite': 3525, 'mo': 3526, 'thrill': 3527, 'slowly': 3528, 'jimmy': 3529, 'samartzi': 3530, 'activate': 3531, 'surf': 3532, 'desert': 3533, 'remedy': 3534, 'stillnobag': 3535, 'stndby': 3536, 'conveniently': 3537, 'dupe': 3538, 'extent': 3539, 'urgency': 3540, 'focuse': 3541, 'bulkhead': 3542, 'ohead': 3543, 'medal': 3544, 'reunion': 3545, 'unnecessarily': 3546, 'compliant': 3547, 'senior': 3548, 'timco': 3549, 'clesfo': 3550, 'unsafe': 3551, 'fake': 3552, 'shanghai': 3553, 'fritz': 3554, 'wother': 3555, 'verbal': 3556, 'electronic': 3557, 'lr': 3558, 'taiwan': 3559, 'avert': 3560, 'prize': 3561, 'stretch': 3562, 'injure': 3563, 'roadwarrior': 3564, 'invoice': 3565, 'del': 3566, 'preferably': 3567, 'pqm': 3568, 'flierfriendly': 3569, 'maysep': 3570, 'badbusine': 3571, 'seatback': 3572, 'birthdate': 3573, 'noservice': 3574, 'recognize': 3575, 'timeline': 3576, 'condescend': 3577, 'barbara': 3578, 'denairport': 3579, 'inefficiency': 3580, 'language': 3581, 'fcking': 3582, 'roller': 3583, 'welldone': 3584, 'goodflight': 3585, 'cane': 3586, 'tactic': 3587, 'iahmnl': 3588, 'tryna': 3589, 'fulfill': 3590, 'seriousne': 3591, 'maui': 3592, 'flightfail': 3593, 'colombia': 3594, 'spotty': 3595, 'sanm': 3596, 'amongst': 3597, 'excellence': 3598, 'kci': 3599, 'saof': 3600, 'intent': 3601, 'horrific': 3602, 'inaccurate': 3603, 'attentivene': 3604, 'bohol': 3605, 'nm': 3606, 'cebu': 3607, 'educational': 3608, 'uncle': 3609, 'clutch': 3610, 'grant': 3611, 'sjo': 3612, 'explore': 3613, 'ongo': 3614, 'lung': 3615, 'inconvience': 3616, 'fiorettindward': 3617, 'garciachicago': 3618, 'centricity': 3619, 'unsure': 3620, 'premierk': 3621, 'ap': 3622, 'ashley': 3623, 'jackson': 3624, 'misfortune': 3625, 'copilot': 3626, 'ouch': 3627, 'outfit': 3628, 'rubbish': 3629, 'meaningful': 3630, 'defend': 3631, 'maine': 3632, 'bagsno': 3633, 'smoothest': 3634, 'violation': 3635, 'flightledflight': 3636, 'ordywg': 3637, 'gay': 3638, 'tock': 3639, 'spel': 3640, 'consistency': 3641, 'cite': 3642, 'hep': 3643, 'skil': 3644, 'western': 3645, 'startle': 3646, 'earliest': 3647, 'radio': 3648, 'leadership': 3649, 'assurance': 3650, 'curiosity': 3651, 'laxiad': 3652, 'edinburgh': 3653, 'courier': 3654, 'danger': 3655, 'asia': 3656, 'korea': 3657, 'populate': 3658, 'ottawa': 3659, 'doo': 3660, 'fece': 3661, 'sprinkle': 3662, 'strive': 3663, 'unbelievably': 3664, 'redeye': 3665, 'nonweather': 3666, 'bangkok': 3667, 'acknowledgment': 3668, 'foreign': 3669, 'airborne': 3670, 'joker': 3671, 'rage': 3672, 'parachuteguy': 3673, 'cnnmoney': 3674, 'unitedly': 3675, 'hurry': 3676, 'gpu': 3677, 'travelocity': 3678, 'offensive': 3679, 'legally': 3680, 'msnbc': 3681, 'skin': 3682, 'horribleservice': 3683, 'yow': 3684, 'firstworldproblem': 3685, 'refrain': 3686, 'unlikely': 3687, 'overheat': 3688, 'dreamliner': 3689, 'breakdown': 3690, 'activity': 3691, 'somewhat': 3692, 'draft': 3693, 'capability': 3694, 'context': 3695, 'flightua': 3696, 'wcancel': 3697, 'irrop': 3698, 'mgr': 3699, 'observe': 3700, 'deodorant': 3701, 'shampoo': 3702, 'prom': 3703, 'flyerfriendly': 3704, 'looong': 3705, 'satisfactory': 3706, 'rhonda': 3707, 'straighten': 3708, 'filthy': 3709, 'disinfectant': 3710, 'cldnt': 3711, 'substitute': 3712, 'developer': 3713, 'huston': 3714, 'phenomenal': 3715, 'royally': 3716, 'doubtful': 3717, 'humour': 3718, 'pedro': 3719, 'vp': 3720, 'custexp': 3721, 'meanwhile': 3722, 'festivity': 3723, 'makeup': 3724, 'bully': 3725, 'workforce': 3726, 'nothin': 3727, 'mite': 3728, 'bite': 3729, 'airnzusa': 3730, 'boeingairplane': 3731, 'errore': 3732, 'jaclax': 3733, 'afraid': 3734, 'yuck': 3735, 'inspect': 3736, 'pita': 3737, 'herman': 3738, 'emb': 3739, 'bgm': 3740, 'typically': 3741, 'gluten': 3742, 'rare': 3743, 'gfc': 3744, 'danahajek': 3745, 'sob': 3746, 'screenshot': 3747, 'panamerican': 3748, 'vicky': 3749, 'brian': 3750, 'liable': 3751, 'wayne': 3752, 'misinformation': 3753, 'fwiw': 3754, 'attendent': 3755, 'recognition': 3756, 'swi': 3757, 'significantly': 3758, 'handy': 3759, 'historical': 3760, 'afterall': 3761, 'mix': 3762, 'sfobo': 3763, 'clockwork': 3764, 'battierccipuppy': 3765, 'puppy': 3766, 'nw': 3767, 'skywest': 3768, 'conection': 3769, 'awesomene': 3770, 'conveyer': 3771, 'unanticipate': 3772, 'num': 3773, 'partly': 3774, 'followback': 3775, 'everybody': 3776, 'slight': 3777, 'sir': 3778, 'contd': 3779, 'trial': 3780, 'chain': 3781, 'accrue': 3782, 'unhappytraveler': 3783, 'tokyo': 3784, 'motel': 3785, 'cream': 3786, 'standbye': 3787, 'potential': 3788, 'stocker': 3789, 'waitlist': 3790, 'jim': 3791, 'tshirt': 3792, 'fo': 3793, 'upgrd': 3794, 'kat': 3795, 'mouse': 3796, 'businessfirst': 3797, 'rubber': 3798, 'education': 3799, 'concentrate': 3800, 'as': 3801, 'spite': 3802, 'embraersa': 3803, 'craft': 3804, 'unitedfirst': 3805, 'unsympathetic': 3806, 'unitedappeal': 3807, 'dim': 3808, 'char': 3809, 'jenniferwalshpr': 3810, 'dissatisfaction': 3811, 'flow': 3812, 'hd': 3813, 'z': 3814, 'thick': 3815, 'slower': 3816, 'capable': 3817, 'ab': 3818, 'install': 3819, 'fedex': 3820, 'grouchy': 3821, 'nap': 3822, 'oregon': 3823, 'beforeafter': 3824, 'antigua': 3825, 'burbank': 3826, 'prem': 3827, 'rear': 3828, 'iamtedk': 3829, 'instagram': 3830, 'ail': 3831, 'employer': 3832, 'busiest': 3833, 'expedient': 3834, 'dispatcher': 3835, 'il': 3836, 'gogh': 3837, 'relevant': 3838, 'ramada': 3839, 'angrycustomer': 3840, 'hii': 3841, 'wht': 3842, 'ruth': 3843, 'rez': 3844, 'abroad': 3845, 'recap': 3846, 'sue': 3847, 'hoot': 3848, 'turkish': 3849, 'twin': 3850, 'preparation': 3851, 'breach': 3852, 'fu': 3853, 'despicable': 3854, 'lookin': 3855, 'thirty': 3856, 'fashion': 3857, 'professor': 3858, 'negative': 3859, 'cough': 3860, 'loganairport': 3861, 'remotely': 3862, 'shenanigan': 3863, 'helacohlc': 3864, 'activitiesprevention': 3865, 'condomrito': 3866, 'familywe': 3867, 'aba': 3868, 'anchorage': 3869, 'dominican': 3870, 'houstonbogota': 3871, 'energy': 3872, 'flighttold': 3873, 'motion': 3874, 'determine': 3875, 'overprice': 3876, 'par': 3877, 'luxuriou': 3878, 'edit': 3879, 'creative': 3880, 'beneficial': 3881, 'burningman': 3882, 'motto': 3883, 'doc': 3884, 'press': 3885, 'yard': 3886, 'amateurish': 3887, 'customerexperience': 3888, 'scratch': 3889, 'referral': 3890, 'loud': 3891, 'shuffle': 3892, 'structure': 3893, 'dramatically': 3894, 'ilchp': 3895, 'atleast': 3896, 'helple': 3897, 'upgd': 3898, 'neworlean': 3899, 'miriam': 3900, 'montego': 3901, 'breathe': 3902, 'smf': 3903, 'shoddy': 3904, 'laurasbrown': 3905, 'skateboard': 3906, 'pgatour': 3907, 'thparty': 3908, 'itproblem': 3909, 'associate': 3910, 'flashlight': 3911, 'neighbor': 3912, 'smoke': 3913, 'prohibit': 3914, 'bourbon': 3915, 'bold': 3916, 'savethediagonal': 3917, 'satisfaction': 3918, 'born': 3919, 'india': 3920, 'ooh': 3921, 'nofun': 3922, 'alaskair': 3923, 'loan': 3924, 'amsterdam': 3925, 'surround': 3926, 'guideline': 3927, 'debate': 3928, 'oc': 3929, 'toiletry': 3930, 'entree': 3931, 'wander': 3932, 'whisper': 3933, 'acquire': 3934, 'bizarre': 3935, 'outage': 3936, 'bandwidth': 3937, 'fab': 3938, 'swag': 3939, 'overhear': 3940, 'greater': 3941, 'btwn': 3942, 'heartbroken': 3943, 'mp': 3944, 'loooooong': 3945, 'prev': 3946, 'ding': 3947, 'swell': 3948, 'unfollow': 3949, 'bestflightever': 3950, 'approval': 3951, 'perfectly': 3952, 'vacay': 3953, 'expiration': 3954, 'magically': 3955, 'solid': 3956, 'length': 3957, 'village': 3958, 'carol': 3959, 'crook': 3960, 'marriott': 3961, 'science': 3962, 'largest': 3963, 'career': 3964, 'resource': 3965, 'vineyard': 3966, 'entrance': 3967, 'aim': 3968, 'urgently': 3969, 'cb': 3970, 'hail': 3971, 'badpolicy': 3972, 'theft': 3973, 'uncool': 3974, 'filmjobnoequipment': 3975, 'tu': 3976, 'donate': 3977, 'ann': 3978, 'vinyl': 3979, 'sass': 3980, 'honesty': 3981, 'lift': 3982, 'stoke': 3983, 'kelsey': 3984, 'bellagio': 3985, 'television': 3986, 'prioritize': 3987, 'bicep': 3988, 'dice': 3989, 'rudely': 3990, 'geniu': 3991, 'purchaseerrorinvalidloyaltymemberaccountstatu': 3992, 'dnt': 3993, 'sld': 3994, 'uxzj': 3995, 'fri': 3996, 'pleaseeee': 3997, 'fron': 3998, 'allergic': 3999, 'oil': 4000, 'triple': 4001, 'nwn': 4002, 'existence': 4003, 'passive': 4004, 'sleepy': 4005, 'workaround': 4006, 'knowledge': 4007, 'wn': 4008, 'flymidway': 4009, 'alt': 4010, 'inconsistent': 4011, 'mate': 4012, 'canx': 4013, 'cp': 4014, 'memorial': 4015, 'grimace': 4016, 'subscribe': 4017, 'oppose': 4018, 'chaotic': 4019, 'handicap': 4020, 'smash': 4021, 'essential': 4022, 'theacademy': 4023, 'zoom': 4024, 'boooo': 4025, 'flyswa': 4026, 'denverairport': 4027, 'savore': 4028, 'noexcuse': 4029, 'seam': 4030, 'justsay': 4031, 'arkansa': 4032, 'tfw': 4033, 'jimcramer': 4034, 'orl': 4035, 'iflyswa': 4036, 'diabetic': 4037, 'poteettj': 4038, 'talent': 4039, 'tmadcle': 4040, 'mcocmh': 4041, 'avon': 4042, 'dcoadavon': 4043, 'sanitizer': 4044, 'interfere': 4045, 'blackhistorymonth': 4046, 'recruit': 4047, 'internship': 4048, 'bravo': 4049, 'clink': 4050, 'leinenkugel': 4051, 'tn': 4052, 'letdown': 4053, 'ala': 4054, 'vet': 4055, 'sooooo': 4056, 'unorganize': 4057, 'skip': 4058, 'corner': 4059, 'pleasehelp': 4060, 'grandmother': 4061, 'tld': 4062, 'trvl': 4063, 'kay': 4064, 'que': 4065, 'cockpit': 4066, 'tmw': 4067, 'backroad': 4068, 'olive': 4069, 'pulse': 4070, 'dale': 4071, 'portcolumbuscmh': 4072, 'waitin': 4073, 'sally': 4074, 'sleet': 4075, 'clarence': 4076, 'frank': 4077, 'sanitize': 4078, 'troubadour': 4079, 'bake': 4080, 'dread': 4081, 'purely': 4082, 'applaud': 4083, 'musical': 4084, 'dultch': 4085, 'graduate': 4086, 'gal': 4087, 'labor': 4088, 'acknowledgement': 4089, 'bestairlineever': 4090, 'southwestverity': 4091, 'luxury': 4092, 'larry': 4093, 'isp': 4094, 'tarmack': 4095, 'wx': 4096, 'provo': 4097, 'betsy': 4098, 'besty': 4099, 'memo': 4100, 'nascar': 4101, 'cattle': 4102, 'michaelbcoleman': 4103, 'eb': 4104, 'gng': 4105, 'execution': 4106, 'resort': 4107, 'nvm': 4108, 'fairly': 4109, 'sammijon': 4110, 'southwestrally': 4111, 'bestemployee': 4112, 'swaculture': 4113, 'bwisjd': 4114, 'hayleymad': 4115, 'dialup': 4116, 'childish': 4117, 'yearly': 4118, 'rave': 4119, 'ctr': 4120, 'intelligent': 4121, 'enterprise': 4122, 'thirtylive': 4123, 'thaw': 4124, 'player': 4125, 'oncome': 4126, 'aside': 4127, 'ga': 4128, 'knoxville': 4129, 'monthly': 4130, 'eligible': 4131, 'chimid': 4132, 'internjohnradio': 4133, 'mrerickv': 4134, 'beatsmusic': 4135, 'personalize': 4136, 'snapchat': 4137, 'bicycle': 4138, 'lane': 4139, 'postcode': 4140, 'ireland': 4141, 'flower': 4142, 'karajusto': 4143, 'vinylvega': 4144, 'swadiversity': 4145, 'lem': 4146, 'university': 4147, 'crave': 4148, 'jacka': 4149, 'caribbean': 4150, 'oki': 4151, 'development': 4152, 'displease': 4153, 'amazon': 4154, 'plug': 4155, 'emp': 4156, 'wide': 4157, 'phi': 4158, 'wire': 4159, 'reddit': 4160, 'bigger': 4161, 'rub': 4162, 'swamp': 4163, 'store': 4164, 'spil': 4165, 'tul': 4166, 'sour': 4167, 'unspecify': 4168, 'guidance': 4169, 'adjustment': 4170, 'imma': 4171, 'hournot': 4172, 'insight': 4173, 'chart': 4174, 'alleviate': 4175, 'modification': 4176, 'geg': 4177, 'answerthephone': 4178, 'jetbluebo': 4179, 'george': 4180, 'org': 4181, 'goblin': 4182, 'reject': 4183, 'formula': 4184, 'jetbluecheep': 4185, 'natca': 4186, 'county': 4187, 'noplacelikehome': 4188, 'setup': 4189, 'matkare': 4190, 'syr': 4191, 'comfortably': 4192, 'navigate': 4193, 'thy': 4194, 'redemption': 4195, 'wut': 4196, 'chip': 4197, 'brandssayingbae': 4198, 'fustrate': 4199, 'nojetblue': 4200, 'thewayoftheid': 4201, 'martysg': 4202, 'bankruptcy': 4203, 'tweeter': 4204, 'donut': 4205, 'debit': 4206, 'sudden': 4207, 'heel': 4208, 'environment': 4209, 'sittin': 4210, 'pure': 4211, 'tim': 4212, 'selfy': 4213, 'ricoh': 4214, 'emv': 4215, 'younger': 4216, 'sible': 4217, 'shannonwoodward': 4218, 'reaction': 4219, 'bqn': 4220, 'tank': 4221, 'sj': 4222, 'preciate': 4223, 'essentially': 4224, 'stair': 4225, 'untz': 4226, 'jetbluefail': 4227, 'criminal': 4228, 'bluecarpet': 4229, 'perspective': 4230, 'hawaiian': 4231, 'msbgu': 4232, 'justify': 4233, 'littlebird': 4234, 'newburgh': 4235, 'alcohol': 4236, 'league': 4237, 'graciou': 4238, 'umosaicmecrazy': 4239, 'autoresponse': 4240, 'demand': 4241, 'lil': 4242, 'ideal': 4243, 'wat': 4244, 'direction': 4245, 'upstate': 4246, 'protection': 4247, 'sylvie': 4248, 'followup': 4249, 'animal': 4250, 'bumper': 4251, 'engagement': 4252, 'minimum': 4253, 'pandora': 4254, 'rum': 4255, 'coke': 4256, 'nhlonnbcsport': 4257, 'goodcustomerservice': 4258, 'charle': 4259, 'warmer': 4260, 'regularly': 4261, 'analyst': 4262, 'nasdaq': 4263, 'dakota': 4264, 'vetr': 4265, 'inc': 4266, 'foolish': 4267, 'snowman': 4268, 'barrier': 4269, 'iata': 4270, 'corevalue': 4271, 'passion': 4272, 'aerojobmarket': 4273, 'nigga': 4274, 'mideast': 4275, 'nov': 4276, 'bein': 4277, 'lgb': 4278, 'cal': 4279, 'nasdaqjblu': 4280, 'query': 4281, 'burger': 4282, 'dec': 4283, 'lucia': 4284, 'frown': 4285, 'joe': 4286, 'escape': 4287, 'cheesy': 4288, 'lay': 4289, 'smart': 4290, 'finder': 4291, 'si': 4292, 'dre': 4293, 'truebluelove': 4294, 'sleekmoney': 4295, 'complainer': 4296, 'bucket': 4297, 'thevdt': 4298, 'broadway': 4299, 'ardent': 4300, 'poughkeepsie': 4301, 'wkrb': 4302, 'havana': 4303, 'slowest': 4304, 'camp': 4305, 'carsl': 4306, 'jetblueblue': 4307, 'anku': 4308, 'ninadavuluri': 4309, 'patronize': 4310, 'gangway': 4311, 'doke': 4312, 'legacy': 4313, 'repost': 4314, 'needcoffee': 4315, 'rifle': 4316, 'transferable': 4317, 'bretharold': 4318, 'infuriate': 4319, 'brazil': 4320, 'sexy': 4321, 'closepwc': 4322, 'festival': 4323, 'attendee': 4324, 'pattonoswalt': 4325, 'sand': 4326, 'warrior': 4327, 'skytrax': 4328, 'sch': 4329, 'ath': 4330, 'postpone': 4331, 'relief': 4332, 'applicable': 4333, 'foodallergy': 4334, 'engage': 4335, 'eight': 4336, 'steer': 4337, 'jbeatz': 4338, 'susan': 4339, 'downcast': 4340, 'cinnabon': 4341, 'hotter': 4342, 'compound': 4343, 'blumanity': 4344, 'applepay': 4345, 'kate': 4346, 'deliciou': 4347, 'participate': 4348, 'accuse': 4349, 'warehouse': 4350, 'professorpaul': 4351, 'tsapre': 4352, 'printer': 4353, 'oui': 4354, 'generate': 4355, 'navy': 4356, 'phdmama': 4357, 'realtime': 4358, 'chronicleherald': 4359, 'deedee': 4360, 'iowa': 4361, 'diamond': 4362, 'employ': 4363, 'insanity': 4364, 'chkd': 4365, 'flexibility': 4366, 'flexible': 4367, 'army': 4368, 'shortcome': 4369, 'wrongfully': 4370, 'transf': 4371, 'fing': 4372, 'dividendreward': 4373, 'req': 4374, 'dividendmile': 4375, 'cardholder': 4376, 'fligth': 4377, 'customerrelationsacom': 4378, 'mitchell': 4379, 'unmonitore': 4380, 'rachel': 4381, 'nail': 4382, 'tammy': 4383, 'jealou': 4384, 'mel': 4385, 'sticker': 4386, 'endlessly': 4387, 'gatwick': 4388, 'publicity': 4389, 'gnv': 4390, 'plot': 4391, 'struggle': 4392, 'plead': 4393, 'proactively': 4394, 'thanku': 4395, 'ricdfw': 4396, 'bora': 4397, 'finnair': 4398, 'madam': 4399, 'elaborate': 4400, 'wannagohome': 4401, 'differently': 4402, 'russia': 4403, 'inconsiderate': 4404, 'phlmia': 4405, 'undelay': 4406, 'instruction': 4407, 'snap': 4408, 'poorplan': 4409, 'southern': 4410, 'sav': 4411, 'lexington': 4412, 'brokenpromise': 4413, 'elm': 4414, 'shameonyou': 4415, 'breath': 4416, 'realistic': 4417, 'nocrew': 4418, 'claudoakeshott': 4419, 'cha': 4420, 'rivet': 4421, 'overhaul': 4422, 'josephtrei': 4423, 'overload': 4424, 'fm': 4425, 'havoc': 4426, 'nburnside': 4427, 'reaccommodation': 4428, 'exercise': 4429, 'miserably': 4430, 'jabevan': 4431, 'midght': 4432, 'moine': 4433, 'follower': 4434, 'ow': 4435, 'emerald': 4436, 'reaganairport': 4437, 'sy': 4438, 'hve': 4439, 'flght': 4440, 'kentuckymbb': 4441, 'tamara': 4442, 'iti': 4443, 'eagle': 4444, 'delayedconnection': 4445, 'dedicate': 4446, 'quarter': 4447, 'franchise': 4448, 'wasteoftime': 4449, 'lawsuit': 4450, 'stephenrodrick': 4451, 'command': 4452, 'prepurchase': 4453, 'barclay': 4454, 'nrhode': 4455, 'bttr': 4456, 'sync': 4457, 'flightedflight': 4458, 'yvonne': 4459, 'nicedismissive': 4460, 'thk': 4461, 'scotch': 4462, 'worstflight': 4463, 'embarrassment': 4464, 'baggagelost': 4465, 'fuk': 4466, 'scatter': 4467, 'backward': 4468, 'annettenaif': 4469, 'roberto': 4470, 'evenlate': 4471, 'myrtle': 4472, 'tsaprecheck': 4473, 'disconnection': 4474, 'pity': 4475, 'ignorant': 4476, 'blizzard': 4477, 'spf': 4478, 'itin': 4479, 'fate': 4480, 'shld': 4481, 'cycle': 4482, 'eh': 4483, 'waivethefee': 4484, 'ordeal': 4485, 'versu': 4486, 'uncal': 4487, 'gray': 4488, 'hsv': 4489, 'oy': 4490, 'reactivate': 4491, 'casimir': 4492, 'nocareforcustomer': 4493, 'mold': 4494, 'filthyplane': 4495, 'hopeidonotgetsick': 4496, 'frustratingit': 4497, 'nexttimeiwillflysouthwest': 4498, 'tpadfwlax': 4499, 'lex': 4500, 'xt': 4501, 'fau': 4502, 'addl': 4503, 'prolong': 4504, 'prd': 4505, 'chef': 4506, 'miguel': 4507, 'allende': 4508, 'horriblewent': 4509, 'buttonthatcal': 4510, 'minsput': 4511, 'calledit': 4512, 'hungupnohelp': 4513, 'andrewwasila': 4514, 'sma': 4515, 'rollercoaster': 4516, 'yesso': 4517, 'guysfor': 4518, 'killeen': 4519, 'wcustomer': 4520, 'rwrd': 4521, 'ano': 4522, 'narrowly': 4523, 'standbylot': 4524, 'pbpinftworth': 4525, 'gb': 4526, 'robertdwyer': 4527, 'choppiest': 4528, 'whiplash': 4529, 'americanairlinesfail': 4530, 'iwantmymoneyback': 4531, 'trustget': 4532, 'okyou': 4533, 'stuckinmemphi': 4534, 'texasisclose': 4535, 'sheesh': 4536, 'espinosa': 4537, 'crate': 4538, 'wouldbe': 4539, 'painfully': 4540, 'inexperience': 4541, 'mattersit': 4542, 'clarkey': 4543, 'biggie': 4544, 'itunesmusic': 4545, 'spagnuolo': 4546, 'ram': 4547, 'whammie': 4548, 'robocall': 4549, 'onplane': 4550, 'twitterdm': 4551, 'origindestinationdate': 4552, 'ordpvg': 4553, 'arbitrary': 4554, 'pafe': 4555, 'adfw': 4556, 'amso': 4557, 'trvlove': 4558, 'boatstyle': 4559, 'swivel': 4560, 'dietcoke': 4561, 'happyflier': 4562, 'marshale': 4563, 'resole': 4564, 'kax': 4565, 'beantownmatty': 4566, 'grievance': 4567, 'maria': 4568, 'beanie': 4569, 'lpalumbo': 4570, 'laguardiair': 4571, 'diaper': 4572, 'fyicall': 4573, 'souljacoy': 4574, 'obscene': 4575, 'acquisition': 4576, 'youyou': 4577, 'nitrogen': 4578, 'fligt': 4579, 'americanairstill': 4580, 'bueno': 4581, 'tyr': 4582, 'outta': 4583, 'superyan': 4584, 'chasefoster': 4585, 'cvgairport': 4586, 'platitude': 4587, 'embassy': 4588, 'herndon': 4589, 'tcf': 4590, 'swear': 4591, 'earr': 4592, 'dialogue': 4593, 'cluele': 4594, 'react': 4595, 'gunna': 4596, 'swu': 4597, 'yike': 4598, 'nrosenb': 4599, 'afail': 4600, 'deactivate': 4601, 'rizzilient': 4602, 'maryellagreen': 4603, 'lima': 4604, 'btr': 4605, 'wudda': 4606, 'nbc': 4607, 'meelan': 4608, 'chnge': 4609, 'deflator': 4610, 'chapter': 4611, 'amm': 4612, 'shawn': 4613, 'orange': 4614, 'lan': 4615, 'mxpjfk': 4616, 'goingforgreat': 4617, 'shortage': 4618, 'phrase': 4619, 'numerical': 4620, 'justynmoro': 4621, 'automatic': 4622, 'iberia': 4623, 'skycap': 4624, 'oaret': 4625, 'wreservation': 4626, 'tisk': 4627, 'squawk': 4628, 'dawn': 4629, 'ggreenwald': 4630, 'robinreda': 4631, 'sample': 4632, 'txfd': 4633, 'centre': 4634, 'sizer': 4635, 'breeze': 4636, 'cincinnati': 4637, 'slcairport': 4638, 'teco': 4639, 'sacraig': 4640, 'travisamex': 4641, 'refsd': 4642, 'deane': 4643, 'norma': 4644, 'sedholm': 4645, 'dhepburn': 4646, 'tacky': 4647, 'worm': 4648, 'parody': 4649, 'minimal': 4650, 'iconography': 4651, 'virginmedia': 4652, 'seductive': 4653, 'sfopdx': 4654, 'daystogo': 4655, 'bosfll': 4656, 'hipster': 4657, 'noair': 4658, 'sfotobo': 4659, 'noob': 4660, 'sendambien': 4661, 'andchexmix': 4662, 'bked': 4663, 'pacificbiznew': 4664, 'calm': 4665, 'freddieaward': 4666, 'hollywood': 4667, 'bid': 4668, 'laxsea': 4669, 'travelhelp': 4670, 'elevategold': 4671, 'tribute': 4672, 'soundofmusic': 4673, 'lgadal': 4674, 'guiltypleasure': 4675, 'wowd': 4676, 'elevatethey': 4677, 'uphelp': 4678, 'martin': 4679, 'heyyyy': 4680, 'guyyyy': 4681, 'travelzoo': 4682, 'loft': 4683, 'cmfatfeet': 4684, 'ratepolicy': 4685, 'doom': 4686, 'supp': 4687, 'teamim': 4688, 'flightattendant': 4689, 'dreampath': 4690, 'begrudgingly': 4691, 'plannedneverflyvirginforbusine': 4692, 'neverflyvirgin': 4693, 'avatar': 4694, 'disproportionate': 4695, 'jperhi': 4696, 'helpva': 4697, 'rnp': 4698, 'nomorevirgin': 4699, 'redesign': 4700, 'ressie': 4701, 'raeann': 4702, 'reluctant': 4703, 'pleasecomeback': 4704, 'oneasy': 4705, 'reservationhelpful': 4706, 'naelah': 4707, 'frontend': 4708, 'crossbrowser': 4709, 'nycjfk': 4710, 'vabeatsjblue': 4711, 'fidifamily': 4712, 'luca': 4713, 'chrysichrysic': 4714, 'likingyoulessandle': 4715, 'reallytallchri': 4716, 'irmafromdalla': 4717, 'waltdisneyworld': 4718, 'jessicajayme': 4719, 'backtowinter': 4720, 'grey': 4721, 'rang': 4722, 'vendor': 4723, 'todaycheck': 4724, 'redwineisbetter': 4725, 'wonk': 4726, 'designate': 4727, 'pasenger': 4728, 'topnew': 4729, 'arab': 4730, 'emirate': 4731, 'baggageissue': 4732, 'lister': 4733, 'ketr': 4734, 'sfoewr': 4735, 'clincher': 4736, 'cudtomer': 4737, 'ttinac': 4738, 'seevery': 4739, 'virginamericayouve': 4740, 'matchgot': 4741, 'asarcoesar': 4742, 'hearnoevil': 4743, 'persist': 4744, 'revue': 4745, 'beatstheother': 4746, 'soreback': 4747, 'headerelevateusernumofpointsavailable': 4748, 'diehardvirgin': 4749, 'flightledgonna': 4750, 'nominate': 4751, 'meetthefleet': 4752, 'fcmostinnovative': 4753, 'incubator': 4754, 'fastcompany': 4755, 'bubbly': 4756, 'spruce': 4757, 'moose': 4758, 'classiq': 4759, 'greetingz': 4760, 'airplanemodewason': 4761, 'dentedmis': 4762, 'miranda': 4763, 'vodkatonic': 4764, 'cruz': 4765, 'lovegratitudempower': 4766, 'werin': 4767, 'vipswagbag': 4768, 'avalonhollywood': 4769, 'luxuriesaesthetic': 4770, 'budapest': 4771, 'oscarscountdown': 4772, 'newsvp': 4773, 'dfwlax': 4774, 'cutest': 4775, 'pepper': 4776, 'shaker': 4777, 'iol': 4778, 'lizautter': 4779, 'renttherunway': 4780, 'callah': 4781, 'fullyear': 4782, 'net': 4783, 'atwonline': 4784, 'javascript': 4785, 'stylesheet': 4786, 'handily': 4787, 'outlook': 4788, 'reuter': 4789, 'tmm': 4790, 'cach': 4791, 'madbee': 4792, 'choppy': 4793, 'gusty': 4794, 'wthe': 4795, 'windchill': 4796, 'responseplease': 4797, 'biztravel': 4798, 'ssal': 4799, 'shrinerack': 4800, 'wifey': 4801, 'vday': 4802, 'keeper': 4803, 'holla': 4804, 'callemail': 4805, 'debbie': 4806, 'baldwin': 4807, 'lassfo': 4808, 'bestcrew': 4809, 'sherock': 4810, 'suuperg': 4811, 'bandie': 4812, 'lofty': 4813, 'silverstatu': 4814, 'transformative': 4815, 'statusmatch': 4816, 'checkinbut': 4817, 'daldca': 4818, 'wjere': 4819, 'deeply': 4820, 'dontdothistome': 4821, 'blazer': 4822, 'koople': 4823, 'boost': 4824, 'conversion': 4825, 'etailwest': 4826, 'promote': 4827, 'noneother': 4828, 'giannilee': 4829, 'vxsafetydance': 4830, 'obsess': 4831, 'swanky': 4832, 'cabaret': 4833, 'dirtiest': 4834, 'skift': 4835, 'karinslee': 4836, 'chinese': 4837, 'comenity': 4838, 'transactional': 4839, 'sugafly': 4840, 'accelerate': 4841, 'livewelltravele': 4842, 'sytycd': 4843, 'brisk': 4844, 'ipaddont': 4845, 'wfare': 4846, 'laxla': 4847, 'infovirginamericacom': 4848, 'newsflt': 4849, 'nwksf': 4850, 'apostrophe': 4851, 'surname': 4852, 'apostrophefail': 4853, 'tinder': 4854, 'tindertip': 4855, 'tinderchamp': 4856, 'herbal': 4857, 'drinker': 4858, 'expansion': 4859, 'austindalla': 4860, 'flightchng': 4861, 'afiliate': 4862, 'earphone': 4863, 'dallaslovefieldaustinairport': 4864, 'backyard': 4865, 'extortion': 4866, 'brokenstolen': 4867, 'artisanal': 4868, 'jfklhr': 4869, 'tminu': 4870, 'freeneversuck': 4871, 'thestarter': 4872, 'paul': 4873, 'visor': 4874, 'bean': 4875, 'thoughand': 4876, 'segway': 4877, 'infographic': 4878, 'defiantly': 4879, 'scold': 4880, 'myvxexperience': 4881, 'apathy': 4882, 'wervirgin': 4883, 'fargo': 4884, 'fargoairport': 4885, 'kickin': 4886, 'zzz': 4887, 'letsgohome': 4888, 'starryeyesdev': 4889, 'lineup': 4890, 'jenniferdawnpro': 4891, 'assistant': 4892, 'eriord': 4893, 'eriewr': 4894, 'steep': 4895, 'glamco': 4896, 'globalfc': 4897, 'wupgrade': 4898, 'unrealistic': 4899, 'childridiculou': 4900, 'beautifull': 4901, 'allan': 4902, 'kmmvlkm': 4903, 'highbuddyyy': 4904, 'rosetta': 4905, 'dan': 4906, 'wasappreciat': 4907, 'tiredofwait': 4908, 'aeroport': 4909, 'aegeanairline': 4910, 'availab': 4911, 'defibrillator': 4912, 'newarkliberty': 4913, 'flyingainteasy': 4914, 'preexist': 4915, 'shatter': 4916, 'ladan': 4917, 'latrice': 4918, 'inappropriately': 4919, 'abbreve': 4920, 'helpgot': 4921, 'uctraveladvisor': 4922, 'daysit': 4923, 'gateagain': 4924, 'tiredofthi': 4925, 'measly': 4926, 'ecertificate': 4927, 'addressusername': 4928, 'signon': 4929, 'interim': 4930, 'unitedbreaksguitar': 4931, 'wantmymoneyback': 4932, 'telaviv': 4933, 'impolite': 4934, 'unfamiliar': 4935, 'outcome': 4936, 'neurosurgery': 4937, 'icu': 4938, 'zccu': 4939, 'kcthank': 4940, 'mobility': 4941, 'considerable': 4942, 'accompany': 4943, 'getmeontop': 4944, 'mclarrensp': 4945, 'category': 4946, 'verizonwirele': 4947, 'pesky': 4948, 'rozana': 4949, 'choosekind': 4950, 'eager': 4951, 'vision': 4952, 'ccicanine': 4953, 'servicedog': 4954, 'wtfodd': 4955, 'gong': 4956, 'enforcement': 4957, 'blackmail': 4958, 'nullify': 4959, 'umpteen': 4960, 'simonroesner': 4961, 'concrete': 4962, 'honour': 4963, 'hollow': 4964, 'wellbee': 4965, 'outofdate': 4966, 'localize': 4967, 'copypaste': 4968, 'accountable': 4969, 'bbbnesdksia': 4970, 'insta': 4971, 'negligent': 4972, 'resent': 4973, 'dmcome': 4974, 'ridiculousne': 4975, 'learncustomerservice': 4976, 'twitterliterate': 4977, 'travelbank': 4978, 'recoup': 4979, 'flightsand': 4980, 'choosechicago': 4981, 'yulord': 4982, 'montreal': 4983, 'helpdo': 4984, 'attain': 4985, 'unrival': 4986, 'onestop': 4987, 'yearround': 4988, 'thaiairway': 4989, 'thai': 4990, 'atlord': 4991, 'pennypincher': 4992, 'youcouldntmakethi': 4993, 'brokenwheel': 4994, 'delayedno': 4995, 'ordseriously': 4996, 'connolly': 4997, 'efficiently': 4998, 'saipan': 4999, 'guam': 5000, 'adventure': 5001, 'capeair': 5002, 'platter': 5003, 'abundance': 5004, 'getmartyhome': 5005, 'shower': 5006, 'finalize': 5007, 'ewrsti': 5008, 'jburg': 5009, 'unforeseeable': 5010, 'lindaswc': 5011, 'flightn': 5012, 'fend': 5013, 'malaysia': 5014, 'kuala': 5015, 'lumpur': 5016, 'asem': 5017, 'eserviceunitedcom': 5018, 'bgkwm': 5019, 'narayanan': 5020, 'melaniespr': 5021, 'bergstrom': 5022, 'vein': 5023, 'thrombosi': 5024, 'connectn': 5025, 'hotl': 5026, 'gonnabealongnight': 5027, 'darquenloveli': 5028, 'brief': 5029, 'ray': 5030, 'tumitravel': 5031, 'xma': 5032, 'razor': 5033, 'inconveniently': 5034, 'dvt': 5035, 'sarcastically': 5036, 'lukemcintosh': 5037, 'nada': 5038, 'helpimstuck': 5039, 'mismanagement': 5040, 'sabe': 5041, 'decorum': 5042, 'revisit': 5043, 'twitteremailweb': 5044, 'questionare': 5045, 'onboad': 5046, 'volt': 5047, 'html': 5048, 'eff': 5049, 'jobslose': 5050, 'statusand': 5051, 'transition': 5052, 'dencle': 5053, 'ker': 5054, 'zambia': 5055, 'newarklet': 5056, 'ordlhr': 5057, 'cyberattack': 5058, 'pbj': 5059, 'statusmatchpaidoff': 5060, 'vancouver': 5061, 'investigatedmy': 5062, 'correcti': 5063, 'maryjo': 5064, 'pivotalcf': 5065, 'shaky': 5066, 'controlthe': 5067, 'comically': 5068, 'grkm': 5069, 'wouldhow': 5070, 'rim': 5071, 'repeatably': 5072, 'burgundy': 5073, 'loner': 5074, 'thehipmunk': 5075, 'siteit': 5076, 'correctne': 5077, 'mllovelace': 5078, 'salisbury': 5079, 'renoairport': 5080, 'feat': 5081, 'whitterbug': 5082, 'laughedhard': 5083, 'funnycaptain': 5084, 'vacatinn': 5085, 'dorn': 5086, 'apollochplayer': 5087, 'delyd': 5088, 'lasden': 5089, 'gjt': 5090, 'goodenufmother': 5091, 'cozy': 5092, 'helpmeplease': 5093, 'anyonethere': 5094, 'vaileagle': 5095, 'businesstravel': 5096, 'inline': 5097, 'bagdisgutedindenver': 5098, 'reebok': 5099, 'rockinwellne': 5100, 'dustyob': 5101, 'stcla': 5102, 'wnonwork': 5103, 'entertainmnt': 5104, 'mcdonnell': 5105, 'dougla': 5106, 'lifestop': 5107, 'mysteriou': 5108, 'rookie': 5109, 'demote': 5110, 'goldsspousaldiscriminationangry': 5111, 'bettween': 5112, 'droppeditoffyet': 5113, 'cease': 5114, 'amazefor': 5115, 'icloud': 5116, 'absurdly': 5117, 'albanyairport': 5118, 'dfpietra': 5119, 'tsk': 5120, 'betterfrom': 5121, 'rtb': 5122, 'wayway': 5123, 'jana': 5124, 'acosta': 5125, 'alwaysdelayedonunite': 5126, 'branson': 5127, 'continentalairline': 5128, 'notfair': 5129, 'poornoncommunication': 5130, 'unaccount': 5131, 'realistically': 5132, 'responsesme': 5133, 'unplea': 5134, 'nonenglish': 5135, 'cluecould': 5136, 'rollerboard': 5137, 'art': 5138, 'iove': 5139, 'miscalculation': 5140, 'aspenbaggagefail': 5141, 'truutall': 5142, 'condo': 5143, 'noanswer': 5144, 'wmom': 5145, 'dedication': 5146, 'forum': 5147, 'winston': 5148, 'pedophile': 5149, 'flyeia': 5150, 'imranr': 5151, 'drone': 5152, 'keambleam': 5153, 'mojave': 5154, 'pressurecooker': 5155, 'heattrap': 5156, 'jon': 5157, 'descend': 5158, 'farce': 5159, 'shamble': 5160, 'writer': 5161, 'ambut': 5162, 'missedwork': 5163, 'clientnothappy': 5164, 'justifiable': 5165, 'gcvwj': 5166, 'kailua': 5167, 'mandatory': 5168, 'greatly': 5169, 'melissafranci': 5170, 'tbd': 5171, 'usd': 5172, 'quotation': 5173, 'fwa': 5174, 'nowhereland': 5175, 'adapt': 5176, 'noooooooooooooooooooooope': 5177, 'yyj': 5178, 'airlinesyour': 5179, 'sfolaxsalclo': 5180, 'av': 5181, 'faundation': 5182, 'judeo': 5183, 'cristiannot': 5184, 'ideologia': 5185, 'workersinstead': 5186, 'knack': 5187, 'substandard': 5188, 'misconnect': 5189, 'iadsat': 5190, 'outdoor': 5191, 'wifiand': 5192, 'unwind': 5193, 'linesforever': 5194, 'sock': 5195, 'plunder': 5196, 'hardearn': 5197, 'retailbagholder': 5198, 'sfoyyj': 5199, 'jurassic': 5200, 'dinosaurplane': 5201, 'eticket': 5202, 'farelock': 5203, 'sfosea': 5204, 'laissez': 5205, 'faire': 5206, 'peopleon': 5207, 'crewtell': 5208, 'precioustime': 5209, 'fyvrfn': 5210, 'tickt': 5211, 'helpbeen': 5212, 'sukhdeep': 5213, 'youdo': 5214, 'sba': 5215, 'waitingonapilot': 5216, 'siouxfall': 5217, 'whyairtravelsuck': 5218, 'discomfort': 5219, 'frustratingly': 5220, 'mpagent': 5221, 'seanmfmadden': 5222, 'peterstraubmma': 5223, 'jmercadomma': 5224, 'tonysimsmma': 5225, 'megzezzo': 5226, 'scl': 5227, 'iha': 5228, 'scotthroth': 5229, 'ewrbrudel': 5230, 'sharp': 5231, 'makechange': 5232, 'communicationdetail': 5233, 'brussel': 5234, 'zrhairport': 5235, 'venezuela': 5236, 'servicehave': 5237, 'malpensa': 5238, 'mar': 5239, 'airportfra': 5240, 'jul': 5241, 'rachelle': 5242, 'laxewr': 5243, 'dismiss': 5244, 'worstservice': 5245, 'yearold': 5246, 'campu': 5247, 'terri': 5248, 'homeintentional': 5249, 'jersey': 5250, 'jxst': 5251, 'damper': 5252, 'iy': 5253, 'sti': 5254, 'orddca': 5255, 'newarkbrussel': 5256, 'agreement': 5257, 'hahahahaha': 5258, 'stamp': 5259, 'displace': 5260, 'bouncer': 5261, 'showexpert': 5262, 'fraction': 5263, 'straightend': 5264, 'victoria': 5265, 'sombron': 5266, 'michelle': 5267, 'pssngr': 5268, 'chkpreboardnotcomingback': 5269, 'fuckinlame': 5270, 'naiamia': 5271, 'befor': 5272, 'lastflightwithyouever': 5273, 'layout': 5274, 'kiosksbag': 5275, 'sleepbut': 5276, 'bausa': 5277, 'cmhiad': 5278, 'bagcould': 5279, 'ciscojimfrench': 5280, 'cobedien': 5281, 'reinterview': 5282, 'sole': 5283, 'blatantly': 5284, 'stable': 5285, 'superfast': 5286, 'cgjase': 5287, 'responsedisappoint': 5288, 'mktg': 5289, 'cxp': 5290, 'dcam': 5291, 'limbo': 5292, 'salvage': 5293, 'lifevest': 5294, 'rebecca': 5295, 'levi': 5296, 'amstuck': 5297, 'hotelhow': 5298, 'delongerry': 5299, 'uggh': 5300, 'wma': 5301, 'uplink': 5302, 'walkway': 5303, 'airlinesecurity': 5304, 'nogate': 5305, 'belabor': 5306, 'pointbut': 5307, 'maybemange': 5308, 'alittlebetter': 5309, 'howisthatpossible': 5310, 'flightleddelay': 5311, 'fking': 5312, 'woeful': 5313, 'sponsor': 5314, 'gottogetbetter': 5315, 'placedrank': 5316, 'bait': 5317, 'bookable': 5318, 'resourcesrate': 5319, 'reccewife': 5320, 'heh': 5321, 'courrier': 5322, 'avalible': 5323, 'hotellive': 5324, 'prolly': 5325, 'thailand': 5326, 'sfonew': 5327, 'badmaybe': 5328, 'disservice': 5329, 'melbourne': 5330, 'myyb': 5331, 'clarita': 5332, 'jaramillo': 5333, 'mejia': 5334, 'doorstep': 5335, 'unitedrebook': 5336, 'stressor': 5337, 'vague': 5338, 'strandusindenver': 5339, 'hourandtenminutedelay': 5340, 'multipledooropeningandclose': 5341, 'dangerofgettingsnowedin': 5342, 'dissapointment': 5343, 'madeit': 5344, 'vacate': 5345, 'findanothergate': 5346, 'acc': 5347, 'kansa': 5348, 'fedup': 5349, 'disastrou': 5350, 'unanswer': 5351, 'baftz': 5352, 'deliveredhotel': 5353, 'cooker': 5354, 'clothessuit': 5355, 'suitshirt': 5356, 'riot': 5357, 'fernheinig': 5358, 'sardine': 5359, 'belief': 5360, 'ewrfll': 5361, 'safer': 5362, 'jeanette': 5363, 'thoughtful': 5364, 'fax': 5365, 'faxlike': 5366, 'gnvfsd': 5367, 'ktm': 5368, 'mcoiad': 5369, 'oscarnight': 5370, 'maintenece': 5371, 'pale': 5372, 'comparison': 5373, 'wage': 5374, 'improper': 5375, 'gill': 5376, 'houstonbush': 5377, 'deceptive': 5378, 'neverflyunite': 5379, 'claudia': 5380, 'mdtmy': 5381, 'meseem': 5382, 'cdgla': 5383, 'flythefriendlysky': 5384, 'unitedworstever': 5385, 'trappedhouston': 5386, 'whichisworsedenordfw': 5387, 'steamboat': 5388, 'grumpykim': 5389, 'unbalance': 5390, 'er': 5391, 'curtesy': 5392, 'inpolite': 5393, 'nippon': 5394, 'subtlety': 5395, 'responseservice': 5396, 'awfulne': 5397, 'lpdstock': 5398, 'pgh': 5399, 'attitudycustomer': 5400, 'jeffsmisek': 5401, 'robertfor': 5402, 'finvest': 5403, 'viable': 5404, 'eqm': 5405, 'wb': 5406, 'snobby': 5407, 'remark': 5408, 'poker': 5409, 'erieairport': 5410, 'coastcoast': 5411, 'nomorecheckedbag': 5412, 'denewr': 5413, 'givethoseladiesraise': 5414, 'comethi': 5415, 'extraordinaire': 5416, 'seau': 5417, 'fong': 5418, 'radioi': 5419, 'didinterest': 5420, 'tcmparty': 5421, 'cek': 5422, 'daysofoscar': 5423, 'bw': 5424, 'disspoint': 5425, 'fe': 5426, 'americanisbetter': 5427, 'volkswagen': 5428, 'whatacluster': 5429, 'fransico': 5430, 'evacuate': 5431, 'wyom': 5432, 'ndary': 5433, 'flydeltanexttime': 5434, 'govt': 5435, 'eri': 5436, 'agoyet': 5437, 'unitedairlinessux': 5438, 'synonymou': 5439, 'unfair': 5440, 'stingiest': 5441, 'ptfo': 5442, 'bastard': 5443, 'stingy': 5444, 'delayedagainevery': 5445, 'fete': 5446, 'unitedexcite': 5447, 'barrel': 5448, 'vouchermile': 5449, 'uniteddo': 5450, 'clehelp': 5451, 'miscount': 5452, 'rayja': 5453, 'mqxc': 5454, 'mpwnc': 5455, 'lsusoftball': 5456, 'lsuquinlanduhon': 5457, 'pitiad': 5458, 'minsit': 5459, 'funite': 5460, 'historically': 5461, 'lifeline': 5462, 'worldhungry': 5463, 'moderate': 5464, 'sector': 5465, 'whereby': 5466, 'phlsfo': 5467, 'geography': 5468, 'downmy': 5469, 'flyingwithu': 5470, 'lostacustomer': 5471, 'yxe': 5472, 'aerocivilcol': 5473, 'lmuschel': 5474, 'sep': 5475, 'fkxb': 5476, 'unitedthat': 5477, 'ml': 5478, 'ewrord': 5479, 'connex': 5480, 'reseat': 5481, 'bringbackrealstaff': 5482, 'dishonore': 5483, 'emailscall': 5484, 'smoothie': 5485, 'rapidly': 5486, 'fantasy': 5487, 'hiccup': 5488, 'japan': 5489, 'swipe': 5490, 'improvetheproce': 5491, 'fyour': 5492, 'timeswitch': 5493, 'universally': 5494, 'todaywhat': 5495, 'retake': 5496, 'goosebayairport': 5497, 'goose': 5498, 'labrador': 5499, 'czamkoff': 5500, 'gree': 5501, 'characterize': 5502, 'tiffanyandco': 5503, 'jockey': 5504, 'twtr': 5505, 'honalulu': 5506, 'delayua': 5507, 'kauai': 5508, 'theairhelper': 5509, 'norway': 5510, 'dependable': 5511, 'skyteam': 5512, 'helpfulne': 5513, 'lastella': 5514, 'buzzkill': 5515, 'bogotahouston': 5516, 'holdover': 5517, 'nightyour': 5518, 'geiger': 5519, 'burst': 5520, 'crewe': 5521, 'runner': 5522, 'miscnx': 5523, 'ng': 5524, 'author': 5525, 'fiction': 5526, 'realise': 5527, 'stuckon': 5528, 'nightdeplane': 5529, 'employeefacele': 5530, 'phantom': 5531, 'apear': 5532, 'winwin': 5533, 'mbr': 5534, 'russell': 5535, 'daiber': 5536, 'induce': 5537, 'involuntarily': 5538, 'fguideline': 5539, 'newest': 5540, 'badbadbad': 5541, 'iep': 5542, 'nicole': 5543, 'quito': 5544, 'professionalnice': 5545, 'makestoomuchsense': 5546, 'unitedk': 5547, 'arise': 5548, 'midtravel': 5549, 'washingtondc': 5550, 'dkyde': 5551, 'helpunitedsuck': 5552, 'auciello': 5553, 'transpire': 5554, 'unitedhatesusall': 5555, 'hdndl': 5556, 'englishspanish': 5557, 'trashy': 5558, 'iahwowjust': 5559, 'outrage': 5560, 'ot': 5561, 'flightstart': 5562, 'noenertainmentonhourflight': 5563, 'wamo': 5564, 'bil': 5565, 'fifty': 5566, 'ea': 5567, 'engineer': 5568, 'frame': 5569, 'unitedagainstunite': 5570, 'delayconsequence': 5571, 'onboardalert': 5572, 'socketyou': 5573, 'vouchersno': 5574, 'beta': 5575, 'bish': 5576, 'indm': 5577, 'suntoshi': 5578, 'ticketh': 5579, 'trvlno': 5580, 'wifimis': 5581, 'fltnext': 5582, 'onehmis': 5583, 'voucherhotel': 5584, 'chkoutfltno': 5585, 'wifihotel': 5586, 'european': 5587, 'fabrice': 5588, 'ggqzqd': 5589, 'eg': 5590, 'muc': 5591, 'newamericanstink': 5592, 'aircrft': 5593, 'whereabout': 5594, 'greeeat': 5595, 'maxabrahm': 5596, 'scooby': 5597, 'manilla': 5598, 'unconscionable': 5599, 'hepl': 5600, 'thisiscoach': 5601, 'robotweet': 5602, 'disrespectfully': 5603, 'actively': 5604, 'fwould': 5605, 'publish': 5606, 'avoidable': 5607, 'goldenticket': 5608, 'againto': 5609, 'edge': 5610, 'routinely': 5611, 'scary': 5612, 'hahnot': 5613, 'weasel': 5614, 'nit': 5615, 'tryn': 5616, 'freakin': 5617, 'abcwtvd': 5618, 'continentalunite': 5619, 'flsfoewr': 5620, 'getmeoffrhisfuckinplane': 5621, 'rdui': 5622, 'outward': 5623, 'laxsyd': 5624, 'connectfor': 5625, 'nolo': 5626, 'virtually': 5627, 'aggiemensgolf': 5628, 'thman': 5629, 'costumerservice': 5630, 'jk': 5631, 'closet': 5632, 'retard': 5633, 'snit': 5634, 'zrh': 5635, 'ewrpdx': 5636, 'threehourslate': 5637, 'prescreen': 5638, 'makessense': 5639, 'immensely': 5640, 'airlinegave': 5641, 'sandra': 5642, 'blind': 5643, 'handedly': 5644, 'unitedsucksdick': 5645, 'unplan': 5646, 'hoursat': 5647, 'teeth': 5648, 'failurethen': 5649, 'peer': 5650, 'liesstill': 5651, 'copay': 5652, 'restrm': 5653, 'myselfother': 5654, 'restate': 5655, 'additionally': 5656, 'yxu': 5657, 'prepay': 5658, 'peanutsnut': 5659, 'contradictory': 5660, 'anaphylaxiswill': 5661, 'houstonjust': 5662, 'needtobehonest': 5663, 'unitedunimpres': 5664, 'hourslove': 5665, 'electrical': 5666, 'whyjeff': 5667, 'wbroken': 5668, 'mental': 5669, 'fred': 5670, 'flintstone': 5671, 'regrade': 5672, 'ehsanismpower': 5673, 'diligent': 5674, 'egregiou': 5675, 'sam': 5676, 'usuriou': 5677, 'stevelord': 5678, 'prison': 5679, 'arvl': 5680, 'americanone': 5681, 'mga': 5682, 'uncontrollably': 5683, 'kurt': 5684, 'mild': 5685, 'poison': 5686, 'lhriah': 5687, 'flightedstill': 5688, 'voucherwhatajoke': 5689, 'spamjunk': 5690, 'casenothe': 5691, 'sloppy': 5692, 'offender': 5693, 'conversational': 5694, 'toothpaste': 5695, 'rollaboard': 5696, 'yayy': 5697, 'awaynow': 5698, 'loudspeaker': 5699, 'yepuse': 5700, 'againget': 5701, 'hmmmseem': 5702, 'ebola': 5703, 'robbedexplain': 5704, 'gig': 5705, 'minwow': 5706, 'rival': 5707, 'stain': 5708, 'ordewr': 5709, 'invest': 5710, 'buyback': 5711, 'munich': 5712, 'nathankillam': 5713, 'cowardly': 5714, 'ticketeven': 5715, 'lostmybusine': 5716, 'appropriately': 5717, 'fakesincerity': 5718, 'happyflight': 5719, 'angriest': 5720, 'angstiest': 5721, 'tasha': 5722, 'dadoralive': 5723, 'nonservice': 5724, 'mpl': 5725, 'deployment': 5726, 'tropic': 5727, 'elect': 5728, 'appoint': 5729, 'scarf': 5730, 'surveyemail': 5731, 'recruiter': 5732, 'timezone': 5733, 'accuratetraveltime': 5734, 'rdtimethishashappen': 5735, 'xfinity': 5736, 'cableinternet': 5737, 'swing': 5738, 'fairway': 5739, 'overlook': 5740, 'pricediscrimination': 5741, 'crackerjack': 5742, 'bagswhich': 5743, 'hilo': 5744, 'laxsna': 5745, 'geneva': 5746, 'spaghetti': 5747, 'nonempty': 5748, 'nonupgrade': 5749, 'arguee': 5750, 'continentalair': 5751, 'bshave': 5752, 'image': 5753, 'pssgr': 5754, 'psngr': 5755, 'npbhd': 5756, 'pole': 5757, 'dtwase': 5758, 'router': 5759, 'fuselage': 5760, 'sfoau': 5761, 'isjx': 5762, 'holdgue': 5763, 'puj': 5764, 'newarklondon': 5765, 'panynj': 5766, 'froschtravel': 5767, 'baldordash': 5768, 'rebookedarrive': 5769, 'jimtrotternfl': 5770, 'diverge': 5771, 'burlington': 5772, 'vermont': 5773, 'dubjac': 5774, 'laxdub': 5775, 'bhxofficial': 5776, 'liberty': 5777, 'unhappyspend': 5778, 'bd': 5779, 'wproj': 5780, 'cond': 5781, 'issuecould': 5782, 'converse': 5783, 'fcan': 5784, 'wireless': 5785, 'piggy': 5786, 'routine': 5787, 'nyt': 5788, 'airserv': 5789, 'contractor': 5790, 'calamity': 5791, 'lostsuitcase': 5792, 'noreimbursement': 5793, 'comeonpeople': 5794, 'difficultieswhat': 5795, 'policiescost': 5796, 'exacerbate': 5797, 'longterm': 5798, 'issuenot': 5799, 'skibootbag': 5800, 'generally': 5801, 'inbaggage': 5802, 'unhelpfulne': 5803, 'illogical': 5804, 'elp': 5805, 'elpaso': 5806, 'teamusa': 5807, 'addair': 5808, 'cpdone': 5809, 'earnedmybusine': 5810, 'cleanline': 5811, 'delayedbecause': 5812, 'pek': 5813, 'paigeworthy': 5814, 'servicemost': 5815, 'employeeslack': 5816, 'enoughisenough': 5817, 'irreplaceable': 5818, 'milestone': 5819, 'repay': 5820, 'copa': 5821, 'bringyourown': 5822, 'kleankanteen': 5823, 'championship': 5824, 'servicessomethe': 5825, 'atgate': 5826, 'exasperate': 5827, 'undergo': 5828, 'scvpool': 5829, 'laxm': 5830, 'royal': 5831, 'commission': 5832, 'connectin': 5833, 'nyfw': 5834, 'wmile': 5835, 'youretheworst': 5836, 'mortify': 5837, 'lea': 5838, 'knownot': 5839, 'keepingit': 5840, 'weaktea': 5841, 'leighemery': 5842, 'coshare': 5843, 'ordealsigh': 5844, 'weblink': 5845, 'validity': 5846, 'underweight': 5847, 'fallflorida': 5848, 'everglade': 5849, 'faint': 5850, 'sunburn': 5851, 'awayhere': 5852, 'wheresthepilot': 5853, 'dildo': 5854, 'terriblecustomerservice': 5855, 'credibility': 5856, 'ravioli': 5857, 'chickenidiot': 5858, 'platinummember': 5859, 'marcu': 5860, 'unavailableto': 5861, 'unsmile': 5862, 'breezy': 5863, 'sydneyairport': 5864, 'dtv': 5865, 'spin': 5866, 'opaque': 5867, 'ted': 5868, 'lx': 5869, 'amy': 5870, 'lloyd': 5871, 'bosnia': 5872, 'cpu': 5873, 'proportion': 5874, 'goddamn': 5875, 'society': 5876, 'elbow': 5877, 'seatmate': 5878, 'alavera': 5879, 'youto': 5880, 'reallyyou': 5881, 'flightstill': 5882, 'soda': 5883, 'tuck': 5884, 'milesstatu': 5885, 'moneynotspentonunite': 5886, 'disunite': 5887, 'wpg': 5888, 'keepit': 5889, 'bach': 5890, 'ordmsy': 5891, 'incompetentrude': 5892, 'untd': 5893, 'hoursplease': 5894, 'cmhord': 5895, 'southbendinwhere': 5896, 'lindsay': 5897, 'iflyalot': 5898, 'iflyoakland': 5899, 'launch': 5900, 'honululu': 5901, 'montana': 5902, 'waiverskeep': 5903, 'refreshment': 5904, 'worsea': 5905, 'seatout': 5906, 'uhuhgroup': 5907, 'tomorrowwhy': 5908, 'preemptive': 5909, 'friendlyfriday': 5910, 'paw': 5911, 'blood': 5912, 'appt': 5913, 'litter': 5914, 'resell': 5915, 'dgoodspee': 5916, 'dimension': 5917, 'dmangenvisualclubconceptscom': 5918, 'flycould': 5919, 'disappointmentyet': 5920, 'againfly': 5921, 'ed': 5922, 'checkincorrect': 5923, 'delewr': 5924, 'flyingretro': 5925, 'gjqxj': 5926, 'acw': 5927, 'miaewr': 5928, 'ewriad': 5929, 'beingsuckontarmacsuck': 5930, 'visibly': 5931, 'mainline': 5932, 'sato': 5933, 'unnerve': 5934, 'checkouterror': 5935, 'dounotwantmybusine': 5936, 'title': 5937, 'jedediah': 5938, 'whatstheholdup': 5939, 'chitocle': 5940, 'teem': 5941, 'moron': 5942, 'thanksseat': 5943, 'flightsyearmy': 5944, 'rail': 5945, 'bobwesson': 5946, 'ethic': 5947, 'quadruple': 5948, 'transcontinental': 5949, 'pleasurerelief': 5950, 'antkneee': 5951, 'groundstill': 5952, 'depression': 5953, 'familiar': 5954, 'inaccuratemislead': 5955, 'hopethegearmakesitintact': 5956, 'hkg': 5957, 'bila': 5958, 'workin': 5959, 'narita': 5960, 'gently': 5961, 'whip': 5962, 'canadair': 5963, 'robthecameraman': 5964, 'airfarewatchdog': 5965, 'tripitpro': 5966, 'transparency': 5967, 'sarah': 5968, 'victim': 5969, 'boil': 5970, 'preventative': 5971, 'unresolve': 5972, 'narrower': 5973, 'bloat': 5974, 'yyc': 5975, 'lightbulb': 5976, 'handshake': 5977, 'problemsolver': 5978, 'yhzewr': 5979, 'utmost': 5980, 'tpallini': 5981, 'hurricane': 5982, 'checker': 5983, 'overkill': 5984, 'lrunscupcake': 5985, 'clarkhoward': 5986, 'kathryn': 5987, 'sotelo': 5988, 'aggravation': 5989, 'azzf': 5990, 'compton': 5991, 'insurance': 5992, 'fullfare': 5993, 'gsa': 5994, 'ithica': 5995, 'keepingtraditionsalive': 5996, 'thanksunite': 5997, 'tasty': 5998, 'pad': 5999, 'kathrynsotelo': 6000, 'amarillo': 6001, 'hn': 6002, 'surcharge': 6003, 'unmissable': 6004, 'bushug': 6005, 'format': 6006, 'busad': 6007, 'thinkbu': 6008, 'belfastairport': 6009, 'screensand': 6010, 'adamkarren': 6011, 'zj': 6012, 'premgold': 6013, 'guilty': 6014, 'newflight': 6015, 'vegetarian': 6016, 'linkemail': 6017, 'irene': 6018, 'paxex': 6019, 'cunewr': 6020, 'mysteriously': 6021, 'guessflight': 6022, 'smallerthinner': 6023, 'flightu': 6024, 'chock': 6025, 'unmet': 6026, 'abigailedge': 6027, 'whatgive': 6028, 'dullessuck': 6029, 'evansville': 6030, 'jun': 6031, 'slay': 6032, 'boardingpa': 6033, 'rad': 6034, 'hemispheresmag': 6035, 'thtimemonthsold': 6036, 'londonfashionweek': 6037, 'lfw': 6038, 'cement': 6039, 'needtocatchmynextflight': 6040, 'alreadyrebookedonce': 6041, 'sjoiad': 6042, 'tradition': 6043, 'flightdelay': 6044, 'nocompensation': 6045, 'despise': 6046, 'thee': 6047, 'dullestostatecollege': 6048, 'runningonthreehoursofsleep': 6049, 'delayedovernight': 6050, 'ambassador': 6051, 'newarktiredandwanttogohome': 6052, 'confrontational': 6053, 'wate': 6054, 'predawn': 6055, 'stickingtodelta': 6056, 'danroam': 6057, 'throug': 6058, 'oreo': 6059, 'asu': 6060, 'reclaim': 6061, 'aunt': 6062, 'onlyinamerica': 6063, 'transparent': 6064, 'rick': 6065, 'clifton': 6066, 'seahou': 6067, 'handbag': 6068, 'escort': 6069, 'und': 6070, 'lago': 6071, 'nigeria': 6072, 'ou': 6073, 'keepitclassy': 6074, 'robbogart': 6075, 'fib': 6076, 'vanish': 6077, 'idaho': 6078, 'hournever': 6079, 'anna': 6080, 'showsomerespect': 6081, 'wcomputer': 6082, 'nawww': 6083, 'fraif': 6084, 'youbag': 6085, 'frano': 6086, 'ordsfo': 6087, 'abcdef': 6088, 'tolerable': 6089, 'lastflightofthenight': 6090, 'breakup': 6091, 'dpted': 6092, 'whatstatu': 6093, 'spooky': 6094, 'spook': 6095, 'aweful': 6096, 'bridgewaitingforbagsunitedewr': 6097, 'sidewhy': 6098, 'heretiredcustomer': 6099, 'dmbshow': 6100, 'hiltonworldwide': 6101, 'caravannyc': 6102, 'maysvillenyc': 6103, 'alb': 6104, 'multicity': 6105, 'ump': 6106, 'lug': 6107, 'justgetmehome': 6108, 'sbn': 6109, 'lgjwb': 6110, 'voluntarily': 6111, 'gc': 6112, 'roanoke': 6113, 'sou': 6114, 'doument': 6115, 'ohand': 6116, 'crucial': 6117, 'youragentshavenoclue': 6118, 'worseoh': 6119, 'lonflight': 6120, 'pointsmileage': 6121, 'agotoday': 6122, 'illiterate': 6123, 'airlineguy': 6124, 'msn': 6125, 'rx': 6126, 'eyeglas': 6127, 'waitstill': 6128, 'robcnyc': 6129, 'substantial': 6130, 'demonstration': 6131, 'corny': 6132, 'daysofunitedfailure': 6133, 'thingafteranother': 6134, 'labyrinth': 6135, 'swindle': 6136, 'accomidate': 6137, 'qro': 6138, 'alwaysdelay': 6139, 'amt': 6140, 'impatience': 6141, 'partit': 6142, 'untruthful': 6143, 'overchargedunderserve': 6144, 'sonyasloanmd': 6145, 'comedian': 6146, 'stage': 6147, 'duecto': 6148, 'willl': 6149, 'aok': 6150, 'snowforce': 6151, 'hoo': 6152, 'bwood': 6153, 'nudgenudge': 6154, 'vocab': 6155, 'donna': 6156, 'interrogate': 6157, 'poorform': 6158, 'thatisall': 6159, 'boozefood': 6160, 'golfunite': 6161, 'possiable': 6162, 'schiphol': 6163, 'outin': 6164, 'func': 6165, 'flightflew': 6166, 'lgacleden': 6167, 'byod': 6168, 'worksnicely': 6169, 'subsequently': 6170, 'tenni': 6171, 'bossf': 6172, 'flexibilitycompassion': 6173, 'cantlogoutofunitedwifi': 6174, 'logout': 6175, 'incheck': 6176, 'netherland': 6177, 'systemsyouareonyourown': 6178, 'extravaganza': 6179, 'ec': 6180, 'deaffriendly': 6181, 'indidnt': 6182, 'hime': 6183, 'estellevw': 6184, 'autoapply': 6185, 'syastem': 6186, 'keepusgues': 6187, 'isthisyourfirsttry': 6188, 'km': 6189, 'ham': 6190, 'cabine': 6191, 'sao': 6192, 'fsqthg': 6193, 'therealaviation': 6194, 'itpretend': 6195, 'heartle': 6196, 'interrupt': 6197, 'definately': 6198, 'trafficfuel': 6199, 'joni': 6200, 'baggagefind': 6201, 'orthodoc': 6202, 'oncall': 6203, 'regain': 6204, 'karma': 6205, 'sweaty': 6206, 'sa': 6207, 'centerl': 6208, 'tokyonarita': 6209, 'sitter': 6210, 'earlyon': 6211, 'wellplay': 6212, 'jokesonu': 6213, 'uncvsduke': 6214, 'areyounew': 6215, 'nonumber': 6216, 'feeltheheat': 6217, 'ritz': 6218, 'kidnap': 6219, 'siteapp': 6220, 'sellout': 6221, 'obsolete': 6222, 'boarddeplane': 6223, 'customary': 6224, 'randomactsofcorporategree': 6225, 'ridiculousor': 6226, 'refundplease': 6227, 'milage': 6228, 'idnumber': 6229, 'hopetogetanswersoon': 6230, 'papersaid': 6231, 'airporthave': 6232, 'medallion': 6233, 'probablynot': 6234, 'thinkdo': 6235, 'situationagain': 6236, 'hotelstonight': 6237, 'startingbloc': 6238, 'monica': 6239, 'unitedfailsworsttripofmylife': 6240, 'unitedflyerhd': 6241, 'bfan': 6242, 'anotherdisappointment': 6243, 'ralph': 6244, 'nader': 6245, 'discourage': 6246, 'koalax': 6247, 'thier': 6248, 'inst': 6249, 'foodnot': 6250, 'threat': 6251, 'belligerent': 6252, 'aron': 6253, 'tellpurchase': 6254, 'whiskey': 6255, 'flightgotta': 6256, 'blac': 6257, 'lifesaver': 6258, 'oversorry': 6259, 'kmm': 6260, 'beought': 6261, 'unexpactable': 6262, 'ecom': 6263, 'erase': 6264, 'christinebpc': 6265, 'shin': 6266, 'exam': 6267, 'dcaewr': 6268, 'pac': 6269, 'missin': 6270, 'vusaustralia': 6271, 'aussie': 6272, 'cowgirl': 6273, 'cowboy': 6274, 'estelle': 6275, 'failagain': 6276, 'unitedvusa': 6277, 'distinguish': 6278, 'quanta': 6279, 'auckland': 6280, 'skiplag': 6281, 'startup': 6282, 'awesomebright': 6283, 'vibrant': 6284, 'habitrail': 6285, 'amypoehler': 6286, 'bafore': 6287, 'simplify': 6288, 'lhrt': 6289, 'yyzua': 6290, 'cthank': 6291, 'repurchase': 6292, 'turrible': 6293, 'unaccomidate': 6294, 'careyon': 6295, 'leah': 6296, 'kerry': 6297, 'ebokeer': 6298, 'themon': 6299, 'cdt': 6300, 'tickethotel': 6301, 'delayedover': 6302, 'airside': 6303, 'atlhou': 6304, 'fairbank': 6305, 'ewrmco': 6306, 'reupgrade': 6307, 'itsaronchriz': 6308, 'sortawe': 6309, 'aquadilla': 6310, 'parryaftab': 6311, 'withhold': 6312, 'pty': 6313, 'punish': 6314, 'cosmetic': 6315, 'homefamily': 6316, 'conveyor': 6317, 'istanbul': 6318, 'februaryi': 6319, 'lly': 6320, 'stacey': 6321, 'detailsno': 6322, 'potu': 6323, 'dvr': 6324, 'sub': 6325, 'plumber': 6326, 'string': 6327, 'william': 6328, 'observation': 6329, 'nothingand': 6330, 'thingwill': 6331, 'ypu': 6332, 'qly': 6333, 'noodle': 6334, 'pea': 6335, 'zuke': 6336, 'nonvegan': 6337, 'yogurt': 6338, 'stillmakingmepoorthough': 6339, 'hughe': 6340, 'automobile': 6341, 'longstand': 6342, 'shoulda': 6343, 'flightledthor': 6344, 'idonotcare': 6345, 'churchmouse': 6346, 'sail': 6347, 'mliden': 6348, 'denyeg': 6349, 'checkbaggage': 6350, 'fay': 6351, 'rdureimburse': 6352, 'heathrownewark': 6353, 'retract': 6354, 'waysilverairwsy': 6355, 'margo': 6356, 'intercontinental': 6357, 'reduction': 6358, 'exhorbitantfee': 6359, 'outpost': 6360, 'shulemstern': 6361, 'ftlauderdalesun': 6362, 'orlandosentinel': 6363, 'pleasent': 6364, 'dj': 6365, 'inner': 6366, 'lowstandard': 6367, 'annnnddddd': 6368, 'delaykil': 6369, 'sunkist': 6370, 'webbernatural': 6371, 'bypass': 6372, 'locally': 6373, 'surline': 6374, 'speechle': 6375, 'monopoly': 6376, 'doesntfeellikestatusyet': 6377, 'inflexible': 6378, 'levd': 6379, 'iatanbul': 6380, 'diminish': 6381, 'clearvision': 6382, 'tvu': 6383, 'deter': 6384, 'latter': 6385, 'ridic': 6386, 'paycheck': 6387, 'thingunite': 6388, 'crackersnabisco': 6389, 'pepperidge': 6390, 'farm': 6391, 'daysofhell': 6392, 'cbcallinaday': 6393, 'cbcnew': 6394, 'exitrow': 6395, 'rj': 6396, 'answerthi': 6397, 'dreadful': 6398, 'whack': 6399, 'harri': 6400, 'circulation': 6401, 'mkwlkr': 6402, 'ansleyhutson': 6403, 'emilydonneiiy': 6404, 'lostyou': 6405, 'console': 6406, 'sfodfw': 6407, 'sfoord': 6408, 'disappointedunite': 6409, 'waspaid': 6410, 'winnipeg': 6411, 'tightconnection': 6412, 'coltsmissingbag': 6413, 'lightyear': 6414, 'frighten': 6415, 'namesdalla': 6416, 'borderline': 6417, 'letsworktogether': 6418, 'dope': 6419, 'staffcust': 6420, 'lgaord': 6421, 'unempathetic': 6422, 'fulldont': 6423, 'pri': 6424, 'opsec': 6425, 'leisure': 6426, 'master': 6427, 'companyi': 6428, 'aircargo': 6429, 'bcn': 6430, 'whatsoever': 6431, 'correspondence': 6432, 'anticonsumer': 6433, 'welfare': 6434, 'turquoise': 6435, 'upc': 6436, 'swimsuit': 6437, 'competitively': 6438, 'unitedwithivy': 6439, 'falseadvertise': 6440, 'addr': 6441, 'signin': 6442, 'dxb': 6443, 'sime': 6444, 'noapology': 6445, 'restructure': 6446, 'brotha': 6447, 'multiplier': 6448, 'teleportation': 6449, 'directv': 6450, 'rtbiah': 6451, 'cigarette': 6452, 'bagyet': 6453, 'stonewall': 6454, 'collide': 6455, 'wontflyagainwithyou': 6456, 'isolate': 6457, 'mtn': 6458, 'ritacomo': 6459, 'understandably': 6460, 'edgy': 6461, 'chipper': 6462, 'ser': 6463, 'stdby': 6464, 'sivi': 6465, 'stewart': 6466, 'amid': 6467, 'ewrlax': 6468, 'seatarmrest': 6469, 'fullfa': 6470, 'dadboner': 6471, 'boldflavor': 6472, 'flavor': 6473, 'ingredient': 6474, 'csfail': 6475, 'milageplu': 6476, 'shady': 6477, 'phonehung': 6478, 'onall': 6479, 'undetermine': 6480, 'flyquiet': 6481, 'ordnoise': 6482, 'cyndi': 6483, 'troy': 6484, 'superben': 6485, 'glance': 6486, 'starboard': 6487, 'kosher': 6488, 'laxwhen': 6489, 'planesplane': 6490, 'screenslousy': 6491, 'upfare': 6492, 'rantyou': 6493, 'luggagethen': 6494, 'considerably': 6495, 'wise': 6496, 'cheeze': 6497, 'jilt': 6498, 'moneyelsewhere': 6499, 'tryagain': 6500, 'ezee': 6501, 'wilson': 6502, 'pvdiad': 6503, 'overcarry': 6504, 'igiveup': 6505, 'signup': 6506, 'preselect': 6507, 'sfoyyz': 6508, 'forelock': 6509, 'vary': 6510, 'elingeniero': 6511, 'ito': 6512, 'teamagain': 6513, 'elizabeth': 6514, 'whyany': 6515, 'doublestandard': 6516, 'disastertravelingwithsmallkid': 6517, 'sendingpost': 6518, 'jetbridge': 6519, 'drivermis': 6520, 'passeneger': 6521, 'allright': 6522, 'frankpostsecretcom': 6523, 'rmoug': 6524, 'rechedule': 6525, 'carerespond': 6526, 'disloyal': 6527, 'huffpostbiz': 6528, 'taller': 6529, 'firm': 6530, 'batman': 6531, 'insanely': 6532, 'upsellladen': 6533, 'mrandyep': 6534, 'albeit': 6535, 'tissue': 6536, 'programhorrible': 6537, 'customersyou': 6538, 'wantvirginamerica': 6539, 'safealone': 6540, 'buytransfer': 6541, 'milesthe': 6542, 'nonethele': 6543, 'vouchercompensation': 6544, 'audition': 6545, 'quiche': 6546, 'tandoori': 6547, 'accompaniment': 6548, 'txting': 6549, 'junkspam': 6550, 'pittsburg': 6551, 'untrain': 6552, 'bitty': 6553, 'flightmarch': 6554, 'brokeni': 6555, 'userperceive': 6556, 'flightncy': 6557, 'phlord': 6558, 'blegh': 6559, 'edition': 6560, 'headphonesbut': 6561, 'njvbp': 6562, 'brandi': 6563, 'zabsonre': 6564, 'farmington': 6565, 'slope': 6566, 'rajuchinthala': 6567, 'feck': 6568, 'flyanaofficial': 6569, 'transpacific': 6570, 'selfinterest': 6571, 'casleah': 6572, 'jsumiyasu': 6573, 'gist': 6574, 'aback': 6575, 'squarely': 6576, 'timenot': 6577, 'cockup': 6578, 'ijustwanttosleep': 6579, 'proficient': 6580, 'iahhnl': 6581, 'reactive': 6582, 'juice': 6583, 'getphilz': 6584, 'mot': 6585, 'clusterfuck': 6586, 'moar': 6587, 'mentality': 6588, 'foster': 6589, 'inspiration': 6590, 'employeerelation': 6591, 'crape': 6592, 'biscuit': 6593, 'sentimental': 6594, 'flightsairport': 6595, 'bwiewrmco': 6596, 'connetion': 6597, 'sr': 6598, 'servicecare': 6599, 'glassdoor': 6600, 'notsurprise': 6601, 'luvthem': 6602, 'leverage': 6603, 'meagan': 6604, 'fouty': 6605, 'brancato': 6606, 'wkid': 6607, 'parentsonboard': 6608, 'chromefirefox': 6609, 'midwaychicago': 6610, 'thapril': 6611, 'flypbi': 6612, 'logically': 6613, 'altonbrownlive': 6614, 'sohappy': 6615, 'flyfrontier': 6616, 'scramble': 6617, 'auction': 6618, 'postmaster': 6619, 'invitational': 6620, 'throwback': 6621, 'heavenlychc': 6622, 'cocktailor': 6623, 'flyaway': 6624, 'newsbusine': 6625, 'facepalm': 6626, 'onlinewa': 6627, 'fml': 6628, 'teyana': 6629, 'medusafriday': 6630, 'themenofbusine': 6631, 'playa': 6632, 'carmen': 6633, 'christine': 6634, 'mx': 6635, 'dignity': 6636, 'redeempoint': 6637, 'baitandswitch': 6638, 'callwhat': 6639, 'chibuf': 6640, 'barelyexpire': 6641, 'rapidreward': 6642, 'lasttweetaboutthi': 6643, 'groupa': 6644, 'portal': 6645, 'revert': 6646, 'flightsdelay': 6647, 'rolemodel': 6648, 'barzegar': 6649, 'euro': 6650, 'tent': 6651, 'chantilly': 6652, 'agovacationfail': 6653, 'frozenwater': 6654, 'gettingimpatient': 6655, 'theycouldatleastofferfreebooze': 6656, 'thrower': 6657, 'venetia': 6658, 'oyu': 6659, 'centric': 6660, 'checkinout': 6661, 'traditionally': 6662, 'sledge': 6663, 'hammer': 6664, 'scalpel': 6665, 'bible': 6666, 'vipliveinthevieyard': 6667, 'intuit': 6668, 'jhamilton': 6669, 'intuitlife': 6670, 'leanin': 6671, 'kta': 6672, 'vip': 6673, 'oscarworthy': 6674, 'happycamper': 6675, 'ellamae': 6676, 'penguin': 6677, 'kevinswan': 6678, 'alstdi': 6679, 'alifestory': 6680, 'smoooothest': 6681, 'southwestsmoothie': 6682, 'stepup': 6683, 'makeitright': 6684, 'wewillsee': 6685, 'sol': 6686, 'rap': 6687, 'partnerreward': 6688, 'openin': 6689, 'evolve': 6690, 'nanosmatter': 6691, 'etd': 6692, 'sauna': 6693, 'midlandflight': 6694, 'buisne': 6695, 'schoolgirl': 6696, 'bagsflyfree': 6697, 'cheatcustomer': 6698, 'wrongiswrong': 6699, 'badbussine': 6700, 'bwiand': 6701, 'terribleno': 6702, 'arehi': 6703, 'poc': 6704, 'nowarmclothe': 6705, 'lostbag': 6706, 'cistudio': 6707, 'youdidit': 6708, 'higg': 6709, 'boson': 6710, 'thebachelor': 6711, 'wah': 6712, 'floridavacation': 6713, 'smoothflight': 6714, 'flutter': 6715, 'fullprice': 6716, 'bethonor': 6717, 'honorable': 6718, 'economic': 6719, 'cdn': 6720, 'customerappreciation': 6721, 'gaincustomer': 6722, 'keepem': 6723, 'lovedflyingwiththem': 6724, 'notanymore': 6725, 'lubbock': 6726, 'tmobile': 6727, 'shouldwearmask': 6728, 'fneqm': 6729, 'lou': 6730, 'ourguest': 6731, 'katie': 6732, 'canthurtask': 6733, 'sweepstake': 6734, 'nutsaboutsouthwest': 6735, 'brood': 6736, 'mdwmci': 6737, 'homeandreadyfornexttrip': 6738, 'satisfactorily': 6739, 'justsayin': 6740, 'genuinely': 6741, 'comparable': 6742, 'shittydeal': 6743, 'taylorlumsden': 6744, 'responsivene': 6745, 'thevery': 6746, 'escap': 6747, 'maltese': 6748, 'mdwfll': 6749, 'fuyukaidesuyo': 6750, 'hugeeeee': 6751, 'evennotify': 6752, 'theflight': 6753, 'isdelay': 6754, 'emailtextphone': 6755, 'callif': 6756, 'wererun': 6757, 'chemistry': 6758, 'melissa': 6759, 'album': 6760, 'fistfight': 6761, 'briughy': 6762, 'comclassic': 6763, 'aif': 6764, 'agcommunity': 6765, 'aprilmay': 6766, 'plant': 6767, 'productivity': 6768, 'healthbenefitsofplant': 6769, 'garden': 6770, 'darrel': 6771, 'mkt': 6772, 'whathappend': 6773, 'detective': 6774, 'sadie': 6775, 'booo': 6776, 'givethemraise': 6777, 'crabby': 6778, 'grrrrrr': 6779, 'nycfeltthelove': 6780, 'netneutrality': 6781, 'northern': 6782, 'paradise': 6783, 'gin': 6784, 'tonic': 6785, 'toyingwithouremotion': 6786, 'kristicapel': 6787, 'toughtomakeplan': 6788, 'gettingthirsty': 6789, 'businesstrip': 6790, 'hdsportsguy': 6791, 'announcer': 6792, 'broad': 6793, 'flightedsent': 6794, 'notsatisfy': 6795, 'georgia': 6796, 'ri': 6797, 'lotbut': 6798, 'allgood': 6799, 'onlineapp': 6800, 'rncahill': 6801, 'ideserveareward': 6802, 'hilton': 6803, 'marriage': 6804, 'thanksare': 6805, 'lukewyckoff': 6806, 'matthewebel': 6807, 'coachg': 6808, 'helloare': 6809, 'ftlauderdale': 6810, 'ftmyer': 6811, 'clinicpolly': 6812, 'sellmypointssoon': 6813, 'minno': 6814, 'body': 6815, 'meat': 6816, 'punishedforfly': 6817, 'flamethrower': 6818, 'furryfiesta': 6819, 'tok': 6820, 'airtran': 6821, 'qvnmb': 6822, 'emailcall': 6823, 'nakedmeet': 6824, 'pnut': 6825, 'dust': 6826, 'nelsjeff': 6827, 'ing': 6828, 'lin': 6829, 'mdwsan': 6830, 'lasalle': 6831, 'kkwhb': 6832, 'directional': 6833, 'dislexia': 6834, 'gi': 6835, 'flightplease': 6836, 'ewk': 6837, 'pseudovoucher': 6838, 'daysinn': 6839, 'lease': 6840, 'empathetic': 6841, 'monika': 6842, 'mwa': 6843, 'ambivalence': 6844, 'patricia': 6845, 'jparkermastin': 6846, 'nbd': 6847, 'mucha': 6848, 'grassy': 6849, 'dissapont': 6850, 'sansfo': 6851, 'rita': 6852, 'specialolympic': 6853, 'olympic': 6854, 'akron': 6855, 'wretch': 6856, 'mdwmem': 6857, 'suspend': 6858, 'allegiantair': 6859, 'ar': 6860, 'companionpa': 6861, 'dendal': 6862, 'ichangedyourdiaper': 6863, 'megelizabeth': 6864, 'eom': 6865, 'persevere': 6866, 'tru': 6867, 'thatthi': 6868, 'mitchellairport': 6869, 'mighty': 6870, 'countrysh': 6871, 'marchand': 6872, 'weatherle': 6873, 'anderson': 6874, 'sweep': 6875, 'preclude': 6876, 'pleasemy': 6877, 'southwestluv': 6878, 'wthem': 6879, 'pleasehow': 6880, 'functionally': 6881, 'combat': 6882, 'dontmakemebeg': 6883, 'brighter': 6884, 'hollymai': 6885, 'obtain': 6886, 'minenow': 6887, 'investment': 6888, 'fransisco': 6889, 'saleim': 6890, 'fasten': 6891, 'businessso': 6892, 'tiday': 6893, 'bur': 6894, 'gettingbetter': 6895, 'sfosna': 6896, 'infinity': 6897, 'anger': 6898, 'slowne': 6899, 'ack': 6900, 'wentook': 6901, 'shouldhaveflownjetblue': 6902, 'mario': 6903, 'gameboy': 6904, 'crappiest': 6905, 'enemy': 6906, 'strandednyc': 6907, 'grader': 6908, 'ohk': 6909, 'inexpensive': 6910, 'notmadeofmoney': 6911, 'curse': 6912, 'deed': 6913, 'hotlanta': 6914, 'galaxy': 6915, 'scroll': 6916, 'letitgo': 6917, 'peanutsonaplatter': 6918, 'planefirstcla': 6919, 'phxdal': 6920, 'danihampton': 6921, 'dani': 6922, 'flightingdelay': 6923, 'firstboth': 6924, 'stowaway': 6925, 'defective': 6926, 'sweepstakesit': 6927, 'chalk': 6928, 'coldly': 6929, 'neveryamind': 6930, 'bust': 6931, 'zipper': 6932, 'uninform': 6933, 'unapologetic': 6934, 'dynamite': 6935, 'quietly': 6936, 'irate': 6937, 'promofly': 6938, 'rnd': 6939, 'gov': 6940, 'governor': 6941, 'legalize': 6942, 'lgbtcan': 6943, 'lend': 6944, 'expeditiou': 6945, 'onechildfourbag': 6946, 'audience': 6947, 'rschedule': 6948, 'tyspent': 6949, 'useopen': 6950, 'complimentarybeveragesnee': 6951, 'earlybirdmeansnothe': 6952, 'yday': 6953, 'drench': 6954, 'bwilax': 6955, 'consumermarkete': 6956, 'cxed': 6957, 'nev': 6958, 'sisterbrother': 6959, 'safetyservice': 6960, 'alison': 6961, 'bobbi': 6962, 'flightledtry': 6963, 'unprecedent': 6964, 'dallasnext': 6965, 'getmeouttahere': 6966, 'southwestsuck': 6967, 'slaycancerwithdragon': 6968, 'noluv': 6969, 'monfr': 6970, 'ebook': 6971, 'happend': 6972, 'flightlationyou': 6973, 'fixedcertain': 6974, 'mash': 6975, 'themestimate': 6976, 'sd': 6977, 'delacy': 6978, 'compassionate': 6979, 'muh': 6980, 'dilemma': 6981, 'daynot': 6982, 'tomorrowwould': 6983, 'insulin': 6984, 'grandcanyon': 6985, 'baggagefail': 6986, 'bagsflyfreebutnotwithme': 6987, 'epitimeoffail': 6988, 'jamie': 6989, 'mckinnie': 6990, 'retroactively': 6991, 'flightsmilespoint': 6992, 'couponsi': 6993, 'optout': 6994, 'freejust': 6995, 'fregulation': 6996, 'furnish': 6997, 'xmost': 6998, 'stopclaim': 6999, 'outgetmeoutofhere': 7000, 'suddenintlcheckin': 7001, 'sink': 7002, 'homegirl': 7003, 'stuckintampa': 7004, 'chicagomidway': 7005, 'mgmt': 7006, 'cavalli': 7007, 'calve': 7008, 'mccarran': 7009, 'southwestfail': 7010, 'qmfd': 7011, 'insubstantial': 7012, 'blacklivesmatter': 7013, 'jindalcmc': 7014, 'davidson': 7015, 'auditorium': 7016, 'jsom': 7017, 'utdalla': 7018, 'vitaminwater': 7019, 'dosequi': 7020, 'fattire': 7021, 'fehqne': 7022, 'dcarsw': 7023, 'tomorro': 7024, 'fwwef': 7025, 'ant': 7026, 'totalfail': 7027, 'highhope': 7028, 'presidential': 7029, 'fszyo': 7030, 'lasbuf': 7031, 'omaden': 7032, 'sev': 7033, 'getyourlife': 7034, 'manchesterbwi': 7035, 'heal': 7036, 'idol': 7037, 'callmestanley': 7038, 'flysw': 7039, 'urge': 7040, 'forty': 7041, 'minflight': 7042, 'beenhour': 7043, 'celebration': 7044, 'windy': 7045, 'unman': 7046, 'tweak': 7047, 'microsecond': 7048, 'whenitsnowsitpour': 7049, 'tgcyalate': 7050, 'library': 7051, 'positionhow': 7052, 'anhour': 7053, 'werenot': 7054, 'chng': 7055, 'whch': 7056, 'advsry': 7057, 'readily': 7058, 'imjustsay': 7059, 'cable': 7060, 'portable': 7061, 'ryand': 7062, 'happybirthday': 7063, 'profitable': 7064, 'venture': 7065, 'isitthegarykellyway': 7066, 'cutoff': 7067, 'chapman': 7068, 'artluggage': 7069, 'bnardu': 7070, 'getmorehand': 7071, 'indian': 7072, 'aunty': 7073, 'aruna': 7074, 'airlineive': 7075, 'southwestoliver': 7076, 'worknogood': 7077, 'tremendously': 7078, 'cspkcat': 7079, 'velour': 7080, 'showenter': 7081, 'kdepetro': 7082, 'dalmdw': 7083, 'getmeoffthisbird': 7084, 'crutch': 7085, 'stlbo': 7086, 'ne': 7087, 'ticketsforjax': 7088, 'leftright': 7089, 'okcdirect': 7090, 'okcprofessional': 7091, 'minutesi': 7092, 'customerloyalty': 7093, 'launder': 7094, 'phoneridiculou': 7095, 'hiremorepeople': 7096, 'approximate': 7097, 'keepitmovin': 7098, 'grandkid': 7099, 'supvsr': 7100, 'timedout': 7101, 'implement': 7102, 'hyperlink': 7103, 'evedidnt': 7104, 'seatstray': 7105, 'purifier': 7106, 'wee': 7107, 'sourhwest': 7108, 'airlinehave': 7109, 'tifffyhuang': 7110, 'sac': 7111, 'betch': 7112, 'nationwide': 7113, 'bone': 7114, 'kmdw': 7115, 'jasonwhitely': 7116, 'emer': 7117, 'albuquer': 7118, 'maverick': 7119, 'adjust': 7120, 'airpt': 7121, 'luve': 7122, 'swagglikebean': 7123, 'nolaorlando': 7124, 'takemeback': 7125, 'stlatl': 7126, 'fwhei': 7127, 'wifile': 7128, 'buzz': 7129, 'ahah': 7130, 'exclamation': 7131, 'annamarie': 7132, 'norri': 7133, 'changesdeval': 7134, 'nmaryland': 7135, 'morrw': 7136, 'scumbag': 7137, 'sacintlairport': 7138, 'bestincla': 7139, 'takemehome': 7140, 'rndtrp': 7141, 'djqkc': 7142, 'djimpact': 7143, 'radish': 7144, 'noc': 7145, 'lamp': 7146, 'desperate': 7147, 'promotionscode': 7148, 'nashvilledenver': 7149, 'julgood': 7150, 'miscommunicate': 7151, 'aminaur': 7152, 'prospective': 7153, 'eternally': 7154, 'blatimore': 7155, 'hoom': 7156, 'wellen': 7157, 'treasure': 7158, 'liveatfirefly': 7159, 'defcon': 7160, 'stacy': 7161, 'wernicke': 7162, 'lacma': 7163, 'fairfax': 7164, 'thetroubadour': 7165, 'ripme': 7166, 'disneyland': 7167, 'heyo': 7168, 'headline': 7169, 'liveonfox': 7170, 'februaryfreezefox': 7171, 'pleasecan': 7172, 'okaay': 7173, 'fouryrold': 7174, 'capn': 7175, 'manana': 7176, 'stloui': 7177, 'lefteven': 7178, 'bradley': 7179, 'wway': 7180, 'spvsr': 7181, 'padresst': 7182, 'teamspirit': 7183, 'samoore': 7184, 'southwestrock': 7185, 'neverchange': 7186, 'controllove': 7187, 'mytimeismoney': 7188, 'wmnlifehotmailcom': 7189, 'deficiency': 7190, 'luvagent': 7191, 'planesnot': 7192, 'guessweflyingdelta': 7193, 'ipodtouch': 7194, 'needtogethome': 7195, 'carryonbagssloweverybodydown': 7196, 'volleyball': 7197, 'graduation': 7198, 'absoulutely': 7199, 'manufacture': 7200, 'quirkine': 7201, 'mmm': 7202, 'captiveaudience': 7203, 'ashevilleair': 7204, 'functional': 7205, 'thth': 7206, 'midb': 7207, 'murraysawchuck': 7208, 'expireswhy': 7209, 'nowmightmismybrosgraduation': 7210, 'shhhh': 7211, 'deborah': 7212, 'raisegreat': 7213, 'wantcharge': 7214, 'creditwhat': 7215, 'daysnotahappytraveler': 7216, 'obey': 7217, 'luvit': 7218, 'imdetermine': 7219, 'howwhy': 7220, 'allowabl': 7221, 'horizon': 7222, 'geekstiel': 7223, 'vindictivetk': 7224, 'moveaboutthecountry': 7225, 'fjbfsc': 7226, 'frigidfriday': 7227, 'stlau': 7228, 'ahhhhh': 7229, 'jackpot': 7230, 'devaluation': 7231, 'excruciatingly': 7232, 'inbrowser': 7233, 'hover': 7234, 'intrusive': 7235, 'goingtovega': 7236, 'getconnect': 7237, 'missedflight': 7238, 'lbb': 7239, 'tripofalifetime': 7240, 'baitswitch': 7241, 'laguardiadal': 7242, 'sorta': 7243, 'sinuse': 7244, 'contend': 7245, 'preregistration': 7246, 'eould': 7247, 'wanngo': 7248, 'whiny': 7249, 'mostbut': 7250, 'homewardbound': 7251, 'bringin': 7252, 'mor': 7253, 'parhetic': 7254, 'bagawim': 7255, 'veryloyalcustomer': 7256, 'useable': 7257, 'xxvm': 7258, 'bebetter': 7259, 'mrn': 7260, 'disupdate': 7261, 'budweiserduel': 7262, 'unacceptablei': 7263, 'desirable': 7264, 'stellarservice': 7265, 'byebyeusairline': 7266, 'knowexpect': 7267, 'medically': 7268, 'southwestairgive': 7269, 'avb': 7270, 'xw': 7271, 'brd': 7272, 'nowfrustrate': 7273, 'rocif': 7274, 'messcng': 7275, 'overbk': 7276, 'chiberia': 7277, 'overbookedgng': 7278, 'destfeel': 7279, 'bec': 7280, 'amiltx': 7281, 'customerit': 7282, 'wilco': 7283, 'sundown': 7284, 'subterfuge': 7285, 'hhp': 7286, 'panchojoe': 7287, 'mixtapethough': 7288, 'recordi': 7289, 'loveeee': 7290, 'capitalize': 7291, 'lowercase': 7292, 'oopsno': 7293, 'excitement': 7294, 'livvyport': 7295, 'bcuz': 7296, 'awaywhy': 7297, 'heroe': 7298, 'swapic': 7299, 'auscun': 7300, 'dresparkle': 7301, 'luvin': 7302, 'presceo': 7303, 'therofo': 7304, 'cbsbaltimore': 7305, 'bowl': 7306, 'pleaseeeeee': 7307, 'unobaseball': 7308, 'luvintheair': 7309, 'heartlanta': 7310, 'bumphigh': 7311, 'igotmonte': 7312, 'hopin': 7313, 'hardcase': 7314, 'golfbag': 7315, 'saianel': 7316, 'ifthesneverstop': 7317, 'charttop': 7318, 'permanent': 7319, 'ineligible': 7320, 'answersno': 7321, 'evrytime': 7322, 'nasbwi': 7323, 'bz': 7324, 'prettyplease': 7325, 'customerstime': 7326, 'airliner': 7327, 'cache': 7328, 'exclusive': 7329, 'seasonal': 7330, 'bosbna': 7331, 'cmhoak': 7332, 'bayespecially': 7333, 'ohioprobz': 7334, 'origami': 7335, 'oldpolicieswaybetter': 7336, 'yeehaw': 7337, 'brittanyobx': 7338, 'quirky': 7339, 'archaic': 7340, 'onelove': 7341, 'favoriteairline': 7342, 'luvforsw': 7343, 'unserve': 7344, 'poodle': 7345, 'constructive': 7346, 'criticism': 7347, 'feesbut': 7348, 'bringbacktheluvtordu': 7349, 'directflight': 7350, 'dispatchalert': 7351, 'wholly': 7352, 'consultant': 7353, 'accumulation': 7354, 'phish': 7355, 'cheapest': 7356, 'personallyabout': 7357, 'atlno': 7358, 'superb': 7359, 'timerest': 7360, 'jlittle': 7361, 'mbp': 7362, 'infanttoddler': 7363, 'whyso': 7364, 'fewdirectflight': 7365, 'ownerhelp': 7366, 'roadmap': 7367, 'milwaukee': 7368, 'supporter': 7369, 'jesu': 7370, 'portray': 7371, 'homosexual': 7372, 'juda': 7373, 'atlau': 7374, 'whoot': 7375, 'gap': 7376, 'england': 7377, 'lovetotravel': 7378, 'chach': 7379, 'luxclark': 7380, 'laura': 7381, 'shortlycb': 7382, 'weekmake': 7383, 'onlywaytofly': 7384, 'leathery': 7385, 'fannntastic': 7386, 'airwe': 7387, 'horribleattitude': 7388, 'chgd': 7389, 'acoustic': 7390, 'disneyprincesshalfmarathon': 7391, 'girlsweekend': 7392, 'rich': 7393, 'westagard': 7394, 'att': 7395, 'nancy': 7396, 'airportheld': 7397, 'customersfirst': 7398, 'qualification': 7399, 'flightspot': 7400, 'mobileboard': 7401, 'bridesmaid': 7402, 'tbuccherifrnce': 7403, 'beij': 7404, 'unpredictable': 7405, 'tik': 7406, 'herb': 7407, 'canplease': 7408, 'willie': 7409, 'nelson': 7410, 'impersonator': 7411, 'sang': 7412, 'peanutsandtoon': 7413, 'skymall': 7414, 'ripskymall': 7415, 'passngr': 7416, 'gt': 7417, 'flythrough': 7418, 'tonightgreat': 7419, 'timieyancey': 7420, 'sporadically': 7421, 'uncharacteristic': 7422, 'bookofnegroe': 7423, 'sest': 7424, 'pleeeease': 7425, 'chicagolaxphx': 7426, 'sweatshirt': 7427, 'craftbeer': 7428, 'caution': 7429, 'dependent': 7430, 'phoneinperson': 7431, 'whyyy': 7432, 'damion': 7433, 'damionflight': 7434, 'kaneshow': 7435, 'leeannhealey': 7436, 'demolish': 7437, 'imessage': 7438, 'reservationwe': 7439, 'witty': 7440, 'repartee': 7441, 'bso': 7442, 'attentive': 7443, 'criteria': 7444, 'faq': 7445, 'austinbergstrom': 7446, 'luvsw': 7447, 'curb': 7448, 'alistey': 7449, 'bingo': 7450, 'noah': 7451, 'loveluv': 7452, 'swvyilxklrogfsja': 7453, 'humphrey': 7454, 'yearslate': 7455, 'maybeijustlost': 7456, 'whyyounoloveme': 7457, 'taylormdown': 7458, 'fkqw': 7459, 'worstthingever': 7460, 'ubergizmo': 7461, 'courtney': 7462, 'lgabwi': 7463, 'anni': 7464, 'jamesasworth': 7465, 'brent': 7466, 'additonal': 7467, 'cantblametheweather': 7468, 'mhtforlife': 7469, 'shortlysouthwestair': 7470, 'brendanpshannon': 7471, 'brendan': 7472, 'shortlyr': 7473, 'kindly': 7474, 'thingsishouldknow': 7475, 'ifeeldumb': 7476, 'roadtrip': 7477, 'sureill': 7478, 'southwestairswadiversity': 7479, 'pastmypatienceexpirationdate': 7480, 'inclusion': 7481, 'kirkwoodtiger': 7482, 'ld': 7483, 'saysorrychri': 7484, 'swfollow': 7485, 'customerservicewin': 7486, 'itravelalot': 7487, 'government': 7488, 'companionpas': 7489, 'reside': 7490, 'fuckinf': 7491, 'sht': 7492, 'deltanew': 7493, 'screakjmf': 7494, 'emerge': 7495, 'leader': 7496, 'pv': 7497, 'lovesouthwest': 7498, 'mybday': 7499, 'sagerooski': 7500, 'undignify': 7501, 'freedrinkcoupon': 7502, 'mltple': 7503, 'pmcan': 7504, 'jaxbna': 7505, 'notokay': 7506, 'lastly': 7507, 'balt': 7508, 'caroline': 7509, 'superhero': 7510, 'bnasnow': 7511, 'contempt': 7512, 'purse': 7513, 'wendell': 7514, 'holton': 7515, 'secondly': 7516, 'packingayak': 7517, 'brianregancomic': 7518, 'cockroach': 7519, 'crawl': 7520, 'fsve': 7521, 'deltapoint': 7522, 'policyfee': 7523, 'devotedyyour': 7524, 'nl': 7525, 'nhl': 7526, 'arena': 7527, 'smusportmgt': 7528, 'sportsbiz': 7529, 'closetoverhead': 7530, 'cakairport': 7531, 'octavia': 7532, 'downnnnn': 7533, 'courtsnod': 7534, 'hillaconlin': 7535, 'solar': 7536, 'charger': 7537, 'changer': 7538, 'usb': 7539, 'fla': 7540, 'tinaisback': 7541, 'neveind': 7542, 'modelodenegocio': 7543, 'innovacion': 7544, 'businessmodel': 7545, 'flightcheck': 7546, 'oakmsy': 7547, 'johnwayneair': 7548, 'divadapouch': 7549, 'thepoopqueen': 7550, 'wonderfully': 7551, 'yesnot': 7552, 'reload': 7553, 'freecomedyshow': 7554, 'newlifetimecustomer': 7555, 'engadget': 7556, 'theverge': 7557, 'iusedtoloveu': 7558, 'emerg': 7559, 'erw': 7560, 'snacksthank': 7561, 'dishearten': 7562, 'familyand': 7563, 'smaller': 7564, 'shotwest': 7565, 'fvfyw': 7566, 'swrr': 7567, 'serviceopen': 7568, 'shortshort': 7569, 'assistanceyou': 7570, 'reachable': 7571, 'thrueverythe': 7572, 'uneventful': 7573, 'outline': 7574, 'travelportland': 7575, 'hood': 7576, 'nashvilleshould': 7577, 'attire': 7578, 'monthwill': 7579, 'majority': 7580, 'tomoro': 7581, 'feelingtheluv': 7582, 'profitbeforepeople': 7583, 'wig': 7584, 'michele': 7585, 'goodhumore': 7586, 'noairport': 7587, 'poisonpill': 7588, 'snowbama': 7589, 'dealsmay': 7590, 'undefine': 7591, 'workingfamily': 7592, 'cgroup': 7593, 'comeon': 7594, 'mattebo': 7595, 'iiiii': 7596, 'slowfi': 7597, 'timeand': 7598, 'costarica': 7599, 'penny': 7600, 'vacatime': 7601, 'denbna': 7602, 'fattuesday': 7603, 'awwweesssooomee': 7604, 'prchase': 7605, 'retailer': 7606, 'keepmy': 7607, 'mardi': 7608, 'gra': 7609, 'deicer': 7610, 'bushleague': 7611, 'weakservice': 7612, 'nochill': 7613, 'mcodca': 7614, 'msydca': 7615, 'swamistake': 7616, 'electric': 7617, 'fpmy': 7618, 'jennifercascinogmailcom': 7619, 'becuz': 7620, 'swfan': 7621, 'nftyconvention': 7622, 'tulsa': 7623, 'southwestluvsweep': 7624, 'waitingcan': 7625, 'tomvh': 7626, 'hahayeah': 7627, 'elevator': 7628, 'southworst': 7629, 'desparately': 7630, 'annebevi': 7631, 'paulbev': 7632, 'mikeabramson': 7633, 'wreso': 7634, 'vegaschicago': 7635, 'cbssoxfan': 7636, 'offcall': 7637, 'phonedy': 7638, 'alistprefer': 7639, 'screencap': 7640, 'paytontaylor': 7641, 'payton': 7642, 'swair': 7643, 'willmake': 7644, 'bham': 7645, 'conffgkxv': 7646, 'bernhardtjh': 7647, 'bool': 7648, 'niggaz': 7649, 'loyalrrmember': 7650, 'lovesouthwestair': 7651, 'notpghtimothy': 7652, 'gruber': 7653, 'dontchangeathe': 7654, 'snowfall': 7655, 'fhkte': 7656, 'measle': 7657, 'outbreak': 7658, 'frzz': 7659, 'challemann': 7660, 'jvstatu': 7661, 'streamline': 7662, 'commute': 7663, 'condescension': 7664, 'serenitynow': 7665, 'octaviannightmare': 7666, 'eqp': 7667, 'fusturate': 7668, 'himy': 7669, 'tuldal': 7670, 'southwestairsouthwest': 7671, 'disconnectednew': 7672, 'daycare': 7673, 'harass': 7674, 'mistakefuriou': 7675, 'temporary': 7676, 'ballsturn': 7677, 'evermoreroom': 7678, 'marty': 7679, 'nobaggagefee': 7680, 'pgfryz': 7681, 'tie': 7682, 'proposal': 7683, 'gala': 7684, 'boundle': 7685, 'sameday': 7686, 'republic': 7687, 'tan': 7688, 'canister': 7689, 'powder': 7690, 'divider': 7691, 'optin': 7692, 'sxsw': 7693, 'pointsme': 7694, 'overchg': 7695, 'bg': 7696, 'herd': 7697, 'cattleslaughter': 7698, 'rainy': 7699, 'poop': 7700, 'credential': 7701, 'baejet': 7702, 'amirite': 7703, 'terrybrokebad': 7704, 'askamex': 7705, 'airspace': 7706, 'destin': 7707, 'walton': 7708, 'catfoodbeerglue': 7709, 'yer': 7710, 'nycpdx': 7711, 'nycpghwish': 7712, 'lbc': 7713, 'napkin': 7714, 'seenoevil': 7715, 'ruthslobodin': 7716, 'justdoit': 7717, 'youknowyouwantto': 7718, 'versa': 7719, 'firstlove': 7720, 'leatherseat': 7721, 'hipuni': 7722, 'guyana': 7723, 'eatgregeat': 7724, 'wowthx': 7725, 'greg': 7726, 'teamnkh': 7727, 'annnndddd': 7728, 'nokidhungry': 7729, 'foodnetwork': 7730, 'tummy': 7731, 'jetbluehatesbtv': 7732, 'trublue': 7733, 'answeringdont': 7734, 'veteran': 7735, 'mcokeep': 7736, 'gopuregrenada': 7737, 'discovergrenada': 7738, 'caribbejan': 7739, 'islandexpert': 7740, 'jannasaurusrex': 7741, 'janna': 7742, 'weappreciateyou': 7743, 'jetbluefame': 7744, 'sosmart': 7745, 'frequentflyerappreciate': 7746, 'alsoyayforsnack': 7747, 'prbound': 7748, 'weekday': 7749, 'atct': 7750, 'flightline': 7751, 'marinadomine': 7752, 'ericbradleypt': 7753, 'briansumer': 7754, 'fifth': 7755, 'persistence': 7756, 'soooooo': 7757, 'eventhoughitsdegreesathome': 7758, 'pid': 7759, 'thewayoftheidhman': 7760, 'blush': 7761, 'container': 7762, 'tote': 7763, 'hitch': 7764, 'hike': 7765, 'passengersarepeople': 7766, 'civilize': 7767, 'datingrev': 7768, 'aiecraft': 7769, 'fuckin': 7770, 'lbairport': 7771, 'longbeachcity': 7772, 'facility': 7773, 'flu': 7774, 'gonenow': 7775, 'charlestonvery': 7776, 'pricy': 7777, 'zombie': 7778, 'welp': 7779, 'chging': 7780, 'isit': 7781, 'froward': 7782, 'workednot': 7783, 'backhand': 7784, 'index': 7785, 'sway': 7786, 'contributiontopool': 7787, 'arc': 7788, 'extraction': 7789, 'abduct': 7790, 'lessen': 7791, 'herewhen': 7792, 'bucketobolt': 7793, 'columbian': 7794, 'weepysweetmonty': 7795, 'compartment': 7796, 'mrjustyn': 7797, 'study': 7798, 'lingo': 7799, 'depress': 7800, 'lololololol': 7801, 'overreact': 7802, 'neighbore': 7803, 'omgee': 7804, 'onfleek': 7805, 'knockedout': 7806, 'foh': 7807, 'noooooooooooooooooo': 7808, 'contentmarkete': 7809, 'mag': 7810, 'kangaroo': 7811, 'deem': 7812, 'blade': 7813, 'freberg': 7814, 'lmfaooooo': 7815, 'planewide': 7816, 'yrold': 7817, 'greatgranny': 7818, 'yasss': 7819, 'da': 7820, 'fuccc': 7821, 'preciation': 7822, 'whyjetblue': 7823, 'fedora': 7824, 'lolol': 7825, 'smyc': 7826, 'tongueincheek': 7827, 'etiquette': 7828, 'stahhppp': 7829, 'thisjetblue': 7830, 'welllllll': 7831, 'peak': 7832, 'caucasity': 7833, 'lmaoooo': 7834, 'lmfaooo': 7835, 'assuage': 7836, 'indignation': 7837, 'wen': 7838, 'okayd': 7839, 'agojetblue': 7840, 'cultural': 7841, 'appropriation': 7842, 'ballin': 7843, 'bostongarden': 7844, 'manbut': 7845, 'thisor': 7846, 'ticketit': 7847, 'wit': 7848, 'brink': 7849, 'laxnyc': 7850, 'laxnycarea': 7851, 'hellobrittney': 7852, 'stahp': 7853, 'bop': 7854, 'newspaper': 7855, 'ihop': 7856, 'multimedia': 7857, 'courteroy': 7858, 'lolz': 7859, 'usingthisword': 7860, 'blizzue': 7861, 'hizouse': 7862, 'petty': 7863, 'hahah': 7864, 'yas': 7865, 'thatlol': 7866, 'bruhreal': 7867, 'digg': 7868, 'alynewton': 7869, 'designer': 7870, 'ducttap': 7871, 'ohboy': 7872, 'shouldigetoutandpush': 7873, 'tlc': 7874, 'universalorl': 7875, 'citystrangeand': 7876, 'alternatively': 7877, 'irina': 7878, 'flipside': 7879, 'eatup': 7880, 'cafe': 7881, 'buggy': 7882, 'abassinet': 7883, 'gerne': 7884, 'billmelate': 7885, 'timeseverytime': 7886, 'vmsgyour': 7887, 'novel': 7888, 'jeffhofmann': 7889, 'denisejtaylor': 7890, 'laurieameacham': 7891, 'multix': 7892, 'misspel': 7893, 'junsep': 7894, 'geraghty': 7895, 'nyjet': 7896, 'gopatriot': 7897, 'westpalmbeach': 7898, 'flybetter': 7899, 'selfcheck': 7900, 'redsox': 7901, 'catsanddogslivingtogether': 7902, 'pearl': 7903, 'complex': 7904, 'pulldown': 7905, 'suboption': 7906, 'formsmadden': 7907, 'waldorf': 7908, 'astoria': 7909, 'shocker': 7910, 'daniel': 7911, 'webpage': 7912, 'birder': 7913, 'rat': 7914, 'sloooooow': 7915, 'safetyconcern': 7916, 'emaleesugano': 7917, 'delinquent': 7918, 'homeward': 7919, 'monsoon': 7920, 'devastate': 7921, 'gatestill': 7922, 'extralight': 7923, 'zakkohane': 7924, 'happytohelp': 7925, 'cosmopolitan': 7926, 'blacklist': 7927, 'contactle': 7928, 'diffuse': 7929, 'inflation': 7930, 'nexttime': 7931, 'andthewinneri': 7932, 'whyabcwhy': 7933, 'julesdameron': 7934, 'accessibility': 7935, 'equality': 7936, 'missingtheoscar': 7937, 'ooookay': 7938, 'tap': 7939, 'shiver': 7940, 'forevercold': 7941, 'sdq': 7942, 'paseenger': 7943, 'santo': 7944, 'domingo': 7945, 'surfboard': 7946, 'gif': 7947, 'thng': 7948, 'prechk': 7949, 'medium': 7950, 'justwrong': 7951, 'alamo': 7952, 'tatiana': 7953, 'aha': 7954, 'smith': 7955, 'oust': 7956, 'accurately': 7957, 'finleybklyncf': 7958, 'mgood': 7959, 'saya': 7960, 'dissatisfiedthank': 7961, 'wellmy': 7962, 'focus': 7963, 'psgr': 7964, 'nikon': 7965, 'reliablefriendly': 7966, 'repexper': 7967, 'undrstnd': 7968, 'wlcm': 7969, 'onbrd': 7970, 'bulb': 7971, 'cabcel': 7972, 'byebyejetblue': 7973, 'token': 7974, 'itboard': 7975, 'untzlike': 7976, 'snowbound': 7977, 'scent': 7978, 'tht': 7979, 'deli': 7980, 'customerservicenot': 7981, 'prefference': 7982, 'jfkeven': 7983, 'inconceivable': 7984, 'ishouldhavedriven': 7985, 'chrishasmadeusblush': 7986, 'increment': 7987, 'uschamber': 7988, 'summit': 7989, 'ought': 7990, 'communicationiskey': 7991, 'hawaiianair': 7992, 'ventilation': 7993, 'hunkydory': 7994, 'broinlaw': 7995, 'garage': 7996, 'replyingi': 7997, 'dobut': 7998, 'timethatll': 7999, 'expediathere': 8000, 'luggagegate': 8001, 'yoga': 8002, 'mba': 8003, 'pto': 8004, 'mintyfresh': 8005, 'fourhour': 8006, 'ctg': 8007, 'brittany': 8008, 'loweredexpectation': 8009, 'amtoday': 8010, 'txtemail': 8011, 'enzo': 8012, 'setorii': 8013, 'pooch': 8014, 'bevy': 8015, 'cookjaycook': 8016, 'amagrino': 8017, 'wiyh': 8018, 'newborn': 8019, 'inebriate': 8020, 'closure': 8021, 'quickie': 8022, 'cartagena': 8023, 'pact': 8024, 'organizational': 8025, 'sugar': 8026, 'idlovetoask': 8027, 'description': 8028, 'bonnie': 8029, 'newburg': 8030, 'rly': 8031, 'belti': 8032, 'investigation': 8033, 'tux': 8034, 'cannedtweet': 8035, 'insert': 8036, 'truebluecolor': 8037, 'timesomeone': 8038, 'updateyourwebsite': 8039, 'dobetterjetblue': 8040, 'carta': 8041, 'apnea': 8042, 'glenn': 8043, 'cole': 8044, 'buffaloniagara': 8045, 'airportwide': 8046, 'unlucky': 8047, 'nowsunshine': 8048, 'hane': 8049, 'mosaicmecrazy': 8050, 'nofilternee': 8051, 'miraculously': 8052, 'liftin': 8053, 'higherandhigher': 8054, 'soulandinspiration': 8055, 'acy': 8056, 'takr': 8057, 'erie': 8058, 'fllairport': 8059, 'authority': 8060, 'badairline': 8061, 'mde': 8062, 'tf': 8063, 'tfgreenairport': 8064, 'yourock': 8065, 'mxo': 8066, 'henrikwagner': 8067, 'eternity': 8068, 'ammisery': 8069, 'hella': 8070, 'americanairbr': 8071, 'misbehavior': 8072, 'dubai': 8073, 'equalizer': 8074, 'dgruber': 8075, 'shuck': 8076, 'tarmat': 8077, 'backhome': 8078, 'maddieflood': 8079, 'hesitant': 8080, 'stuckonaplane': 8081, 'babyfood': 8082, 'cushy': 8083, 'helplindsey': 8084, 'motherinlaw': 8085, 'jfkyou': 8086, 'pbijfk': 8087, 'hatch': 8088, 'interupt': 8089, 'staduim': 8090, 'ijustwanttobeinboston': 8091, 'thanksdc': 8092, 'suckwe': 8093, 'lburley': 8094, 'callbackthe': 8095, 'hasshe': 8096, 'loststolen': 8097, 'ada': 8098, 'sex': 8099, 'sxmjfk': 8100, 'morrow': 8101, 'compd': 8102, 'cory': 8103, 'greatcustomerservice': 8104, 'incase': 8105, 'cave': 8106, 'heinekenusacorp': 8107, 'distributor': 8108, 'livethelegend': 8109, 'playlist': 8110, 'rainsleet': 8111, 'instant': 8112, 'lipstick': 8113, 'belttoolong': 8114, 'restle': 8115, 'marten': 8116, 'tempt': 8117, 'sodone': 8118, 'treacherou': 8119, 'rocker': 8120, 'knock': 8121, 'johnnosta': 8122, 'lizapprove': 8123, 'pgashow': 8124, 'mosaiccant': 8125, 'phew': 8126, 'wheeze': 8127, 'pricewise': 8128, 'compact': 8129, 'redo': 8130, 'thismosaicnothappy': 8131, 'bestdres': 8132, 'giggle': 8133, 'goodgene': 8134, 'ilookyoung': 8135, 'itslaloca': 8136, 'downthank': 8137, 'airlinehate': 8138, 'condolence': 8139, 'viraltech': 8140, 'institutional': 8141, 'predictive': 8142, 'analytic': 8143, 'alicia': 8144, 'exceptionalservice': 8145, 'lauderdalebogota': 8146, 'colombian': 8147, 'disapptment': 8148, 'bdng': 8149, 'tad': 8150, 'earthquakehaiti': 8151, 'rebuild': 8152, 'lowdown': 8153, 'paulgordonbrown': 8154, 'gether': 8155, 'session': 8156, 'belove': 8157, 'paulgordonbrowni': 8158, 'itenary': 8159, 'heckbook': 8160, 'foreverrrrrr': 8161, 'nixchangefee': 8162, 'portauprince': 8163, 'orphan': 8164, 'booksmedicine': 8165, 'orphanage': 8166, 'monthold': 8167, 'foldup': 8168, 'crib': 8169, 'campaign': 8170, 'usatodaytravel': 8171, 'dualcam': 8172, 'redreserve': 8173, 'benjaminokeefe': 8174, 'coatunfortunately': 8175, 'werenotincalianymore': 8176, 'nyer': 8177, 'happytweet': 8178, 'tuftsenergyconf': 8179, 'lifeisgood': 8180, 'guacamole': 8181, 'weatherhere': 8182, 'westpalmbeachbound': 8183, 'zackscom': 8184, 'incidental': 8185, 'nomoreaggravation': 8186, 'bossju': 8187, 'flywhonotblue': 8188, 'wail': 8189, 'kin': 8190, 'ferrissalameh': 8191, 'delayforwhat': 8192, 'sittingonthetarmac': 8193, 'nix': 8194, 'dlewi': 8195, 'inflght': 8196, 'thre': 8197, 'abcletjetbluestreamfee': 8198, 'cav': 8199, 'nooooo': 8200, 'disturb': 8201, 'pura': 8202, 'vida': 8203, 'sharktank': 8204, 'toplay': 8205, 'vainglorygame': 8206, 'makingthingseasy': 8207, 'feelbetter': 8208, 'effect': 8209, 'markiepost': 8210, 'markie': 8211, 'mayweather': 8212, 'pacquiao': 8213, 'terra': 8214, 'mommy': 8215, 'daddy': 8216, 'insider': 8217, 'hill': 8218, 'airportsst': 8219, 'fitbit': 8220, 'hgeronemu': 8221, 'installation': 8222, 'sooooooo': 8223, 'ridiculously': 8224, 'checkinbag': 8225, 'blueblackish': 8226, 'pbiboston': 8227, 'streetwise': 8228, 'underway': 8229, 'scrum': 8230, 'mont': 8231, 'sondo': 8232, 'exceptionally': 8233, 'uncourteou': 8234, 'butnot': 8235, 'grumpy': 8236, 'inflatable': 8237, 'savethoseseat': 8238, 'grasshopper': 8239, 'twitterz': 8240, 'kung': 8241, 'negroni': 8242, 'bitcoin': 8243, 'natural': 8244, 'beefjerky': 8245, 'muscle': 8246, 'flyin': 8247, 'jdhadp': 8248, 'howhardcanthatreallybe': 8249, 'nogearnotrain': 8250, 'warmest': 8251, 'negativedegree': 8252, 'snowwillnevermelt': 8253, 'hanneslohmann': 8254, 'steward': 8255, 'bli': 8256, 'indenial': 8257, 'whatfrozenpipe': 8258, 'dontflythem': 8259, 'alarm': 8260, 'older': 8261, 'misread': 8262, 'sweresomuchfun': 8263, 'colder': 8264, 'bedofrose': 8265, 'colore': 8266, 'iwoulddoanythingforlove': 8267, 'miamore': 8268, 'iadore': 8269, 'idontwannalivewithoutyourlove': 8270, 'itwasminttobe': 8271, 'bestinclasssocial': 8272, 'stevie': 8273, 'jetgreen': 8274, 'jetre': 8275, 'flightland': 8276, 'sunscreen': 8277, 'feelsgood': 8278, 'stacycrossb': 8279, 'saharasam': 8280, 'flawle': 8281, 'bluehero': 8282, 'disabledtraveler': 8283, 'wikipearl': 8284, 'natprodexpo': 8285, 'expowest': 8286, 'evenmorespace': 8287, 'evenmoreview': 8288, 'firsttimeflyingwamo': 8289, 'tke': 8290, 'mega': 8291, 'wager': 8292, 'isitsummeryet': 8293, 'wylie': 8294, 'snoop': 8295, 'thanksjetblue': 8296, 'trivia': 8297, 'wsjplu': 8298, 'makingloveoutofnothingatall': 8299, 'patienceiswearingthin': 8300, 'itscostingmeincome': 8301, 'mintaliciou': 8302, 'shelleyandmarcrock': 8303, 'lostinlove': 8304, 'wemosaictogether': 8305, 'bearable': 8306, 'notwheelsup': 8307, 'bosmco': 8308, 'conjunction': 8309, 'shanese': 8310, 'bryantmelton': 8311, 'holdon': 8312, 'everythingsgonnabealright': 8313, 'ccndjp': 8314, 'cling': 8315, 'hrdelay': 8316, 'countle': 8317, 'workhard': 8318, 'playsoon': 8319, 'denverboston': 8320, 'bostondenver': 8321, 'crumb': 8322, 'hip': 8323, 'siriu': 8324, 'xm': 8325, 'sttimeflyer': 8326, 'ricardo': 8327, 'olavarria': 8328, 'nny': 8329, 'countingdown': 8330, 'upwherewebelong': 8331, 'suuuuper': 8332, 'jfksea': 8333, 'core': 8334, 'config': 8335, 'samchampion': 8336, 'marketwatch': 8337, 'muchnee': 8338, 'cflanagian': 8339, 'toolittletoolate': 8340, 'predictable': 8341, 'icyflight': 8342, 'poorcommunication': 8343, 'waitingsince': 8344, 'comedic': 8345, 'othr': 8346, 'incomprehensible': 8347, 'fromthefrontseat': 8348, 'yaffasolin': 8349, 'pereira': 8350, 'cartago': 8351, 'kgonzale': 8352, 'scandal': 8353, 'tower': 8354, 'inoperable': 8355, 'sox': 8356, 'loyalmosaicmember': 8357, 'gettingoffplane': 8358, 'buffaloairport': 8359, 'maro': 8360, 'currentlysittingontarmac': 8361, 'mosiacfail': 8362, 'helene': 8363, 'reevaluate': 8364, 'lopezlaymari': 8365, 'massage': 8366, 'static': 8367, 'novemberdecember': 8368, 'bureau': 8369, 'airbusintheu': 8370, 'arubairport': 8371, 'warmweather': 8372, 'tvsmusic': 8373, 'syscon': 8374, 'firefighter': 8375, 'mcojfk': 8376, 'disclose': 8377, 'orlandoridiculou': 8378, 'notbabysitter': 8379, 'whrsthecoach': 8380, 'coffeeat': 8381, 'semantic': 8382, 'dictionary': 8383, 'itscold': 8384, 'rack': 8385, 'latte': 8386, 'rtjetblue': 8387, 'peach': 8388, 'bdldca': 8389, 'lick': 8390, 'ahoy': 8391, 'allyoucanjetpa': 8392, 'mosiac': 8393, 'itthi': 8394, 'okie': 8395, 'acce': 8396, 'vino': 8397, 'oveur': 8398, 'murdock': 8399, 'julian': 8400, 'magical': 8401, 'ami': 8402, 'milehighselfieclub': 8403, 'nhlbruin': 8404, 'bruin': 8405, 'hof': 8406, 'jetbluebruin': 8407, 'jetscrew': 8408, 'awfulcustomerservice': 8409, 'wendi': 8410, 'stubborn': 8411, 'laish': 8412, 'dunkin': 8413, 'hazard': 8414, 'thingsyoucantmakeup': 8415, 'switchsbux': 8416, 'excusegeez': 8417, 'coffeenee': 8418, 'hourhope': 8419, 'ineedcoffee': 8420, 'princes': 8421, 'glassslipperchallenge': 8422, 'wdw': 8423, 'onlyblue': 8424, 'jetblueforever': 8425, 'descent': 8426, 'truebluememberlife': 8427, 'pistol': 8428, 'theme': 8429, 'tsanightmare': 8430, 'kravitz': 8431, 'bore': 8432, 'fixthi': 8433, 'isthisreal': 8434, 'nevertoldu': 8435, 'lile': 8436, 'fancy': 8437, 'saxonandparole': 8438, 'lobstermac': 8439, 'bloodymary': 8440, 'jetsetter': 8441, 'telleveryone': 8442, 'justifythissupport': 8443, 'lostrevenue': 8444, 'angryandsober': 8445, 'bachelorpartymishap': 8446, 'sham': 8447, 'nottrue': 8448, 'nosupport': 8449, 'ionlyflyblue': 8450, 'thelodge': 8451, 'yeniettelswood': 8452, 'andrewbiga': 8453, 'codycleverly': 8454, 'heidimacey': 8455, 'motherpollock': 8456, 'fi': 8457, 'staticy': 8458, 'ithelpsabit': 8459, 'disneyworld': 8460, 'rundisney': 8461, 'bestplanesever': 8462, 'airlineadviser': 8463, 'sayget': 8464, 'lessme': 8465, 'seeampeter': 8466, 'rqstd': 8467, 'bcz': 8468, 'skyw': 8469, 'tailfinthursday': 8470, 'travelpulse': 8471, 'miboston': 8472, 'icelandair': 8473, 'tattoo': 8474, 'stbernard': 8475, 'gnight': 8476, 'jua': 8477, 'jorge': 8478, 'cri': 8479, 'samantha': 8480, 'bossan': 8481, 'evasive': 8482, 'kylecomer': 8483, 'martha': 8484, 'african': 8485, 'mv': 8486, 'gripeo': 8487, 'tsparrow': 8488, 'swift': 8489, 'teamtreehouse': 8490, 'refresher': 8491, 'fridge': 8492, 'dorm': 8493, 'lovedoll': 8494, 'themhence': 8495, 'huxleyesque': 8496, 'reliability': 8497, 'benadryl': 8498, 'epipen': 8499, 'sofly': 8500, 'firststari': 8501, 'seetonight': 8502, 'annnnnd': 8503, 'hall': 8504, 'crewsignage': 8505, 'memgrizz': 8506, 'spur': 8507, 'okcthunder': 8508, 'triedconsiderable': 8509, 'confusionno': 8510, 'announcementno': 8511, 'pointer': 8512, 'nba': 8513, 'corpgree': 8514, 'nevertakeno': 8515, 'wallstreet': 8516, 'scope': 8517, 'teanot': 8518, 'bwiboston': 8519, 'wrestle': 8520, 'stafford': 8521, 'airlinequality': 8522, 'cty': 8523, 'jetbluesuck': 8524, 'highest': 8525, 'patriarc': 8526, 'entrust': 8527, 'portsmouth': 8528, 'prfriendly': 8529, 'cometoaustin': 8530, 'harf': 8531, 'iraiq': 8532, 'marieharf': 8533, 'earthquake': 8534, 'xd': 8535, 'laptoplarge': 8536, 'fool': 8537, 'happythem': 8538, 'pilyoc': 8539, 'thefutureisweird': 8540, 'incidentally': 8541, 'sheila': 8542, 'grandpa': 8543, 'ash': 8544, 'naple': 8545, 'usnavy': 8546, 'swoop': 8547, 'helpfaith': 8548, 'stockhouse': 8549, 'lgafllpoor': 8550, 'insensitive': 8551, 'lifethreaten': 8552, 'unsolicite': 8553, 'uneducate': 8554, 'reckle': 8555, 'dangerou': 8556, 'daytonabeach': 8557, 'extraspee': 8558, 'personable': 8559, 'lisapal': 8560, 'consult': 8561, 'truebluepoint': 8562, 'jetbluemember': 8563, 'slice': 8564, 'bread': 8565, 'beatriz': 8566, 'xjare': 8567, 'ai': 8568, 'ftl': 8569, 'pizza': 8570, 'easter': 8571, 'udub': 8572, 'cameronroe': 8573, 'caymanisland': 8574, 'seattlebound': 8575, 'agianand': 8576, 'bonsinthesky': 8577, 'smite': 8578, 'slog': 8579, 'likeagirl': 8580, 'smm': 8581, 'lekvhg': 8582, 'itsthelittlethe': 8583, 'jetblueme': 8584, 'drwinston': 8585, 'philpete': 8586, 'suddenly': 8587, 'argh': 8588, 'okayim': 8589, 'nogood': 8590, 'justdippin': 8591, 'thetakeover': 8592, 'yponthebeat': 8593, 'bloombergnew': 8594, 'lasfllsju': 8595, 'italian': 8596, 'ocean': 8597, 'flightledrebook': 8598, 'daydelay': 8599, 'impressedand': 8600, 'valentinesday': 8601, 'loveisintheair': 8602, 'geraldine': 8603, 'centerworst': 8604, 'jetbluejfk': 8605, 'kleinerin': 8606, 'pastor': 8607, 'homeschool': 8608, 'spirite': 8609, 'prefundia': 8610, 'controllableirregularity': 8611, 'fluid': 8612, 'bosjfk': 8613, 'jfkroc': 8614, 'highway': 8615, 'spade': 8616, 'spice': 8617, 'leopoldsic': 8618, 'phillip': 8619, 'heller': 8620, 'ifc': 8621, 'gum': 8622, 'chillycvz': 8623, 'thankgoodne': 8624, 'mypompanobeach': 8625, 'fitz': 8626, 'bwibo': 8627, 'invitation': 8628, 'ereward': 8629, 'uncompromise': 8630, 'blindside': 8631, 'pp': 8632, 'flatiron': 8633, 'sil': 8634, 'ohno': 8635, 'bundleup': 8636, 'leastthebeverageswillbecold': 8637, 'analystdoc': 8638, 'vulnerable': 8639, 'thieve': 8640, 'citi': 8641, 'tow': 8642, 'corrupt': 8643, 'supertzar': 8644, 'whilst': 8645, 'tinmanironman': 8646, 'meggersrock': 8647, 'penalize': 8648, 'lightly': 8649, 'satellite': 8650, 'cram': 8651, 'planeno': 8652, 'delayedl': 8653, 'peanuttreenut': 8654, 'freeconcert': 8655, 'hp': 8656, 'mfp': 8657, 'cbarrow': 8658, 'cantlike': 8659, 'enrage': 8660, 'wellprice': 8661, 'oahu': 8662, 'mailbox': 8663, 'nightlife': 8664, 'awesomeee': 8665, 'ment': 8666, 'effective': 8667, 'keepitup': 8668, 'cinziannap': 8669, 'bluetiful': 8670, 'lifeneedsfrost': 8671, 'constitution': 8672, 'declaration': 8673, 'independence': 8674, 'tailfin': 8675, 'geekandahalf': 8676, 'slash': 8677, 'cooler': 8678, 'pdw': 8679, 'ilovejetblue': 8680, 'connecticut': 8681, 'stpatricksfoundation': 8682, 'rotary': 8683, 'pamgrout': 8684, 'backtodelta': 8685, 'tighter': 8686, 'colonist': 8687, 'mcgraw': 8688, 'embody': 8689, 'thanksdave': 8690, 'famou': 8691, 'sxu': 8692, 'vegecomgirl': 8693, 'rockingthetweet': 8694, 'alittle': 8695, 'weyburn': 8696, 'okayyyy': 8697, 'iron': 8698, 'nzherald': 8699, 'flightwouldve': 8700, 'simultaneously': 8701, 'wishmyflightwaslonger': 8702, 'didflyfi': 8703, 'foodso': 8704, 'knowledgeprovide': 8705, 'jbi': 8706, 'squish': 8707, 'peggy': 8708, 'lft': 8709, 'hemophilia': 8710, 'rudeservice': 8711, 'bleed': 8712, 'leer': 8713, 'selectionchange': 8714, 'nycbo': 8715, 'oversleep': 8716, 'uncontrollable': 8717, 'irregularity': 8718, 'vt': 8719, 'nerve': 8720, 'greenfield': 8721, 'reporter': 8722, 'badwebsite': 8723, 'deboard': 8724, 'crummyservice': 8725, 'whydidntiflysouthwest': 8726, 'goodluckamericanair': 8727, 'cathy': 8728, 'pho': 8729, 'impossibly': 8730, 'lesscustomer': 8731, 'travelpurchase': 8732, 'cheapoairchat': 8733, 'xtra': 8734, 'donotflyusair': 8735, 'germany': 8736, 'srv': 8737, 'alsonodrinkcartcomingaround': 8738, 'ashleykatherton': 8739, 'dmoukdarath': 8740, 'leakingwhat': 8741, 'friendlyteam': 8742, 'discipline': 8743, 'divide': 8744, 'phlbo': 8745, 'presentation': 8746, 'pandu': 8747, 'spain': 8748, 'israel': 8749, 'whine': 8750, 'opensky': 8751, 'minsthank': 8752, 'yorkshire': 8753, 'lengthy': 8754, 'mystery': 8755, 'iv': 8756, 'cxd': 8757, 'availableyour': 8758, 'ux': 8759, 'impair': 8760, 'jetblueanyone': 8761, 'outofbusine': 8762, 'ruiningmy': 8763, 'cap': 8764, 'revision': 8765, 'casual': 8766, 'earlyconnect': 8767, 'thete': 8768, 'grandparent': 8769, 'qd': 8770, 'sarita': 8771, 'statusdelay': 8772, 'semester': 8773, 'statusawait': 8774, 'asgmnt': 8775, 'listsomeone': 8776, 'wouldt': 8777, 'yellow': 8778, 'herba': 8779, 'ricky': 8780, 'courtsey': 8781, 'illne': 8782, 'swallow': 8783, 'dmscusairwayscom': 8784, 'helpcomplaint': 8785, 'inactivity': 8786, 'csm': 8787, 'daryl': 8788, 'louder': 8789, 'sine': 8790, 'initiate': 8791, 'glitchy': 8792, 'rwg': 8793, 'charac': 8794, 'wiil': 8795, 'socialtantrum': 8796, 'tonightnot': 8797, 'caren': 8798, 'mccaren': 8799, 'cltsfo': 8800, 'supv': 8801, 'skyscanner': 8802, 'bosclt': 8803, 'narrow': 8804, 'usaw': 8805, 'responsivethought': 8806, 'joyadventuremom': 8807, 'breastfeed': 8808, 'mediocre': 8809, 'combo': 8810, 'switchingboth': 8811, 'schooler': 8812, 'flyknoxville': 8813, 'noclothesnoinfo': 8814, 'failingyourcustomer': 8815, 'philacarservice': 8816, 'delaymis': 8817, 'connectionand': 8818, 'usairwaysfailscustomer': 8819, 'guinea': 8820, 'missedupgrade': 8821, 'hopkin': 8822, 'intel': 8823, 'mitchsunderland': 8824, 'dissemination': 8825, 'convey': 8826, 'emailmailtocustomerrelationsusairwayscom': 8827, 'itfit': 8828, 'toe': 8829, 'candy': 8830, 'exe': 8831, 'vincesview': 8832, 'gregm': 8833, 'noaccountability': 8834, 'grandcayman': 8835, 'againlate': 8836, 'drinksnack': 8837, 'moveup': 8838, 'terminology': 8839, 'verbiage': 8840, 'priv': 8841, 'hhagerty': 8842, 'cbsnew': 8843, 'shine': 8844, 'inout': 8845, 'tlh': 8846, 'lostandforgotten': 8847, 'exchangecredit': 8848, 'shadier': 8849, 'flyjetblue': 8850, 'theyareallbetter': 8851, 'exhaustion': 8852, 'runnin': 8853, 'killin': 8854, 'reiterate': 8855, 'unreasonable': 8856, 'offend': 8857, 'notourfaultyoudontuseyourgatesright': 8858, 'winstonsalem': 8859, 'logistically': 8860, 'desition': 8861, 'nade': 8862, 'weatherbackup': 8863, 'goodgriefpeople': 8864, 'parizad': 8865, 'voucherconfirmation': 8866, 'manifest': 8867, 'wedontcarebecauseyoupaidalready': 8868, 'cltdougla': 8869, 'takeresponsibility': 8870, 'diane': 8871, 'dulleswe': 8872, 'onmultiple': 8873, 'deteriorate': 8874, 'marvinatorsb': 8875, 'thnk': 8876, 'responseall': 8877, 'german': 8878, 'auf': 8879, 'wiedersehen': 8880, 'flywere': 8881, 'nonprofitcant': 8882, 'dividendsmember': 8883, 'afterward': 8884, 'avduffy': 8885, 'ivebeen': 8886, 'depot': 8887, 'squeak': 8888, 'sittingontheplane': 8889, 'readd': 8890, 'asha': 8891, 'wilmington': 8892, 'initiative': 8893, 'minefit': 8894, 'mnth': 8895, 'ticketnow': 8896, 'ownership': 8897, 'aye': 8898, 'bracket': 8899, 'problemive': 8900, 'callguy': 8901, 'jhughe': 8902, 'grrrrrrrr': 8903, 'twist': 8904, 'unsecure': 8905, 'tape': 8906, 'lxa': 8907, 'ekvm': 8908, 'thansk': 8909, 'bosdca': 8910, 'flightedreschedule': 8911, 'chillpill': 8912, 'hutchinsjim': 8913, 'workout': 8914, 'height': 8915, 'stepitup': 8916, 'lightn': 8917, 'downhow': 8918, 'grrrr': 8919, 'dominick': 8920, 'guardia': 8921, 'offline': 8922, 'rodeo': 8923, 'acnewsguy': 8924, 'acarlhotmailcom': 8925, 'oprah': 8926, 'phomia': 8927, 'documentation': 8928, 'itineraryconfirmation': 8929, 'fendurself': 8930, 'tonne': 8931, 'laughter': 8932, 'phoneonline': 8933, 'contagiou': 8934, 'viru': 8935, 'measurement': 8936, 'tia': 8937, 'americanairlne': 8938, 'bash': 8939, 'unproductive': 8940, 'freeflight': 8941, 'verification': 8942, 'quintana': 8943, 'roo': 8944, 'pamper': 8945, 'fendyourself': 8946, 'youareonyourown': 8947, 'hegshmeg': 8948, 'jail': 8949, 'bail': 8950, 'negatively': 8951, 'integrity': 8952, 'tallahassee': 8953, 'reflection': 8954, 'extinct': 8955, 'ringle': 8956, 'barnum': 8957, 'bailey': 8958, 'peel': 8959, 'trivialize': 8960, 'communist': 8961, 'ben': 8962, 'phxfor': 8963, 'legitimately': 8964, 'mundane': 8965, 'pdquigley': 8966, 'landonschott': 8967, 'pride': 8968, 'alwayshappensthere': 8969, 'angrytraveler': 8970, 'todaygive': 8971, 'theworstairline': 8972, 'ultimately': 8973, 'flightrexcept': 8974, 'todaythi': 8975, 'eventprof': 8976, 'bwahahaha': 8977, 'notafanofyourmerger': 8978, 'wewanttoknow': 8979, 'flightit': 8980, 'clarion': 8981, 'renhotel': 8982, 'marriottreward': 8983, 'peterpiatetsky': 8984, 'ummmm': 8985, 'computersweredown': 8986, 'meright': 8987, 'hinder': 8988, 'fudgin': 8989, 'justwantmybe': 8990, 'phonenot': 8991, 'denphl': 8992, 'synch': 8993, 'fudger': 8994, 'longbeachairport': 8995, 'followdm': 8996, 'farmy': 8997, 'whatcustomerservice': 8998, 'flyrepublicair': 8999, 'nma': 9000, 'hrswait': 9001, 'stupidity': 9002, 'waait': 9003, 'gregwallace': 9004, 'cent': 9005, 'efficency': 9006, 'sexually': 9007, 'elmira': 9008, 'detector': 9009, 'specialist': 9010, 'agentthen': 9011, 'charlote': 9012, 'istead': 9013, 'funflightattendant': 9014, 'sundayfunday': 9015, 'solate': 9016, 'bozo': 9017, 'smarter': 9018, 'mook': 9019, 'godelta': 9020, 'planepisspoor': 9021, 'nofood': 9022, 'nodrink': 9023, 'nohelp': 9024, 'todayall': 9025, 'issuesshe': 9026, 'failover': 9027, 'truthh': 9028, 'phltoslc': 9029, 'unansweredquestion': 9030, 'aflame': 9031, 'aurorabiz': 9032, 'angryairtravel': 9033, 'usairwayscenter': 9034, 'danbury': 9035, 'server': 9036, 'bufclt': 9037, 'emily': 9038, 'drunkpilot': 9039, 'stuckintheloop': 9040, 'crashedeverywhere': 9041, 'outtage': 9042, 'hotterandlongerthanhell': 9043, 'confirmedso': 9044, 'downright': 9045, 'hostile': 9046, 'cbsphilly': 9047, 'dcamanual': 9048, 'ystrdy': 9049, 'tryng': 9050, 'rsrv': 9051, 'unsuitable': 9052, 'rett': 9053, 'cavan': 9054, 'gofundme': 9055, 'defer': 9056, 'offensively': 9057, 'usi': 9058, 'bosphl': 9059, 'helpinfo': 9060, 'sg': 9061, 'cstsvc': 9062, 'rcd': 9063, 'usaireay': 9064, 'interpret': 9065, 'sarcastic': 9066, 'excellentcustomerservice': 9067, 'waitinginphilly': 9068, 'usdelayway': 9069, 'letsgoalready': 9070, 'wonderingirritate': 9071, 'whyisusairalwaysdelay': 9072, 'emotional': 9073, 'approximately': 9074, 'barclaycardu': 9075, 'emplid': 9076, 'appeal': 9077, 'influx': 9078, 'sum': 9079, 'wlil': 9080, 'wthat': 9081, 'utilize': 9082, 'theuso': 9083, 'nocommunication': 9084, 'milesnee': 9085, 'sympathize': 9086, 'reweather': 9087, 'wtop': 9088, 'bradleyairport': 9089, 'planeso': 9090, 'firevan': 9091, 'effortle': 9092, 'tory': 9093, 'churn': 9094, 'nondelay': 9095, 'todayno': 9096, 'americanairother': 9097, 'takingthistothetop': 9098, 'baggageridiculou': 9099, 'mrrenevendez': 9100, 'scoop': 9101, 'corybronze': 9102, 'thehaileytate': 9103, 'aboout': 9104, 'mhtt': 9105, 'hrsminonhold': 9106, 'weekinbound': 9107, 'lastnight': 9108, 'carele': 9109, 'sorude': 9110, 'delayshandle': 9111, 'bze': 9112, 'sby': 9113, 'flightglobal': 9114, 'reinforcement': 9115, 'phoneeeee': 9116, 'malcome': 9117, 'replicate': 9118, 'dayi': 9119, 'empl': 9120, 'greatjob': 9121, 'boggle': 9122, 'melt': 9123, 'luggagecancel': 9124, 'tense': 9125, 'attndt': 9126, 'smugsmirk': 9127, 'norush': 9128, 'alfamilyoffour': 9129, 'flightrfor': 9130, 'exhibit': 9131, 'newamericanairline': 9132, 'cheapslogannotmotto': 9133, 'attdt': 9134, 'msscottwg': 9135, 'mellani': 9136, 'superstar': 9137, 'mellie': 9138, 'icecream': 9139, 'collectively': 9140, 'percentage': 9141, 'yout': 9142, 'sectionturn': 9143, 'liza': 9144, 'idiotic': 9145, 'diet': 9146, 'cokenice': 9147, 'bizne': 9148, 'inlaw': 9149, 'podium': 9150, 'tiffany': 9151, 'autoreflight': 9152, 'nanceeb': 9153, 'momentand': 9154, 'infrastructure': 9155, 'massivefail': 9156, 'failphone': 9157, 'flgjt': 9158, 'brizzyberg': 9159, 'uhi': 9160, 'grief': 9161, 'flowerssmfh': 9162, 'travelpoint': 9163, 'abound': 9164, 'evv': 9165, 'sxmclt': 9166, 'missedconnection': 9167, 'forcedovernight': 9168, 'lodgingfood': 9169, 'worstflightexperienceever': 9170, 'getmehome': 9171, 'loanr': 9172, 'canld': 9173, 'opt': 9174, 'cng': 9175, 'lapse': 9176, 'poorlyhandle': 9177, 'usairhead': 9178, 'rever': 9179, 'estplatinumeventually': 9180, 'tabitha': 9181, 'minss': 9182, 'anotherfail': 9183, 'hange': 9184, 'cgqueen': 9185, 'vow': 9186, 'smoothtransition': 9187, 'fkn': 9188, 'unbelieavle': 9189, 'unaccpetable': 9190, 'failback': 9191, 'actualy': 9192, 'situationsyour': 9193, 'hostel': 9194, 'fakesnow': 9195, 'airmile': 9196, 'fwd': 9197, 'stillbagle': 9198, 'departuredeal': 9199, 'excusable': 9200, 'lynchburg': 9201, 'noexcusesaccept': 9202, 'kieranmahan': 9203, 'usuck': 9204, 'grt': 9205, 'uppp': 9206, 'imtire': 9207, 'flierssomeone': 9208, 'saveface': 9209, 'showup': 9210, 'classwrite': 9211, 'midterm': 9212, 'whichever': 9213, 'hooray': 9214, 'ebhset': 9215, 'caterobbie': 9216, 'pleasehurryup': 9217, 'answerphone': 9218, 'reschedulemyflight': 9219, 'fiousairway': 9220, 'prayerdisappoint': 9221, 'mishap': 9222, 'lotttttttt': 9223, 'chmom': 9224, 'nmagoodlife': 9225, 'synergy': 9226, 'robprice': 9227, 'idontwanttocallback': 9228, 'becuase': 9229, 'tovery': 9230, 'allready': 9231, 'fulleven': 9232, 'voucherno': 9233, 'traveloneworld': 9234, 'amend': 9235, 'needlessly': 9236, 'wronganswer': 9237, 'unnotice': 9238, 'yroldtwin': 9239, 'chl': 9240, 'worstairlineinamerica': 9241, 'mod': 9242, 'hosp': 9243, 'hlp': 9244, 'kitchen': 9245, 'mewhat': 9246, 'hasty': 9247, 'unwise': 9248, 'pushback': 9249, 'pullin': 9250, 'sh': 9251, 'trbl': 9252, 'terriblecommunication': 9253, 'essence': 9254, 'topflight': 9255, 'truthful': 9256, 'ontarmac': 9257, 'donaldarobertsgmailcom': 9258, 'phlmco': 9259, 'eyyyy': 9260, 'drift': 9261, 'af': 9262, 'clog': 9263, 'alreadycrowd': 9264, 'vegetarianproblem': 9265, 'ontario': 9266, 'informationstill': 9267, 'tripnever': 9268, 'determination': 9269, 'cabinfever': 9270, 'dmqf': 9271, 'respectful': 9272, 'hourwait': 9273, 'cesspool': 9274, 'germ': 9275, 'rylietolbert': 9276, 'tequila': 9277, 'stopover': 9278, 'fluster': 9279, 'kristy': 9280, 'kristiesp': 9281, 'promotethatgirl': 9282, 'tomrw': 9283, 'flightcancel': 9284, 'custservicehasnonumber': 9285, 'backanother': 9286, 'minhour': 9287, 'cltnyc': 9288, 'notion': 9289, 'versace': 9290, 'toll': 9291, 'nght': 9292, 'flightedmechprob': 9293, 'flightedsnow': 9294, 'cl': 9295, 'sche': 9296, 'geniou': 9297, 'preggo': 9298, 'hormone': 9299, 'curvygirltravel': 9300, 'digit': 9301, 'okee': 9302, 'nick': 9303, 'comin': 9304, 'thankjesu': 9305, 'thankme': 9306, 'ute': 9307, 'dulleswashington': 9308, 'effin': 9309, 'respondi': 9310, 'multi': 9311, 'differ': 9312, 'weatherflight': 9313, 'attendantcan': 9314, 'thisgreen': 9315, 'acu': 9316, 'timbennettg': 9317, 'dmv': 9318, 'noshadetothedmv': 9319, 'pregame': 9320, 'amtrak': 9321, 'flightsrefund': 9322, 'badcustomersrvice': 9323, 'whereismybag': 9324, 'poorcustumerservice': 9325, 'veg': 9326, 'flightnever': 9327, 'ew': 9328, 'undermine': 9329, 'intelligence': 9330, 'template': 9331, 'flightget': 9332, 'enormou': 9333, 'cltbna': 9334, 'inaccessibility': 9335, 'marccopely': 9336, 'discourteou': 9337, 'chuckhole': 9338, 'issuesmy': 9339, 'menow': 9340, 'shivadelrahim': 9341, 'nuw': 9342, 'feeyou': 9343, 'align': 9344, 'mobay': 9345, 'sapphire': 9346, 'profsolution': 9347, 'urgentlyget': 9348, 'seanvrose': 9349, 'callplan': 9350, 'largesize': 9351, 'owen': 9352, 'usairwaysfflyer': 9353, 'fdk': 9354, 'xzmscw': 9355, 'weatherbut': 9356, 'basketball': 9357, 'wheresmyrefund': 9358, 'spout': 9359, 'whale': 9360, 'leak': 9361, 'getmeoffthisplane': 9362, 'ineedabeer': 9363, 'fmis': 9364, 'mbj': 9365, 'callnow': 9366, 'hourswhat': 9367, 'timehave': 9368, 'fltkeep': 9369, 'delaygreatcustomerservice': 9370, 'selve': 9371, 'reativation': 9372, 'hospice': 9373, 'soc': 9374, 'dontflyusairway': 9375, 'shitshow': 9376, 'destinationrude': 9377, 'jobfail': 9378, 'guesstimate': 9379, 'incapable': 9380, 'airbusseatfproblem': 9381, 'scareway': 9382, 'neverfail': 9383, 'aumilo': 9384, 'fracat': 9385, 'zigzag': 9386, 'ftime': 9387, 'havin': 9388, 'authorize': 9389, 'alreadygot': 9390, 'dadeland': 9391, 'misery': 9392, 'lawyerup': 9393, 'disbelief': 9394, 'themagicalstranger': 9395, 'zip': 9396, 'pmtold': 9397, 'advisorynow': 9398, 'gohelp': 9399, 'timesenough': 9400, 'theworstairlineever': 9401, 'winclement': 9402, 'lostfound': 9403, 'delightful': 9404, 'professionalism': 9405, 'pleeeeeeeease': 9406, 'corporatepaid': 9407, 'sailor': 9408, 'wsomeone': 9409, 'keithlaw': 9410, 'proposition': 9411, 'attendanttrue': 9412, 'creditcardsale': 9413, 'naval': 9414, 'slogan': 9415, 'recharge': 9416, 'anyhelp': 9417, 'dontmakemegooutside': 9418, 'reservationexplain': 9419, 'incedental': 9420, 'noworstairline': 9421, 'worstever': 9422, 'daddyshome': 9423, 'notnice': 9424, 'tellyourstory': 9425, 'terrifyingly': 9426, 'jwa': 9427, 'reachingnewlow': 9428, 'smelly': 9429, 'waitingagain': 9430, 'misjudge': 9431, 'deliberate': 9432, 'expen': 9433, 'burrough': 9434, 'yourairlinesuck': 9435, 'triage': 9436, 'personality': 9437, 'travelfail': 9438, 'nightmarish': 9439, 'patiencerunningout': 9440, 'avp': 9441, 'tgif': 9442, 'findurgrip': 9443, 'offeringat': 9444, 'advi': 9445, 'missingstollen': 9446, 'mobil': 9447, 'prn': 9448, 'planebroken': 9449, 'neverontime': 9450, 'paymytab': 9451, 'myrcltord': 9452, 'problematic': 9453, 'shavon': 9454, 'evn': 9455, 'dayreward': 9456, 'satmorrow': 9457, 'choclt': 9458, 'squash': 9459, 'notmy': 9460, 'miamii': 9461, 'itthen': 9462, 'yield': 9463, 'nationalairpor': 9464, 'nothini': 9465, 'ghettofab': 9466, 'tricity': 9467, 'iwa': 9468, 'amsound': 9469, 'emphasize': 9470, 'vape': 9471, 'mini': 9472, 'nofee': 9473, 'upinairclaire': 9474, 'timei': 9475, 'melinda': 9476, 'greensboro': 9477, 'jewel': 9478, 'workng': 9479, 'et': 9480, 'pushy': 9481, 'gagent': 9482, 'danny': 9483, 'dfwclt': 9484, 'sarahpompei': 9485, 'beareavement': 9486, 'lunchtime': 9487, 'andrewfalli': 9488, 'stillnotonmyflight': 9489, 'mimosa': 9490, 'kinder': 9491, 'breavement': 9492, 'reschedulereplane': 9493, 'youcandobetter': 9494, 'groan': 9495, 'curt': 9496, 'eternal': 9497, 'mergerdisaster': 9498, 'dcapit': 9499, 'api': 9500, 'happyfriday': 9501, 'tier': 9502, 'inperson': 9503, 'robyn': 9504, 'sprawl': 9505, 'grossedout': 9506, 'recycle': 9507, 'bagtag': 9508, 'crossword': 9509, 'oldseatnocushion': 9510, 'nohelponboard': 9511, 'coathange': 9512, 'obama': 9513, 'frozentoilet': 9514, 'medicalissue': 9515, 'mechanicalissue': 9516, 'dispatchissue': 9517, 'finalstretch': 9518, 'mileagerun': 9519, 'dcazero': 9520, 'willsunday': 9521, 'jdbwaffle': 9522, 'dishonest': 9523, 'exict': 9524, 'psychological': 9525, 'worldwide': 9526, 'dcahpn': 9527, 'prof': 9528, 'takerswe': 9529, 'minnow': 9530, 'mvmt': 9531, 'ripoffquick': 9532, 'unemployment': 9533, 'fand': 9534, 'affair': 9535, 'ffstatusdontmatter': 9536, 'thenewa': 9537, 'grandbaby': 9538, 'geeeeezzzzz': 9539, 'phltola': 9540, 'cinci': 9541, 'thinkof': 9542, 'zfv': 9543, 'minutesand': 9544, 'clearance': 9545, 'tediou': 9546, 'overfil': 9547, 'lavoratory': 9548, 'phxord': 9549, 'vueloe': 9550, 'vuelose': 9551, 'madnyc': 9552, 'anarchy': 9553, 'knowhockey': 9554, 'pleeeeease': 9555, 'stillbut': 9556, 'ihatemerger': 9557, 'monterey': 9558, 'fog': 9559, 'veggy': 9560, 'velcro': 9561, 'footrest': 9562, 'shelf': 9563, 'polite': 9564, 'habitually': 9565, 'salad': 9566, 'fuke': 9567, 'uncertainty': 9568, 'undue': 9569, 'wewantcomp': 9570, 'strandedattheairport': 9571, 'sponsorship': 9572, 'garywerk': 9573, 'montereyregionalairport': 9574, 'alanbledsoe': 9575, 'alan': 9576, 'lve': 9577, 'wopen': 9578, 'onlinerep': 9579, 'irony': 9580, 'bark': 9581, 'chathe': 9582, 'everleft': 9583, 'gastoncounty': 9584, 'lively': 9585, 'nostalgic': 9586, 'bene': 9587, 'problemjust': 9588, 'cak': 9589, 'lmaooo': 9590, 'albertbreer': 9591, 'interchangeably': 9592, 'usage': 9593, 'lilly': 9594, 'badcustomerexperience': 9595, 'candice': 9596, 'dothatd': 9597, 'onion': 9598, 'tbt': 9599, 'tiredfrustrate': 9600, 'cakendeath': 9601, 'ethan': 9602, 'revive': 9603, 'laundry': 9604, 'pipe': 9605, 'stubbornly': 9606, 'phf': 9607, 'flyu': 9608, 'mphx': 9609, 'flighthi': 9610, 'holz': 9611, 'labele': 9612, 'correlate': 9613, 'hirasmusbidragi': 9614, 'dublinairport': 9615, 'loveloughneagh': 9616, 'rswwebsite': 9617, 'ideasshe': 9618, 'todayat': 9619, 'petition': 9620, 'fregard': 9621, 'namemarry': 9622, 'gth': 9623, 'usaiway': 9624, 'trump': 9625, 'booster': 9626, 'problemhad': 9627, 'brochure': 9628, 'tout': 9629, 'mergedbaggage': 9630, 'cincyjust': 9631, 'landedyou': 9632, 'cteam': 9633, 'notevenjv': 9634, 'recvd': 9635, 'sucksi': 9636, 'tckt': 9637, 'phxphl': 9638, 'pointy': 9639, 'anyonemin': 9640, 'flightrcould': 9641, 'cheapoair': 9642, 'smoothoperation': 9643, 'freaky': 9644, 'dcadsm': 9645, 'ckin': 9646, 'allegianttravel': 9647, 'crewand': 9648, 'thereisafirstforeverythe': 9649, 'attendanteliz': 9650, 'crosswind': 9651, 'eliz': 9652, 'wallstslumlord': 9653, 'pkg': 9654, 'notfriendly': 9655, 'dev': 9656, 'wdeicingthree': 9657, 'sill': 9658, 'usexpresspsa': 9659, 'secondary': 9660, 'tomorrowhelp': 9661, 'tarmacthank': 9662, 'marciaveronicshe': 9663, 'considerate': 9664, 'marsha': 9665, 'thankyouforeverythe': 9666, 'awol': 9667, 'lite': 9668, 'misguide': 9669, 'preparedhonestly': 9670, 'vrm': 9671, 'staffamericanair': 9672, 'farthank': 9673, 'moneywhy': 9674, 'portlandjetport': 9675, 'pple': 9676, 'countingphoto': 9677, 'daysand': 9678, 'worstnever': 9679, 'betty': 9680, 'ilm': 9681, 'drvrugby': 9682, 'surprisingly': 9683, 'strandedinnashville': 9684, 'againlost': 9685, 'livepersonplease': 9686, 'outright': 9687, 'disguise': 9688, 'coffeemaker': 9689, 'coma': 9690, 'tvmovie': 9691, 'muzak': 9692, 'samsonite': 9693, 'totale': 9694, 'usairwaysssuck': 9695, 'stationary': 9696, 'waitlol': 9697, 'sucksusairwayssuck': 9698, 'lucycat': 9699, 'scm': 9700, 'timbit': 9701, 'reass': 9702, 'thatbut': 9703, 'numberthe': 9704, 'fendforyourself': 9705, 'kj': 9706, 'dnxv': 9707, 'hourconnect': 9708, 'systemtransfer': 9709, 'flail': 9710, 'severally': 9711, 'chairmanlove': 9712, 'monetary': 9713, 'whatajoke': 9714, 'isabelle': 9715, 'gramp': 9716, 'divident': 9717, 'systemic': 9718, 'disallow': 9719, 'makeovertimecustomerserviceplease': 9720, 'donthavehighhope': 9721, 'noreplyusairwaysmobilecom': 9722, 'filter': 9723, 'dn': 9724, 'admin': 9725, 'antitrust': 9726, 'unprofessionalism': 9727, 'dayslate': 9728, 'porde': 9729, 'helpfulim': 9730, 'holdtime': 9731, 'bohnjai': 9732, 'verbally': 9733, 'cus': 9734, 'sdfairport': 9735, 'peeve': 9736, 'pascucci': 9737, 'mumble': 9738, 'svllindia': 9739, 'mumbai': 9740, 'surat': 9741, 'navimumbai': 9742, 'forsythfactor': 9743, 'passengerslose': 9744, 'dsearl': 9745, 'gooutofbusine': 9746, 'fispahani': 9747, 'worsttraveldayever': 9748, 'madden': 9749, 'unexplain': 9750, 'dallasraisenow': 9751, 'tweetin': 9752, 'doin': 9753, 'anythin': 9754, 'wiser': 9755, 'crewi': 9756, 'neverflyusairway': 9757, 'redhead': 9758, 'thislinehasntmovedforanhour': 9759, 'shaquille': 9760, 'tysvm': 9761, 'tyvm': 9762, 'hectic': 9763, 'husainhaqqani': 9764, 'husain': 9765, 'protest': 9766, 'rehman': 9767, 'malik': 9768, 'noltnancy': 9769, 'bewhat': 9770, 'issuck': 9771, 'jokeboston': 9772, 'ladyone': 9773, 'erickofiejone': 9774, 'spreadtheword': 9775, 'borrow': 9776, 'fish': 9777, 'barklay': 9778, 'bookin': 9779, 'throne': 9780, 'conn': 9781, 'executiveplatinummeansnothe': 9782, 'iwantcoffee': 9783, 'longday': 9784, 'imateacher': 9785, 'neptunewaivethefee': 9786, 'vmail': 9787, 'techcontd': 9788, 'schedulecontact': 9789, 'wheresthecustomerserviceat': 9790, 'emilylyon': 9791, 'hungary': 9792, 'daysno': 9793, 'satesq': 9794, 'phlcrw': 9795, 'ht': 9796, 'theend': 9797, 'goodday': 9798, 'ernievigil': 9799, 'fd': 9800, 'sickcrew': 9801, 'bostonbbb': 9802, 'tanpa': 9803, 'tic': 9804, 'waivefee': 9805, 'unprofessionally': 9806, 'fmjtyl': 9807, 'anticipation': 9808, 'freddie': 9809, 'wether': 9810, 'approproately': 9811, 'tooooo': 9812, 'absorb': 9813, 'deceive': 9814, 'reprehensible': 9815, 'winkwink': 9816, 'intimate': 9817, 'firefox': 9818, 'travi': 9819, 'jetwaywhy': 9820, 'usflight': 9821, 'apx': 9822, 'nobackup': 9823, 'lineoh': 9824, 'lgaiah': 9825, 'customerfriendly': 9826, 'accessible': 9827, 'planestrainsandautomobile': 9828, 'preparedne': 9829, 'snowbal': 9830, 'couldwant': 9831, 'aforemention': 9832, 'patron': 9833, 'hoodlum': 9834, 'doi': 9835, 'speciifc': 9836, 'hog': 9837, 'impediment': 9838, 'duke': 9839, 'mason': 9840, 'wcla': 9841, 'contace': 9842, 'eyewitne': 9843, 'unheard': 9844, 'cricket': 9845, 'ubetter': 9846, 'smth': 9847, 'seet': 9848, 'offwish': 9849, 'edreamsen': 9850, 'optimistic': 9851, 'tara': 9852, 'delayedthat': 9853, 'someoneawesome': 9854, 'coin': 9855, 'upsmh': 9856, 'onehouronhold': 9857, 'dwell': 9858, 'encouragement': 9859, 'logical': 9860, 'timejust': 9861, 'xxx': 9862, 'costwhy': 9863, 'vastly': 9864, 'bundle': 9865, 'applause': 9866, 'inflate': 9867, 'temorrishotmailcom': 9868, 'goldsapphire': 9869, 'greati': 9870, 'mddc': 9871, 'od': 9872, 'cdg': 9873, 'brrr': 9874, 'chilly': 9875, 'probl': 9876, 'wcomm': 9877, 'rtrn': 9878, 'nickele': 9879, 'tt': 9880, 'planb': 9881, 'upgrademe': 9882, 'americandairlinessuck': 9883, 'expert': 9884, 'preventable': 9885, 'wcompany': 9886, 'foru': 9887, 'allowable': 9888, 'wconnection': 9889, 'daysplan': 9890, 'delaypend': 9891, 'hormonal': 9892, 'teenager': 9893, 'wastedeffort': 9894, 'reappear': 9895, 'avio': 9896, 'undo': 9897, 'respondingmy': 9898, 'utevgw': 9899, 'donedeal': 9900, 'talktoahuman': 9901, 'strength': 9902, 'mauererpower': 9903, 'guysi': 9904, 'rnodfw': 9905, 'tomorrowplane': 9906, 'amshould': 9907, 'feroute': 9908, 'strut': 9909, 'nozzle': 9910, 'calibrate': 9911, 'waybig': 9912, 'groundoutside': 9913, 'hellomy': 9914, 'absorber': 9915, 'ksml': 9916, 'enhance': 9917, 'dooronly': 9918, 'fuellikely': 9919, 'fuelcycle': 9920, 'communicationcompetition': 9921, 'yucki': 9922, 'prerecord': 9923, 'milesthank': 9924, 'ordwe': 9925, 'refundprocedurenottoopainful': 9926, 'tmr': 9927, 'lala': 9928, 'leather': 9929, 'ay': 9930, 'marsh': 9931, 'cityandsand': 9932, 'handoff': 9933, 'nutella': 9934, 'veryimportantproject': 9935, 'refurbish': 9936, 'exeu': 9937, 'haulba': 9938, 'intraeu': 9939, 'drain': 9940, 'potable': 9941, 'mcidfw': 9942, 'recommendation': 9943, 'burrito': 9944, 'overzealou': 9945, 'parentthey': 9946, 'frequently': 9947, 'wiggle': 9948, 'sliver': 9949, 'dumasttg': 9950, 'cannoxtralegroom': 9951, 'nocoatcloset': 9952, 'yayayay': 9953, 'wack': 9954, 'cheque': 9955, 'unknowledgeable': 9956, 'potatoe': 9957, 'dcastl': 9958, 'ballbag': 9959, 'worrisome': 9960, 'preoccupy': 9961, 'observer': 9962, 'counterpart': 9963, 'bsuxlu': 9964, 'wherea': 9965, 'sgf': 9966, 'crewnow': 9967, 'mebe': 9968, 'spk': 9969, 'chk': 9970, 'sufficiently': 9971, 'presumably': 9972, 'reproach': 9973, 'reform': 9974, 'pretsa': 9975, 'bitchy': 9976, 'wayi': 9977, 'happenedwhat': 9978, 'usxlon': 9979, 'weekly': 9980, 'nofunatall': 9981, 'uwont': 9982, 'memake': 9983, 'mesit': 9984, 'exce': 9985, 'timesstill': 9986, 'celeb': 9987, 'clunky': 9988, 'motor': 9989, 'awheelchair': 9990, 'miasfo': 9991, 'nonewplane': 9992, 'countingthank': 9993, 'noshow': 9994, 'scoot': 9995, 'miserablemorn': 9996, 'restaff': 9997, 'commence': 9998, 'dpdfpp': 9999, 'regina': 10000, 'argg': 10001, 'bpdfpp': 10002, 'trite': 10003, 'woodland': 10004, 'virginia': 10005, 'neededwhy': 10006, 'laxogglax': 10007, 'infobag': 10008, 'thefaonline': 10009, 'jayfranceschi': 10010, 'attitudeissue': 10011, 'extenuate': 10012, 'downstair': 10013, 'elise': 10014, 'ee': 10015, 'chking': 10016, 'schd': 10017, 'plainly': 10018, 'compmech': 10019, 'maker': 10020, 'mindset': 10021, 'journalist': 10022, 'medication': 10023, 'daysapologise': 10024, 'slacksoftuk': 10025, 'colour': 10026, 'skipper': 10027, 'walkaround': 10028, 'ife': 10029, 'timemoney': 10030, 'suprise': 10031, 'vanity': 10032, 'gah': 10033, 'disorganise': 10034, 'timeshand': 10035, 'letterwent': 10036, 'airportcalledplease': 10037, 'abcnewsbayarea': 10038, 'onafter': 10039, 'inhumane': 10040, 'humanity': 10041, 'terror': 10042, 'roomsthat': 10043, 'twicegot': 10044, 'helpphone': 10045, 'xox': 10046, 'subscription': 10047, 'hopingpray': 10048, 'dayscharge': 10049, 'toarrange': 10050, 'upin': 10051, 'argentinaclaim': 10052, 'tollfree': 10053, 'emxlyy': 10054, 'dayjustgotworse': 10055, 'commutation': 10056, 'outtoo': 10057, 'bagit': 10058, 'curfew': 10059, 'notahappycustomer': 10060, 'leavingtomm': 10061, 'bleh': 10062, 'onlinei': 10063, 'crj': 10064, 'airstair': 10065, 'valet': 10066, 'conferencewe': 10067, 'spiritairpr': 10068, 'chicagosmayor': 10069, 'noise': 10070, 'norahm': 10071, 'djevolutionhd': 10072, 'lawyer': 10073, 'wrath': 10074, 'planelook': 10075, 'laxshe': 10076, 'drag': 10077, 'gerrielliott': 10078, 'chronological': 10079, 'mispurchase': 10080, 'footage': 10081, 'abi': 10082, 'megentripodi': 10083, 'jordnnicole': 10084, 'midnite': 10085, 'responsibilitytoo': 10086, 'reread': 10087, 'joanne': 10088, 'flightnightmare': 10089, 'dart': 10090, 'dendfw': 10091, 'dartmedia': 10092, 'suntime': 10093, 'cameragear': 10094, 'delayedstill': 10095, 'waitingyou': 10096, 'dub': 10097, 'periolodicly': 10098, 'snowice': 10099, 'pmwe': 10100, 'leeway': 10101, 'snaord': 10102, 'geez': 10103, 'unserviceable': 10104, 'jfkman': 10105, 'onei': 10106, 'yestwicefor': 10107, 'twa': 10108, 'thanksm': 10109, 'louprice': 10110, 'acustomerservice': 10111, 'wsmall': 10112, 'taxiway': 10113, 'outoftouchwithreality': 10114, 'acctit': 10115, 'inv': 10116, 'successful': 10117, 'wbuse': 10118, 'ridicule': 10119, 'infinite': 10120, 'hamster': 10121, 'rabbit': 10122, 'agentbook': 10123, 'pregnantwithtwin': 10124, 'thecandacesmith': 10125, 'candace': 10126, 'krescate': 10127, 'contactcej': 10128, 'bqonpa': 10129, 'posmia': 10130, 'displeasure': 10131, 'bbbmedia': 10132, 'donotflywiththem': 10133, 'fidencio': 10134, 'kybilc': 10135, 'isle': 10136, 'gabriela': 10137, 'employeework': 10138, 'mialga': 10139, 'lip': 10140, 'continuesstill': 10141, 'directbag': 10142, 'shaft': 10143, 'pensacola': 10144, 'jokerun': 10145, 'cuzco': 10146, 'saidi': 10147, 'jfknot': 10148, 'sre': 10149, 'hon': 10150, 'sauvignon': 10151, 'blanc': 10152, 'pronounce': 10153, 'multibillion': 10154, 'multimillion': 10155, 'barrettkarabi': 10156, 'unamericanairline': 10157, 'southwestairwasthere': 10158, 'reallythey': 10159, 'ofi': 10160, 'unfold': 10161, 'wrench': 10162, 'apron': 10163, 'suree': 10164, 'grnd': 10165, 'jean': 10166, 'tpadfwau': 10167, 'iahdfw': 10168, 'amen': 10169, 'rec': 10170, 'unaccommodate': 10171, 'hitawall': 10172, 'newplanesmell': 10173, 'pissedvery': 10174, 'evil': 10175, 'anythingjust': 10176, 'chariot': 10177, 'angle': 10178, 'oldplane': 10179, 'damageluggage': 10180, 'originate': 10181, 'chge': 10182, 'ecuador': 10183, 'triedit': 10184, 'yepfile': 10185, 'ud': 10186, 'retrn': 10187, 'pickng': 10188, 'phoneonly': 10189, 'complaintquestion': 10190, 'commend': 10191, 'airportcardio': 10192, 'refunddm': 10193, 'travelproblem': 10194, 'nosedive': 10195, 'newamerican': 10196, 'delaney': 10197, 'kanne': 10198, 'ateam': 10199, 'rigorou': 10200, 'minutewere': 10201, 'brownsville': 10202, 'hardtodo': 10203, 'hrsthere': 10204, 'problemsbtwthe': 10205, 'miamiphl': 10206, 'hoursi': 10207, 'hah': 10208, 'hahahah': 10209, 'pacify': 10210, 'foolthat': 10211, 'span': 10212, 'daysnone': 10213, 'un': 10214, 'fin': 10215, 'believable': 10216, 'elwoodblue': 10217, 'americant': 10218, 'reuse': 10219, 'balloon': 10220, 'needknow': 10221, 'todayrather': 10222, 'maf': 10223, 'hardest': 10224, 'agentwhat': 10225, 'minutessaid': 10226, 'providenciale': 10227, 'becky': 10228, 'piela': 10229, 'ish': 10230, 'adavantage': 10231, 'lessand': 10232, 'probability': 10233, 'uhmmm': 10234, 'jcolenc': 10235, 'dallastx': 10236, 'helpline': 10237, 'holler': 10238, 'gtsvyb': 10239, 'unprepare': 10240, 'booklet': 10241, 'ystday': 10242, 'angrybird': 10243, 'wheresmybag': 10244, 'svu': 10245, 'gang': 10246, 'doyourjob': 10247, 'extraordinary': 10248, 'acpt': 10249, 'trickle': 10250, 'buse': 10251, 'wakinginmemphi': 10252, 'maxfitgirl': 10253, 'specially': 10254, 'carlton': 10255, 'glady': 10256, 'amiga': 10257, 'fllight': 10258, 'bussine': 10259, 'genuine': 10260, 'natt': 10261, 'panam': 10262, 'neverflyagain': 10263, 'fluctuate': 10264, 'mattthomasnew': 10265, 'siberia': 10266, 'woase': 10267, 'helsinkiairport': 10268, 'winterop': 10269, 'midoexhibition': 10270, 'nastiest': 10271, 'yesterdayrubber': 10272, 'slime': 10273, 'backfa': 10274, 'meit': 10275, 'congest': 10276, 'edplott': 10277, 'thanksamericanairline': 10278, 'bdsm': 10279, 'porn': 10280, 'dungeon': 10281, 'tulsanot': 10282, 'servicelook': 10283, 'raft': 10284, 'yessir': 10285, 'yourlocalnyer': 10286, 'botch': 10287, 'absurdity': 10288, 'tug': 10289, 'meetingoutrage': 10290, 'memorize': 10291, 'fiveword': 10292, 'shortcut': 10293, 'tywinter': 10294, 'thingsthe': 10295, 'detailsthat': 10296, 'ohi': 10297, 'itover': 10298, 'nbsnewsr': 10299, 'reservationchange': 10300, 'mikehertzgmailcom': 10301, 'fakeaward': 10302, 'luvisbetter': 10303, 'terriblebeen': 10304, 'mty': 10305, 'agenti': 10306, 'surfer': 10307, 'noloveforsurfer': 10308, 'laxmad': 10309, 'escalate': 10310, 'seemle': 10311, 'surfboardbag': 10312, 'nomoa': 10313, 'mait': 10314, 'formality': 10315, 'rudelyreturn': 10316, 'nohotel': 10317, 'ahem': 10318, 'frowny': 10319, 'unsat': 10320, 'sjclax': 10321, 'angelo': 10322, 'lucymay': 10323, 'hfjkto': 10324, 'unimpres': 10325, 'dallasairporti': 10326, 'clewould': 10327, 'thousandth': 10328, 'mistreat': 10329, 'weekthat': 10330, 'guru': 10331, 'ease': 10332, 'evidently': 10333, 'meetingsinterview': 10334, 'circuit': 10335, 'breaker': 10336, 'busfirst': 10337, 'milesaver': 10338, 'whyfly': 10339, 'hourwaitsuck': 10340, 'madhouse': 10341, 'responsetough': 10342, 'montrose': 10343, 'allrepresentativesbusy': 10344, 'nooption': 10345, 'packermama': 10346, 'bademployeeproblem': 10347, 'surgeryhelp': 10348, 'flightupset': 10349, 'irrlcd': 10350, 'unamerican': 10351, 'cathaypacific': 10352, 'cathaypacificu': 10353, 'airsouthwest': 10354, 'dehydrate': 10355, 'ciddfw': 10356, 'bei': 10357, 'chaperone': 10358, 'rldelahunty': 10359, 'loaret': 10360, 'againestimate': 10361, 'mrobinson': 10362, 'crazybitch': 10363, 'andyellwood': 10364, 'delk': 10365, 'halfthought': 10366, 'pie': 10367, 'meerikanga': 10368, 'hahahaha': 10369, 'hoagy': 10370, 'honeymooni': 10371, 'bride': 10372, 'earlieror': 10373, 'notreceive': 10374, 'brooklyn': 10375, 'jacqueline': 10376, 'amexserve': 10377, 'denise': 10378, 'rtn': 10379, 'noworse': 10380, 'morninghow': 10381, 'airat': 10382, 'rudestaff': 10383, 'incompetentmanager': 10384, 'eleonora': 10385, 'awfully': 10386, 'unclear': 10387, 'audio': 10388, 'pir': 10389, 'cud': 10390, 'wong': 10391, 'marisol': 10392, 'pimentel': 10393, 'reasonably': 10394, 'mallowfairy': 10395, 'cnext': 10396, 'kthxbai': 10397, 'strict': 10398, 'statuswill': 10399, 'doorclose': 10400, 'drinkssnack': 10401, 'selfupgrade': 10402, 'jaipur': 10403, 'dehli': 10404, 'ccwhy': 10405, 'murphyjulie': 10406, 'stiiiil': 10407, 'malhoit': 10408, 'cac': 10409, 'familyfriend': 10410, 'lmk': 10411, 'mwangbickler': 10412, 'michael': 10413, 'thehour': 10414, 'flighttherere': 10415, 'youi': 10416, 'riedel': 10417, 'activealy': 10418, 'usairwi': 10419, 'kaha': 10420, 'teamit': 10421, 'americanairif': 10422, 'itamericanairline': 10423, 'qsvgru': 10424, 'stmt': 10425, 'getyouracttogether': 10426, 'painandsuffer': 10427, 'emrey': 10428, 'loctjycqh': 10429, 'nitenot': 10430, 'pu': 10431, 'unt': 10432, 'aft': 10433, 'callbag': 10434, 'insanehelp': 10435, 'unreachable': 10436, 'datetime': 10437, 'revieve': 10438, 'chkin': 10439, 'wsupervisor': 10440, 'baggagedrama': 10441, 'admiralsclub': 10442, 'worstcustservice': 10443, 'zurichnew': 10444, 'flightsthi': 10445, 'nationalize': 10446, 'nation': 10447, 'declare': 10448, 'somthe': 10449, 'daynee': 10450, 'nickcunningham': 10451, 'qqbmug': 10452, 'retickete': 10453, 'loganex': 10454, 'epicfailure': 10455, 'unsettle': 10456, 'emeyerson': 10457, 'walmart': 10458, 'koalaxphlord': 10459, 'savr': 10460, 'awrd': 10461, 'koalaxphxord': 10462, 'apologise': 10463, 'blameshiftoverload': 10464, 'helpthank': 10465, 'jfkla': 10466, 'latinamerican': 10467, 'ithaca': 10468, 'xld': 10469, 'rulesshouldbend': 10470, 'sheer': 10471, 'reign': 10472, 'gd': 10473, 'sloooowresponse': 10474, 'twenty': 10475, 'prank': 10476, 'plt': 10477, 'karax': 10478, 'neuer': 10479, 'flyingflighttravel': 10480, 'reebook': 10481, 'lvdfw': 10482, 'champagne': 10483, 'ordnrt': 10484, 'tokyomarathon': 10485, 'somethingwhich': 10486, 'nothinghop': 10487, 'waynot': 10488, 'insure': 10489, 'fricken': 10490, 'americanaireveryone': 10491, 'weeksthose': 10492, 'dickhead': 10493, 'methey': 10494, 'finale': 10495, 'rebookplease': 10496, 'instance': 10497, 'unsuccessful': 10498, 'nonperformance': 10499, 'onholdforday': 10500, 'plebe': 10501, 'youredoingitwrong': 10502, 'foresight': 10503, 'tahiti': 10504, 'kevolt': 10505, 'sozldj': 10506, 'importantflight': 10507, 'chargersclothescoatcontact': 10508, 'lense': 10509, 'scareair': 10510, 'callcentre': 10511, 'whoooo': 10512, 'hooooo': 10513, 'pace': 10514, 'passengersstrand': 10515, 'nashinmypant': 10516, 'bitchslap': 10517, 'juliasinton': 10518, 'dmstill': 10519, 'waitingso': 10520, 'interestingagent': 10521, 'autorebook': 10522, 'crystal': 10523, 'toby': 10524, 'holdcan': 10525, 'liesliesly': 10526, 'arminrosen': 10527, 'bensonhenderson': 10528, 'bmi': 10529, 'reciprocate': 10530, 'dogbuckeye': 10531, 'onholdforever': 10532, 'suboptimal': 10533, 'incompetency': 10534, 'tusdfw': 10535, 'wcx': 10536, 'itwhy': 10537, 'forgotmiahe': 10538, 'willneverflywithyou': 10539, 'lesliewolfson': 10540, 'ltr': 10541, 'nlrphoto': 10542, 'espncoachmack': 10543, 'conv': 10544, 'pigeon': 10545, 'astonish': 10546, 'mdbeei': 10547, 'mcmullen': 10548, 'whyareyouyelle': 10549, 'doll': 10550, 'virtual': 10551, 'emailtext': 10552, 'ratchet': 10553, 'watson': 10554, 'jen': 10555, 'greyhoundbu': 10556, 'queu': 10557, 'quickest': 10558, 'exboyfriend': 10559, 'gratitude': 10560, 'ltaljx': 10561, 'goodthingscome': 10562, 'ti': 10563, 'shiz': 10564, 'racist': 10565, 'barcode': 10566, 'betterother': 10567, 'whereisthelove': 10568, 'whybeaff': 10569, 'duanenclark': 10570, 'citynot': 10571, 'apathetic': 10572, 'organize': 10573, 'plse': 10574, 'methe': 10575, 'equivalent': 10576, 'dirt': 10577, 'sfojfk': 10578, 'programmer': 10579, 'instantly': 10580, 'avenue': 10581, 'jal': 10582, 'cathay': 10583, 'marshall': 10584, 'tracker': 10585, 'americanairsuck': 10586, 'hiremorepoeple': 10587, 'wnothe': 10588, 'wtw': 10589, 'waitabout': 10590, 'perhr': 10591, 'burden': 10592, 'oxgen': 10593, 'aircraftrunway': 10594, 'todaytomorrow': 10595, 'combative': 10596, 'hury': 10597, 'miacur': 10598, 'detailsu': 10599, 'texarkana': 10600, 'shouldhavedriven': 10601, 'dallasfort': 10602, 'psych': 10603, 'customersshaft': 10604, 'yourphonesystemsuck': 10605, 'phldfw': 10606, 'adolfo': 10607, 'garcia': 10608, 'twiiter': 10609, 'vcp': 10610, 'banana': 10611, 'undy': 10612, 'mall': 10613, 'vanessannz': 10614, 'inclemental': 10615, 'strtd': 10616, 'pummele': 10617, 'arpt': 10618, 'destn': 10619, 'nosecurityline': 10620, 'poorest': 10621, 'alabama': 10622, 'thicken': 10623, 'dandy': 10624, 'lookforwardtoflywitha': 10625, 'helper': 10626, 'motvida': 10627, 'internally': 10628, 'covert': 10629, 'jeopardy': 10630, 'daipresident': 10631, 'hoursgot': 10632, 'cncdld': 10633, 'sneak': 10634, 'cookie': 10635, 'spectacularf': 10636, 'cinedrone': 10637, 'carlw': 10638, 'nan': 10639, 'bear': 10640, 'cstmr': 10641, 'grossthe': 10642, 'cancld': 10643, 'discnctany': 10644, 'abidfw': 10645, 'ticketi': 10646, 'horribly': 10647, 'praywinn': 10648, 'slowdown': 10649, 'spectacular': 10650, 'lhrdfw': 10651, 'priceline': 10652, 'troubleshot': 10653, 'paranoid': 10654, 'jaynegelman': 10655, 'howabout': 10656, 'moreblacklist': 10657, 'flightive': 10658, 'heymynameissean': 10659, 'newairplane': 10660, 'kconti': 10661, 'berlin': 10662, 'jameswester': 10663, 'jame': 10664, 'wflight': 10665, 'cjdjpdx': 10666, 'multinational': 10667, 'unmove': 10668, 'kap': 10669, 'totallyconfuse': 10670, 'surreal': 10671, 'rio': 10672, 'rcmoficial': 10673, 'cisnerosmedia': 10674, 'yourstoryhere': 10675, 'cyncyn': 10676, 'dfword': 10677, 'patrichruben': 10678, 'maximization': 10679, 'dinosaur': 10680, 'cnbc': 10681, 'bloombergradio': 10682, 'derekaustincenturyca': 10683, 'manuelc': 10684, 'ezemanalyst': 10685, 'impersonal': 10686, 'impatient': 10687, 'skillful': 10688, 'flightne': 10689, 'snafu': 10690, 'untrue': 10691, 'cncld': 10692, 'brothaa': 10693, 'sarahzou': 10694, 'translation': 10695, 'reinvest': 10696, 'colossal': 10697, 'infringement': 10698, 'jimdaytv': 10699, 'unannounce': 10700, 'fingerscros': 10701, 'pleasegod': 10702, 'missmykid': 10703, 'aex': 10704, 'rem': 10705, 'ensue': 10706, 'marco': 10707, 'concierge': 10708, 'gru': 10709, 'chargesi': 10710, 'sleeple': 10711, 'worthy': 10712, 'dfwmke': 10713, 'allll': 10714, 'convenience': 10715, 'joplin': 10716, 'jln': 10717, 'temper': 10718, 'weeklycommuteon': 10719, 'saveu': 10720, 'patheticcx': 10721, 'shortstaf': 10722, 'adre': 10723, 'spontaneously': 10724, 'overtime': 10725, 'bershawnjackson': 10726, 'ddean': 10727, 'deoderant': 10728, 'reclameaqui': 10729, 'tripadvisor': 10730, 'sabotage': 10731, 'advan': 10732, 'supvr': 10733, 'fruit': 10734, 'mistreatment': 10735, 'austic': 10736, 'changemassive': 10737, 'numberphone': 10738, 'ege': 10739, 'ordcdg': 10740, 'delayednot': 10741, 'replyour': 10742, 'repaint': 10743, 'passengerbillofright': 10744, 'foodnothe': 10745, 'parameter': 10746, 'usable': 10747, 'sharon': 10748, 'saviour': 10749, 'rtw': 10750, 'planner': 10751, 'spec': 10752, 'iceday': 10753, 'gather': 10754, 'flightledcant': 10755, 'thxu': 10756, 'abcnew': 10757, 'abandonment': 10758, 'phillypm': 10759, 'stupidly': 10760, 'nothelpful': 10761, 'dawndavi': 10762, 'hospital': 10763, 'flightchange': 10764, 'tofrom': 10765, 'delayedwow': 10766, 'cncled': 10767, 'dotnetnate': 10768, 'seguinej': 10769, 'nevergettinghome': 10770, 'mk': 10771, 'warrant': 10772, 'yeseniahernandez': 10773, 'peculiar': 10774, 'fixyourstuff': 10775, 'complt': 10776, 'lav': 10777, 'pln': 10778, 'lnded': 10779, 'inedible': 10780, 'shrimp': 10781, 'theydontanswer': 10782, 'sentierimelinda': 10783, 'pasta': 10784, 'consumption': 10785, 'hateful': 10786, 'gobankrupt': 10787, 'usvi': 10788, 'niece': 10789, 'sitecomplicate': 10790, 'volumecan': 10791, 'lhrord': 10792, 'skype': 10793, 'viracopo': 10794, 'fuckoff': 10795, 'minsrescue': 10796, 'lgasat': 10797, 'ususdo': 10798, 'inventory': 10799, 'americanforlife': 10800, 'fiscal': 10801, 'guc': 10802, 'backattempt': 10803, 'gvn': 10804, 'customercant': 10805, 'tcunningham': 10806, 'jacquelyn': 10807, 'tomo': 10808, 'onlineusele': 10809, 'adelay': 10810, 'junction': 10811, 'amazingflightcrew': 10812, 'aftr': 10813, 'bng': 10814, 'hstg': 10815, 'fnd': 10816, 'cnceld': 10817, 'cop': 10818, 'fcuk': 10819, 'vacancy': 10820, 'foreveranyone': 10821, 'karabuxthomp': 10822, 'renew': 10823, 'pe': 10824, 'thnkx': 10825, 'bt': 10826, 'macario': 10827, 'golfwithwoody': 10828, 'woody': 10829, 'prerookie': 10830, 'miatoiah': 10831, 'russellswrite': 10832, 'slam': 10833, 'advisoryreally': 10834, 'coffin': 10835, 'chicagothank': 10836, 'acom': 10837, 'authoritative': 10838, 'stagnant': 10839, 'doubletriple': 10840, 'metar': 10841, 'topdown': 10842, 'thenatek': 10843, 'luz': 10844, 'calderon': 10845, 'king': 10846, 'cheerupdate': 10847, 'helpa': 10848, 'naomicooper': 10849, 'bdindalla': 10850, 'boofin': 10851, 'emmaclifford': 10852, 'attackingbabymomma': 10853, 'crazinessintherocky': 10854, 'ejacqui': 10855, 'russelnei': 10856, 'guatemala': 10857, 'appleton': 10858, 'eliza': 10859, 'airtahitinui': 10860, 'sweetmel': 10861, 'communicateor': 10862, 'oranythe': 10863, 'evidence': 10864, 'caexhibition': 10865, 'incompetenceunderstaf': 10866, 'tennetexan': 10867, 'marxsterbcow': 10868, 'aso': 10869, 'actingoutmgmnt': 10870, 'brewcrewfan': 10871, 'emailingcallingdm': 10872, 'unavoidable': 10873, 'controllable': 10874, 'yvonneokaka': 10875, 'twitterhug': 10876, 'shesaidrun': 10877, 'wthi': 10878, 'nthin': 10879, 'evr': 10880, 'natl': 10881, 'dfwno': 10882, 'hourflight': 10883, 'manuel': 10884, 'sapmia': 10885, 'chewey': 10886, 'oatmeal': 10887, 'cst': 10888, 'golden': 10889, 'custy': 10890, 'pvr': 10891, 'shannonbloom': 10892, 'duck': 10893, 'stuffy': 10894, 'arbitrarily': 10895, 'passengersdont': 10896, 'retribution': 10897, 'cxldprotection': 10898, 'nocharge': 10899, 'nycbueno': 10900, 'aire': 10901, 'jlhalldc': 10902, 'tilleymonsta': 10903, 'blackberry': 10904}\n",
            "[ 0  0  0  0  0  0  0  0  0  0  0  0  0  0  0  0  0  0  0  0  0  0  0  0\n",
            "  0  0  0  0  0  0  0  0  0  0  0  0  0  0  0  0  0  0  0  0  0  0  0  0\n",
            "  0  0  0  0  0  0  0  0  0  0  0  0  0  0  0  0  0  0  0  0  0  0  0  0\n",
            "  0  0  0  0  0  0  0  0  0  0  0  0 35 39]\n"
          ],
          "name": "stdout"
        }
      ]
    },
    {
      "cell_type": "code",
      "metadata": {
        "colab": {
          "base_uri": "https://localhost:8080/"
        },
        "id": "TE98pg3xyClP",
        "outputId": "317c0c79-665c-44c8-f37e-80acb1fd2f96"
      },
      "source": [
        "# Creating the model \n",
        "embed_dim = 128\n",
        "lstm_out = 196\n",
        "\n",
        "model = Sequential()\n",
        "model.add(Embedding(max_fatures, embed_dim,input_length = X.shape[1]))\n",
        "model.add(SpatialDropout1D(0.4))\n",
        "model.add(LSTM(lstm_out, dropout=0.2, recurrent_dropout=0.2))\n",
        "model.add(Dense(3,activation='softmax'))\n",
        "model.compile(loss = 'categorical_crossentropy', optimizer='adam',metrics = ['accuracy'])\n",
        "print(model.summary())"
      ],
      "execution_count": 74,
      "outputs": [
        {
          "output_type": "stream",
          "text": [
            "Model: \"sequential\"\n",
            "_________________________________________________________________\n",
            "Layer (type)                 Output Shape              Param #   \n",
            "=================================================================\n",
            "embedding (Embedding)        (None, 86, 128)           256000    \n",
            "_________________________________________________________________\n",
            "spatial_dropout1d (SpatialDr (None, 86, 128)           0         \n",
            "_________________________________________________________________\n",
            "lstm (LSTM)                  (None, 196)               254800    \n",
            "_________________________________________________________________\n",
            "dense (Dense)                (None, 3)                 591       \n",
            "=================================================================\n",
            "Total params: 511,391\n",
            "Trainable params: 511,391\n",
            "Non-trainable params: 0\n",
            "_________________________________________________________________\n",
            "None\n"
          ],
          "name": "stdout"
        }
      ]
    },
    {
      "cell_type": "code",
      "metadata": {
        "colab": {
          "base_uri": "https://localhost:8080/"
        },
        "id": "bPLWDAPc6cDZ",
        "outputId": "78898cc8-c8bd-417c-e8ad-e22f7e29e01e"
      },
      "source": [
        "# Creating train test data\n",
        "Y = pd.get_dummies(tweets_df['airline_sentiment']).values\n",
        "X_train, X_test, Y_train, Y_test = train_test_split(X,Y, test_size = 0.3, random_state = 42)\n",
        "print(X_train.shape,Y_train.shape)\n",
        "print(X_test.shape,Y_test.shape)"
      ],
      "execution_count": 78,
      "outputs": [
        {
          "output_type": "stream",
          "text": [
            "(10248, 86) (10248, 3)\n",
            "(4392, 86) (4392, 3)\n"
          ],
          "name": "stdout"
        }
      ]
    },
    {
      "cell_type": "code",
      "metadata": {
        "colab": {
          "base_uri": "https://localhost:8080/"
        },
        "id": "rLioYNJn7ekp",
        "outputId": "b2b2fa29-6299-47b6-b600-b492c4b24608"
      },
      "source": [
        "# Fitting the data\n",
        "checkpoint1 = ModelCheckpoint(\"/content/drive/My Drive/NLP/best_model1.hdf5\", patience = 10, monitor='val_accuracy', verbose=1,save_best_only=True, mode='auto', period=1,save_weights_only=False)\n",
        "history = model.fit(X_train,Y_train, validation_split=0.2, epochs=5, batch_size=32,callbacks=checkpoint1, verbose=2)"
      ],
      "execution_count": 80,
      "outputs": [
        {
          "output_type": "stream",
          "text": [
            "WARNING:tensorflow:`period` argument is deprecated. Please use `save_freq` to specify the frequency in number of batches seen.\n",
            "Epoch 1/5\n",
            "257/257 - 116s - loss: 0.3281 - accuracy: 0.8723 - val_loss: 0.6237 - val_accuracy: 0.7688\n",
            "\n",
            "Epoch 00001: val_accuracy improved from -inf to 0.76878, saving model to /content/drive/My Drive/NLP/best_model1.hdf5\n",
            "Epoch 2/5\n",
            "257/257 - 116s - loss: 0.3003 - accuracy: 0.8875 - val_loss: 0.6882 - val_accuracy: 0.7659\n",
            "\n",
            "Epoch 00002: val_accuracy did not improve from 0.76878\n",
            "Epoch 3/5\n",
            "257/257 - 116s - loss: 0.2807 - accuracy: 0.8936 - val_loss: 0.7272 - val_accuracy: 0.7610\n",
            "\n",
            "Epoch 00003: val_accuracy did not improve from 0.76878\n",
            "Epoch 4/5\n",
            "257/257 - 115s - loss: 0.2521 - accuracy: 0.9033 - val_loss: 0.7395 - val_accuracy: 0.7507\n",
            "\n",
            "Epoch 00004: val_accuracy did not improve from 0.76878\n",
            "Epoch 5/5\n",
            "257/257 - 115s - loss: 0.2334 - accuracy: 0.9088 - val_loss: 0.8372 - val_accuracy: 0.7517\n",
            "\n",
            "Epoch 00005: val_accuracy did not improve from 0.76878\n"
          ],
          "name": "stdout"
        }
      ]
    },
    {
      "cell_type": "code",
      "metadata": {
        "colab": {
          "base_uri": "https://localhost:8080/"
        },
        "id": "JinTfm7u9g90",
        "outputId": "737f0d00-8c29-45a2-c10e-811ecad67324"
      },
      "source": [
        "# Evaluate \n",
        "eval_results = model.evaluate(X_test, Y_test)\n",
        "print(\"[test loss, test accuracy]:\", eval_results)"
      ],
      "execution_count": 84,
      "outputs": [
        {
          "output_type": "stream",
          "text": [
            "91/91 [==============================] - 7s 77ms/step - loss: 0.7694 - accuracy: 0.7766\n",
            "[test loss, test accuracy]: [0.7694411873817444, 0.7766251564025879]\n"
          ],
          "name": "stdout"
        }
      ]
    },
    {
      "cell_type": "code",
      "metadata": {
        "colab": {
          "base_uri": "https://localhost:8080/"
        },
        "id": "0ORORN5N-XJX",
        "outputId": "5db4ece2-0e83-4c27-b550-8bf33693512e"
      },
      "source": [
        "# Predicting and displaying the confusion matrix\n",
        "Y_pred = model.predict_classes(X_test)\n",
        "rounded_labels=np.argmax(Y_test, axis=1)\n",
        "cm = confusion_matrix(rounded_labels, Y_pred)\n",
        "print(cm)"
      ],
      "execution_count": 85,
      "outputs": [
        {
          "output_type": "stream",
          "text": [
            "/usr/local/lib/python3.7/dist-packages/tensorflow/python/keras/engine/sequential.py:450: UserWarning: `model.predict_classes()` is deprecated and will be removed after 2021-01-01. Please use instead:* `np.argmax(model.predict(x), axis=-1)`,   if your model does multi-class classification   (e.g. if it uses a `softmax` last-layer activation).* `(model.predict(x) > 0.5).astype(\"int32\")`,   if your model does binary classification   (e.g. if it uses a `sigmoid` last-layer activation).\n",
            "  warnings.warn('`model.predict_classes()` is deprecated and '\n"
          ],
          "name": "stderr"
        },
        {
          "output_type": "stream",
          "text": [
            "[[1599  180   85]\n",
            " [ 177  322   77]\n",
            " [  65   62  325]]\n"
          ],
          "name": "stdout"
        }
      ]
    },
    {
      "cell_type": "code",
      "metadata": {
        "colab": {
          "base_uri": "https://localhost:8080/",
          "height": 445
        },
        "id": "kt1L6YP7-hMC",
        "outputId": "88696fd8-f93a-40e5-ddd4-732841fde910"
      },
      "source": [
        "df_cm = pd.DataFrame(cm, index = [i for i in range(3)],\n",
        "                     columns = [i for i in range(3)])\n",
        "plt.figure(figsize = (12,7))\n",
        "sns.heatmap(df_cm, annot=True, fmt='d')"
      ],
      "execution_count": 86,
      "outputs": [
        {
          "output_type": "execute_result",
          "data": {
            "text/plain": [
              "<matplotlib.axes._subplots.AxesSubplot at 0x7fa88a217250>"
            ]
          },
          "metadata": {
            "tags": []
          },
          "execution_count": 86
        },
        {
          "output_type": "display_data",
          "data": {
            "image/png": "[encoded data removed]",
            "text/plain": [
              "<Figure size 864x504 with 2 Axes>"
            ]
          },
          "metadata": {
            "tags": [],
            "needs_background": "light"
          }
        }
      ]
    },
    {
      "cell_type": "code",
      "metadata": {
        "colab": {
          "base_uri": "https://localhost:8080/"
        },
        "id": "irRKuNRs-wYi",
        "outputId": "67ac9ee9-e091-4688-f45a-76a0d7fa64e1"
      },
      "source": [
        "# Printing the classification report\n",
        "print(\"=== Classification Report ===\")\n",
        "print(classification_report(rounded_labels, Y_pred))"
      ],
      "execution_count": 87,
      "outputs": [
        {
          "output_type": "stream",
          "text": [
            "=== Classification Report ===\n",
            "              precision    recall  f1-score   support\n",
            "\n",
            "           0       0.87      0.86      0.86      1864\n",
            "           1       0.57      0.56      0.56       576\n",
            "           2       0.67      0.72      0.69       452\n",
            "\n",
            "    accuracy                           0.78      2892\n",
            "   macro avg       0.70      0.71      0.71      2892\n",
            "weighted avg       0.78      0.78      0.78      2892\n",
            "\n"
          ],
          "name": "stdout"
        }
      ]
    },
    {
      "cell_type": "code",
      "metadata": {
        "colab": {
          "base_uri": "https://localhost:8080/"
        },
        "id": "7vW8lBBh-4RK",
        "outputId": "d30f2252-b2a8-43ff-c822-4438690c17a2"
      },
      "source": [
        "# Compare actual to predicted values -- model is performing well -- 1 wrong\n",
        "picarr = [0,50,44,55,100,45]\n",
        "\n",
        "for i in picarr:\n",
        "  print(f\"Predict {i}: {Y_pred[i]}\")\n",
        "  print(f\"Actual {i}: {np.argmax(Y_test[i])}\")"
      ],
      "execution_count": 88,
      "outputs": [
        {
          "output_type": "stream",
          "text": [
            "Predict 0: 2\n",
            "Actual 0: 2\n",
            "Predict 50: 1\n",
            "Actual 50: 1\n",
            "Predict 44: 1\n",
            "Actual 44: 1\n",
            "Predict 55: 0\n",
            "Actual 55: 2\n",
            "Predict 100: 0\n",
            "Actual 100: 0\n",
            "Predict 45: 2\n",
            "Actual 45: 2\n"
          ],
          "name": "stdout"
        }
      ]
    }
  ]
}