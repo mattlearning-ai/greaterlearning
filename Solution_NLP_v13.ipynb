{
  "nbformat": 4,
  "nbformat_minor": 0,
  "metadata": {
    "colab": {
      "name": "Solution_NLP.ipynb",
      "provenance": [],
      "collapsed_sections": []
    },
    "kernelspec": {
      "display_name": "Python 3",
      "language": "python",
      "name": "python3"
    },
    "language_info": {
      "codemirror_mode": {
        "name": "ipython",
        "version": 3
      },
      "file_extension": ".py",
      "mimetype": "text/x-python",
      "name": "python",
      "nbconvert_exporter": "python",
      "pygments_lexer": "ipython3",
      "version": "3.7.4"
    }
  },
  "cells": [
    {
      "cell_type": "code",
      "metadata": {
        "colab": {
          "base_uri": "https://localhost:8080/"
        },
        "id": "Ut8djaql1HHS",
        "outputId": "043ecf94-9b5c-4278-8a0e-1527ceca71ad"
      },
      "source": [
        "# Installing the necessary libraries \n",
        "!pip install contractions\n",
        "!pip install demoji\n",
        "!pip install -U spacy\n",
        "!pip install pattern\n"
      ],
      "execution_count": 1,
      "outputs": [
        {
          "output_type": "stream",
          "text": [
            "Collecting contractions\n",
            "  Downloading https://files.pythonhosted.org/packages/0a/04/d5e0bb9f2cef5d15616ebf68087a725c5dbdd71bd422bcfb35d709f98ce7/contractions-0.0.48-py2.py3-none-any.whl\n",
            "Collecting textsearch>=0.0.21\n",
            "  Downloading https://files.pythonhosted.org/packages/d3/fe/021d7d76961b5ceb9f8d022c4138461d83beff36c3938dc424586085e559/textsearch-0.0.21-py2.py3-none-any.whl\n",
            "Collecting anyascii\n",
            "\u001b[?25l  Downloading https://files.pythonhosted.org/packages/a3/14/666cd44bf53f36a961544af592cb5c5c800013f9c51a4745af8d7c17362a/anyascii-0.2.0-py3-none-any.whl (283kB)\n",
            "\u001b[K     |████████████████████████████████| 286kB 7.3MB/s \n",
            "\u001b[?25hCollecting pyahocorasick\n",
            "\u001b[?25l  Downloading https://files.pythonhosted.org/packages/7f/c2/eae730037ae1cbbfaa229d27030d1d5e34a1e41114b21447d1202ae9c220/pyahocorasick-1.4.2.tar.gz (321kB)\n",
            "\u001b[K     |████████████████████████████████| 327kB 8.7MB/s \n",
            "\u001b[?25hBuilding wheels for collected packages: pyahocorasick\n",
            "  Building wheel for pyahocorasick (setup.py) ... \u001b[?25l\u001b[?25hdone\n",
            "  Created wheel for pyahocorasick: filename=pyahocorasick-1.4.2-cp37-cp37m-linux_x86_64.whl size=85391 sha256=83a2ba27d9fdae738641eec50f1bd1b7bb4fdc8591d0859e5dbb3b2b435dade2\n",
            "  Stored in directory: /root/.cache/pip/wheels/3a/03/34/77e3ece0bba8b86bfac88a79f923b36d805cad63caeba38842\n",
            "Successfully built pyahocorasick\n",
            "Installing collected packages: anyascii, pyahocorasick, textsearch, contractions\n",
            "Successfully installed anyascii-0.2.0 contractions-0.0.48 pyahocorasick-1.4.2 textsearch-0.0.21\n",
            "Collecting demoji\n",
            "  Downloading https://files.pythonhosted.org/packages/88/6a/34379abe01c9c36fe9fddc4181dd935332e7d0159ec3fae76f712e49bcea/demoji-0.4.0-py2.py3-none-any.whl\n",
            "Collecting colorama\n",
            "  Downloading https://files.pythonhosted.org/packages/44/98/5b86278fbbf250d239ae0ecb724f8572af1c91f4a11edf4d36a206189440/colorama-0.4.4-py2.py3-none-any.whl\n",
            "Requirement already satisfied: requests<3.0.0 in /usr/local/lib/python3.7/dist-packages (from demoji) (2.23.0)\n",
            "Requirement already satisfied: certifi>=2017.4.17 in /usr/local/lib/python3.7/dist-packages (from requests<3.0.0->demoji) (2020.12.5)\n",
            "Requirement already satisfied: urllib3!=1.25.0,!=1.25.1,<1.26,>=1.21.1 in /usr/local/lib/python3.7/dist-packages (from requests<3.0.0->demoji) (1.24.3)\n",
            "Requirement already satisfied: idna<3,>=2.5 in /usr/local/lib/python3.7/dist-packages (from requests<3.0.0->demoji) (2.10)\n",
            "Requirement already satisfied: chardet<4,>=3.0.2 in /usr/local/lib/python3.7/dist-packages (from requests<3.0.0->demoji) (3.0.4)\n",
            "Installing collected packages: colorama, demoji\n",
            "Successfully installed colorama-0.4.4 demoji-0.4.0\n",
            "Collecting spacy\n",
            "\u001b[?25l  Downloading https://files.pythonhosted.org/packages/1b/d8/0361bbaf7a1ff56b44dca04dace54c82d63dad7475b7d25ea1baefafafb2/spacy-3.0.6-cp37-cp37m-manylinux2014_x86_64.whl (12.8MB)\n",
            "\u001b[K     |████████████████████████████████| 12.8MB 317kB/s \n",
            "\u001b[?25hRequirement already satisfied, skipping upgrade: jinja2 in /usr/local/lib/python3.7/dist-packages (from spacy) (2.11.3)\n",
            "Collecting typer<0.4.0,>=0.3.0\n",
            "  Downloading https://files.pythonhosted.org/packages/90/34/d138832f6945432c638f32137e6c79a3b682f06a63c488dcfaca6b166c64/typer-0.3.2-py3-none-any.whl\n",
            "Requirement already satisfied, skipping upgrade: murmurhash<1.1.0,>=0.28.0 in /usr/local/lib/python3.7/dist-packages (from spacy) (1.0.5)\n",
            "Requirement already satisfied, skipping upgrade: setuptools in /usr/local/lib/python3.7/dist-packages (from spacy) (56.0.0)\n",
            "Requirement already satisfied, skipping upgrade: typing-extensions<4.0.0.0,>=3.7.4; python_version < \"3.8\" in /usr/local/lib/python3.7/dist-packages (from spacy) (3.7.4.3)\n",
            "Collecting pydantic<1.8.0,>=1.7.1\n",
            "\u001b[?25l  Downloading https://files.pythonhosted.org/packages/b3/0a/52ae1c659fc08f13dd7c0ae07b88e4f807ad83fb9954a59b0b0a3d1a8ab6/pydantic-1.7.3-cp37-cp37m-manylinux2014_x86_64.whl (9.1MB)\n",
            "\u001b[K     |████████████████████████████████| 9.1MB 44.0MB/s \n",
            "\u001b[?25hCollecting thinc<8.1.0,>=8.0.3\n",
            "\u001b[?25l  Downloading https://files.pythonhosted.org/packages/61/87/decceba68a0c6ca356ddcb6aea8b2500e71d9bc187f148aae19b747b7d3c/thinc-8.0.3-cp37-cp37m-manylinux2014_x86_64.whl (1.1MB)\n",
            "\u001b[K     |████████████████████████████████| 1.1MB 41.3MB/s \n",
            "\u001b[?25hRequirement already satisfied, skipping upgrade: requests<3.0.0,>=2.13.0 in /usr/local/lib/python3.7/dist-packages (from spacy) (2.23.0)\n",
            "Collecting srsly<3.0.0,>=2.4.1\n",
            "\u001b[?25l  Downloading https://files.pythonhosted.org/packages/c3/84/dfdfc9f6f04f6b88207d96d9520b911e5fec0c67ff47a0dea31ab5429a1e/srsly-2.4.1-cp37-cp37m-manylinux2014_x86_64.whl (456kB)\n",
            "\u001b[K     |████████████████████████████████| 460kB 41.1MB/s \n",
            "\u001b[?25hRequirement already satisfied, skipping upgrade: cymem<2.1.0,>=2.0.2 in /usr/local/lib/python3.7/dist-packages (from spacy) (2.0.5)\n",
            "Requirement already satisfied, skipping upgrade: preshed<3.1.0,>=3.0.2 in /usr/local/lib/python3.7/dist-packages (from spacy) (3.0.5)\n",
            "Requirement already satisfied, skipping upgrade: tqdm<5.0.0,>=4.38.0 in /usr/local/lib/python3.7/dist-packages (from spacy) (4.41.1)\n",
            "Requirement already satisfied, skipping upgrade: numpy>=1.15.0 in /usr/local/lib/python3.7/dist-packages (from spacy) (1.19.5)\n",
            "Collecting spacy-legacy<3.1.0,>=3.0.4\n",
            "  Downloading https://files.pythonhosted.org/packages/8d/67/d4002a18e26bf29b17ab563ddb55232b445ab6a02f97bf17d1345ff34d3f/spacy_legacy-3.0.5-py2.py3-none-any.whl\n",
            "Collecting pathy>=0.3.5\n",
            "\u001b[?25l  Downloading https://files.pythonhosted.org/packages/13/87/5991d87be8ed60beb172b4062dbafef18b32fa559635a8e2b633c2974f85/pathy-0.5.2-py3-none-any.whl (42kB)\n",
            "\u001b[K     |████████████████████████████████| 51kB 5.8MB/s \n",
            "\u001b[?25hRequirement already satisfied, skipping upgrade: wasabi<1.1.0,>=0.8.1 in /usr/local/lib/python3.7/dist-packages (from spacy) (0.8.2)\n",
            "Requirement already satisfied, skipping upgrade: blis<0.8.0,>=0.4.0 in /usr/local/lib/python3.7/dist-packages (from spacy) (0.4.1)\n",
            "Collecting catalogue<2.1.0,>=2.0.3\n",
            "  Downloading https://files.pythonhosted.org/packages/82/a5/b5021c74c04cac35a27d34cbf3146d86eb8e173b4491888bc4908c4c8b3b/catalogue-2.0.3-py3-none-any.whl\n",
            "Requirement already satisfied, skipping upgrade: packaging>=20.0 in /usr/local/lib/python3.7/dist-packages (from spacy) (20.9)\n",
            "Requirement already satisfied, skipping upgrade: MarkupSafe>=0.23 in /usr/local/lib/python3.7/dist-packages (from jinja2->spacy) (1.1.1)\n",
            "Requirement already satisfied, skipping upgrade: click<7.2.0,>=7.1.1 in /usr/local/lib/python3.7/dist-packages (from typer<0.4.0,>=0.3.0->spacy) (7.1.2)\n",
            "Requirement already satisfied, skipping upgrade: idna<3,>=2.5 in /usr/local/lib/python3.7/dist-packages (from requests<3.0.0,>=2.13.0->spacy) (2.10)\n",
            "Requirement already satisfied, skipping upgrade: chardet<4,>=3.0.2 in /usr/local/lib/python3.7/dist-packages (from requests<3.0.0,>=2.13.0->spacy) (3.0.4)\n",
            "Requirement already satisfied, skipping upgrade: urllib3!=1.25.0,!=1.25.1,<1.26,>=1.21.1 in /usr/local/lib/python3.7/dist-packages (from requests<3.0.0,>=2.13.0->spacy) (1.24.3)\n",
            "Requirement already satisfied, skipping upgrade: certifi>=2017.4.17 in /usr/local/lib/python3.7/dist-packages (from requests<3.0.0,>=2.13.0->spacy) (2020.12.5)\n",
            "Collecting smart-open<4.0.0,>=2.2.0\n",
            "\u001b[?25l  Downloading https://files.pythonhosted.org/packages/11/9a/ba2d5f67f25e8d5bbf2fcec7a99b1e38428e83cb715f64dd179ca43a11bb/smart_open-3.0.0.tar.gz (113kB)\n",
            "\u001b[K     |████████████████████████████████| 122kB 48.0MB/s \n",
            "\u001b[?25hRequirement already satisfied, skipping upgrade: zipp>=0.5; python_version < \"3.8\" in /usr/local/lib/python3.7/dist-packages (from catalogue<2.1.0,>=2.0.3->spacy) (3.4.1)\n",
            "Requirement already satisfied, skipping upgrade: pyparsing>=2.0.2 in /usr/local/lib/python3.7/dist-packages (from packaging>=20.0->spacy) (2.4.7)\n",
            "Building wheels for collected packages: smart-open\n",
            "  Building wheel for smart-open (setup.py) ... \u001b[?25l\u001b[?25hdone\n",
            "  Created wheel for smart-open: filename=smart_open-3.0.0-cp37-none-any.whl size=107098 sha256=2291423d8e8a74714d3f8c3d8d28308847851ce68d57d62055a7009376503420\n",
            "  Stored in directory: /root/.cache/pip/wheels/18/88/7c/f06dabd5e9cabe02d2269167bcacbbf9b47d0c0ff7d6ebcb78\n",
            "Successfully built smart-open\n",
            "Installing collected packages: typer, pydantic, catalogue, srsly, thinc, spacy-legacy, smart-open, pathy, spacy\n",
            "  Found existing installation: catalogue 1.0.0\n",
            "    Uninstalling catalogue-1.0.0:\n",
            "      Successfully uninstalled catalogue-1.0.0\n",
            "  Found existing installation: srsly 1.0.5\n",
            "    Uninstalling srsly-1.0.5:\n",
            "      Successfully uninstalled srsly-1.0.5\n",
            "  Found existing installation: thinc 7.4.0\n",
            "    Uninstalling thinc-7.4.0:\n",
            "      Successfully uninstalled thinc-7.4.0\n",
            "  Found existing installation: smart-open 5.0.0\n",
            "    Uninstalling smart-open-5.0.0:\n",
            "      Successfully uninstalled smart-open-5.0.0\n",
            "  Found existing installation: spacy 2.2.4\n",
            "    Uninstalling spacy-2.2.4:\n",
            "      Successfully uninstalled spacy-2.2.4\n",
            "Successfully installed catalogue-2.0.3 pathy-0.5.2 pydantic-1.7.3 smart-open-3.0.0 spacy-3.0.6 spacy-legacy-3.0.5 srsly-2.4.1 thinc-8.0.3 typer-0.3.2\n",
            "Collecting pattern\n",
            "\u001b[?25l  Downloading https://files.pythonhosted.org/packages/1e/07/b0e61b6c818ed4b6145fe01d1c341223aa6cfbc3928538ad1f2b890924a3/Pattern-3.6.0.tar.gz (22.2MB)\n",
            "\u001b[K     |████████████████████████████████| 22.3MB 1.5MB/s \n",
            "\u001b[?25hRequirement already satisfied: future in /usr/local/lib/python3.7/dist-packages (from pattern) (0.16.0)\n",
            "Collecting backports.csv\n",
            "  Downloading https://files.pythonhosted.org/packages/8e/26/a6bd68f13e0f38fbb643d6e497fc3462be83a0b6c4d43425c78bb51a7291/backports.csv-1.0.7-py2.py3-none-any.whl\n",
            "Collecting mysqlclient\n",
            "\u001b[?25l  Downloading https://files.pythonhosted.org/packages/3c/df/59cd2fa5e48d0804d213bdcb1acb4d08c403b61c7ff7ed4dd4a6a2deb3f7/mysqlclient-2.0.3.tar.gz (88kB)\n",
            "\u001b[K     |████████████████████████████████| 92kB 7.0MB/s \n",
            "\u001b[?25hRequirement already satisfied: beautifulsoup4 in /usr/local/lib/python3.7/dist-packages (from pattern) (4.6.3)\n",
            "Requirement already satisfied: lxml in /usr/local/lib/python3.7/dist-packages (from pattern) (4.2.6)\n",
            "Collecting feedparser\n",
            "\u001b[?25l  Downloading https://files.pythonhosted.org/packages/1c/21/faf1bac028662cc8adb2b5ef7a6f3999a765baa2835331df365289b0ca56/feedparser-6.0.2-py3-none-any.whl (80kB)\n",
            "\u001b[K     |████████████████████████████████| 81kB 7.5MB/s \n",
            "\u001b[?25hCollecting pdfminer.six\n",
            "\u001b[?25l  Downloading https://files.pythonhosted.org/packages/93/f3/4fec7dabe8802ebec46141345bf714cd1fc7d93cb74ddde917e4b6d97d88/pdfminer.six-20201018-py3-none-any.whl (5.6MB)\n",
            "\u001b[K     |████████████████████████████████| 5.6MB 38.6MB/s \n",
            "\u001b[?25hRequirement already satisfied: numpy in /usr/local/lib/python3.7/dist-packages (from pattern) (1.19.5)\n",
            "Requirement already satisfied: scipy in /usr/local/lib/python3.7/dist-packages (from pattern) (1.4.1)\n",
            "Requirement already satisfied: nltk in /usr/local/lib/python3.7/dist-packages (from pattern) (3.2.5)\n",
            "Collecting python-docx\n",
            "\u001b[?25l  Downloading https://files.pythonhosted.org/packages/e4/83/c66a1934ed5ed8ab1dbb9931f1779079f8bca0f6bbc5793c06c4b5e7d671/python-docx-0.8.10.tar.gz (5.5MB)\n",
            "\u001b[K     |████████████████████████████████| 5.5MB 47.5MB/s \n",
            "\u001b[?25hCollecting cherrypy\n",
            "\u001b[?25l  Downloading https://files.pythonhosted.org/packages/a8/f9/e11f893dcabe6bc222a1442bf5e14f0322a2d363c92910ed41947078a35a/CherryPy-18.6.0-py2.py3-none-any.whl (419kB)\n",
            "\u001b[K     |████████████████████████████████| 419kB 47.9MB/s \n",
            "\u001b[?25hRequirement already satisfied: requests in /usr/local/lib/python3.7/dist-packages (from pattern) (2.23.0)\n",
            "Collecting sgmllib3k\n",
            "  Downloading https://files.pythonhosted.org/packages/9e/bd/3704a8c3e0942d711c1299ebf7b9091930adae6675d7c8f476a7ce48653c/sgmllib3k-1.0.0.tar.gz\n",
            "Requirement already satisfied: sortedcontainers in /usr/local/lib/python3.7/dist-packages (from pdfminer.six->pattern) (2.3.0)\n",
            "Collecting cryptography\n",
            "\u001b[?25l  Downloading https://files.pythonhosted.org/packages/b2/26/7af637e6a7e87258b963f1731c5982fb31cd507f0d90d91836e446955d02/cryptography-3.4.7-cp36-abi3-manylinux2014_x86_64.whl (3.2MB)\n",
            "\u001b[K     |████████████████████████████████| 3.2MB 31.4MB/s \n",
            "\u001b[?25hRequirement already satisfied: chardet; python_version > \"3.0\" in /usr/local/lib/python3.7/dist-packages (from pdfminer.six->pattern) (3.0.4)\n",
            "Requirement already satisfied: six in /usr/local/lib/python3.7/dist-packages (from nltk->pattern) (1.15.0)\n",
            "Collecting portend>=2.1.1\n",
            "  Downloading https://files.pythonhosted.org/packages/b8/a1/fd29409cced540facdd29abb986d988cb1f22c8170d10022ea73af77fa55/portend-2.7.1-py3-none-any.whl\n",
            "Collecting zc.lockfile\n",
            "  Downloading https://files.pythonhosted.org/packages/6c/2a/268389776288f0f26c7272c70c36c96dcc0bdb88ab6216ea18e19df1fadd/zc.lockfile-2.0-py2.py3-none-any.whl\n",
            "Requirement already satisfied: more-itertools in /usr/local/lib/python3.7/dist-packages (from cherrypy->pattern) (8.7.0)\n",
            "Collecting cheroot>=8.2.1\n",
            "\u001b[?25l  Downloading https://files.pythonhosted.org/packages/46/95/86fe6480af78fea7b0e7e1bf02e6acd4cb9e561ea200bd6d6e1398fe5426/cheroot-8.5.2-py2.py3-none-any.whl (97kB)\n",
            "\u001b[K     |████████████████████████████████| 102kB 9.8MB/s \n",
            "\u001b[?25hCollecting jaraco.collections\n",
            "  Downloading https://files.pythonhosted.org/packages/d5/1a/a0d6861d2aca6df92643c755966c8a60e40353e4c5e7a5c2f4e5ed733817/jaraco.collections-3.3.0-py3-none-any.whl\n",
            "Requirement already satisfied: idna<3,>=2.5 in /usr/local/lib/python3.7/dist-packages (from requests->pattern) (2.10)\n",
            "Requirement already satisfied: urllib3!=1.25.0,!=1.25.1,<1.26,>=1.21.1 in /usr/local/lib/python3.7/dist-packages (from requests->pattern) (1.24.3)\n",
            "Requirement already satisfied: certifi>=2017.4.17 in /usr/local/lib/python3.7/dist-packages (from requests->pattern) (2020.12.5)\n",
            "Requirement already satisfied: cffi>=1.12 in /usr/local/lib/python3.7/dist-packages (from cryptography->pdfminer.six->pattern) (1.14.5)\n",
            "Collecting tempora>=1.8\n",
            "  Downloading https://files.pythonhosted.org/packages/44/83/4d5c3de53bbc463f30ab6764e27bc2e8ed9b59736e8b40d95403ff802008/tempora-4.0.2-py3-none-any.whl\n",
            "Requirement already satisfied: setuptools in /usr/local/lib/python3.7/dist-packages (from zc.lockfile->cherrypy->pattern) (56.0.0)\n",
            "Collecting jaraco.functools\n",
            "  Downloading https://files.pythonhosted.org/packages/b5/da/e51e7b58c8fe132990edd1e3ef25bcd9801eb7f91d0f642ac7f8d97e4a36/jaraco.functools-3.3.0-py3-none-any.whl\n",
            "Collecting jaraco.text\n",
            "  Downloading https://files.pythonhosted.org/packages/c1/74/2a3c4835c079df16db8a9c50263eebb0125849fee5b16de353a059b7545d/jaraco.text-3.5.0-py3-none-any.whl\n",
            "Collecting jaraco.classes\n",
            "  Downloading https://files.pythonhosted.org/packages/b8/74/bee5fc11594974746535117546404678fc7b899476e769c3c55bc0cfaa02/jaraco.classes-3.2.1-py3-none-any.whl\n",
            "Requirement already satisfied: pycparser in /usr/local/lib/python3.7/dist-packages (from cffi>=1.12->cryptography->pdfminer.six->pattern) (2.20)\n",
            "Requirement already satisfied: pytz in /usr/local/lib/python3.7/dist-packages (from tempora>=1.8->portend>=2.1.1->cherrypy->pattern) (2018.9)\n",
            "Building wheels for collected packages: pattern, mysqlclient, python-docx, sgmllib3k\n",
            "  Building wheel for pattern (setup.py) ... \u001b[?25l\u001b[?25hdone\n",
            "  Created wheel for pattern: filename=Pattern-3.6-cp37-none-any.whl size=22332724 sha256=4649d7ee1d451828eb344023fd30554bf9c718950731b9584832cd2b24abd63e\n",
            "  Stored in directory: /root/.cache/pip/wheels/dc/9a/0e/5fb1a603ed4e3aa8722a88e9cf4a82da7d1b63e3d2cc34bee5\n",
            "  Building wheel for mysqlclient (setup.py) ... \u001b[?25l\u001b[?25hdone\n",
            "  Created wheel for mysqlclient: filename=mysqlclient-2.0.3-cp37-cp37m-linux_x86_64.whl size=100100 sha256=5608921a4abdd1b647df1b794190d54ec4ed7720744cc08c9f4bef5597dd6bd7\n",
            "  Stored in directory: /root/.cache/pip/wheels/75/ca/e8/ad4e7ce3df18bcd91c7d84dd28c7c08db491a2a2360efed363\n",
            "  Building wheel for python-docx (setup.py) ... \u001b[?25l\u001b[?25hdone\n",
            "  Created wheel for python-docx: filename=python_docx-0.8.10-cp37-none-any.whl size=184491 sha256=065d709b1c0d01590e71b49fc9239ac95ba2613f11b3301f141587e92a33e058\n",
            "  Stored in directory: /root/.cache/pip/wheels/18/0b/a0/1dd62ff812c857c9e487f27d80d53d2b40531bec1acecfa47b\n",
            "  Building wheel for sgmllib3k (setup.py) ... \u001b[?25l\u001b[?25hdone\n",
            "  Created wheel for sgmllib3k: filename=sgmllib3k-1.0.0-cp37-none-any.whl size=6067 sha256=645101dce001ecaac6f7511de910a10c7ccec137e4f4fa942128654737b5c0ad\n",
            "  Stored in directory: /root/.cache/pip/wheels/f1/80/5a/444ba08a550cdd241bd9baf8bae44be750efe370adb944506a\n",
            "Successfully built pattern mysqlclient python-docx sgmllib3k\n",
            "Installing collected packages: backports.csv, mysqlclient, sgmllib3k, feedparser, cryptography, pdfminer.six, python-docx, jaraco.functools, tempora, portend, zc.lockfile, cheroot, jaraco.text, jaraco.classes, jaraco.collections, cherrypy, pattern\n",
            "Successfully installed backports.csv-1.0.7 cheroot-8.5.2 cherrypy-18.6.0 cryptography-3.4.7 feedparser-6.0.2 jaraco.classes-3.2.1 jaraco.collections-3.3.0 jaraco.functools-3.3.0 jaraco.text-3.5.0 mysqlclient-2.0.3 pattern-3.6 pdfminer.six-20201018 portend-2.7.1 python-docx-0.8.10 sgmllib3k-1.0.0 tempora-4.0.2 zc.lockfile-2.0\n"
          ],
          "name": "stdout"
        }
      ]
    },
    {
      "cell_type": "code",
      "metadata": {
        "id": "ri1yJ_oxQC_s",
        "colab": {
          "base_uri": "https://localhost:8080/"
        },
        "outputId": "5afee7f4-2f37-4512-b094-b16b3bba127d"
      },
      "source": [
        "# importing the necessary libraries\n",
        "import pandas as pd \n",
        "from pattern.en import lemma\n",
        "from sklearn.feature_extraction.text import TfidfVectorizer\n",
        "from sklearn.metrics import confusion_matrix, classification_report, accuracy_score\n",
        "from sklearn.model_selection import train_test_split \n",
        "from sklearn.preprocessing import LabelEncoder\n",
        "import matplotlib.pyplot as plt\n",
        "import demoji\n",
        "from imblearn.over_sampling import SMOTE\n",
        "import seaborn as sns\n",
        "from bs4 import BeautifulSoup \n",
        "import re\n",
        "from sklearn.feature_extraction.text import CountVectorizer\n",
        "import numpy as np\n",
        "from sklearn.ensemble import RandomForestClassifier\n",
        "from sklearn.tree import DecisionTreeClassifier\n",
        "from sklearn.model_selection import cross_val_score\n",
        "from google.colab import drive\n",
        "import nltk\n",
        "from nltk import word_tokenize, sent_tokenize\n",
        "from nltk.corpus import stopwords, wordnet    # Stopwords, and wordnet corpus\n",
        "from nltk.stem import LancasterStemmer, WordNetLemmatizer\n",
        "import string\n",
        "import contractions\n",
        "import string\n",
        "import spacy\n",
        "import unicodedata\n",
        "pd.set_option('display.max_colwidth', None)"
      ],
      "execution_count": 2,
      "outputs": [
        {
          "output_type": "stream",
          "text": [
            "/usr/local/lib/python3.7/dist-packages/sklearn/externals/six.py:31: FutureWarning: The module is deprecated in version 0.21 and will be removed in version 0.23 since we've dropped support for Python 2.7. Please rely on the official version of six (https://pypi.org/project/six/).\n",
            "  \"(https://pypi.org/project/six/).\", FutureWarning)\n",
            "/usr/local/lib/python3.7/dist-packages/sklearn/utils/deprecation.py:144: FutureWarning: The sklearn.neighbors.base module is  deprecated in version 0.22 and will be removed in version 0.24. The corresponding classes / functions should instead be imported from sklearn.neighbors. Anything that cannot be imported from sklearn.neighbors is now part of the private API.\n",
            "  warnings.warn(message, FutureWarning)\n"
          ],
          "name": "stderr"
        }
      ]
    },
    {
      "cell_type": "code",
      "metadata": {
        "colab": {
          "base_uri": "https://localhost:8080/"
        },
        "id": "BCho9q9iXwFh",
        "outputId": "24a37556-a4f9-471b-e810-79e3a011bb73"
      },
      "source": [
        "# Downloading stopwords etc \n",
        "nltk.download('stopwords')\n",
        "nltk.download('punkt')\n",
        "nltk.download('wordnet')\n",
        "demoji.download_codes()\n",
        "!python -m spacy download en"
      ],
      "execution_count": 3,
      "outputs": [
        {
          "output_type": "stream",
          "text": [
            "[nltk_data] Downloading package stopwords to /root/nltk_data...\n",
            "[nltk_data]   Unzipping corpora/stopwords.zip.\n",
            "[nltk_data] Downloading package punkt to /root/nltk_data...\n",
            "[nltk_data]   Unzipping tokenizers/punkt.zip.\n",
            "[nltk_data] Downloading package wordnet to /root/nltk_data...\n",
            "[nltk_data]   Package wordnet is already up-to-date!\n",
            "Downloading emoji data ...\n",
            "... OK (Got response in 0.17 seconds)\n",
            "Writing emoji data to /root/.demoji/codes.json ...\n",
            "... OK\n",
            "2021-04-28 18:03:47.984015: I tensorflow/stream_executor/platform/default/dso_loader.cc:49] Successfully opened dynamic library libcudart.so.11.0\n",
            "⚠ As of spaCy v3.0, shortcuts like 'en' are deprecated. Please use the\n",
            "full pipeline package name 'en_core_web_sm' instead.\n",
            "Collecting en-core-web-sm==3.0.0\n",
            "\u001b[?25l  Downloading https://github.com/explosion/spacy-models/releases/download/en_core_web_sm-3.0.0/en_core_web_sm-3.0.0-py3-none-any.whl (13.7MB)\n",
            "     |████████████████████████████████| 13.7MB 277kB/s \n",
            "\u001b[?25hRequirement already satisfied: spacy<3.1.0,>=3.0.0 in /usr/local/lib/python3.7/dist-packages (from en-core-web-sm==3.0.0) (3.0.6)\n",
            "Requirement already satisfied: preshed<3.1.0,>=3.0.2 in /usr/local/lib/python3.7/dist-packages (from spacy<3.1.0,>=3.0.0->en-core-web-sm==3.0.0) (3.0.5)\n",
            "Requirement already satisfied: thinc<8.1.0,>=8.0.3 in /usr/local/lib/python3.7/dist-packages (from spacy<3.1.0,>=3.0.0->en-core-web-sm==3.0.0) (8.0.3)\n",
            "Requirement already satisfied: catalogue<2.1.0,>=2.0.3 in /usr/local/lib/python3.7/dist-packages (from spacy<3.1.0,>=3.0.0->en-core-web-sm==3.0.0) (2.0.3)\n",
            "Requirement already satisfied: murmurhash<1.1.0,>=0.28.0 in /usr/local/lib/python3.7/dist-packages (from spacy<3.1.0,>=3.0.0->en-core-web-sm==3.0.0) (1.0.5)\n",
            "Requirement already satisfied: packaging>=20.0 in /usr/local/lib/python3.7/dist-packages (from spacy<3.1.0,>=3.0.0->en-core-web-sm==3.0.0) (20.9)\n",
            "Requirement already satisfied: tqdm<5.0.0,>=4.38.0 in /usr/local/lib/python3.7/dist-packages (from spacy<3.1.0,>=3.0.0->en-core-web-sm==3.0.0) (4.41.1)\n",
            "Requirement already satisfied: blis<0.8.0,>=0.4.0 in /usr/local/lib/python3.7/dist-packages (from spacy<3.1.0,>=3.0.0->en-core-web-sm==3.0.0) (0.4.1)\n",
            "Requirement already satisfied: srsly<3.0.0,>=2.4.1 in /usr/local/lib/python3.7/dist-packages (from spacy<3.1.0,>=3.0.0->en-core-web-sm==3.0.0) (2.4.1)\n",
            "Requirement already satisfied: typer<0.4.0,>=0.3.0 in /usr/local/lib/python3.7/dist-packages (from spacy<3.1.0,>=3.0.0->en-core-web-sm==3.0.0) (0.3.2)\n",
            "Requirement already satisfied: wasabi<1.1.0,>=0.8.1 in /usr/local/lib/python3.7/dist-packages (from spacy<3.1.0,>=3.0.0->en-core-web-sm==3.0.0) (0.8.2)\n",
            "Requirement already satisfied: numpy>=1.15.0 in /usr/local/lib/python3.7/dist-packages (from spacy<3.1.0,>=3.0.0->en-core-web-sm==3.0.0) (1.19.5)\n",
            "Requirement already satisfied: setuptools in /usr/local/lib/python3.7/dist-packages (from spacy<3.1.0,>=3.0.0->en-core-web-sm==3.0.0) (56.0.0)\n",
            "Requirement already satisfied: jinja2 in /usr/local/lib/python3.7/dist-packages (from spacy<3.1.0,>=3.0.0->en-core-web-sm==3.0.0) (2.11.3)\n",
            "Requirement already satisfied: pathy>=0.3.5 in /usr/local/lib/python3.7/dist-packages (from spacy<3.1.0,>=3.0.0->en-core-web-sm==3.0.0) (0.5.2)\n",
            "Requirement already satisfied: typing-extensions<4.0.0.0,>=3.7.4; python_version < \"3.8\" in /usr/local/lib/python3.7/dist-packages (from spacy<3.1.0,>=3.0.0->en-core-web-sm==3.0.0) (3.7.4.3)\n",
            "Requirement already satisfied: spacy-legacy<3.1.0,>=3.0.4 in /usr/local/lib/python3.7/dist-packages (from spacy<3.1.0,>=3.0.0->en-core-web-sm==3.0.0) (3.0.5)\n",
            "Requirement already satisfied: pydantic<1.8.0,>=1.7.1 in /usr/local/lib/python3.7/dist-packages (from spacy<3.1.0,>=3.0.0->en-core-web-sm==3.0.0) (1.7.3)\n",
            "Requirement already satisfied: cymem<2.1.0,>=2.0.2 in /usr/local/lib/python3.7/dist-packages (from spacy<3.1.0,>=3.0.0->en-core-web-sm==3.0.0) (2.0.5)\n",
            "Requirement already satisfied: requests<3.0.0,>=2.13.0 in /usr/local/lib/python3.7/dist-packages (from spacy<3.1.0,>=3.0.0->en-core-web-sm==3.0.0) (2.23.0)\n",
            "Requirement already satisfied: zipp>=0.5; python_version < \"3.8\" in /usr/local/lib/python3.7/dist-packages (from catalogue<2.1.0,>=2.0.3->spacy<3.1.0,>=3.0.0->en-core-web-sm==3.0.0) (3.4.1)\n",
            "Requirement already satisfied: pyparsing>=2.0.2 in /usr/local/lib/python3.7/dist-packages (from packaging>=20.0->spacy<3.1.0,>=3.0.0->en-core-web-sm==3.0.0) (2.4.7)\n",
            "Requirement already satisfied: click<7.2.0,>=7.1.1 in /usr/local/lib/python3.7/dist-packages (from typer<0.4.0,>=0.3.0->spacy<3.1.0,>=3.0.0->en-core-web-sm==3.0.0) (7.1.2)\n",
            "Requirement already satisfied: MarkupSafe>=0.23 in /usr/local/lib/python3.7/dist-packages (from jinja2->spacy<3.1.0,>=3.0.0->en-core-web-sm==3.0.0) (1.1.1)\n",
            "Requirement already satisfied: smart-open<4.0.0,>=2.2.0 in /usr/local/lib/python3.7/dist-packages (from pathy>=0.3.5->spacy<3.1.0,>=3.0.0->en-core-web-sm==3.0.0) (3.0.0)\n",
            "Requirement already satisfied: certifi>=2017.4.17 in /usr/local/lib/python3.7/dist-packages (from requests<3.0.0,>=2.13.0->spacy<3.1.0,>=3.0.0->en-core-web-sm==3.0.0) (2020.12.5)\n",
            "Requirement already satisfied: chardet<4,>=3.0.2 in /usr/local/lib/python3.7/dist-packages (from requests<3.0.0,>=2.13.0->spacy<3.1.0,>=3.0.0->en-core-web-sm==3.0.0) (3.0.4)\n",
            "Requirement already satisfied: idna<3,>=2.5 in /usr/local/lib/python3.7/dist-packages (from requests<3.0.0,>=2.13.0->spacy<3.1.0,>=3.0.0->en-core-web-sm==3.0.0) (2.10)\n",
            "Requirement already satisfied: urllib3!=1.25.0,!=1.25.1,<1.26,>=1.21.1 in /usr/local/lib/python3.7/dist-packages (from requests<3.0.0,>=2.13.0->spacy<3.1.0,>=3.0.0->en-core-web-sm==3.0.0) (1.24.3)\n",
            "Installing collected packages: en-core-web-sm\n",
            "  Found existing installation: en-core-web-sm 2.2.5\n",
            "    Uninstalling en-core-web-sm-2.2.5:\n",
            "      Successfully uninstalled en-core-web-sm-2.2.5\n",
            "Successfully installed en-core-web-sm-3.0.0\n",
            "✔ Download and installation successful\n",
            "You can now load the package via spacy.load('en_core_web_sm')\n"
          ],
          "name": "stdout"
        }
      ]
    },
    {
      "cell_type": "code",
      "metadata": {
        "id": "4mGrPFXuukwf"
      },
      "source": [
        "# Spacy \n",
        "sp = spacy.load('en_core_web_sm')"
      ],
      "execution_count": 4,
      "outputs": []
    },
    {
      "cell_type": "code",
      "metadata": {
        "colab": {
          "base_uri": "https://localhost:8080/"
        },
        "id": "GVzeECfVTNXv",
        "outputId": "d3a1a6c1-5e55-4fdd-c940-d286833033e2"
      },
      "source": [
        "# Mount Google Drive\n",
        "drive.mount('/content/drive')"
      ],
      "execution_count": 5,
      "outputs": [
        {
          "output_type": "stream",
          "text": [
            "Mounted at /content/drive\n"
          ],
          "name": "stdout"
        }
      ]
    },
    {
      "cell_type": "code",
      "metadata": {
        "id": "69ofYXIXTZOh"
      },
      "source": [
        "# Path to csv file\n",
        "tweets_path = \"/content/drive/My Drive/NLP/Tweets.csv\""
      ],
      "execution_count": 6,
      "outputs": []
    },
    {
      "cell_type": "code",
      "metadata": {
        "id": "55zuMypDSYdN"
      },
      "source": [
        " # Loading csv    \n",
        "tweets_csv = pd.read_csv(tweets_path)"
      ],
      "execution_count": 7,
      "outputs": []
    },
    {
      "cell_type": "code",
      "metadata": {
        "colab": {
          "base_uri": "https://localhost:8080/"
        },
        "id": "npn90zUQQC_t",
        "outputId": "95ac92ef-2d8b-481d-85e0-6d62c96f4304"
      },
      "source": [
        "# 14640 rows and 15 columns\n",
        "tweets_csv.shape"
      ],
      "execution_count": 8,
      "outputs": [
        {
          "output_type": "execute_result",
          "data": {
            "text/plain": [
              "(14640, 15)"
            ]
          },
          "metadata": {
            "tags": []
          },
          "execution_count": 8
        }
      ]
    },
    {
      "cell_type": "code",
      "metadata": {
        "colab": {
          "base_uri": "https://localhost:8080/",
          "height": 632
        },
        "id": "IQZHyA6-WKnK",
        "outputId": "c699b8fa-f781-4464-dc06-f09cbe4f0536"
      },
      "source": [
        "# Displaying top 5 rows\n",
        "tweets_csv.head(5)"
      ],
      "execution_count": 9,
      "outputs": [
        {
          "output_type": "execute_result",
          "data": {
            "text/html": [
              "<div>\n",
              "<style scoped>\n",
              "    .dataframe tbody tr th:only-of-type {\n",
              "        vertical-align: middle;\n",
              "    }\n",
              "\n",
              "    .dataframe tbody tr th {\n",
              "        vertical-align: top;\n",
              "    }\n",
              "\n",
              "    .dataframe thead th {\n",
              "        text-align: right;\n",
              "    }\n",
              "</style>\n",
              "<table border=\"1\" class=\"dataframe\">\n",
              "  <thead>\n",
              "    <tr style=\"text-align: right;\">\n",
              "      <th></th>\n",
              "      <th>tweet_id</th>\n",
              "      <th>airline_sentiment</th>\n",
              "      <th>airline_sentiment_confidence</th>\n",
              "      <th>negativereason</th>\n",
              "      <th>negativereason_confidence</th>\n",
              "      <th>airline</th>\n",
              "      <th>airline_sentiment_gold</th>\n",
              "      <th>name</th>\n",
              "      <th>negativereason_gold</th>\n",
              "      <th>retweet_count</th>\n",
              "      <th>text</th>\n",
              "      <th>tweet_coord</th>\n",
              "      <th>tweet_created</th>\n",
              "      <th>tweet_location</th>\n",
              "      <th>user_timezone</th>\n",
              "    </tr>\n",
              "  </thead>\n",
              "  <tbody>\n",
              "    <tr>\n",
              "      <th>0</th>\n",
              "      <td>570306133677760513</td>\n",
              "      <td>neutral</td>\n",
              "      <td>1.0000</td>\n",
              "      <td>NaN</td>\n",
              "      <td>NaN</td>\n",
              "      <td>Virgin America</td>\n",
              "      <td>NaN</td>\n",
              "      <td>cairdin</td>\n",
              "      <td>NaN</td>\n",
              "      <td>0</td>\n",
              "      <td>@VirginAmerica What @dhepburn said.</td>\n",
              "      <td>NaN</td>\n",
              "      <td>2015-02-24 11:35:52 -0800</td>\n",
              "      <td>NaN</td>\n",
              "      <td>Eastern Time (US &amp; Canada)</td>\n",
              "    </tr>\n",
              "    <tr>\n",
              "      <th>1</th>\n",
              "      <td>570301130888122368</td>\n",
              "      <td>positive</td>\n",
              "      <td>0.3486</td>\n",
              "      <td>NaN</td>\n",
              "      <td>0.0000</td>\n",
              "      <td>Virgin America</td>\n",
              "      <td>NaN</td>\n",
              "      <td>jnardino</td>\n",
              "      <td>NaN</td>\n",
              "      <td>0</td>\n",
              "      <td>@VirginAmerica plus you've added commercials to the experience... tacky.</td>\n",
              "      <td>NaN</td>\n",
              "      <td>2015-02-24 11:15:59 -0800</td>\n",
              "      <td>NaN</td>\n",
              "      <td>Pacific Time (US &amp; Canada)</td>\n",
              "    </tr>\n",
              "    <tr>\n",
              "      <th>2</th>\n",
              "      <td>570301083672813571</td>\n",
              "      <td>neutral</td>\n",
              "      <td>0.6837</td>\n",
              "      <td>NaN</td>\n",
              "      <td>NaN</td>\n",
              "      <td>Virgin America</td>\n",
              "      <td>NaN</td>\n",
              "      <td>yvonnalynn</td>\n",
              "      <td>NaN</td>\n",
              "      <td>0</td>\n",
              "      <td>@VirginAmerica I didn't today... Must mean I need to take another trip!</td>\n",
              "      <td>NaN</td>\n",
              "      <td>2015-02-24 11:15:48 -0800</td>\n",
              "      <td>Lets Play</td>\n",
              "      <td>Central Time (US &amp; Canada)</td>\n",
              "    </tr>\n",
              "    <tr>\n",
              "      <th>3</th>\n",
              "      <td>570301031407624196</td>\n",
              "      <td>negative</td>\n",
              "      <td>1.0000</td>\n",
              "      <td>Bad Flight</td>\n",
              "      <td>0.7033</td>\n",
              "      <td>Virgin America</td>\n",
              "      <td>NaN</td>\n",
              "      <td>jnardino</td>\n",
              "      <td>NaN</td>\n",
              "      <td>0</td>\n",
              "      <td>@VirginAmerica it's really aggressive to blast obnoxious \"entertainment\" in your guests' faces &amp;amp; they have little recourse</td>\n",
              "      <td>NaN</td>\n",
              "      <td>2015-02-24 11:15:36 -0800</td>\n",
              "      <td>NaN</td>\n",
              "      <td>Pacific Time (US &amp; Canada)</td>\n",
              "    </tr>\n",
              "    <tr>\n",
              "      <th>4</th>\n",
              "      <td>570300817074462722</td>\n",
              "      <td>negative</td>\n",
              "      <td>1.0000</td>\n",
              "      <td>Can't Tell</td>\n",
              "      <td>1.0000</td>\n",
              "      <td>Virgin America</td>\n",
              "      <td>NaN</td>\n",
              "      <td>jnardino</td>\n",
              "      <td>NaN</td>\n",
              "      <td>0</td>\n",
              "      <td>@VirginAmerica and it's a really big bad thing about it</td>\n",
              "      <td>NaN</td>\n",
              "      <td>2015-02-24 11:14:45 -0800</td>\n",
              "      <td>NaN</td>\n",
              "      <td>Pacific Time (US &amp; Canada)</td>\n",
              "    </tr>\n",
              "  </tbody>\n",
              "</table>\n",
              "</div>"
            ],
            "text/plain": [
              "             tweet_id  ...               user_timezone\n",
              "0  570306133677760513  ...  Eastern Time (US & Canada)\n",
              "1  570301130888122368  ...  Pacific Time (US & Canada)\n",
              "2  570301083672813571  ...  Central Time (US & Canada)\n",
              "3  570301031407624196  ...  Pacific Time (US & Canada)\n",
              "4  570300817074462722  ...  Pacific Time (US & Canada)\n",
              "\n",
              "[5 rows x 15 columns]"
            ]
          },
          "metadata": {
            "tags": []
          },
          "execution_count": 9
        }
      ]
    },
    {
      "cell_type": "code",
      "metadata": {
        "colab": {
          "base_uri": "https://localhost:8080/",
          "height": 173
        },
        "id": "QjA_o6oLWOlC",
        "outputId": "a9c8a7cb-1d1b-4150-c4c1-d5c7ace4578b"
      },
      "source": [
        "# Describing data \n",
        "tweets_csv.describe().T"
      ],
      "execution_count": 10,
      "outputs": [
        {
          "output_type": "execute_result",
          "data": {
            "text/html": [
              "<div>\n",
              "<style scoped>\n",
              "    .dataframe tbody tr th:only-of-type {\n",
              "        vertical-align: middle;\n",
              "    }\n",
              "\n",
              "    .dataframe tbody tr th {\n",
              "        vertical-align: top;\n",
              "    }\n",
              "\n",
              "    .dataframe thead th {\n",
              "        text-align: right;\n",
              "    }\n",
              "</style>\n",
              "<table border=\"1\" class=\"dataframe\">\n",
              "  <thead>\n",
              "    <tr style=\"text-align: right;\">\n",
              "      <th></th>\n",
              "      <th>count</th>\n",
              "      <th>mean</th>\n",
              "      <th>std</th>\n",
              "      <th>min</th>\n",
              "      <th>25%</th>\n",
              "      <th>50%</th>\n",
              "      <th>75%</th>\n",
              "      <th>max</th>\n",
              "    </tr>\n",
              "  </thead>\n",
              "  <tbody>\n",
              "    <tr>\n",
              "      <th>tweet_id</th>\n",
              "      <td>14640.0</td>\n",
              "      <td>5.692184e+17</td>\n",
              "      <td>7.791112e+14</td>\n",
              "      <td>5.675883e+17</td>\n",
              "      <td>5.685592e+17</td>\n",
              "      <td>5.694779e+17</td>\n",
              "      <td>5.698905e+17</td>\n",
              "      <td>5.703106e+17</td>\n",
              "    </tr>\n",
              "    <tr>\n",
              "      <th>airline_sentiment_confidence</th>\n",
              "      <td>14640.0</td>\n",
              "      <td>9.001689e-01</td>\n",
              "      <td>1.628300e-01</td>\n",
              "      <td>3.350000e-01</td>\n",
              "      <td>6.923000e-01</td>\n",
              "      <td>1.000000e+00</td>\n",
              "      <td>1.000000e+00</td>\n",
              "      <td>1.000000e+00</td>\n",
              "    </tr>\n",
              "    <tr>\n",
              "      <th>negativereason_confidence</th>\n",
              "      <td>10522.0</td>\n",
              "      <td>6.382983e-01</td>\n",
              "      <td>3.304398e-01</td>\n",
              "      <td>0.000000e+00</td>\n",
              "      <td>3.606000e-01</td>\n",
              "      <td>6.706000e-01</td>\n",
              "      <td>1.000000e+00</td>\n",
              "      <td>1.000000e+00</td>\n",
              "    </tr>\n",
              "    <tr>\n",
              "      <th>retweet_count</th>\n",
              "      <td>14640.0</td>\n",
              "      <td>8.265027e-02</td>\n",
              "      <td>7.457782e-01</td>\n",
              "      <td>0.000000e+00</td>\n",
              "      <td>0.000000e+00</td>\n",
              "      <td>0.000000e+00</td>\n",
              "      <td>0.000000e+00</td>\n",
              "      <td>4.400000e+01</td>\n",
              "    </tr>\n",
              "  </tbody>\n",
              "</table>\n",
              "</div>"
            ],
            "text/plain": [
              "                                count          mean  ...           75%           max\n",
              "tweet_id                      14640.0  5.692184e+17  ...  5.698905e+17  5.703106e+17\n",
              "airline_sentiment_confidence  14640.0  9.001689e-01  ...  1.000000e+00  1.000000e+00\n",
              "negativereason_confidence     10522.0  6.382983e-01  ...  1.000000e+00  1.000000e+00\n",
              "retweet_count                 14640.0  8.265027e-02  ...  0.000000e+00  4.400000e+01\n",
              "\n",
              "[4 rows x 8 columns]"
            ]
          },
          "metadata": {
            "tags": []
          },
          "execution_count": 10
        }
      ]
    },
    {
      "cell_type": "code",
      "metadata": {
        "colab": {
          "base_uri": "https://localhost:8080/"
        },
        "id": "osGmnaKyHeYj",
        "outputId": "58f79c10-efb4-4952-8ba0-8ae95ae398e4"
      },
      "source": [
        "# Most of the datatypes are objects including text and airline_sentiment\n",
        "tweets_csv.info()"
      ],
      "execution_count": 11,
      "outputs": [
        {
          "output_type": "stream",
          "text": [
            "<class 'pandas.core.frame.DataFrame'>\n",
            "RangeIndex: 14640 entries, 0 to 14639\n",
            "Data columns (total 15 columns):\n",
            " #   Column                        Non-Null Count  Dtype  \n",
            "---  ------                        --------------  -----  \n",
            " 0   tweet_id                      14640 non-null  int64  \n",
            " 1   airline_sentiment             14640 non-null  object \n",
            " 2   airline_sentiment_confidence  14640 non-null  float64\n",
            " 3   negativereason                9178 non-null   object \n",
            " 4   negativereason_confidence     10522 non-null  float64\n",
            " 5   airline                       14640 non-null  object \n",
            " 6   airline_sentiment_gold        40 non-null     object \n",
            " 7   name                          14640 non-null  object \n",
            " 8   negativereason_gold           32 non-null     object \n",
            " 9   retweet_count                 14640 non-null  int64  \n",
            " 10  text                          14640 non-null  object \n",
            " 11  tweet_coord                   1019 non-null   object \n",
            " 12  tweet_created                 14640 non-null  object \n",
            " 13  tweet_location                9907 non-null   object \n",
            " 14  user_timezone                 9820 non-null   object \n",
            "dtypes: float64(2), int64(2), object(11)\n",
            "memory usage: 1.7+ MB\n"
          ],
          "name": "stdout"
        }
      ]
    },
    {
      "cell_type": "code",
      "metadata": {
        "colab": {
          "base_uri": "https://localhost:8080/"
        },
        "id": "t2StltgGHwTi",
        "outputId": "f91815b6-ae6f-4317-aa9d-8a7588fd002f"
      },
      "source": [
        "# The columns we will be working with \"text\" and \"airline_sentiment\" have no Null values\n",
        "tweets_csv.isnull().sum()"
      ],
      "execution_count": 12,
      "outputs": [
        {
          "output_type": "execute_result",
          "data": {
            "text/plain": [
              "tweet_id                            0\n",
              "airline_sentiment                   0\n",
              "airline_sentiment_confidence        0\n",
              "negativereason                   5462\n",
              "negativereason_confidence        4118\n",
              "airline                             0\n",
              "airline_sentiment_gold          14600\n",
              "name                                0\n",
              "negativereason_gold             14608\n",
              "retweet_count                       0\n",
              "text                                0\n",
              "tweet_coord                     13621\n",
              "tweet_created                       0\n",
              "tweet_location                   4733\n",
              "user_timezone                    4820\n",
              "dtype: int64"
            ]
          },
          "metadata": {
            "tags": []
          },
          "execution_count": 12
        }
      ]
    },
    {
      "cell_type": "code",
      "metadata": {
        "id": "Gs119OgiVqTX"
      },
      "source": [
        "# New dataframe with the 2 required columns \n",
        "tweets_df = tweets_csv[['text','airline_sentiment']]"
      ],
      "execution_count": 13,
      "outputs": []
    },
    {
      "cell_type": "code",
      "metadata": {
        "colab": {
          "base_uri": "https://localhost:8080/"
        },
        "id": "husFsZZRV8vr",
        "outputId": "93037889-a2ea-4cfd-bedf-29405175cf45"
      },
      "source": [
        "# Shape of 14640 rows and 2 columns\n",
        "tweets_df.shape"
      ],
      "execution_count": 14,
      "outputs": [
        {
          "output_type": "execute_result",
          "data": {
            "text/plain": [
              "(14640, 2)"
            ]
          },
          "metadata": {
            "tags": []
          },
          "execution_count": 14
        }
      ]
    },
    {
      "cell_type": "code",
      "metadata": {
        "colab": {
          "base_uri": "https://localhost:8080/",
          "height": 204
        },
        "id": "DogC7DzjWBJJ",
        "outputId": "ebd37664-ffed-43c2-ef67-73cd80797b3c"
      },
      "source": [
        "# Displaying the first 5 rows\n",
        "tweets_df.head(5)"
      ],
      "execution_count": 15,
      "outputs": [
        {
          "output_type": "execute_result",
          "data": {
            "text/html": [
              "<div>\n",
              "<style scoped>\n",
              "    .dataframe tbody tr th:only-of-type {\n",
              "        vertical-align: middle;\n",
              "    }\n",
              "\n",
              "    .dataframe tbody tr th {\n",
              "        vertical-align: top;\n",
              "    }\n",
              "\n",
              "    .dataframe thead th {\n",
              "        text-align: right;\n",
              "    }\n",
              "</style>\n",
              "<table border=\"1\" class=\"dataframe\">\n",
              "  <thead>\n",
              "    <tr style=\"text-align: right;\">\n",
              "      <th></th>\n",
              "      <th>text</th>\n",
              "      <th>airline_sentiment</th>\n",
              "    </tr>\n",
              "  </thead>\n",
              "  <tbody>\n",
              "    <tr>\n",
              "      <th>0</th>\n",
              "      <td>@VirginAmerica What @dhepburn said.</td>\n",
              "      <td>neutral</td>\n",
              "    </tr>\n",
              "    <tr>\n",
              "      <th>1</th>\n",
              "      <td>@VirginAmerica plus you've added commercials to the experience... tacky.</td>\n",
              "      <td>positive</td>\n",
              "    </tr>\n",
              "    <tr>\n",
              "      <th>2</th>\n",
              "      <td>@VirginAmerica I didn't today... Must mean I need to take another trip!</td>\n",
              "      <td>neutral</td>\n",
              "    </tr>\n",
              "    <tr>\n",
              "      <th>3</th>\n",
              "      <td>@VirginAmerica it's really aggressive to blast obnoxious \"entertainment\" in your guests' faces &amp;amp; they have little recourse</td>\n",
              "      <td>negative</td>\n",
              "    </tr>\n",
              "    <tr>\n",
              "      <th>4</th>\n",
              "      <td>@VirginAmerica and it's a really big bad thing about it</td>\n",
              "      <td>negative</td>\n",
              "    </tr>\n",
              "  </tbody>\n",
              "</table>\n",
              "</div>"
            ],
            "text/plain": [
              "                                                                                                                             text airline_sentiment\n",
              "0                                                                                             @VirginAmerica What @dhepburn said.           neutral\n",
              "1                                                        @VirginAmerica plus you've added commercials to the experience... tacky.          positive\n",
              "2                                                         @VirginAmerica I didn't today... Must mean I need to take another trip!           neutral\n",
              "3  @VirginAmerica it's really aggressive to blast obnoxious \"entertainment\" in your guests' faces &amp; they have little recourse          negative\n",
              "4                                                                         @VirginAmerica and it's a really big bad thing about it          negative"
            ]
          },
          "metadata": {
            "tags": []
          },
          "execution_count": 15
        }
      ]
    },
    {
      "cell_type": "code",
      "metadata": {
        "colab": {
          "base_uri": "https://localhost:8080/"
        },
        "id": "pGj7PkZyMadH",
        "outputId": "3f3ed21a-f61c-41df-aa14-8830223e3586"
      },
      "source": [
        "# Not very evenly distributed will use SMOTE to upsample later on\n",
        "tweets_df['airline_sentiment'].value_counts()"
      ],
      "execution_count": 16,
      "outputs": [
        {
          "output_type": "execute_result",
          "data": {
            "text/plain": [
              "negative    9178\n",
              "neutral     3099\n",
              "positive    2363\n",
              "Name: airline_sentiment, dtype: int64"
            ]
          },
          "metadata": {
            "tags": []
          },
          "execution_count": 16
        }
      ]
    },
    {
      "cell_type": "code",
      "metadata": {
        "id": "ZjyS9ow16W20"
      },
      "source": [
        "# Function to extract airlines, we could have used the airline column but saw that the Delta rows have VirginAmerica in text and chose to extract from text\n",
        "airline_list = ['@americanair','@jetblue','@southwestair','@united','@usairways','@virginamerica','@deltaassist']\n",
        "def get_Entity(enti):\n",
        "  listToStr =re.findall('@\\w+', enti)\n",
        "  for x in listToStr:\n",
        "    x_lower = x.lower()\n",
        "    if x_lower in airline_list:\n",
        "      clean_list_str = re.sub('@',\"\",x_lower)\n",
        "      return clean_list_str.lower()\n",
        "    "
      ],
      "execution_count": 17,
      "outputs": []
    },
    {
      "cell_type": "code",
      "metadata": {
        "colab": {
          "base_uri": "https://localhost:8080/"
        },
        "id": "IU0WEYO26cXz",
        "outputId": "2893b1ac-e4ee-4972-c543-92590815e318"
      },
      "source": [
        "# Creating a new column for company\n",
        "tweets_df['Company'] = tweets_df['text'].apply(lambda x: get_Entity(x))"
      ],
      "execution_count": 18,
      "outputs": [
        {
          "output_type": "stream",
          "text": [
            "/usr/local/lib/python3.7/dist-packages/ipykernel_launcher.py:2: SettingWithCopyWarning: \n",
            "A value is trying to be set on a copy of a slice from a DataFrame.\n",
            "Try using .loc[row_indexer,col_indexer] = value instead\n",
            "\n",
            "See the caveats in the documentation: https://pandas.pydata.org/pandas-docs/stable/user_guide/indexing.html#returning-a-view-versus-a-copy\n",
            "  \n"
          ],
          "name": "stderr"
        }
      ]
    },
    {
      "cell_type": "code",
      "metadata": {
        "colab": {
          "base_uri": "https://localhost:8080/"
        },
        "id": "Z6pT8r06FF4r",
        "outputId": "79b62ca5-b7d7-4db8-8a72-d1e4a011617c"
      },
      "source": [
        "# Getting unique companies\n",
        "tweets_df['Company'].unique()"
      ],
      "execution_count": 19,
      "outputs": [
        {
          "output_type": "execute_result",
          "data": {
            "text/plain": [
              "array(['virginamerica', 'united', 'southwestair', 'jetblue', None,\n",
              "       'usairways', 'americanair', 'deltaassist'], dtype=object)"
            ]
          },
          "metadata": {
            "tags": []
          },
          "execution_count": 19
        }
      ]
    },
    {
      "cell_type": "code",
      "metadata": {
        "colab": {
          "base_uri": "https://localhost:8080/",
          "height": 204
        },
        "id": "ub8qLWzy_KU9",
        "outputId": "3d8401a0-ac34-4b82-ad58-22a1fe658fce"
      },
      "source": [
        "# Displaying top 5 rows\n",
        "tweets_df.head(5)"
      ],
      "execution_count": 20,
      "outputs": [
        {
          "output_type": "execute_result",
          "data": {
            "text/html": [
              "<div>\n",
              "<style scoped>\n",
              "    .dataframe tbody tr th:only-of-type {\n",
              "        vertical-align: middle;\n",
              "    }\n",
              "\n",
              "    .dataframe tbody tr th {\n",
              "        vertical-align: top;\n",
              "    }\n",
              "\n",
              "    .dataframe thead th {\n",
              "        text-align: right;\n",
              "    }\n",
              "</style>\n",
              "<table border=\"1\" class=\"dataframe\">\n",
              "  <thead>\n",
              "    <tr style=\"text-align: right;\">\n",
              "      <th></th>\n",
              "      <th>text</th>\n",
              "      <th>airline_sentiment</th>\n",
              "      <th>Company</th>\n",
              "    </tr>\n",
              "  </thead>\n",
              "  <tbody>\n",
              "    <tr>\n",
              "      <th>0</th>\n",
              "      <td>@VirginAmerica What @dhepburn said.</td>\n",
              "      <td>neutral</td>\n",
              "      <td>virginamerica</td>\n",
              "    </tr>\n",
              "    <tr>\n",
              "      <th>1</th>\n",
              "      <td>@VirginAmerica plus you've added commercials to the experience... tacky.</td>\n",
              "      <td>positive</td>\n",
              "      <td>virginamerica</td>\n",
              "    </tr>\n",
              "    <tr>\n",
              "      <th>2</th>\n",
              "      <td>@VirginAmerica I didn't today... Must mean I need to take another trip!</td>\n",
              "      <td>neutral</td>\n",
              "      <td>virginamerica</td>\n",
              "    </tr>\n",
              "    <tr>\n",
              "      <th>3</th>\n",
              "      <td>@VirginAmerica it's really aggressive to blast obnoxious \"entertainment\" in your guests' faces &amp;amp; they have little recourse</td>\n",
              "      <td>negative</td>\n",
              "      <td>virginamerica</td>\n",
              "    </tr>\n",
              "    <tr>\n",
              "      <th>4</th>\n",
              "      <td>@VirginAmerica and it's a really big bad thing about it</td>\n",
              "      <td>negative</td>\n",
              "      <td>virginamerica</td>\n",
              "    </tr>\n",
              "  </tbody>\n",
              "</table>\n",
              "</div>"
            ],
            "text/plain": [
              "                                                                                                                             text  ...        Company\n",
              "0                                                                                             @VirginAmerica What @dhepburn said.  ...  virginamerica\n",
              "1                                                        @VirginAmerica plus you've added commercials to the experience... tacky.  ...  virginamerica\n",
              "2                                                         @VirginAmerica I didn't today... Must mean I need to take another trip!  ...  virginamerica\n",
              "3  @VirginAmerica it's really aggressive to blast obnoxious \"entertainment\" in your guests' faces &amp; they have little recourse  ...  virginamerica\n",
              "4                                                                         @VirginAmerica and it's a really big bad thing about it  ...  virginamerica\n",
              "\n",
              "[5 rows x 3 columns]"
            ]
          },
          "metadata": {
            "tags": []
          },
          "execution_count": 20
        }
      ]
    },
    {
      "cell_type": "code",
      "metadata": {
        "colab": {
          "base_uri": "https://localhost:8080/",
          "height": 128
        },
        "id": "Sh_Tre3pC2pk",
        "outputId": "7204e02c-4684-4303-bf93-cb24eb4a9e6b"
      },
      "source": [
        "# Two text fields do not have airline info\n",
        "tweets_df[tweets_df['Company'].isna()]"
      ],
      "execution_count": 21,
      "outputs": [
        {
          "output_type": "execute_result",
          "data": {
            "text/html": [
              "<div>\n",
              "<style scoped>\n",
              "    .dataframe tbody tr th:only-of-type {\n",
              "        vertical-align: middle;\n",
              "    }\n",
              "\n",
              "    .dataframe tbody tr th {\n",
              "        vertical-align: top;\n",
              "    }\n",
              "\n",
              "    .dataframe thead th {\n",
              "        text-align: right;\n",
              "    }\n",
              "</style>\n",
              "<table border=\"1\" class=\"dataframe\">\n",
              "  <thead>\n",
              "    <tr style=\"text-align: right;\">\n",
              "      <th></th>\n",
              "      <th>text</th>\n",
              "      <th>airline_sentiment</th>\n",
              "      <th>Company</th>\n",
              "    </tr>\n",
              "  </thead>\n",
              "  <tbody>\n",
              "    <tr>\n",
              "      <th>7330</th>\n",
              "      <td>@shannonwoodward If you want, we can keep you updated on who's wearing who, &amp;amp; who's with who, &amp;amp; who wins what. We're nice like that. ;)</td>\n",
              "      <td>neutral</td>\n",
              "      <td>None</td>\n",
              "    </tr>\n",
              "    <tr>\n",
              "      <th>8215</th>\n",
              "      <td>@NinaDavuluri We think it's a treat to have you onboard! Enjoy your flight. 💙</td>\n",
              "      <td>positive</td>\n",
              "      <td>None</td>\n",
              "    </tr>\n",
              "  </tbody>\n",
              "</table>\n",
              "</div>"
            ],
            "text/plain": [
              "                                                                                                                                                 text  ... Company\n",
              "7330  @shannonwoodward If you want, we can keep you updated on who's wearing who, &amp; who's with who, &amp; who wins what. We're nice like that. ;)  ...    None\n",
              "8215                                                                    @NinaDavuluri We think it's a treat to have you onboard! Enjoy your flight. 💙  ...    None\n",
              "\n",
              "[2 rows x 3 columns]"
            ]
          },
          "metadata": {
            "tags": []
          },
          "execution_count": 21
        }
      ]
    },
    {
      "cell_type": "code",
      "metadata": {
        "colab": {
          "base_uri": "https://localhost:8080/"
        },
        "id": "I9IS2ClEJZ4U",
        "outputId": "eb39f3ed-c930-44a6-9c62-1a6b5c6ca31a"
      },
      "source": [
        "# Looking it up in the original dataframe by index, intersting the airline column shows Delta the text shows jetblue seems the airline column may be wrong\n",
        "print(tweets_csv[\"airline\"].iloc[7330])\n",
        "print(tweets_csv[\"airline\"].iloc[8215])"
      ],
      "execution_count": 22,
      "outputs": [
        {
          "output_type": "stream",
          "text": [
            "Delta\n",
            "Delta\n"
          ],
          "name": "stdout"
        }
      ]
    },
    {
      "cell_type": "code",
      "metadata": {
        "colab": {
          "base_uri": "https://localhost:8080/",
          "height": 669
        },
        "id": "WCUNOx9iEUR6",
        "outputId": "499ea222-7241-47b8-a0c3-1790fe5edf59"
      },
      "source": [
        "# Count on sentiment by airline\n",
        "grouped_df = tweets_df.groupby([\"Company\", \"airline_sentiment\"]).count()\n",
        "grouped_df.head(100)"
      ],
      "execution_count": 25,
      "outputs": [
        {
          "output_type": "execute_result",
          "data": {
            "text/html": [
              "<div>\n",
              "<style scoped>\n",
              "    .dataframe tbody tr th:only-of-type {\n",
              "        vertical-align: middle;\n",
              "    }\n",
              "\n",
              "    .dataframe tbody tr th {\n",
              "        vertical-align: top;\n",
              "    }\n",
              "\n",
              "    .dataframe thead th {\n",
              "        text-align: right;\n",
              "    }\n",
              "</style>\n",
              "<table border=\"1\" class=\"dataframe\">\n",
              "  <thead>\n",
              "    <tr style=\"text-align: right;\">\n",
              "      <th></th>\n",
              "      <th></th>\n",
              "      <th>text</th>\n",
              "    </tr>\n",
              "    <tr>\n",
              "      <th>Company</th>\n",
              "      <th>airline_sentiment</th>\n",
              "      <th></th>\n",
              "    </tr>\n",
              "  </thead>\n",
              "  <tbody>\n",
              "    <tr>\n",
              "      <th rowspan=\"3\" valign=\"top\">americanair</th>\n",
              "      <th>negative</th>\n",
              "      <td>1960</td>\n",
              "    </tr>\n",
              "    <tr>\n",
              "      <th>neutral</th>\n",
              "      <td>463</td>\n",
              "    </tr>\n",
              "    <tr>\n",
              "      <th>positive</th>\n",
              "      <td>336</td>\n",
              "    </tr>\n",
              "    <tr>\n",
              "      <th>deltaassist</th>\n",
              "      <th>negative</th>\n",
              "      <td>2</td>\n",
              "    </tr>\n",
              "    <tr>\n",
              "      <th rowspan=\"3\" valign=\"top\">jetblue</th>\n",
              "      <th>negative</th>\n",
              "      <td>953</td>\n",
              "    </tr>\n",
              "    <tr>\n",
              "      <th>neutral</th>\n",
              "      <td>722</td>\n",
              "    </tr>\n",
              "    <tr>\n",
              "      <th>positive</th>\n",
              "      <td>543</td>\n",
              "    </tr>\n",
              "    <tr>\n",
              "      <th rowspan=\"3\" valign=\"top\">southwestair</th>\n",
              "      <th>negative</th>\n",
              "      <td>1187</td>\n",
              "    </tr>\n",
              "    <tr>\n",
              "      <th>neutral</th>\n",
              "      <td>664</td>\n",
              "    </tr>\n",
              "    <tr>\n",
              "      <th>positive</th>\n",
              "      <td>570</td>\n",
              "    </tr>\n",
              "    <tr>\n",
              "      <th rowspan=\"3\" valign=\"top\">united</th>\n",
              "      <th>negative</th>\n",
              "      <td>2632</td>\n",
              "    </tr>\n",
              "    <tr>\n",
              "      <th>neutral</th>\n",
              "      <td>697</td>\n",
              "    </tr>\n",
              "    <tr>\n",
              "      <th>positive</th>\n",
              "      <td>492</td>\n",
              "    </tr>\n",
              "    <tr>\n",
              "      <th rowspan=\"3\" valign=\"top\">usairways</th>\n",
              "      <th>negative</th>\n",
              "      <td>2263</td>\n",
              "    </tr>\n",
              "    <tr>\n",
              "      <th>neutral</th>\n",
              "      <td>381</td>\n",
              "    </tr>\n",
              "    <tr>\n",
              "      <th>positive</th>\n",
              "      <td>269</td>\n",
              "    </tr>\n",
              "    <tr>\n",
              "      <th rowspan=\"3\" valign=\"top\">virginamerica</th>\n",
              "      <th>negative</th>\n",
              "      <td>181</td>\n",
              "    </tr>\n",
              "    <tr>\n",
              "      <th>neutral</th>\n",
              "      <td>171</td>\n",
              "    </tr>\n",
              "    <tr>\n",
              "      <th>positive</th>\n",
              "      <td>152</td>\n",
              "    </tr>\n",
              "  </tbody>\n",
              "</table>\n",
              "</div>"
            ],
            "text/plain": [
              "                                 text\n",
              "Company       airline_sentiment      \n",
              "americanair   negative           1960\n",
              "              neutral             463\n",
              "              positive            336\n",
              "deltaassist   negative              2\n",
              "jetblue       negative            953\n",
              "              neutral             722\n",
              "              positive            543\n",
              "southwestair  negative           1187\n",
              "              neutral             664\n",
              "              positive            570\n",
              "united        negative           2632\n",
              "              neutral             697\n",
              "              positive            492\n",
              "usairways     negative           2263\n",
              "              neutral             381\n",
              "              positive            269\n",
              "virginamerica negative            181\n",
              "              neutral             171\n",
              "              positive            152"
            ]
          },
          "metadata": {
            "tags": []
          },
          "execution_count": 25
        }
      ]
    },
    {
      "cell_type": "code",
      "metadata": {
        "colab": {
          "base_uri": "https://localhost:8080/",
          "height": 514
        },
        "id": "RNkeT541YE4h",
        "outputId": "c3138137-49c9-4856-8a06-1590eb893a19"
      },
      "source": [
        "# Visualize sentiment count by airline -- United, USairways and Americanair have a lot of negative comments, VirginAmerica is pretty evenly distributed\n",
        "plt.figure(figsize=(12, 8))\n",
        "sns.countplot(x='Company', hue=\"airline_sentiment\", data=tweets_df)"
      ],
      "execution_count": 26,
      "outputs": [
        {
          "output_type": "execute_result",
          "data": {
            "text/plain": [
              "<matplotlib.axes._subplots.AxesSubplot at 0x7f17c6d3e190>"
            ]
          },
          "metadata": {
            "tags": []
          },
          "execution_count": 26
        },
        {
          "output_type": "display_data",
          "data": {
            "image/png": "[encoded data removed]",
            "text/plain": [
              "<Figure size 864x576 with 1 Axes>"
            ]
          },
          "metadata": {
            "tags": [],
            "needs_background": "light"
          }
        }
      ]
    },
    {
      "cell_type": "code",
      "metadata": {
        "id": "m-FdW7xQe8MN"
      },
      "source": [
        "# Function to clean the tweets comments on each section below\n",
        "wordlemmatizer = WordNetLemmatizer()\n",
        "pattern = r'[^a-zA-z.,!?/:;\\\"\\'\\s]'\n",
        "pattern_whitespace = r'^\\s*|\\s\\s*'\n",
        "stoplist = stopwords.words('english')\n",
        "stoplist.remove('not')\n",
        "stoplist.remove('ain')\n",
        "\n",
        "def review_to_words(raw_review):\n",
        "\n",
        "    # Remove HTML\n",
        "    bsoup = BeautifulSoup(raw_review,'html.parser')\n",
        "    no_html = bsoup.get_text() \n",
        "\n",
        "    # Convert emoji into text -- not in instructions but thought it might be fun to do\n",
        "    no_emoji = demoji.replace_with_desc(no_html, sep=' ')\n",
        "   \n",
        "    # Remove company\n",
        "    #no_company = re.sub(r'^@\\w+','', no_html)\n",
        "\n",
        "    # Remove http links\n",
        "    no_links = re.sub(r'http\\S+','', no_emoji)\n",
        "  \n",
        "    # Remove Punctuation\n",
        "    no_punct = \"\".join([c for c in no_links if c not in string.punctuation])\n",
        "   \n",
        "    # Expand Contractions\n",
        "    no_contratictions = contractions.fix(no_punct)\n",
        "    \n",
        "    # Convert to lower case\n",
        "    no_upper = no_contratictions.lower()\n",
        " \n",
        "    # Remove accents\n",
        "    no_accent = unicodedata.normalize('NFKD', no_upper).encode('ascii', 'ignore').decode('utf-8', 'ignore')\n",
        "  \n",
        "    # Removing special characters and numbers\n",
        "    no_special = re.sub(pattern, '', no_accent)\n",
        "  \n",
        "    # Removing white space and tabs\n",
        "    #no_space = re.sub(pattern_whitespace, ' ', no_special).strip()\n",
        "\n",
        "    # Remove aa or one a \n",
        "    no_aa = re.sub(r'aa\\s', '', no_special)\n",
        "    no_aa = re.sub(r'aa', 'a', no_aa)\n",
        "   \n",
        "    # Tokenize\n",
        "    no_token = word_tokenize(no_aa)\n",
        "   \n",
        "    # Remove Stopwords\n",
        "    no_stop = [x for x in no_token if x not in stoplist]\n",
        "   \n",
        "    # Lemmatize\n",
        "    no_lem = [lemma(wd) for wd in no_stop]\n",
        " \n",
        "    # Joining it all back together to text\n",
        "    return_value = \" \".join(no_lem)\n",
        "\n",
        "    return  return_value     \n",
        "   \n",
        "  "
      ],
      "execution_count": 29,
      "outputs": []
    },
    {
      "cell_type": "code",
      "metadata": {
        "colab": {
          "base_uri": "https://localhost:8080/",
          "height": 326
        },
        "id": "QoZt2UXL67iv",
        "outputId": "a6c3f7e0-bd87-4a0f-f166-3a41d964f25c"
      },
      "source": [
        "# Calling the cleaning function per tweet row\n",
        "tweets_df.drop(['Company'], axis=1, inplace=True)\n",
        "tweets_df['text'] = tweets_df['text'].apply(lambda x: review_to_words(x))\n",
        "tweets_df.head() "
      ],
      "execution_count": 31,
      "outputs": [
        {
          "output_type": "stream",
          "text": [
            "/usr/local/lib/python3.7/dist-packages/ipykernel_launcher.py:3: SettingWithCopyWarning: \n",
            "A value is trying to be set on a copy of a slice from a DataFrame.\n",
            "Try using .loc[row_indexer,col_indexer] = value instead\n",
            "\n",
            "See the caveats in the documentation: https://pandas.pydata.org/pandas-docs/stable/user_guide/indexing.html#returning-a-view-versus-a-copy\n",
            "  This is separate from the ipykernel package so we can avoid doing imports until\n"
          ],
          "name": "stderr"
        },
        {
          "output_type": "execute_result",
          "data": {
            "text/html": [
              "<div>\n",
              "<style scoped>\n",
              "    .dataframe tbody tr th:only-of-type {\n",
              "        vertical-align: middle;\n",
              "    }\n",
              "\n",
              "    .dataframe tbody tr th {\n",
              "        vertical-align: top;\n",
              "    }\n",
              "\n",
              "    .dataframe thead th {\n",
              "        text-align: right;\n",
              "    }\n",
              "</style>\n",
              "<table border=\"1\" class=\"dataframe\">\n",
              "  <thead>\n",
              "    <tr style=\"text-align: right;\">\n",
              "      <th></th>\n",
              "      <th>text</th>\n",
              "      <th>airline_sentiment</th>\n",
              "    </tr>\n",
              "  </thead>\n",
              "  <tbody>\n",
              "    <tr>\n",
              "      <th>0</th>\n",
              "      <td>virginamerica dhepburn say</td>\n",
              "      <td>neutral</td>\n",
              "    </tr>\n",
              "    <tr>\n",
              "      <th>1</th>\n",
              "      <td>virginamerica plu add commercial experience tacky</td>\n",
              "      <td>positive</td>\n",
              "    </tr>\n",
              "    <tr>\n",
              "      <th>2</th>\n",
              "      <td>virginamerica not today must mean need take another trip</td>\n",
              "      <td>neutral</td>\n",
              "    </tr>\n",
              "    <tr>\n",
              "      <th>3</th>\n",
              "      <td>virginamerica really aggressive blast obnoxiou entertainment guest face little recourse</td>\n",
              "      <td>negative</td>\n",
              "    </tr>\n",
              "    <tr>\n",
              "      <th>4</th>\n",
              "      <td>virginamerica really big bad thing</td>\n",
              "      <td>negative</td>\n",
              "    </tr>\n",
              "  </tbody>\n",
              "</table>\n",
              "</div>"
            ],
            "text/plain": [
              "                                                                                      text airline_sentiment\n",
              "0                                                               virginamerica dhepburn say           neutral\n",
              "1                                        virginamerica plu add commercial experience tacky          positive\n",
              "2                                 virginamerica not today must mean need take another trip           neutral\n",
              "3  virginamerica really aggressive blast obnoxiou entertainment guest face little recourse          negative\n",
              "4                                                       virginamerica really big bad thing          negative"
            ]
          },
          "metadata": {
            "tags": []
          },
          "execution_count": 31
        }
      ]
    },
    {
      "cell_type": "code",
      "metadata": {
        "id": "9f9X9phl3d1E"
      },
      "source": [
        "# Saving the result to examine\n",
        "tweets_df.to_html(\"/content/drive/My Drive/NLP/test.html\")"
      ],
      "execution_count": 32,
      "outputs": []
    },
    {
      "cell_type": "code",
      "metadata": {
        "id": "Q70_0by32XT_"
      },
      "source": [
        "# Creating a list of words\n",
        "num_sentiments = tweets_df[\"text\"].size\n",
        "clean_tweets = []\n",
        "for i in range( 0, num_sentiments ):\n",
        "   clean_tweets.append(tweets_df[\"text\"][i]) "
      ],
      "execution_count": 34,
      "outputs": []
    },
    {
      "cell_type": "code",
      "metadata": {
        "id": "bQfFWx9zJGvs"
      },
      "source": [
        "# Creating the Term Frequency count Vectorizer\n",
        "vectorizer = CountVectorizer(analyzer = \"word\", tokenizer = None, preprocessor = None, stop_words = None, max_features = 1000, ngram_range=(1,2))\n",
        "train_data_features = vectorizer.fit_transform(clean_tweets)\n",
        "train_data_features = train_data_features.toarray()"
      ],
      "execution_count": 35,
      "outputs": []
    },
    {
      "cell_type": "code",
      "metadata": {
        "colab": {
          "base_uri": "https://localhost:8080/"
        },
        "id": "yuaX0SEGJGhm",
        "outputId": "1d032cb2-04ae-4579-89fb-960b0e8be494"
      },
      "source": [
        "# Words in the vocabulary\n",
        "vocab = vectorizer.get_feature_names()\n",
        "print (vocab)"
      ],
      "execution_count": 36,
      "outputs": [
        {
          "output_type": "stream",
          "text": [
            "['able', 'able get', 'absolutely', 'accept', 'access', 'accommodate', 'account', 'actually', 'add', 'address', 'afternoon', 'agent', 'ago', 'air', 'aircraft', 'airline', 'airline ever', 'airplane', 'airport', 'airway', 'allow', 'almost', 'almost hour', 'already', 'also', 'alway', 'amaze', 'american', 'americanair', 'americanair call', 'americanair cancel', 'americanair flight', 'americanair get', 'americanair need', 'americanair not', 'americanair please', 'americanair still', 'americanair thank', 'americanair try', 'americanair usairway', 'americanair would', 'americanair ye', 'americanairline', 'angry', 'announce', 'another', 'another airline', 'another flight', 'answer', 'answer phone', 'anymore', 'anyone', 'anythe', 'anyway', 'anywhere', 'apology', 'app', 'apparently', 'apply', 'appreciate', 'area', 'around', 'arrival', 'arrive', 'ask', 'assist', 'assistance', 'atl', 'atlanta', 'attempt', 'attendant', 'attitude', 'austin', 'automate', 'available', 'award', 'away', 'awesome', 'awful', 'baby', 'back', 'bad', 'bad weather', 'bag', 'bag not', 'baggage', 'baggage claim', 'bc', 'behind', 'believe', 'best', 'better', 'beyond', 'big', 'birthday', 'bit', 'blame', 'blue', 'bna', 'bo', 'board', 'board pass', 'book', 'book flight', 'book problem', 'boston', 'break', 'bring', 'bump', 'busines', 'busy', 'buy', 'bwi', 'cabin', 'call', 'call back', 'call customer', 'can', 'can get', 'can not', 'cancel', 'cancel flight', 'cancel flightlation', 'cancel flightle', 'car', 'card', 'care', 'carry', 'case', 'catch', 'cause', 'center', 'ceo', 'chance', 'change', 'change flight', 'charge', 'charlotte', 'check', 'check bag', 'checkin', 'chicago', 'child', 'choice', 'choose', 'city', 'claim', 'clap', 'clap hand', 'class', 'clear', 'close', 'clothe', 'clt', 'club', 'code', 'cold', 'come', 'communication', 'companion', 'company', 'compensate', 'compensation', 'complaint', 'complete', 'completely', 'computer', 'concern', 'confirm', 'confirmation', 'connect', 'connect flight', 'connection', 'consider', 'contact', 'continue', 'control', 'cool', 'correct', 'cost', 'count', 'counter', 'country', 'course', 'cover', 'crazy', 'credit', 'credit card', 'crew', 'cross', 'cry', 'cry face', 'currently', 'cust', 'customer', 'customer service', 'customerservice', 'cut', 'dalla', 'date', 'daughter', 'day', 'dc', 'dca', 'deal', 'delay', 'delay cancel', 'delay due', 'delay flight', 'delay hour', 'delay not', 'deliver', 'delta', 'den', 'denver', 'depart', 'departure', 'desk', 'despite', 'destination', 'destinationdragon', 'detail', 'dfw', 'different', 'direct', 'direct flight', 'disappoint', 'disconnect', 'dividend', 'dividend mile', 'dm', 'do', 'door', 'drink', 'drive', 'drop', 'due', 'due weather', 'earlier', 'earlier flight', 'early', 'easy', 'either', 'else', 'email', 'email address', 'employee', 'empty', 'end', 'enjoy', 'enough', 'entire', 'error', 'even', 'even though', 'ever', 'every', 'every time', 'everyone', 'everythe', 'ewr', 'excellent', 'excite', 'excuse', 'expect', 'experience', 'experience ever', 'expire', 'explain', 'explanation', 'extra', 'extremely', 'eye', 'face', 'face smile', 'face tear', 'fact', 'fail', 'family', 'far', 'fare', 'fault', 'feb', 'fee', 'feed', 'feedback', 'feel', 'feel like', 'figure', 'file', 'fill', 'finally', 'finally get', 'find', 'fine', 'first', 'first class', 'first time', 'fix', 'fl', 'fleek', 'fleet', 'fleet fleek', 'flight', 'flight attendant', 'flight book', 'flight cancel', 'flight change', 'flight crew', 'flight delay', 'flight dfw', 'flight flight', 'flight get', 'flight go', 'flight hour', 'flight leave', 'flight not', 'flight still', 'flight time', 'flight today', 'flight tomorrow', 'flightlation', 'flightle', 'flightle flight', 'flightr', 'fll', 'flt', 'fly', 'fly guy', 'fly unite', 'flyer', 'fold', 'fold hand', 'folk', 'follow', 'food', 'force', 'forget', 'form', 'forward', 'four', 'free', 'freeze', 'friday', 'friend', 'friendly', 'front', 'frustrate', 'fuck', 'full', 'fun', 'future', 'gate', 'gate agent', 'get', 'get back', 'get bag', 'get call', 'get cancel', 'get email', 'get flight', 'get gate', 'get home', 'get plane', 'give', 'glad', 'go', 'go miss', 'gold', 'good', 'great', 'great flight', 'great job', 'grin', 'grin face', 'grind', 'group', 'guess', 'guy', 'haha', 'half', 'hand', 'hand fold', 'handle', 'hang', 'happen', 'happy', 'hard', 'hate', 'head', 'hear', 'heart', 'hello', 'help', 'help get', 'helpful', 'hey', 'hi', 'high', 'hire', 'hold', 'hold hour', 'hold hr', 'hold min', 'hold minute', 'home', 'hope', 'hopefully', 'horrible', 'hotel', 'hour', 'hour ago', 'hour delay', 'hour flight', 'hour hold', 'hour late', 'hour wait', 'houston', 'however', 'hr', 'hr delay', 'hr late', 'huge', 'human', 'husband', 'iad', 'iah', 'ice', 'id', 'idea', 'ill', 'imaginedragon', 'include', 'inconvenience', 'inflight', 'info', 'information', 'instead', 'international', 'issue', 'item', 'itinerary', 'jet', 'jet blue', 'jetblue', 'jetblue fleet', 'jetblue flight', 'jetblue get', 'jetblue not', 'jetblue thank', 'jetblue would', 'jfk', 'job', 'joke', 'joy', 'joy face', 'keep', 'keep get', 'kid', 'kind', 'know', 'kudo', 'la', 'lack', 'lady', 'land', 'last', 'last night', 'last time', 'late', 'late flight', 'late flightr', 'lax', 'layover', 'learn', 'least', 'leave', 'left', 'leg', 'les', 'let', 'let know', 'letter', 'lga', 'lie', 'life', 'like', 'line', 'link', 'list', 'listen', 'literally', 'little', 'live', 'load', 'lol', 'long', 'longer', 'look', 'look forward', 'look like', 'lose', 'lose bag', 'lose luggage', 'lot', 'loudly', 'loudly cry', 'lounge', 'love', 'loyal', 'luck', 'luggage', 'maintenance', 'make', 'make flight', 'make sure', 'man', 'many', 'march', 'matter', 'may', 'maybe', 'mco', 'meal', 'mean', 'mechanical', 'mechanical issue', 'media', 'meet', 'member', 'mess', 'message', 'mia', 'miami', 'middle', 'might', 'mile', 'mileage', 'min', 'mind', 'mine', 'minute', 'minute hold', 'miss', 'miss connection', 'miss flight', 'mistake', 'mobile', 'mom', 'monday', 'money', 'month', 'morn', 'move', 'much', 'multiple', 'must', 'name', 'nashville', 'nd', 'need', 'need change', 'need get', 'need help', 'never', 'never fly', 'never get', 'neveragain', 'new', 'new flight', 'newark', 'next', 'next flight', 'next time', 'nice', 'night', 'non', 'nonstop', 'nope', 'not', 'not able', 'not allow', 'not believe', 'not cancel', 'not care', 'not even', 'not find', 'not fly', 'not get', 'not give', 'not go', 'not good', 'not happy', 'not help', 'not know', 'not let', 'not make', 'not need', 'not see', 'not sure', 'not take', 'not think', 'not wait', 'not want', 'not work', 'note', 'nothe', 'notice', 'notification', 'notify', 'number', 'ny', 'nyc', 'offer', 'office', 'oh', 'ok', 'okay', 'old', 'one', 'online', 'open', 'option', 'ord', 'order', 'original', 'orlando', 'oscar', 'overhead', 'overnight', 'page', 'paid', 'part', 'party', 'pass', 'passbook', 'passenger', 'past', 'pay', 'people', 'person', 'philly', 'phl', 'phone', 'phone number', 'phx', 'pick', 'pilot', 'pl', 'place', 'plan', 'plane', 'plane not', 'platinum', 'play', 'please', 'please help', 'plu', 'plz', 'pm', 'point', 'policy', 'poor', 'possible', 'post', 'pout', 'pout face', 'ppl', 'prefer', 'pretty', 'price', 'priority', 'probably', 'problem', 'process', 'promise', 'provide', 'pull', 'purchase', 'push', 'put', 'question', 'quick', 'rate', 'rather', 'rd', 'rdu', 'reach', 'read', 'ready', 'real', 'really', 'reason', 'rebook', 'rebook flight', 'receive', 'record', 'red', 'red heart', 'reflight', 'reflight book', 'refund', 'refuse', 'relation', 'rep', 'reply', 'report', 'request', 'reroute', 'reschedule', 'reschedule flight', 'reservation', 'resolve', 'respond', 'response', 'return', 'reward', 'ride', 'ridiculou', 'right', 'rock', 'room', 'round', 'route', 'row', 'rt', 'rt jetblue', 'rude', 'ruin', 'run', 'runway', 'sad', 'safety', 'san', 'saturday', 'save', 'say', 'say not', 'schedule', 'screw', 'seat', 'second', 'see', 'seem', 'select', 'sell', 'send', 'send dm', 'sense', 'seriously', 'serve', 'service', 'service ever', 'set', 'several', 'sfo', 'share', 'shit', 'short', 'show', 'sign', 'since', 'sit', 'sit plane', 'site', 'situation', 'sleep', 'small', 'smile', 'smile eye', 'smile face', 'snow', 'social', 'someone', 'somethe', 'son', 'soon', 'soon possible', 'sorry', 'sort', 'sound', 'southwest', 'southwestair', 'southwestair flight', 'southwestair get', 'southwestair hold', 'southwestair love', 'southwestair not', 'southwestair please', 'southwestair thank', 'southwestair would', 'southwestair ye', 'space', 'speak', 'speak someone', 'spend', 'st', 'st class', 'staff', 'stand', 'standby', 'start', 'state', 'statu', 'stay', 'step', 'stick', 'still', 'still not', 'still wait', 'stop', 'storm', 'story', 'strand', 'submit', 'suck', 'sunday', 'super', 'supervisor', 'support', 'suppose', 'sure', 'surprise', 'sw', 'swa', 'switch', 'system', 'tag', 'take', 'take care', 'talk', 'tarmac', 'team', 'tear', 'tear joy', 'tell', 'tell not', 'terminal', 'terrible', 'text', 'th', 'thank', 'thank help', 'thank make', 'thank much', 'thank reply', 'thing', 'think', 'though', 'three', 'thru', 'thumb', 'thx', 'ticket', 'time', 'time fly', 'tire', 'tix', 'today', 'together', 'tomorrow', 'tomorrow morn', 'tonight', 'top', 'totally', 'track', 'train', 'transfer', 'travel', 'travele', 'traveler', 'treat', 'trip', 'trouble', 'true', 'try', 'try book', 'try call', 'try get', 'tsa', 'tuesday', 'turn', 'tv', 'tweet', 'twice', 'twitter', 'two', 'two day', 'two hour', 'ua', 'unable', 'unacceptable', 'understand', 'unfortunately', 'unite', 'unite airline', 'unite flight', 'unite get', 'unite need', 'unite not', 'unite please', 'unite send', 'unite still', 'unite thank', 'unite try', 'unite ua', 'unite worst', 'unite would', 'unite ye', 'unitedairline', 'update', 'upgrade', 'upset', 'ur', 'usair', 'usairway', 'usairway americanair', 'usairway call', 'usairway cancel', 'usairway flight', 'usairway get', 'usairway hold', 'usairway hour', 'usairway need', 'usairway not', 'usairway please', 'usairway tell', 'usairway thank', 'usairway try', 'usairway worst', 'usairway would', 'usairway ye', 'usairwaysfail', 'use', 'used', 'vacation', 'vega', 'via', 'virgin', 'virginamerica', 'virginamerica thank', 'volume', 'voucher', 'wait', 'wait bag', 'wait hour', 'wait min', 'wait time', 'walk', 'wall', 'want', 'waste', 'watch', 'water', 'way', 'way get', 'weather', 'website', 'wed', 'week', 'weekend', 'well', 'whole', 'wife', 'wifi', 'win', 'window', 'wink', 'wink face', 'winter', 'wish', 'without', 'wo', 'wonder', 'wonderful', 'word', 'work', 'world', 'worry', 'worse', 'worst', 'worst airline', 'worst customer', 'worth', 'would', 'would like', 'would love', 'would nice', 'would not', 'wow', 'write', 'wrong', 'wtf', 'ye', 'yeah', 'year', 'yesterday', 'yet', 'yr', 'zero']\n"
          ],
          "name": "stdout"
        }
      ]
    },
    {
      "cell_type": "code",
      "metadata": {
        "colab": {
          "base_uri": "https://localhost:8080/"
        },
        "id": "qebCYwK6GuFO",
        "outputId": "88d87e16-3bb0-4757-d50e-88fa5de2033c"
      },
      "source": [
        "# Sum up the counts of each vocabulary word stopped at count of 12 to save processing time\n",
        "dist = np.sum(train_data_features, axis=0)\n",
        "for tag, count in zip(vocab, dist):\n",
        "    print (count, tag)\n",
        "    if count == 53:\n",
        "      break"
      ],
      "execution_count": 37,
      "outputs": [
        {
          "output_type": "stream",
          "text": [
            "121 able\n",
            "27 able get\n",
            "30 absolutely\n",
            "32 accept\n",
            "39 access\n",
            "26 accommodate\n",
            "80 account\n",
            "86 actually\n",
            "126 add\n",
            "54 address\n",
            "30 afternoon\n",
            "416 agent\n",
            "130 ago\n",
            "141 air\n",
            "33 aircraft\n",
            "553 airline\n",
            "33 airline ever\n",
            "84 airplane\n",
            "366 airport\n",
            "89 airway\n",
            "88 allow\n",
            "95 almost\n",
            "26 almost hour\n",
            "179 already\n",
            "133 also\n",
            "109 alway\n",
            "101 amaze\n",
            "79 american\n",
            "2958 americanair\n",
            "27 americanair call\n",
            "41 americanair cancel\n",
            "131 americanair flight\n",
            "44 americanair get\n",
            "37 americanair need\n",
            "160 americanair not\n",
            "29 americanair please\n",
            "26 americanair still\n",
            "160 americanair thank\n",
            "63 americanair try\n",
            "28 americanair usairway\n",
            "26 americanair would\n",
            "39 americanair ye\n",
            "28 americanairline\n",
            "26 angry\n",
            "29 announce\n",
            "272 another\n",
            "28 another airline\n",
            "46 another flight\n",
            "189 answer\n",
            "44 answer phone\n",
            "27 anymore\n",
            "114 anyone\n",
            "135 anythe\n",
            "29 anyway\n",
            "27 anywhere\n",
            "65 apology\n",
            "113 app\n",
            "38 apparently\n",
            "30 apply\n",
            "159 appreciate\n",
            "30 area\n",
            "63 around\n",
            "34 arrival\n",
            "154 arrive\n",
            "165 ask\n",
            "27 assist\n",
            "53 assistance\n"
          ],
          "name": "stdout"
        }
      ]
    },
    {
      "cell_type": "code",
      "metadata": {
        "id": "Uf0w87z4nTgG",
        "colab": {
          "base_uri": "https://localhost:8080/"
        },
        "outputId": "7a2078c9-877c-42f2-9c7b-1c8a51c07f7d"
      },
      "source": [
        "# Creating training and testing set\n",
        "le = LabelEncoder()\n",
        "tweets_df['encoded'] = le.fit_transform(tweets_df['airline_sentiment'])\n",
        "Y = tweets_df['encoded']\n",
        "XC_train, XC_test, yc_train, yc_test = train_test_split(train_data_features, Y, test_size=0.3, random_state=0, stratify=Y) "
      ],
      "execution_count": 38,
      "outputs": [
        {
          "output_type": "stream",
          "text": [
            "/usr/local/lib/python3.7/dist-packages/ipykernel_launcher.py:3: SettingWithCopyWarning: \n",
            "A value is trying to be set on a copy of a slice from a DataFrame.\n",
            "Try using .loc[row_indexer,col_indexer] = value instead\n",
            "\n",
            "See the caveats in the documentation: https://pandas.pydata.org/pandas-docs/stable/user_guide/indexing.html#returning-a-view-versus-a-copy\n",
            "  This is separate from the ipykernel package so we can avoid doing imports until\n"
          ],
          "name": "stderr"
        }
      ]
    },
    {
      "cell_type": "code",
      "metadata": {
        "colab": {
          "base_uri": "https://localhost:8080/"
        },
        "id": "6YARFvYBDsnr",
        "outputId": "8b42160c-0a95-4627-e39f-4b97c5b497a3"
      },
      "source": [
        "oversample = SMOTE()\n",
        "XC_train, yc_train = oversample.fit_resample(XC_train, yc_train)  \n"
      ],
      "execution_count": 39,
      "outputs": [
        {
          "output_type": "stream",
          "text": [
            "/usr/local/lib/python3.7/dist-packages/sklearn/utils/deprecation.py:87: FutureWarning: Function safe_indexing is deprecated; safe_indexing is deprecated in version 0.22 and will be removed in version 0.24.\n",
            "  warnings.warn(msg, category=FutureWarning)\n",
            "/usr/local/lib/python3.7/dist-packages/sklearn/utils/deprecation.py:87: FutureWarning: Function safe_indexing is deprecated; safe_indexing is deprecated in version 0.22 and will be removed in version 0.24.\n",
            "  warnings.warn(msg, category=FutureWarning)\n"
          ],
          "name": "stderr"
        }
      ]
    },
    {
      "cell_type": "code",
      "metadata": {
        "colab": {
          "base_uri": "https://localhost:8080/"
        },
        "id": "H2PlHUcIGbwx",
        "outputId": "0155341b-916f-4044-9392-fd89ec38861a"
      },
      "source": [
        "from collections import Counter\n",
        "counter = Counter(yc_train)\n",
        "print(counter)"
      ],
      "execution_count": 40,
      "outputs": [
        {
          "output_type": "stream",
          "text": [
            "Counter({2: 6425, 0: 6425, 1: 6425})\n"
          ],
          "name": "stdout"
        }
      ]
    },
    {
      "cell_type": "code",
      "metadata": {
        "colab": {
          "base_uri": "https://localhost:8080/"
        },
        "id": "uW25QpUIJGUH",
        "outputId": "cd671dba-feee-4539-f235-3a04b9b63b26"
      },
      "source": [
        "# Initialize a Random Forest classifier with 100 trees\n",
        "forest = RandomForestClassifier(verbose=2,n_jobs=1,n_estimators = 100, criterion='gini') \n",
        "print (\"Training the random forest...\")\n",
        "forest = forest.fit( XC_train, yc_train )\n",
        "print (forest)\n",
        "# Printing score\n",
        "print (np.mean(cross_val_score(forest,XC_train,yc_train,cv=10)))"
      ],
      "execution_count": 41,
      "outputs": [
        {
          "output_type": "stream",
          "text": [
            "Training the random forest...\n"
          ],
          "name": "stdout"
        },
        {
          "output_type": "stream",
          "text": [
            "[Parallel(n_jobs=1)]: Using backend SequentialBackend with 1 concurrent workers.\n"
          ],
          "name": "stderr"
        },
        {
          "output_type": "stream",
          "text": [
            "building tree 1 of 100\n"
          ],
          "name": "stdout"
        },
        {
          "output_type": "stream",
          "text": [
            "[Parallel(n_jobs=1)]: Done   1 out of   1 | elapsed:    0.3s remaining:    0.0s\n"
          ],
          "name": "stderr"
        },
        {
          "output_type": "stream",
          "text": [
            "building tree 2 of 100\n",
            "building tree 3 of 100\n",
            "building tree 4 of 100\n",
            "building tree 5 of 100\n",
            "building tree 6 of 100\n",
            "building tree 7 of 100\n",
            "building tree 8 of 100\n",
            "building tree 9 of 100\n",
            "building tree 10 of 100\n",
            "building tree 11 of 100\n",
            "building tree 12 of 100\n",
            "building tree 13 of 100\n",
            "building tree 14 of 100\n",
            "building tree 15 of 100\n",
            "building tree 16 of 100\n",
            "building tree 17 of 100\n",
            "building tree 18 of 100\n",
            "building tree 19 of 100\n",
            "building tree 20 of 100\n",
            "building tree 21 of 100\n",
            "building tree 22 of 100\n",
            "building tree 23 of 100\n",
            "building tree 24 of 100\n",
            "building tree 25 of 100\n",
            "building tree 26 of 100\n",
            "building tree 27 of 100\n",
            "building tree 28 of 100\n",
            "building tree 29 of 100\n",
            "building tree 30 of 100\n",
            "building tree 31 of 100\n",
            "building tree 32 of 100\n",
            "building tree 33 of 100\n",
            "building tree 34 of 100\n",
            "building tree 35 of 100\n",
            "building tree 36 of 100\n",
            "building tree 37 of 100\n",
            "building tree 38 of 100\n",
            "building tree 39 of 100\n",
            "building tree 40 of 100\n",
            "building tree 41 of 100\n",
            "building tree 42 of 100\n",
            "building tree 43 of 100\n",
            "building tree 44 of 100\n",
            "building tree 45 of 100\n",
            "building tree 46 of 100\n",
            "building tree 47 of 100\n",
            "building tree 48 of 100\n",
            "building tree 49 of 100\n",
            "building tree 50 of 100\n",
            "building tree 51 of 100\n",
            "building tree 52 of 100\n",
            "building tree 53 of 100\n",
            "building tree 54 of 100\n",
            "building tree 55 of 100\n",
            "building tree 56 of 100\n",
            "building tree 57 of 100\n",
            "building tree 58 of 100\n",
            "building tree 59 of 100\n",
            "building tree 60 of 100\n",
            "building tree 61 of 100\n",
            "building tree 62 of 100\n",
            "building tree 63 of 100\n",
            "building tree 64 of 100\n",
            "building tree 65 of 100\n",
            "building tree 66 of 100\n",
            "building tree 67 of 100\n",
            "building tree 68 of 100\n",
            "building tree 69 of 100\n",
            "building tree 70 of 100\n",
            "building tree 71 of 100\n",
            "building tree 72 of 100\n",
            "building tree 73 of 100\n",
            "building tree 74 of 100\n",
            "building tree 75 of 100\n",
            "building tree 76 of 100\n",
            "building tree 77 of 100\n",
            "building tree 78 of 100\n",
            "building tree 79 of 100\n",
            "building tree 80 of 100\n",
            "building tree 81 of 100\n",
            "building tree 82 of 100\n",
            "building tree 83 of 100\n",
            "building tree 84 of 100\n",
            "building tree 85 of 100\n",
            "building tree 86 of 100\n",
            "building tree 87 of 100\n",
            "building tree 88 of 100\n",
            "building tree 89 of 100\n",
            "building tree 90 of 100\n",
            "building tree 91 of 100\n",
            "building tree 92 of 100\n",
            "building tree 93 of 100\n",
            "building tree 94 of 100\n",
            "building tree 95 of 100\n",
            "building tree 96 of 100\n",
            "building tree 97 of 100\n",
            "building tree 98 of 100\n",
            "building tree 99 of 100\n",
            "building tree 100 of 100\n"
          ],
          "name": "stdout"
        },
        {
          "output_type": "stream",
          "text": [
            "[Parallel(n_jobs=1)]: Done 100 out of 100 | elapsed:   25.8s finished\n"
          ],
          "name": "stderr"
        },
        {
          "output_type": "stream",
          "text": [
            "RandomForestClassifier(bootstrap=True, ccp_alpha=0.0, class_weight=None,\n",
            "                       criterion='gini', max_depth=None, max_features='auto',\n",
            "                       max_leaf_nodes=None, max_samples=None,\n",
            "                       min_impurity_decrease=0.0, min_impurity_split=None,\n",
            "                       min_samples_leaf=1, min_samples_split=2,\n",
            "                       min_weight_fraction_leaf=0.0, n_estimators=100, n_jobs=1,\n",
            "                       oob_score=False, random_state=None, verbose=2,\n",
            "                       warm_start=False)\n"
          ],
          "name": "stdout"
        },
        {
          "output_type": "stream",
          "text": [
            "[Parallel(n_jobs=1)]: Using backend SequentialBackend with 1 concurrent workers.\n"
          ],
          "name": "stderr"
        },
        {
          "output_type": "stream",
          "text": [
            "building tree 1 of 100\n"
          ],
          "name": "stdout"
        },
        {
          "output_type": "stream",
          "text": [
            "[Parallel(n_jobs=1)]: Done   1 out of   1 | elapsed:    0.2s remaining:    0.0s\n"
          ],
          "name": "stderr"
        },
        {
          "output_type": "stream",
          "text": [
            "building tree 2 of 100\n",
            "building tree 3 of 100\n",
            "building tree 4 of 100\n",
            "building tree 5 of 100\n",
            "building tree 6 of 100\n",
            "building tree 7 of 100\n",
            "building tree 8 of 100\n",
            "building tree 9 of 100\n",
            "building tree 10 of 100\n",
            "building tree 11 of 100\n",
            "building tree 12 of 100\n",
            "building tree 13 of 100\n",
            "building tree 14 of 100\n",
            "building tree 15 of 100\n",
            "building tree 16 of 100\n",
            "building tree 17 of 100\n",
            "building tree 18 of 100\n",
            "building tree 19 of 100\n",
            "building tree 20 of 100\n",
            "building tree 21 of 100\n",
            "building tree 22 of 100\n",
            "building tree 23 of 100\n",
            "building tree 24 of 100\n",
            "building tree 25 of 100\n",
            "building tree 26 of 100\n",
            "building tree 27 of 100\n",
            "building tree 28 of 100\n",
            "building tree 29 of 100\n",
            "building tree 30 of 100\n",
            "building tree 31 of 100\n",
            "building tree 32 of 100\n",
            "building tree 33 of 100\n",
            "building tree 34 of 100\n",
            "building tree 35 of 100\n",
            "building tree 36 of 100\n",
            "building tree 37 of 100\n",
            "building tree 38 of 100\n",
            "building tree 39 of 100\n",
            "building tree 40 of 100\n",
            "building tree 41 of 100\n",
            "building tree 42 of 100\n",
            "building tree 43 of 100\n",
            "building tree 44 of 100\n",
            "building tree 45 of 100\n",
            "building tree 46 of 100\n",
            "building tree 47 of 100\n",
            "building tree 48 of 100\n",
            "building tree 49 of 100\n",
            "building tree 50 of 100\n",
            "building tree 51 of 100\n",
            "building tree 52 of 100\n",
            "building tree 53 of 100\n",
            "building tree 54 of 100\n",
            "building tree 55 of 100\n",
            "building tree 56 of 100\n",
            "building tree 57 of 100\n",
            "building tree 58 of 100\n",
            "building tree 59 of 100\n",
            "building tree 60 of 100\n",
            "building tree 61 of 100\n",
            "building tree 62 of 100\n",
            "building tree 63 of 100\n",
            "building tree 64 of 100\n",
            "building tree 65 of 100\n",
            "building tree 66 of 100\n",
            "building tree 67 of 100\n",
            "building tree 68 of 100\n",
            "building tree 69 of 100\n",
            "building tree 70 of 100\n",
            "building tree 71 of 100\n",
            "building tree 72 of 100\n",
            "building tree 73 of 100\n",
            "building tree 74 of 100\n",
            "building tree 75 of 100\n",
            "building tree 76 of 100\n",
            "building tree 77 of 100\n",
            "building tree 78 of 100\n",
            "building tree 79 of 100\n",
            "building tree 80 of 100\n",
            "building tree 81 of 100\n",
            "building tree 82 of 100\n",
            "building tree 83 of 100\n",
            "building tree 84 of 100\n",
            "building tree 85 of 100\n",
            "building tree 86 of 100\n",
            "building tree 87 of 100\n",
            "building tree 88 of 100\n",
            "building tree 89 of 100\n",
            "building tree 90 of 100\n",
            "building tree 91 of 100\n",
            "building tree 92 of 100\n",
            "building tree 93 of 100\n",
            "building tree 94 of 100\n",
            "building tree 95 of 100\n",
            "building tree 96 of 100\n",
            "building tree 97 of 100\n",
            "building tree 98 of 100\n",
            "building tree 99 of 100\n",
            "building tree 100 of 100\n"
          ],
          "name": "stdout"
        },
        {
          "output_type": "stream",
          "text": [
            "[Parallel(n_jobs=1)]: Done 100 out of 100 | elapsed:   22.8s finished\n",
            "[Parallel(n_jobs=1)]: Using backend SequentialBackend with 1 concurrent workers.\n",
            "[Parallel(n_jobs=1)]: Done   1 out of   1 | elapsed:    0.0s remaining:    0.0s\n",
            "[Parallel(n_jobs=1)]: Done 100 out of 100 | elapsed:    0.1s finished\n",
            "[Parallel(n_jobs=1)]: Using backend SequentialBackend with 1 concurrent workers.\n"
          ],
          "name": "stderr"
        },
        {
          "output_type": "stream",
          "text": [
            "building tree 1 of 100\n"
          ],
          "name": "stdout"
        },
        {
          "output_type": "stream",
          "text": [
            "[Parallel(n_jobs=1)]: Done   1 out of   1 | elapsed:    0.3s remaining:    0.0s\n"
          ],
          "name": "stderr"
        },
        {
          "output_type": "stream",
          "text": [
            "building tree 2 of 100\n",
            "building tree 3 of 100\n",
            "building tree 4 of 100\n",
            "building tree 5 of 100\n",
            "building tree 6 of 100\n",
            "building tree 7 of 100\n",
            "building tree 8 of 100\n",
            "building tree 9 of 100\n",
            "building tree 10 of 100\n",
            "building tree 11 of 100\n",
            "building tree 12 of 100\n",
            "building tree 13 of 100\n",
            "building tree 14 of 100\n",
            "building tree 15 of 100\n",
            "building tree 16 of 100\n",
            "building tree 17 of 100\n",
            "building tree 18 of 100\n",
            "building tree 19 of 100\n",
            "building tree 20 of 100\n",
            "building tree 21 of 100\n",
            "building tree 22 of 100\n",
            "building tree 23 of 100\n",
            "building tree 24 of 100\n",
            "building tree 25 of 100\n",
            "building tree 26 of 100\n",
            "building tree 27 of 100\n",
            "building tree 28 of 100\n",
            "building tree 29 of 100\n",
            "building tree 30 of 100\n",
            "building tree 31 of 100\n",
            "building tree 32 of 100\n",
            "building tree 33 of 100\n",
            "building tree 34 of 100\n",
            "building tree 35 of 100\n",
            "building tree 36 of 100\n",
            "building tree 37 of 100\n",
            "building tree 38 of 100\n",
            "building tree 39 of 100\n",
            "building tree 40 of 100\n",
            "building tree 41 of 100\n",
            "building tree 42 of 100\n",
            "building tree 43 of 100\n",
            "building tree 44 of 100\n",
            "building tree 45 of 100\n",
            "building tree 46 of 100\n",
            "building tree 47 of 100\n",
            "building tree 48 of 100\n",
            "building tree 49 of 100\n",
            "building tree 50 of 100\n",
            "building tree 51 of 100\n",
            "building tree 52 of 100\n",
            "building tree 53 of 100\n",
            "building tree 54 of 100\n",
            "building tree 55 of 100\n",
            "building tree 56 of 100\n",
            "building tree 57 of 100\n",
            "building tree 58 of 100\n",
            "building tree 59 of 100\n",
            "building tree 60 of 100\n",
            "building tree 61 of 100\n",
            "building tree 62 of 100\n",
            "building tree 63 of 100\n",
            "building tree 64 of 100\n",
            "building tree 65 of 100\n",
            "building tree 66 of 100\n",
            "building tree 67 of 100\n",
            "building tree 68 of 100\n",
            "building tree 69 of 100\n",
            "building tree 70 of 100\n",
            "building tree 71 of 100\n",
            "building tree 72 of 100\n",
            "building tree 73 of 100\n",
            "building tree 74 of 100\n",
            "building tree 75 of 100\n",
            "building tree 76 of 100\n",
            "building tree 77 of 100\n",
            "building tree 78 of 100\n",
            "building tree 79 of 100\n",
            "building tree 80 of 100\n",
            "building tree 81 of 100\n",
            "building tree 82 of 100\n",
            "building tree 83 of 100\n",
            "building tree 84 of 100\n",
            "building tree 85 of 100\n",
            "building tree 86 of 100\n",
            "building tree 87 of 100\n",
            "building tree 88 of 100\n",
            "building tree 89 of 100\n",
            "building tree 90 of 100\n",
            "building tree 91 of 100\n",
            "building tree 92 of 100\n",
            "building tree 93 of 100\n",
            "building tree 94 of 100\n",
            "building tree 95 of 100\n",
            "building tree 96 of 100\n",
            "building tree 97 of 100\n",
            "building tree 98 of 100\n",
            "building tree 99 of 100\n",
            "building tree 100 of 100\n"
          ],
          "name": "stdout"
        },
        {
          "output_type": "stream",
          "text": [
            "[Parallel(n_jobs=1)]: Done 100 out of 100 | elapsed:   22.9s finished\n",
            "[Parallel(n_jobs=1)]: Using backend SequentialBackend with 1 concurrent workers.\n",
            "[Parallel(n_jobs=1)]: Done   1 out of   1 | elapsed:    0.0s remaining:    0.0s\n",
            "[Parallel(n_jobs=1)]: Done 100 out of 100 | elapsed:    0.1s finished\n",
            "[Parallel(n_jobs=1)]: Using backend SequentialBackend with 1 concurrent workers.\n"
          ],
          "name": "stderr"
        },
        {
          "output_type": "stream",
          "text": [
            "building tree 1 of 100\n"
          ],
          "name": "stdout"
        },
        {
          "output_type": "stream",
          "text": [
            "[Parallel(n_jobs=1)]: Done   1 out of   1 | elapsed:    0.2s remaining:    0.0s\n"
          ],
          "name": "stderr"
        },
        {
          "output_type": "stream",
          "text": [
            "building tree 2 of 100\n",
            "building tree 3 of 100\n",
            "building tree 4 of 100\n",
            "building tree 5 of 100\n",
            "building tree 6 of 100\n",
            "building tree 7 of 100\n",
            "building tree 8 of 100\n",
            "building tree 9 of 100\n",
            "building tree 10 of 100\n",
            "building tree 11 of 100\n",
            "building tree 12 of 100\n",
            "building tree 13 of 100\n",
            "building tree 14 of 100\n",
            "building tree 15 of 100\n",
            "building tree 16 of 100\n",
            "building tree 17 of 100\n",
            "building tree 18 of 100\n",
            "building tree 19 of 100\n",
            "building tree 20 of 100\n",
            "building tree 21 of 100\n",
            "building tree 22 of 100\n",
            "building tree 23 of 100\n",
            "building tree 24 of 100\n",
            "building tree 25 of 100\n",
            "building tree 26 of 100\n",
            "building tree 27 of 100\n",
            "building tree 28 of 100\n",
            "building tree 29 of 100\n",
            "building tree 30 of 100\n",
            "building tree 31 of 100\n",
            "building tree 32 of 100\n",
            "building tree 33 of 100\n",
            "building tree 34 of 100\n",
            "building tree 35 of 100\n",
            "building tree 36 of 100\n",
            "building tree 37 of 100\n",
            "building tree 38 of 100\n",
            "building tree 39 of 100\n",
            "building tree 40 of 100\n",
            "building tree 41 of 100\n",
            "building tree 42 of 100\n",
            "building tree 43 of 100\n",
            "building tree 44 of 100\n",
            "building tree 45 of 100\n",
            "building tree 46 of 100\n",
            "building tree 47 of 100\n",
            "building tree 48 of 100\n",
            "building tree 49 of 100\n",
            "building tree 50 of 100\n",
            "building tree 51 of 100\n",
            "building tree 52 of 100\n",
            "building tree 53 of 100\n",
            "building tree 54 of 100\n",
            "building tree 55 of 100\n",
            "building tree 56 of 100\n",
            "building tree 57 of 100\n",
            "building tree 58 of 100\n",
            "building tree 59 of 100\n",
            "building tree 60 of 100\n",
            "building tree 61 of 100\n",
            "building tree 62 of 100\n",
            "building tree 63 of 100\n",
            "building tree 64 of 100\n",
            "building tree 65 of 100\n",
            "building tree 66 of 100\n",
            "building tree 67 of 100\n",
            "building tree 68 of 100\n",
            "building tree 69 of 100\n",
            "building tree 70 of 100\n",
            "building tree 71 of 100\n",
            "building tree 72 of 100\n",
            "building tree 73 of 100\n",
            "building tree 74 of 100\n",
            "building tree 75 of 100\n",
            "building tree 76 of 100\n",
            "building tree 77 of 100\n",
            "building tree 78 of 100\n",
            "building tree 79 of 100\n",
            "building tree 80 of 100\n",
            "building tree 81 of 100\n",
            "building tree 82 of 100\n",
            "building tree 83 of 100\n",
            "building tree 84 of 100\n",
            "building tree 85 of 100\n",
            "building tree 86 of 100\n",
            "building tree 87 of 100\n",
            "building tree 88 of 100\n",
            "building tree 89 of 100\n",
            "building tree 90 of 100\n",
            "building tree 91 of 100\n",
            "building tree 92 of 100\n",
            "building tree 93 of 100\n",
            "building tree 94 of 100\n",
            "building tree 95 of 100\n",
            "building tree 96 of 100\n",
            "building tree 97 of 100\n",
            "building tree 98 of 100\n",
            "building tree 99 of 100\n",
            "building tree 100 of 100\n"
          ],
          "name": "stdout"
        },
        {
          "output_type": "stream",
          "text": [
            "[Parallel(n_jobs=1)]: Done 100 out of 100 | elapsed:   23.2s finished\n",
            "[Parallel(n_jobs=1)]: Using backend SequentialBackend with 1 concurrent workers.\n",
            "[Parallel(n_jobs=1)]: Done   1 out of   1 | elapsed:    0.0s remaining:    0.0s\n",
            "[Parallel(n_jobs=1)]: Done 100 out of 100 | elapsed:    0.1s finished\n",
            "[Parallel(n_jobs=1)]: Using backend SequentialBackend with 1 concurrent workers.\n"
          ],
          "name": "stderr"
        },
        {
          "output_type": "stream",
          "text": [
            "building tree 1 of 100\n"
          ],
          "name": "stdout"
        },
        {
          "output_type": "stream",
          "text": [
            "[Parallel(n_jobs=1)]: Done   1 out of   1 | elapsed:    0.2s remaining:    0.0s\n"
          ],
          "name": "stderr"
        },
        {
          "output_type": "stream",
          "text": [
            "building tree 2 of 100\n",
            "building tree 3 of 100\n",
            "building tree 4 of 100\n",
            "building tree 5 of 100\n",
            "building tree 6 of 100\n",
            "building tree 7 of 100\n",
            "building tree 8 of 100\n",
            "building tree 9 of 100\n",
            "building tree 10 of 100\n",
            "building tree 11 of 100\n",
            "building tree 12 of 100\n",
            "building tree 13 of 100\n",
            "building tree 14 of 100\n",
            "building tree 15 of 100\n",
            "building tree 16 of 100\n",
            "building tree 17 of 100\n",
            "building tree 18 of 100\n",
            "building tree 19 of 100\n",
            "building tree 20 of 100\n",
            "building tree 21 of 100\n",
            "building tree 22 of 100\n",
            "building tree 23 of 100\n",
            "building tree 24 of 100\n",
            "building tree 25 of 100\n",
            "building tree 26 of 100\n",
            "building tree 27 of 100\n",
            "building tree 28 of 100\n",
            "building tree 29 of 100\n",
            "building tree 30 of 100\n",
            "building tree 31 of 100\n",
            "building tree 32 of 100\n",
            "building tree 33 of 100\n",
            "building tree 34 of 100\n",
            "building tree 35 of 100\n",
            "building tree 36 of 100\n",
            "building tree 37 of 100\n",
            "building tree 38 of 100\n",
            "building tree 39 of 100\n",
            "building tree 40 of 100\n",
            "building tree 41 of 100\n",
            "building tree 42 of 100\n",
            "building tree 43 of 100\n",
            "building tree 44 of 100\n",
            "building tree 45 of 100\n",
            "building tree 46 of 100\n",
            "building tree 47 of 100\n",
            "building tree 48 of 100\n",
            "building tree 49 of 100\n",
            "building tree 50 of 100\n",
            "building tree 51 of 100\n",
            "building tree 52 of 100\n",
            "building tree 53 of 100\n",
            "building tree 54 of 100\n",
            "building tree 55 of 100\n",
            "building tree 56 of 100\n",
            "building tree 57 of 100\n",
            "building tree 58 of 100\n",
            "building tree 59 of 100\n",
            "building tree 60 of 100\n",
            "building tree 61 of 100\n",
            "building tree 62 of 100\n",
            "building tree 63 of 100\n",
            "building tree 64 of 100\n",
            "building tree 65 of 100\n",
            "building tree 66 of 100\n",
            "building tree 67 of 100\n",
            "building tree 68 of 100\n",
            "building tree 69 of 100\n",
            "building tree 70 of 100\n",
            "building tree 71 of 100\n",
            "building tree 72 of 100\n",
            "building tree 73 of 100\n",
            "building tree 74 of 100\n",
            "building tree 75 of 100\n",
            "building tree 76 of 100\n",
            "building tree 77 of 100\n",
            "building tree 78 of 100\n",
            "building tree 79 of 100\n",
            "building tree 80 of 100\n",
            "building tree 81 of 100\n",
            "building tree 82 of 100\n",
            "building tree 83 of 100\n",
            "building tree 84 of 100\n",
            "building tree 85 of 100\n",
            "building tree 86 of 100\n",
            "building tree 87 of 100\n",
            "building tree 88 of 100\n",
            "building tree 89 of 100\n",
            "building tree 90 of 100\n",
            "building tree 91 of 100\n",
            "building tree 92 of 100\n",
            "building tree 93 of 100\n",
            "building tree 94 of 100\n",
            "building tree 95 of 100\n",
            "building tree 96 of 100\n",
            "building tree 97 of 100\n",
            "building tree 98 of 100\n",
            "building tree 99 of 100\n",
            "building tree 100 of 100\n"
          ],
          "name": "stdout"
        },
        {
          "output_type": "stream",
          "text": [
            "[Parallel(n_jobs=1)]: Done 100 out of 100 | elapsed:   22.9s finished\n",
            "[Parallel(n_jobs=1)]: Using backend SequentialBackend with 1 concurrent workers.\n",
            "[Parallel(n_jobs=1)]: Done   1 out of   1 | elapsed:    0.0s remaining:    0.0s\n",
            "[Parallel(n_jobs=1)]: Done 100 out of 100 | elapsed:    0.2s finished\n",
            "[Parallel(n_jobs=1)]: Using backend SequentialBackend with 1 concurrent workers.\n"
          ],
          "name": "stderr"
        },
        {
          "output_type": "stream",
          "text": [
            "building tree 1 of 100\n"
          ],
          "name": "stdout"
        },
        {
          "output_type": "stream",
          "text": [
            "[Parallel(n_jobs=1)]: Done   1 out of   1 | elapsed:    0.3s remaining:    0.0s\n"
          ],
          "name": "stderr"
        },
        {
          "output_type": "stream",
          "text": [
            "building tree 2 of 100\n",
            "building tree 3 of 100\n",
            "building tree 4 of 100\n",
            "building tree 5 of 100\n",
            "building tree 6 of 100\n",
            "building tree 7 of 100\n",
            "building tree 8 of 100\n",
            "building tree 9 of 100\n",
            "building tree 10 of 100\n",
            "building tree 11 of 100\n",
            "building tree 12 of 100\n",
            "building tree 13 of 100\n",
            "building tree 14 of 100\n",
            "building tree 15 of 100\n",
            "building tree 16 of 100\n",
            "building tree 17 of 100\n",
            "building tree 18 of 100\n",
            "building tree 19 of 100\n",
            "building tree 20 of 100\n",
            "building tree 21 of 100\n",
            "building tree 22 of 100\n",
            "building tree 23 of 100\n",
            "building tree 24 of 100\n",
            "building tree 25 of 100\n",
            "building tree 26 of 100\n",
            "building tree 27 of 100\n",
            "building tree 28 of 100\n",
            "building tree 29 of 100\n",
            "building tree 30 of 100\n",
            "building tree 31 of 100\n",
            "building tree 32 of 100\n",
            "building tree 33 of 100\n",
            "building tree 34 of 100\n",
            "building tree 35 of 100\n",
            "building tree 36 of 100\n",
            "building tree 37 of 100\n",
            "building tree 38 of 100\n",
            "building tree 39 of 100\n",
            "building tree 40 of 100\n",
            "building tree 41 of 100\n",
            "building tree 42 of 100\n",
            "building tree 43 of 100\n",
            "building tree 44 of 100\n",
            "building tree 45 of 100\n",
            "building tree 46 of 100\n",
            "building tree 47 of 100\n",
            "building tree 48 of 100\n",
            "building tree 49 of 100\n",
            "building tree 50 of 100\n",
            "building tree 51 of 100\n",
            "building tree 52 of 100\n",
            "building tree 53 of 100\n",
            "building tree 54 of 100\n",
            "building tree 55 of 100\n",
            "building tree 56 of 100\n",
            "building tree 57 of 100\n",
            "building tree 58 of 100\n",
            "building tree 59 of 100\n",
            "building tree 60 of 100\n",
            "building tree 61 of 100\n",
            "building tree 62 of 100\n",
            "building tree 63 of 100\n",
            "building tree 64 of 100\n",
            "building tree 65 of 100\n",
            "building tree 66 of 100\n",
            "building tree 67 of 100\n",
            "building tree 68 of 100\n",
            "building tree 69 of 100\n",
            "building tree 70 of 100\n",
            "building tree 71 of 100\n",
            "building tree 72 of 100\n",
            "building tree 73 of 100\n",
            "building tree 74 of 100\n",
            "building tree 75 of 100\n",
            "building tree 76 of 100\n",
            "building tree 77 of 100\n",
            "building tree 78 of 100\n",
            "building tree 79 of 100\n",
            "building tree 80 of 100\n",
            "building tree 81 of 100\n",
            "building tree 82 of 100\n",
            "building tree 83 of 100\n",
            "building tree 84 of 100\n",
            "building tree 85 of 100\n",
            "building tree 86 of 100\n",
            "building tree 87 of 100\n",
            "building tree 88 of 100\n",
            "building tree 89 of 100\n",
            "building tree 90 of 100\n",
            "building tree 91 of 100\n",
            "building tree 92 of 100\n",
            "building tree 93 of 100\n",
            "building tree 94 of 100\n",
            "building tree 95 of 100\n",
            "building tree 96 of 100\n",
            "building tree 97 of 100\n",
            "building tree 98 of 100\n",
            "building tree 99 of 100\n",
            "building tree 100 of 100\n"
          ],
          "name": "stdout"
        },
        {
          "output_type": "stream",
          "text": [
            "[Parallel(n_jobs=1)]: Done 100 out of 100 | elapsed:   22.4s finished\n",
            "[Parallel(n_jobs=1)]: Using backend SequentialBackend with 1 concurrent workers.\n",
            "[Parallel(n_jobs=1)]: Done   1 out of   1 | elapsed:    0.0s remaining:    0.0s\n",
            "[Parallel(n_jobs=1)]: Done 100 out of 100 | elapsed:    0.2s finished\n",
            "[Parallel(n_jobs=1)]: Using backend SequentialBackend with 1 concurrent workers.\n"
          ],
          "name": "stderr"
        },
        {
          "output_type": "stream",
          "text": [
            "building tree 1 of 100\n"
          ],
          "name": "stdout"
        },
        {
          "output_type": "stream",
          "text": [
            "[Parallel(n_jobs=1)]: Done   1 out of   1 | elapsed:    0.2s remaining:    0.0s\n"
          ],
          "name": "stderr"
        },
        {
          "output_type": "stream",
          "text": [
            "building tree 2 of 100\n",
            "building tree 3 of 100\n",
            "building tree 4 of 100\n",
            "building tree 5 of 100\n",
            "building tree 6 of 100\n",
            "building tree 7 of 100\n",
            "building tree 8 of 100\n",
            "building tree 9 of 100\n",
            "building tree 10 of 100\n",
            "building tree 11 of 100\n",
            "building tree 12 of 100\n",
            "building tree 13 of 100\n",
            "building tree 14 of 100\n",
            "building tree 15 of 100\n",
            "building tree 16 of 100\n",
            "building tree 17 of 100\n",
            "building tree 18 of 100\n",
            "building tree 19 of 100\n",
            "building tree 20 of 100\n",
            "building tree 21 of 100\n",
            "building tree 22 of 100\n",
            "building tree 23 of 100\n",
            "building tree 24 of 100\n",
            "building tree 25 of 100\n",
            "building tree 26 of 100\n",
            "building tree 27 of 100\n",
            "building tree 28 of 100\n",
            "building tree 29 of 100\n",
            "building tree 30 of 100\n",
            "building tree 31 of 100\n",
            "building tree 32 of 100\n",
            "building tree 33 of 100\n",
            "building tree 34 of 100\n",
            "building tree 35 of 100\n",
            "building tree 36 of 100\n",
            "building tree 37 of 100\n",
            "building tree 38 of 100\n",
            "building tree 39 of 100\n",
            "building tree 40 of 100\n",
            "building tree 41 of 100\n",
            "building tree 42 of 100\n",
            "building tree 43 of 100\n",
            "building tree 44 of 100\n",
            "building tree 45 of 100\n",
            "building tree 46 of 100\n",
            "building tree 47 of 100\n",
            "building tree 48 of 100\n",
            "building tree 49 of 100\n",
            "building tree 50 of 100\n",
            "building tree 51 of 100\n",
            "building tree 52 of 100\n",
            "building tree 53 of 100\n",
            "building tree 54 of 100\n",
            "building tree 55 of 100\n",
            "building tree 56 of 100\n",
            "building tree 57 of 100\n",
            "building tree 58 of 100\n",
            "building tree 59 of 100\n",
            "building tree 60 of 100\n",
            "building tree 61 of 100\n",
            "building tree 62 of 100\n",
            "building tree 63 of 100\n",
            "building tree 64 of 100\n",
            "building tree 65 of 100\n",
            "building tree 66 of 100\n",
            "building tree 67 of 100\n",
            "building tree 68 of 100\n",
            "building tree 69 of 100\n",
            "building tree 70 of 100\n",
            "building tree 71 of 100\n",
            "building tree 72 of 100\n",
            "building tree 73 of 100\n",
            "building tree 74 of 100\n",
            "building tree 75 of 100\n",
            "building tree 76 of 100\n",
            "building tree 77 of 100\n",
            "building tree 78 of 100\n",
            "building tree 79 of 100\n",
            "building tree 80 of 100\n",
            "building tree 81 of 100\n",
            "building tree 82 of 100\n",
            "building tree 83 of 100\n",
            "building tree 84 of 100\n",
            "building tree 85 of 100\n",
            "building tree 86 of 100\n",
            "building tree 87 of 100\n",
            "building tree 88 of 100\n",
            "building tree 89 of 100\n",
            "building tree 90 of 100\n",
            "building tree 91 of 100\n",
            "building tree 92 of 100\n",
            "building tree 93 of 100\n",
            "building tree 94 of 100\n",
            "building tree 95 of 100\n",
            "building tree 96 of 100\n",
            "building tree 97 of 100\n",
            "building tree 98 of 100\n",
            "building tree 99 of 100\n",
            "building tree 100 of 100\n"
          ],
          "name": "stdout"
        },
        {
          "output_type": "stream",
          "text": [
            "[Parallel(n_jobs=1)]: Done 100 out of 100 | elapsed:   22.2s finished\n",
            "[Parallel(n_jobs=1)]: Using backend SequentialBackend with 1 concurrent workers.\n",
            "[Parallel(n_jobs=1)]: Done   1 out of   1 | elapsed:    0.0s remaining:    0.0s\n",
            "[Parallel(n_jobs=1)]: Done 100 out of 100 | elapsed:    0.2s finished\n",
            "[Parallel(n_jobs=1)]: Using backend SequentialBackend with 1 concurrent workers.\n"
          ],
          "name": "stderr"
        },
        {
          "output_type": "stream",
          "text": [
            "building tree 1 of 100\n"
          ],
          "name": "stdout"
        },
        {
          "output_type": "stream",
          "text": [
            "[Parallel(n_jobs=1)]: Done   1 out of   1 | elapsed:    0.2s remaining:    0.0s\n"
          ],
          "name": "stderr"
        },
        {
          "output_type": "stream",
          "text": [
            "building tree 2 of 100\n",
            "building tree 3 of 100\n",
            "building tree 4 of 100\n",
            "building tree 5 of 100\n",
            "building tree 6 of 100\n",
            "building tree 7 of 100\n",
            "building tree 8 of 100\n",
            "building tree 9 of 100\n",
            "building tree 10 of 100\n",
            "building tree 11 of 100\n",
            "building tree 12 of 100\n",
            "building tree 13 of 100\n",
            "building tree 14 of 100\n",
            "building tree 15 of 100\n",
            "building tree 16 of 100\n",
            "building tree 17 of 100\n",
            "building tree 18 of 100\n",
            "building tree 19 of 100\n",
            "building tree 20 of 100\n",
            "building tree 21 of 100\n",
            "building tree 22 of 100\n",
            "building tree 23 of 100\n",
            "building tree 24 of 100\n",
            "building tree 25 of 100\n",
            "building tree 26 of 100\n",
            "building tree 27 of 100\n",
            "building tree 28 of 100\n",
            "building tree 29 of 100\n",
            "building tree 30 of 100\n",
            "building tree 31 of 100\n",
            "building tree 32 of 100\n",
            "building tree 33 of 100\n",
            "building tree 34 of 100\n",
            "building tree 35 of 100\n",
            "building tree 36 of 100\n",
            "building tree 37 of 100\n",
            "building tree 38 of 100\n",
            "building tree 39 of 100\n",
            "building tree 40 of 100\n",
            "building tree 41 of 100\n",
            "building tree 42 of 100\n",
            "building tree 43 of 100\n",
            "building tree 44 of 100\n",
            "building tree 45 of 100\n",
            "building tree 46 of 100\n",
            "building tree 47 of 100\n",
            "building tree 48 of 100\n",
            "building tree 49 of 100\n",
            "building tree 50 of 100\n",
            "building tree 51 of 100\n",
            "building tree 52 of 100\n",
            "building tree 53 of 100\n",
            "building tree 54 of 100\n",
            "building tree 55 of 100\n",
            "building tree 56 of 100\n",
            "building tree 57 of 100\n",
            "building tree 58 of 100\n",
            "building tree 59 of 100\n",
            "building tree 60 of 100\n",
            "building tree 61 of 100\n",
            "building tree 62 of 100\n",
            "building tree 63 of 100\n",
            "building tree 64 of 100\n",
            "building tree 65 of 100\n",
            "building tree 66 of 100\n",
            "building tree 67 of 100\n",
            "building tree 68 of 100\n",
            "building tree 69 of 100\n",
            "building tree 70 of 100\n",
            "building tree 71 of 100\n",
            "building tree 72 of 100\n",
            "building tree 73 of 100\n",
            "building tree 74 of 100\n",
            "building tree 75 of 100\n",
            "building tree 76 of 100\n",
            "building tree 77 of 100\n",
            "building tree 78 of 100\n",
            "building tree 79 of 100\n",
            "building tree 80 of 100\n",
            "building tree 81 of 100\n",
            "building tree 82 of 100\n",
            "building tree 83 of 100\n",
            "building tree 84 of 100\n",
            "building tree 85 of 100\n",
            "building tree 86 of 100\n",
            "building tree 87 of 100\n",
            "building tree 88 of 100\n",
            "building tree 89 of 100\n",
            "building tree 90 of 100\n",
            "building tree 91 of 100\n",
            "building tree 92 of 100\n",
            "building tree 93 of 100\n",
            "building tree 94 of 100\n",
            "building tree 95 of 100\n",
            "building tree 96 of 100\n",
            "building tree 97 of 100\n",
            "building tree 98 of 100\n",
            "building tree 99 of 100\n",
            "building tree 100 of 100\n"
          ],
          "name": "stdout"
        },
        {
          "output_type": "stream",
          "text": [
            "[Parallel(n_jobs=1)]: Done 100 out of 100 | elapsed:   22.1s finished\n",
            "[Parallel(n_jobs=1)]: Using backend SequentialBackend with 1 concurrent workers.\n",
            "[Parallel(n_jobs=1)]: Done   1 out of   1 | elapsed:    0.0s remaining:    0.0s\n",
            "[Parallel(n_jobs=1)]: Done 100 out of 100 | elapsed:    0.2s finished\n",
            "[Parallel(n_jobs=1)]: Using backend SequentialBackend with 1 concurrent workers.\n"
          ],
          "name": "stderr"
        },
        {
          "output_type": "stream",
          "text": [
            "building tree 1 of 100\n"
          ],
          "name": "stdout"
        },
        {
          "output_type": "stream",
          "text": [
            "[Parallel(n_jobs=1)]: Done   1 out of   1 | elapsed:    0.2s remaining:    0.0s\n"
          ],
          "name": "stderr"
        },
        {
          "output_type": "stream",
          "text": [
            "building tree 2 of 100\n",
            "building tree 3 of 100\n",
            "building tree 4 of 100\n",
            "building tree 5 of 100\n",
            "building tree 6 of 100\n",
            "building tree 7 of 100\n",
            "building tree 8 of 100\n",
            "building tree 9 of 100\n",
            "building tree 10 of 100\n",
            "building tree 11 of 100\n",
            "building tree 12 of 100\n",
            "building tree 13 of 100\n",
            "building tree 14 of 100\n",
            "building tree 15 of 100\n",
            "building tree 16 of 100\n",
            "building tree 17 of 100\n",
            "building tree 18 of 100\n",
            "building tree 19 of 100\n",
            "building tree 20 of 100\n",
            "building tree 21 of 100\n",
            "building tree 22 of 100\n",
            "building tree 23 of 100\n",
            "building tree 24 of 100\n",
            "building tree 25 of 100\n",
            "building tree 26 of 100\n",
            "building tree 27 of 100\n",
            "building tree 28 of 100\n",
            "building tree 29 of 100\n",
            "building tree 30 of 100\n",
            "building tree 31 of 100\n",
            "building tree 32 of 100\n",
            "building tree 33 of 100\n",
            "building tree 34 of 100\n",
            "building tree 35 of 100\n",
            "building tree 36 of 100\n",
            "building tree 37 of 100\n",
            "building tree 38 of 100\n",
            "building tree 39 of 100\n",
            "building tree 40 of 100\n",
            "building tree 41 of 100\n",
            "building tree 42 of 100\n",
            "building tree 43 of 100\n",
            "building tree 44 of 100\n",
            "building tree 45 of 100\n",
            "building tree 46 of 100\n",
            "building tree 47 of 100\n",
            "building tree 48 of 100\n",
            "building tree 49 of 100\n",
            "building tree 50 of 100\n",
            "building tree 51 of 100\n",
            "building tree 52 of 100\n",
            "building tree 53 of 100\n",
            "building tree 54 of 100\n",
            "building tree 55 of 100\n",
            "building tree 56 of 100\n",
            "building tree 57 of 100\n",
            "building tree 58 of 100\n",
            "building tree 59 of 100\n",
            "building tree 60 of 100\n",
            "building tree 61 of 100\n",
            "building tree 62 of 100\n",
            "building tree 63 of 100\n",
            "building tree 64 of 100\n",
            "building tree 65 of 100\n",
            "building tree 66 of 100\n",
            "building tree 67 of 100\n",
            "building tree 68 of 100\n",
            "building tree 69 of 100\n",
            "building tree 70 of 100\n",
            "building tree 71 of 100\n",
            "building tree 72 of 100\n",
            "building tree 73 of 100\n",
            "building tree 74 of 100\n",
            "building tree 75 of 100\n",
            "building tree 76 of 100\n",
            "building tree 77 of 100\n",
            "building tree 78 of 100\n",
            "building tree 79 of 100\n",
            "building tree 80 of 100\n",
            "building tree 81 of 100\n",
            "building tree 82 of 100\n",
            "building tree 83 of 100\n",
            "building tree 84 of 100\n",
            "building tree 85 of 100\n",
            "building tree 86 of 100\n",
            "building tree 87 of 100\n",
            "building tree 88 of 100\n",
            "building tree 89 of 100\n",
            "building tree 90 of 100\n",
            "building tree 91 of 100\n",
            "building tree 92 of 100\n",
            "building tree 93 of 100\n",
            "building tree 94 of 100\n",
            "building tree 95 of 100\n",
            "building tree 96 of 100\n",
            "building tree 97 of 100\n",
            "building tree 98 of 100\n",
            "building tree 99 of 100\n",
            "building tree 100 of 100\n"
          ],
          "name": "stdout"
        },
        {
          "output_type": "stream",
          "text": [
            "[Parallel(n_jobs=1)]: Done 100 out of 100 | elapsed:   22.0s finished\n",
            "[Parallel(n_jobs=1)]: Using backend SequentialBackend with 1 concurrent workers.\n",
            "[Parallel(n_jobs=1)]: Done   1 out of   1 | elapsed:    0.0s remaining:    0.0s\n",
            "[Parallel(n_jobs=1)]: Done 100 out of 100 | elapsed:    0.2s finished\n",
            "[Parallel(n_jobs=1)]: Using backend SequentialBackend with 1 concurrent workers.\n"
          ],
          "name": "stderr"
        },
        {
          "output_type": "stream",
          "text": [
            "building tree 1 of 100\n"
          ],
          "name": "stdout"
        },
        {
          "output_type": "stream",
          "text": [
            "[Parallel(n_jobs=1)]: Done   1 out of   1 | elapsed:    0.2s remaining:    0.0s\n"
          ],
          "name": "stderr"
        },
        {
          "output_type": "stream",
          "text": [
            "building tree 2 of 100\n",
            "building tree 3 of 100\n",
            "building tree 4 of 100\n",
            "building tree 5 of 100\n",
            "building tree 6 of 100\n",
            "building tree 7 of 100\n",
            "building tree 8 of 100\n",
            "building tree 9 of 100\n",
            "building tree 10 of 100\n",
            "building tree 11 of 100\n",
            "building tree 12 of 100\n",
            "building tree 13 of 100\n",
            "building tree 14 of 100\n",
            "building tree 15 of 100\n",
            "building tree 16 of 100\n",
            "building tree 17 of 100\n",
            "building tree 18 of 100\n",
            "building tree 19 of 100\n",
            "building tree 20 of 100\n",
            "building tree 21 of 100\n",
            "building tree 22 of 100\n",
            "building tree 23 of 100\n",
            "building tree 24 of 100\n",
            "building tree 25 of 100\n",
            "building tree 26 of 100\n",
            "building tree 27 of 100\n",
            "building tree 28 of 100\n",
            "building tree 29 of 100\n",
            "building tree 30 of 100\n",
            "building tree 31 of 100\n",
            "building tree 32 of 100\n",
            "building tree 33 of 100\n",
            "building tree 34 of 100\n",
            "building tree 35 of 100\n",
            "building tree 36 of 100\n",
            "building tree 37 of 100\n",
            "building tree 38 of 100\n",
            "building tree 39 of 100\n",
            "building tree 40 of 100\n",
            "building tree 41 of 100\n",
            "building tree 42 of 100\n",
            "building tree 43 of 100\n",
            "building tree 44 of 100\n",
            "building tree 45 of 100\n",
            "building tree 46 of 100\n",
            "building tree 47 of 100\n",
            "building tree 48 of 100\n",
            "building tree 49 of 100\n",
            "building tree 50 of 100\n",
            "building tree 51 of 100\n",
            "building tree 52 of 100\n",
            "building tree 53 of 100\n",
            "building tree 54 of 100\n",
            "building tree 55 of 100\n",
            "building tree 56 of 100\n",
            "building tree 57 of 100\n",
            "building tree 58 of 100\n",
            "building tree 59 of 100\n",
            "building tree 60 of 100\n",
            "building tree 61 of 100\n",
            "building tree 62 of 100\n",
            "building tree 63 of 100\n",
            "building tree 64 of 100\n",
            "building tree 65 of 100\n",
            "building tree 66 of 100\n",
            "building tree 67 of 100\n",
            "building tree 68 of 100\n",
            "building tree 69 of 100\n",
            "building tree 70 of 100\n",
            "building tree 71 of 100\n",
            "building tree 72 of 100\n",
            "building tree 73 of 100\n",
            "building tree 74 of 100\n",
            "building tree 75 of 100\n",
            "building tree 76 of 100\n",
            "building tree 77 of 100\n",
            "building tree 78 of 100\n",
            "building tree 79 of 100\n",
            "building tree 80 of 100\n",
            "building tree 81 of 100\n",
            "building tree 82 of 100\n",
            "building tree 83 of 100\n",
            "building tree 84 of 100\n",
            "building tree 85 of 100\n",
            "building tree 86 of 100\n",
            "building tree 87 of 100\n",
            "building tree 88 of 100\n",
            "building tree 89 of 100\n",
            "building tree 90 of 100\n",
            "building tree 91 of 100\n",
            "building tree 92 of 100\n",
            "building tree 93 of 100\n",
            "building tree 94 of 100\n",
            "building tree 95 of 100\n",
            "building tree 96 of 100\n",
            "building tree 97 of 100\n",
            "building tree 98 of 100\n",
            "building tree 99 of 100\n",
            "building tree 100 of 100\n"
          ],
          "name": "stdout"
        },
        {
          "output_type": "stream",
          "text": [
            "[Parallel(n_jobs=1)]: Done 100 out of 100 | elapsed:   22.7s finished\n",
            "[Parallel(n_jobs=1)]: Using backend SequentialBackend with 1 concurrent workers.\n",
            "[Parallel(n_jobs=1)]: Done   1 out of   1 | elapsed:    0.0s remaining:    0.0s\n",
            "[Parallel(n_jobs=1)]: Done 100 out of 100 | elapsed:    0.2s finished\n",
            "[Parallel(n_jobs=1)]: Using backend SequentialBackend with 1 concurrent workers.\n"
          ],
          "name": "stderr"
        },
        {
          "output_type": "stream",
          "text": [
            "building tree 1 of 100\n"
          ],
          "name": "stdout"
        },
        {
          "output_type": "stream",
          "text": [
            "[Parallel(n_jobs=1)]: Done   1 out of   1 | elapsed:    0.2s remaining:    0.0s\n"
          ],
          "name": "stderr"
        },
        {
          "output_type": "stream",
          "text": [
            "building tree 2 of 100\n",
            "building tree 3 of 100\n",
            "building tree 4 of 100\n",
            "building tree 5 of 100\n",
            "building tree 6 of 100\n",
            "building tree 7 of 100\n",
            "building tree 8 of 100\n",
            "building tree 9 of 100\n",
            "building tree 10 of 100\n",
            "building tree 11 of 100\n",
            "building tree 12 of 100\n",
            "building tree 13 of 100\n",
            "building tree 14 of 100\n",
            "building tree 15 of 100\n",
            "building tree 16 of 100\n",
            "building tree 17 of 100\n",
            "building tree 18 of 100\n",
            "building tree 19 of 100\n",
            "building tree 20 of 100\n",
            "building tree 21 of 100\n",
            "building tree 22 of 100\n",
            "building tree 23 of 100\n",
            "building tree 24 of 100\n",
            "building tree 25 of 100\n",
            "building tree 26 of 100\n",
            "building tree 27 of 100\n",
            "building tree 28 of 100\n",
            "building tree 29 of 100\n",
            "building tree 30 of 100\n",
            "building tree 31 of 100\n",
            "building tree 32 of 100\n",
            "building tree 33 of 100\n",
            "building tree 34 of 100\n",
            "building tree 35 of 100\n",
            "building tree 36 of 100\n",
            "building tree 37 of 100\n",
            "building tree 38 of 100\n",
            "building tree 39 of 100\n",
            "building tree 40 of 100\n",
            "building tree 41 of 100\n",
            "building tree 42 of 100\n",
            "building tree 43 of 100\n",
            "building tree 44 of 100\n",
            "building tree 45 of 100\n",
            "building tree 46 of 100\n",
            "building tree 47 of 100\n",
            "building tree 48 of 100\n",
            "building tree 49 of 100\n",
            "building tree 50 of 100\n",
            "building tree 51 of 100\n",
            "building tree 52 of 100\n",
            "building tree 53 of 100\n",
            "building tree 54 of 100\n",
            "building tree 55 of 100\n",
            "building tree 56 of 100\n",
            "building tree 57 of 100\n",
            "building tree 58 of 100\n",
            "building tree 59 of 100\n",
            "building tree 60 of 100\n",
            "building tree 61 of 100\n",
            "building tree 62 of 100\n",
            "building tree 63 of 100\n",
            "building tree 64 of 100\n",
            "building tree 65 of 100\n",
            "building tree 66 of 100\n",
            "building tree 67 of 100\n",
            "building tree 68 of 100\n",
            "building tree 69 of 100\n",
            "building tree 70 of 100\n",
            "building tree 71 of 100\n",
            "building tree 72 of 100\n",
            "building tree 73 of 100\n",
            "building tree 74 of 100\n",
            "building tree 75 of 100\n",
            "building tree 76 of 100\n",
            "building tree 77 of 100\n",
            "building tree 78 of 100\n",
            "building tree 79 of 100\n",
            "building tree 80 of 100\n",
            "building tree 81 of 100\n",
            "building tree 82 of 100\n",
            "building tree 83 of 100\n",
            "building tree 84 of 100\n",
            "building tree 85 of 100\n",
            "building tree 86 of 100\n",
            "building tree 87 of 100\n",
            "building tree 88 of 100\n",
            "building tree 89 of 100\n",
            "building tree 90 of 100\n",
            "building tree 91 of 100\n",
            "building tree 92 of 100\n",
            "building tree 93 of 100\n",
            "building tree 94 of 100\n",
            "building tree 95 of 100\n",
            "building tree 96 of 100\n",
            "building tree 97 of 100\n",
            "building tree 98 of 100\n",
            "building tree 99 of 100\n",
            "building tree 100 of 100\n"
          ],
          "name": "stdout"
        },
        {
          "output_type": "stream",
          "text": [
            "[Parallel(n_jobs=1)]: Done 100 out of 100 | elapsed:   22.3s finished\n",
            "[Parallel(n_jobs=1)]: Using backend SequentialBackend with 1 concurrent workers.\n",
            "[Parallel(n_jobs=1)]: Done   1 out of   1 | elapsed:    0.0s remaining:    0.0s\n",
            "[Parallel(n_jobs=1)]: Done 100 out of 100 | elapsed:    0.2s finished\n"
          ],
          "name": "stderr"
        },
        {
          "output_type": "stream",
          "text": [
            "0.7670630502985528\n"
          ],
          "name": "stdout"
        }
      ]
    },
    {
      "cell_type": "code",
      "metadata": {
        "colab": {
          "base_uri": "https://localhost:8080/"
        },
        "id": "5RCCWWQrrGs2",
        "outputId": "37ddc256-106d-4757-d402-158f4e54ae8f"
      },
      "source": [
        "# Predicting and creating the confusion matrix and scores\n",
        "predictions = forest.predict(XC_test)\n",
        " \n",
        "cm = confusion_matrix(yc_test,predictions) \n",
        "print(cm)  \n",
        "print(classification_report(yc_test,predictions))  \n",
        "print(accuracy_score(yc_test, predictions))"
      ],
      "execution_count": 42,
      "outputs": [
        {
          "output_type": "stream",
          "text": [
            "[Parallel(n_jobs=1)]: Using backend SequentialBackend with 1 concurrent workers.\n",
            "[Parallel(n_jobs=1)]: Done   1 out of   1 | elapsed:    0.0s remaining:    0.0s\n",
            "[Parallel(n_jobs=1)]: Done 100 out of 100 | elapsed:    0.3s finished\n"
          ],
          "name": "stderr"
        },
        {
          "output_type": "stream",
          "text": [
            "[[2230  353  170]\n",
            " [ 318  466  146]\n",
            " [ 128  132  449]]\n",
            "              precision    recall  f1-score   support\n",
            "\n",
            "           0       0.83      0.81      0.82      2753\n",
            "           1       0.49      0.50      0.50       930\n",
            "           2       0.59      0.63      0.61       709\n",
            "\n",
            "    accuracy                           0.72      4392\n",
            "   macro avg       0.64      0.65      0.64      4392\n",
            "weighted avg       0.72      0.72      0.72      4392\n",
            "\n",
            "0.7160746812386156\n"
          ],
          "name": "stdout"
        }
      ]
    },
    {
      "cell_type": "code",
      "metadata": {
        "colab": {
          "base_uri": "https://localhost:8080/",
          "height": 500
        },
        "id": "j9V4iG34rok7",
        "outputId": "4f233515-bf31-492a-e03a-137fc750b7a4"
      },
      "source": [
        "# Confusion matrix as heatmap\n",
        "df_cm = pd.DataFrame(cm, index = [i for i in range(3)],\n",
        "                     columns = [i for i in range(3)])\n",
        "plt.figure(figsize = (8,8))\n",
        "sns.heatmap(df_cm, annot=True, fmt='d')"
      ],
      "execution_count": 43,
      "outputs": [
        {
          "output_type": "execute_result",
          "data": {
            "text/plain": [
              "<matplotlib.axes._subplots.AxesSubplot at 0x7f17c5ffbf90>"
            ]
          },
          "metadata": {
            "tags": []
          },
          "execution_count": 43
        },
        {
          "output_type": "display_data",
          "data": {
            "image/png": "[encoded data removed]",
            "text/plain": [
              "<Figure size 576x576 with 2 Axes>"
            ]
          },
          "metadata": {
            "tags": [],
            "needs_background": "light"
          }
        }
      ]
    },
    {
      "cell_type": "code",
      "metadata": {
        "colab": {
          "base_uri": "https://localhost:8080/"
        },
        "id": "8zyvsSmGKCO3",
        "outputId": "b30b90d5-2a37-4487-ee08-81a21ac32479"
      },
      "source": [
        "# # Compare actual to predicted values -- model is performing well -- 2 wrong\n",
        "picarr = [0, 59, 89,1234,700]\n",
        "\n",
        "for i in picarr:\n",
        "  print(f\"Predict {i}: {predictions[i]}\")\n",
        "  print(f\"Actual {i}: {yc_test.iloc[i]}\")  "
      ],
      "execution_count": 44,
      "outputs": [
        {
          "output_type": "stream",
          "text": [
            "Predict 0: 0\n",
            "Actual 0: 0\n",
            "Predict 59: 0\n",
            "Actual 59: 0\n",
            "Predict 89: 0\n",
            "Actual 89: 1\n",
            "Predict 1234: 1\n",
            "Actual 1234: 1\n",
            "Predict 700: 0\n",
            "Actual 700: 1\n"
          ],
          "name": "stdout"
        }
      ]
    },
    {
      "cell_type": "code",
      "metadata": {
        "colab": {
          "base_uri": "https://localhost:8080/"
        },
        "id": "LF0REmqgTXnI",
        "outputId": "ed6ea2f6-abb1-4cce-9981-804bda717b90"
      },
      "source": [
        "# Creating TF IDF Vectorizer and printing distribution\n",
        "tfidfconverter = TfidfVectorizer(max_features=1000, min_df=5, max_df=0.7,ngram_range=(1,2))  \n",
        "X = tfidfconverter.fit_transform(clean_tweets)\n",
        "df = pd.DataFrame(X[0].T.todense(), index=tfidfconverter.get_feature_names(), columns=[\"TF-IDF\"])\n",
        "df = df.sort_values('TF-IDF', ascending=False)\n",
        "print (df.head(5000))"
      ],
      "execution_count": 46,
      "outputs": [
        {
          "output_type": "stream",
          "text": [
            "                 TF-IDF\n",
            "say            0.713425\n",
            "virginamerica  0.700732\n",
            "able           0.000000\n",
            "policy         0.000000\n",
            "pout face      0.000000\n",
            "...                 ...\n",
            "forget         0.000000\n",
            "form           0.000000\n",
            "forward        0.000000\n",
            "four           0.000000\n",
            "zero           0.000000\n",
            "\n",
            "[1000 rows x 1 columns]\n"
          ],
          "name": "stdout"
        }
      ]
    },
    {
      "cell_type": "code",
      "metadata": {
        "id": "Mop3ExEdY228"
      },
      "source": [
        "# Creating training and testing set\n",
        "  \n",
        "X_train, X_test, y_train, y_test = train_test_split(X, Y, test_size=0.3, random_state=0, stratify=Y) "
      ],
      "execution_count": 47,
      "outputs": []
    },
    {
      "cell_type": "code",
      "metadata": {
        "colab": {
          "base_uri": "https://localhost:8080/"
        },
        "id": "24G4SLoyIjC1",
        "outputId": "8c69d017-d855-4b48-bc93-2f0e2805804d"
      },
      "source": [
        "# Upsampling\n",
        "oversample = SMOTE()\n",
        "X_train, y_train = oversample.fit_resample(X_train, y_train)"
      ],
      "execution_count": 48,
      "outputs": [
        {
          "output_type": "stream",
          "text": [
            "/usr/local/lib/python3.7/dist-packages/sklearn/utils/deprecation.py:87: FutureWarning: Function safe_indexing is deprecated; safe_indexing is deprecated in version 0.22 and will be removed in version 0.24.\n",
            "  warnings.warn(msg, category=FutureWarning)\n"
          ],
          "name": "stderr"
        }
      ]
    },
    {
      "cell_type": "code",
      "metadata": {
        "colab": {
          "base_uri": "https://localhost:8080/"
        },
        "id": "LqZ6r2p9ZZ3F",
        "outputId": "ee938e20-9936-4eb2-f840-b9cb74b2f14c"
      },
      "source": [
        "# Running RandomForest Classifier and training the model, displaying the score\n",
        "text_classifier = RandomForestClassifier(verbose=2,n_jobs=1,n_estimators = 100, criterion='gini')  \n",
        "text_classifier.fit(X_train, y_train)\n",
        "print (np.mean(cross_val_score(text_classifier,X_train,y_train,cv=10)))"
      ],
      "execution_count": 49,
      "outputs": [
        {
          "output_type": "stream",
          "text": [
            "[Parallel(n_jobs=1)]: Using backend SequentialBackend with 1 concurrent workers.\n"
          ],
          "name": "stderr"
        },
        {
          "output_type": "stream",
          "text": [
            "building tree 1 of 100\n"
          ],
          "name": "stdout"
        },
        {
          "output_type": "stream",
          "text": [
            "[Parallel(n_jobs=1)]: Done   1 out of   1 | elapsed:    0.2s remaining:    0.0s\n"
          ],
          "name": "stderr"
        },
        {
          "output_type": "stream",
          "text": [
            "building tree 2 of 100\n",
            "building tree 3 of 100\n",
            "building tree 4 of 100\n",
            "building tree 5 of 100\n",
            "building tree 6 of 100\n",
            "building tree 7 of 100\n",
            "building tree 8 of 100\n",
            "building tree 9 of 100\n",
            "building tree 10 of 100\n",
            "building tree 11 of 100\n",
            "building tree 12 of 100\n",
            "building tree 13 of 100\n",
            "building tree 14 of 100\n",
            "building tree 15 of 100\n",
            "building tree 16 of 100\n",
            "building tree 17 of 100\n",
            "building tree 18 of 100\n",
            "building tree 19 of 100\n",
            "building tree 20 of 100\n",
            "building tree 21 of 100\n",
            "building tree 22 of 100\n",
            "building tree 23 of 100\n",
            "building tree 24 of 100\n",
            "building tree 25 of 100\n",
            "building tree 26 of 100\n",
            "building tree 27 of 100\n",
            "building tree 28 of 100\n",
            "building tree 29 of 100\n",
            "building tree 30 of 100\n",
            "building tree 31 of 100\n",
            "building tree 32 of 100\n",
            "building tree 33 of 100\n",
            "building tree 34 of 100\n",
            "building tree 35 of 100\n",
            "building tree 36 of 100\n",
            "building tree 37 of 100\n",
            "building tree 38 of 100\n",
            "building tree 39 of 100\n",
            "building tree 40 of 100\n",
            "building tree 41 of 100\n",
            "building tree 42 of 100\n",
            "building tree 43 of 100\n",
            "building tree 44 of 100\n",
            "building tree 45 of 100\n",
            "building tree 46 of 100\n",
            "building tree 47 of 100\n",
            "building tree 48 of 100\n",
            "building tree 49 of 100\n",
            "building tree 50 of 100\n",
            "building tree 51 of 100\n",
            "building tree 52 of 100\n",
            "building tree 53 of 100\n",
            "building tree 54 of 100\n",
            "building tree 55 of 100\n",
            "building tree 56 of 100\n",
            "building tree 57 of 100\n",
            "building tree 58 of 100\n",
            "building tree 59 of 100\n",
            "building tree 60 of 100\n",
            "building tree 61 of 100\n",
            "building tree 62 of 100\n",
            "building tree 63 of 100\n",
            "building tree 64 of 100\n",
            "building tree 65 of 100\n",
            "building tree 66 of 100\n",
            "building tree 67 of 100\n",
            "building tree 68 of 100\n",
            "building tree 69 of 100\n",
            "building tree 70 of 100\n",
            "building tree 71 of 100\n",
            "building tree 72 of 100\n",
            "building tree 73 of 100\n",
            "building tree 74 of 100\n",
            "building tree 75 of 100\n",
            "building tree 76 of 100\n",
            "building tree 77 of 100\n",
            "building tree 78 of 100\n",
            "building tree 79 of 100\n",
            "building tree 80 of 100\n",
            "building tree 81 of 100\n",
            "building tree 82 of 100\n",
            "building tree 83 of 100\n",
            "building tree 84 of 100\n",
            "building tree 85 of 100\n",
            "building tree 86 of 100\n",
            "building tree 87 of 100\n",
            "building tree 88 of 100\n",
            "building tree 89 of 100\n",
            "building tree 90 of 100\n",
            "building tree 91 of 100\n",
            "building tree 92 of 100\n",
            "building tree 93 of 100\n",
            "building tree 94 of 100\n",
            "building tree 95 of 100\n",
            "building tree 96 of 100\n",
            "building tree 97 of 100\n",
            "building tree 98 of 100\n",
            "building tree 99 of 100\n",
            "building tree 100 of 100\n"
          ],
          "name": "stdout"
        },
        {
          "output_type": "stream",
          "text": [
            "[Parallel(n_jobs=1)]: Done 100 out of 100 | elapsed:   16.7s finished\n",
            "[Parallel(n_jobs=1)]: Using backend SequentialBackend with 1 concurrent workers.\n"
          ],
          "name": "stderr"
        },
        {
          "output_type": "stream",
          "text": [
            "building tree 1 of 100\n"
          ],
          "name": "stdout"
        },
        {
          "output_type": "stream",
          "text": [
            "[Parallel(n_jobs=1)]: Done   1 out of   1 | elapsed:    0.1s remaining:    0.0s\n"
          ],
          "name": "stderr"
        },
        {
          "output_type": "stream",
          "text": [
            "building tree 2 of 100\n",
            "building tree 3 of 100\n",
            "building tree 4 of 100\n",
            "building tree 5 of 100\n",
            "building tree 6 of 100\n",
            "building tree 7 of 100\n",
            "building tree 8 of 100\n",
            "building tree 9 of 100\n",
            "building tree 10 of 100\n",
            "building tree 11 of 100\n",
            "building tree 12 of 100\n",
            "building tree 13 of 100\n",
            "building tree 14 of 100\n",
            "building tree 15 of 100\n",
            "building tree 16 of 100\n",
            "building tree 17 of 100\n",
            "building tree 18 of 100\n",
            "building tree 19 of 100\n",
            "building tree 20 of 100\n",
            "building tree 21 of 100\n",
            "building tree 22 of 100\n",
            "building tree 23 of 100\n",
            "building tree 24 of 100\n",
            "building tree 25 of 100\n",
            "building tree 26 of 100\n",
            "building tree 27 of 100\n",
            "building tree 28 of 100\n",
            "building tree 29 of 100\n",
            "building tree 30 of 100\n",
            "building tree 31 of 100\n",
            "building tree 32 of 100\n",
            "building tree 33 of 100\n",
            "building tree 34 of 100\n",
            "building tree 35 of 100\n",
            "building tree 36 of 100\n",
            "building tree 37 of 100\n",
            "building tree 38 of 100\n",
            "building tree 39 of 100\n",
            "building tree 40 of 100\n",
            "building tree 41 of 100\n",
            "building tree 42 of 100\n",
            "building tree 43 of 100\n",
            "building tree 44 of 100\n",
            "building tree 45 of 100\n",
            "building tree 46 of 100\n",
            "building tree 47 of 100\n",
            "building tree 48 of 100\n",
            "building tree 49 of 100\n",
            "building tree 50 of 100\n",
            "building tree 51 of 100\n",
            "building tree 52 of 100\n",
            "building tree 53 of 100\n",
            "building tree 54 of 100\n",
            "building tree 55 of 100\n",
            "building tree 56 of 100\n",
            "building tree 57 of 100\n",
            "building tree 58 of 100\n",
            "building tree 59 of 100\n",
            "building tree 60 of 100\n",
            "building tree 61 of 100\n",
            "building tree 62 of 100\n",
            "building tree 63 of 100\n",
            "building tree 64 of 100\n",
            "building tree 65 of 100\n",
            "building tree 66 of 100\n",
            "building tree 67 of 100\n",
            "building tree 68 of 100\n",
            "building tree 69 of 100\n",
            "building tree 70 of 100\n",
            "building tree 71 of 100\n",
            "building tree 72 of 100\n",
            "building tree 73 of 100\n",
            "building tree 74 of 100\n",
            "building tree 75 of 100\n",
            "building tree 76 of 100\n",
            "building tree 77 of 100\n",
            "building tree 78 of 100\n",
            "building tree 79 of 100\n",
            "building tree 80 of 100\n",
            "building tree 81 of 100\n",
            "building tree 82 of 100\n",
            "building tree 83 of 100\n",
            "building tree 84 of 100\n",
            "building tree 85 of 100\n",
            "building tree 86 of 100\n",
            "building tree 87 of 100\n",
            "building tree 88 of 100\n",
            "building tree 89 of 100\n",
            "building tree 90 of 100\n",
            "building tree 91 of 100\n",
            "building tree 92 of 100\n",
            "building tree 93 of 100\n",
            "building tree 94 of 100\n",
            "building tree 95 of 100\n",
            "building tree 96 of 100\n",
            "building tree 97 of 100\n",
            "building tree 98 of 100\n",
            "building tree 99 of 100\n",
            "building tree 100 of 100\n"
          ],
          "name": "stdout"
        },
        {
          "output_type": "stream",
          "text": [
            "[Parallel(n_jobs=1)]: Done 100 out of 100 | elapsed:   14.3s finished\n",
            "[Parallel(n_jobs=1)]: Using backend SequentialBackend with 1 concurrent workers.\n",
            "[Parallel(n_jobs=1)]: Done   1 out of   1 | elapsed:    0.0s remaining:    0.0s\n",
            "[Parallel(n_jobs=1)]: Done 100 out of 100 | elapsed:    0.1s finished\n",
            "[Parallel(n_jobs=1)]: Using backend SequentialBackend with 1 concurrent workers.\n"
          ],
          "name": "stderr"
        },
        {
          "output_type": "stream",
          "text": [
            "building tree 1 of 100\n"
          ],
          "name": "stdout"
        },
        {
          "output_type": "stream",
          "text": [
            "[Parallel(n_jobs=1)]: Done   1 out of   1 | elapsed:    0.2s remaining:    0.0s\n"
          ],
          "name": "stderr"
        },
        {
          "output_type": "stream",
          "text": [
            "building tree 2 of 100\n",
            "building tree 3 of 100\n",
            "building tree 4 of 100\n",
            "building tree 5 of 100\n",
            "building tree 6 of 100\n",
            "building tree 7 of 100\n",
            "building tree 8 of 100\n",
            "building tree 9 of 100\n",
            "building tree 10 of 100\n",
            "building tree 11 of 100\n",
            "building tree 12 of 100\n",
            "building tree 13 of 100\n",
            "building tree 14 of 100\n",
            "building tree 15 of 100\n",
            "building tree 16 of 100\n",
            "building tree 17 of 100\n",
            "building tree 18 of 100\n",
            "building tree 19 of 100\n",
            "building tree 20 of 100\n",
            "building tree 21 of 100\n",
            "building tree 22 of 100\n",
            "building tree 23 of 100\n",
            "building tree 24 of 100\n",
            "building tree 25 of 100\n",
            "building tree 26 of 100\n",
            "building tree 27 of 100\n",
            "building tree 28 of 100\n",
            "building tree 29 of 100\n",
            "building tree 30 of 100\n",
            "building tree 31 of 100\n",
            "building tree 32 of 100\n",
            "building tree 33 of 100\n",
            "building tree 34 of 100\n",
            "building tree 35 of 100\n",
            "building tree 36 of 100\n",
            "building tree 37 of 100\n",
            "building tree 38 of 100\n",
            "building tree 39 of 100\n",
            "building tree 40 of 100\n",
            "building tree 41 of 100\n",
            "building tree 42 of 100\n",
            "building tree 43 of 100\n",
            "building tree 44 of 100\n",
            "building tree 45 of 100\n",
            "building tree 46 of 100\n",
            "building tree 47 of 100\n",
            "building tree 48 of 100\n",
            "building tree 49 of 100\n",
            "building tree 50 of 100\n",
            "building tree 51 of 100\n",
            "building tree 52 of 100\n",
            "building tree 53 of 100\n",
            "building tree 54 of 100\n",
            "building tree 55 of 100\n",
            "building tree 56 of 100\n",
            "building tree 57 of 100\n",
            "building tree 58 of 100\n",
            "building tree 59 of 100\n",
            "building tree 60 of 100\n",
            "building tree 61 of 100\n",
            "building tree 62 of 100\n",
            "building tree 63 of 100\n",
            "building tree 64 of 100\n",
            "building tree 65 of 100\n",
            "building tree 66 of 100\n",
            "building tree 67 of 100\n",
            "building tree 68 of 100\n",
            "building tree 69 of 100\n",
            "building tree 70 of 100\n",
            "building tree 71 of 100\n",
            "building tree 72 of 100\n",
            "building tree 73 of 100\n",
            "building tree 74 of 100\n",
            "building tree 75 of 100\n",
            "building tree 76 of 100\n",
            "building tree 77 of 100\n",
            "building tree 78 of 100\n",
            "building tree 79 of 100\n",
            "building tree 80 of 100\n",
            "building tree 81 of 100\n",
            "building tree 82 of 100\n",
            "building tree 83 of 100\n",
            "building tree 84 of 100\n",
            "building tree 85 of 100\n",
            "building tree 86 of 100\n",
            "building tree 87 of 100\n",
            "building tree 88 of 100\n",
            "building tree 89 of 100\n",
            "building tree 90 of 100\n",
            "building tree 91 of 100\n",
            "building tree 92 of 100\n",
            "building tree 93 of 100\n",
            "building tree 94 of 100\n",
            "building tree 95 of 100\n",
            "building tree 96 of 100\n",
            "building tree 97 of 100\n",
            "building tree 98 of 100\n",
            "building tree 99 of 100\n",
            "building tree 100 of 100\n"
          ],
          "name": "stdout"
        },
        {
          "output_type": "stream",
          "text": [
            "[Parallel(n_jobs=1)]: Done 100 out of 100 | elapsed:   14.1s finished\n",
            "[Parallel(n_jobs=1)]: Using backend SequentialBackend with 1 concurrent workers.\n",
            "[Parallel(n_jobs=1)]: Done   1 out of   1 | elapsed:    0.0s remaining:    0.0s\n",
            "[Parallel(n_jobs=1)]: Done 100 out of 100 | elapsed:    0.1s finished\n",
            "[Parallel(n_jobs=1)]: Using backend SequentialBackend with 1 concurrent workers.\n"
          ],
          "name": "stderr"
        },
        {
          "output_type": "stream",
          "text": [
            "building tree 1 of 100\n"
          ],
          "name": "stdout"
        },
        {
          "output_type": "stream",
          "text": [
            "[Parallel(n_jobs=1)]: Done   1 out of   1 | elapsed:    0.1s remaining:    0.0s\n"
          ],
          "name": "stderr"
        },
        {
          "output_type": "stream",
          "text": [
            "building tree 2 of 100\n",
            "building tree 3 of 100\n",
            "building tree 4 of 100\n",
            "building tree 5 of 100\n",
            "building tree 6 of 100\n",
            "building tree 7 of 100\n",
            "building tree 8 of 100\n",
            "building tree 9 of 100\n",
            "building tree 10 of 100\n",
            "building tree 11 of 100\n",
            "building tree 12 of 100\n",
            "building tree 13 of 100\n",
            "building tree 14 of 100\n",
            "building tree 15 of 100\n",
            "building tree 16 of 100\n",
            "building tree 17 of 100\n",
            "building tree 18 of 100\n",
            "building tree 19 of 100\n",
            "building tree 20 of 100\n",
            "building tree 21 of 100\n",
            "building tree 22 of 100\n",
            "building tree 23 of 100\n",
            "building tree 24 of 100\n",
            "building tree 25 of 100\n",
            "building tree 26 of 100\n",
            "building tree 27 of 100\n",
            "building tree 28 of 100\n",
            "building tree 29 of 100\n",
            "building tree 30 of 100\n",
            "building tree 31 of 100\n",
            "building tree 32 of 100\n",
            "building tree 33 of 100\n",
            "building tree 34 of 100\n",
            "building tree 35 of 100\n",
            "building tree 36 of 100\n",
            "building tree 37 of 100\n",
            "building tree 38 of 100\n",
            "building tree 39 of 100\n",
            "building tree 40 of 100\n",
            "building tree 41 of 100\n",
            "building tree 42 of 100\n",
            "building tree 43 of 100\n",
            "building tree 44 of 100\n",
            "building tree 45 of 100\n",
            "building tree 46 of 100\n",
            "building tree 47 of 100\n",
            "building tree 48 of 100\n",
            "building tree 49 of 100\n",
            "building tree 50 of 100\n",
            "building tree 51 of 100\n",
            "building tree 52 of 100\n",
            "building tree 53 of 100\n",
            "building tree 54 of 100\n",
            "building tree 55 of 100\n",
            "building tree 56 of 100\n",
            "building tree 57 of 100\n",
            "building tree 58 of 100\n",
            "building tree 59 of 100\n",
            "building tree 60 of 100\n",
            "building tree 61 of 100\n",
            "building tree 62 of 100\n",
            "building tree 63 of 100\n",
            "building tree 64 of 100\n",
            "building tree 65 of 100\n",
            "building tree 66 of 100\n",
            "building tree 67 of 100\n",
            "building tree 68 of 100\n",
            "building tree 69 of 100\n",
            "building tree 70 of 100\n",
            "building tree 71 of 100\n",
            "building tree 72 of 100\n",
            "building tree 73 of 100\n",
            "building tree 74 of 100\n",
            "building tree 75 of 100\n",
            "building tree 76 of 100\n",
            "building tree 77 of 100\n",
            "building tree 78 of 100\n",
            "building tree 79 of 100\n",
            "building tree 80 of 100\n",
            "building tree 81 of 100\n",
            "building tree 82 of 100\n",
            "building tree 83 of 100\n",
            "building tree 84 of 100\n",
            "building tree 85 of 100\n",
            "building tree 86 of 100\n",
            "building tree 87 of 100\n",
            "building tree 88 of 100\n",
            "building tree 89 of 100\n",
            "building tree 90 of 100\n",
            "building tree 91 of 100\n",
            "building tree 92 of 100\n",
            "building tree 93 of 100\n",
            "building tree 94 of 100\n",
            "building tree 95 of 100\n",
            "building tree 96 of 100\n",
            "building tree 97 of 100\n",
            "building tree 98 of 100\n",
            "building tree 99 of 100\n",
            "building tree 100 of 100\n"
          ],
          "name": "stdout"
        },
        {
          "output_type": "stream",
          "text": [
            "[Parallel(n_jobs=1)]: Done 100 out of 100 | elapsed:   14.3s finished\n",
            "[Parallel(n_jobs=1)]: Using backend SequentialBackend with 1 concurrent workers.\n",
            "[Parallel(n_jobs=1)]: Done   1 out of   1 | elapsed:    0.0s remaining:    0.0s\n",
            "[Parallel(n_jobs=1)]: Done 100 out of 100 | elapsed:    0.1s finished\n",
            "[Parallel(n_jobs=1)]: Using backend SequentialBackend with 1 concurrent workers.\n"
          ],
          "name": "stderr"
        },
        {
          "output_type": "stream",
          "text": [
            "building tree 1 of 100\n"
          ],
          "name": "stdout"
        },
        {
          "output_type": "stream",
          "text": [
            "[Parallel(n_jobs=1)]: Done   1 out of   1 | elapsed:    0.1s remaining:    0.0s\n"
          ],
          "name": "stderr"
        },
        {
          "output_type": "stream",
          "text": [
            "building tree 2 of 100\n",
            "building tree 3 of 100\n",
            "building tree 4 of 100\n",
            "building tree 5 of 100\n",
            "building tree 6 of 100\n",
            "building tree 7 of 100\n",
            "building tree 8 of 100\n",
            "building tree 9 of 100\n",
            "building tree 10 of 100\n",
            "building tree 11 of 100\n",
            "building tree 12 of 100\n",
            "building tree 13 of 100\n",
            "building tree 14 of 100\n",
            "building tree 15 of 100\n",
            "building tree 16 of 100\n",
            "building tree 17 of 100\n",
            "building tree 18 of 100\n",
            "building tree 19 of 100\n",
            "building tree 20 of 100\n",
            "building tree 21 of 100\n",
            "building tree 22 of 100\n",
            "building tree 23 of 100\n",
            "building tree 24 of 100\n",
            "building tree 25 of 100\n",
            "building tree 26 of 100\n",
            "building tree 27 of 100\n",
            "building tree 28 of 100\n",
            "building tree 29 of 100\n",
            "building tree 30 of 100\n",
            "building tree 31 of 100\n",
            "building tree 32 of 100\n",
            "building tree 33 of 100\n",
            "building tree 34 of 100\n",
            "building tree 35 of 100\n",
            "building tree 36 of 100\n",
            "building tree 37 of 100\n",
            "building tree 38 of 100\n",
            "building tree 39 of 100\n",
            "building tree 40 of 100\n",
            "building tree 41 of 100\n",
            "building tree 42 of 100\n",
            "building tree 43 of 100\n",
            "building tree 44 of 100\n",
            "building tree 45 of 100\n",
            "building tree 46 of 100\n",
            "building tree 47 of 100\n",
            "building tree 48 of 100\n",
            "building tree 49 of 100\n",
            "building tree 50 of 100\n",
            "building tree 51 of 100\n",
            "building tree 52 of 100\n",
            "building tree 53 of 100\n",
            "building tree 54 of 100\n",
            "building tree 55 of 100\n",
            "building tree 56 of 100\n",
            "building tree 57 of 100\n",
            "building tree 58 of 100\n",
            "building tree 59 of 100\n",
            "building tree 60 of 100\n",
            "building tree 61 of 100\n",
            "building tree 62 of 100\n",
            "building tree 63 of 100\n",
            "building tree 64 of 100\n",
            "building tree 65 of 100\n",
            "building tree 66 of 100\n",
            "building tree 67 of 100\n",
            "building tree 68 of 100\n",
            "building tree 69 of 100\n",
            "building tree 70 of 100\n",
            "building tree 71 of 100\n",
            "building tree 72 of 100\n",
            "building tree 73 of 100\n",
            "building tree 74 of 100\n",
            "building tree 75 of 100\n",
            "building tree 76 of 100\n",
            "building tree 77 of 100\n",
            "building tree 78 of 100\n",
            "building tree 79 of 100\n",
            "building tree 80 of 100\n",
            "building tree 81 of 100\n",
            "building tree 82 of 100\n",
            "building tree 83 of 100\n",
            "building tree 84 of 100\n",
            "building tree 85 of 100\n",
            "building tree 86 of 100\n",
            "building tree 87 of 100\n",
            "building tree 88 of 100\n",
            "building tree 89 of 100\n",
            "building tree 90 of 100\n",
            "building tree 91 of 100\n",
            "building tree 92 of 100\n",
            "building tree 93 of 100\n",
            "building tree 94 of 100\n",
            "building tree 95 of 100\n",
            "building tree 96 of 100\n",
            "building tree 97 of 100\n",
            "building tree 98 of 100\n",
            "building tree 99 of 100\n",
            "building tree 100 of 100\n"
          ],
          "name": "stdout"
        },
        {
          "output_type": "stream",
          "text": [
            "[Parallel(n_jobs=1)]: Done 100 out of 100 | elapsed:   14.6s finished\n",
            "[Parallel(n_jobs=1)]: Using backend SequentialBackend with 1 concurrent workers.\n",
            "[Parallel(n_jobs=1)]: Done   1 out of   1 | elapsed:    0.0s remaining:    0.0s\n",
            "[Parallel(n_jobs=1)]: Done 100 out of 100 | elapsed:    0.1s finished\n",
            "[Parallel(n_jobs=1)]: Using backend SequentialBackend with 1 concurrent workers.\n"
          ],
          "name": "stderr"
        },
        {
          "output_type": "stream",
          "text": [
            "building tree 1 of 100\n"
          ],
          "name": "stdout"
        },
        {
          "output_type": "stream",
          "text": [
            "[Parallel(n_jobs=1)]: Done   1 out of   1 | elapsed:    0.2s remaining:    0.0s\n"
          ],
          "name": "stderr"
        },
        {
          "output_type": "stream",
          "text": [
            "building tree 2 of 100\n",
            "building tree 3 of 100\n",
            "building tree 4 of 100\n",
            "building tree 5 of 100\n",
            "building tree 6 of 100\n",
            "building tree 7 of 100\n",
            "building tree 8 of 100\n",
            "building tree 9 of 100\n",
            "building tree 10 of 100\n",
            "building tree 11 of 100\n",
            "building tree 12 of 100\n",
            "building tree 13 of 100\n",
            "building tree 14 of 100\n",
            "building tree 15 of 100\n",
            "building tree 16 of 100\n",
            "building tree 17 of 100\n",
            "building tree 18 of 100\n",
            "building tree 19 of 100\n",
            "building tree 20 of 100\n",
            "building tree 21 of 100\n",
            "building tree 22 of 100\n",
            "building tree 23 of 100\n",
            "building tree 24 of 100\n",
            "building tree 25 of 100\n",
            "building tree 26 of 100\n",
            "building tree 27 of 100\n",
            "building tree 28 of 100\n",
            "building tree 29 of 100\n",
            "building tree 30 of 100\n",
            "building tree 31 of 100\n",
            "building tree 32 of 100\n",
            "building tree 33 of 100\n",
            "building tree 34 of 100\n",
            "building tree 35 of 100\n",
            "building tree 36 of 100\n",
            "building tree 37 of 100\n",
            "building tree 38 of 100\n",
            "building tree 39 of 100\n",
            "building tree 40 of 100\n",
            "building tree 41 of 100\n",
            "building tree 42 of 100\n",
            "building tree 43 of 100\n",
            "building tree 44 of 100\n",
            "building tree 45 of 100\n",
            "building tree 46 of 100\n",
            "building tree 47 of 100\n",
            "building tree 48 of 100\n",
            "building tree 49 of 100\n",
            "building tree 50 of 100\n",
            "building tree 51 of 100\n",
            "building tree 52 of 100\n",
            "building tree 53 of 100\n",
            "building tree 54 of 100\n",
            "building tree 55 of 100\n",
            "building tree 56 of 100\n",
            "building tree 57 of 100\n",
            "building tree 58 of 100\n",
            "building tree 59 of 100\n",
            "building tree 60 of 100\n",
            "building tree 61 of 100\n",
            "building tree 62 of 100\n",
            "building tree 63 of 100\n",
            "building tree 64 of 100\n",
            "building tree 65 of 100\n",
            "building tree 66 of 100\n",
            "building tree 67 of 100\n",
            "building tree 68 of 100\n",
            "building tree 69 of 100\n",
            "building tree 70 of 100\n",
            "building tree 71 of 100\n",
            "building tree 72 of 100\n",
            "building tree 73 of 100\n",
            "building tree 74 of 100\n",
            "building tree 75 of 100\n",
            "building tree 76 of 100\n",
            "building tree 77 of 100\n",
            "building tree 78 of 100\n",
            "building tree 79 of 100\n",
            "building tree 80 of 100\n",
            "building tree 81 of 100\n",
            "building tree 82 of 100\n",
            "building tree 83 of 100\n",
            "building tree 84 of 100\n",
            "building tree 85 of 100\n",
            "building tree 86 of 100\n",
            "building tree 87 of 100\n",
            "building tree 88 of 100\n",
            "building tree 89 of 100\n",
            "building tree 90 of 100\n",
            "building tree 91 of 100\n",
            "building tree 92 of 100\n",
            "building tree 93 of 100\n",
            "building tree 94 of 100\n",
            "building tree 95 of 100\n",
            "building tree 96 of 100\n",
            "building tree 97 of 100\n",
            "building tree 98 of 100\n",
            "building tree 99 of 100\n",
            "building tree 100 of 100\n"
          ],
          "name": "stdout"
        },
        {
          "output_type": "stream",
          "text": [
            "[Parallel(n_jobs=1)]: Done 100 out of 100 | elapsed:   14.6s finished\n",
            "[Parallel(n_jobs=1)]: Using backend SequentialBackend with 1 concurrent workers.\n",
            "[Parallel(n_jobs=1)]: Done   1 out of   1 | elapsed:    0.0s remaining:    0.0s\n",
            "[Parallel(n_jobs=1)]: Done 100 out of 100 | elapsed:    0.1s finished\n",
            "[Parallel(n_jobs=1)]: Using backend SequentialBackend with 1 concurrent workers.\n"
          ],
          "name": "stderr"
        },
        {
          "output_type": "stream",
          "text": [
            "building tree 1 of 100\n"
          ],
          "name": "stdout"
        },
        {
          "output_type": "stream",
          "text": [
            "[Parallel(n_jobs=1)]: Done   1 out of   1 | elapsed:    0.2s remaining:    0.0s\n"
          ],
          "name": "stderr"
        },
        {
          "output_type": "stream",
          "text": [
            "building tree 2 of 100\n",
            "building tree 3 of 100\n",
            "building tree 4 of 100\n",
            "building tree 5 of 100\n",
            "building tree 6 of 100\n",
            "building tree 7 of 100\n",
            "building tree 8 of 100\n",
            "building tree 9 of 100\n",
            "building tree 10 of 100\n",
            "building tree 11 of 100\n",
            "building tree 12 of 100\n",
            "building tree 13 of 100\n",
            "building tree 14 of 100\n",
            "building tree 15 of 100\n",
            "building tree 16 of 100\n",
            "building tree 17 of 100\n",
            "building tree 18 of 100\n",
            "building tree 19 of 100\n",
            "building tree 20 of 100\n",
            "building tree 21 of 100\n",
            "building tree 22 of 100\n",
            "building tree 23 of 100\n",
            "building tree 24 of 100\n",
            "building tree 25 of 100\n",
            "building tree 26 of 100\n",
            "building tree 27 of 100\n",
            "building tree 28 of 100\n",
            "building tree 29 of 100\n",
            "building tree 30 of 100\n",
            "building tree 31 of 100\n",
            "building tree 32 of 100\n",
            "building tree 33 of 100\n",
            "building tree 34 of 100\n",
            "building tree 35 of 100\n",
            "building tree 36 of 100\n",
            "building tree 37 of 100\n",
            "building tree 38 of 100\n",
            "building tree 39 of 100\n",
            "building tree 40 of 100\n",
            "building tree 41 of 100\n",
            "building tree 42 of 100\n",
            "building tree 43 of 100\n",
            "building tree 44 of 100\n",
            "building tree 45 of 100\n",
            "building tree 46 of 100\n",
            "building tree 47 of 100\n",
            "building tree 48 of 100\n",
            "building tree 49 of 100\n",
            "building tree 50 of 100\n",
            "building tree 51 of 100\n",
            "building tree 52 of 100\n",
            "building tree 53 of 100\n",
            "building tree 54 of 100\n",
            "building tree 55 of 100\n",
            "building tree 56 of 100\n",
            "building tree 57 of 100\n",
            "building tree 58 of 100\n",
            "building tree 59 of 100\n",
            "building tree 60 of 100\n",
            "building tree 61 of 100\n",
            "building tree 62 of 100\n",
            "building tree 63 of 100\n",
            "building tree 64 of 100\n",
            "building tree 65 of 100\n",
            "building tree 66 of 100\n",
            "building tree 67 of 100\n",
            "building tree 68 of 100\n",
            "building tree 69 of 100\n",
            "building tree 70 of 100\n",
            "building tree 71 of 100\n",
            "building tree 72 of 100\n",
            "building tree 73 of 100\n",
            "building tree 74 of 100\n",
            "building tree 75 of 100\n",
            "building tree 76 of 100\n",
            "building tree 77 of 100\n",
            "building tree 78 of 100\n",
            "building tree 79 of 100\n",
            "building tree 80 of 100\n",
            "building tree 81 of 100\n",
            "building tree 82 of 100\n",
            "building tree 83 of 100\n",
            "building tree 84 of 100\n",
            "building tree 85 of 100\n",
            "building tree 86 of 100\n",
            "building tree 87 of 100\n",
            "building tree 88 of 100\n",
            "building tree 89 of 100\n",
            "building tree 90 of 100\n",
            "building tree 91 of 100\n",
            "building tree 92 of 100\n",
            "building tree 93 of 100\n",
            "building tree 94 of 100\n",
            "building tree 95 of 100\n",
            "building tree 96 of 100\n",
            "building tree 97 of 100\n",
            "building tree 98 of 100\n",
            "building tree 99 of 100\n",
            "building tree 100 of 100\n"
          ],
          "name": "stdout"
        },
        {
          "output_type": "stream",
          "text": [
            "[Parallel(n_jobs=1)]: Done 100 out of 100 | elapsed:   14.6s finished\n",
            "[Parallel(n_jobs=1)]: Using backend SequentialBackend with 1 concurrent workers.\n",
            "[Parallel(n_jobs=1)]: Done   1 out of   1 | elapsed:    0.0s remaining:    0.0s\n",
            "[Parallel(n_jobs=1)]: Done 100 out of 100 | elapsed:    0.1s finished\n",
            "[Parallel(n_jobs=1)]: Using backend SequentialBackend with 1 concurrent workers.\n"
          ],
          "name": "stderr"
        },
        {
          "output_type": "stream",
          "text": [
            "building tree 1 of 100\n"
          ],
          "name": "stdout"
        },
        {
          "output_type": "stream",
          "text": [
            "[Parallel(n_jobs=1)]: Done   1 out of   1 | elapsed:    0.1s remaining:    0.0s\n"
          ],
          "name": "stderr"
        },
        {
          "output_type": "stream",
          "text": [
            "building tree 2 of 100\n",
            "building tree 3 of 100\n",
            "building tree 4 of 100\n",
            "building tree 5 of 100\n",
            "building tree 6 of 100\n",
            "building tree 7 of 100\n",
            "building tree 8 of 100\n",
            "building tree 9 of 100\n",
            "building tree 10 of 100\n",
            "building tree 11 of 100\n",
            "building tree 12 of 100\n",
            "building tree 13 of 100\n",
            "building tree 14 of 100\n",
            "building tree 15 of 100\n",
            "building tree 16 of 100\n",
            "building tree 17 of 100\n",
            "building tree 18 of 100\n",
            "building tree 19 of 100\n",
            "building tree 20 of 100\n",
            "building tree 21 of 100\n",
            "building tree 22 of 100\n",
            "building tree 23 of 100\n",
            "building tree 24 of 100\n",
            "building tree 25 of 100\n",
            "building tree 26 of 100\n",
            "building tree 27 of 100\n",
            "building tree 28 of 100\n",
            "building tree 29 of 100\n",
            "building tree 30 of 100\n",
            "building tree 31 of 100\n",
            "building tree 32 of 100\n",
            "building tree 33 of 100\n",
            "building tree 34 of 100\n",
            "building tree 35 of 100\n",
            "building tree 36 of 100\n",
            "building tree 37 of 100\n",
            "building tree 38 of 100\n",
            "building tree 39 of 100\n",
            "building tree 40 of 100\n",
            "building tree 41 of 100\n",
            "building tree 42 of 100\n",
            "building tree 43 of 100\n",
            "building tree 44 of 100\n",
            "building tree 45 of 100\n",
            "building tree 46 of 100\n",
            "building tree 47 of 100\n",
            "building tree 48 of 100\n",
            "building tree 49 of 100\n",
            "building tree 50 of 100\n",
            "building tree 51 of 100\n",
            "building tree 52 of 100\n",
            "building tree 53 of 100\n",
            "building tree 54 of 100\n",
            "building tree 55 of 100\n",
            "building tree 56 of 100\n",
            "building tree 57 of 100\n",
            "building tree 58 of 100\n",
            "building tree 59 of 100\n",
            "building tree 60 of 100\n",
            "building tree 61 of 100\n",
            "building tree 62 of 100\n",
            "building tree 63 of 100\n",
            "building tree 64 of 100\n",
            "building tree 65 of 100\n",
            "building tree 66 of 100\n",
            "building tree 67 of 100\n",
            "building tree 68 of 100\n",
            "building tree 69 of 100\n",
            "building tree 70 of 100\n",
            "building tree 71 of 100\n",
            "building tree 72 of 100\n",
            "building tree 73 of 100\n",
            "building tree 74 of 100\n",
            "building tree 75 of 100\n",
            "building tree 76 of 100\n",
            "building tree 77 of 100\n",
            "building tree 78 of 100\n",
            "building tree 79 of 100\n",
            "building tree 80 of 100\n",
            "building tree 81 of 100\n",
            "building tree 82 of 100\n",
            "building tree 83 of 100\n",
            "building tree 84 of 100\n",
            "building tree 85 of 100\n",
            "building tree 86 of 100\n",
            "building tree 87 of 100\n",
            "building tree 88 of 100\n",
            "building tree 89 of 100\n",
            "building tree 90 of 100\n",
            "building tree 91 of 100\n",
            "building tree 92 of 100\n",
            "building tree 93 of 100\n",
            "building tree 94 of 100\n",
            "building tree 95 of 100\n",
            "building tree 96 of 100\n",
            "building tree 97 of 100\n",
            "building tree 98 of 100\n",
            "building tree 99 of 100\n",
            "building tree 100 of 100\n"
          ],
          "name": "stdout"
        },
        {
          "output_type": "stream",
          "text": [
            "[Parallel(n_jobs=1)]: Done 100 out of 100 | elapsed:   14.6s finished\n",
            "[Parallel(n_jobs=1)]: Using backend SequentialBackend with 1 concurrent workers.\n",
            "[Parallel(n_jobs=1)]: Done   1 out of   1 | elapsed:    0.0s remaining:    0.0s\n",
            "[Parallel(n_jobs=1)]: Done 100 out of 100 | elapsed:    0.1s finished\n",
            "[Parallel(n_jobs=1)]: Using backend SequentialBackend with 1 concurrent workers.\n"
          ],
          "name": "stderr"
        },
        {
          "output_type": "stream",
          "text": [
            "building tree 1 of 100\n"
          ],
          "name": "stdout"
        },
        {
          "output_type": "stream",
          "text": [
            "[Parallel(n_jobs=1)]: Done   1 out of   1 | elapsed:    0.1s remaining:    0.0s\n"
          ],
          "name": "stderr"
        },
        {
          "output_type": "stream",
          "text": [
            "building tree 2 of 100\n",
            "building tree 3 of 100\n",
            "building tree 4 of 100\n",
            "building tree 5 of 100\n",
            "building tree 6 of 100\n",
            "building tree 7 of 100\n",
            "building tree 8 of 100\n",
            "building tree 9 of 100\n",
            "building tree 10 of 100\n",
            "building tree 11 of 100\n",
            "building tree 12 of 100\n",
            "building tree 13 of 100\n",
            "building tree 14 of 100\n",
            "building tree 15 of 100\n",
            "building tree 16 of 100\n",
            "building tree 17 of 100\n",
            "building tree 18 of 100\n",
            "building tree 19 of 100\n",
            "building tree 20 of 100\n",
            "building tree 21 of 100\n",
            "building tree 22 of 100\n",
            "building tree 23 of 100\n",
            "building tree 24 of 100\n",
            "building tree 25 of 100\n",
            "building tree 26 of 100\n",
            "building tree 27 of 100\n",
            "building tree 28 of 100\n",
            "building tree 29 of 100\n",
            "building tree 30 of 100\n",
            "building tree 31 of 100\n",
            "building tree 32 of 100\n",
            "building tree 33 of 100\n",
            "building tree 34 of 100\n",
            "building tree 35 of 100\n",
            "building tree 36 of 100\n",
            "building tree 37 of 100\n",
            "building tree 38 of 100\n",
            "building tree 39 of 100\n",
            "building tree 40 of 100\n",
            "building tree 41 of 100\n",
            "building tree 42 of 100\n",
            "building tree 43 of 100\n",
            "building tree 44 of 100\n",
            "building tree 45 of 100\n",
            "building tree 46 of 100\n",
            "building tree 47 of 100\n",
            "building tree 48 of 100\n",
            "building tree 49 of 100\n",
            "building tree 50 of 100\n",
            "building tree 51 of 100\n",
            "building tree 52 of 100\n",
            "building tree 53 of 100\n",
            "building tree 54 of 100\n",
            "building tree 55 of 100\n",
            "building tree 56 of 100\n",
            "building tree 57 of 100\n",
            "building tree 58 of 100\n",
            "building tree 59 of 100\n",
            "building tree 60 of 100\n",
            "building tree 61 of 100\n",
            "building tree 62 of 100\n",
            "building tree 63 of 100\n",
            "building tree 64 of 100\n",
            "building tree 65 of 100\n",
            "building tree 66 of 100\n",
            "building tree 67 of 100\n",
            "building tree 68 of 100\n",
            "building tree 69 of 100\n",
            "building tree 70 of 100\n",
            "building tree 71 of 100\n",
            "building tree 72 of 100\n",
            "building tree 73 of 100\n",
            "building tree 74 of 100\n",
            "building tree 75 of 100\n",
            "building tree 76 of 100\n",
            "building tree 77 of 100\n",
            "building tree 78 of 100\n",
            "building tree 79 of 100\n",
            "building tree 80 of 100\n",
            "building tree 81 of 100\n",
            "building tree 82 of 100\n",
            "building tree 83 of 100\n",
            "building tree 84 of 100\n",
            "building tree 85 of 100\n",
            "building tree 86 of 100\n",
            "building tree 87 of 100\n",
            "building tree 88 of 100\n",
            "building tree 89 of 100\n",
            "building tree 90 of 100\n",
            "building tree 91 of 100\n",
            "building tree 92 of 100\n",
            "building tree 93 of 100\n",
            "building tree 94 of 100\n",
            "building tree 95 of 100\n",
            "building tree 96 of 100\n",
            "building tree 97 of 100\n",
            "building tree 98 of 100\n",
            "building tree 99 of 100\n",
            "building tree 100 of 100\n"
          ],
          "name": "stdout"
        },
        {
          "output_type": "stream",
          "text": [
            "[Parallel(n_jobs=1)]: Done 100 out of 100 | elapsed:   14.6s finished\n",
            "[Parallel(n_jobs=1)]: Using backend SequentialBackend with 1 concurrent workers.\n",
            "[Parallel(n_jobs=1)]: Done   1 out of   1 | elapsed:    0.0s remaining:    0.0s\n",
            "[Parallel(n_jobs=1)]: Done 100 out of 100 | elapsed:    0.1s finished\n",
            "[Parallel(n_jobs=1)]: Using backend SequentialBackend with 1 concurrent workers.\n"
          ],
          "name": "stderr"
        },
        {
          "output_type": "stream",
          "text": [
            "building tree 1 of 100\n"
          ],
          "name": "stdout"
        },
        {
          "output_type": "stream",
          "text": [
            "[Parallel(n_jobs=1)]: Done   1 out of   1 | elapsed:    0.2s remaining:    0.0s\n"
          ],
          "name": "stderr"
        },
        {
          "output_type": "stream",
          "text": [
            "building tree 2 of 100\n",
            "building tree 3 of 100\n",
            "building tree 4 of 100\n",
            "building tree 5 of 100\n",
            "building tree 6 of 100\n",
            "building tree 7 of 100\n",
            "building tree 8 of 100\n",
            "building tree 9 of 100\n",
            "building tree 10 of 100\n",
            "building tree 11 of 100\n",
            "building tree 12 of 100\n",
            "building tree 13 of 100\n",
            "building tree 14 of 100\n",
            "building tree 15 of 100\n",
            "building tree 16 of 100\n",
            "building tree 17 of 100\n",
            "building tree 18 of 100\n",
            "building tree 19 of 100\n",
            "building tree 20 of 100\n",
            "building tree 21 of 100\n",
            "building tree 22 of 100\n",
            "building tree 23 of 100\n",
            "building tree 24 of 100\n",
            "building tree 25 of 100\n",
            "building tree 26 of 100\n",
            "building tree 27 of 100\n",
            "building tree 28 of 100\n",
            "building tree 29 of 100\n",
            "building tree 30 of 100\n",
            "building tree 31 of 100\n",
            "building tree 32 of 100\n",
            "building tree 33 of 100\n",
            "building tree 34 of 100\n",
            "building tree 35 of 100\n",
            "building tree 36 of 100\n",
            "building tree 37 of 100\n",
            "building tree 38 of 100\n",
            "building tree 39 of 100\n",
            "building tree 40 of 100\n",
            "building tree 41 of 100\n",
            "building tree 42 of 100\n",
            "building tree 43 of 100\n",
            "building tree 44 of 100\n",
            "building tree 45 of 100\n",
            "building tree 46 of 100\n",
            "building tree 47 of 100\n",
            "building tree 48 of 100\n",
            "building tree 49 of 100\n",
            "building tree 50 of 100\n",
            "building tree 51 of 100\n",
            "building tree 52 of 100\n",
            "building tree 53 of 100\n",
            "building tree 54 of 100\n",
            "building tree 55 of 100\n",
            "building tree 56 of 100\n",
            "building tree 57 of 100\n",
            "building tree 58 of 100\n",
            "building tree 59 of 100\n",
            "building tree 60 of 100\n",
            "building tree 61 of 100\n",
            "building tree 62 of 100\n",
            "building tree 63 of 100\n",
            "building tree 64 of 100\n",
            "building tree 65 of 100\n",
            "building tree 66 of 100\n",
            "building tree 67 of 100\n",
            "building tree 68 of 100\n",
            "building tree 69 of 100\n",
            "building tree 70 of 100\n",
            "building tree 71 of 100\n",
            "building tree 72 of 100\n",
            "building tree 73 of 100\n",
            "building tree 74 of 100\n",
            "building tree 75 of 100\n",
            "building tree 76 of 100\n",
            "building tree 77 of 100\n",
            "building tree 78 of 100\n",
            "building tree 79 of 100\n",
            "building tree 80 of 100\n",
            "building tree 81 of 100\n",
            "building tree 82 of 100\n",
            "building tree 83 of 100\n",
            "building tree 84 of 100\n",
            "building tree 85 of 100\n",
            "building tree 86 of 100\n",
            "building tree 87 of 100\n",
            "building tree 88 of 100\n",
            "building tree 89 of 100\n",
            "building tree 90 of 100\n",
            "building tree 91 of 100\n",
            "building tree 92 of 100\n",
            "building tree 93 of 100\n",
            "building tree 94 of 100\n",
            "building tree 95 of 100\n",
            "building tree 96 of 100\n",
            "building tree 97 of 100\n",
            "building tree 98 of 100\n",
            "building tree 99 of 100\n",
            "building tree 100 of 100\n"
          ],
          "name": "stdout"
        },
        {
          "output_type": "stream",
          "text": [
            "[Parallel(n_jobs=1)]: Done 100 out of 100 | elapsed:   14.7s finished\n",
            "[Parallel(n_jobs=1)]: Using backend SequentialBackend with 1 concurrent workers.\n",
            "[Parallel(n_jobs=1)]: Done   1 out of   1 | elapsed:    0.0s remaining:    0.0s\n",
            "[Parallel(n_jobs=1)]: Done 100 out of 100 | elapsed:    0.1s finished\n",
            "[Parallel(n_jobs=1)]: Using backend SequentialBackend with 1 concurrent workers.\n"
          ],
          "name": "stderr"
        },
        {
          "output_type": "stream",
          "text": [
            "building tree 1 of 100\n"
          ],
          "name": "stdout"
        },
        {
          "output_type": "stream",
          "text": [
            "[Parallel(n_jobs=1)]: Done   1 out of   1 | elapsed:    0.2s remaining:    0.0s\n"
          ],
          "name": "stderr"
        },
        {
          "output_type": "stream",
          "text": [
            "building tree 2 of 100\n",
            "building tree 3 of 100\n",
            "building tree 4 of 100\n",
            "building tree 5 of 100\n",
            "building tree 6 of 100\n",
            "building tree 7 of 100\n",
            "building tree 8 of 100\n",
            "building tree 9 of 100\n",
            "building tree 10 of 100\n",
            "building tree 11 of 100\n",
            "building tree 12 of 100\n",
            "building tree 13 of 100\n",
            "building tree 14 of 100\n",
            "building tree 15 of 100\n",
            "building tree 16 of 100\n",
            "building tree 17 of 100\n",
            "building tree 18 of 100\n",
            "building tree 19 of 100\n",
            "building tree 20 of 100\n",
            "building tree 21 of 100\n",
            "building tree 22 of 100\n",
            "building tree 23 of 100\n",
            "building tree 24 of 100\n",
            "building tree 25 of 100\n",
            "building tree 26 of 100\n",
            "building tree 27 of 100\n",
            "building tree 28 of 100\n",
            "building tree 29 of 100\n",
            "building tree 30 of 100\n",
            "building tree 31 of 100\n",
            "building tree 32 of 100\n",
            "building tree 33 of 100\n",
            "building tree 34 of 100\n",
            "building tree 35 of 100\n",
            "building tree 36 of 100\n",
            "building tree 37 of 100\n",
            "building tree 38 of 100\n",
            "building tree 39 of 100\n",
            "building tree 40 of 100\n",
            "building tree 41 of 100\n",
            "building tree 42 of 100\n",
            "building tree 43 of 100\n",
            "building tree 44 of 100\n",
            "building tree 45 of 100\n",
            "building tree 46 of 100\n",
            "building tree 47 of 100\n",
            "building tree 48 of 100\n",
            "building tree 49 of 100\n",
            "building tree 50 of 100\n",
            "building tree 51 of 100\n",
            "building tree 52 of 100\n",
            "building tree 53 of 100\n",
            "building tree 54 of 100\n",
            "building tree 55 of 100\n",
            "building tree 56 of 100\n",
            "building tree 57 of 100\n",
            "building tree 58 of 100\n",
            "building tree 59 of 100\n",
            "building tree 60 of 100\n",
            "building tree 61 of 100\n",
            "building tree 62 of 100\n",
            "building tree 63 of 100\n",
            "building tree 64 of 100\n",
            "building tree 65 of 100\n",
            "building tree 66 of 100\n",
            "building tree 67 of 100\n",
            "building tree 68 of 100\n",
            "building tree 69 of 100\n",
            "building tree 70 of 100\n",
            "building tree 71 of 100\n",
            "building tree 72 of 100\n",
            "building tree 73 of 100\n",
            "building tree 74 of 100\n",
            "building tree 75 of 100\n",
            "building tree 76 of 100\n",
            "building tree 77 of 100\n",
            "building tree 78 of 100\n",
            "building tree 79 of 100\n",
            "building tree 80 of 100\n",
            "building tree 81 of 100\n",
            "building tree 82 of 100\n",
            "building tree 83 of 100\n",
            "building tree 84 of 100\n",
            "building tree 85 of 100\n",
            "building tree 86 of 100\n",
            "building tree 87 of 100\n",
            "building tree 88 of 100\n",
            "building tree 89 of 100\n",
            "building tree 90 of 100\n",
            "building tree 91 of 100\n",
            "building tree 92 of 100\n",
            "building tree 93 of 100\n",
            "building tree 94 of 100\n",
            "building tree 95 of 100\n",
            "building tree 96 of 100\n",
            "building tree 97 of 100\n",
            "building tree 98 of 100\n",
            "building tree 99 of 100\n",
            "building tree 100 of 100\n"
          ],
          "name": "stdout"
        },
        {
          "output_type": "stream",
          "text": [
            "[Parallel(n_jobs=1)]: Done 100 out of 100 | elapsed:   14.7s finished\n",
            "[Parallel(n_jobs=1)]: Using backend SequentialBackend with 1 concurrent workers.\n",
            "[Parallel(n_jobs=1)]: Done   1 out of   1 | elapsed:    0.0s remaining:    0.0s\n",
            "[Parallel(n_jobs=1)]: Done 100 out of 100 | elapsed:    0.1s finished\n"
          ],
          "name": "stderr"
        },
        {
          "output_type": "stream",
          "text": [
            "0.884679440663039\n"
          ],
          "name": "stdout"
        }
      ]
    },
    {
      "cell_type": "code",
      "metadata": {
        "colab": {
          "base_uri": "https://localhost:8080/"
        },
        "id": "WTeF7XxeZjic",
        "outputId": "f44dd919-f3ae-4815-940e-a6ad4d7ae49a"
      },
      "source": [
        "# Predicting and creating the confusion matrix and scores\n",
        "prediction = text_classifier.predict(X_test)\n",
        " \n",
        "\n",
        "cm = confusion_matrix(y_test,prediction) \n",
        "print(cm)  \n",
        "print(classification_report(y_test,prediction))  \n",
        "print(accuracy_score(y_test, prediction))"
      ],
      "execution_count": 50,
      "outputs": [
        {
          "output_type": "stream",
          "text": [
            "[Parallel(n_jobs=1)]: Using backend SequentialBackend with 1 concurrent workers.\n",
            "[Parallel(n_jobs=1)]: Done   1 out of   1 | elapsed:    0.0s remaining:    0.0s\n",
            "[Parallel(n_jobs=1)]: Done 100 out of 100 | elapsed:    0.2s finished\n"
          ],
          "name": "stderr"
        },
        {
          "output_type": "stream",
          "text": [
            "[[2388  256  109]\n",
            " [ 357  477   96]\n",
            " [ 130  135  444]]\n",
            "              precision    recall  f1-score   support\n",
            "\n",
            "           0       0.83      0.87      0.85      2753\n",
            "           1       0.55      0.51      0.53       930\n",
            "           2       0.68      0.63      0.65       709\n",
            "\n",
            "    accuracy                           0.75      4392\n",
            "   macro avg       0.69      0.67      0.68      4392\n",
            "weighted avg       0.75      0.75      0.75      4392\n",
            "\n",
            "0.7534153005464481\n"
          ],
          "name": "stdout"
        }
      ]
    },
    {
      "cell_type": "code",
      "metadata": {
        "colab": {
          "base_uri": "https://localhost:8080/",
          "height": 500
        },
        "id": "4xhawV4vaSS3",
        "outputId": "95eaf9e5-9bec-4e09-b421-b4e833ee72fa"
      },
      "source": [
        "# Confusion matrix as heatmap\n",
        "df_cm = pd.DataFrame(cm, index = [i for i in range(3)],\n",
        "                     columns = [i for i in range(3)])\n",
        "plt.figure(figsize = (8,8))\n",
        "sns.heatmap(df_cm, annot=True, fmt='d')"
      ],
      "execution_count": 51,
      "outputs": [
        {
          "output_type": "execute_result",
          "data": {
            "text/plain": [
              "<matplotlib.axes._subplots.AxesSubplot at 0x7f17c5874e90>"
            ]
          },
          "metadata": {
            "tags": []
          },
          "execution_count": 51
        },
        {
          "output_type": "display_data",
          "data": {
            "image/png": "[encoded data removed]",
            "text/plain": [
              "<Figure size 576x576 with 2 Axes>"
            ]
          },
          "metadata": {
            "tags": [],
            "needs_background": "light"
          }
        }
      ]
    },
    {
      "cell_type": "code",
      "metadata": {
        "id": "1nBR52LOr0QP",
        "colab": {
          "base_uri": "https://localhost:8080/"
        },
        "outputId": "687abc6f-9373-4074-d313-90bf916a6c80"
      },
      "source": [
        "# # Compare actual to predicted values -- model is performing well -- 2 wrong\n",
        "picarr = [0, 59, 89,1234,700]\n",
        "\n",
        "for i in picarr:\n",
        "  print(f\"Predict {i}: {prediction[i]}\")\n",
        "  print(f\"Actual {i}: {yc_test.iloc[i]}\")"
      ],
      "execution_count": 52,
      "outputs": [
        {
          "output_type": "stream",
          "text": [
            "Predict 0: 0\n",
            "Actual 0: 0\n",
            "Predict 59: 0\n",
            "Actual 59: 0\n",
            "Predict 89: 0\n",
            "Actual 89: 1\n",
            "Predict 1234: 1\n",
            "Actual 1234: 1\n",
            "Predict 700: 0\n",
            "Actual 700: 1\n"
          ],
          "name": "stdout"
        }
      ]
    },
    {
      "cell_type": "markdown",
      "metadata": {
        "id": "mfOhazMOfgDz"
      },
      "source": [
        "Please look at my comments in each cell for documentation\n",
        "\n",
        "It seems that from an accuracy score perspective TF IDF is performing slightly better at ~76% vs ~71%. This holds true for the other scores as well.\n",
        "\n",
        "The diagonal in the confusion matrix shows the correct predictions.\n",
        "\n",
        "0 = negative, 1 = neutral and 2 = positive\n",
        "\n",
        "So for example 2558 tweets were predicted as negative comments and they were actually negative comments or 380 comments were predicted positive and they were positive.\n",
        "\n",
        "Overall people are not to happy with their airlines, looking at the countplot UsAir, United and American have a lot of unhappy customers.\n",
        "\n",
        "Virginair seems to have as manny neutral or negative comments as they have positive comments.\n",
        "\n"
      ]
    },
    {
      "cell_type": "code",
      "metadata": {
        "id": "W1TgyjuAW8aF"
      },
      "source": [
        ""
      ],
      "execution_count": null,
      "outputs": []
    },
    {
      "cell_type": "code",
      "metadata": {
        "id": "Xjl9OzhcW8M8"
      },
      "source": [
        ""
      ],
      "execution_count": null,
      "outputs": []
    },
    {
      "cell_type": "markdown",
      "metadata": {
        "id": "HjLA-OdrWkCX"
      },
      "source": [
        "I did some extra work to use a DNN model. I know this was not in the instructions but wanted to try it"
      ]
    },
    {
      "cell_type": "code",
      "metadata": {
        "id": "Jdgow5WVvLoA"
      },
      "source": [
        "import pandas as pd\n",
        "import numpy as np\n",
        "import re\n",
        "import nltk\n",
        "from nltk.corpus import stopwords\n",
        "\n",
        "from numpy import array\n",
        "from keras.preprocessing.text import one_hot\n",
        "from keras.preprocessing.sequence import pad_sequences\n",
        "from keras.models import Sequential\n",
        "from keras.layers.core import Activation, Dropout, Dense\n",
        "from keras.layers import Flatten\n",
        "from keras.layers import GlobalMaxPooling1D\n",
        "from keras.layers.embeddings import Embedding\n",
        "from sklearn.model_selection import train_test_split\n",
        "from keras.preprocessing.text import Tokenizer\n",
        "from tensorflow.keras.preprocessing.text import Tokenizer\n",
        "from tensorflow.keras.preprocessing.sequence import pad_sequences\n",
        "from keras.callbacks import ModelCheckpoint, EarlyStopping\n",
        "from tensorflow.keras.models import Sequential\n",
        "from tensorflow.keras.layers import LSTM,Dense, Dropout\n",
        "from tensorflow.keras.layers import SpatialDropout1D\n",
        "from tensorflow.keras.layers import Embedding\n",
        "from keras.layers import Bidirectional"
      ],
      "execution_count": 62,
      "outputs": []
    },
    {
      "cell_type": "code",
      "metadata": {
        "colab": {
          "base_uri": "https://localhost:8080/"
        },
        "id": "aVG85cV9tzrH",
        "outputId": "e0105e09-27e2-4ac2-9c67-853b45a7e3d8"
      },
      "source": [
        "# convert airline_seentiment to numeric\n",
        "sentiment_label = tweets_df.airline_sentiment.factorize()\n",
        "sentiment_label"
      ],
      "execution_count": 63,
      "outputs": [
        {
          "output_type": "execute_result",
          "data": {
            "text/plain": [
              "(array([0, 1, 0, ..., 0, 2, 0]),\n",
              " Index(['neutral', 'positive', 'negative'], dtype='object'))"
            ]
          },
          "metadata": {
            "tags": []
          },
          "execution_count": 63
        }
      ]
    },
    {
      "cell_type": "code",
      "metadata": {
        "colab": {
          "base_uri": "https://localhost:8080/"
        },
        "id": "bLbQYGt9tGx9",
        "outputId": "17c0277d-4904-4bdb-9237-7ca45331de65"
      },
      "source": [
        "# Created a padded vector\n",
        "max_fatures = 5000\n",
        "tokenizer = Tokenizer(num_words=max_fatures, split=' ')\n",
        "tokenizer.fit_on_texts(tweets_df['text'].values)\n",
        "X = tokenizer.texts_to_sequences(tweets_df['text'].values)\n",
        "X = pad_sequences(X)\n",
        "print(tokenizer.word_index)\n",
        "print(X[0])"
      ],
      "execution_count": 64,
      "outputs": [
        {
          "output_type": "stream",
          "text": [
            "{'flight': 1, 'unite': 2, 'not': 3, 'usairway': 4, 'americanair': 5, 'southwestair': 6, 'jetblue': 7, 'get': 8, 'thank': 9, 'hour': 10, 'cancel': 11, 'service': 12, 'delay': 13, 'time': 14, 'help': 15, 'customer': 16, 'go': 17, 'fly': 18, 'call': 19, 'bag': 20, 'u': 21, 'wait': 22, 'plane': 23, 'hold': 24, 'make': 25, 'need': 26, 'would': 27, 'try': 28, 'one': 29, 'still': 30, 'please': 31, 'day': 32, 'airline': 33, 'gate': 34, 'back': 35, 'virginamerica': 36, 'flightle': 37, 'seat': 38, 'take': 39, 'say': 40, 'book': 41, 'tell': 42, 'face': 43, 'change': 44, 'phone': 45, 'know': 46, 'check': 47, 'like': 48, 'hr': 49, 'late': 50, 'today': 51, 'guy': 52, 'agent': 53, 'work': 54, 'miss': 55, 'ticket': 56, 'give': 57, 'min': 58, 'airport': 59, 'can': 60, 'way': 61, 'minute': 62, 'board': 63, 'want': 64, 'see': 65, 'great': 66, 'sit': 67, 'lose': 68, 'even': 69, 'send': 70, 'never': 71, 'last': 72, 'tomorrow': 73, 'love': 74, 'problem': 75, 'weather': 76, 'really': 77, 'good': 78, 'new': 79, 'home': 80, 'issue': 81, 'people': 82, 'look': 83, 'email': 84, 'another': 85, 'let': 86, 'rebook': 87, 'first': 88, 'luggage': 89, 'number': 90, 'travel': 91, 'dm': 92, 'find': 93, 'ever': 94, 'due': 95, 'crew': 96, 'worst': 97, 'experience': 98, 'ye': 99, 'someone': 100, 'next': 101, 'passenger': 102, 'hand': 103, 'trip': 104, 'much': 105, 'reservation': 106, 'two': 107, 'come': 108, 'baggage': 109, 'ua': 110, 'think': 111, 'right': 112, 'keep': 113, 'response': 114, 'line': 115, 'well': 116, 'leave': 117, 'hope': 118, 'online': 119, 'follow': 120, 'week': 121, 'staff': 122, 'best': 123, 'answer': 124, 'pay': 125, 'bad': 126, 'stick': 127, 'connection': 128, 'long': 129, 'update': 130, 'better': 131, 'already': 132, 'land': 133, 'sure': 134, 'left': 135, 'jfk': 136, 'since': 137, 'refund': 138, 'pm': 139, 'ill': 140, 'morn': 141, 'care': 142, 'mile': 143, 'ask': 144, 'happen': 145, 'hang': 146, 'flt': 147, 'w': 148, 'show': 149, 'tonight': 150, 'system': 151, 'flightr': 152, 'website': 153, 'appreciate': 154, 'speak': 155, 'night': 156, 'arrive': 157, 'hotel': 158, 'yet': 159, 'nothe': 160, 'fleet': 161, 'fleek': 162, 'use': 163, 'put': 164, 'dfw': 165, 'attendant': 166, 'fail': 167, 'year': 168, 'info': 169, 'offer': 170, 'upgrade': 171, 'pilot': 172, 'air': 173, 'point': 174, 'charge': 175, 'talk': 176, 'smile': 177, 'anythe': 178, 'credit': 179, 'rude': 180, 'fix': 181, 'also': 182, 'do': 183, 'disappoint': 184, 'free': 185, 'nice': 186, 'used': 187, 'thing': 188, 'ago': 189, 'connect': 190, 'voucher': 191, 'rep': 192, 'pass': 193, 'start': 194, 'class': 195, 'fold': 196, 'add': 197, 'hear': 198, 'finally': 199, 'frustrate': 200, 'wifi': 201, 'awesome': 202, 'option': 203, 'understand': 204, 'employee': 205, 'st': 206, 'able': 207, 'break': 208, 'tweet': 209, 'contact': 210, 'person': 211, 'lax': 212, 'receive': 213, 'busines': 214, 'every': 215, 'open': 216, 'ok': 217, 'anyone': 218, 'claim': 219, 'name': 220, 'app': 221, 'b': 222, 'via': 223, 'phl': 224, 'delta': 225, 'available': 226, 'alway': 227, 'id': 228, 'mean': 229, 'without': 230, 'soon': 231, 'team': 232, 'suck': 233, 'stop': 234, 'statu': 235, 'possible': 236, 'yesterday': 237, 'suppose': 238, 'thx': 239, 'many': 240, 'seem': 241, 'terrible': 242, 'amaze': 243, 'sorry': 244, 'helpful': 245, 'deal': 246, 'plan': 247, 'departure': 248, 'sfo': 249, 'dca': 250, 'schedule': 251, 'buy': 252, 'bc': 253, 'extra': 254, 'instead': 255, 'return': 256, 'early': 257, 'friend': 258, 'site': 259, 'strand': 260, 'eye': 261, 'kid': 262, 'southwest': 263, 'almost': 264, 'direct': 265, 'run': 266, 'money': 267, 'feel': 268, 'hi': 269, 'paid': 270, 'heart': 271, 'rt': 272, 'though': 273, 'earlier': 274, 'chance': 275, 'ord': 276, 'cry': 277, 'move': 278, 'lot': 279, 'happy': 280, 'clt': 281, 'la': 282, 'different': 283, 'policy': 284, 'job': 285, 'card': 286, 'member': 287, 'spend': 288, 'message': 289, 'family': 290, 'company': 291, 'airway': 292, 'vega': 293, 'unacceptable': 294, 'respond': 295, 'snow': 296, 'allow': 297, 'big': 298, 'least': 299, 'wife': 300, 'reply': 301, 'somethe': 302, 'everyone': 303, 'month': 304, 'question': 305, 'expect': 306, 'full': 307, 'actually': 308, 'boston': 309, 'poor': 310, 'grind': 311, 'ridiculou': 312, 'destinationdragon': 313, 'airplane': 314, 'reason': 315, 'dalla': 316, 'th': 317, 'horrible': 318, 'pick': 319, 'oh': 320, 'tarmac': 321, 'request': 322, 'chicago': 323, 'provide': 324, 'account': 325, 'reschedule': 326, 'old': 327, 'denver': 328, 'seriously': 329, 'twitter': 330, 'american': 331, 'vacation': 332, 'ur': 333, 'ewr': 334, 'cost': 335, 'treat': 336, 'san': 337, 'maybe': 338, 'desk': 339, 'wrong': 340, 'drive': 341, 'food': 342, 'bo': 343, 'confirm': 344, 'stay': 345, 'far': 346, 'might': 347, 'flightlation': 348, 'link': 349, 'count': 350, 'away': 351, 'end': 352, 'bring': 353, 'handle': 354, 'half': 355, 'enough': 356, 'travele': 357, 'destination': 358, 'c': 359, 'complaint': 360, 'hey': 361, 'fee': 362, 'depart': 363, 'confirmation': 364, 'past': 365, 'three': 366, 'mechanical': 367, 'price': 368, 'car': 369, 'little': 370, 'may': 371, 'together': 372, 'row': 373, 'tear': 374, 'nyc': 375, 'twice': 376, 'apology': 377, 'charlotte': 378, 'runway': 379, 'cool': 380, 'drop': 381, 'les': 382, 'switch': 383, 'around': 384, 'pl': 385, 'joy': 386, 'place': 387, 'guess': 388, 'terminal': 389, 'idea': 390, 'longer': 391, 'sleep': 392, 'blue': 393, 'error': 394, 'second': 395, 'dc': 396, 'checkin': 397, 'worse': 398, 'newark': 399, 'lack': 400, 'else': 401, 'awful': 402, 'plu': 403, 'watch': 404, 'reach': 405, 'real': 406, 'thumb': 407, 'city': 408, 'computer': 409, 'houston': 410, 'room': 411, 'believe': 412, 'iad': 413, 'process': 414, 'live': 415, 'life': 416, 'head': 417, 'k': 418, 'thru': 419, 'deliver': 420, 'fare': 421, 'hard': 422, 'load': 423, 'purchase': 424, 'close': 425, 'cust': 426, 'lol': 427, 'philly': 428, 'international': 429, 'jet': 430, 'figure': 431, 'nd': 432, 'worry': 433, 'share': 434, 'turn': 435, 'address': 436, 'reflight': 437, 'disconnect': 438, 'phx': 439, 'human': 440, 'assistance': 441, 'monday': 442, 'carry': 443, 'waste': 444, 'fll': 445, 'leg': 446, 'information': 447, 'maintenance': 448, 'swa': 449, 'award': 450, 'loyal': 451, 'joke': 452, 'everythe': 453, 'lga': 454, 'route': 455, 'quick': 456, 'forward': 457, 'standby': 458, 'glad': 459, 'group': 460, 'miami': 461, 'usair': 462, 'club': 463, 'world': 464, 'resolve': 465, 'ceo': 466, 'feed': 467, 'iah': 468, 'form': 469, 'date': 470, 'busy': 471, 'rock': 472, 'tv': 473, 'word': 474, 'case': 475, 'communication': 476, 'unitedairline': 477, 'screw': 478, 'lie': 479, 'flyer': 480, 'fuck': 481, 'drink': 482, 'refuse': 483, 'file': 484, 'hate': 485, 'sw': 486, 'red': 487, 'mess': 488, 'wish': 489, 'meet': 490, 'empty': 491, 'yr': 492, 'explain': 493, 'list': 494, 'imaginedragon': 495, 'traveler': 496, 'loudly': 497, 'entire': 498, 'train': 499, 'record': 500, 'ruin': 501, 'counter': 502, 'sunday': 503, 'yeah': 504, 'concern': 505, 'promise': 506, 'force': 507, 'currently': 508, 'read': 509, 'bwi': 510, 'pretty': 511, 'support': 512, 'correct': 513, 'sad': 514, 'whole': 515, 'supervisor': 516, 'hopefully': 517, 'either': 518, 'wow': 519, 'tsa': 520, 'report': 521, 'kind': 522, 'detail': 523, 'rather': 524, 'cause': 525, 'den': 526, 'fault': 527, 'companion': 528, 'beyond': 529, 'wtf': 530, 'learn': 531, 'future': 532, 'sign': 533, 'fine': 534, 'super': 535, 'continue': 536, 'ready': 537, 'state': 538, 'sell': 539, 'set': 540, 'forget': 541, 'storm': 542, 'upset': 543, 'situation': 544, 'nashville': 545, 'automate': 546, 'post': 547, 'inflight': 548, 'high': 549, 'access': 550, 'cabin': 551, 'wonder': 552, 'cross': 553, 'mco': 554, 'feb': 555, 'customerservice': 556, 'grin': 557, 'apparently': 558, 'easy': 559, 'safety': 560, 'clothe': 561, 'okay': 562, 'door': 563, 'tuesday': 564, 'atlanta': 565, 'media': 566, 'layover': 567, 'completely': 568, 'x': 569, 'probably': 570, 'submit': 571, 'part': 572, 'fill': 573, 'stand': 574, 'atl': 575, 'note': 576, 'top': 577, 'must': 578, 'priority': 579, 'r': 580, 'inconvenience': 581, 'space': 582, 'shit': 583, 'bump': 584, 'luck': 585, 'orlando': 586, 'transfer': 587, 'platinum': 588, 'weekend': 589, 'compensation': 590, 'original': 591, 'fact': 592, 'huge': 593, 'wall': 594, 'cold': 595, 'middle': 596, 'trouble': 597, 'austin': 598, 'husband': 599, 'save': 600, 'complete': 601, 'zero': 602, 'lounge': 603, 'wed': 604, 'catch': 605, 'serve': 606, 'pout': 607, 'expire': 608, 'notice': 609, 'fun': 610, 'several': 611, 'daughter': 612, 'mom': 613, 'winter': 614, 'arrival': 615, 'water': 616, 'oscar': 617, 'mobile': 618, 'despite': 619, 'tix': 620, 'aircraft': 621, 'enjoy': 622, 'matter': 623, 'extremely': 624, 'write': 625, 'tire': 626, 'front': 627, 'consider': 628, 'sense': 629, 'freeze': 630, 'meal': 631, 'crazy': 632, 'dividend': 633, 'country': 634, 'birthday': 635, 'page': 636, 'notification': 637, 'rd': 638, 'accept': 639, 'ppl': 640, 'baby': 641, 'listen': 642, 'unable': 643, 'multiple': 644, 'choose': 645, 'attitude': 646, 'cover': 647, 'notify': 648, 'letter': 649, 'select': 650, 'win': 651, 'track': 652, 'step': 653, 'four': 654, 'code': 655, 'folk': 656, 'friday': 657, 'choice': 658, 'gold': 659, 'item': 660, 'ice': 661, 'party': 662, 'unfortunately': 663, 'tag': 664, 'rdu': 665, 'compensate': 666, 'hello': 667, 'virgin': 668, 'non': 669, 'apply': 670, 'totally': 671, 'fl': 672, 'area': 673, 'afternoon': 674, 'absolutely': 675, 'mileage': 676, 'rate': 677, 'overnight': 678, 'control': 679, 'mine': 680, 'excuse': 681, 'kudo': 682, 'nope': 683, 'true': 684, 'relation': 685, 'lady': 686, 'anyway': 687, 'friendly': 688, 'text': 689, 'include': 690, 'sort': 691, 'itinerary': 692, 'round': 693, 'small': 694, 'course': 695, 'child': 696, 'announce': 697, 'overhead': 698, 'cut': 699, 'wonderful': 700, 'worth': 701, 'literally': 702, 'surprise': 703, 'social': 704, 'haha': 705, 'plz': 706, 'ride': 707, 'nonstop': 708, 'hire': 709, 'americanairline': 710, 'ny': 711, 'bit': 712, 'clap': 713, 'sound': 714, 'window': 715, 'order': 716, 'wink': 717, 'pull': 718, 'excellent': 719, 'short': 720, 'son': 721, 'mistake': 722, 'blame': 723, 'walk': 724, 'n': 725, 'clear': 726, 'office': 727, 'explanation': 728, 'push': 729, 'bna': 730, 'mia': 731, 'excite': 732, 'saturday': 733, 'assist': 734, 'passbook': 735, 'story': 736, 'man': 737, 'wo': 738, 'anymore': 739, 'anywhere': 740, 'attempt': 741, 'feedback': 742, 'neveragain': 743, 'however': 744, 'reroute': 745, 'play': 746, 'prefer': 747, 'mind': 748, 'web': 749, 'mention': 750, 'center': 751, 'he': 752, 'march': 753, 'behind': 754, 'receipt': 755, 'deserve': 756, 'accommodate': 757, 'conf': 758, 'phoenix': 759, 'failure': 760, 'angry': 761, 'usairwaysfail': 762, 'clean': 763, 'volume': 764, 'reward': 765, 'entertainment': 766, 'p': 767, 're': 768, 'enter': 769, 'takeoff': 770, 'view': 771, 'video': 772, 'btw': 773, 'damage': 774, 'stuff': 775, 'advantage': 776, 'earn': 777, 'dollar': 778, 'svc': 779, 'other': 780, 'regard': 781, 'domestic': 782, 'bother': 783, 'honor': 784, 'flightd': 785, 'advisory': 786, 'flightation': 787, 'power': 788, 'merger': 789, 'fan': 790, 'disgust': 791, 'funeral': 792, 'dragon': 793, 'warm': 794, 'button': 795, 'begin': 796, 'frequent': 797, 'bank': 798, 'raise': 799, 'touch': 800, 'intl': 801, 'finger': 802, 'captain': 803, 'deny': 804, 'confuse': 805, 'none': 806, 'cater': 807, 'sky': 808, 'useles': 809, 'have': 810, 'special': 811, 'become': 812, 'uk': 813, 'unhelpful': 814, 'impress': 815, 'fall': 816, 'single': 817, 'hell': 818, 'deplane': 819, 'locate': 820, 'safe': 821, 'acceptable': 822, 'f': 823, 'current': 824, 'representative': 825, 'absolute': 826, 'definitely': 827, 'reimburse': 828, 'mexico': 829, 'philadelphia': 830, 'avgeek': 831, 'security': 832, 'total': 833, 'will': 834, 'appear': 835, 'unhappy': 836, 'onto': 837, 'major': 838, 'final': 839, 'fair': 840, 'damn': 841, 'suggestion': 842, 'tmrw': 843, 'snack': 844, 'street': 845, 'carrier': 846, 'match': 847, 'program': 848, 'welcome': 849, 'trust': 850, 'suitcase': 851, 'funny': 852, 'battle': 853, 'slow': 854, 'nightmare': 855, 'actual': 856, 'deice': 857, 'h': 858, 'ignore': 859, 'rule': 860, 'announcement': 861, 'equipment': 862, 'bird': 863, 'pathetic': 864, 'remember': 865, 'premier': 866, 'annoy': 867, 'fit': 868, 'difference': 869, 'cc': 870, 'badservice': 871, 'visit': 872, 'per': 873, 'except': 874, 'realize': 875, 'sister': 876, 'especially': 877, 'callback': 878, 'merge': 879, 'south': 880, 'die': 881, 'fantastic': 882, 'inform': 883, 'apologize': 884, 'america': 885, 'seattle': 886, 'interest': 887, 'sun': 888, 'advise': 889, 'imagine': 890, 'weary': 891, 'kill': 892, 'base': 893, 'palm': 894, 'result': 895, 'manage': 896, 'resolution': 897, 'solution': 898, 'partner': 899, 'favorite': 900, 'carryon': 901, 'require': 902, 'complain': 903, 'coach': 904, 'usually': 905, 'overbook': 906, 'tho': 907, 'sick': 908, 'redeem': 909, 'onboard': 910, 'print': 911, 'operate': 912, 'hit': 913, 'god': 914, 'star': 915, 'condition': 916, 'mark': 917, 'unbelievable': 918, 'department': 919, 'phlairport': 920, 'game': 921, 'smh': 922, 'iphone': 923, 'improve': 924, 'lovely': 925, 'rental': 926, 'diego': 927, 'seriou': 928, 'emergency': 929, 'victory': 930, 'impossible': 931, 'delivery': 932, 'yo': 933, 'photo': 934, 'personal': 935, 'assign': 936, 'suggest': 937, 'fa': 938, 'bus': 939, 'important': 940, 'log': 941, 'decide': 942, 'children': 943, 'exit': 944, 'clearly': 945, 'appease': 946, 'chairman': 947, 'internet': 948, 'eat': 949, 'expensive': 950, 'bin': 951, 'midnight': 952, 'dmd': 953, 'beam': 954, 'ugh': 955, 'along': 956, 'event': 957, 'hot': 958, 'screen': 959, 'fyi': 960, 'toward': 961, 'likely': 962, 'auto': 963, 'badcustomerservice': 964, 'dmed': 965, 'avoid': 966, 'dept': 967, 'crash': 968, 'limit': 969, 'inside': 970, 'effort': 971, 'ohare': 972, 'steal': 973, 'exactly': 974, 'etc': 975, 'level': 976, 'prompt': 977, 'engine': 978, 'till': 979, 'brother': 980, 'act': 981, 'cheap': 982, 'discount': 983, 'wednesday': 984, 'alert': 985, 'trueblue': 986, 'commercial': 987, 'lead': 988, 'market': 989, 'congrat': 990, 'music': 991, 'premium': 992, 'infant': 993, 'alone': 994, 'daily': 995, 'coffee': 996, 'unamuse': 997, 'usa': 998, 'degree': 999, 'couple': 1000, 'omg': 1001, 'exist': 1002, 'additional': 1003, 'main': 1004, 'mail': 1005, 'outside': 1006, 'mileageplu': 1007, 'ahead': 1008, 'previou': 1009, 'diff': 1010, 'extend': 1011, 'patience': 1012, 'forever': 1013, 'fast': 1014, 'rent': 1015, 'amount': 1016, 'eventually': 1017, 'plenty': 1018, 'type': 1019, 'patient': 1020, 'nc': 1021, 'admiral': 1022, 'columbu': 1023, 'dfwairport': 1024, 'brand': 1025, 'hawaii': 1026, 'waive': 1027, 'acros': 1028, 'faster': 1029, 'pdx': 1030, 'spring': 1031, 'sweet': 1032, 'girl': 1033, 'comp': 1034, 'treatment': 1035, 'ball': 1036, 'avail': 1037, 'cheer': 1038, 'bday': 1039, 'shock': 1040, 'hook': 1041, 'truly': 1042, 'third': 1043, 'incredibly': 1044, 'character': 1045, 'yep': 1046, 'taxi': 1047, 'within': 1048, 'nobody': 1049, 'incompetence': 1050, 'clue': 1051, 'decision': 1052, 'divert': 1053, 'example': 1054, 'quickly': 1055, 'frustration': 1056, 'florida': 1057, 'manager': 1058, 'tampa': 1059, 'park': 1060, 'incompetent': 1061, 'safely': 1062, 'embarrass': 1063, 'mad': 1064, 'straight': 1065, 'buffalo': 1066, 'professional': 1067, 'mint': 1068, 'journal': 1069, 'blow': 1070, 'beat': 1071, 'floor': 1072, 'bet': 1073, 'shame': 1074, 'dog': 1075, 'silver': 1076, 'jump': 1077, 'school': 1078, 'picture': 1079, 'fight': 1080, 'light': 1081, 'profit': 1082, 'promo': 1083, 'stewardes': 1084, 'moment': 1085, 'perfect': 1086, 'affect': 1087, 'economy': 1088, 'shoe': 1089, 'client': 1090, 'pre': 1091, 'fund': 1092, 'solve': 1093, 'unprofessional': 1094, 'courtesy': 1095, 'carousel': 1096, 'shoot': 1097, 'yell': 1098, 'sea': 1099, 'simply': 1100, 'age': 1101, 'woman': 1102, 'piss': 1103, 'msg': 1104, 'jetway': 1105, 'double': 1106, 'pleasant': 1107, 'house': 1108, 'value': 1109, 'pr': 1110, 'honest': 1111, 'cab': 1112, 'possibly': 1113, 'five': 1114, 'perhap': 1115, 'guarantee': 1116, 'corporate': 1117, 'mother': 1118, 'traffic': 1119, 'sale': 1120, 'slc': 1121, 'relate': 1122, 'pbi': 1123, 'estimate': 1124, 'somewhere': 1125, 'rr': 1126, 'wsj': 1127, 'nearly': 1128, 'death': 1129, 'side': 1130, 'dal': 1131, 'feet': 1132, 'thursday': 1133, 'fuel': 1134, 'kick': 1135, 'beautiful': 1136, 'design': 1137, 'create': 1138, 'logan': 1139, 'april': 1140, 'throw': 1141, 'texa': 1142, 'ipad': 1143, 'click': 1144, 'wheel': 1145, 'flier': 1146, 'au': 1147, 'low': 1148, 'thankyou': 1149, 'dad': 1150, 'advance': 1151, 'prior': 1152, 'tough': 1153, 'mechanic': 1154, 'military': 1155, 'prepare': 1156, 'ontime': 1157, 'comment': 1158, 'disaster': 1159, 'dia': 1160, 'frm': 1161, 'originally': 1162, 'london': 1163, 'ty': 1164, 'piece': 1165, 'officially': 1166, 'worker': 1167, 'crappy': 1168, 'quality': 1169, 'pit': 1170, 'near': 1171, 'elite': 1172, 'automatically': 1173, 'juan': 1174, 'legroom': 1175, 'fire': 1176, 'remind': 1177, 'wheelchair': 1178, 'nothappy': 1179, 'specific': 1180, 'flyfi': 1181, 'vx': 1182, 'opportunity': 1183, 'stress': 1184, 'operation': 1185, 'dream': 1186, 'carrieunderwood': 1187, 'song': 1188, 'hearteye': 1189, 'sf': 1190, 'outstand': 1191, 'precheck': 1192, 'queue': 1193, 'afford': 1194, 'sooner': 1195, 'cmh': 1196, 'york': 1197, 'easily': 1198, 'crap': 1199, 'paper': 1200, 'alternate': 1201, 'jan': 1202, 'thnx': 1203, 'disappear': 1204, 'minor': 1205, 'simple': 1206, 'ski': 1207, 'cheaper': 1208, 'washington': 1209, 'dead': 1210, 'action': 1211, 'absurd': 1212, 'certificate': 1213, 'discuss': 1214, 'pic': 1215, 'directly': 1216, 'otherwise': 1217, 'location': 1218, 'til': 1219, 'management': 1220, 'public': 1221, 'holder': 1222, 'speed': 1223, 'global': 1224, 'yyz': 1225, 'ha': 1226, 'replace': 1227, 'ual': 1228, 'rsw': 1229, 'aware': 1230, 'respect': 1231, 'lower': 1232, 'shuttle': 1233, 'obviously': 1234, 'separate': 1235, 'often': 1236, 'roundtrip': 1237, 'rest': 1238, 'six': 1239, 'insult': 1240, 'interview': 1241, 'although': 1242, 'east': 1243, 'winner': 1244, 'promotion': 1245, 'fort': 1246, 'feature': 1247, 'summer': 1248, 'sju': 1249, 'jb': 1250, 'locator': 1251, 'chat': 1252, 'glass': 1253, 'ladygaga': 1254, 'february': 1255, 'student': 1256, 'biz': 1257, 'recent': 1258, 'remove': 1259, 'dulle': 1260, 'lame': 1261, 'normal': 1262, 'grow': 1263, 'pari': 1264, 'benefit': 1265, 'standard': 1266, 'road': 1267, 'pair': 1268, 'express': 1269, 'suit': 1270, 'guitar': 1271, 'search': 1272, 'coat': 1273, 'airfare': 1274, 'difficult': 1275, 'properly': 1276, 'local': 1277, 'cancun': 1278, 'pax': 1279, 'yea': 1280, 'outlet': 1281, 'exact': 1282, 'easier': 1283, 'device': 1284, 'assume': 1285, 'whose': 1286, 'pt': 1287, 'release': 1288, 'chair': 1289, 'unreal': 1290, 'wet': 1291, 'acct': 1292, 'raleigh': 1293, 'epicfail': 1294, 'bdl': 1295, 'buf': 1296, 'fraud': 1297, 'higher': 1298, 'retrieve': 1299, 'bathroom': 1300, 'memphi': 1301, 'communicate': 1302, 'million': 1303, 'weight': 1304, 'peanut': 1305, 'loyalty': 1306, 'assignment': 1307, 'cell': 1308, 'usual': 1309, 'rapid': 1310, 'insane': 1311, 'west': 1312, 'parent': 1313, 'august': 1314, 'ft': 1315, 'lauderdale': 1316, 'gear': 1317, 'mdw': 1318, 'contest': 1319, 'fortunemagazine': 1320, 'beach': 1321, 'jblu': 1322, 'flyingitforward': 1323, 'among': 1324, 'large': 1325, 'bill': 1326, 'somehow': 1327, 'position': 1328, 'flag': 1329, 'payment': 1330, 'method': 1331, 'recommend': 1332, 'model': 1333, 'laptop': 1334, 'black': 1335, 'incredible': 1336, 'prevent': 1337, 'timely': 1338, 'accord': 1339, 'inconvenient': 1340, 'okc': 1341, 'medical': 1342, 'nut': 1343, 'unavailable': 1344, 'sna': 1345, 'heathrow': 1346, 'california': 1347, 'inbound': 1348, 'lb': 1349, 'rip': 1350, 'review': 1351, 'disappointment': 1352, 'finish': 1353, 'reimbursement': 1354, 'balance': 1355, 'hundred': 1356, 'spot': 1357, 'kp': 1358, 'stl': 1359, 'jh': 1360, 'certainly': 1361, 'basically': 1362, 'handler': 1363, 'pensive': 1364, 'advertise': 1365, 'lesson': 1366, 'shameful': 1367, 'understaf': 1368, 'costumer': 1369, 'beer': 1370, 'cun': 1371, 'poorly': 1372, 'honeymoon': 1373, 'certain': 1374, 'bf': 1375, 'tue': 1376, 'freak': 1377, 'pvd': 1378, 'practice': 1379, 'ah': 1380, 'fam': 1381, 'yay': 1382, 'ripoff': 1383, 'msp': 1384, 'somebody': 1385, 'size': 1386, 'nasty': 1387, 'mke': 1388, 'alist': 1389, 'hunt': 1390, 'cmon': 1391, 'va': 1392, 'australia': 1393, 'dirty': 1394, 'whenever': 1395, 'q': 1396, 'uncomfortable': 1397, 'exp': 1398, 'tech': 1399, 'register': 1400, 'field': 1401, 'mon': 1402, 'surgery': 1403, 'virginatlantic': 1404, 'positive': 1405, 'ribbon': 1406, 'lap': 1407, 'gift': 1408, 'incident': 1409, 'portland': 1410, 'io': 1411, 'pa': 1412, 'david': 1413, 'outbound': 1414, 'repeat': 1415, 'zone': 1416, 'coast': 1417, 'fb': 1418, 'coupon': 1419, 'heat': 1420, 'lhr': 1421, 'hostage': 1422, 'pack': 1423, 'nah': 1424, 'split': 1425, 'unles': 1426, 'wout': 1427, 'unfriendlysky': 1428, 'repair': 1429, 'poorservice': 1430, 'attention': 1431, 'miserable': 1432, 'whatever': 1433, 'police': 1434, 'garbage': 1435, 'kiosk': 1436, 'prob': 1437, 'upcome': 1438, 'dinner': 1439, 'official': 1440, 'false': 1441, 'idiot': 1442, 'as': 1443, 'sometime': 1444, 'attend': 1445, 'approach': 1446, 'personnel': 1447, 'immediately': 1448, 'nj': 1449, 'shitty': 1450, 'sadly': 1451, 'shout': 1452, 'remain': 1453, 'procedure': 1454, 'tpa': 1455, 'aviation': 1456, 'golf': 1457, 'accurate': 1458, 'father': 1459, 'laguardia': 1460, 'join': 1461, 'puerto': 1462, 'term': 1463, 'pittsburgh': 1464, 'ashame': 1465, 'steam': 1466, 'est': 1467, 'stroller': 1468, 'ring': 1469, 'compassion': 1470, 'lucky': 1471, 'sunny': 1472, 'lovedragons': 1473, 'exec': 1474, 'fabulou': 1475, 'anytime': 1476, 'elevate': 1477, 'wine': 1478, 'agree': 1479, 'g': 1480, 'boy': 1481, 'secure': 1482, 'francisco': 1483, 'complimentary': 1484, 'central': 1485, 'sjc': 1486, 'sunglass': 1487, 'inspire': 1488, 'abq': 1489, 'salt': 1490, 'revenue': 1491, 'increase': 1492, 'flightly': 1493, 'smooth': 1494, 'channel': 1495, 'tea': 1496, 'industry': 1497, 'mr': 1498, 'manner': 1499, 'ac': 1500, 'elsewhere': 1501, 'private': 1502, 'meeting': 1503, 'seek': 1504, 'doubt': 1505, 'define': 1506, 'valid': 1507, 'wake': 1508, 'apple': 1509, 'apart': 1510, 'reference': 1511, 'generic': 1512, 'canada': 1513, 'statement': 1514, 'boyfriend': 1515, 'prove': 1516, 'cuz': 1517, 'consistent': 1518, 'general': 1519, 'ton': 1520, 'cleveland': 1521, 'blog': 1522, 'english': 1523, 'accommodation': 1524, 'reserve': 1525, 'l': 1526, 'mci': 1527, 'eta': 1528, 'reagan': 1529, 'breakfast': 1530, 'ktn': 1531, 'downgrade': 1532, 'ad': 1533, 'dozen': 1534, 'csr': 1535, 'truck': 1536, 'exception': 1537, 'programme': 1538, 'bummer': 1539, 'volunteer': 1540, 'honestly': 1541, 'sight': 1542, 'present': 1543, 'unitedsuck': 1544, 'toddler': 1545, 'toilet': 1546, 'conference': 1547, 'alliance': 1548, 'pile': 1549, 'alright': 1550, 'tree': 1551, 'perk': 1552, 'operator': 1553, 'badly': 1554, 'young': 1555, 'cnn': 1556, 'advice': 1557, 'tkt': 1558, 'ind': 1559, 'biggest': 1560, 'ba': 1561, 'history': 1562, 'thought': 1563, 'teach': 1564, 'cup': 1565, 'yup': 1566, 'whether': 1567, 'flytpa': 1568, 'bonu': 1569, 'odd': 1570, 'initial': 1571, 'icy': 1572, 'nose': 1573, 'midway': 1574, 'voice': 1575, 'tx': 1576, 'band': 1577, 'loose': 1578, 'plat': 1579, 'waterbury': 1580, 'republican': 1581, 'circle': 1582, 'cowboycerrone': 1583, 'guest': 1584, 'redirect': 1585, 'scan': 1586, 'comfortable': 1587, 'indicate': 1588, 'stink': 1589, 'dance': 1590, 'snowflake': 1591, 'bug': 1592, 'password': 1593, 'grand': 1594, 'race': 1595, 'wind': 1596, 'dtw': 1597, 'paperwork': 1598, 'challenge': 1599, 'celebrate': 1600, 'eastern': 1601, 'fear': 1602, 'malfunction': 1603, 'popper': 1604, 'rough': 1605, 'luckily': 1606, 'abc': 1607, 'penalty': 1608, 'common': 1609, 'january': 1610, 'ya': 1611, 'preboard': 1612, 'sincerely': 1613, 'huh': 1614, 'ground': 1615, 'stressful': 1616, 'hence': 1617, 'curiou': 1618, 'owe': 1619, 'machine': 1620, 'bullshit': 1621, 'bunch': 1622, 'monitor': 1623, 'period': 1624, 'notcool': 1625, 'reminder': 1626, 'ensure': 1627, 'membership': 1628, 'karen': 1629, 'gross': 1630, 'correctly': 1631, 'united': 1632, 'lufthansa': 1633, 'replacement': 1634, 'lit': 1635, 'article': 1636, 'hassle': 1637, 'flightst': 1638, 'reasonable': 1639, 'occur': 1640, 'consistently': 1641, 'outsource': 1642, 'shut': 1643, 'segment': 1644, 'transaction': 1645, 'epic': 1646, 'irritate': 1647, 'wear': 1648, 'lousy': 1649, 'metal': 1650, 'worstairlineever': 1651, 'dumb': 1652, 'hurt': 1653, 'memory': 1654, 'availability': 1655, 'strike': 1656, 'trap': 1657, 'staralliance': 1658, 'passport': 1659, 'ahold': 1660, 'unitedfail': 1661, 'conversation': 1662, 'cle': 1663, 'ff': 1664, 'approve': 1665, 'ship': 1666, 'inch': 1667, 'airbu': 1668, 'jax': 1669, 'technical': 1670, 'horrendou': 1671, 'disgrace': 1672, 'john': 1673, 'furiou': 1674, 'cart': 1675, 'transport': 1676, 'thousand': 1677, 'misplace': 1678, 'wth': 1679, 'gg': 1680, 'cont': 1681, 'tablet': 1682, 'anniversary': 1683, 'hide': 1684, 'rico': 1685, 'camera': 1686, 'nexu': 1687, 'jacksonville': 1688, 'de': 1689, 'spiritairline': 1690, 'scavenger': 1691, 'aug': 1692, 'resch': 1693, 'arrow': 1694, 'stupid': 1695, 'cash': 1696, 'velourlive': 1697, 'selfie': 1698, 'lauren': 1699, 'transportation': 1700, 'njb': 1701, 'bluemanity': 1702, 'livery': 1703, 'bottle': 1704, 'usairwayssuck': 1705, 'teen': 1706, 'await': 1707, 'unuse': 1708, 'entertain': 1709, 'stat': 1710, 'table': 1711, 'film': 1712, 'sarcasm': 1713, 'plain': 1714, 'buck': 1715, 'refresh': 1716, 'white': 1717, 'ability': 1718, 'putt': 1719, 'reset': 1720, 'ca': 1721, 'purpose': 1722, 'pillow': 1723, 'barely': 1724, 'turbulence': 1725, 'forecast': 1726, 'nytime': 1727, 'visa': 1728, 'badge': 1729, 'grandma': 1730, 'gesture': 1731, 'scream': 1732, 'spread': 1733, 'jack': 1734, 'europe': 1735, 'dear': 1736, 'serv': 1737, 'law': 1738, 'cousin': 1739, 'existent': 1740, 'upon': 1741, 'gf': 1742, 'quite': 1743, 'october': 1744, 'v': 1745, 'whoever': 1746, 'loui': 1747, 'quote': 1748, 'atrociou': 1749, 'responsibility': 1750, 'compliment': 1751, 'assure': 1752, 'deep': 1753, 'pocket': 1754, 'wk': 1755, 'jp': 1756, 'bar': 1757, 'impact': 1758, 'refuel': 1759, 'rectify': 1760, 'display': 1761, 'reinstate': 1762, 'yvr': 1763, 'msy': 1764, 'male': 1765, 'threaten': 1766, 'canadian': 1767, 'wallet': 1768, 'abt': 1769, 'hubby': 1770, 'forth': 1771, 'glitch': 1772, 'unfriendly': 1773, 'aspen': 1774, 'block': 1775, 'gain': 1776, 'terribly': 1777, 'shop': 1778, 'compare': 1779, 'aircanada': 1780, 'pray': 1781, 'worstcustomerservice': 1782, 'copy': 1783, 'reconsider': 1784, 'desperately': 1785, 'girlfriend': 1786, 'mech': 1787, 'bay': 1788, 'content': 1789, 'relationship': 1790, 'exceptional': 1791, 'pend': 1792, 'chi': 1793, 'tick': 1794, 'appall': 1795, 'delete': 1796, 'inexcusable': 1797, 'arrange': 1798, 'belonging': 1799, 'ramp': 1800, 'download': 1801, 'cxl': 1802, 'progress': 1803, 'weird': 1804, 'decent': 1805, 'pound': 1806, 'disregard': 1807, 'pen': 1808, 'commitment': 1809, 'plastic': 1810, 'useful': 1811, 'expedia': 1812, 'hundr': 1813, 'extension': 1814, 'argue': 1815, 'basic': 1816, 'responsible': 1817, 'painful': 1818, 'warn': 1819, 'june': 1820, 'lifetime': 1821, 'hungry': 1822, 'alternative': 1823, 'exchange': 1824, 'dial': 1825, 'tongue': 1826, 'courteou': 1827, 'gas': 1828, 'survey': 1829, 'pet': 1830, 'women': 1831, 'waiver': 1832, 'harder': 1833, 'van': 1834, 'fresh': 1835, 'cat': 1836, 'ric': 1837, 'neither': 1838, 'understandable': 1839, 'indee': 1840, 'xx': 1841, 'succes': 1842, 'hub': 1843, 'sigh': 1844, 'birmingham': 1845, 'brutal': 1846, 'charleston': 1847, 'throughout': 1848, 'tip': 1849, 'partnership': 1850, 'test': 1851, 'noon': 1852, 'arrangement': 1853, 'md': 1854, 'los': 1855, 'baltimore': 1856, 'corporation': 1857, 'refer': 1858, 'crowd': 1859, 'expressionles': 1860, 'aww': 1861, 'college': 1862, 'chao': 1863, 'unload': 1864, 'disney': 1865, 'involve': 1866, 'regular': 1867, 'agency': 1868, 'nantucket': 1869, 'hpn': 1870, 'shoutout': 1871, 'ctl': 1872, 'key': 1873, 'blast': 1874, 'suicide': 1875, 'fully': 1876, 'impressive': 1877, 'unexpect': 1878, 'getaway': 1879, 'oneway': 1880, 'browser': 1881, 'cabo': 1882, 'redcarpet': 1883, 'globe': 1884, 'destroy': 1885, 'driver': 1886, 'license': 1887, 'dullesairport': 1888, 'ep': 1889, 'nervou': 1890, 'wing': 1891, 'pro': 1892, 'scare': 1893, 'sec': 1894, 'nicely': 1895, 'fav': 1896, 'regulation': 1897, 'atlantic': 1898, 'application': 1899, 'performance': 1900, 'relieve': 1901, 'gma': 1902, 'jacket': 1903, 'superior': 1904, 'constant': 1905, 'greet': 1906, 'fat': 1907, 'brilliant': 1908, 'jose': 1909, 'lock': 1910, 'movie': 1911, 'accident': 1912, 'executive': 1913, 'chase': 1914, 'weak': 1915, 'thankfully': 1916, 'expense': 1917, 'beside': 1918, 'improvement': 1919, 'unfortunate': 1920, 'buddy': 1921, 'guide': 1922, 'scam': 1923, 'ey': 1924, 'disrespect': 1925, 'december': 1926, 'ref': 1927, 'operational': 1928, 'esp': 1929, 'tel': 1930, 'hou': 1931, 'flyohare': 1932, 'stellar': 1933, 'happily': 1934, 'stranger': 1935, 'highly': 1936, 'adopt': 1937, 'spare': 1938, 'beverage': 1939, 'confusion': 1940, 'software': 1941, 'unnecessary': 1942, 'flat': 1943, 'chicken': 1944, 'proper': 1945, 'incur': 1946, 'typical': 1947, 'overweight': 1948, 'dming': 1949, 'coworker': 1950, 'oversell': 1951, 'mex': 1952, 'ten': 1953, 'hm': 1954, 'worthles': 1955, 'ber': 1956, 'frankfurt': 1957, 'humor': 1958, 'grr': 1959, 'cx': 1960, 'hilariou': 1961, 'facebook': 1962, 'tiny': 1963, 'tone': 1964, 'lazy': 1965, 'wu': 1966, 'valuable': 1967, 'perform': 1968, 'contract': 1969, 'relative': 1970, 'organization': 1971, 'describe': 1972, 'tail': 1973, 'capt': 1974, 'discover': 1975, 'bhm': 1976, 'accountability': 1977, 'aisle': 1978, 'planet': 1979, 'concourse': 1980, 'journey': 1981, 'cvg': 1982, 'albany': 1983, 'clarify': 1984, 'detroit': 1985, 'bush': 1986, 'rout': 1987, 'abysmal': 1988, 'hnl': 1989, 'stream': 1990, 'extreme': 1991, 'similar': 1992, 'directtv': 1993, 'closer': 1994, 'backup': 1995, 'formal': 1996, 'roc': 1997, 'map': 1998, 'north': 1999, 'overall': 2000, 'recently': 2001, 'document': 2002, 'incentive': 2003, 'forgive': 2004, 'charity': 2005, 'tight': 2006, 'combine': 2007, 'menu': 2008, 'maint': 2009, 'firstclas': 2010, 'highheel': 2011, 'fave': 2012, 'expedite': 2013, 'heavy': 2014, 'income': 2015, 'alot': 2016, 'selection': 2017, 'admit': 2018, 'jt': 2019, 'custom': 2020, 'shortly': 2021, 'conflict': 2022, 'laugh': 2023, 'scale': 2024, 'blah': 2025, 'en': 2026, 'hartford': 2027, 'package': 2028, 'lmao': 2029, 'earth': 2030, 'fortunately': 2031, 'qualify': 2032, 'technically': 2033, 'gogo': 2034, 'thankful': 2035, 'data': 2036, 'southwestairline': 2037, 'unreliable': 2038, 'bae': 2039, 'injury': 2040, 'terry': 2041, 'oakland': 2042, 'bostonlogan': 2043, 'enroute': 2044, 'telephone': 2045, 'cali': 2046, 'battery': 2047, 'colleague': 2048, 'kelly': 2049, 'triflight': 2050, 'nearby': 2051, 'savannah': 2052, 'anticipate': 2053, 'costa': 2054, 'rica': 2055, 'evaluate': 2056, 'caller': 2057, 'national': 2058, 'cuba': 2059, 'mosaic': 2060, 'goodwill': 2061, 'asleep': 2062, 'digital': 2063, 'crewmember': 2064, 'significant': 2065, 'cot': 2066, 'onhold': 2067, 'filmcrew': 2068, 'recourse': 2069, 'hat': 2070, 'headphone': 2071, 'touchdown': 2072, 'andrew': 2073, 'random': 2074, 'user': 2075, 'desktop': 2076, 'version': 2077, 'represent': 2078, 'cake': 2079, 'andor': 2080, 'comfort': 2081, 'inquire': 2082, 'crisi': 2083, 'recline': 2084, 'assault': 2085, 'cocktail': 2086, 'exhaust': 2087, 'boo': 2088, 'flylaxairport': 2089, 'inappropriate': 2090, 'kiss': 2091, 'stun': 2092, 'kingdom': 2093, 'ella': 2094, 'bounce': 2095, 'requirement': 2096, 'thur': 2097, 'classy': 2098, 'strong': 2099, 'umm': 2100, 'popular': 2101, 'hop': 2102, 'wave': 2103, 'september': 2104, 'illegal': 2105, 'removal': 2106, 'cessna': 2107, 'flex': 2108, 'bogota': 2109, 'negotiate': 2110, 'boot': 2111, 'neglect': 2112, 'july': 2113, 'tourist': 2114, 'century': 2115, 'pop': 2116, 'property': 2117, 'bot': 2118, 'horrid': 2119, 'china': 2120, 'aviv': 2121, 'continental': 2122, 'fran': 2123, 'po': 2124, 'regret': 2125, 'encounter': 2126, 'constantly': 2127, 'appropriate': 2128, 'corp': 2129, 'friendlysky': 2130, 'finest': 2131, 'project': 2132, 'ogg': 2133, 'closest': 2134, 'pacific': 2135, 'carseat': 2136, 'kit': 2137, 'pj': 2138, 'attach': 2139, 'reserv': 2140, 'connector': 2141, 'inadequate': 2142, 'nonsense': 2143, 'pqd': 2144, 'poorcustomerservice': 2145, 'lake': 2146, 'truth': 2147, 'orf': 2148, 'musician': 2149, 'premiere': 2150, 'cute': 2151, 'kindnes': 2152, 'beauty': 2153, 'settle': 2154, 'bridge': 2155, 'temp': 2156, 'foot': 2157, 'rob': 2158, 'dry': 2159, 'btv': 2160, 'lisa': 2161, 'j': 2162, 'dr': 2163, 'freq': 2164, 'wreck': 2165, 'dot': 2166, 'pleasure': 2167, 'explorer': 2168, 'snowy': 2169, 'disgraceful': 2170, 'ph': 2171, 'pat': 2172, 'restore': 2173, 'pretzel': 2174, 'legal': 2175, 'mi': 2176, 'spanish': 2177, 'sincere': 2178, 'circumstance': 2179, 'reliable': 2180, 'flightaware': 2181, 'efficiency': 2182, 'worstairline': 2183, 'philippine': 2184, 'co': 2185, 'hdn': 2186, 'numerou': 2187, 'everytime': 2188, 'green': 2189, 'stt': 2190, 'competitor': 2191, 'proof': 2192, 'oversize': 2193, 'cluster': 2194, 'bereavement': 2195, 'uh': 2196, 'notch': 2197, 'shoulder': 2198, 'particularly': 2199, 'pricey': 2200, 'nh': 2201, 'unknown': 2202, 'poo': 2203, 'cranky': 2204, 'average': 2205, 'draw': 2206, 'hardly': 2207, 'fiasco': 2208, 'relax': 2209, 'nature': 2210, 'proud': 2211, 'pain': 2212, 'belize': 2213, 'congratulation': 2214, 'fra': 2215, 'stock': 2216, 'orlean': 2217, 'skill': 2218, 'login': 2219, 'bahama': 2220, 'officer': 2221, 'consideration': 2222, 'verify': 2223, 'bankrupt': 2224, 'google': 2225, 'folder': 2226, 'darn': 2227, 'clarification': 2228, 'belt': 2229, 'lavatory': 2230, 'function': 2231, 'roll': 2232, 'necessary': 2233, 'burn': 2234, 'box': 2235, 'massive': 2236, 'annual': 2237, 'dest': 2238, 'sept': 2239, 'magic': 2240, 'customerservicefail': 2241, 'annricord': 2242, 'boss': 2243, 'dobetter': 2244, 'weigh': 2245, 'custserv': 2246, 'tab': 2247, 'rush': 2248, 'gj': 2249, 'mission': 2250, 'subpar': 2251, 'pref': 2252, 'invite': 2253, 'protect': 2254, 'nonexistent': 2255, 'provider': 2256, 'omaha': 2257, 'dang': 2258, 'magazine': 2259, 'greatservice': 2260, 'rno': 2261, 'cheat': 2262, 'speedy': 2263, 'dime': 2264, 'ivr': 2265, 'proceed': 2266, 'al': 2267, 'birth': 2268, 'spirit': 2269, 'grateful': 2270, 'hopeful': 2271, 'station': 2272, 'antonio': 2273, 'ohio': 2274, 'heavily': 2275, 'soak': 2276, 'rethink': 2277, 'athlete': 2278, 'aka': 2279, 'color': 2280, 'jamaica': 2281, 'harbor': 2282, 'impression': 2283, 'smirk': 2284, 'greenville': 2285, 'indy': 2286, 'northeast': 2287, 'hv': 2288, 'heck': 2289, 'louisville': 2290, 'gr': 2291, 'lunch': 2292, 'anxiou': 2293, 'gary': 2294, 'utah': 2295, 'paypal': 2296, 'pwm': 2297, 'na': 2298, 'unlike': 2299, 'pump': 2300, 'fastest': 2301, 'lodge': 2302, 'vieque': 2303, 'barbado': 2304, 'rely': 2305, 'mem': 2306, 'flush': 2307, 'neutral': 2308, 'getittogether': 2309, 'brandmance': 2310, 'praise': 2311, 'sxm': 2312, 'flyitforward': 2313, 'diversion': 2314, 'dissatisfy': 2315, 'comm': 2316, 'dump': 2317, 'paint': 2318, 'awe': 2319, 'alaska': 2320, 'jvmchat': 2321, 'sympathy': 2322, 'flydelta': 2323, 'med': 2324, 'ho': 2325, 'vile': 2326, 'logistic': 2327, 'assult': 2328, 'americanview': 2329, 'prime': 2330, 'innovation': 2331, 'lo': 2332, 'rain': 2333, 'mary': 2334, 'appointment': 2335, 'cheapflight': 2336, 'farecompare': 2337, 'build': 2338, 'delight': 2339, 'spoil': 2340, 'investor': 2341, 'psp': 2342, 'pressure': 2343, 'safari': 2344, 'hahaha': 2345, 'severely': 2346, 'shift': 2347, 'expectation': 2348, 'santa': 2349, 'financial': 2350, 'consecutive': 2351, 'competition': 2352, 'ct': 2353, 'wa': 2354, 'temperature': 2355, 'section': 2356, 'chrome': 2357, 'asset': 2358, 'tonite': 2359, 'bound': 2360, 'style': 2361, 'tax': 2362, 'checkout': 2363, 'mood': 2364, 'emboss': 2365, 'patch': 2366, 'cue': 2367, 'sparkle': 2368, 'develop': 2369, 'giant': 2370, 'dallaslovefield': 2371, 'expand': 2372, 'consumer': 2373, 'cheese': 2374, 'richard': 2375, 'plate': 2376, 'haul': 2377, 'network': 2378, 'recieve': 2379, 'town': 2380, 'risk': 2381, 'flaw': 2382, 'ase': 2383, 'debacle': 2384, 'int': 2385, 'silverairway': 2386, 'marry': 2387, 'recheck': 2388, 'addition': 2389, 'active': 2390, 'brain': 2391, 'coincidence': 2392, 'silly': 2393, 'negligence': 2394, 'faith': 2395, 'continually': 2396, 'tide': 2397, 'reduce': 2398, 'severe': 2399, 'confident': 2400, 'lostluggage': 2401, 'variou': 2402, 'holiday': 2403, 'kn': 2404, 'equal': 2405, 'manchester': 2406, 'delhi': 2407, 'thin': 2408, 'ftw': 2409, 'sched': 2410, 'manually': 2411, 'bed': 2412, 'sandwich': 2413, 'quiet': 2414, 'norm': 2415, 'terrific': 2416, 'madrid': 2417, 'randomly': 2418, 'kindle': 2419, 'overwhelm': 2420, 'tool': 2421, 'saver': 2422, 'shall': 2423, 'investigate': 2424, 'resume': 2425, 'rarely': 2426, 'commit': 2427, 'etihad': 2428, 'theworst': 2429, 'reunite': 2430, 'enquire': 2431, 'understatement': 2432, 'measure': 2433, 'tom': 2434, 'wipe': 2435, 'robin': 2436, 'host': 2437, 'suffer': 2438, 'partial': 2439, 'nrt': 2440, 'practical': 2441, 'cushion': 2442, 'retrain': 2443, 'oop': 2444, 'scott': 2445, 'nite': 2446, 'intend': 2447, 'zurich': 2448, 'oct': 2449, 'paste': 2450, 'hanger': 2451, 'sdf': 2452, 'robotic': 2453, 'deck': 2454, 'servicefail': 2455, 'beg': 2456, 'deltassist': 2457, 'acknowledge': 2458, 'efficient': 2459, 'definition': 2460, 'snowstorm': 2461, 'intentionally': 2462, 'singapore': 2463, 'toronto': 2464, 'strategy': 2465, 'bagage': 2466, 'mtg': 2467, 'albuquerque': 2468, 'nowhere': 2469, 'retain': 2470, 'haydensteamboat': 2471, 'dark': 2472, 'origin': 2473, 'ana': 2474, 'thu': 2475, 'convince': 2476, 'astound': 2477, 'seg': 2478, 'shv': 2479, 'boise': 2480, 'atc': 2481, 'smallest': 2482, 'continuou': 2483, 'dunno': 2484, 'outrageou': 2485, 'norfolk': 2486, 'allowance': 2487, 'tucson': 2488, 'pant': 2489, 'smell': 2490, 'self': 2491, 'ntrustopen': 2492, 'cae': 2493, 'hospitality': 2494, 'anthony': 2495, 'def': 2496, 'snowboard': 2497, 'honolulu': 2498, 'miler': 2499, 'sacramento': 2500, 'providence': 2501, 'quicker': 2502, 'mislead': 2503, 'mth': 2504, 'easiest': 2505, 'flip': 2506, 'tk': 2507, 'restriction': 2508, 'accidentally': 2509, 'duh': 2510, 'tremendou': 2511, 'goal': 2512, 'traveller': 2513, 'orig': 2514, 'cooky': 2515, 'swap': 2516, 'calgary': 2517, 'wno': 2518, 'halfway': 2519, 'lmfao': 2520, 'ali': 2521, 'collection': 2522, 'oz': 2523, 'normally': 2524, 'trash': 2525, 'aboard': 2526, 'mid': 2527, 'bum': 2528, 'comcast': 2529, 'difficulty': 2530, 'reopen': 2531, 'cruise': 2532, 'nola': 2533, 'sm': 2534, 'inefficient': 2535, 'favor': 2536, 'cramp': 2537, 'lh': 2538, 'awkward': 2539, 'newyork': 2540, 'smoothly': 2541, 'thoma': 2542, 'blanket': 2543, 'fc': 2544, 'quit': 2545, 'bro': 2546, 'armrest': 2547, 'remote': 2548, 'twelve': 2549, 'letsgo': 2550, 'therefore': 2551, 'vomit': 2552, 'notimpress': 2553, 'patiently': 2554, 'chocolate': 2555, 'jeff': 2556, 'chill': 2557, 'tray': 2558, 'donation': 2559, 'jam': 2560, 'galley': 2561, 'alive': 2562, 'nocustomerservice': 2563, 'accordingly': 2564, 'duty': 2565, 'problems': 2566, 'dpt': 2567, 'refundable': 2568, 'cloud': 2569, 'rant': 2570, 'sop': 2571, 'perfectomobile': 2572, 'up': 2573, 'supposedly': 2574, 'incorrect': 2575, 'sayin': 2576, 'incorrectly': 2577, 'dep': 2578, 'equally': 2579, 'uniform': 2580, 'err': 2581, 'punta': 2582, 'cana': 2583, 'specifically': 2584, 'unaware': 2585, 'grab': 2586, 'accomplish': 2587, 'headache': 2588, 'sydney': 2589, 'hardwork': 2590, 'britishairway': 2591, 'rudest': 2592, 'movy': 2593, 'boee': 2594, 'trade': 2595, 'cert': 2596, 'preciou': 2597, 'shannon': 2598, 'lowest': 2599, 'stone': 2600, 'identical': 2601, 'federal': 2602, 'internal': 2603, 'flyunite': 2604, 'functionality': 2605, 'rudenes': 2606, 'highlight': 2607, 'input': 2608, 'gent': 2609, 'holy': 2610, 'entirely': 2611, 'nynjairport': 2612, 'disorganize': 2613, 'nicer': 2614, 'budget': 2615, 'snag': 2616, 'anamarketer': 2617, 'clever': 2618, 'nonprofit': 2619, 'allergy': 2620, 'profile': 2621, 'personally': 2622, 'hero': 2623, 'signal': 2624, 'reflect': 2625, 'integration': 2626, 'scene': 2627, 'interaction': 2628, 'arizona': 2629, 'range': 2630, 'daytona': 2631, 'contingency': 2632, 'retire': 2633, 'miracle': 2634, 'aruba': 2635, 'elderly': 2636, 'nolove': 2637, 'sb': 2638, 'confound': 2639, 'asshole': 2640, 'holdup': 2641, 'az': 2642, 'valentine': 2643, 'photography': 2644, 'november': 2645, 'maiden': 2646, 'doug': 2647, 'concert': 2648, 'restroom': 2649, 'el': 2650, 'kc': 2651, 'opinion': 2652, 'sweat': 2653, 'insist': 2654, 'indianapoli': 2655, 'mouth': 2656, 'disrespectful': 2657, 'winterweather': 2658, 'cxld': 2659, 'gun': 2660, 'inclement': 2661, 'forfeit': 2662, 'amex': 2663, 'responsive': 2664, 'gracia': 2665, 'carolina': 2666, 'rid': 2667, 'oak': 2668, 'sing': 2669, 'protocol': 2670, 'bottom': 2671, 'bestairline': 2672, 'curve': 2673, 'ragandisney': 2674, 'recovery': 2675, 'wknd': 2676, 'agt': 2677, 'woohoo': 2678, 'bloody': 2679, 'bike': 2680, 'ahhhh': 2681, 'behavior': 2682, 'tryin': 2683, 'mt': 2684, 'dsm': 2685, 'deplorable': 2686, 'pool': 2687, 'madnes': 2688, 'establish': 2689, 'sc': 2690, 'um': 2691, 'nassau': 2692, 'jetbae': 2693, 'tomato': 2694, 'charter': 2695, 'gladly': 2696, 'surely': 2697, 'opposite': 2698, 'idk': 2699, 'yest': 2700, 'gorgeou': 2701, 'brandloveaffair': 2702, 'nine': 2703, 'haiti': 2704, 'dl': 2705, 'div': 2706, 'wyou': 2707, 'seven': 2708, 'island': 2709, 'misunderstand': 2710, 'lovejetblue': 2711, 'unwil': 2712, 'fed': 2713, 'nvr': 2714, 'italy': 2715, 'marie': 2716, 'depend': 2717, 'brush': 2718, 'anybody': 2719, 'kylejudah': 2720, 'jayvig': 2721, 'reverse': 2722, 'utterly': 2723, 'oneworld': 2724, 'drunk': 2725, 'sabre': 2726, 'kphl': 2727, 'phil': 2728, 'usairsuck': 2729, 'cracker': 2730, 'cherry': 2731, 'srvc': 2732, 'cr': 2733, 'jeanine': 2734, 'yousuck': 2735, 'askpaypal': 2736, 'yuma': 2737, 'neptune': 2738, 'thenewamerican': 2739, 'ramper': 2740, 'sexual': 2741, 'rev': 2742, 'goodbye': 2743, 'derekc': 2744, 'aggressive': 2745, 'men': 2746, 'vegan': 2747, 'worstflightever': 2748, 'roast': 2749, 'moodlight': 2750, 'downtown': 2751, 'julie': 2752, 'modify': 2753, 'distribution': 2754, 'peep': 2755, 'apt': 2756, 'butt': 2757, 'reputation': 2758, 'intern': 2759, 'jfksfo': 2760, 'hotline': 2761, 'dude': 2762, 'sunset': 2763, 'monkey': 2764, 'precipitation': 2765, 'disruption': 2766, 'unusable': 2767, 'sanfrancisco': 2768, 'fanew': 2769, 'painles': 2770, 'woaw': 2771, 'lieflat': 2772, 'arm': 2773, 'mayweatherpacquiao': 2774, 'doctor': 2775, 'kciairport': 2776, 'soooo': 2777, 'dislike': 2778, 'achieve': 2779, 'capaviation': 2780, 'mostly': 2781, 'noooo': 2782, 'princes': 2783, 'urgent': 2784, 'cancer': 2785, 'momma': 2786, 'duffle': 2787, 'rockstar': 2788, 'soft': 2789, 'bruh': 2790, 'dig': 2791, 'pink': 2792, 'atx': 2793, 'stray': 2794, 'plough': 2795, 'lone': 2796, 'furrow': 2797, 'middleeast': 2798, 'thenationaluae': 2799, 'sprint': 2800, 'dick': 2801, 'integrate': 2802, 'heaven': 2803, 'affiliate': 2804, 'xweekly': 2805, 'usatoday': 2806, 'compete': 2807, 'mph': 2808, 'tailwind': 2809, 'minneapoli': 2810, 'bff': 2811, 'enroll': 2812, 'hugely': 2813, 'glasgow': 2814, 'ta': 2815, 'logic': 2816, 'gee': 2817, 'repeatedly': 2818, 'newly': 2819, 'reissue': 2820, 'instruct': 2821, 'austrian': 2822, 'codeshare': 2823, 'incl': 2824, 'disable': 2825, 'plague': 2826, 'roger': 2827, 'wc': 2828, 'worstunitedflightsever': 2829, 'pattern': 2830, 'legitimate': 2831, 'systemwide': 2832, 'unrelate': 2833, 'french': 2834, 'indication': 2835, 'fiancee': 2836, 'panic': 2837, 'dispute': 2838, 'convenient': 2839, 'thanx': 2840, 'strange': 2841, 'wour': 2842, 'runaround': 2843, 'addtl': 2844, 'stall': 2845, 'rearrange': 2846, 'ethiopia': 2847, 'frigid': 2848, 'unschedule': 2849, 'suspect': 2850, 'mass': 2851, 'christma': 2852, 'greeting': 2853, 'permission': 2854, 'vice': 2855, 'void': 2856, 'argument': 2857, 'shake': 2858, 'isi': 2859, 'recover': 2860, 'm': 2861, 'tune': 2862, 'cnxn': 2863, 'deaf': 2864, 'horn': 2865, 'president': 2866, 'dublin': 2867, 'confidence': 2868, 'saga': 2869, 'bkk': 2870, 'jm': 2871, 'collect': 2872, 'formally': 2873, 'pointles': 2874, 'slightly': 2875, 'altitude': 2876, 'supply': 2877, 'milan': 2878, 'jj': 2879, 'clown': 2880, 'terribleservice': 2881, 'blatant': 2882, 'eu': 2883, 'on': 2884, 'hopeles': 2885, 'interior': 2886, 'peace': 2887, 'inept': 2888, 'fucken': 2889, 'frontrunner': 2890, 'charm': 2891, 'bull': 2892, 'liar': 2893, 'hourdelay': 2894, 'happycustomer': 2895, 'oma': 2896, 'oti': 2897, 'trace': 2898, 'brave': 2899, 'irresponsible': 2900, 'sympathetic': 2901, 'paulo': 2902, 'rcvd': 2903, 'comedy': 2904, 'voicemail': 2905, 'educate': 2906, 'mike': 2907, 'intention': 2908, 'winterstorm': 2909, 'gettin': 2910, 'sunrise': 2911, 'laxjfk': 2912, 'decline': 2913, 'arrogant': 2914, 'rikrik': 2915, 'fewer': 2916, 'overflight': 2917, 'shirt': 2918, 'disgruntle': 2919, 'enforce': 2920, 'strongly': 2921, 'grandfather': 2922, 'maintain': 2923, 'empathy': 2924, 'calendar': 2925, 'happier': 2926, 'priceles': 2927, 'thread': 2928, 'eco': 2929, 'shrug': 2930, 'hemisphere': 2931, 'pressurization': 2932, 'cnx': 2933, 'checkpoint': 2934, 'immediate': 2935, 'visible': 2936, 'pin': 2937, 'shouldhaveflowndelta': 2938, 'bk': 2939, 'nt': 2940, 'border': 2941, 'con': 2942, 'unitedairlinessuck': 2943, 'tour': 2944, 'appreciation': 2945, 'flysfo': 2946, 'jeokoo': 2947, 'solo': 2948, 'hack': 2949, 'exclusively': 2950, 'qanta': 2951, 'cruel': 2952, 'flatter': 2953, 'legit': 2954, 'lag': 2955, 'approx': 2956, 'regardles': 2957, 'foxnew': 2958, 'transit': 2959, 'preflight': 2960, 'witness': 2961, 'culture': 2962, 'rank': 2963, 'adam': 2964, 'livid': 2965, 'opal': 2966, 'weave': 2967, 'murder': 2968, 'internationally': 2969, 'turnaround': 2970, 'individual': 2971, 'concept': 2972, 'econ': 2973, 'plow': 2974, 'movement': 2975, 'competent': 2976, 'preference': 2977, 'vital': 2978, 'overcharge': 2979, 'op': 2980, 'hole': 2981, 'hrmin': 2982, 'denphx': 2983, 'contain': 2984, 'backlog': 2985, 'downhill': 2986, 'username': 2987, 'orbitz': 2988, 'frequentflyer': 2989, 'inevitable': 2990, 'greedy': 2991, 'relay': 2992, 'chief': 2993, 'curbside': 2994, 'satisfy': 2995, 'kingscollegelondon': 2996, 'jailbreak': 2997, 'rag': 2998, 'columbia': 2999, 'rotten': 3000, 'owner': 3001, 'notgoodenough': 3002, 'airlinegeek': 3003, 'sadden': 3004, 'bye': 3005, 'behave': 3006, 'former': 3007, 'pia': 3008, 'jfklax': 3009, 'resend': 3010, 'booze': 3011, 'beware': 3012, 'frontier': 3013, 'harsh': 3014, 'entitle': 3015, 'reek': 3016, 'discrimination': 3017, 'reassign': 3018, 'enjoyable': 3019, 'jedediahbila': 3020, 'vote': 3021, 'path': 3022, 'loser': 3023, 'warmth': 3024, 'sentiment': 3025, 'regional': 3026, 'friendliest': 3027, 'abuse': 3028, 'privilege': 3029, 'mn': 3030, 'stow': 3031, 'pnr': 3032, 'smisek': 3033, 'aw': 3034, 'hug': 3035, 'hangar': 3036, 'janet': 3037, 'xdaily': 3038, 'erj': 3039, 'entry': 3040, 'sobewff': 3041, 'ont': 3042, 'prebook': 3043, 'uncare': 3044, 'brag': 3045, 'shot': 3046, 'perth': 3047, 'nxt': 3048, 'evry': 3049, 'mht': 3050, 'silence': 3051, 'moon': 3052, 'reboard': 3053, 'argentina': 3054, 'woo': 3055, 'fr': 3056, 'typo': 3057, 'pleasantly': 3058, 'awake': 3059, 'nothank': 3060, 'suite': 3061, 'promptly': 3062, 'trick': 3063, 'heathrowairport': 3064, 'xday': 3065, 'loc': 3066, 'stillwait': 3067, 'slip': 3068, 'oversea': 3069, 'jerk': 3070, 'bat': 3071, 'slapintheface': 3072, 'capital': 3073, 'amateur': 3074, 'tnx': 3075, 'fallow': 3076, 'health': 3077, 'math': 3078, 'metro': 3079, 'insufficient': 3080, 'overflow': 3081, 'midland': 3082, 'staffer': 3083, 'westjet': 3084, 'apparent': 3085, 'nicest': 3086, 'technology': 3087, 'storage': 3088, 'bitch': 3089, 'knee': 3090, 'shade': 3091, 'wrap': 3092, 'pretend': 3093, 'troubleshoot': 3094, 'court': 3095, 'hashtag': 3096, 'warning': 3097, 'previously': 3098, 'headach': 3099, 'fella': 3100, 'humiliate': 3101, 'dine': 3102, 'hometown': 3103, 'hypocrisy': 3104, 'captive': 3105, 'jane': 3106, 'retweet': 3107, 'decency': 3108, 'fiance': 3109, 'everywhere': 3110, 'ferry': 3111, 'equip': 3112, 'inbox': 3113, 'boat': 3114, 'distance': 3115, 'outdate': 3116, 'myer': 3117, 'durango': 3118, 'meantime': 3119, 'survive': 3120, 'cld': 3121, 'proactive': 3122, 'port': 3123, 'torture': 3124, 'research': 3125, 'pregnant': 3126, 'sweetheart': 3127, 'ffl': 3128, 'taylor': 3129, 'vallarta': 3130, 'honey': 3131, 'france': 3132, 'delayscancel': 3133, 'affordable': 3134, 'lynn': 3135, 'nephew': 3136, 'lindsey': 3137, 'principle': 3138, 'mug': 3139, 'larger': 3140, 'combination': 3141, 'luvswa': 3142, 'capacity': 3143, 'strip': 3144, 'sport': 3145, 'earlybird': 3146, 'cellphone': 3147, 'weatherrelate': 3148, 'intercom': 3149, 'nsw': 3150, 'chg': 3151, 'flgt': 3152, 'unveil': 3153, 'orangecounty': 3154, 'spam': 3155, 'sery': 3156, 'loop': 3157, 'phxskyharbor': 3158, 'robot': 3159, 'huntsville': 3160, 'lasairport': 3161, 'carpet': 3162, 'discontinue': 3163, 'secret': 3164, 'homeles': 3165, 'unpleasant': 3166, 'prop': 3167, 'rumor': 3168, 'boycott': 3169, 'arp': 3170, 'goin': 3171, 'alex': 3172, 'glow': 3173, 'seatac': 3174, 'wld': 3175, 'paso': 3176, 'coordinate': 3177, 'particular': 3178, 'crazines': 3179, 'wheelsup': 3180, 'portion': 3181, 'bgr': 3182, 'theellenshow': 3183, 'complicate': 3184, 'flynashville': 3185, 'horror': 3186, 'mask': 3187, 'horse': 3188, 'bless': 3189, 'soul': 3190, 'buyer': 3191, 'noone': 3192, 'rn': 3193, 'jacquie': 3194, 'plitt': 3195, 'unhappycustomer': 3196, 'bwiairport': 3197, 'srsly': 3198, 'gosh': 3199, 'bestfriend': 3200, 'happines': 3201, 'squint': 3202, 'vaca': 3203, 'invalid': 3204, 'android': 3205, 'jason': 3206, 'rescue': 3207, 'gotcha': 3208, 'gmail': 3209, 'hrl': 3210, 'fist': 3211, 'instrument': 3212, 'goto': 3213, 'wmy': 3214, 'logo': 3215, 'mvp': 3216, 'physically': 3217, 'whoa': 3218, 'stewardess': 3219, 'mardigra': 3220, 'hmmm': 3221, 'sooo': 3222, 'flysouthwest': 3223, 'possibility': 3224, 'txt': 3225, 'backpack': 3226, 'scenario': 3227, 'predict': 3228, 'gsp': 3229, 'separately': 3230, 'starve': 3231, 'grade': 3232, 'hangup': 3233, 'inability': 3234, 'jetbluesofly': 3235, 'reader': 3236, 'occasion': 3237, 'uvf': 3238, 'westchester': 3239, 'tatianake': 3240, 'adv': 3241, 'wmcactionnew': 3242, 'stare': 3243, 'blank': 3244, 'toledo': 3245, 'lord': 3246, 'community': 3247, 'awww': 3248, 'woof': 3249, 'pitt': 3250, 'joanna': 3251, 'specify': 3252, 'amybruni': 3253, 'maimi': 3254, 'abcnetwork': 3255, 'geek': 3256, 'dissapoint': 3257, 'disorganization': 3258, 'syracuse': 3259, 'haye': 3260, 'endles': 3261, 'srq': 3262, 'capture': 3263, 'jetbluerock': 3264, 'desire': 3265, 'scheme': 3266, 'controller': 3267, 'flite': 3268, 'ch': 3269, 'mercy': 3270, 'pig': 3271, 'marathon': 3272, 'ping': 3273, 'likelihood': 3274, 'reality': 3275, 'dare': 3276, 'sunshine': 3277, 'lovesongfriday': 3278, 'taxie': 3279, 'slide': 3280, 'tb': 3281, 'angel': 3282, 'coverage': 3283, 'physical': 3284, 'zkatcher': 3285, 'convo': 3286, 'youth': 3287, 'dcabo': 3288, 'target': 3289, 'sensitive': 3290, 'greatest': 3291, 'safetyfirst': 3292, 'ellahenderson': 3293, 'vincenzolandino': 3294, 'hint': 3295, 'roxydigital': 3296, 'registration': 3297, 'breast': 3298, 'beamske': 3299, 'spell': 3300, 'citizen': 3301, 'grace': 3302, 'bougth': 3303, 'mc': 3304, 'basket': 3305, 'vm': 3306, 'derrick': 3307, 'bussey': 3308, 'eyw': 3309, 'kim': 3310, 'cargo': 3311, 'nbr': 3312, 'wd': 3313, 'delayedcancel': 3314, 'cincy': 3315, 'glove': 3316, 'gainesville': 3317, 'pst': 3318, 'patrick': 3319, 'flightno': 3320, 'offload': 3321, 'sauce': 3322, 'onholdwith': 3323, 'goingforgreatnessfail': 3324, 'gso': 3325, 'aggravate': 3326, 'unusual': 3327, 'jtrexsocial': 3328, 'xna': 3329, 'abandon': 3330, 'faulty': 3331, 'obj': 3332, 'horriblecustomerservice': 3333, 'sweetingr': 3334, 'sean': 3335, 'fresno': 3336, 'cho': 3337, 'bout': 3338, 'manch': 3339, 'execplat': 3340, 'faithful': 3341, 'occupy': 3342, 'inferior': 3343, 'mastercard': 3344, 'parker': 3345, 'notmyfault': 3346, 'deadhead': 3347, 'jackkairy': 3348, 'gem': 3349, 'senseles': 3350, 'grk': 3351, 'wichita': 3352, 'mce': 3353, 'pn': 3354, 'veer': 3355, 'auh': 3356, 'worstcustomerserviceever': 3357, 'latime': 3358, 'chicagotribune': 3359, 'fourth': 3360, 'envoy': 3361, 'evoucher': 3362, 'cnnbrk': 3363, 'cll': 3364, 'ky': 3365, 'billion': 3366, 'taste': 3367, 'badmgmt': 3368, 'hoop': 3369, 'obnoxiou': 3370, 'ear': 3371, 'graphic': 3372, 'gentleman': 3373, 'amazingly': 3374, 'bosla': 3375, 'permanently': 3376, 'vent': 3377, 'maneuver': 3378, 'lf': 3379, 'selfservice': 3380, 'vibe': 3381, 'moodlitmonday': 3382, 'sciencebehindtheexperience': 3383, 'purple': 3384, 'angele': 3385, 'mountain': 3386, 'spotify': 3387, 'gaga': 3388, 'carrie': 3389, 'meh': 3390, 'classic': 3391, 'neverflyvirginforbusines': 3392, 'kitty': 3393, 'prince': 3394, 'sfolax': 3395, 'fllsfo': 3396, 'sneaky': 3397, 'beautifully': 3398, 'backend': 3399, 'compatible': 3400, 'xoxo': 3401, 'anxiety': 3402, 'princesshalf': 3403, 'cs': 3404, 'dallasaustin': 3405, 'dallasnew': 3406, 'restr': 3407, 'recd': 3408, 'goodnes': 3409, 'toss': 3410, 'mac': 3411, 'subsequent': 3412, 'silicon': 3413, 'valley': 3414, 'rocky': 3415, 'ban': 3416, 'impend': 3417, 'sentinel': 3418, 'rise': 3419, 'female': 3420, 'dress': 3421, 'seatbelt': 3422, 'gopro': 3423, 'exceed': 3424, 'profitability': 3425, 'sorrynotsorry': 3426, 'sanity': 3427, 'freyabevanfund': 3428, 'freyasfund': 3429, 'portfolio': 3430, 'jkf': 3431, 'demo': 3432, 'ourprinces': 3433, 'asiaustralia': 3434, 'adore': 3435, 'uphold': 3436, 'sfofll': 3437, 'mere': 3438, 'product': 3439, 'singer': 3440, 'square': 3441, 'avi': 3442, 'yummy': 3443, 'hair': 3444, 'kewl': 3445, 'donkey': 3446, 'boom': 3447, 'slot': 3448, 'caffeine': 3449, 'austinairport': 3450, 'intro': 3451, 'apr': 3452, 'sandiego': 3453, 'dalau': 3454, 'nerdbird': 3455, 'nerd': 3456, 'frequency': 3457, 'jezziegoldz': 3458, 'steel': 3459, 'hotspot': 3460, 'expose': 3461, 'cu': 3462, 'definitive': 3463, 'bonuse': 3464, 'potentially': 3465, 'nonrefundable': 3466, 'cheertymedad': 3467, 'necessity': 3468, 'adult': 3469, 'loaner': 3470, 'inop': 3471, 'awhile': 3472, 'colo': 3473, 'disability': 3474, 'grp': 3475, 'starbuck': 3476, 'construction': 3477, 'o': 3478, 'surly': 3479, 'hmm': 3480, 'ordlga': 3481, 'informative': 3482, 'unaccompany': 3483, 'bench': 3484, 'hannah': 3485, 'requiresshe': 3486, 'helppl': 3487, 'donatert': 3488, 'remorse': 3489, 'obviou': 3490, 'intact': 3491, 'produce': 3492, 'distress': 3493, 'steve': 3494, 'politely': 3495, 'iceland': 3496, 'disrupt': 3497, 'lusaka': 3498, 'transatlantic': 3499, 'season': 3500, 'frankly': 3501, 'kul': 3502, 'wdelay': 3503, 'bright': 3504, 'inquiry': 3505, 'flypdx': 3506, 'consolation': 3507, 'publicly': 3508, 'phn': 3509, 'mammoth': 3510, 'flyyow': 3511, 'encourage': 3512, 'cpap': 3513, 'ward': 3514, 'sked': 3515, 'fro': 3516, 'trend': 3517, 'reboot': 3518, 'dispatch': 3519, 'adjacent': 3520, 'mandarinjourney': 3521, 'momsgoodeat': 3522, 'amenity': 3523, 'wastedtime': 3524, 'reno': 3525, 'behalf': 3526, 'jac': 3527, 'devalue': 3528, 'goodenoughmother': 3529, 'agnt': 3530, 'phrp': 3531, 'upload': 3532, 'ondemand': 3533, 'empathize': 3534, 'goodnight': 3535, 'bom': 3536, 'ex': 3537, 'flysha': 3538, 'bio': 3539, 'kevin': 3540, 'enuf': 3541, 'belfast': 3542, 'reveal': 3543, 'communicationfail': 3544, 'possession': 3545, 'campilley': 3546, 'planehow': 3547, 'max': 3548, 'epicfailunite': 3549, 'mo': 3550, 'thrill': 3551, 'slowly': 3552, 'jimmy': 3553, 'samartzi': 3554, 'activate': 3555, 'surf': 3556, 'desert': 3557, 'remedy': 3558, 'stillnobag': 3559, 'stndby': 3560, 'conveniently': 3561, 'dupe': 3562, 'extent': 3563, 'urgency': 3564, 'focuse': 3565, 'bulkhead': 3566, 'ohead': 3567, 'medal': 3568, 'reunion': 3569, 'unnecessarily': 3570, 'compliant': 3571, 'senior': 3572, 'timco': 3573, 'clesfo': 3574, 'unsafe': 3575, 'fake': 3576, 'shanghai': 3577, 'fritz': 3578, 'wother': 3579, 'verbal': 3580, 'electronic': 3581, 'lr': 3582, 'taiwan': 3583, 'avert': 3584, 'prize': 3585, 'stretch': 3586, 'injure': 3587, 'roadwarrior': 3588, 'invoice': 3589, 'del': 3590, 'preferably': 3591, 'pqm': 3592, 'flierfriendly': 3593, 'maysep': 3594, 'badbusines': 3595, 'seatback': 3596, 'birthdate': 3597, 'noservice': 3598, 'recognize': 3599, 'timelines': 3600, 'condescend': 3601, 'barbara': 3602, 'saving': 3603, 'denairport': 3604, 'inefficiency': 3605, 'language': 3606, 'fcking': 3607, 'roller': 3608, 'welldone': 3609, 'goodflight': 3610, 'cane': 3611, 'tactic': 3612, 'iahmnl': 3613, 'tryna': 3614, 'fulfill': 3615, 'seriousnes': 3616, 'maui': 3617, 'flightfail': 3618, 'colombia': 3619, 'spotty': 3620, 'sanm': 3621, 'amongst': 3622, 'excellence': 3623, 'kci': 3624, 'saof': 3625, 'intent': 3626, 'horrific': 3627, 'inaccurate': 3628, 'attentivenes': 3629, 'bohol': 3630, 'nm': 3631, 'cebu': 3632, 'educational': 3633, 'uncle': 3634, 'clutch': 3635, 'grant': 3636, 'sjo': 3637, 'explore': 3638, 'ongo': 3639, 'lung': 3640, 'inconvience': 3641, 'alwayslate': 3642, 'fiorettindward': 3643, 'garciachicago': 3644, 'centricity': 3645, 'unsure': 3646, 'premierk': 3647, 'ap': 3648, 'ashley': 3649, 'jackson': 3650, 'misfortune': 3651, 'copilot': 3652, 'ouch': 3653, 'outfit': 3654, 'rubbish': 3655, 'meaningful': 3656, 'defend': 3657, 'maine': 3658, 'bagsno': 3659, 'smoothest': 3660, 'violation': 3661, 'flightledflight': 3662, 'ordywg': 3663, 'gay': 3664, 'tock': 3665, 'spel': 3666, 'consistency': 3667, 'cite': 3668, 'hep': 3669, 'skil': 3670, 'western': 3671, 'belong': 3672, 'startle': 3673, 'earliest': 3674, 'radio': 3675, 'leadership': 3676, 'assurance': 3677, 'curiosity': 3678, 'laxiad': 3679, 'edinburgh': 3680, 'courier': 3681, 'danger': 3682, 'asia': 3683, 'korea': 3684, 'populate': 3685, 'ottawa': 3686, 'doo': 3687, 'fece': 3688, 'sprinkle': 3689, 'strive': 3690, 'unbelievably': 3691, 'redeye': 3692, 'nonweather': 3693, 'bangkok': 3694, 'acknowledgment': 3695, 'foreign': 3696, 'airborne': 3697, 'joker': 3698, 'rage': 3699, 'parachuteguy': 3700, 'cnnmoney': 3701, 'unitedly': 3702, 'hurry': 3703, 'gpu': 3704, 'travelocity': 3705, 'offensive': 3706, 'legally': 3707, 'msnbc': 3708, 'skin': 3709, 'horribleservice': 3710, 'yow': 3711, 'firstworldproblem': 3712, 'refrain': 3713, 'unlikely': 3714, 'overheat': 3715, 'dreamliner': 3716, 'breakdown': 3717, 'activity': 3718, 'somewhat': 3719, 'draft': 3720, 'capability': 3721, 'context': 3722, 'flightua': 3723, 'wcancel': 3724, 'irrop': 3725, 'mgr': 3726, 'observe': 3727, 'deodorant': 3728, 'shampoo': 3729, 'prom': 3730, 'flyerfriendly': 3731, 'looong': 3732, 'satisfactory': 3733, 'rhonda': 3734, 'straighten': 3735, 'filthy': 3736, 'disinfectant': 3737, 'cldnt': 3738, 'substitute': 3739, 'developer': 3740, 'huston': 3741, 'phenomenal': 3742, 'royally': 3743, 'doubtful': 3744, 'humour': 3745, 'pedro': 3746, 'vp': 3747, 'custexp': 3748, 'meanwhile': 3749, 'festivity': 3750, 'makeup': 3751, 'bully': 3752, 'workforce': 3753, 'nothin': 3754, 'mite': 3755, 'bite': 3756, 'airnzusa': 3757, 'boeingairplane': 3758, 'errore': 3759, 'jaclax': 3760, 'afraid': 3761, 'yuck': 3762, 'inspect': 3763, 'pita': 3764, 'herman': 3765, 'emb': 3766, 'bgm': 3767, 'typically': 3768, 'gluten': 3769, 'rare': 3770, 'gfc': 3771, 'danahajek': 3772, 'sob': 3773, 'screenshot': 3774, 'panamerican': 3775, 'vicky': 3776, 'brian': 3777, 'liable': 3778, 'wayne': 3779, 'misinformation': 3780, 'fwiw': 3781, 'attendent': 3782, 'recognition': 3783, 'swis': 3784, 'significantly': 3785, 'handy': 3786, 'historical': 3787, 'afterall': 3788, 'mix': 3789, 'sfobo': 3790, 'clockwork': 3791, 'battierccipuppy': 3792, 'puppy': 3793, 'nw': 3794, 'skywest': 3795, 'conection': 3796, 'awesomenes': 3797, 'conveyer': 3798, 'unanticipate': 3799, 'num': 3800, 'partly': 3801, 'followback': 3802, 'everybody': 3803, 'slight': 3804, 'sir': 3805, 'contd': 3806, 'trial': 3807, 'chain': 3808, 'accrue': 3809, 'unhappytraveler': 3810, 'tokyo': 3811, 'motel': 3812, 'cream': 3813, 'standbye': 3814, 'potential': 3815, 'stocker': 3816, 'waitlist': 3817, 'jim': 3818, 'tshirt': 3819, 'fo': 3820, 'upgrd': 3821, 'kat': 3822, 'mouse': 3823, 'businessfirst': 3824, 'rubber': 3825, 'education': 3826, 'concentrate': 3827, 'ass': 3828, 'spite': 3829, 'embraersa': 3830, 'craft': 3831, 'unitedfirst': 3832, 'unsympathetic': 3833, 'unitedappeal': 3834, 'dim': 3835, 'char': 3836, 'jenniferwalshpr': 3837, 'dissatisfaction': 3838, 'flow': 3839, 'hd': 3840, 'z': 3841, 'ru': 3842, 'thick': 3843, 'slower': 3844, 'capable': 3845, 'ab': 3846, 'install': 3847, 'fedex': 3848, 'grouchy': 3849, 'nap': 3850, 'oregon': 3851, 'beforeafter': 3852, 'am': 3853, 'antigua': 3854, 'burbank': 3855, 'prem': 3856, 'rear': 3857, 'iamtedk': 3858, 'instagram': 3859, 'ail': 3860, 'employer': 3861, 'busiest': 3862, 'expedient': 3863, 'dispatcher': 3864, 'il': 3865, 'gogh': 3866, 'relevant': 3867, 'ramada': 3868, 'angrycustomer': 3869, 'hii': 3870, 'wht': 3871, 'ruth': 3872, 'rez': 3873, 'abroad': 3874, 'recap': 3875, 'sue': 3876, 'hoot': 3877, 'turkish': 3878, 'twin': 3879, 'preparation': 3880, 'breach': 3881, 'fu': 3882, 'despicable': 3883, 'lookin': 3884, 'thirty': 3885, 'fashion': 3886, 'professor': 3887, 'negative': 3888, 'cough': 3889, 'loganairport': 3890, 'remotely': 3891, 'shenanigan': 3892, 'helacohlc': 3893, 'activitiesprevention': 3894, 'condomrito': 3895, 'familywe': 3896, 'aba': 3897, 'anchorage': 3898, 'dominican': 3899, 'houstonbogota': 3900, 'energy': 3901, 'flighttold': 3902, 'motion': 3903, 'determine': 3904, 'overprice': 3905, 'par': 3906, 'luxuriou': 3907, 'edit': 3908, 'creative': 3909, 'beneficial': 3910, 'burningman': 3911, 'motto': 3912, 'doc': 3913, 'press': 3914, 'yard': 3915, 'amateurish': 3916, 'customerexperience': 3917, 'scratch': 3918, 'referral': 3919, 'loud': 3920, 'shuffle': 3921, 'structure': 3922, 'dramatically': 3923, 'ilchp': 3924, 'atleast': 3925, 'helples': 3926, 'upgd': 3927, 'neworlean': 3928, 'miriam': 3929, 'montego': 3930, 'breathe': 3931, 'in': 3932, 'smf': 3933, 'shoddy': 3934, 'laurasbrown': 3935, 'skateboard': 3936, 'pgatour': 3937, 'thparty': 3938, 'itproblem': 3939, 'associate': 3940, 'flashlight': 3941, 'neighbor': 3942, 'smoke': 3943, 'prohibit': 3944, 'bourbon': 3945, 'bold': 3946, 'savethediagonal': 3947, 'satisfaction': 3948, 'born': 3949, 'india': 3950, 'ooh': 3951, 'nofun': 3952, 'alaskair': 3953, 'loan': 3954, 'amsterdam': 3955, 'surround': 3956, 'guideline': 3957, 'debate': 3958, 'oc': 3959, 'toiletry': 3960, 'entree': 3961, 'wander': 3962, 'whisper': 3963, 'acquire': 3964, 'bizarre': 3965, 'outage': 3966, 'bandwidth': 3967, 'fab': 3968, 'swag': 3969, 'overhear': 3970, 'greater': 3971, 'btwn': 3972, 'heartbroken': 3973, 'mp': 3974, 'loooooong': 3975, 'prev': 3976, 'ding': 3977, 'swell': 3978, 'unfollow': 3979, 'bestflightever': 3980, 'approval': 3981, 'perfectly': 3982, 'vacay': 3983, 'expiration': 3984, 'magically': 3985, 'solid': 3986, 'length': 3987, 'village': 3988, 'carol': 3989, 'crook': 3990, 'marriott': 3991, 'science': 3992, 'largest': 3993, 'career': 3994, 'resource': 3995, 'vineyard': 3996, 'entrance': 3997, 'aim': 3998, 'urgently': 3999, 'cb': 4000, 'hail': 4001, 'badpolicy': 4002, 'theft': 4003, 'uncool': 4004, 'filmjobnoequipment': 4005, 'tu': 4006, 'donate': 4007, 'ann': 4008, 'vinyl': 4009, 'sass': 4010, 'honesty': 4011, 'lift': 4012, 'stoke': 4013, 'kelsey': 4014, 'bellagio': 4015, 'television': 4016, 'prioritize': 4017, 'bicep': 4018, 'dice': 4019, 'dont': 4020, 'rudely': 4021, 'geniu': 4022, 'purchaseerrorinvalidloyaltymemberaccountstatu': 4023, 'dnt': 4024, 'sld': 4025, 'uxzj': 4026, 'fri': 4027, 'pleaseeee': 4028, 'fron': 4029, 'allergic': 4030, 'oil': 4031, 'triple': 4032, 'nwn': 4033, 'existence': 4034, 'passive': 4035, 'sleepy': 4036, 'workaround': 4037, 'knowledge': 4038, 'wn': 4039, 'flymidway': 4040, 'alt': 4041, 'inconsistent': 4042, 'mate': 4043, 'canx': 4044, 'cp': 4045, 'memorial': 4046, 'grimace': 4047, 'subscribe': 4048, 'oppose': 4049, 'chaotic': 4050, 'handicap': 4051, 'smash': 4052, 'essential': 4053, 'theacademy': 4054, 'zoom': 4055, 'boooo': 4056, 'flyswa': 4057, 'denverairport': 4058, 'savore': 4059, 'noexcuse': 4060, 'seam': 4061, 'justsay': 4062, 'arkansa': 4063, 'tfw': 4064, 'jimcramer': 4065, 'orl': 4066, 'iflyswa': 4067, 'diabetic': 4068, 'poteettj': 4069, 'talent': 4070, 'tmadcle': 4071, 'mcocmh': 4072, 'avon': 4073, 'dcoadavon': 4074, 'sanitizer': 4075, 'interfere': 4076, 'blackhistorymonth': 4077, 'recruit': 4078, 'internship': 4079, 'bravo': 4080, 'clink': 4081, 'leinenkugel': 4082, 'tn': 4083, 'letdown': 4084, 'ala': 4085, 'wound': 4086, 'vet': 4087, 'sooooo': 4088, 'unorganize': 4089, 'skip': 4090, 'corner': 4091, 'pleasehelp': 4092, 'grandmother': 4093, 'tld': 4094, 'trvl': 4095, 'kay': 4096, 'que': 4097, 'cockpit': 4098, 'tmw': 4099, 'backroad': 4100, 'olive': 4101, 'pulse': 4102, 'dale': 4103, 'portcolumbuscmh': 4104, 'waitin': 4105, 'sally': 4106, 'sleet': 4107, 'clarence': 4108, 'frank': 4109, 'sanitize': 4110, 'troubadour': 4111, 'bake': 4112, 'dread': 4113, 'all': 4114, 'purely': 4115, 'applaud': 4116, 'musical': 4117, 'dultch': 4118, 'graduate': 4119, 'gal': 4120, 'labor': 4121, 'acknowledgement': 4122, 'bestairlineever': 4123, 'southwestverity': 4124, 'luxury': 4125, 'larry': 4126, 'isp': 4127, 'tarmack': 4128, 'wx': 4129, 'provo': 4130, 'betsy': 4131, 'besty': 4132, 'memo': 4133, 'nascar': 4134, 'cattle': 4135, 'michaelbcoleman': 4136, 'eb': 4137, 'gng': 4138, 'execution': 4139, 'resort': 4140, 'nvm': 4141, 'fairly': 4142, 'sammijon': 4143, 'southwestrally': 4144, 'bestemployee': 4145, 'swaculture': 4146, 'bwisjd': 4147, 'hayleymad': 4148, 'dialup': 4149, 'childish': 4150, 'yearly': 4151, 'rave': 4152, 'ctr': 4153, 'intelligent': 4154, 'enterprise': 4155, 'thirtylive': 4156, 'thaw': 4157, 'player': 4158, 'oncome': 4159, 'aside': 4160, 'ga': 4161, 'knoxville': 4162, 'monthly': 4163, 'eligible': 4164, 'chimid': 4165, 'internjohnradio': 4166, 'mrerickv': 4167, 'beatsmusic': 4168, 'personalize': 4169, 'snapchat': 4170, 'bicycle': 4171, 'lane': 4172, 'postcode': 4173, 'ireland': 4174, 'flower': 4175, 'karajusto': 4176, 'vinylvega': 4177, 'swadiversity': 4178, 'lem': 4179, 'university': 4180, 'crave': 4181, 'jackas': 4182, 'caribbean': 4183, 'oki': 4184, 'development': 4185, 'displease': 4186, 'amazon': 4187, 'plug': 4188, 'emp': 4189, 'wide': 4190, 'phi': 4191, 'wire': 4192, 'reddit': 4193, 'bigger': 4194, 'rub': 4195, 'swamp': 4196, 'store': 4197, 'spil': 4198, 'tul': 4199, 'sour': 4200, 'unspecify': 4201, 'guidance': 4202, 'adjustment': 4203, 'imma': 4204, 'hournot': 4205, 'insight': 4206, 'chart': 4207, 'alleviate': 4208, 'modification': 4209, 'geg': 4210, 'answerthephone': 4211, 'jetbluebo': 4212, 'george': 4213, 'org': 4214, 'goblin': 4215, 'reject': 4216, 'formula': 4217, 'jetbluecheep': 4218, 'natca': 4219, 'county': 4220, 'noplacelikehome': 4221, 'setup': 4222, 'matkare': 4223, 'syr': 4224, 'comfortably': 4225, 'navigate': 4226, 'thy': 4227, 'redemption': 4228, 'wut': 4229, 'chip': 4230, 'brandssayingbae': 4231, 'fustrate': 4232, 'nojetblue': 4233, 'thewayoftheid': 4234, 'martysg': 4235, 'bankruptcy': 4236, 'tweeter': 4237, 'donut': 4238, 'debit': 4239, 'sudden': 4240, 'heel': 4241, 'em': 4242, 'environment': 4243, 'robert': 4244, 'sittin': 4245, 'pure': 4246, 'tim': 4247, 'selfy': 4248, 'ricoh': 4249, 'emv': 4250, 'younger': 4251, 'shannonwoodward': 4252, 'reaction': 4253, 'bqn': 4254, 'tank': 4255, 'sj': 4256, 'preciate': 4257, 'essentially': 4258, 'stair': 4259, 'untz': 4260, 'jetbluefail': 4261, 'criminal': 4262, 'bluecarpet': 4263, 'perspective': 4264, 'hawaiian': 4265, 'msbgu': 4266, 'justify': 4267, 'littlebird': 4268, 'newburgh': 4269, 'alcohol': 4270, 'league': 4271, 'graciou': 4272, 'umosaicmecrazy': 4273, 'autoresponse': 4274, 'demand': 4275, 'lil': 4276, 'ideal': 4277, 'wat': 4278, 'direction': 4279, 'upstate': 4280, 'protection': 4281, 'sylvie': 4282, 'followup': 4283, 'animal': 4284, 'bumper': 4285, 'engagement': 4286, 'minimum': 4287, 'pandora': 4288, 'rum': 4289, 'coke': 4290, 'nhlonnbcsport': 4291, 'goodcustomerservice': 4292, 'charle': 4293, 'warmer': 4294, 'regularly': 4295, 'analyst': 4296, 'nasdaq': 4297, 'dakota': 4298, 'vetr': 4299, 'inc': 4300, 'foolish': 4301, 'snowman': 4302, 'barrier': 4303, 'iata': 4304, 'corevalue': 4305, 'passion': 4306, 'aerojobmarket': 4307, 'nigga': 4308, 'mideast': 4309, 'nov': 4310, 'bein': 4311, 'lgb': 4312, 'cal': 4313, 'nasdaqjblu': 4314, 'query': 4315, 'burger': 4316, 'dec': 4317, 'lucia': 4318, 'frown': 4319, 'joe': 4320, 'escape': 4321, 'cheesy': 4322, 'lay': 4323, 'smart': 4324, 'finder': 4325, 'dre': 4326, 'truebluelove': 4327, 'sleekmoney': 4328, 'complainer': 4329, 'bucket': 4330, 'thevdt': 4331, 'broadway': 4332, 'ardent': 4333, 'poughkeepsie': 4334, 'wkrb': 4335, 'havana': 4336, 'slowest': 4337, 'camp': 4338, 'carsl': 4339, 'jetblueblue': 4340, 'anku': 4341, 'ninadavuluri': 4342, 'patronize': 4343, 'gangway': 4344, 'doke': 4345, 'legacy': 4346, 'repost': 4347, 'needcoffee': 4348, 'rifle': 4349, 'transferable': 4350, 'bretharold': 4351, 'infuriate': 4352, 'brazil': 4353, 'sexy': 4354, 'closepwc': 4355, 'festival': 4356, 'attendee': 4357, 'pattonoswalt': 4358, 'sand': 4359, 'warrior': 4360, 'skytrax': 4361, 'sch': 4362, 'ath': 4363, 'postpone': 4364, 'relief': 4365, 'applicable': 4366, 'foodallergy': 4367, 'engage': 4368, 'eight': 4369, 'steer': 4370, 'jbeatz': 4371, 'susan': 4372, 'downcast': 4373, 'cinnabon': 4374, 'hotter': 4375, 'compound': 4376, 'blumanity': 4377, 'applepay': 4378, 'kate': 4379, 'deliciou': 4380, 'participate': 4381, 'accuse': 4382, 'warehouse': 4383, 'professorpaul': 4384, 'tsapre': 4385, 'printer': 4386, 'oui': 4387, 'generate': 4388, 'navy': 4389, 'phdmama': 4390, 'realtime': 4391, 'chronicleherald': 4392, 'deedee': 4393, 'iowa': 4394, 'diamond': 4395, 'employ': 4396, 'insanity': 4397, 'chkd': 4398, 'flexibility': 4399, 'flexible': 4400, 'army': 4401, 'shortcoming': 4402, 'wrongfully': 4403, 'transf': 4404, 'fing': 4405, 'dividendreward': 4406, 'req': 4407, 'dividendmile': 4408, 'cardholder': 4409, 'fligth': 4410, 'customerrelationsacom': 4411, 'mitchell': 4412, 'unmonitore': 4413, 'rachel': 4414, 'nail': 4415, 'tammy': 4416, 'jealou': 4417, 'mel': 4418, 'sticker': 4419, 'endlessly': 4420, 'gatwick': 4421, 'publicity': 4422, 'gnv': 4423, 'plot': 4424, 'struggle': 4425, 'plead': 4426, 'proactively': 4427, 'thanku': 4428, 'ricdfw': 4429, 'bora': 4430, 'finnair': 4431, 'madam': 4432, 'elaborate': 4433, 'wannagohome': 4434, 'differently': 4435, 'russia': 4436, 'inconsiderate': 4437, 'phlmia': 4438, 'undelay': 4439, 'instruction': 4440, 'snap': 4441, 'poorplan': 4442, 'southern': 4443, 'sav': 4444, 'lexington': 4445, 'brokenpromise': 4446, 'elm': 4447, 'shameonyou': 4448, 'breath': 4449, 'realistic': 4450, 'nocrew': 4451, 'claudoakeshott': 4452, 'cha': 4453, 'rivet': 4454, 'overhaul': 4455, 'josephtrei': 4456, 'overload': 4457, 'fm': 4458, 'havoc': 4459, 'nburnside': 4460, 'reaccommodation': 4461, 'exercise': 4462, 'miserably': 4463, 'jabevan': 4464, 'midght': 4465, 'moine': 4466, 'follower': 4467, 'ow': 4468, 'emerald': 4469, 'reaganairport': 4470, 'sy': 4471, 'hve': 4472, 'flght': 4473, 'kentuckymbb': 4474, 'tamara': 4475, 'iti': 4476, 'eagle': 4477, 'delayedconnection': 4478, 'dedicate': 4479, 'quarter': 4480, 'franchise': 4481, 'wasteoftime': 4482, 'lawsuit': 4483, 'stephenrodrick': 4484, 'command': 4485, 'prepurchase': 4486, 'barclay': 4487, 'nrhode': 4488, 'bttr': 4489, 'sync': 4490, 'flightedflight': 4491, 'yvonne': 4492, 'nicedismissive': 4493, 'thk': 4494, 'scotch': 4495, 'worstflight': 4496, 'embarrassment': 4497, 'baggagelost': 4498, 'fuk': 4499, 'scatter': 4500, 'backward': 4501, 'annettenaif': 4502, 'roberto': 4503, 'evenlate': 4504, 'myrtle': 4505, 'tsaprecheck': 4506, 'disconnection': 4507, 'pity': 4508, 'ignorant': 4509, 'blizzard': 4510, 'spf': 4511, 'itin': 4512, 'fate': 4513, 'shld': 4514, 'cycle': 4515, 'eh': 4516, 'waivethefee': 4517, 'ordeal': 4518, 'versu': 4519, 'uncal': 4520, 'gray': 4521, 'hsv': 4522, 'oy': 4523, 'reactivate': 4524, 'casimir': 4525, 'nocareforcustomer': 4526, 'mold': 4527, 'filthyplane': 4528, 'hopeidonotgetsick': 4529, 'frustratingit': 4530, 'nexttimeiwillflysouthwest': 4531, 'tpadfwlax': 4532, 'lex': 4533, 'xt': 4534, 'fau': 4535, 'addl': 4536, 'prolong': 4537, 'prd': 4538, 'chef': 4539, 'miguel': 4540, 'allende': 4541, 'horriblewent': 4542, 'buttonthatcal': 4543, 'minsput': 4544, 'calledit': 4545, 'hungupnohelp': 4546, 'andrewwasila': 4547, 'sma': 4548, 'rollercoaster': 4549, 'yesso': 4550, 'guysfor': 4551, 'killeen': 4552, 'wcustomer': 4553, 'rwrd': 4554, 'ano': 4555, 'narrowly': 4556, 'standbylot': 4557, 'pbpinftworth': 4558, 'gb': 4559, 'robertdwyer': 4560, 'choppiest': 4561, 'whiplash': 4562, 'americanairlinesfail': 4563, 'iwantmymoneyback': 4564, 'trustget': 4565, 'okyou': 4566, 'stuckinmemphi': 4567, 'texasisclose': 4568, 'sheesh': 4569, 'espinosa': 4570, 'crate': 4571, 'wouldbe': 4572, 'painfully': 4573, 'inexperience': 4574, 'mattersit': 4575, 'clarkey': 4576, 'biggie': 4577, 'itunesmusic': 4578, 'spagnuolo': 4579, 'ram': 4580, 'whammie': 4581, 'robocall': 4582, 'onplane': 4583, 'twitterdm': 4584, 'origindestinationdate': 4585, 'ordpvg': 4586, 'arbitrary': 4587, 'pafe': 4588, 'adfw': 4589, 'amso': 4590, 'trvlove': 4591, 'boatstyle': 4592, 'swivel': 4593, 'dietcoke': 4594, 'happyflier': 4595, 'marshale': 4596, 'resole': 4597, 'kax': 4598, 'beantownmatty': 4599, 'grievance': 4600, 'maria': 4601, 'beanie': 4602, 'lpalumbo': 4603, 'laguardiair': 4604, 'diaper': 4605, 'fyicall': 4606, 'souljacoy': 4607, 'obscene': 4608, 'acquisition': 4609, 'youyou': 4610, 'nitrogen': 4611, 'fligt': 4612, 'americanairstill': 4613, 'bueno': 4614, 'tyr': 4615, 'outta': 4616, 'superyan': 4617, 'chasefoster': 4618, 'cvgairport': 4619, 'platitude': 4620, 'embassy': 4621, 'herndon': 4622, 'tcf': 4623, 'swear': 4624, 'dialogue': 4625, 'clueles': 4626, 'react': 4627, 'gunna': 4628, 'swu': 4629, 'yike': 4630, 'nrosenb': 4631, 'afail': 4632, 'deactivate': 4633, 'rizzilient': 4634, 'maryellagreen': 4635, 'lima': 4636, 'btr': 4637, 'wudda': 4638, 'nbc': 4639, 'meelan': 4640, 'chnge': 4641, 'deflator': 4642, 'chapter': 4643, 'amm': 4644, 'shawn': 4645, 'orange': 4646, 'lan': 4647, 'mxpjfk': 4648, 'goingforgreat': 4649, 'shortage': 4650, 'phrase': 4651, 'numerical': 4652, 'justynmoro': 4653, 'automatic': 4654, 'iberia': 4655, 'skycap': 4656, 'oaret': 4657, 'wreservation': 4658, 'tisk': 4659, 'squawk': 4660, 'dawn': 4661, 'ggreenwald': 4662, 'robinreda': 4663, 'sample': 4664, 'txfd': 4665, 'centre': 4666, 'sizer': 4667, 'breeze': 4668, 'cincinnati': 4669, 'slcairport': 4670, 'everything': 4671, 'teco': 4672, 'sacraig': 4673, 'travisamex': 4674, 'refsd': 4675, 'deane': 4676, 'norma': 4677, 'sedholm': 4678, 'dhepburn': 4679, 'tacky': 4680, 'worm': 4681, 'parody': 4682, 'minimal': 4683, 'iconography': 4684, 'virginmedia': 4685, 'seductive': 4686, 'sfopdx': 4687, 'daystogo': 4688, 'bosfll': 4689, 'hipster': 4690, 'noair': 4691, 'sfotobo': 4692, 'noob': 4693, 'sendambien': 4694, 'andchexmix': 4695, 'bked': 4696, 'pacificbiznew': 4697, 'calm': 4698, 'freddieaward': 4699, 'hollywood': 4700, 'bid': 4701, 'laxsea': 4702, 'travelhelp': 4703, 'elevategold': 4704, 'tribute': 4705, 'soundofmusic': 4706, 'lgadal': 4707, 'guiltypleasure': 4708, 'wowd': 4709, 'elevatethey': 4710, 'uphelp': 4711, 'martin': 4712, 'heyyyy': 4713, 'guyyyy': 4714, 'travelzoo': 4715, 'loft': 4716, 'cmfatfeet': 4717, 'ratepolicy': 4718, 'doom': 4719, 'supp': 4720, 'teamim': 4721, 'flightattendant': 4722, 'dreampath': 4723, 'begrudgingly': 4724, 'plannedneverflyvirginforbusines': 4725, 'neverflyvirgin': 4726, 'avatar': 4727, 'disproportionate': 4728, 'jperhi': 4729, 'helpva': 4730, 'rnp': 4731, 'nomorevirgin': 4732, 'redesign': 4733, 'ressie': 4734, 'raeann': 4735, 'reluctant': 4736, 'pleasecomeback': 4737, 'oneasy': 4738, 'reservationhelpful': 4739, 'naelah': 4740, 'frontend': 4741, 'crossbrowser': 4742, 'nycjfk': 4743, 'vabeatsjblue': 4744, 'fidifamily': 4745, 'luca': 4746, 'chrysichrysic': 4747, 'likingyoulessandles': 4748, 'reallytallchri': 4749, 'irmafromdalla': 4750, 'waltdisneyworld': 4751, 'jessicajayme': 4752, 'backtowinter': 4753, 'grey': 4754, 'rang': 4755, 'vendor': 4756, 'todaycheck': 4757, 'pairing': 4758, 'redwineisbetter': 4759, 'wonk': 4760, 'designate': 4761, 'pasenger': 4762, 'topnew': 4763, 'arab': 4764, 'emirate': 4765, 'baggageissue': 4766, 'lister': 4767, 'ketr': 4768, 'sfoewr': 4769, 'clincher': 4770, 'cudtomer': 4771, 'ttinac': 4772, 'seevery': 4773, 'virginamericayouve': 4774, 'matchgot': 4775, 'asarcoesar': 4776, 'hearnoevil': 4777, 'persist': 4778, 'revue': 4779, 'beatstheother': 4780, 'soreback': 4781, 'headerelevateusernumofpointsavailable': 4782, 'diehardvirgin': 4783, 'flightledgonna': 4784, 'nominate': 4785, 'meetthefleet': 4786, 'fcmostinnovative': 4787, 'incubator': 4788, 'fastcompany': 4789, 'bubbly': 4790, 'spruce': 4791, 'moose': 4792, 'classiq': 4793, 'greetingz': 4794, 'airplanemodewason': 4795, 'dentedmiss': 4796, 'miranda': 4797, 'vodkatonic': 4798, 'cruz': 4799, 'lovegratitudempower': 4800, 'werin': 4801, 'vipswagbag': 4802, 'avalonhollywood': 4803, 'luxuriesaesthetic': 4804, 'budapest': 4805, 'oscarscountdown': 4806, 'newsvp': 4807, 'dfwlax': 4808, 'cutest': 4809, 'pepper': 4810, 'shaker': 4811, 'iol': 4812, 'lizautter': 4813, 'renttherunway': 4814, 'callah': 4815, 'fullyear': 4816, 'net': 4817, 'atwonline': 4818, 'javascript': 4819, 'stylesheet': 4820, 'handily': 4821, 'outlook': 4822, 'reuter': 4823, 'tmm': 4824, 'cach': 4825, 'madbee': 4826, 'choppy': 4827, 'gusty': 4828, 'wthe': 4829, 'windchill': 4830, 'responseplease': 4831, 'biztravel': 4832, 'ssal': 4833, 'shrinerack': 4834, 'wifey': 4835, 'vday': 4836, 'keeper': 4837, 'holla': 4838, 'callemail': 4839, 'debbie': 4840, 'baldwin': 4841, 'lassfo': 4842, 'bestcrew': 4843, 'sherock': 4844, 'suuperg': 4845, 'bandie': 4846, 'lofty': 4847, 'silverstatu': 4848, 'transformative': 4849, 'statusmatch': 4850, 'checkinbut': 4851, 'daldca': 4852, 'wjere': 4853, 'deeply': 4854, 'dontdothistome': 4855, 'blazer': 4856, 'koople': 4857, 'boost': 4858, 'conversion': 4859, 'etailwest': 4860, 'promote': 4861, 'noneother': 4862, 'giannilee': 4863, 'vxsafetydance': 4864, 'obsess': 4865, 'swanky': 4866, 'cabaret': 4867, 'dirtiest': 4868, 'skift': 4869, 'karinslee': 4870, 'chinese': 4871, 'comenity': 4872, 'transactional': 4873, 'sugafly': 4874, 'accelerate': 4875, 'livewelltravele': 4876, 'sytycd': 4877, 'brisk': 4878, 'ipaddont': 4879, 'wfare': 4880, 'laxla': 4881, 'infovirginamericacom': 4882, 'newsflt': 4883, 'nwksf': 4884, 'apostrophe': 4885, 'surname': 4886, 'apostrophefail': 4887, 'tinder': 4888, 'tindertip': 4889, 'tinderchamp': 4890, 'herbal': 4891, 'drinker': 4892, 'expansion': 4893, 'austindalla': 4894, 'flightchng': 4895, 'afiliate': 4896, 'earphone': 4897, 'dallaslovefieldaustinairport': 4898, 'backyard': 4899, 'extortion': 4900, 'brokenstolen': 4901, 'artisanal': 4902, 'jfklhr': 4903, 'tminu': 4904, 'freeneversuck': 4905, 'thestarter': 4906, 'paul': 4907, 'visor': 4908, 'bean': 4909, 'thoughand': 4910, 'segway': 4911, 'infographic': 4912, 'defiantly': 4913, 'scold': 4914, 'myvxexperience': 4915, 'apathy': 4916, 'wervirgin': 4917, 'fargo': 4918, 'fargoairport': 4919, 'amazing': 4920, 'kickin': 4921, 'zzz': 4922, 'letsgohome': 4923, 'starryeyesdev': 4924, 'lineup': 4925, 'jenniferdawnpro': 4926, 'assistant': 4927, 'eriord': 4928, 'eriewr': 4929, 'steep': 4930, 'glamco': 4931, 'globalfc': 4932, 'wupgrade': 4933, 'unrealistic': 4934, 'childridiculou': 4935, 'beautifull': 4936, 'allan': 4937, 'kmmvlkm': 4938, 'highbuddyyy': 4939, 'rosetta': 4940, 'dan': 4941, 'wasappreciat': 4942, 'tiredofwait': 4943, 'aeroport': 4944, 'aegeanairline': 4945, 'availab': 4946, 'defibrillator': 4947, 'newarkliberty': 4948, 'flyingainteasy': 4949, 'preexist': 4950, 'shatter': 4951, 'ladan': 4952, 'latrice': 4953, 'inappropriately': 4954, 'abbreve': 4955, 'helpgot': 4956, 'uctraveladvisor': 4957, 'daysit': 4958, 'gateagain': 4959, 'tiredofthi': 4960, 'measly': 4961, 'ecertificate': 4962, 'addressusername': 4963, 'signon': 4964, 'interim': 4965, 'unitedbreaksguitar': 4966, 'wantmymoneyback': 4967, 'telaviv': 4968, 'impolite': 4969, 'unfamiliar': 4970, 'outcome': 4971, 'neurosurgery': 4972, 'icu': 4973, 'zccu': 4974, 'kcthank': 4975, 'mobility': 4976, 'considerable': 4977, 'accompany': 4978, 'getmeontop': 4979, 'mclarrensp': 4980, 'category': 4981, 'verizonwireles': 4982, 'pesky': 4983, 'rozana': 4984, 'choosekind': 4985, 'eager': 4986, 'vision': 4987, 'ccicanine': 4988, 'servicedog': 4989, 'wtfodd': 4990, 'gong': 4991, 'enforcement': 4992, 'blackmail': 4993, 'nullify': 4994, 'umpteen': 4995, 'simonroesner': 4996, 'concrete': 4997, 'honour': 4998, 'hollow': 4999, 'wellbee': 5000, 'outofdate': 5001, 'localize': 5002, 'copypaste': 5003, 'accountable': 5004, 'bbbnesdksia': 5005, 'insta': 5006, 'negligent': 5007, 'resent': 5008, 'dmcome': 5009, 'ridiculousnes': 5010, 'learncustomerservice': 5011, 'twitterliterate': 5012, 'travelbank': 5013, 'recoup': 5014, 'flightsand': 5015, 'choosechicago': 5016, 'yulord': 5017, 'montreal': 5018, 'helpdo': 5019, 'attain': 5020, 'unrival': 5021, 'onestop': 5022, 'yearround': 5023, 'thaiairway': 5024, 'thai': 5025, 'atlord': 5026, 'pennypincher': 5027, 'youcouldntmakethi': 5028, 'brokenwheel': 5029, 'delayedno': 5030, 'ordseriously': 5031, 'connolly': 5032, 'efficiently': 5033, 'saipan': 5034, 'guam': 5035, 'adventure': 5036, 'capeair': 5037, 'platter': 5038, 'abundance': 5039, 'getmartyhome': 5040, 'shower': 5041, 'finalize': 5042, 'ewrsti': 5043, 'jburg': 5044, 'unforeseeable': 5045, 'lindaswc': 5046, 'flightn': 5047, 'fend': 5048, 'malaysia': 5049, 'kuala': 5050, 'lumpur': 5051, 'asem': 5052, 'eserviceunitedcom': 5053, 'bgkwm': 5054, 'narayanan': 5055, 'melaniespr': 5056, 'bergstrom': 5057, 'vein': 5058, 'thrombosi': 5059, 'connectn': 5060, 'hotl': 5061, 'gonnabealongnight': 5062, 'darquenloveli': 5063, 'briefing': 5064, 'ray': 5065, 'tumitravel': 5066, 'xma': 5067, 'razor': 5068, 'inconveniently': 5069, 'dvt': 5070, 'sarcastically': 5071, 'lukemcintosh': 5072, 'nada': 5073, 'helpimstuck': 5074, 'mismanagement': 5075, 'sabe': 5076, 'decorum': 5077, 'revisit': 5078, 'twitteremailweb': 5079, 'questionare': 5080, 'onboad': 5081, 'volt': 5082, 'html': 5083, 'eff': 5084, 'jobslose': 5085, 'statusand': 5086, 'transition': 5087, 'dencle': 5088, 'ker': 5089, 'zambia': 5090, 'newarklet': 5091, 'ordlhr': 5092, 'cyberattack': 5093, 'pbj': 5094, 'statusmatchpaidoff': 5095, 'vancouver': 5096, 'investigatedmy': 5097, 'correcti': 5098, 'maryjo': 5099, 'pivotalcf': 5100, 'shaky': 5101, 'controlthe': 5102, 'comically': 5103, 'grkm': 5104, 'wouldhow': 5105, 'rim': 5106, 'repeatably': 5107, 'burgundy': 5108, 'loner': 5109, 'thehipmunk': 5110, 'siteit': 5111, 'correctnes': 5112, 'mllovelace': 5113, 'salisbury': 5114, 'renoairport': 5115, 'feat': 5116, 'whitterbug': 5117, 'laughedhard': 5118, 'funnycaptain': 5119, 'vacatinn': 5120, 'dorn': 5121, 'apollochplayer': 5122, 'delyd': 5123, 'lasden': 5124, 'gjt': 5125, 'goodenufmother': 5126, 'cozy': 5127, 'helpmeplease': 5128, 'anyonethere': 5129, 'vaileagle': 5130, 'businesstravel': 5131, 'inline': 5132, 'bagdisgutedindenver': 5133, 'reebok': 5134, 'rockinwellnes': 5135, 'dustyob': 5136, 'stclas': 5137, 'wnonwork': 5138, 'entertainmnt': 5139, 'mcdonnell': 5140, 'dougla': 5141, 'lifestop': 5142, 'mysteriou': 5143, 'rookie': 5144, 'demote': 5145, 'goldsspousaldiscriminationangry': 5146, 'bettween': 5147, 'droppeditoffyet': 5148, 'cease': 5149, 'amazefor': 5150, 'icloud': 5151, 'absurdly': 5152, 'albanyairport': 5153, 'dfpietra': 5154, 'tsk': 5155, 'betterfrom': 5156, 'rtb': 5157, 'wayway': 5158, 'jana': 5159, 'acosta': 5160, 'alwaysdelayedonunite': 5161, 'branson': 5162, 'continentalairline': 5163, 'notfair': 5164, 'poornoncommunication': 5165, 'unaccount': 5166, 'realistically': 5167, 'responsesme': 5168, 'unpleas': 5169, 'nonenglish': 5170, 'cluecould': 5171, 'rollerboard': 5172, 'art': 5173, 'iove': 5174, 'miscalculation': 5175, 'aspenbaggagefail': 5176, 'truutall': 5177, 'condo': 5178, 'noanswer': 5179, 'wmom': 5180, 'dedication': 5181, 'forum': 5182, 'winston': 5183, 'pedophile': 5184, 'bas': 5185, 'flyeia': 5186, 'imranr': 5187, 'drone': 5188, 'keambleam': 5189, 'mojave': 5190, 'pressurecooker': 5191, 'heattrap': 5192, 'jon': 5193, 'descend': 5194, 'farce': 5195, 'shamble': 5196, 'writer': 5197, 'ambut': 5198, 'missedwork': 5199, 'clientnothappy': 5200, 'justifiable': 5201, 'gcvwj': 5202, 'kailua': 5203, 'mandatory': 5204, 'greatly': 5205, 'melissafranci': 5206, 'tbd': 5207, 'usd': 5208, 'quotation': 5209, 'fwa': 5210, 'nowhereland': 5211, 'adapt': 5212, 'noooooooooooooooooooooope': 5213, 'yyj': 5214, 'airlinesyour': 5215, 'sfolaxsalclo': 5216, 'av': 5217, 'faundation': 5218, 'judeo': 5219, 'cristiannot': 5220, 'ideologia': 5221, 'workersinstead': 5222, 'knack': 5223, 'substandard': 5224, 'misconnect': 5225, 'iadsat': 5226, 'outdoor': 5227, 'wifiand': 5228, 'unwind': 5229, 'linesforever': 5230, 'sock': 5231, 'plunder': 5232, 'hardearn': 5233, 'retailbagholder': 5234, 'sfoyyj': 5235, 'jurassic': 5236, 'dinosaurplane': 5237, 'eticket': 5238, 'farelock': 5239, 'sfosea': 5240, 'laissez': 5241, 'faire': 5242, 'peopleon': 5243, 'crewtell': 5244, 'precioustime': 5245, 'fyvrfn': 5246, 'tickt': 5247, 'helpbeen': 5248, 'sukhdeep': 5249, 'youdo': 5250, 'sba': 5251, 'waitingonapilot': 5252, 'siouxfall': 5253, 'whyairtravelsuck': 5254, 'discomfort': 5255, 'frustratingly': 5256, 'mpagent': 5257, 'seanmfmadden': 5258, 'peterstraubmma': 5259, 'jmercadomma': 5260, 'tonysimsmma': 5261, 'megzezzo': 5262, 'scl': 5263, 'iha': 5264, 'scotthroth': 5265, 'ewrbrudel': 5266, 'sharp': 5267, 'makechange': 5268, 'communicationdetail': 5269, 'brussel': 5270, 'zrhairport': 5271, 'venezuela': 5272, 'servicehave': 5273, 'malpensa': 5274, 'mar': 5275, 'airportfra': 5276, 'jul': 5277, 'rachelle': 5278, 'laxewr': 5279, 'dismiss': 5280, 'worstservice': 5281, 'yearold': 5282, 'campu': 5283, 'terri': 5284, 'homeintentional': 5285, 'jersey': 5286, 'jxst': 5287, 'damper': 5288, 'iy': 5289, 'sti': 5290, 'orddca': 5291, 'newarkbrussel': 5292, 'agreement': 5293, 'hahahahaha': 5294, 'stamp': 5295, 'displace': 5296, 'bouncer': 5297, 'showexpert': 5298, 'fraction': 5299, 'straightend': 5300, 'victoria': 5301, 'sombron': 5302, 'michelle': 5303, 'pssngr': 5304, 'chkpreboardnotcomingback': 5305, 'fuckinlame': 5306, 'naiamia': 5307, 'befor': 5308, 'lastflightwithyouever': 5309, 'layout': 5310, 'kiosksbag': 5311, 'sleepbut': 5312, 'bausa': 5313, 'cmhiad': 5314, 'bagcould': 5315, 'ciscojimfrench': 5316, 'cobedien': 5317, 'reinterview': 5318, 'sole': 5319, 'blatantly': 5320, 'stable': 5321, 'superfast': 5322, 'cgjase': 5323, 'responsedisappoint': 5324, 'mktg': 5325, 'cxp': 5326, 'dcam': 5327, 'limbo': 5328, 'salvage': 5329, 'lifevest': 5330, 'rebecca': 5331, 'levi': 5332, 'aand': 5333, 'amstuck': 5334, 'hotelhow': 5335, 'delongerry': 5336, 'uggh': 5337, 'wmas': 5338, 'uplink': 5339, 'walkway': 5340, 'airlinesecurity': 5341, 'nogate': 5342, 'belabor': 5343, 'pointbut': 5344, 'maybemange': 5345, 'alittlebetter': 5346, 'howisthatpossible': 5347, 'flightleddelay': 5348, 'fking': 5349, 'woeful': 5350, 'sponsor': 5351, 'gottogetbetter': 5352, 'placedrank': 5353, 'bait': 5354, 'bookable': 5355, 'resourcesrating': 5356, 'reccewife': 5357, 'heh': 5358, 'courrier': 5359, 'avalible': 5360, 'hotellive': 5361, 'prolly': 5362, 'thailand': 5363, 'sfonew': 5364, 'badmaybe': 5365, 'disservice': 5366, 'melbourne': 5367, 'myyb': 5368, 'clarita': 5369, 'jaramillo': 5370, 'mejia': 5371, 'doorstep': 5372, 'unitedrebook': 5373, 'stressor': 5374, 'vague': 5375, 'strandusindenver': 5376, 'hourandtenminutedelay': 5377, 'multipledooropeningandclose': 5378, 'dangerofgettingsnowedin': 5379, 'dissapointment': 5380, 'madeit': 5381, 'vacate': 5382, 'findanothergate': 5383, 'acc': 5384, 'kansa': 5385, 'fedup': 5386, 'disastrou': 5387, 'unanswer': 5388, 'baftz': 5389, 'deliveredhotel': 5390, 'cooker': 5391, 'clothessuit': 5392, 'suitshirt': 5393, 'riot': 5394, 'fernheinig': 5395, 'sardine': 5396, 'belief': 5397, 'ewrfll': 5398, 'safer': 5399, 'jeanette': 5400, 'thoughtful': 5401, 'fax': 5402, 'faxlike': 5403, 'gnvfsd': 5404, 'ktm': 5405, 'mcoiad': 5406, 'oscarnight': 5407, 'maintenece': 5408, 'pale': 5409, 'comparison': 5410, 'wage': 5411, 'improper': 5412, 'gill': 5413, 'houstonbush': 5414, 'deceptive': 5415, 'neverflyunite': 5416, 'claudia': 5417, 'mdtmy': 5418, 'meseem': 5419, 'cdgla': 5420, 'flythefriendlysky': 5421, 'unitedworstever': 5422, 'trappedhouston': 5423, 'whichisworsedenordfw': 5424, 'steamboat': 5425, 'grumpykim': 5426, 'unbalance': 5427, 'er': 5428, 'curtesy': 5429, 'inpolite': 5430, 'nippon': 5431, 'subtlety': 5432, 'responseservice': 5433, 'awfulnes': 5434, 'lpdstock': 5435, 'pgh': 5436, 'attitudycustomer': 5437, 'jeffsmisek': 5438, 'robertfor': 5439, 'finvest': 5440, 'viable': 5441, 'eqm': 5442, 'wb': 5443, 'snobby': 5444, 'remark': 5445, 'poker': 5446, 'erieairport': 5447, 'coastcoast': 5448, 'nomorecheckedbag': 5449, 'denewr': 5450, 'givethoseladiesraise': 5451, 'comethi': 5452, 'extraordinaire': 5453, 'seau': 5454, 'fong': 5455, 'radioi': 5456, 'didinterest': 5457, 'tcmparty': 5458, 'cek': 5459, 'daysofoscar': 5460, 'bw': 5461, 'disspoint': 5462, 'fe': 5463, 'americanisbetter': 5464, 'volkswagen': 5465, 'whatacluster': 5466, 'fransico': 5467, 'evacuate': 5468, 'wyom': 5469, 'ndary': 5470, 'flydeltanexttime': 5471, 'govt': 5472, 'eri': 5473, 'agoyet': 5474, 'unitedairlinessux': 5475, 'an': 5476, 'synonymou': 5477, 'unfair': 5478, 'stingiest': 5479, 'ptfo': 5480, 'bastard': 5481, 'stingy': 5482, 'delayedagainevery': 5483, 'fete': 5484, 'unitedexcite': 5485, 'barrel': 5486, 'vouchermile': 5487, 'uniteddo': 5488, 'clehelp': 5489, 'miscount': 5490, 'rayja': 5491, 'mqxc': 5492, 'mpwnc': 5493, 'lsusoftball': 5494, 'lsuquinlanduhon': 5495, 'pitiad': 5496, 'minsit': 5497, 'funite': 5498, 'historically': 5499, 'lifeline': 5500, 'worldhungry': 5501, 'moderate': 5502, 'sector': 5503, 'whereby': 5504, 'phlsfo': 5505, 'geography': 5506, 'downmy': 5507, 'flyingwithu': 5508, 'lostacustomer': 5509, 'yxe': 5510, 'aerocivilcol': 5511, 'lmuschel': 5512, 'sep': 5513, 'fkxb': 5514, 'unitedthat': 5515, 'ml': 5516, 'ewrord': 5517, 'connex': 5518, 'reseat': 5519, 'bringbackrealstaff': 5520, 'earning': 5521, 'dishonore': 5522, 'emailscall': 5523, 'smoothie': 5524, 'rapidly': 5525, 'fantasy': 5526, 'hiccup': 5527, 'japan': 5528, 'swipe': 5529, 'improvetheproces': 5530, 'fyour': 5531, 'timeswitch': 5532, 'universally': 5533, 'todaywhat': 5534, 'retake': 5535, 'goosebayairport': 5536, 'goose': 5537, 'labrador': 5538, 'czamkoff': 5539, 'gree': 5540, 'characterize': 5541, 'tiffanyandco': 5542, 'jockey': 5543, 'twtr': 5544, 'honalulu': 5545, 'delayua': 5546, 'kauai': 5547, 'theairhelper': 5548, 'norway': 5549, 'dependable': 5550, 'skyteam': 5551, 'helpfulnes': 5552, 'lastella': 5553, 'buzzkill': 5554, 'bogotahouston': 5555, 'holdover': 5556, 'nightyour': 5557, 'geiger': 5558, 'burst': 5559, 'crewe': 5560, 'runner': 5561, 'miscnx': 5562, 'ng': 5563, 'author': 5564, 'fiction': 5565, 'realise': 5566, 'stuckon': 5567, 'nightdeplane': 5568, 'employeefaceles': 5569, 'phantom': 5570, 'apear': 5571, 'winwin': 5572, 'mbr': 5573, 'russell': 5574, 'daiber': 5575, 'induce': 5576, 'involuntarily': 5577, 'fguideline': 5578, 'newest': 5579, 'badbadbad': 5580, 'iep': 5581, 'nicole': 5582, 'quito': 5583, 'professionalnice': 5584, 'makestoomuchsense': 5585, 'unitedk': 5586, 'arise': 5587, 'midtravel': 5588, 'washingtondc': 5589, 'dkyde': 5590, 'helpunitedsuck': 5591, 'auciello': 5592, 'transpire': 5593, 'unitedhatesusall': 5594, 'hdndl': 5595, 'englishspanish': 5596, 'trashy': 5597, 'iahwowjust': 5598, 'outrage': 5599, 'ot': 5600, 'flightstart': 5601, 'noenertainmentonhourflight': 5602, 'wamo': 5603, 'bil': 5604, 'fifty': 5605, 'ea': 5606, 'engineer': 5607, 'frame': 5608, 'unitedagainstunite': 5609, 'delayconsequence': 5610, 'onboardalert': 5611, 'socketyou': 5612, 'vouchersno': 5613, 'beta': 5614, 'bish': 5615, 'indm': 5616, 'suntoshi': 5617, 'ticketh': 5618, 'trvlno': 5619, 'wifimiss': 5620, 'fltnext': 5621, 'onehmiss': 5622, 'voucherhotel': 5623, 'chkoutfltno': 5624, 'wifihotel': 5625, 'european': 5626, 'fabrice': 5627, 'ggqzqd': 5628, 'eg': 5629, 'muc': 5630, 'newamericanstink': 5631, 'aircrft': 5632, 'whereabout': 5633, 'greeeat': 5634, 'maxabrahm': 5635, 'scooby': 5636, 'manilla': 5637, 'unconscionable': 5638, 'hepl': 5639, 'thisiscoach': 5640, 'robotweet': 5641, 'disrespectfully': 5642, 'actively': 5643, 'fwould': 5644, 'publish': 5645, 'avoidable': 5646, 'goldenticket': 5647, 'againto': 5648, 'edge': 5649, 'routinely': 5650, 'scary': 5651, 'hahnot': 5652, 'weasel': 5653, 'nit': 5654, 'tryn': 5655, 'freakin': 5656, 'abcwtvd': 5657, 'continentalunite': 5658, 'flsfoewr': 5659, 'getmeoffrhisfuckinplane': 5660, 'rdui': 5661, 'outward': 5662, 'laxsyd': 5663, 'connectfor': 5664, 'nolo': 5665, 'virtually': 5666, 'aggiemensgolf': 5667, 'thman': 5668, 'costumerservice': 5669, 'jk': 5670, 'closet': 5671, 'retard': 5672, 'snit': 5673, 'zrh': 5674, 'ewrpdx': 5675, 'threehourslate': 5676, 'prescreen': 5677, 'makessense': 5678, 'immensely': 5679, 'airlinegave': 5680, 'sandra': 5681, 'blind': 5682, 'handedly': 5683, 'unitedsucksdick': 5684, 'unplan': 5685, 'hoursat': 5686, 'teeth': 5687, 'failurethen': 5688, 'peer': 5689, 'liesstill': 5690, 'copay': 5691, 'restrm': 5692, 'myselfother': 5693, 'restate': 5694, 'additionally': 5695, 'yxu': 5696, 'prepay': 5697, 'peanutsnut': 5698, 'contradictory': 5699, 'anaphylaxiswill': 5700, 'houstonjust': 5701, 'needtobehonest': 5702, 'unitedunimpress': 5703, 'hourslove': 5704, 'electrical': 5705, 'whyjeff': 5706, 'wbroken': 5707, 'mental': 5708, 'fred': 5709, 'flintstone': 5710, 'regrade': 5711, 'ehsanismpower': 5712, 'diligent': 5713, 'egregiou': 5714, 'sam': 5715, 'usuriou': 5716, 'stevelord': 5717, 'prison': 5718, 'arvl': 5719, 'americanone': 5720, 'mga': 5721, 'uncontrollably': 5722, 'kurt': 5723, 'mild': 5724, 'poison': 5725, 'lhriah': 5726, 'flightedstill': 5727, 'voucherwhatajoke': 5728, 'spamjunk': 5729, 'casenothe': 5730, 'sloppy': 5731, 'offender': 5732, 'conversational': 5733, 'toothpaste': 5734, 'rollaboard': 5735, 'yayy': 5736, 'awaynow': 5737, 'loudspeaker': 5738, 'yepuse': 5739, 'againget': 5740, 'hmmmseem': 5741, 'ebola': 5742, 'robbedexplain': 5743, 'gig': 5744, 'minwow': 5745, 'rival': 5746, 'stain': 5747, 'ordewr': 5748, 'invest': 5749, 'buyback': 5750, 'munich': 5751, 'nathankillam': 5752, 'cowardly': 5753, 'ticketeven': 5754, 'lostmybusines': 5755, 'appropriately': 5756, 'fakesincerity': 5757, 'happyflight': 5758, 'angriest': 5759, 'angstiest': 5760, 'tasha': 5761, 'dadoralive': 5762, 'nonservice': 5763, 'mpl': 5764, 'deployment': 5765, 'tropic': 5766, 'elect': 5767, 'appoint': 5768, 'scarf': 5769, 'surveyemail': 5770, 'recruiter': 5771, 'timezone': 5772, 'accuratetraveltime': 5773, 'rdtimethishashappen': 5774, 'xfinity': 5775, 'cableinternet': 5776, 'swing': 5777, 'fairway': 5778, 'overlook': 5779, 'pricediscrimination': 5780, 'crackerjack': 5781, 'bagswhich': 5782, 'hilo': 5783, 'laxsna': 5784, 'geneva': 5785, 'spaghetti': 5786, 'nonempty': 5787, 'nonupgrade': 5788, 'arguee': 5789, 'continentalair': 5790, 'bshave': 5791, 'image': 5792, 'pssgr': 5793, 'psngr': 5794, 'npbhd': 5795, 'pole': 5796, 'dtwase': 5797, 'router': 5798, 'fuselage': 5799, 'sfoau': 5800, 'isjx': 5801, 'holdgues': 5802, 'puj': 5803, 'newarklondon': 5804, 'panynj': 5805, 'froschtravel': 5806, 'baldordash': 5807, 'rebookedarrive': 5808, 'jimtrotternfl': 5809, 'diverge': 5810, 'burlington': 5811, 'vermont': 5812, 'dubjac': 5813, 'laxdub': 5814, 'bhxofficial': 5815, 'liberty': 5816, 'unhappyspend': 5817, 'bd': 5818, 'wproj': 5819, 'cond': 5820, 'issuecould': 5821, 'converse': 5822, 'fcan': 5823, 'wireless': 5824, 'piggy': 5825, 'routine': 5826, 'nyt': 5827, 'airserv': 5828, 'contractor': 5829, 'calamity': 5830, 'lostsuitcase': 5831, 'noreimbursement': 5832, 'comeonpeople': 5833, 'difficultieswhat': 5834, 'policiescost': 5835, 'exacerbate': 5836, 'longterm': 5837, 'issuenot': 5838, 'skibootbag': 5839, 'generally': 5840, 'inbaggage': 5841, 'unhelpfulnes': 5842, 'illogical': 5843, 'elp': 5844, 'elpaso': 5845, 'teamusa': 5846, 'addair': 5847, 'cpdone': 5848, 'earnedmybusines': 5849, 'cleanlines': 5850, 'delayedbecause': 5851, 'pek': 5852, 'paigeworthy': 5853, 'servicemost': 5854, 'employeeslack': 5855, 'enoughisenough': 5856, 'irreplaceable': 5857, 'milestone': 5858, 'repay': 5859, 'copa': 5860, 'bringyourown': 5861, 'kleankanteen': 5862, 'championship': 5863, 'servicessomethe': 5864, 'atgate': 5865, 'exasperate': 5866, 'undergo': 5867, 'scvpool': 5868, 'laxm': 5869, 'royal': 5870, 'commission': 5871, 'connectin': 5872, 'nyfw': 5873, 'wmile': 5874, 'youretheworst': 5875, 'mortify': 5876, 'lea': 5877, 'knownot': 5878, 'keepingit': 5879, 'weaktea': 5880, 'leighemery': 5881, 'coshare': 5882, 'ordealsigh': 5883, 'weblink': 5884, 'validity': 5885, 'underweight': 5886, 'fallflorida': 5887, 'everglade': 5888, 'faint': 5889, 'sunburn': 5890, 'awayhere': 5891, 'wheresthepilot': 5892, 'dildo': 5893, 'terriblecustomerservice': 5894, 'credibility': 5895, 'ravioli': 5896, 'chickenidiot': 5897, 'platinummember': 5898, 'marcu': 5899, 'unavailableto': 5900, 'unsmile': 5901, 'breezy': 5902, 'sydneyairport': 5903, 'dtv': 5904, 'spin': 5905, 'opaque': 5906, 'ted': 5907, 'lx': 5908, 'amy': 5909, 'lloyd': 5910, 'bosnia': 5911, 'cpu': 5912, 'proportion': 5913, 'goddamn': 5914, 'society': 5915, 'elbow': 5916, 'seatmate': 5917, 'alavera': 5918, 'youto': 5919, 'reallyyou': 5920, 'flightstill': 5921, 'soda': 5922, 'tuck': 5923, 'milesstatu': 5924, 'moneynotspentonunite': 5925, 'disunite': 5926, 'wpg': 5927, 'keepit': 5928, 'bach': 5929, 'ordmsy': 5930, 'incompetentrude': 5931, 'untd': 5932, 'hoursplease': 5933, 'cmhord': 5934, 'southbendinwhere': 5935, 'lindsay': 5936, 'iflyalot': 5937, 'iflyoakland': 5938, 'launch': 5939, 'honululu': 5940, 'montana': 5941, 'waiverskeep': 5942, 'refreshment': 5943, 'worsea': 5944, 'seatout': 5945, 'uhuhgroup': 5946, 'tomorrowwhy': 5947, 'preemptive': 5948, 'friendlyfriday': 5949, 'paw': 5950, 'blood': 5951, 'appt': 5952, 'litter': 5953, 'resell': 5954, 'dgoodspee': 5955, 'dimension': 5956, 'dmangenvisualclubconceptscom': 5957, 'flycould': 5958, 'disappointmentyet': 5959, 'againfly': 5960, 'ed': 5961, 'checkincorrect': 5962, 'delewr': 5963, 'flyingretro': 5964, 'gjqxj': 5965, 'acw': 5966, 'miaewr': 5967, 'ewriad': 5968, 'beingsuckontarmacsuck': 5969, 'visibly': 5970, 'mainline': 5971, 'sato': 5972, 'unnerve': 5973, 'checkouterror': 5974, 'dounotwantmybusines': 5975, 'title': 5976, 'jedediah': 5977, 'whatstheholdup': 5978, 'chitocle': 5979, 'teem': 5980, 'moron': 5981, 'thanksseat': 5982, 'flightsyearmy': 5983, 'rail': 5984, 'bobwesson': 5985, 'ethic': 5986, 'quadruple': 5987, 'transcontinental': 5988, 'pleasurerelief': 5989, 'antkneee': 5990, 'groundstill': 5991, 'depression': 5992, 'familiar': 5993, 'inaccuratemislead': 5994, 'hopethegearmakesitintact': 5995, 'hkg': 5996, 'bila': 5997, 'workin': 5998, 'narita': 5999, 'gently': 6000, 'whip': 6001, 'canadair': 6002, 'robthecameraman': 6003, 'airfarewatchdog': 6004, 'tripitpro': 6005, 'transparency': 6006, 'sarah': 6007, 'victim': 6008, 'boil': 6009, 'preventative': 6010, 'unresolve': 6011, 'narrower': 6012, 'bloat': 6013, 'yyc': 6014, 'lightbulb': 6015, 'handshake': 6016, 'problemsolver': 6017, 'yhzewr': 6018, 'utmost': 6019, 'tpallini': 6020, 'hurricane': 6021, 'checker': 6022, 'overkill': 6023, 'lrunscupcake': 6024, 'clarkhoward': 6025, 'kathryn': 6026, 'sotelo': 6027, 'aggravation': 6028, 'azzf': 6029, 'compton': 6030, 'insurance': 6031, 'fullfare': 6032, 'gsa': 6033, 'ithica': 6034, 'keepingtraditionsalive': 6035, 'thanksunite': 6036, 'tasty': 6037, 'pad': 6038, 'kathrynsotelo': 6039, 'amarillo': 6040, 'hn': 6041, 'surcharge': 6042, 'unmissable': 6043, 'bushug': 6044, 'format': 6045, 'busad': 6046, 'thinkbu': 6047, 'belfastairport': 6048, 'screensand': 6049, 'adamkarren': 6050, 'zj': 6051, 'premgold': 6052, 'guilty': 6053, 'newflight': 6054, 'vegetarian': 6055, 'linkemail': 6056, 'irene': 6057, 'paxex': 6058, 'cunewr': 6059, 'mysteriously': 6060, 'guessflight': 6061, 'smallerthinner': 6062, 'flightu': 6063, 'chock': 6064, 'unmet': 6065, 'abigailedge': 6066, 'whatgive': 6067, 'dullessuck': 6068, 'evansville': 6069, 'jun': 6070, 'slay': 6071, 'boardingpas': 6072, 'rad': 6073, 'hemispheresmag': 6074, 'thtimemonthsold': 6075, 'londonfashionweek': 6076, 'lfw': 6077, 'cement': 6078, 'needtocatchmynextflight': 6079, 'alreadyrebookedonce': 6080, 'sjoiad': 6081, 'tradition': 6082, 'flightdelay': 6083, 'nocompensation': 6084, 'despise': 6085, 'thee': 6086, 'dullestostatecollege': 6087, 'runningonthreehoursofsleep': 6088, 'delayedovernight': 6089, 'ambassador': 6090, 'newarktiredandwanttogohome': 6091, 'confrontational': 6092, 'wate': 6093, 'predawn': 6094, 'stickingtodelta': 6095, 'danroam': 6096, 'throug': 6097, 'oreo': 6098, 'asu': 6099, 'reclaim': 6100, 'aunt': 6101, 'onlyinamerica': 6102, 'transparent': 6103, 'rick': 6104, 'clifton': 6105, 'seahou': 6106, 'handbag': 6107, 'escort': 6108, 'und': 6109, 'lago': 6110, 'nigeria': 6111, 'ou': 6112, 'keepitclassy': 6113, 'robbogart': 6114, 'fib': 6115, 'vanish': 6116, 'idaho': 6117, 'hournever': 6118, 'anna': 6119, 'showsomerespect': 6120, 'wcomputer': 6121, 'nawww': 6122, 'fraif': 6123, 'youbag': 6124, 'frano': 6125, 'ordsfo': 6126, 'abcdef': 6127, 'tolerable': 6128, 'lastflightofthenight': 6129, 'breakup': 6130, 'dpted': 6131, 'whatstatu': 6132, 'spooky': 6133, 'spook': 6134, 'aweful': 6135, 'bridgewaitingforbagsunitedewr': 6136, 'sidewhy': 6137, 'heretiredcustomer': 6138, 'dmbshow': 6139, 'hiltonworldwide': 6140, 'caravannyc': 6141, 'maysvillenyc': 6142, 'alb': 6143, 'multicity': 6144, 'ump': 6145, 'lug': 6146, 'justgetmehome': 6147, 'sbn': 6148, 'lgjwb': 6149, 'voluntarily': 6150, 'gc': 6151, 'roanoke': 6152, 'sou': 6153, 'doument': 6154, 'ohand': 6155, 'crucial': 6156, 'youragentshavenoclue': 6157, 'worseoh': 6158, 'lonflight': 6159, 'pointsmileage': 6160, 'agotoday': 6161, 'illiterate': 6162, 'airlineguy': 6163, 'msn': 6164, 'rx': 6165, 'eyeglass': 6166, 'waitstill': 6167, 'robcnyc': 6168, 'substantial': 6169, 'demonstration': 6170, 'corny': 6171, 'daysofunitedfailure': 6172, 'thingafteranother': 6173, 'labyrinth': 6174, 'swindle': 6175, 'accomidate': 6176, 'qro': 6177, 'alwaysdelay': 6178, 'amt': 6179, 'impatience': 6180, 'partit': 6181, 'untruthful': 6182, 'overchargedunderserve': 6183, 'sonyasloanmd': 6184, 'comedian': 6185, 'stage': 6186, 'duecto': 6187, 'willl': 6188, 'aok': 6189, 'snowforce': 6190, 'hoo': 6191, 'bwood': 6192, 'nudgenudge': 6193, 'vocab': 6194, 'donna': 6195, 'interrogate': 6196, 'poorform': 6197, 'thatisall': 6198, 'boozefood': 6199, 'golfunite': 6200, 'possiable': 6201, 'schiphol': 6202, 'outin': 6203, 'func': 6204, 'flightflew': 6205, 'lgacleden': 6206, 'byod': 6207, 'worksnicely': 6208, 'subsequently': 6209, 'tenni': 6210, 'bossf': 6211, 'flexibilitycompassion': 6212, 'cantlogoutofunitedwifi': 6213, 'logout': 6214, 'incheck': 6215, 'netherland': 6216, 'systemsyouareonyourown': 6217, 'extravaganza': 6218, 'ec': 6219, 'deaffriendly': 6220, 'indidnt': 6221, 'hime': 6222, 'estellevw': 6223, 'autoapply': 6224, 'syastem': 6225, 'keepusguess': 6226, 'isthisyourfirsttry': 6227, 'km': 6228, 'ham': 6229, 'cabine': 6230, 'sao': 6231, 'fsqthg': 6232, 'therealaviation': 6233, 'itpretend': 6234, 'heartles': 6235, 'interrupt': 6236, 'definately': 6237, 'trafficfuel': 6238, 'joni': 6239, 'baggagefind': 6240, 'orthodoc': 6241, 'oncall': 6242, 'regain': 6243, 'karma': 6244, 'sweaty': 6245, 'sa': 6246, 'centerl': 6247, 'tokyonarita': 6248, 'sitter': 6249, 'earlyon': 6250, 'wellplay': 6251, 'jokesonu': 6252, 'uncvsduke': 6253, 'areyounew': 6254, 'nonumber': 6255, 'feeltheheat': 6256, 'ritz': 6257, 'kidnap': 6258, 'siteapp': 6259, 'sellout': 6260, 'obsolete': 6261, 'boarddeplane': 6262, 'customary': 6263, 'randomactsofcorporategree': 6264, 'ridiculousor': 6265, 'refundplease': 6266, 'milage': 6267, 'idnumber': 6268, 'hopetogetanswersoon': 6269, 'papersaid': 6270, 'airporthave': 6271, 'medallion': 6272, 'probablynot': 6273, 'thinkdo': 6274, 'situationagain': 6275, 'hotelstonight': 6276, 'startingbloc': 6277, 'monica': 6278, 'unitedfailsworsttripofmylife': 6279, 'unitedflyerhd': 6280, 'bfan': 6281, 'anotherdisappointment': 6282, 'ralph': 6283, 'nader': 6284, 'discourage': 6285, 'koalax': 6286, 'thier': 6287, 'inst': 6288, 'foodnot': 6289, 'threat': 6290, 'belligerent': 6291, 'aron': 6292, 'tellpurchase': 6293, 'whiskey': 6294, 'flightgotta': 6295, 'blac': 6296, 'lifesaver': 6297, 'oversorry': 6298, 'kmm': 6299, 'beought': 6300, 'unexpactable': 6301, 'ecom': 6302, 'erase': 6303, 'christinebpc': 6304, 'shin': 6305, 'exam': 6306, 'dcaewr': 6307, 'pac': 6308, 'missin': 6309, 'vusaustralia': 6310, 'aussie': 6311, 'cowgirl': 6312, 'cowboy': 6313, 'estelle': 6314, 'failagain': 6315, 'unitedvusa': 6316, 'distinguish': 6317, 'quanta': 6318, 'auckland': 6319, 'skiplag': 6320, 'startup': 6321, 'awesomebright': 6322, 'vibrant': 6323, 'habitrail': 6324, 'amypoehler': 6325, 'bafore': 6326, 'simplify': 6327, 'lhrt': 6328, 'yyzua': 6329, 'cthank': 6330, 'repurchase': 6331, 'turrible': 6332, 'unaccomidate': 6333, 'careyon': 6334, 'leah': 6335, 'kerry': 6336, 'ebokeer': 6337, 'themon': 6338, 'cdt': 6339, 'tickethotel': 6340, 'delayedover': 6341, 'airside': 6342, 'atlhou': 6343, 'fairbank': 6344, 'ewrmco': 6345, 'reupgrade': 6346, 'itsaronchriz': 6347, 'sortawe': 6348, 'aquadilla': 6349, 'parryaftab': 6350, 'withhold': 6351, 'pty': 6352, 'punish': 6353, 'cosmetic': 6354, 'homefamily': 6355, 'conveyor': 6356, 'istanbul': 6357, 'februaryi': 6358, 'lly': 6359, 'stacey': 6360, 'detailsno': 6361, 'potu': 6362, 'dvr': 6363, 'sub': 6364, 'plumber': 6365, 'string': 6366, 'william': 6367, 'observation': 6368, 'nothingand': 6369, 'thingwill': 6370, 'ypu': 6371, 'qlys': 6372, 'noodle': 6373, 'pea': 6374, 'zuke': 6375, 'nonvegan': 6376, 'yogurt': 6377, 'stillmakingmepoorthough': 6378, 'hughe': 6379, 'automobile': 6380, 'longstand': 6381, 'shoulda': 6382, 'flightledthor': 6383, 'idonotcare': 6384, 'churchmouse': 6385, 'sail': 6386, 'mliden': 6387, 'denyeg': 6388, 'checkbaggage': 6389, 'fay': 6390, 'rdureimburse': 6391, 'heathrownewark': 6392, 'retract': 6393, 'waysilverairwsy': 6394, 'margo': 6395, 'intercontinental': 6396, 'reduction': 6397, 'exhorbitantfee': 6398, 'outpost': 6399, 'shulemstern': 6400, 'ftlauderdalesun': 6401, 'orlandosentinel': 6402, 'pleasent': 6403, 'dj': 6404, 'inner': 6405, 'lowstandard': 6406, 'annnnddddd': 6407, 'delaykil': 6408, 'sunkist': 6409, 'webbernatural': 6410, 'bypass': 6411, 'locally': 6412, 'surlines': 6413, 'speechles': 6414, 'monopoly': 6415, 'doesntfeellikestatusyet': 6416, 'inflexible': 6417, 'levd': 6418, 'iatanbul': 6419, 'diminish': 6420, 'clearvision': 6421, 'tvu': 6422, 'deter': 6423, 'latter': 6424, 'ridic': 6425, 'paycheck': 6426, 'thingunite': 6427, 'crackersnabisco': 6428, 'pepperidge': 6429, 'farm': 6430, 'daysofhell': 6431, 'cbcallinaday': 6432, 'cbcnew': 6433, 'exitrow': 6434, 'rj': 6435, 'answerthi': 6436, 'dreadful': 6437, 'whack': 6438, 'harri': 6439, 'circulation': 6440, 'mkwlkr': 6441, 'ansleyhutson': 6442, 'emilydonneiiy': 6443, 'lostyou': 6444, 'console': 6445, 'sfodfw': 6446, 'sfoord': 6447, 'disappointedunite': 6448, 'waspaid': 6449, 'winnipeg': 6450, 'tightconnection': 6451, 'coltsmissingbag': 6452, 'lightyear': 6453, 'frighten': 6454, 'namesdalla': 6455, 'borderline': 6456, 'letsworktogether': 6457, 'dope': 6458, 'staffcust': 6459, 'lgaord': 6460, 'unempathetic': 6461, 'fulldont': 6462, 'pri': 6463, 'opsec': 6464, 'leisure': 6465, 'master': 6466, 'companyi': 6467, 'aircargo': 6468, 'bcn': 6469, 'whatsoever': 6470, 'correspondence': 6471, 'anticonsumer': 6472, 'welfare': 6473, 'turquoise': 6474, 'upc': 6475, 'swimsuit': 6476, 'competitively': 6477, 'unitedwithivy': 6478, 'falseadvertise': 6479, 'addr': 6480, 'signin': 6481, 'dxb': 6482, 'sime': 6483, 'noapology': 6484, 'restructure': 6485, 'brotha': 6486, 'multiplier': 6487, 'teleportation': 6488, 'directv': 6489, 'rtbiah': 6490, 'cigarette': 6491, 'bagyet': 6492, 'collide': 6493, 'wontflyagainwithyou': 6494, 'isolate': 6495, 'mtn': 6496, 'ritacomo': 6497, 'understandably': 6498, 'edgy': 6499, 'chipper': 6500, 'ser': 6501, 'stdby': 6502, 'sivi': 6503, 'stewart': 6504, 'amid': 6505, 'ewrlax': 6506, 'seatarmrest': 6507, 'fullfa': 6508, 'dadboner': 6509, 'boldflavor': 6510, 'flavor': 6511, 'ingredient': 6512, 'csfail': 6513, 'milageplu': 6514, 'shady': 6515, 'phonehung': 6516, 'onall': 6517, 'undetermine': 6518, 'flyquiet': 6519, 'ordnoise': 6520, 'cyndi': 6521, 'troy': 6522, 'superben': 6523, 'glance': 6524, 'starboard': 6525, 'kosher': 6526, 'laxwhen': 6527, 'planesplane': 6528, 'screenslousy': 6529, 'upfare': 6530, 'rantyou': 6531, 'luggagethen': 6532, 'considerably': 6533, 'wise': 6534, 'cheeze': 6535, 'jilt': 6536, 'moneyelsewhere': 6537, 'tryagain': 6538, 'ezee': 6539, 'wilson': 6540, 'pvdiad': 6541, 'overcarry': 6542, 'igiveup': 6543, 'signup': 6544, 'preselect': 6545, 'sfoyyz': 6546, 'forelock': 6547, 'vary': 6548, 'elingeniero': 6549, 'ito': 6550, 'teamagain': 6551, 'elizabeth': 6552, 'whyany': 6553, 'doublestandard': 6554, 'disastertravelingwithsmallkid': 6555, 'sendingpost': 6556, 'jetbridge': 6557, 'drivermiss': 6558, 'passeneger': 6559, 'allright': 6560, 'frankpostsecretcom': 6561, 'rmoug': 6562, 'rechedule': 6563, 'carerespond': 6564, 'closing': 6565, 'disloyal': 6566, 'huffpostbiz': 6567, 'taller': 6568, 'firm': 6569, 'batman': 6570, 'insanely': 6571, 'upsellladen': 6572, 'mrandyep': 6573, 'albeit': 6574, 'tissue': 6575, 'programhorrible': 6576, 'customersyou': 6577, 'wantvirginamerica': 6578, 'safealone': 6579, 'buytransfer': 6580, 'milesthe': 6581, 'nonetheles': 6582, 'vouchercompensation': 6583, 'audition': 6584, 'quiche': 6585, 'tandoori': 6586, 'accompaniment': 6587, 'txting': 6588, 'junkspam': 6589, 'pittsburg': 6590, 'untrain': 6591, 'bitty': 6592, 'flightmarch': 6593, 'brokeni': 6594, 'userperceive': 6595, 'flightncy': 6596, 'phlord': 6597, 'blegh': 6598, 'edition': 6599, 'headphonesbut': 6600, 'njvbp': 6601, 'brandi': 6602, 'zabsonre': 6603, 'farmington': 6604, 'slope': 6605, 'rajuchinthala': 6606, 'feck': 6607, 'flyanaofficial': 6608, 'transpacific': 6609, 'selfinterest': 6610, 'casleah': 6611, 'jsumiyasu': 6612, 'gist': 6613, 'aback': 6614, 'squarely': 6615, 'timenot': 6616, 'cockup': 6617, 'ijustwanttosleep': 6618, 'proficient': 6619, 'iahhnl': 6620, 'reactive': 6621, 'juice': 6622, 'getphilz': 6623, 'mot': 6624, 'clusterfuck': 6625, 'moar': 6626, 'mentality': 6627, 'foster': 6628, 'inspiration': 6629, 'employeerelation': 6630, 'crape': 6631, 'biscuit': 6632, 'sentimental': 6633, 'flightsairport': 6634, 'bwiewrmco': 6635, 'connetion': 6636, 'sr': 6637, 'servicecare': 6638, 'glassdoor': 6639, 'notsurprise': 6640, 'luvthem': 6641, 'leverage': 6642, 'meagan': 6643, 'fouty': 6644, 'brancato': 6645, 'wkid': 6646, 'parentsonboard': 6647, 'chromefirefox': 6648, 'midwaychicago': 6649, 'thapril': 6650, 'flypbi': 6651, 'logically': 6652, 'altonbrownlive': 6653, 'sohappy': 6654, 'flyfrontier': 6655, 'scramble': 6656, 'auction': 6657, 'postmaster': 6658, 'invitational': 6659, 'throwback': 6660, 'heavenlychc': 6661, 'cocktailor': 6662, 'flyaway': 6663, 'newsbusines': 6664, 'facepalm': 6665, 'onlinewa': 6666, 'fml': 6667, 'teyana': 6668, 'medusafriday': 6669, 'themenofbusines': 6670, 'playa': 6671, 'carmen': 6672, 'christine': 6673, 'mx': 6674, 'dignity': 6675, 'redeempoint': 6676, 'baitandswitch': 6677, 'callwhat': 6678, 'chibuf': 6679, 'barelyexpire': 6680, 'rapidreward': 6681, 'lasttweetaboutthi': 6682, 'groupa': 6683, 'portal': 6684, 'revert': 6685, 'flightsdelay': 6686, 'rolemodel': 6687, 'barzegar': 6688, 'euro': 6689, 'tent': 6690, 'chantilly': 6691, 'agovacationfail': 6692, 'frozenwater': 6693, 'gettingimpatient': 6694, 'theycouldatleastofferfreebooze': 6695, 'thrower': 6696, 'venetia': 6697, 'oyu': 6698, 'centric': 6699, 'checkinout': 6700, 'traditionally': 6701, 'sledge': 6702, 'hammer': 6703, 'scalpel': 6704, 'bible': 6705, 'vipliveinthevieyard': 6706, 'intuit': 6707, 'jhamilton': 6708, 'intuitlife': 6709, 'leanin': 6710, 'kta': 6711, 'vip': 6712, 'oscarworthy': 6713, 'happycamper': 6714, 'ellamae': 6715, 'penguin': 6716, 'kevinswan': 6717, 'alstdi': 6718, 'alifestory': 6719, 'smoooothest': 6720, 'southwestsmoothie': 6721, 'stepup': 6722, 'makeitright': 6723, 'wewillsee': 6724, 'sol': 6725, 'rap': 6726, 'partnerreward': 6727, 'openin': 6728, 'evolve': 6729, 'nanosmatter': 6730, 'etd': 6731, 'sauna': 6732, 'midlandflight': 6733, 'buisnes': 6734, 'schoolgirl': 6735, 'bagsflyfree': 6736, 'cheatcustomer': 6737, 'wrongiswrong': 6738, 'badbussines': 6739, 'bwiand': 6740, 'terribleno': 6741, 'arehi': 6742, 'poc': 6743, 'nowarmclothe': 6744, 'lostbag': 6745, 'cistudio': 6746, 'youdidit': 6747, 'higg': 6748, 'boson': 6749, 'thebachelor': 6750, 'wah': 6751, 'floridavacation': 6752, 'smoothflight': 6753, 'flutter': 6754, 'fullprice': 6755, 'bethonor': 6756, 'honorable': 6757, 'economic': 6758, 'cdn': 6759, 'customerappreciation': 6760, 'gaincustomer': 6761, 'keepem': 6762, 'lovedflyingwiththem': 6763, 'notanymore': 6764, 'lubbock': 6765, 'tmobile': 6766, 'shouldwearmask': 6767, 'fneqm': 6768, 'lou': 6769, 'ourguest': 6770, 'katie': 6771, 'canthurtask': 6772, 'sweepstake': 6773, 'nutsaboutsouthwest': 6774, 'brood': 6775, 'mdwmci': 6776, 'homeandreadyfornexttrip': 6777, 'satisfactorily': 6778, 'justsayin': 6779, 'genuinely': 6780, 'comparable': 6781, 'shittydeal': 6782, 'taylorlumsden': 6783, 'responsivenes': 6784, 'thevery': 6785, 'escap': 6786, 'maltese': 6787, 'mdwfll': 6788, 'fuyukaidesuyo': 6789, 'hugeeeee': 6790, 'evennotify': 6791, 'theflight': 6792, 'isdelay': 6793, 'emailtextphone': 6794, 'callif': 6795, 'wererun': 6796, 'chemistry': 6797, 'melissa': 6798, 'album': 6799, 'fistfight': 6800, 'briughy': 6801, 'comclassic': 6802, 'aif': 6803, 'agcommunity': 6804, 'aprilmay': 6805, 'plant': 6806, 'productivity': 6807, 'healthbenefitsofplant': 6808, 'garden': 6809, 'darrel': 6810, 'mkt': 6811, 'whathappend': 6812, 'detective': 6813, 'sadie': 6814, 'booo': 6815, 'givethemraise': 6816, 'crabby': 6817, 'grrrrrr': 6818, 'nycfeltthelove': 6819, 'netneutrality': 6820, 'northern': 6821, 'paradise': 6822, 'gin': 6823, 'tonic': 6824, 'toyingwithouremotion': 6825, 'kristicapel': 6826, 'toughtomakeplan': 6827, 'gettingthirsty': 6828, 'businesstrip': 6829, 'hdsportsguy': 6830, 'announcer': 6831, 'broad': 6832, 'flightedsent': 6833, 'notsatisfy': 6834, 'georgia': 6835, 'don': 6836, 'ri': 6837, 'lotbut': 6838, 'allgood': 6839, 'onlineapp': 6840, 'rncahill': 6841, 'ideserveareward': 6842, 'hilton': 6843, 'marriage': 6844, 'thanksare': 6845, 'lukewyckoff': 6846, 'matthewebel': 6847, 'coachg': 6848, 'helloare': 6849, 'ftlauderdale': 6850, 'ftmyer': 6851, 'clinicpolly': 6852, 'sellmypointssoon': 6853, 'minno': 6854, 'body': 6855, 'down': 6856, 'meat': 6857, 'punishedforfly': 6858, 'flamethrower': 6859, 'furryfiesta': 6860, 'tok': 6861, 'airtran': 6862, 'qvnmb': 6863, 'emailcall': 6864, 'nakedmeeting': 6865, 'pnut': 6866, 'dust': 6867, 'nelsjeff': 6868, 'ing': 6869, 'lin': 6870, 'mdwsan': 6871, 'lasalle': 6872, 'kkwhb': 6873, 'directional': 6874, 'dislexia': 6875, 'gi': 6876, 'flightplease': 6877, 'ewk': 6878, 'pseudovoucher': 6879, 'daysinn': 6880, 'lease': 6881, 'empathetic': 6882, 'monika': 6883, 'mwa': 6884, 'ambivalence': 6885, 'patricia': 6886, 'jparkermastin': 6887, 'nbd': 6888, 'mucha': 6889, 'grassy': 6890, 'dissapont': 6891, 'sansfo': 6892, 'rita': 6893, 'specialolympic': 6894, 'olympic': 6895, 'akron': 6896, 'wretch': 6897, 'mdwmem': 6898, 'suspend': 6899, 'allegiantair': 6900, 'ar': 6901, 'companionpas': 6902, 'dendal': 6903, 'ichangedyourdiaper': 6904, 'megelizabeth': 6905, 'eom': 6906, 'persevere': 6907, 'tru': 6908, 'thatthi': 6909, 'mitchellairport': 6910, 'mighty': 6911, 'countrysh': 6912, 'marchand': 6913, 'weatherles': 6914, 'anderson': 6915, 'sweep': 6916, 'preclude': 6917, 'pleasemy': 6918, 'southwestluv': 6919, 'wthem': 6920, 'pleasehow': 6921, 'functionally': 6922, 'combat': 6923, 'dontmakemebeg': 6924, 'brighter': 6925, 'hollymai': 6926, 'obtain': 6927, 'minenow': 6928, 'investment': 6929, 'fransisco': 6930, 'saleim': 6931, 'fasten': 6932, 'businessso': 6933, 'tiday': 6934, 'bur': 6935, 'gettingbetter': 6936, 'sfosna': 6937, 'infinity': 6938, 'anger': 6939, 'slownes': 6940, 'ack': 6941, 'wentook': 6942, 'shouldhaveflownjetblue': 6943, 'mario': 6944, 'gameboy': 6945, 'crappiest': 6946, 'enemy': 6947, 'strandednyc': 6948, 'grader': 6949, 'ohk': 6950, 'inexpensive': 6951, 'notmadeofmoney': 6952, 'curse': 6953, 'deed': 6954, 'hotlanta': 6955, 'galaxy': 6956, 'scroll': 6957, 'letitgo': 6958, 'peanutsonaplatter': 6959, 'planefirstclas': 6960, 'phxdal': 6961, 'danihampton': 6962, 'dani': 6963, 'flightingdelay': 6964, 'firstboth': 6965, 'stowaway': 6966, 'defective': 6967, 'sweepstakesit': 6968, 'chalk': 6969, 'coldly': 6970, 'neveryamind': 6971, 'bust': 6972, 'zipper': 6973, 'uninform': 6974, 'unapologetic': 6975, 'dynamite': 6976, 'quietly': 6977, 'irate': 6978, 'promofly': 6979, 'rnd': 6980, 'gov': 6981, 'governor': 6982, 'legalize': 6983, 'lgbtcan': 6984, 'lend': 6985, 'expeditiou': 6986, 'onechildfourbag': 6987, 'audience': 6988, 'rschedule': 6989, 'tyspent': 6990, 'useopen': 6991, 'complimentarybeveragesneed': 6992, 'earlybirdmeansnothe': 6993, 'yday': 6994, 'drench': 6995, 'bwilax': 6996, 'consumermarkete': 6997, 'cxed': 6998, 'nev': 6999, 'sisterbrother': 7000, 'safetyservice': 7001, 'alison': 7002, 'bobbi': 7003, 'flightledtry': 7004, 'unprecedent': 7005, 'dallasnext': 7006, 'getmeouttahere': 7007, 'southwestsuck': 7008, 'slaycancerwithdragon': 7009, 'noluv': 7010, 'monfr': 7011, 'ebook': 7012, 'happend': 7013, 'flightlationyou': 7014, 'fixedcertain': 7015, 'mash': 7016, 'themestimate': 7017, 'sd': 7018, 'delacy': 7019, 'compassionate': 7020, 'muh': 7021, 'dilemma': 7022, 'daynot': 7023, 'tomorrowwould': 7024, 'insulin': 7025, 'grandcanyon': 7026, 'baggagefail': 7027, 'bagsflyfreebutnotwithme': 7028, 'epitimeoffail': 7029, 'jamie': 7030, 'mckinnie': 7031, 'own': 7032, 'retroactively': 7033, 'flightsmilespoint': 7034, 'couponsi': 7035, 'optout': 7036, 'freejust': 7037, 'fregulation': 7038, 'furnish': 7039, 'xmost': 7040, 'stopclaim': 7041, 'outgetmeoutofhere': 7042, 'suddenintlcheckin': 7043, 'sink': 7044, 'homegirl': 7045, 'stuckintampa': 7046, 'chicagomidway': 7047, 'mgmt': 7048, 'cavalli': 7049, 'calve': 7050, 'mccarran': 7051, 'southwestfail': 7052, 'qmfd': 7053, 'insubstantial': 7054, 'blacklivesmatter': 7055, 'jindalcmc': 7056, 'davidson': 7057, 'auditorium': 7058, 'jsom': 7059, 'utdalla': 7060, 'vitaminwater': 7061, 'dosequi': 7062, 'fattire': 7063, 'fehqne': 7064, 'dcarsw': 7065, 'tomorro': 7066, 'fwwef': 7067, 'ant': 7068, 'totalfail': 7069, 'highhope': 7070, 'presidential': 7071, 'fszyo': 7072, 'lasbuf': 7073, 'omaden': 7074, 'sev': 7075, 'getyourlife': 7076, 'manchesterbwi': 7077, 'heal': 7078, 'idol': 7079, 'callmestanley': 7080, 'flysw': 7081, 'urge': 7082, 'forty': 7083, 'minflight': 7084, 'beenhour': 7085, 'celebration': 7086, 'windy': 7087, 'unman': 7088, 'tweak': 7089, 'microsecond': 7090, 'whenitsnowsitpour': 7091, 'tgcyalate': 7092, 'library': 7093, 'positionhow': 7094, 'anhour': 7095, 'werenot': 7096, 'chng': 7097, 'whch': 7098, 'advsry': 7099, 'readily': 7100, 'imjustsay': 7101, 'cable': 7102, 'portable': 7103, 'ryand': 7104, 'happybirthday': 7105, 'profitable': 7106, 'venture': 7107, 'isitthegarykellyway': 7108, 'cutoff': 7109, 'chapman': 7110, 'artluggage': 7111, 'bnardu': 7112, 'getmorehand': 7113, 'indian': 7114, 'aunty': 7115, 'aruna': 7116, 'airlineive': 7117, 'southwestoliver': 7118, 'worknogood': 7119, 'tremendously': 7120, 'cspkcat': 7121, 'velour': 7122, 'showenter': 7123, 'kdepetro': 7124, 'dalmdw': 7125, 'getmeoffthisbird': 7126, 'crutch': 7127, 'stlbo': 7128, 'ne': 7129, 'ticketsforjax': 7130, 'leftright': 7131, 'okcdirect': 7132, 'okcprofessional': 7133, 'minutesi': 7134, 'customerloyalty': 7135, 'launder': 7136, 'phoneridiculou': 7137, 'hiremorepeople': 7138, 'approximate': 7139, 'keepitmovin': 7140, 'grandkid': 7141, 'supvsr': 7142, 'timedout': 7143, 'implement': 7144, 'hyperlink': 7145, 'evedidnt': 7146, 'seatstray': 7147, 'purifier': 7148, 'wee': 7149, 'sourhwest': 7150, 'airlinehave': 7151, 'tifffyhuang': 7152, 'sac': 7153, 'betch': 7154, 'nationwide': 7155, 'bone': 7156, 'kmdw': 7157, 'jasonwhitely': 7158, 'emer': 7159, 'albuquer': 7160, 'maverick': 7161, 'adjust': 7162, 'airpt': 7163, 'luve': 7164, 'swagglikebean': 7165, 'nolaorlando': 7166, 'takemeback': 7167, 'stlatl': 7168, 'fwhei': 7169, 'wifiles': 7170, 'buzz': 7171, 'ahah': 7172, 'exclamation': 7173, 'annamarie': 7174, 'norri': 7175, 'changesdeval': 7176, 'nmaryland': 7177, 'morrw': 7178, 'scumbag': 7179, 'sacintlairport': 7180, 'bestinclas': 7181, 'takemehome': 7182, 'rndtrp': 7183, 'djqkc': 7184, 'djimpact': 7185, 'radish': 7186, 'noc': 7187, 'lamp': 7188, 'desperate': 7189, 'promotionscode': 7190, 'nashvilledenver': 7191, 'julgood': 7192, 'miscommunicate': 7193, 'aminaur': 7194, 'prospective': 7195, 'eternally': 7196, 'blatimore': 7197, 'hoom': 7198, 'wellen': 7199, 'treasure': 7200, 'liveatfirefly': 7201, 'defcon': 7202, 'stacy': 7203, 'wernicke': 7204, 'lacma': 7205, 'fairfax': 7206, 'thetroubadour': 7207, 'ripme': 7208, 'disneyland': 7209, 'heyo': 7210, 'headline': 7211, 'liveonfox': 7212, 'februaryfreezefox': 7213, 'pleasecan': 7214, 'okaaay': 7215, 'fouryrold': 7216, 'capn': 7217, 'manana': 7218, 'stloui': 7219, 'lefteven': 7220, 'bradley': 7221, 'wway': 7222, 'spvsr': 7223, 'padresst': 7224, 'teamspirit': 7225, 'samoore': 7226, 'southwestrock': 7227, 'neverchange': 7228, 'controllove': 7229, 'mytimeismoney': 7230, 'wmnlifehotmailcom': 7231, 'deficiency': 7232, 'luvagent': 7233, 'planesnot': 7234, 'guessweflyingdelta': 7235, 'ipodtouch': 7236, 'needtogethome': 7237, 'carryonbagssloweverybodydown': 7238, 'volleyball': 7239, 'graduation': 7240, 'absoulutely': 7241, 'manufacture': 7242, 'quirkines': 7243, 'mmm': 7244, 'captiveaudience': 7245, 'ashevilleair': 7246, 'functional': 7247, 'thth': 7248, 'midb': 7249, 'murraysawchuck': 7250, 'expireswhy': 7251, 'nowmightmismybrosgraduation': 7252, 'shhhh': 7253, 'deborah': 7254, 'raisegreat': 7255, 'wantcharge': 7256, 'creditwhat': 7257, 'daysnotahappytraveler': 7258, 'obey': 7259, 'luvit': 7260, 'imdetermine': 7261, 'howwhy': 7262, 'allowabl': 7263, 'horizon': 7264, 'geekstiel': 7265, 'vindictivetk': 7266, 'moveaboutthecountry': 7267, 'fjbfsc': 7268, 'frigidfriday': 7269, 'stlau': 7270, 'ahhhhh': 7271, 'jackpot': 7272, 'devaluation': 7273, 'excruciatingly': 7274, 'inbrowser': 7275, 'hover': 7276, 'intrusive': 7277, 'goingtovega': 7278, 'getconnect': 7279, 'missedflight': 7280, 'lbb': 7281, 'tripofalifetime': 7282, 'baitswitch': 7283, 'laguardiadal': 7284, 'sorta': 7285, 'sinuse': 7286, 'contend': 7287, 'landing': 7288, 'preregistration': 7289, 'eould': 7290, 'wanngo': 7291, 'whiny': 7292, 'mostbut': 7293, 'homewardbound': 7294, 'bringin': 7295, 'mor': 7296, 'parhetic': 7297, 'bagawim': 7298, 'veryloyalcustomer': 7299, 'useable': 7300, 'xxvm': 7301, 'to': 7302, 'bebetter': 7303, 'mrn': 7304, 'disupdate': 7305, 'budweiserduel': 7306, 'unacceptablei': 7307, 'desirable': 7308, 'stellarservice': 7309, 'byebyeusairline': 7310, 'knowexpect': 7311, 'medically': 7312, 'southwestairgive': 7313, 'avb': 7314, 'xw': 7315, 'brd': 7316, 'nowfrustrate': 7317, 'rocif': 7318, 'messcng': 7319, 'overbk': 7320, 'chiberia': 7321, 'overbookedgng': 7322, 'destfeel': 7323, 'bec': 7324, 'amiltx': 7325, 'customerit': 7326, 'wilco': 7327, 'sundown': 7328, 'subterfuge': 7329, 'hhp': 7330, 'panchojoe': 7331, 'mixtapethough': 7332, 'recordi': 7333, 'loveeee': 7334, 'capitalize': 7335, 'lowercase': 7336, 'oopsno': 7337, 'excitement': 7338, 'livvyport': 7339, 'bcuz': 7340, 'awaywhy': 7341, 'heroe': 7342, 'swapic': 7343, 'auscun': 7344, 'dresparkle': 7345, 'luvin': 7346, 'presceo': 7347, 'therofo': 7348, 'cbsbaltimore': 7349, 'bowl': 7350, 'pleaseeeeee': 7351, 'unobaseball': 7352, 'luvintheair': 7353, 'heartlanta': 7354, 'bumphigh': 7355, 'igotmonte': 7356, 'hopin': 7357, 'hardcase': 7358, 'golfbag': 7359, 'saianel': 7360, 'ifthesneverstop': 7361, 'charttop': 7362, 'permanent': 7363, 'ineligible': 7364, 'answersno': 7365, 'evrytime': 7366, 'nasbwi': 7367, 'bz': 7368, 'prettyplease': 7369, 'customerstime': 7370, 'airliner': 7371, 'cache': 7372, 'exclusive': 7373, 'seasonal': 7374, 'bosbna': 7375, 'cmhoak': 7376, 'daydream': 7377, 'bayespecially': 7378, 'ohioprobz': 7379, 'origami': 7380, 'oldpolicieswaybetter': 7381, 'yeehaw': 7382, 'brittanyobx': 7383, 'quirky': 7384, 'archaic': 7385, 'onelove': 7386, 'favoriteairline': 7387, 'luvforsw': 7388, 'unserve': 7389, 'poodle': 7390, 'constructive': 7391, 'criticism': 7392, 'feesbut': 7393, 'bringbacktheluvtordu': 7394, 'directflight': 7395, 'dispatchalert': 7396, 'wholly': 7397, 'consultant': 7398, 'accumulation': 7399, 'phish': 7400, 'cheapest': 7401, 'personallyabout': 7402, 'atlno': 7403, 'superb': 7404, 'timerest': 7405, 'jlittle': 7406, 'mbp': 7407, 'infanttoddler': 7408, 'whyso': 7409, 'fewdirectflight': 7410, 'ownerhelp': 7411, 'roadmap': 7412, 'milwaukee': 7413, 'supporter': 7414, 'jesu': 7415, 'portray': 7416, 'homosexual': 7417, 'juda': 7418, 'atlau': 7419, 'whoot': 7420, 'gap': 7421, 'england': 7422, 'lovetotravel': 7423, 'chach': 7424, 'luxclark': 7425, 'laura': 7426, 'shortlycb': 7427, 'weekmake': 7428, 'onlywaytofly': 7429, 'leathery': 7430, 'faannntastic': 7431, 'airwe': 7432, 'horribleattitude': 7433, 'chgd': 7434, 'acoustic': 7435, 'disneyprincesshalfmarathon': 7436, 'girlsweekend': 7437, 'rich': 7438, 'westagard': 7439, 'att': 7440, 'nancy': 7441, 'airportheld': 7442, 'customersfirst': 7443, 'qualification': 7444, 'flightspot': 7445, 'mobileboard': 7446, 'bridesmaid': 7447, 'tbuccherifrnce': 7448, 'beij': 7449, 'unpredictable': 7450, 'tik': 7451, 'herb': 7452, 'canplease': 7453, 'willie': 7454, 'nelson': 7455, 'impersonator': 7456, 'sang': 7457, 'peanutsandtoon': 7458, 'skymall': 7459, 'ripskymall': 7460, 'passngr': 7461, 'gt': 7462, 'flythrough': 7463, 'tonightgreat': 7464, 'timieyancey': 7465, 'sporadically': 7466, 'uncharacteristic': 7467, 'bookofnegroe': 7468, 'sest': 7469, 'pleeeease': 7470, 'chicagolaxphx': 7471, 'sweatshirt': 7472, 'craftbeer': 7473, 'caution': 7474, 'dependent': 7475, 'phoneinperson': 7476, 'whyyy': 7477, 'damion': 7478, 'damionflight': 7479, 'kaneshow': 7480, 'leeannhealey': 7481, 'demolish': 7482, 'imessage': 7483, 'reservationwe': 7484, 'witty': 7485, 'repartee': 7486, 'bso': 7487, 'attentive': 7488, 'criteria': 7489, 'faq': 7490, 'austinbergstrom': 7491, 'luvsw': 7492, 'curb': 7493, 'alistey': 7494, 'bingo': 7495, 'noah': 7496, 'loveluv': 7497, 'swvyilxklrogfsja': 7498, 'humphrey': 7499, 'yearslate': 7500, 'maybeijustlost': 7501, 'whyyounoloveme': 7502, 'taylormdown': 7503, 'fkqw': 7504, 'worstthingever': 7505, 'ubergizmo': 7506, 'courtney': 7507, 'lgabwi': 7508, 'anni': 7509, 'jamesasworth': 7510, 'brent': 7511, 'additonal': 7512, 'cantblametheweather': 7513, 'mhtforlife': 7514, 'shortlysouthwestair': 7515, 'brendanpshannon': 7516, 'brendan': 7517, 'shortlyr': 7518, 'kindly': 7519, 'thingsishouldknow': 7520, 'ifeeldumb': 7521, 'roadtrip': 7522, 'sureill': 7523, 'southwestairswadiversity': 7524, 'pastmypatienceexpirationdate': 7525, 'inclusion': 7526, 'kirkwoodtiger': 7527, 'ld': 7528, 'saysorrychri': 7529, 'swfollow': 7530, 'customerservicewin': 7531, 'itravelalot': 7532, 'government': 7533, 'companionpass': 7534, 'reside': 7535, 'fuckinf': 7536, 'sht': 7537, 'deltanew': 7538, 'screakjmf': 7539, 'emerge': 7540, 'leader': 7541, 'pv': 7542, 'lovesouthwest': 7543, 'mybday': 7544, 'sagerooski': 7545, 'undignify': 7546, 'freedrinkcoupon': 7547, 'mltple': 7548, 'pmcan': 7549, 'jaxbna': 7550, 'notokay': 7551, 'lastly': 7552, 'balt': 7553, 'caroline': 7554, 'superhero': 7555, 'bnasnow': 7556, 'contempt': 7557, 'purse': 7558, 'wendell': 7559, 'holton': 7560, 'secondly': 7561, 'packingayak': 7562, 'brianregancomic': 7563, 'cockroach': 7564, 'crawl': 7565, 'fsve': 7566, 'deltapoint': 7567, 'policyfee': 7568, 'devotedyyour': 7569, 'nl': 7570, 'nhl': 7571, 'arena': 7572, 'smusportmgt': 7573, 'sportsbiz': 7574, 'closetoverhead': 7575, 'cakairport': 7576, 'octavia': 7577, 'downnnnn': 7578, 'courtsnod': 7579, 'hillaconlin': 7580, 'solar': 7581, 'charger': 7582, 'changer': 7583, 'usb': 7584, 'fla': 7585, 'tinaisback': 7586, 'neveind': 7587, 'modelodenegocio': 7588, 'innovacion': 7589, 'businessmodel': 7590, 'flightcheck': 7591, 'oakmsy': 7592, 'johnwayneair': 7593, 'divadapouch': 7594, 'thepoopqueen': 7595, 'wonderfully': 7596, 'yesnot': 7597, 'reload': 7598, 'freecomedyshow': 7599, 'newlifetimecustomer': 7600, 'engadget': 7601, 'theverge': 7602, 'iusedtoloveu': 7603, 'emerg': 7604, 'erw': 7605, 'snacksthank': 7606, 'dishearten': 7607, 'familyand': 7608, 'smaller': 7609, 'shotwest': 7610, 'fvfyw': 7611, 'swrr': 7612, 'serviceopen': 7613, 'shortshort': 7614, 'assistanceyou': 7615, 'reachable': 7616, 'thrueverythe': 7617, 'uneventful': 7618, 'outline': 7619, 'travelportland': 7620, 'hood': 7621, 'nashvilleshould': 7622, 'attire': 7623, 'monthwill': 7624, 'majority': 7625, 'tomoro': 7626, 'feelingtheluv': 7627, 'profitbeforepeople': 7628, 'wig': 7629, 'michele': 7630, 'goodhumore': 7631, 'noairport': 7632, 'poisonpill': 7633, 'snowbama': 7634, 'dealsmay': 7635, 'undefine': 7636, 'workingfamily': 7637, 'cgroup': 7638, 'comeon': 7639, 'mattebos': 7640, 'iiiii': 7641, 'slowfi': 7642, 'timeand': 7643, 'costarica': 7644, 'penny': 7645, 'vacatime': 7646, 'denbna': 7647, 'fattuesday': 7648, 'awwweesssooomee': 7649, 'prchase': 7650, 'retailer': 7651, 'keepmy': 7652, 'mardi': 7653, 'gra': 7654, 'deicer': 7655, 'bushleague': 7656, 'weakservice': 7657, 'nochill': 7658, 'mcodca': 7659, 'msydca': 7660, 'swamistake': 7661, 'electric': 7662, 'fpmy': 7663, 'jennifercascinogmailcom': 7664, 'becuz': 7665, 'swfan': 7666, 'nftyconvention': 7667, 'tulsa': 7668, 'southwestluvsweep': 7669, 'waitingcan': 7670, 'tomvh': 7671, 'hahayeah': 7672, 'elevator': 7673, 'southworst': 7674, 'desparately': 7675, 'annebevi': 7676, 'paulbev': 7677, 'mikeabramson': 7678, 'wreso': 7679, 'vegaschicago': 7680, 'cbssoxfan': 7681, 'offcall': 7682, 'phonedy': 7683, 'alistprefer': 7684, 'screencap': 7685, 'paytontaylor': 7686, 'payton': 7687, 'swair': 7688, 'willmake': 7689, 'bham': 7690, 'conffgkxv': 7691, 'bernhardtjh': 7692, 'bool': 7693, 'niggaz': 7694, 'loyalrrmember': 7695, 'lovesouthwestair': 7696, 'notpghtimothy': 7697, 'gruber': 7698, 'dontchangeathe': 7699, 'snowfall': 7700, 'fhkte': 7701, 'measle': 7702, 'outbreak': 7703, 'frzz': 7704, 'challemann': 7705, 'jvstatu': 7706, 'streamline': 7707, 'commute': 7708, 'condescension': 7709, 'serenitynow': 7710, 'octaviannightmare': 7711, 'eqp': 7712, 'fusturate': 7713, 'himy': 7714, 'tuldal': 7715, 'southwestairsouthwest': 7716, 'disconnectednew': 7717, 'daycare': 7718, 'harass': 7719, 'mistakefuriou': 7720, 'temporary': 7721, 'ballsturn': 7722, 'evermoreroom': 7723, 'marty': 7724, 'nobaggagefee': 7725, 'pgfryz': 7726, 'tie': 7727, 'proposal': 7728, 'gala': 7729, 'boundles': 7730, 'sameday': 7731, 'republic': 7732, 'tan': 7733, 'canister': 7734, 'powder': 7735, 'divider': 7736, 'optin': 7737, 'sxsw': 7738, 'pointsme': 7739, 'overchg': 7740, 'bg': 7741, 'herd': 7742, 'cattleslaughter': 7743, 'rainy': 7744, 'poop': 7745, 'credential': 7746, 'baejet': 7747, 'amirite': 7748, 'terrybrokebad': 7749, 'askamex': 7750, 'airspace': 7751, 'destin': 7752, 'walton': 7753, 'catfoodbeerglue': 7754, 'yer': 7755, 'nycpdx': 7756, 'nycpghwish': 7757, 'lbc': 7758, 'napkin': 7759, 'seenoevil': 7760, 'ruthslobodin': 7761, 'justdoit': 7762, 'youknowyouwantto': 7763, 'versa': 7764, 'firstlove': 7765, 'leatherseat': 7766, 'hipuni': 7767, 'guyana': 7768, 'eatgregeat': 7769, 'wowthx': 7770, 'greg': 7771, 'teamnkh': 7772, 'annnndddd': 7773, 'nokidhungry': 7774, 'foodnetwork': 7775, 'tummy': 7776, 'jetbluehatesbtv': 7777, 'trublue': 7778, 'answeringdont': 7779, 'veteran': 7780, 'mcokeep': 7781, 'gopuregrenada': 7782, 'discovergrenada': 7783, 'caribbejan': 7784, 'islandexpert': 7785, 'jannasaurusrex': 7786, 'janna': 7787, 'weappreciateyou': 7788, 'jetbluefame': 7789, 'sosmart': 7790, 'frequentflyerappreciate': 7791, 'alsoyayforsnack': 7792, 'prbound': 7793, 'weekday': 7794, 'atct': 7795, 'flightline': 7796, 'marinadomine': 7797, 'ericbradleypt': 7798, 'briansumer': 7799, 'fifth': 7800, 'persistence': 7801, 'soooooo': 7802, 'eventhoughitsdegreesathome': 7803, 'pid': 7804, 'thewayoftheidhman': 7805, 'blush': 7806, 'container': 7807, 'tote': 7808, 'hitch': 7809, 'hike': 7810, 'passengersarepeople': 7811, 'civilize': 7812, 'datingrev': 7813, 'aiecraft': 7814, 'fuckin': 7815, 'lbairport': 7816, 'longbeachcity': 7817, 'facility': 7818, 'flu': 7819, 'gonenow': 7820, 'charlestonvery': 7821, 'pricy': 7822, 'zombie': 7823, 'welp': 7824, 'chging': 7825, 'isit': 7826, 'froward': 7827, 'workednot': 7828, 'backhand': 7829, 'index': 7830, 'sway': 7831, 'contributiontopool': 7832, 'arc': 7833, 'extraction': 7834, 'abduct': 7835, 'lessen': 7836, 'herewhen': 7837, 'bucketobolt': 7838, 'columbian': 7839, 'weepysweetmonty': 7840, 'compartment': 7841, 'mrjustyn': 7842, 'study': 7843, 'lingo': 7844, 'depress': 7845, 'lololololol': 7846, 'overreact': 7847, 'neighbore': 7848, 'omgee': 7849, 'onfleek': 7850, 'knockedout': 7851, 'foh': 7852, 'noooooooooooooooooo': 7853, 'contentmarkete': 7854, 'mag': 7855, 'kangaroo': 7856, 'deem': 7857, 'blade': 7858, 'freberg': 7859, 'lmfaooooo': 7860, 'planewide': 7861, 'yrold': 7862, 'greatgranny': 7863, 'yassss': 7864, 'da': 7865, 'fuccc': 7866, 'preciation': 7867, 'whyjetblue': 7868, 'fedora': 7869, 'lolol': 7870, 'smyc': 7871, 'tongueincheek': 7872, 'etiquette': 7873, 'stahhppp': 7874, 'thisjetblue': 7875, 'welllllll': 7876, 'peak': 7877, 'caucasity': 7878, 'lmaoooo': 7879, 'lmfaooo': 7880, 'assuage': 7881, 'indignation': 7882, 'wen': 7883, 'okayd': 7884, 'agojetblue': 7885, 'cultural': 7886, 'appropriation': 7887, 'ballin': 7888, 'bostongarden': 7889, 'manbut': 7890, 'thisor': 7891, 'ticketit': 7892, 'wit': 7893, 'brink': 7894, 'laxnyc': 7895, 'laxnycarea': 7896, 'hellobrittney': 7897, 'stahp': 7898, 'bop': 7899, 'newspaper': 7900, 'ihop': 7901, 'multimedia': 7902, 'courteroy': 7903, 'lolz': 7904, 'usingthisword': 7905, 'blizzue': 7906, 'hizouse': 7907, 'petty': 7908, 'hahah': 7909, 'yass': 7910, 'thatlol': 7911, 'bruhreal': 7912, 'digg': 7913, 'alynewton': 7914, 'designer': 7915, 'ducttap': 7916, 'ohboy': 7917, 'shouldigetoutandpush': 7918, 'tlc': 7919, 'universalorl': 7920, 'citystrangeand': 7921, 'alternatively': 7922, 'irina': 7923, 'flipside': 7924, 'eatup': 7925, 'cafe': 7926, 'buggy': 7927, 'abassinet': 7928, 'gerne': 7929, 'billmelate': 7930, 'timeseverytime': 7931, 'vmsgyour': 7932, 'novel': 7933, 'jeffhofmann': 7934, 'denisejtaylor': 7935, 'laurieameacham': 7936, 'multix': 7937, 'misspel': 7938, 'junsep': 7939, 'geraghty': 7940, 'nyjet': 7941, 'gopatriot': 7942, 'westpalmbeach': 7943, 'flybetter': 7944, 'selfcheck': 7945, 'redsox': 7946, 'catsanddogslivingtogether': 7947, 'pearl': 7948, 'complex': 7949, 'pulldown': 7950, 'suboption': 7951, 'formsmadden': 7952, 'waldorf': 7953, 'astoria': 7954, 'shocker': 7955, 'daniel': 7956, 'webpage': 7957, 'birder': 7958, 'rat': 7959, 'sloooooow': 7960, 'safetyconcern': 7961, 'emaleesugano': 7962, 'delinquent': 7963, 'homeward': 7964, 'monsoon': 7965, 'devastate': 7966, 'gatestill': 7967, 'extralight': 7968, 'zakkohane': 7969, 'happytohelp': 7970, 'cosmopolitan': 7971, 'blacklist': 7972, 'contactles': 7973, 'sibling': 7974, 'diffuse': 7975, 'inflation': 7976, 'nexttime': 7977, 'andthewinneri': 7978, 'whyabcwhy': 7979, 'julesdameron': 7980, 'accessibility': 7981, 'equality': 7982, 'missingtheoscar': 7983, 'ooookay': 7984, 'tap': 7985, 'shiver': 7986, 'forevercold': 7987, 'sdq': 7988, 'paseenger': 7989, 'santo': 7990, 'domingo': 7991, 'surfboard': 7992, 'gif': 7993, 'thng': 7994, 'prechk': 7995, 'medium': 7996, 'justwrong': 7997, 'alamo': 7998, 'tatiana': 7999, 'aha': 8000, 'smith': 8001, 'oust': 8002, 'accurately': 8003, 'finleybklyncf': 8004, 'mgood': 8005, 'saya': 8006, 'dissatisfiedthank': 8007, 'wellmy': 8008, 'focus': 8009, 'psgr': 8010, 'nikon': 8011, 'reliablefriendly': 8012, 'repexper': 8013, 'undrstnd': 8014, 'wlcm': 8015, 'onbrd': 8016, 'bulb': 8017, 'cabcel': 8018, 'byebyejetblue': 8019, 'token': 8020, 'itboard': 8021, 'untzlike': 8022, 'snowbound': 8023, 'scent': 8024, 'tht': 8025, 'deli': 8026, 'customerservicenot': 8027, 'prefference': 8028, 'jfkeven': 8029, 'inconceivable': 8030, 'ishouldhavedriven': 8031, 'chrishasmadeusblush': 8032, 'increment': 8033, 'uschamber': 8034, 'summit': 8035, 'ought': 8036, 'communicationiskey': 8037, 'hawaiianair': 8038, 'ventilation': 8039, 'hunkydory': 8040, 'broinlaw': 8041, 'garage': 8042, 'replyingi': 8043, 'dobut': 8044, 'timethatll': 8045, 'expediathere': 8046, 'luggagegate': 8047, 'yoga': 8048, 'mba': 8049, 'pto': 8050, 'mintyfresh': 8051, 'fourhour': 8052, 'ctg': 8053, 'brittany': 8054, 'loweredexpectation': 8055, 'amtoday': 8056, 'txtemail': 8057, 'enzo': 8058, 'setorii': 8059, 'pooch': 8060, 'bevy': 8061, 'cookjaycook': 8062, 'amagrino': 8063, 'wiyh': 8064, 'newborn': 8065, 'inebriate': 8066, 'closure': 8067, 'quickie': 8068, 'cartagena': 8069, 'pact': 8070, 'organizational': 8071, 'sugar': 8072, 'idlovetoask': 8073, 'description': 8074, 'bonnie': 8075, 'newburg': 8076, 'rly': 8077, 'belti': 8078, 'investigation': 8079, 'tux': 8080, 'cannedtweet': 8081, 'insert': 8082, 'truebluecolor': 8083, 'timesomeone': 8084, 'updateyourwebsite': 8085, 'dobetterjetblue': 8086, 'carta': 8087, 'apnea': 8088, 'glenn': 8089, 'cole': 8090, 'buffaloniagara': 8091, 'airportwide': 8092, 'unlucky': 8093, 'nowsunshine': 8094, 'hane': 8095, 'mosaicmecrazy': 8096, 'nofilterneed': 8097, 'miraculously': 8098, 'liftin': 8099, 'higherandhigher': 8100, 'soulandinspiration': 8101, 'acy': 8102, 'takr': 8103, 'erie': 8104, 'fllairport': 8105, 'authority': 8106, 'badairline': 8107, 'mde': 8108, 'tf': 8109, 'tfgreenairport': 8110, 'yourock': 8111, 'mxo': 8112, 'henrikwagner': 8113, 'eternity': 8114, 'ammisery': 8115, 'hella': 8116, 'americanairbr': 8117, 'misbehavior': 8118, 'dubai': 8119, 'equalizer': 8120, 'dgruber': 8121, 'shuck': 8122, 'tarmat': 8123, 'backhome': 8124, 'maddieflood': 8125, 'hesitant': 8126, 'stuckonaplane': 8127, 'babyfood': 8128, 'cushy': 8129, 'helplindsey': 8130, 'motherinlaw': 8131, 'jfkyou': 8132, 'pbijfk': 8133, 'hatch': 8134, 'interupt': 8135, 'staduim': 8136, 'ijustwanttobeinboston': 8137, 'thanksdc': 8138, 'suckwe': 8139, 'lburley': 8140, 'callbackthe': 8141, 'hasshe': 8142, 'loststolen': 8143, 'ada': 8144, 'sex': 8145, 'sxmjfk': 8146, 'morrow': 8147, 'compd': 8148, 'cory': 8149, 'greatcustomerservice': 8150, 'incase': 8151, 'cave': 8152, 'heinekenusacorp': 8153, 'distributor': 8154, 'livethelegend': 8155, 'playlist': 8156, 'rainsleet': 8157, 'instant': 8158, 'lipstick': 8159, 'belttoolong': 8160, 'restles': 8161, 'marten': 8162, 'tempt': 8163, 'sodone': 8164, 'treacherou': 8165, 'rocker': 8166, 'knock': 8167, 'johnnosta': 8168, 'lizapprove': 8169, 'pgashow': 8170, 'mosaiccant': 8171, 'phew': 8172, 'wheeze': 8173, 'pricewise': 8174, 'compact': 8175, 'redo': 8176, 'thismosaicnothappy': 8177, 'bestdress': 8178, 'giggle': 8179, 'goodgene': 8180, 'ilookyoung': 8181, 'itslaloca': 8182, 'downthank': 8183, 'airlinehate': 8184, 'condolence': 8185, 'viraltech': 8186, 'institutional': 8187, 'predictive': 8188, 'analytic': 8189, 'alicia': 8190, 'exceptionalservice': 8191, 'lauderdalebogota': 8192, 'colombian': 8193, 'disapptment': 8194, 'bdng': 8195, 'tad': 8196, 'earthquakehaiti': 8197, 'rebuild': 8198, 'lowdown': 8199, 'paulgordonbrown': 8200, 'gether': 8201, 'session': 8202, 'belove': 8203, 'paulgordonbrowni': 8204, 'itenary': 8205, 'heckbook': 8206, 'foreverrrrrr': 8207, 'nixchangefee': 8208, 'portauprince': 8209, 'orphan': 8210, 'booksmedicine': 8211, 'orphanage': 8212, 'monthold': 8213, 'foldup': 8214, 'crib': 8215, 'campaign': 8216, 'usatodaytravel': 8217, 'dualcam': 8218, 'redreserve': 8219, 'benjaminokeefe': 8220, 'coatunfortunately': 8221, 'werenotincalianymore': 8222, 'nyer': 8223, 'happytweet': 8224, 'tuftsenergyconf': 8225, 'lifeisgood': 8226, 'guacamole': 8227, 'weatherhere': 8228, 'westpalmbeachbound': 8229, 'zackscom': 8230, 'incidental': 8231, 'nomoreaggravation': 8232, 'bossju': 8233, 'flywhonotblue': 8234, 'wail': 8235, 'kin': 8236, 'ferrissalameh': 8237, 'delayforwhat': 8238, 'sittingonthetarmac': 8239, 'nix': 8240, 'dlewi': 8241, 'inflght': 8242, 'thre': 8243, 'abcletjetbluestreamfee': 8244, 'cav': 8245, 'nooooo': 8246, 'disturb': 8247, 'pura': 8248, 'vida': 8249, 'sharktank': 8250, 'toplay': 8251, 'vainglorygame': 8252, 'makingthingseasy': 8253, 'feelbetter': 8254, 'effect': 8255, 'markiepost': 8256, 'markie': 8257, 'mayweather': 8258, 'pacquiao': 8259, 'terra': 8260, 'mommy': 8261, 'daddy': 8262, 'insider': 8263, 'hill': 8264, 'airportsst': 8265, 'fitbit': 8266, 'hgeronemu': 8267, 'installation': 8268, 'sooooooo': 8269, 'ridiculously': 8270, 'checkinbag': 8271, 'blueblackish': 8272, 'pbiboston': 8273, 'streetwise': 8274, 'underway': 8275, 'scrum': 8276, 'mont': 8277, 'sondo': 8278, 'certificates': 8279, 'exceptionally': 8280, 'uncourteou': 8281, 'butnot': 8282, 'grumpy': 8283, 'inflatable': 8284, 'savethoseseat': 8285, 'grasshopper': 8286, 'twitterz': 8287, 'kung': 8288, 'negroni': 8289, 'bitcoin': 8290, 'natural': 8291, 'beefjerky': 8292, 'muscle': 8293, 'flyin': 8294, 'jdhadp': 8295, 'howhardcanthatreallybe': 8296, 'nogearnotrain': 8297, 'warmest': 8298, 'negativedegree': 8299, 'snowwillnevermelt': 8300, 'hanneslohmann': 8301, 'steward': 8302, 'blis': 8303, 'indenial': 8304, 'whatfrozenpipe': 8305, 'dontflythem': 8306, 'alarm': 8307, 'older': 8308, 'misread': 8309, 'sweresomuchfun': 8310, 'colder': 8311, 'bedofrose': 8312, 'colore': 8313, 'iwoulddoanythingforlove': 8314, 'miamore': 8315, 'iadore': 8316, 'idontwannalivewithoutyourlove': 8317, 'itwasminttobe': 8318, 'bestinclasssocial': 8319, 'stevie': 8320, 'jetgreen': 8321, 'jetre': 8322, 'flightland': 8323, 'sunscreen': 8324, 'feelsgood': 8325, 'stacycrossb': 8326, 'saharasam': 8327, 'flawles': 8328, 'bluehero': 8329, 'disabledtraveler': 8330, 'wikipearl': 8331, 'natprodexpo': 8332, 'expowest': 8333, 'evenmorespace': 8334, 'evenmoreview': 8335, 'firsttimeflyingwamo': 8336, 'tke': 8337, 'si': 8338, 'mega': 8339, 'evening': 8340, 'wager': 8341, 'isitsummeryet': 8342, 'wylie': 8343, 'snoop': 8344, 'thanksjetblue': 8345, 'trivia': 8346, 'wsjplu': 8347, 'makingloveoutofnothingatall': 8348, 'patienceiswearingthin': 8349, 'itscostingmeincome': 8350, 'mintaliciou': 8351, 'shelleyandmarcrock': 8352, 'lostinlove': 8353, 'wemosaictogether': 8354, 'bearable': 8355, 'notwheelsup': 8356, 'bosmco': 8357, 'conjunction': 8358, 'shanese': 8359, 'bryantmelton': 8360, 'holdon': 8361, 'everythingsgonnabealright': 8362, 'ccndjp': 8363, 'cling': 8364, 'hrdelay': 8365, 'countles': 8366, 'workhard': 8367, 'playsoon': 8368, 'denverboston': 8369, 'bostondenver': 8370, 'crumb': 8371, 'hip': 8372, 'siriu': 8373, 'xm': 8374, 'sttimeflyer': 8375, 'ricardo': 8376, 'olavarria': 8377, 'nny': 8378, 'countingdown': 8379, 'upwherewebelong': 8380, 'suuuuper': 8381, 'jfksea': 8382, 'core': 8383, 'config': 8384, 'samchampion': 8385, 'marketwatch': 8386, 'muchneed': 8387, 'cflanagian': 8388, 'toolittletoolate': 8389, 'predictable': 8390, 'icyflight': 8391, 'poorcommunication': 8392, 'waitingsince': 8393, 'comedic': 8394, 'othr': 8395, 'incomprehensible': 8396, 'fromthefrontseat': 8397, 'yaffasolin': 8398, 'pereira': 8399, 'cartago': 8400, 'kgonzale': 8401, 'scandal': 8402, 'tower': 8403, 'inoperable': 8404, 'sox': 8405, 'loyalmosaicmember': 8406, 'gettingoffplane': 8407, 'buffaloairport': 8408, 'maro': 8409, 'currentlysittingontarmac': 8410, 'mosiacfail': 8411, 'helene': 8412, 'reevaluate': 8413, 'lopezlaymari': 8414, 'massage': 8415, 'static': 8416, 'novemberdecember': 8417, 'bureau': 8418, 'airbusintheu': 8419, 'arubairport': 8420, 'warmweather': 8421, 'tvsmusic': 8422, 'syscon': 8423, 'firefighter': 8424, 'mcojfk': 8425, 'disclose': 8426, 'orlandoridiculou': 8427, 'notbabysitter': 8428, 'whrsthecoach': 8429, 'coffeeat': 8430, 'semantic': 8431, 'dictionary': 8432, 'itscold': 8433, 'rack': 8434, 'latte': 8435, 'rtjetblue': 8436, 'peach': 8437, 'bdldca': 8438, 'lick': 8439, 'ahoy': 8440, 'allyoucanjetpas': 8441, 'mosiac': 8442, 'itthi': 8443, 'okie': 8444, 'acce': 8445, 'vino': 8446, 'oveur': 8447, 'murdock': 8448, 'julian': 8449, 'magical': 8450, 'ami': 8451, 'milehighselfieclub': 8452, 'nhlbruin': 8453, 'bruin': 8454, 'hof': 8455, 'jetbluebruin': 8456, 'jetscrew': 8457, 'awfulcustomerservice': 8458, 'wendi': 8459, 'dealing': 8460, 'stubborn': 8461, 'laish': 8462, 'dunkin': 8463, 'hazard': 8464, 'thingsyoucantmakeup': 8465, 'switchsbux': 8466, 'excusegeez': 8467, 'coffeeneed': 8468, 'hourhope': 8469, 'ineedcoffee': 8470, 'princess': 8471, 'glassslipperchallenge': 8472, 'wdw': 8473, 'onlyblue': 8474, 'jetblueforever': 8475, 'descent': 8476, 'truebluememberlife': 8477, 'pistol': 8478, 'theme': 8479, 'tsanightmare': 8480, 'kravitz': 8481, 'bore': 8482, 'fixthi': 8483, 'isthisreal': 8484, 'nevertoldu': 8485, 'lile': 8486, 'fancy': 8487, 'saxonandparole': 8488, 'lobstermac': 8489, 'bloodymary': 8490, 'jetsetter': 8491, 'telleveryone': 8492, 'justifythissupport': 8493, 'lostrevenue': 8494, 'angryandsober': 8495, 'bachelorpartymishap': 8496, 'sham': 8497, 'nottrue': 8498, 'nosupport': 8499, 'ionlyflyblue': 8500, 'thelodge': 8501, 'yeniettelswood': 8502, 'andrewbiga': 8503, 'codycleverly': 8504, 'heidimacey': 8505, 'motherpollock': 8506, 'fi': 8507, 'staticy': 8508, 'ithelpsabit': 8509, 'disneyworld': 8510, 'rundisney': 8511, 'bestplanesever': 8512, 'airlineadviser': 8513, 'sayget': 8514, 'lessme': 8515, 'seeampeter': 8516, 'rqstd': 8517, 'bcz': 8518, 'skyw': 8519, 'tailfinthursday': 8520, 'travelpulse': 8521, 'miboston': 8522, 'icelandair': 8523, 'tattoo': 8524, 'stbernard': 8525, 'gnight': 8526, 'jua': 8527, 'jorge': 8528, 'cri': 8529, 'samantha': 8530, 'bossan': 8531, 'evasive': 8532, 'kylecomer': 8533, 'martha': 8534, 'african': 8535, 'mv': 8536, 'gripeo': 8537, 'tsparrow': 8538, 'swift': 8539, 'teamtreehouse': 8540, 'refresher': 8541, 'fridge': 8542, 'dorm': 8543, 'lovedoll': 8544, 'themhence': 8545, 'huxleyesque': 8546, 'reliability': 8547, 'benadryl': 8548, 'epipen': 8549, 'sofly': 8550, 'firststari': 8551, 'seetonight': 8552, 'annnnnd': 8553, 'hall': 8554, 'crewsignage': 8555, 'memgrizz': 8556, 'spur': 8557, 'okcthunder': 8558, 'triedconsiderable': 8559, 'confusionno': 8560, 'announcementno': 8561, 'pointer': 8562, 'nba': 8563, 'corpgree': 8564, 'nevertakeno': 8565, 'wallstreet': 8566, 'scope': 8567, 'teanot': 8568, 'bwiboston': 8569, 'wrestle': 8570, 'stafford': 8571, 'airlinequality': 8572, 'cty': 8573, 'jetbluesuck': 8574, 'highest': 8575, 'patriarc': 8576, 'entrust': 8577, 'portsmouth': 8578, 'prfriendly': 8579, 'cometoaustin': 8580, 'harf': 8581, 'iraiq': 8582, 'marieharf': 8583, 'earthquake': 8584, 'xd': 8585, 'laptoplarge': 8586, 'fool': 8587, 'feeling': 8588, 'happythem': 8589, 'pilyoc': 8590, 'thefutureisweird': 8591, 'incidentally': 8592, 'sheila': 8593, 'grandpa': 8594, 'ash': 8595, 'naple': 8596, 'usnavy': 8597, 'swoop': 8598, 'helpfaith': 8599, 'stockhouse': 8600, 'lgafllpoor': 8601, 'insensitive': 8602, 'lifethreaten': 8603, 'unsolicite': 8604, 'uneducate': 8605, 'reckles': 8606, 'dangerou': 8607, 'daytonabeach': 8608, 'extraspee': 8609, 'personable': 8610, 'lisapal': 8611, 'consult': 8612, 'truebluepoint': 8613, 'jetbluemember': 8614, 'slice': 8615, 'bread': 8616, 'beatriz': 8617, 'xjared': 8618, 'ai': 8619, 'ftl': 8620, 'pizza': 8621, 'easter': 8622, 'udub': 8623, 'cameronroe': 8624, 'caymanisland': 8625, 'seattlebound': 8626, 'agianand': 8627, 'bonsinthesky': 8628, 'smite': 8629, 'slog': 8630, 'likeagirl': 8631, 'smm': 8632, 'lekvhg': 8633, 'itsthelittlething': 8634, 'jetbluemes': 8635, 'drwinston': 8636, 'philpete': 8637, 'suddenly': 8638, 'argh': 8639, 'okayim': 8640, 'nogood': 8641, 'justdippin': 8642, 'thetakeover': 8643, 'yponthebeat': 8644, 'bloombergnew': 8645, 'lasfllsju': 8646, 'italian': 8647, 'ocean': 8648, 'flightledrebook': 8649, 'daydelay': 8650, 'impressedand': 8651, 'valentinesday': 8652, 'loveisintheair': 8653, 'geraldine': 8654, 'centerworst': 8655, 'jetbluejfk': 8656, 'kleinerin': 8657, 'pastor': 8658, 'homeschool': 8659, 'spirite': 8660, 'prefundia': 8661, 'controllableirregularity': 8662, 'fluid': 8663, 'bosjfk': 8664, 'jfkroc': 8665, 'highway': 8666, 'spade': 8667, 'spice': 8668, 'leopoldsic': 8669, 'phillip': 8670, 'heller': 8671, 'ifc': 8672, 'gum': 8673, 'chillycvz': 8674, 'thankgoodnes': 8675, 'mypompanobeach': 8676, 'fitz': 8677, 'bwibo': 8678, 'invitation': 8679, 'ereward': 8680, 'uncompromise': 8681, 'blindside': 8682, 'pp': 8683, 'flatiron': 8684, 'sil': 8685, 'ohno': 8686, 'bundleup': 8687, 'leastthebeverageswillbecold': 8688, 'analystdoc': 8689, 'vulnerable': 8690, 'thieve': 8691, 'citi': 8692, 'tow': 8693, 'corrupt': 8694, 'supertzar': 8695, 'whilst': 8696, 'tinmanironman': 8697, 'meggersrock': 8698, 'penalize': 8699, 'lightly': 8700, 'satellite': 8701, 'cram': 8702, 'planeno': 8703, 'delayedl': 8704, 'peanuttreenut': 8705, 'freeconcert': 8706, 'hp': 8707, 'mfp': 8708, 'cbarrow': 8709, 'cantlike': 8710, 'enrage': 8711, 'wellprice': 8712, 'oahu': 8713, 'mailbox': 8714, 'nightlife': 8715, 'awesomeee': 8716, 'ment': 8717, 'effective': 8718, 'keepitup': 8719, 'cinziannap': 8720, 'bluetiful': 8721, 'lifeneedsfrost': 8722, 'constitution': 8723, 'declaration': 8724, 'independence': 8725, 'tailfin': 8726, 'geekandahalf': 8727, 'slash': 8728, 'cooler': 8729, 'pdw': 8730, 'ilovejetblue': 8731, 'connecticut': 8732, 'stpatricksfoundation': 8733, 'rotary': 8734, 'pamgrout': 8735, 'backtodelta': 8736, 'tighter': 8737, 'colonist': 8738, 'mcgraw': 8739, 'embody': 8740, 'thanksdave': 8741, 'famou': 8742, 'sxu': 8743, 'vegecomgirl': 8744, 'rockingthetweet': 8745, 'alittle': 8746, 'weyburn': 8747, 'okayyyy': 8748, 'iron': 8749, 'nzherald': 8750, 'flightwouldve': 8751, 'simultaneously': 8752, 'wishmyflightwaslonger': 8753, 'didflyfi': 8754, 'foodso': 8755, 'knowledgeprovide': 8756, 'jbi': 8757, 'squish': 8758, 'peggy': 8759, 'lft': 8760, 'hemophilia': 8761, 'rudeservice': 8762, 'bleed': 8763, 'leed': 8764, 'selectionchange': 8765, 'nycbo': 8766, 'oversleep': 8767, 'uncontrollable': 8768, 'irregularity': 8769, 'vt': 8770, 'nerve': 8771, 'greenfield': 8772, 'reporter': 8773, 'badwebsite': 8774, 'deboard': 8775, 'crummyservice': 8776, 'whydidntiflysouthwest': 8777, 'goodluckamericanair': 8778, 'cathy': 8779, 'pho': 8780, 'impossibly': 8781, 'lesscustomer': 8782, 'travelpurchase': 8783, 'cheapoairchat': 8784, 'xtra': 8785, 'donotflyusair': 8786, 'germany': 8787, 'srv': 8788, 'alsonodrinkcartcomingaround': 8789, 'ashleykatherton': 8790, 'dmoukdarath': 8791, 'leakingwhat': 8792, 'friendlyteam': 8793, 'discipline': 8794, 'divide': 8795, 'phlbo': 8796, 'presentation': 8797, 'pandu': 8798, 'spain': 8799, 'israel': 8800, 'whine': 8801, 'opensky': 8802, 'minsthank': 8803, 'yorkshire': 8804, 'lengthy': 8805, 'mystery': 8806, 'iv': 8807, 'cxd': 8808, 'availableyour': 8809, 'ux': 8810, 'impair': 8811, 'jetblueanyone': 8812, 'outofbusines': 8813, 'ruiningmy': 8814, 'cap': 8815, 'revision': 8816, 'casual': 8817, 'earlyconnect': 8818, 'thete': 8819, 'grandparent': 8820, 'qd': 8821, 'sarita': 8822, 'statusdelay': 8823, 'semester': 8824, 'statusawait': 8825, 'asgmnt': 8826, 'listsomeone': 8827, 'wouldt': 8828, 'yellow': 8829, 'herba': 8830, 'ricky': 8831, 'courtsey': 8832, 'illnes': 8833, 'swallow': 8834, 'dmscusairwayscom': 8835, 'helpcomplaint': 8836, 'inactivity': 8837, 'csm': 8838, 'daryl': 8839, 'louder': 8840, 'sine': 8841, 'initiate': 8842, 'glitchy': 8843, 'rwg': 8844, 'charac': 8845, 'wiil': 8846, 'socialtantrum': 8847, 'tonightnot': 8848, 'caren': 8849, 'mccaren': 8850, 'cltsfo': 8851, 'supv': 8852, 'skyscanner': 8853, 'bosclt': 8854, 'narrow': 8855, 'usaw': 8856, 'responsivethought': 8857, 'joyadventuremom': 8858, 'breastfeed': 8859, 'mediocre': 8860, 'combo': 8861, 'switchingboth': 8862, 'schooler': 8863, 'flyknoxville': 8864, 'noclothesnoinfo': 8865, 'failingyourcustomer': 8866, 'philacarservice': 8867, 'delaymiss': 8868, 'connectionand': 8869, 'usairwaysfailscustomer': 8870, 'guinea': 8871, 'missedupgrade': 8872, 'hopkin': 8873, 'intel': 8874, 'mitchsunderland': 8875, 'dissemination': 8876, 'convey': 8877, 'emailmailtocustomerrelationsusairwayscom': 8878, 'itfit': 8879, 'toe': 8880, 'candy': 8881, 'exe': 8882, 'vincesview': 8883, 'gregm': 8884, 'noaccountability': 8885, 'grandcayman': 8886, 'againlate': 8887, 'drinksnack': 8888, 'moveup': 8889, 'terminology': 8890, 'verbiage': 8891, 'priv': 8892, 'hhagerty': 8893, 'cbsnew': 8894, 'shine': 8895, 'inout': 8896, 'tlh': 8897, 'lostandforgotten': 8898, 'exchangecredit': 8899, 'shadier': 8900, 'flyjetblue': 8901, 'theyareallbetter': 8902, 'exhaustion': 8903, 'runnin': 8904, 'killin': 8905, 'reiterate': 8906, 'unreasonable': 8907, 'offend': 8908, 'notourfaultyoudontuseyourgatesright': 8909, 'winstonsalem': 8910, 'logistically': 8911, 'desition': 8912, 'nade': 8913, 'weatherbackup': 8914, 'goodgriefpeople': 8915, 'parizad': 8916, 'voucherconfirmation': 8917, 'manifest': 8918, 'wedontcarebecauseyoupaidalready': 8919, 'cltdougla': 8920, 'takeresponsibility': 8921, 'diane': 8922, 'dulleswe': 8923, 'onmultiple': 8924, 'deteriorate': 8925, 'marvinatorsb': 8926, 'thnk': 8927, 'responseall': 8928, 'german': 8929, 'auf': 8930, 'wiedersehen': 8931, 'flywere': 8932, 'nonprofitcant': 8933, 'dividendsmember': 8934, 'afterward': 8935, 'avduffy': 8936, 'ivebeen': 8937, 'depot': 8938, 'squeak': 8939, 'sittingontheplane': 8940, 'readd': 8941, 'asha': 8942, 'wilmington': 8943, 'initiative': 8944, 'minefit': 8945, 'mnth': 8946, 'ticketnow': 8947, 'ownership': 8948, 'aye': 8949, 'bracket': 8950, 'problemive': 8951, 'callguy': 8952, 'jhughe': 8953, 'grrrrrrrr': 8954, 'twist': 8955, 'unsecure': 8956, 'tape': 8957, 'lxa': 8958, 'ekvm': 8959, 'thansk': 8960, 'bosdca': 8961, 'flightedreschedule': 8962, 'chillpill': 8963, 'hutchinsjim': 8964, 'workout': 8965, 'height': 8966, 'stepitup': 8967, 'lightn': 8968, 'downhow': 8969, 'grrrr': 8970, 'dominick': 8971, 'guardia': 8972, 'offline': 8973, 'rodeo': 8974, 'acnewsguy': 8975, 'acarlhotmailcom': 8976, 'oprah': 8977, 'phomia': 8978, 'documentation': 8979, 'itineraryconfirmation': 8980, 'fendurself': 8981, 'tonne': 8982, 'laughter': 8983, 'recording': 8984, 'phoneonline': 8985, 'contagiou': 8986, 'viru': 8987, 'measurement': 8988, 'tia': 8989, 'americanairlne': 8990, 'bash': 8991, 'unproductive': 8992, 'freeflight': 8993, 'verification': 8994, 'quintana': 8995, 'roo': 8996, 'pamper': 8997, 'fendyourself': 8998, 'youareonyourown': 8999, 'hegshmeg': 9000, 'jail': 9001, 'bail': 9002, 'negatively': 9003, 'integrity': 9004, 'tallahassee': 9005, 'reflection': 9006, 'extinct': 9007, 'ringle': 9008, 'barnum': 9009, 'bailey': 9010, 'peel': 9011, 'trivialize': 9012, 'communist': 9013, 'ben': 9014, 'phxfor': 9015, 'legitimately': 9016, 'mundane': 9017, 'pdquigley': 9018, 'landonschott': 9019, 'pride': 9020, 'alwayshappensthere': 9021, 'angrytraveler': 9022, 'todaygive': 9023, 'theworstairline': 9024, 'ultimately': 9025, 'flightrexcept': 9026, 'todaythi': 9027, 'eventprof': 9028, 'bwahahaha': 9029, 'notafanofyourmerger': 9030, 'wewanttoknow': 9031, 'flightit': 9032, 'clarion': 9033, 'renhotel': 9034, 'marriottreward': 9035, 'peterpiatetsky': 9036, 'ummmm': 9037, 'computersweredown': 9038, 'meright': 9039, 'hinder': 9040, 'fudgin': 9041, 'justwantmybe': 9042, 'phonenot': 9043, 'denphl': 9044, 'synch': 9045, 'fudger': 9046, 'longbeachairport': 9047, 'followdm': 9048, 'farmy': 9049, 'whatcustomerservice': 9050, 'flyrepublicair': 9051, 'nma': 9052, 'hrswait': 9053, 'stupidity': 9054, 'waaait': 9055, 'gregwallace': 9056, 'cent': 9057, 'efficency': 9058, 'sexually': 9059, 'elmira': 9060, 'detector': 9061, 'specialist': 9062, 'agentthen': 9063, 'charlote': 9064, 'istead': 9065, 'funflightattendant': 9066, 'sundayfunday': 9067, 'solate': 9068, 'bozo': 9069, 'smarter': 9070, 'mook': 9071, 'godelta': 9072, 'planepisspoor': 9073, 'nofood': 9074, 'nodrink': 9075, 'nohelp': 9076, 'todayall': 9077, 'issuesshe': 9078, 'failover': 9079, 'truthh': 9080, 'phltoslc': 9081, 'unansweredquestion': 9082, 'aflame': 9083, 'aurorabiz': 9084, 'angryairtravel': 9085, 'usairwayscenter': 9086, 'danbury': 9087, 'server': 9088, 'bufclt': 9089, 'emily': 9090, 'drunkpilot': 9091, 'stuckintheloop': 9092, 'crashedeverywhere': 9093, 'outtage': 9094, 'hotterandlongerthanhell': 9095, 'confirmedso': 9096, 'downright': 9097, 'hostile': 9098, 'cbsphilly': 9099, 'dcamanual': 9100, 'ystrdy': 9101, 'tryng': 9102, 'rsrv': 9103, 'unsuitable': 9104, 'rett': 9105, 'cavan': 9106, 'gofundme': 9107, 'defer': 9108, 'offensively': 9109, 'usi': 9110, 'bosphl': 9111, 'helpinfo': 9112, 'sg': 9113, 'cstsvc': 9114, 'rcd': 9115, 'usaireay': 9116, 'interpret': 9117, 'sarcastic': 9118, 'excellentcustomerservice': 9119, 'waitinginphilly': 9120, 'usdelayway': 9121, 'letsgoalready': 9122, 'wonderingirritate': 9123, 'whyisusairalwaysdelay': 9124, 'emotional': 9125, 'approximately': 9126, 'barclaycardu': 9127, 'emplid': 9128, 'appeal': 9129, 'influx': 9130, 'sum': 9131, 'wlil': 9132, 'wthat': 9133, 'utilize': 9134, 'theuso': 9135, 'nocommunication': 9136, 'milesnee': 9137, 'sympathize': 9138, 'reweather': 9139, 'wtop': 9140, 'bradleyairport': 9141, 'planeso': 9142, 'firevan': 9143, 'effortles': 9144, 'tory': 9145, 'churn': 9146, 'nondelay': 9147, 'todayno': 9148, 'americanairother': 9149, 'takingthistothetop': 9150, 'baggageridiculou': 9151, 'mrrenevendez': 9152, 'scoop': 9153, 'corybronze': 9154, 'thehaileytate': 9155, 'aboout': 9156, 'mhtt': 9157, 'hrsminonhold': 9158, 'weekinbound': 9159, 'lastnight': 9160, 'careles': 9161, 'sorude': 9162, 'delayshandle': 9163, 'bze': 9164, 'sby': 9165, 'flightglobal': 9166, 'reinforcement': 9167, 'phoneeeee': 9168, 'malcome': 9169, 'replicate': 9170, 'dayi': 9171, 'empl': 9172, 'greatjob': 9173, 'boggle': 9174, 'melt': 9175, 'luggagecancel': 9176, 'tense': 9177, 'attndt': 9178, 'smugsmirk': 9179, 'norush': 9180, 'alfamilyoffour': 9181, 'flightrfor': 9182, 'exhibit': 9183, 'newamericanairline': 9184, 'cheapslogannotmotto': 9185, 'attdt': 9186, 'msscottwg': 9187, 'mellani': 9188, 'superstar': 9189, 'mellie': 9190, 'icecream': 9191, 'collectively': 9192, 'percentage': 9193, 'yout': 9194, 'sectionturn': 9195, 'liza': 9196, 'idiotic': 9197, 'diet': 9198, 'cokenice': 9199, 'biznes': 9200, 'inlaw': 9201, 'podium': 9202, 'tiffany': 9203, 'autoreflight': 9204, 'nanceeb': 9205, 'momentand': 9206, 'infrastructure': 9207, 'massivefail': 9208, 'failphone': 9209, 'flgjt': 9210, 'brizzyberg': 9211, 'uhi': 9212, 'grief': 9213, 'flowerssmfh': 9214, 'travelpoint': 9215, 'abound': 9216, 'evv': 9217, 'sxmclt': 9218, 'missedconnection': 9219, 'forcedovernight': 9220, 'lodgingfood': 9221, 'worstflightexperienceever': 9222, 'getmehome': 9223, 'loanr': 9224, 'canld': 9225, 'opt': 9226, 'cng': 9227, 'lapse': 9228, 'poorlyhandle': 9229, 'usairhead': 9230, 'rever': 9231, 'estplatinumeventually': 9232, 'tabitha': 9233, 'minsss': 9234, 'anotherfail': 9235, 'hange': 9236, 'cgqueen': 9237, 'vow': 9238, 'smoothtransition': 9239, 'fkn': 9240, 'unbelieavle': 9241, 'unaccpetable': 9242, 'failback': 9243, 'actualy': 9244, 'situationsyour': 9245, 'hostel': 9246, 'fakesnow': 9247, 'airmile': 9248, 'fwd': 9249, 'stillbagles': 9250, 'departuredeal': 9251, 'excusable': 9252, 'lynchburg': 9253, 'noexcusesaccept': 9254, 'kieranmahan': 9255, 'usuck': 9256, 'grt': 9257, 'uppp': 9258, 'imtire': 9259, 'flierssomeone': 9260, 'saveface': 9261, 'showup': 9262, 'classwrite': 9263, 'midterm': 9264, 'whichever': 9265, 'hooray': 9266, 'ebhset': 9267, 'caterobbie': 9268, 'pleasehurryup': 9269, 'answerphone': 9270, 'reschedulemyflight': 9271, 'fiousairway': 9272, 'prayerdisappoint': 9273, 'mishap': 9274, 'lotttttttt': 9275, 'chmom': 9276, 'nmagoodlife': 9277, 'synergy': 9278, 'robprice': 9279, 'idontwanttocallback': 9280, 'becuase': 9281, 'tovery': 9282, 'allready': 9283, 'fulleven': 9284, 'voucherno': 9285, 'traveloneworld': 9286, 'amend': 9287, 'needlessly': 9288, 'wronganswer': 9289, 'unnotice': 9290, 'yroldtwin': 9291, 'chl': 9292, 'worstairlineinamerica': 9293, 'mod': 9294, 'hosp': 9295, 'hlp': 9296, 'kitchen': 9297, 'mewhat': 9298, 'hasty': 9299, 'unwise': 9300, 'pushback': 9301, 'pullin': 9302, 'sh': 9303, 'trbl': 9304, 'terriblecommunication': 9305, 'essence': 9306, 'topflight': 9307, 'truthful': 9308, 'ontarmac': 9309, 'donaldarobertsgmailcom': 9310, 'phlmco': 9311, 'eyyyy': 9312, 'drift': 9313, 'af': 9314, 'clog': 9315, 'alreadycrowd': 9316, 'vegetarianproblem': 9317, 'ontario': 9318, 'informationstill': 9319, 'tripnever': 9320, 'determination': 9321, 'cabinfever': 9322, 'dmqf': 9323, 'respectful': 9324, 'hourwait': 9325, 'cesspool': 9326, 'germ': 9327, 'rylietolbert': 9328, 'tequila': 9329, 'stopover': 9330, 'fluster': 9331, 'kristy': 9332, 'kristiesp': 9333, 'promotethatgirl': 9334, 'tomrw': 9335, 'flightcancel': 9336, 'custservicehasnonumber': 9337, 'backanother': 9338, 'minhour': 9339, 'cltnyc': 9340, 'notion': 9341, 'versace': 9342, 'toll': 9343, 'nght': 9344, 'flightedmechprob': 9345, 'flightedsnow': 9346, 'cl': 9347, 'sche': 9348, 'geniou': 9349, 'preggo': 9350, 'hormone': 9351, 'curvygirltravel': 9352, 'digit': 9353, 'okee': 9354, 'nick': 9355, 'comin': 9356, 'thankjesu': 9357, 'thankme': 9358, 'ute': 9359, 'dulleswashington': 9360, 'effin': 9361, 'respondi': 9362, 'multi': 9363, 'differ': 9364, 'weatherflight': 9365, 'attendantcan': 9366, 'thisgreen': 9367, 'acu': 9368, 'timbennettg': 9369, 'dmv': 9370, 'noshadetothedmv': 9371, 'pregame': 9372, 'amtrak': 9373, 'flightsrefund': 9374, 'badcustomersrvice': 9375, 'whereismybag': 9376, 'poorcustumerservice': 9377, 'veg': 9378, 'flightnever': 9379, 'ew': 9380, 'undermine': 9381, 'intelligence': 9382, 'template': 9383, 'flightget': 9384, 'enormou': 9385, 'cltbna': 9386, 'inaccessibility': 9387, 'marccopely': 9388, 'discourteou': 9389, 'chuckhole': 9390, 'issuesmy': 9391, 'menow': 9392, 'shivadelrahim': 9393, 'nuw': 9394, 'feeyou': 9395, 'align': 9396, 'mobay': 9397, 'sapphire': 9398, 'profsolution': 9399, 'urgentlyget': 9400, 'seanvrose': 9401, 'callplan': 9402, 'largesize': 9403, 'owen': 9404, 'usairwaysfflyer': 9405, 'fdk': 9406, 'xzmscw': 9407, 'weatherbut': 9408, 'basketball': 9409, 'wheresmyrefund': 9410, 'spout': 9411, 'whale': 9412, 'leak': 9413, 'getmeoffthisplane': 9414, 'ineedabeer': 9415, 'fmiss': 9416, 'mbj': 9417, 'callnow': 9418, 'hourswhat': 9419, 'timehave': 9420, 'fltkeep': 9421, 'delaygreatcustomerservice': 9422, 'selve': 9423, 'reativation': 9424, 'hospice': 9425, 'soc': 9426, 'dontflyusairway': 9427, 'shitshow': 9428, 'destinationrude': 9429, 'jobfail': 9430, 'guesstimate': 9431, 'incapable': 9432, 'airbusseatfproblem': 9433, 'scareway': 9434, 'neverfail': 9435, 'aumilo': 9436, 'fracat': 9437, 'zigzag': 9438, 'ftime': 9439, 'havin': 9440, 'authorize': 9441, 'alreadygot': 9442, 'dadeland': 9443, 'misery': 9444, 'lawyerup': 9445, 'disbelief': 9446, 'themagicalstranger': 9447, 'zip': 9448, 'pmtold': 9449, 'advisorynow': 9450, 'gohelp': 9451, 'timesenough': 9452, 'theworstairlineever': 9453, 'winclement': 9454, 'lostfound': 9455, 'delightful': 9456, 'professionalism': 9457, 'pleeeeeeeease': 9458, 'corporatepaid': 9459, 'sailor': 9460, 'wsomeone': 9461, 'keithlaw': 9462, 'proposition': 9463, 'attendanttrue': 9464, 'creditcardsale': 9465, 'naval': 9466, 'slogan': 9467, 'recharge': 9468, 'anyhelp': 9469, 'dontmakemegooutside': 9470, 'reservationexplain': 9471, 'incedental': 9472, 'noworstairline': 9473, 'worstever': 9474, 'daddyshome': 9475, 'notnice': 9476, 'tellyourstory': 9477, 'terrifyingly': 9478, 'jwa': 9479, 'reachingnewlow': 9480, 'smelly': 9481, 'waitingagain': 9482, 'misjudge': 9483, 'deliberate': 9484, 'expen': 9485, 'burrough': 9486, 'yourairlinesuck': 9487, 'triage': 9488, 'personality': 9489, 'travelfail': 9490, 'nightmarish': 9491, 'patiencerunningout': 9492, 'avp': 9493, 'tgif': 9494, 'findurgrip': 9495, 'offeringat': 9496, 'advi': 9497, 'missingstollen': 9498, 'mobil': 9499, 'prn': 9500, 'planebroken': 9501, 'neverontime': 9502, 'paymytab': 9503, 'myrcltord': 9504, 'problematic': 9505, 'shavon': 9506, 'evn': 9507, 'dayreward': 9508, 'satmorrow': 9509, 'choclt': 9510, 'squash': 9511, 'notmy': 9512, 'miamii': 9513, 'itthen': 9514, 'yield': 9515, 'nationalairpor': 9516, 'nothini': 9517, 'ghettofab': 9518, 'tricity': 9519, 'iwa': 9520, 'amsound': 9521, 'emphasize': 9522, 'vape': 9523, 'mini': 9524, 'nofee': 9525, 'upinairclaire': 9526, 'timei': 9527, 'melinda': 9528, 'greensboro': 9529, 'jewel': 9530, 'workng': 9531, 'et': 9532, 'pushy': 9533, 'gagent': 9534, 'danny': 9535, 'dfwclt': 9536, 'sarahpompei': 9537, 'beareavement': 9538, 'lunchtime': 9539, 'andrewfalli': 9540, 'stillnotonmyflight': 9541, 'mimosa': 9542, 'kinder': 9543, 'breavement': 9544, 'reschedulereplane': 9545, 'youcandobetter': 9546, 'groan': 9547, 'curt': 9548, 'eternal': 9549, 'mergerdisaster': 9550, 'dcapit': 9551, 'api': 9552, 'happyfriday': 9553, 'tier': 9554, 'inperson': 9555, 'robyn': 9556, 'sprawl': 9557, 'grossedout': 9558, 'recycle': 9559, 'bagtag': 9560, 'crossword': 9561, 'oldseatnocushion': 9562, 'nohelponboard': 9563, 'coathange': 9564, 'obama': 9565, 'frozentoilet': 9566, 'medicalissue': 9567, 'mechanicalissue': 9568, 'dispatchissue': 9569, 'finalstretch': 9570, 'mileagerun': 9571, 'dcazero': 9572, 'willsunday': 9573, 'jdbwaffle': 9574, 'dishonest': 9575, 'exict': 9576, 'psychological': 9577, 'worldwide': 9578, 'dcahpn': 9579, 'prof': 9580, 'takerswe': 9581, 'minnow': 9582, 'mvmt': 9583, 'ripoffquick': 9584, 'unemployment': 9585, 'fand': 9586, 'affair': 9587, 'ffstatusdontmatter': 9588, 'thenewa': 9589, 'grandbaby': 9590, 'geeeeezzzzz': 9591, 'phltola': 9592, 'cinci': 9593, 'thinkof': 9594, 'zfv': 9595, 'minutesand': 9596, 'clearance': 9597, 'tediou': 9598, 'overfil': 9599, 'lavoratory': 9600, 'phxord': 9601, 'vueloe': 9602, 'vuelose': 9603, 'madnyc': 9604, 'anarchy': 9605, 'knowhockey': 9606, 'pleeeeease': 9607, 'stillbut': 9608, 'ihatemerger': 9609, 'monterey': 9610, 'fog': 9611, 'veggy': 9612, 'velcro': 9613, 'footrest': 9614, 'shelf': 9615, 'polite': 9616, 'habitually': 9617, 'salad': 9618, 'fuke': 9619, 'uncertainty': 9620, 'undue': 9621, 'wewantcomp': 9622, 'strandedattheairport': 9623, 'sponsorship': 9624, 'garywerk': 9625, 'montereyregionalairport': 9626, 'alanbledsoe': 9627, 'alan': 9628, 'lve': 9629, 'wopen': 9630, 'onlinerep': 9631, 'irony': 9632, 'bark': 9633, 'chathe': 9634, 'everleft': 9635, 'gastoncounty': 9636, 'lively': 9637, 'nostalgic': 9638, 'bene': 9639, 'problemjust': 9640, 'cak': 9641, 'lmaooo': 9642, 'albertbreer': 9643, 'interchangeably': 9644, 'usage': 9645, 'lilly': 9646, 'badcustomerexperience': 9647, 'candice': 9648, 'dothatd': 9649, 'onion': 9650, 'tbt': 9651, 'tiredfrustrate': 9652, 'cakendeath': 9653, 'ethan': 9654, 'revive': 9655, 'laundry': 9656, 'pipe': 9657, 'stubbornly': 9658, 'phf': 9659, 'flyu': 9660, 'mphx': 9661, 'flighthi': 9662, 'holz': 9663, 'labele': 9664, 'correlate': 9665, 'hirasmusbidragi': 9666, 'dublinairport': 9667, 'loveloughneagh': 9668, 'rswwebsite': 9669, 'ideasshe': 9670, 'todayat': 9671, 'petition': 9672, 'fregard': 9673, 'namemarry': 9674, 'gth': 9675, 'usaiway': 9676, 'trump': 9677, 'booster': 9678, 'problemhad': 9679, 'brochure': 9680, 'tout': 9681, 'mergedbaggage': 9682, 'cincyjust': 9683, 'landedyou': 9684, 'cteam': 9685, 'notevenjv': 9686, 'recvd': 9687, 'sucksi': 9688, 'tckt': 9689, 'phxphl': 9690, 'pointy': 9691, 'anyonemin': 9692, 'flightrcould': 9693, 'cheapoair': 9694, 'smoothoperation': 9695, 'freaky': 9696, 'dcadsm': 9697, 'ckin': 9698, 'allegianttravel': 9699, 'crewand': 9700, 'thereisafirstforeverythe': 9701, 'attendanteliz': 9702, 'crosswind': 9703, 'eliz': 9704, 'wallstslumlord': 9705, 'pkg': 9706, 'notfriendly': 9707, 'dev': 9708, 'wdeicingthree': 9709, 'sill': 9710, 'usexpresspsa': 9711, 'secondary': 9712, 'screening': 9713, 'tomorrowhelp': 9714, 'tarmacthank': 9715, 'marciaveronicshe': 9716, 'considerate': 9717, 'marsha': 9718, 'thankyouforeverythe': 9719, 'awol': 9720, 'lite': 9721, 'misguide': 9722, 'preparedhonestly': 9723, 'nothing': 9724, 'vrm': 9725, 'staffamericanair': 9726, 'farthank': 9727, 'moneywhy': 9728, 'portlandjetport': 9729, 'pple': 9730, 'countingphoto': 9731, 'daysand': 9732, 'worstnever': 9733, 'betty': 9734, 'ilm': 9735, 'drvrugby': 9736, 'surprisingly': 9737, 'strandedinnashville': 9738, 'againlost': 9739, 'livepersonplease': 9740, 'outright': 9741, 'disguise': 9742, 'coffeemaker': 9743, 'coma': 9744, 'tvmovie': 9745, 'muzak': 9746, 'samsonite': 9747, 'totale': 9748, 'usairwaysssuck': 9749, 'stationary': 9750, 'waitlol': 9751, 'sucksusairwayssuck': 9752, 'lucycat': 9753, 'scm': 9754, 'timbit': 9755, 'reasses': 9756, 'thatbut': 9757, 'numberthe': 9758, 'fendforyourself': 9759, 'kj': 9760, 'dnxv': 9761, 'hourconnect': 9762, 'systemtransfer': 9763, 'flail': 9764, 'severally': 9765, 'chairmanlove': 9766, 'monetary': 9767, 'whatajoke': 9768, 'isabelle': 9769, 'gramp': 9770, 'divident': 9771, 'systemic': 9772, 'disallow': 9773, 'makeovertimecustomerserviceplease': 9774, 'donthavehighhope': 9775, 'noreplyusairwaysmobilecom': 9776, 'filter': 9777, 'dn': 9778, 'admin': 9779, 'antitrust': 9780, 'unprofessionalism': 9781, 'dayslate': 9782, 'porde': 9783, 'helpfulim': 9784, 'holdtime': 9785, 'bohnjai': 9786, 'verbally': 9787, 'cuss': 9788, 'sdfairport': 9789, 'peeve': 9790, 'pascucci': 9791, 'mumble': 9792, 'svllindia': 9793, 'mumbai': 9794, 'surat': 9795, 'navimumbai': 9796, 'forsythfactor': 9797, 'passengerslose': 9798, 'dsearl': 9799, 'gooutofbusines': 9800, 'fispahani': 9801, 'worsttraveldayever': 9802, 'madden': 9803, 'unexplain': 9804, 'dallasraisenow': 9805, 'tweetin': 9806, 'doin': 9807, 'anythin': 9808, 'wiser': 9809, 'crewi': 9810, 'neverflyusairway': 9811, 'redhead': 9812, 'thislinehasntmovedforanhour': 9813, 'shaquille': 9814, 'tysvm': 9815, 'tyvm': 9816, 'hectic': 9817, 'husainhaqqani': 9818, 'husain': 9819, 'protest': 9820, 'rehman': 9821, 'malik': 9822, 'noltnancy': 9823, 'bewhat': 9824, 'issuck': 9825, 'jokeboston': 9826, 'ladyone': 9827, 'erickofiejone': 9828, 'spreadtheword': 9829, 'borrow': 9830, 'fish': 9831, 'barklay': 9832, 'bookin': 9833, 'throne': 9834, 'conn': 9835, 'executiveplatinummeansnothe': 9836, 'iwantcoffee': 9837, 'longday': 9838, 'imateacher': 9839, 'neptunewaivethefee': 9840, 'vmail': 9841, 'techcontd': 9842, 'schedulecontact': 9843, 'wheresthecustomerserviceat': 9844, 'emilylyons': 9845, 'hungary': 9846, 'daysno': 9847, 'satesq': 9848, 'phlcrw': 9849, 'ht': 9850, 'theend': 9851, 'goodday': 9852, 'ernievigil': 9853, 'fd': 9854, 'sickcrew': 9855, 'bostonbbb': 9856, 'tanpa': 9857, 'tic': 9858, 'waivefee': 9859, 'unprofessionally': 9860, 'fmjtyl': 9861, 'anticipation': 9862, 'freddie': 9863, 'sible': 9864, 'wether': 9865, 'approproately': 9866, 'tooooo': 9867, 'absorb': 9868, 'deceive': 9869, 'reprehensible': 9870, 'winkwink': 9871, 'intimate': 9872, 'firefox': 9873, 'travi': 9874, 'jetwaywhy': 9875, 'usflight': 9876, 'apx': 9877, 'nobackup': 9878, 'lineoh': 9879, 'lgaiah': 9880, 'customerfriendly': 9881, 'accessible': 9882, 'planestrainsandautomobile': 9883, 'preparednes': 9884, 'snowbal': 9885, 'couldwant': 9886, 'aforemention': 9887, 'patron': 9888, 'hoodlum': 9889, 'doi': 9890, 'speciifc': 9891, 'hog': 9892, 'impediment': 9893, 'duke': 9894, 'mason': 9895, 'wclas': 9896, 'contace': 9897, 'eyewitnes': 9898, 'unheard': 9899, 'cricket': 9900, 'ubetter': 9901, 'smth': 9902, 'seet': 9903, 'offwish': 9904, 'edreamsen': 9905, 'optimistic': 9906, 'tara': 9907, 'delayedthat': 9908, 'someoneawesome': 9909, 'coin': 9910, 'upsmh': 9911, 'onehouronhold': 9912, 'dwell': 9913, 'encouragement': 9914, 'logical': 9915, 'timejust': 9916, 'xxx': 9917, 'costwhy': 9918, 'vastly': 9919, 'bundle': 9920, 'applause': 9921, 'inflate': 9922, 'temorrishotmailcom': 9923, 'goldsapphire': 9924, 'greati': 9925, 'mddc': 9926, 'od': 9927, 'cdg': 9928, 'brrr': 9929, 'chilly': 9930, 'probl': 9931, 'wcomm': 9932, 'rtrn': 9933, 'nickele': 9934, 'tt': 9935, 'planb': 9936, 'upgrademe': 9937, 'americandairlinessuck': 9938, 'expert': 9939, 'preventable': 9940, 'wcompany': 9941, 'foru': 9942, 'allowable': 9943, 'wconnection': 9944, 'daysplan': 9945, 'delaypend': 9946, 'hormonal': 9947, 'teenager': 9948, 'wastedeffort': 9949, 'reappear': 9950, 'avio': 9951, 'undo': 9952, 'respondingmy': 9953, 'utevgw': 9954, 'donedeal': 9955, 'talktoahuman': 9956, 'strength': 9957, 'mauererpower': 9958, 'guysi': 9959, 'rnodfw': 9960, 'tomorrowplane': 9961, 'amshould': 9962, 'feroute': 9963, 'strut': 9964, 'nozzle': 9965, 'calibrate': 9966, 'waybig': 9967, 'groundoutside': 9968, 'hellomy': 9969, 'absorber': 9970, 'ksml': 9971, 'enhance': 9972, 'dooronly': 9973, 'fuellikely': 9974, 'fuelcycle': 9975, 'communicationcompetition': 9976, 'yucki': 9977, 'prerecord': 9978, 'milesthank': 9979, 'ordwe': 9980, 'refundprocedurenottoopainful': 9981, 'tmr': 9982, 'lala': 9983, 'leather': 9984, 'ay': 9985, 'marsh': 9986, 'cityandsand': 9987, 'handoff': 9988, 'nutella': 9989, 'veryimportantproject': 9990, 'refurbish': 9991, 'exeu': 9992, 'haulba': 9993, 'intraeu': 9994, 'drain': 9995, 'potable': 9996, 'mcidfw': 9997, 'recommendation': 9998, 'burrito': 9999, 'overzealou': 10000, 'parentthey': 10001, 'frequently': 10002, 'wiggle': 10003, 'sliver': 10004, 'dumasttg': 10005, 'cannoxtralegroom': 10006, 'nocoatcloset': 10007, 'yayayay': 10008, 'wack': 10009, 'cheque': 10010, 'unknowledgeable': 10011, 'potatoe': 10012, 'dcastl': 10013, 'ballbag': 10014, 'worrisome': 10015, 'preoccupy': 10016, 'observer': 10017, 'counterpart': 10018, 'bsuxlu': 10019, 'wherea': 10020, 'sgf': 10021, 'crewnow': 10022, 'mebe': 10023, 'spk': 10024, 'chk': 10025, 'sufficiently': 10026, 'presumably': 10027, 'reproach': 10028, 'reform': 10029, 'pretsa': 10030, 'bitchy': 10031, 'wayi': 10032, 'happenedwhat': 10033, 'usxlon': 10034, 'weekly': 10035, 'nofunatall': 10036, 'uwont': 10037, 'memake': 10038, 'mesit': 10039, 'exces': 10040, 'timesstill': 10041, 'celeb': 10042, 'clunky': 10043, 'motor': 10044, 'awheelchair': 10045, 'miasfo': 10046, 'nonewplane': 10047, 'countingthank': 10048, 'noshow': 10049, 'scoot': 10050, 'miserablemorn': 10051, 'restaff': 10052, 'commence': 10053, 'dpdfpp': 10054, 'regina': 10055, 'argg': 10056, 'bpdfpp': 10057, 'trite': 10058, 'woodland': 10059, 'virginia': 10060, 'neededwhy': 10061, 'laxogglax': 10062, 'infobag': 10063, 'thefaonline': 10064, 'jayfranceschi': 10065, 'attitudeissue': 10066, 'extenuate': 10067, 'downstair': 10068, 'elise': 10069, 'ee': 10070, 'chking': 10071, 'schd': 10072, 'plainly': 10073, 'compmech': 10074, 'maker': 10075, 'mindset': 10076, 'journalist': 10077, 'medication': 10078, 'daysapologise': 10079, 'slacksoftuk': 10080, 'colour': 10081, 'skipper': 10082, 'walkaround': 10083, 'ife': 10084, 'timemoney': 10085, 'suprise': 10086, 'vanity': 10087, 'gah': 10088, 'disorganise': 10089, 'timeshand': 10090, 'letterwent': 10091, 'airportcalledplease': 10092, 'abcnewsbayarea': 10093, 'onafter': 10094, 'inhumane': 10095, 'humanity': 10096, 'terror': 10097, 'roomsthat': 10098, 'twicegot': 10099, 'helpphone': 10100, 'xox': 10101, 'subscription': 10102, 'hopingpray': 10103, 'dayscharge': 10104, 'toarrange': 10105, 'upin': 10106, 'argentinaclaim': 10107, 'tollfree': 10108, 'emxlyy': 10109, 'earring': 10110, 'earr': 10111, 'dayjustgotworse': 10112, 'commutation': 10113, 'outtoo': 10114, 'bagit': 10115, 'curfew': 10116, 'notahappycustomer': 10117, 'leavingtomm': 10118, 'bleh': 10119, 'onlinei': 10120, 'crj': 10121, 'airstair': 10122, 'valet': 10123, 'conferencewe': 10124, 'spiritairpr': 10125, 'chicagosmayor': 10126, 'noise': 10127, 'norahm': 10128, 'djevolutionhd': 10129, 'lawyer': 10130, 'wrath': 10131, 'planelook': 10132, 'laxshe': 10133, 'drag': 10134, 'gerrielliott': 10135, 'chronological': 10136, 'mispurchase': 10137, 'footage': 10138, 'abi': 10139, 'megentripodi': 10140, 'jordnnicole': 10141, 'midnite': 10142, 'responsibilitytoo': 10143, 'reread': 10144, 'joanne': 10145, 'flightnightmare': 10146, 'dart': 10147, 'dendfw': 10148, 'dartmedia': 10149, 'suntime': 10150, 'cameragear': 10151, 'delayedstill': 10152, 'waitingyou': 10153, 'dub': 10154, 'periolodicly': 10155, 'snowice': 10156, 'pmwe': 10157, 'leeway': 10158, 'snaord': 10159, 'geez': 10160, 'unserviceable': 10161, 'jfkman': 10162, 'onei': 10163, 'yestwicefor': 10164, 'twa': 10165, 'thanksm': 10166, 'louprice': 10167, 'acustomerservice': 10168, 'wsmall': 10169, 'taxiway': 10170, 'outoftouchwithreality': 10171, 'acctit': 10172, 'inv': 10173, 'successful': 10174, 'wbuse': 10175, 'ridicule': 10176, 'infinite': 10177, 'hamster': 10178, 'rabbit': 10179, 'agentbook': 10180, 'pregnantwithtwin': 10181, 'thecandacesmith': 10182, 'candace': 10183, 'krescate': 10184, 'contactcej': 10185, 'bqonpa': 10186, 'posmia': 10187, 'displeasure': 10188, 'bbbmedia': 10189, 'donotflywiththem': 10190, 'fidencio': 10191, 'kybilc': 10192, 'isle': 10193, 'gabriela': 10194, 'employeework': 10195, 'mialga': 10196, 'lip': 10197, 'continuesstill': 10198, 'directbag': 10199, 'shaft': 10200, 'pensacola': 10201, 'jokerun': 10202, 'cuzco': 10203, 'saidi': 10204, 'are': 10205, 'jfknot': 10206, 'sre': 10207, 'hon': 10208, 'sauvignon': 10209, 'blanc': 10210, 'pronounce': 10211, 'multibillion': 10212, 'multimillion': 10213, 'barrettkarabi': 10214, 'unamericanairline': 10215, 'southwestairwasthere': 10216, 'reallythey': 10217, 'ofi': 10218, 'unfold': 10219, 'wrench': 10220, 'apron': 10221, 'suree': 10222, 'grnd': 10223, 'jean': 10224, 'tpadfwau': 10225, 'iahdfw': 10226, 'amen': 10227, 'rec': 10228, 'unaccommodate': 10229, 'hitawall': 10230, 'newplanesmell': 10231, 'pissedvery': 10232, 'evil': 10233, 'anythingjust': 10234, 'chariot': 10235, 'angle': 10236, 'oldplane': 10237, 'damageluggage': 10238, 'originate': 10239, 'chge': 10240, 'ecuador': 10241, 'triedit': 10242, 'yepfile': 10243, 'ud': 10244, 'retrn': 10245, 'pickng': 10246, 'phoneonly': 10247, 'complaintquestion': 10248, 'commend': 10249, 'airportcardio': 10250, 'refunddm': 10251, 'travelproblem': 10252, 'nosedive': 10253, 'newamerican': 10254, 'delaney': 10255, 'kanne': 10256, 'ateam': 10257, 'rigorou': 10258, 'minutewere': 10259, 'brownsville': 10260, 'hardtodo': 10261, 'hrsthere': 10262, 'problemsbtwthe': 10263, 'miamiphl': 10264, 'hoursi': 10265, 'hah': 10266, 'hahahah': 10267, 'pacify': 10268, 'foolthat': 10269, 'span': 10270, 'daysnone': 10271, 'un': 10272, 'fin': 10273, 'believable': 10274, 'elwoodblue': 10275, 'americant': 10276, 'reuse': 10277, 'aadvantage': 10278, 'balloon': 10279, 'needknow': 10280, 'todayrather': 10281, 'maf': 10282, 'hardest': 10283, 'agentwhat': 10284, 'minutessaid': 10285, 'providenciale': 10286, 'becky': 10287, 'piela': 10288, 'ish': 10289, 'adavantage': 10290, 'lessand': 10291, 'probability': 10292, 'uhmmm': 10293, 'jcolenc': 10294, 'dallastx': 10295, 'helpline': 10296, 'holler': 10297, 'gtsvyb': 10298, 'unprepare': 10299, 'booklet': 10300, 'ystday': 10301, 'angrybird': 10302, 'wheresmybag': 10303, 'svu': 10304, 'gang': 10305, 'doyourjob': 10306, 'extraordinary': 10307, 'acpt': 10308, 'trickle': 10309, 'buse': 10310, 'wakinginmemphi': 10311, 'maxfitgirl': 10312, 'specially': 10313, 'carlton': 10314, 'glady': 10315, 'e': 10316, 'amiga': 10317, 'fllight': 10318, 'bussine': 10319, 'genuine': 10320, 'natt': 10321, 'panam': 10322, 'neverflyaagain': 10323, 'fluctuate': 10324, 'mattthomasnew': 10325, 'siberia': 10326, 'woase': 10327, 'helsinkiairport': 10328, 'winterop': 10329, 'midoexhibition': 10330, 'nastiest': 10331, 'yesterdayrubber': 10332, 'slime': 10333, 'backfa': 10334, 'meit': 10335, 'congest': 10336, 'edplott': 10337, 'thanksamericanairline': 10338, 'bdsm': 10339, 'porn': 10340, 'dungeon': 10341, 'tulsanot': 10342, 'servicelook': 10343, 'raft': 10344, 'yessir': 10345, 'yourlocalnyer': 10346, 'botch': 10347, 'absurdity': 10348, 'tug': 10349, 'meetingoutrage': 10350, 'memorize': 10351, 'fiveword': 10352, 'shortcut': 10353, 'tywinter': 10354, 'thingsthe': 10355, 'detailsthat': 10356, 'ohi': 10357, 'itover': 10358, 'nbsnewsr': 10359, 'reservationchange': 10360, 'mikehertzgmailcom': 10361, 'fakeaward': 10362, 'luvisbetter': 10363, 'terriblebeen': 10364, 'mty': 10365, 'agenti': 10366, 'surfer': 10367, 'noloveforsurfer': 10368, 'laxmad': 10369, 'escalate': 10370, 'seemles': 10371, 'surfboardbag': 10372, 'nomoa': 10373, 'mait': 10374, 'formality': 10375, 'rudelyreturn': 10376, 'nohotel': 10377, 'ahem': 10378, 'frowny': 10379, 'unsat': 10380, 'sjclax': 10381, 'angelo': 10382, 'lucymay': 10383, 'hfjkto': 10384, 'unimpress': 10385, 'dallasairporti': 10386, 'clewould': 10387, 'thousandth': 10388, 'mistreat': 10389, 'weekthat': 10390, 'guru': 10391, 'ease': 10392, 'evidently': 10393, 'meetingsinterview': 10394, 'circuit': 10395, 'breaker': 10396, 'busfirst': 10397, 'milesaver': 10398, 'whyfly': 10399, 'hourwaitsuck': 10400, 'madhouse': 10401, 'responsetough': 10402, 'montrose': 10403, 'allrepresentativesbusy': 10404, 'nooption': 10405, 'packermama': 10406, 'bademployeeproblem': 10407, 'surgeryhelp': 10408, 'flightupset': 10409, 'irrlcd': 10410, 'unamerican': 10411, 'cathaypacific': 10412, 'cathaypacificu': 10413, 'airsouthwest': 10414, 'dehydrate': 10415, 'ciddfw': 10416, 'bei': 10417, 'chaperone': 10418, 'rldelahunty': 10419, 'loaret': 10420, 'againestimate': 10421, 'mrobinson': 10422, 'crazybitch': 10423, 'andyellwood': 10424, 'delk': 10425, 'halfthought': 10426, 'pie': 10427, 'meerikanga': 10428, 'hahahaha': 10429, 'hoagy': 10430, 'honeymooni': 10431, 'bride': 10432, 'earlieror': 10433, 'notreceive': 10434, 'brooklyn': 10435, 'jacqueline': 10436, 'amexserve': 10437, 'denise': 10438, 'rtn': 10439, 'noworse': 10440, 'morninghow': 10441, 'airat': 10442, 'rudestaff': 10443, 'incompetentmanager': 10444, 'eleonora': 10445, 'awfully': 10446, 'unclear': 10447, 'audio': 10448, 'pir': 10449, 'cud': 10450, 'wong': 10451, 'marisol': 10452, 'pimentel': 10453, 'reasonably': 10454, 'mallowfairy': 10455, 'cnext': 10456, 'kthxbai': 10457, 'strict': 10458, 'statuswill': 10459, 'doorclose': 10460, 'drinkssnack': 10461, 'selfupgrade': 10462, 'jaipur': 10463, 'dehli': 10464, 'ccwhy': 10465, 'murphyjulie': 10466, 'stiiiil': 10467, 'malhoit': 10468, 'cac': 10469, 'familyfriend': 10470, 'lmk': 10471, 'mwangbickler': 10472, 'michael': 10473, 'thehour': 10474, 'flighttherere': 10475, 'youi': 10476, 'riedel': 10477, 'activealy': 10478, 'usairwi': 10479, 'kaha': 10480, 'teamit': 10481, 'americanairif': 10482, 'itamericanairline': 10483, 'qsvgru': 10484, 'stmt': 10485, 'getyouracttogether': 10486, 'painandsuffer': 10487, 'emrey': 10488, 'loctjycqh': 10489, 'nitenot': 10490, 'pu': 10491, 'unt': 10492, 'aft': 10493, 'callbag': 10494, 'insanehelp': 10495, 'unreachable': 10496, 'datetime': 10497, 'revieve': 10498, 'chkin': 10499, 'wsupervisor': 10500, 'baggagedrama': 10501, 'admiralsclub': 10502, 'worstcustservice': 10503, 'zurichnew': 10504, 'flightsthi': 10505, 'nationalize': 10506, 'nation': 10507, 'declare': 10508, 'somthe': 10509, 'daynee': 10510, 'nickcunningham': 10511, 'qqbmug': 10512, 'retickete': 10513, 'loganex': 10514, 'epicfailure': 10515, 'unsettle': 10516, 'emeyerson': 10517, 'walmart': 10518, 'koalaxphlord': 10519, 'savr': 10520, 'awrd': 10521, 'koalaxphxord': 10522, 'apologise': 10523, 'blameshiftoverload': 10524, 'helpthank': 10525, 'jfkla': 10526, 'latinamerican': 10527, 'ithaca': 10528, 'xld': 10529, 'rulesshouldbend': 10530, 'sheer': 10531, 'reign': 10532, 'gd': 10533, 'sloooowresponse': 10534, 'twenty': 10535, 'prank': 10536, 'plt': 10537, 'karax': 10538, 'neuer': 10539, 'flyingflighttravel': 10540, 'reebook': 10541, 'lvdfw': 10542, 'champagne': 10543, 'ordnrt': 10544, 'tokyomarathon': 10545, 'somethingwhich': 10546, 'nothinghop': 10547, 'waynot': 10548, 'insure': 10549, 'fricken': 10550, 'americanaireveryone': 10551, 'weeksthose': 10552, 'dickhead': 10553, 'methey': 10554, 'calling': 10555, 'finale': 10556, 'rebookplease': 10557, 'instance': 10558, 'unsuccessful': 10559, 'nonperformance': 10560, 'onholdforday': 10561, 'plebe': 10562, 'youredoingitwrong': 10563, 'foresight': 10564, 'tahiti': 10565, 'kevolt': 10566, 'sozldj': 10567, 'importantflight': 10568, 'chargersclothescoatcontact': 10569, 'lense': 10570, 'scareair': 10571, 'callcentre': 10572, 'whoooo': 10573, 'hooooo': 10574, 'pace': 10575, 'passengersstrand': 10576, 'nashinmypant': 10577, 'bitchslap': 10578, 'juliasinton': 10579, 'dmstill': 10580, 'waitingso': 10581, 'interestingagent': 10582, 'autorebook': 10583, 'crystal': 10584, 'toby': 10585, 'holdcan': 10586, 'liesliesly': 10587, 'arminrosen': 10588, 'bensonhenderson': 10589, 'bmi': 10590, 'reciprocate': 10591, 'dogbuckeye': 10592, 'onholdforever': 10593, 'suboptimal': 10594, 'incompetency': 10595, 'tusdfw': 10596, 'wcx': 10597, 'itwhy': 10598, 'forgotmiahe': 10599, 'willneverflywithyou': 10600, 'lesliewolfson': 10601, 'ltr': 10602, 'nlrphoto': 10603, 'espncoachmack': 10604, 'conv': 10605, 'pigeon': 10606, 'astonish': 10607, 'mdbeei': 10608, 'mcmullen': 10609, 'whyareyouyelle': 10610, 'doll': 10611, 'virtual': 10612, 'emailtext': 10613, 'ratchet': 10614, 'watson': 10615, 'jenning': 10616, 'greyhoundbu': 10617, 'queu': 10618, 'quickest': 10619, 'exboyfriend': 10620, 'gratitude': 10621, 'ltaljx': 10622, 'goodthingscome': 10623, 'ti': 10624, 'shiz': 10625, 'racist': 10626, 'barcode': 10627, 'betterother': 10628, 'whereisthelove': 10629, 'whybeaff': 10630, 'duanenclark': 10631, 'citynot': 10632, 'apathetic': 10633, 'organize': 10634, 'plse': 10635, 'methe': 10636, 'equivalent': 10637, 'dirt': 10638, 'sfojfk': 10639, 'programmer': 10640, 'instantly': 10641, 'avenue': 10642, 'jal': 10643, 'cathay': 10644, 'marshall': 10645, 'tracker': 10646, 'americanairsuck': 10647, 'hiremorepoeple': 10648, 'wnothe': 10649, 'wtw': 10650, 'waitabout': 10651, 'perhr': 10652, 'burden': 10653, 'oxgen': 10654, 'aircraftrunway': 10655, 'todaytomorrow': 10656, 'combative': 10657, 'hury': 10658, 'miacur': 10659, 'detailsu': 10660, 'texarkana': 10661, 'shouldhavedriven': 10662, 'dallasfort': 10663, 'psych': 10664, 'customersshaft': 10665, 'yourphonesystemsuck': 10666, 'phldfw': 10667, 'adolfo': 10668, 'garcia': 10669, 'twiiter': 10670, 'vcp': 10671, 'banana': 10672, 'undy': 10673, 'mall': 10674, 'vanessannz': 10675, 'inclemental': 10676, 'strtd': 10677, 'pummele': 10678, 'arpt': 10679, 'destn': 10680, 'nosecurityline': 10681, 'poorest': 10682, 'alabama': 10683, 'thicken': 10684, 'aalwayslate': 10685, 'dandy': 10686, 'lookforwardtoflywitha': 10687, 'helper': 10688, 'motvida': 10689, 'internally': 10690, 'covert': 10691, 'jeopardy': 10692, 'daipresident': 10693, 'hoursgot': 10694, 'cncdld': 10695, 'sneak': 10696, 'cookie': 10697, 'spectacularf': 10698, 'cinedrone': 10699, 'carlw': 10700, 'nan': 10701, 'bear': 10702, 'cstmr': 10703, 'grossthe': 10704, 'cancld': 10705, 'discnctany': 10706, 'abidfw': 10707, 'ticketi': 10708, 'horribly': 10709, 'praywinn': 10710, 'slowdown': 10711, 'spectacular': 10712, 'lhrdfw': 10713, 'priceline': 10714, 'troubleshot': 10715, 'paranoid': 10716, 'jaynegelman': 10717, 'howabout': 10718, 'moreblacklist': 10719, 'flightive': 10720, 'heymynameissean': 10721, 'newairplane': 10722, 'kconti': 10723, 'berlin': 10724, 'jameswester': 10725, 'jame': 10726, 'wflight': 10727, 'cjdjpdx': 10728, 'multinational': 10729, 'unmove': 10730, 'kap': 10731, 'totallyconfuse': 10732, 'surreal': 10733, 'rio': 10734, 'rcmoficial': 10735, 'cisnerosmedia': 10736, 'yourstoryhere': 10737, 'cyncyn': 10738, 'dfword': 10739, 'patrichruben': 10740, 'maximization': 10741, 'dinosaur': 10742, 'cnbc': 10743, 'bloombergradio': 10744, 'derekaustincenturyca': 10745, 'manuelc': 10746, 'ezemanalyst': 10747, 'impersonal': 10748, 'impatient': 10749, 'skillful': 10750, 'flightnes': 10751, 'snafu': 10752, 'untrue': 10753, 'cncld': 10754, 'brothaaa': 10755, 'sarahzou': 10756, 'translation': 10757, 'reinvest': 10758, 'colossal': 10759, 'infringement': 10760, 'jimdaytv': 10761, 'unannounce': 10762, 'fingerscross': 10763, 'pleasegod': 10764, 'missmykid': 10765, 'aex': 10766, 'rem': 10767, 'ensue': 10768, 'marco': 10769, 'concierge': 10770, 'gru': 10771, 'chargesi': 10772, 'sleeples': 10773, 'worthy': 10774, 'usele': 10775, 'sis': 10776, 'dfwmke': 10777, 'allll': 10778, 'convenience': 10779, 'joplin': 10780, 'jln': 10781, 'temper': 10782, 'weeklycommuteon': 10783, 'saveu': 10784, 'patheticcx': 10785, 'shortstaf': 10786, 'adres': 10787, 'spontaneously': 10788, 'overtime': 10789, 'bershawnjackson': 10790, 'ddean': 10791, 'deoderant': 10792, 'reclameaqui': 10793, 'tripadvisor': 10794, 'sabotage': 10795, 'advan': 10796, 'supvr': 10797, 'fruit': 10798, 'mistreatment': 10799, 'austic': 10800, 'changemassive': 10801, 'numberphone': 10802, 'ege': 10803, 'ordcdg': 10804, 'delayednot': 10805, 'replyour': 10806, 'repaint': 10807, 'passengerbillofright': 10808, 'foodnothe': 10809, 'parameter': 10810, 'usable': 10811, 'sharon': 10812, 'saviour': 10813, 'rtw': 10814, 'planner': 10815, 'spec': 10816, 'iceday': 10817, 'gather': 10818, 'flightledcant': 10819, 'thxu': 10820, 'abcnew': 10821, 'abandonment': 10822, 'phillypm': 10823, 'stupidly': 10824, 'nothelpful': 10825, 'dawndavi': 10826, 'hospital': 10827, 'flightchange': 10828, 'tofrom': 10829, 'delayedwow': 10830, 'cncled': 10831, 'dotnetnate': 10832, 'seguinej': 10833, 'nevergettinghome': 10834, 'mk': 10835, 'warrant': 10836, 'yeseniahernandez': 10837, 'peculiar': 10838, 'fixyourstuff': 10839, 'complt': 10840, 'lav': 10841, 'pln': 10842, 'lnded': 10843, 'inedible': 10844, 'shrimp': 10845, 'theydontanswer': 10846, 'sentierimelinda': 10847, 'pasta': 10848, 'consumption': 10849, 'hateful': 10850, 'gobankrupt': 10851, 'usvi': 10852, 'niece': 10853, 'sitecomplicate': 10854, 'volumecan': 10855, 'lhrord': 10856, 'skype': 10857, 'viracopo': 10858, 'fuckoff': 10859, 'minsrescue': 10860, 'lgasat': 10861, 'ususdo': 10862, 'inventory': 10863, 'americanforlife': 10864, 'fiscal': 10865, 'guc': 10866, 'backattempt': 10867, 'cant': 10868, 'gvn': 10869, 'customercant': 10870, 'tcunningham': 10871, 'jacquelyn': 10872, 'tomo': 10873, 'onlineuseles': 10874, 'stuck': 10875, 'adelay': 10876, 'junction': 10877, 'amazingflightcrew': 10878, 'aftr': 10879, 'bng': 10880, 'hstg': 10881, 'fnd': 10882, 'cnceld': 10883, 'cop': 10884, 'fcuk': 10885, 'vacancy': 10886, 'foreveranyone': 10887, 'karabuxthomp': 10888, 'renew': 10889, 'pe': 10890, 'thnkx': 10891, 'bt': 10892, 'macario': 10893, 'golfwithwoody': 10894, 'woody': 10895, 'prerookie': 10896, 'miatoiah': 10897, 'russellswrite': 10898, 'rus': 10899, 'slam': 10900, 'advisoryreally': 10901, 'coffin': 10902, 'chicagothank': 10903, 'acom': 10904, 'authoritative': 10905, 'stagnant': 10906, 'doubletriple': 10907, 'metar': 10908, 'topdown': 10909, 'thenatek': 10910, 'luz': 10911, 'calderon': 10912, 'king': 10913, 'cheerupdate': 10914, 'helpa': 10915, 'naomicooper': 10916, 'bdindalla': 10917, 'boofin': 10918, 'emmaclifford': 10919, 'attackingbabymomma': 10920, 'crazinessintherocky': 10921, 'ejacqui': 10922, 'russelneis': 10923, 'guatemala': 10924, 'appleton': 10925, 'eliza': 10926, 'airtahitinui': 10927, 'sweetmel': 10928, 'communicateor': 10929, 'oranythe': 10930, 'evidence': 10931, 'caexhibition': 10932, 'incompetenceunderstaf': 10933, 'tennetexan': 10934, 'marxsterbcow': 10935, 'aso': 10936, 'actingoutmgmnt': 10937, 'brewcrewfan': 10938, 'emailingcallingdm': 10939, 'unavoidable': 10940, 'controllable': 10941, 'yvonneokaka': 10942, 'twitterhug': 10943, 'shesaidrun': 10944, 'wthi': 10945, 'nthin': 10946, 'evr': 10947, 'natl': 10948, 'dfwno': 10949, 'hourflight': 10950, 'manuel': 10951, 'sapmia': 10952, 'chewey': 10953, 'oatmeal': 10954, 'cst': 10955, 'golden': 10956, 'custy': 10957, 'pvr': 10958, 'shannonbloom': 10959, 'duck': 10960, 'roberts': 10961, 'stuffy': 10962, 'arbitrarily': 10963, 'passengersdont': 10964, 'retribution': 10965, 'cxldprotection': 10966, 'nocharge': 10967, 'nycbueno': 10968, 'aire': 10969, 'jlhalldc': 10970, 'tilleymonsta': 10971, 'blackberry': 10972}\n",
            "[   0    0    0    0    0    0    0    0    0    0    0    0    0    0\n",
            "    0    0    0    0    0    0    0    0    0    0    0    0    0    0\n",
            "    0    0    0    0    0    0    0    0    0    0    0    0    0    0\n",
            "    0    0    0    0    0    0    0    0    0    0    0    0    0    0\n",
            "    0    0    0    0    0    0    0    0    0    0    0    0    0    0\n",
            "    0    0    0    0    0    0    0    0    0    0    0    0    0   36\n",
            " 4679   40]\n"
          ],
          "name": "stdout"
        }
      ]
    },
    {
      "cell_type": "code",
      "metadata": {
        "colab": {
          "base_uri": "https://localhost:8080/"
        },
        "id": "TE98pg3xyClP",
        "outputId": "45dd901a-189d-4e98-ca64-042d24ad3084"
      },
      "source": [
        "# Creating the model\n",
        "model = Sequential()\n",
        "model.add(Embedding(max_fatures, 128, input_length = X.shape[1],))\n",
        "model.add(SpatialDropout1D(0.4))\n",
        "model.add(Bidirectional(LSTM(196, dropout=0.2, recurrent_dropout=0.2)))\n",
        "model.add(Dense(512, activation='relu'))\n",
        "model.add(Dense(3,activation='softmax'))\n",
        "model.compile(loss = 'categorical_crossentropy', optimizer='adam',metrics = ['accuracy'])\n",
        "print(model.summary())"
      ],
      "execution_count": 65,
      "outputs": [
        {
          "output_type": "stream",
          "text": [
            "Model: \"sequential_2\"\n",
            "_________________________________________________________________\n",
            "Layer (type)                 Output Shape              Param #   \n",
            "=================================================================\n",
            "embedding_2 (Embedding)      (None, 86, 128)           640000    \n",
            "_________________________________________________________________\n",
            "spatial_dropout1d_2 (Spatial (None, 86, 128)           0         \n",
            "_________________________________________________________________\n",
            "bidirectional_1 (Bidirection (None, 392)               509600    \n",
            "_________________________________________________________________\n",
            "dense_2 (Dense)              (None, 512)               201216    \n",
            "_________________________________________________________________\n",
            "dense_3 (Dense)              (None, 3)                 1539      \n",
            "=================================================================\n",
            "Total params: 1,352,355\n",
            "Trainable params: 1,352,355\n",
            "Non-trainable params: 0\n",
            "_________________________________________________________________\n",
            "None\n"
          ],
          "name": "stdout"
        }
      ]
    },
    {
      "cell_type": "code",
      "metadata": {
        "colab": {
          "base_uri": "https://localhost:8080/"
        },
        "id": "bPLWDAPc6cDZ",
        "outputId": "e190b591-3a21-448a-d31a-d12722d3c81b"
      },
      "source": [
        "# Creating train test data\n",
        "Y = pd.get_dummies(tweets_df['airline_sentiment']).values\n",
        "X_train, X_test, Y_train, Y_test = train_test_split(X,Y, test_size = 0.3, random_state = 42)\n",
        "print(X_train.shape,Y_train.shape)\n",
        "print(X_test.shape,Y_test.shape)"
      ],
      "execution_count": 66,
      "outputs": [
        {
          "output_type": "stream",
          "text": [
            "(10248, 86) (10248, 3)\n",
            "(4392, 86) (4392, 3)\n"
          ],
          "name": "stdout"
        }
      ]
    },
    {
      "cell_type": "code",
      "metadata": {
        "colab": {
          "base_uri": "https://localhost:8080/"
        },
        "id": "rLioYNJn7ekp",
        "outputId": "f97ab2b2-00f0-42a9-f3c0-8ccda2b4ff03"
      },
      "source": [
        "# Fitting the data\n",
        "early_stop = EarlyStopping(monitor='val_accuracy', mode='auto', verbose=1, patience=8)\n",
        "checkpoint1 = ModelCheckpoint(\"/content/drive/My Drive/NLP/best_model1.hdf5\", monitor='val_accuracy', verbose=1,save_best_only=True, mode='auto', period=1,save_weights_only=False)\n",
        "history = model.fit(X_train,Y_train, validation_split=0.2, epochs=20, batch_size=32,callbacks=[checkpoint1, early_stop], verbose=2)"
      ],
      "execution_count": 68,
      "outputs": [
        {
          "output_type": "stream",
          "text": [
            "WARNING:tensorflow:`period` argument is deprecated. Please use `save_freq` to specify the frequency in number of batches seen.\n",
            "Epoch 1/20\n",
            "257/257 - 233s - loss: 0.1742 - accuracy: 0.9358 - val_loss: 0.8538 - val_accuracy: 0.7454\n",
            "\n",
            "Epoch 00001: val_accuracy improved from -inf to 0.74537, saving model to /content/drive/My Drive/NLP/best_model1.hdf5\n",
            "Epoch 2/20\n",
            "257/257 - 232s - loss: 0.1506 - accuracy: 0.9444 - val_loss: 0.9269 - val_accuracy: 0.7483\n",
            "\n",
            "Epoch 00002: val_accuracy improved from 0.74537 to 0.74829, saving model to /content/drive/My Drive/NLP/best_model1.hdf5\n",
            "Epoch 3/20\n",
            "257/257 - 232s - loss: 0.1350 - accuracy: 0.9502 - val_loss: 0.9604 - val_accuracy: 0.7483\n",
            "\n",
            "Epoch 00003: val_accuracy did not improve from 0.74829\n",
            "Epoch 4/20\n",
            "257/257 - 233s - loss: 0.1260 - accuracy: 0.9533 - val_loss: 0.9282 - val_accuracy: 0.7546\n",
            "\n",
            "Epoch 00004: val_accuracy improved from 0.74829 to 0.75463, saving model to /content/drive/My Drive/NLP/best_model1.hdf5\n",
            "Epoch 5/20\n",
            "257/257 - 231s - loss: 0.1096 - accuracy: 0.9586 - val_loss: 1.1220 - val_accuracy: 0.7527\n",
            "\n",
            "Epoch 00005: val_accuracy did not improve from 0.75463\n",
            "Epoch 6/20\n",
            "257/257 - 231s - loss: 0.1069 - accuracy: 0.9588 - val_loss: 1.2920 - val_accuracy: 0.7541\n",
            "\n",
            "Epoch 00006: val_accuracy did not improve from 0.75463\n",
            "Epoch 7/20\n",
            "257/257 - 229s - loss: 0.0983 - accuracy: 0.9640 - val_loss: 1.2073 - val_accuracy: 0.7473\n",
            "\n",
            "Epoch 00007: val_accuracy did not improve from 0.75463\n",
            "Epoch 8/20\n",
            "257/257 - 229s - loss: 0.0883 - accuracy: 0.9669 - val_loss: 1.3074 - val_accuracy: 0.7449\n",
            "\n",
            "Epoch 00008: val_accuracy did not improve from 0.75463\n",
            "Epoch 9/20\n",
            "257/257 - 229s - loss: 0.0931 - accuracy: 0.9645 - val_loss: 1.2473 - val_accuracy: 0.7459\n",
            "\n",
            "Epoch 00009: val_accuracy did not improve from 0.75463\n",
            "Epoch 10/20\n",
            "257/257 - 228s - loss: 0.0780 - accuracy: 0.9713 - val_loss: 1.3612 - val_accuracy: 0.7585\n",
            "\n",
            "Epoch 00010: val_accuracy improved from 0.75463 to 0.75854, saving model to /content/drive/My Drive/NLP/best_model1.hdf5\n",
            "Epoch 11/20\n",
            "257/257 - 228s - loss: 0.0730 - accuracy: 0.9726 - val_loss: 1.4912 - val_accuracy: 0.7488\n",
            "\n",
            "Epoch 00011: val_accuracy did not improve from 0.75854\n",
            "Epoch 12/20\n",
            "257/257 - 228s - loss: 0.0749 - accuracy: 0.9706 - val_loss: 1.4716 - val_accuracy: 0.7380\n",
            "\n",
            "Epoch 00012: val_accuracy did not improve from 0.75854\n",
            "Epoch 13/20\n",
            "257/257 - 227s - loss: 0.0665 - accuracy: 0.9750 - val_loss: 1.5974 - val_accuracy: 0.7410\n",
            "\n",
            "Epoch 00013: val_accuracy did not improve from 0.75854\n",
            "Epoch 14/20\n",
            "257/257 - 225s - loss: 0.0615 - accuracy: 0.9765 - val_loss: 1.5807 - val_accuracy: 0.7400\n",
            "\n",
            "Epoch 00014: val_accuracy did not improve from 0.75854\n",
            "Epoch 15/20\n",
            "257/257 - 227s - loss: 0.0665 - accuracy: 0.9763 - val_loss: 1.6726 - val_accuracy: 0.7327\n",
            "\n",
            "Epoch 00015: val_accuracy did not improve from 0.75854\n",
            "Epoch 16/20\n",
            "257/257 - 227s - loss: 0.0606 - accuracy: 0.9779 - val_loss: 1.5417 - val_accuracy: 0.7341\n",
            "\n",
            "Epoch 00016: val_accuracy did not improve from 0.75854\n",
            "Epoch 17/20\n",
            "257/257 - 227s - loss: 0.0606 - accuracy: 0.9769 - val_loss: 1.4994 - val_accuracy: 0.7454\n",
            "\n",
            "Epoch 00017: val_accuracy did not improve from 0.75854\n",
            "Epoch 18/20\n",
            "257/257 - 227s - loss: 0.0545 - accuracy: 0.9782 - val_loss: 1.8058 - val_accuracy: 0.7444\n",
            "\n",
            "Epoch 00018: val_accuracy did not improve from 0.75854\n",
            "Epoch 00018: early stopping\n"
          ],
          "name": "stdout"
        }
      ]
    },
    {
      "cell_type": "code",
      "metadata": {
        "colab": {
          "base_uri": "https://localhost:8080/"
        },
        "id": "JinTfm7u9g90",
        "outputId": "8671b9cf-aaf6-4ff1-9922-0ca5ac6e388d"
      },
      "source": [
        "# Load best model and evaluate \n",
        "model.load_weights(\"/content/drive/My Drive/NLP/best_model1.hdf5\")\n",
        "eval_results = model.evaluate(X_test, Y_test)\n",
        "print(\"[test loss, test accuracy]:\", eval_results)"
      ],
      "execution_count": 69,
      "outputs": [
        {
          "output_type": "stream",
          "text": [
            "138/138 [==============================] - 17s 121ms/step - loss: 1.3856 - accuracy: 0.7589\n",
            "[test loss, test accuracy]: [1.3855503797531128, 0.7588797807693481]\n"
          ],
          "name": "stdout"
        }
      ]
    },
    {
      "cell_type": "code",
      "metadata": {
        "colab": {
          "base_uri": "https://localhost:8080/"
        },
        "id": "0ORORN5N-XJX",
        "outputId": "ece3fb40-c20f-4568-8aa9-6a72ce786543"
      },
      "source": [
        "# Predicting and displaying the confusion matrix\n",
        "Y_pred = model.predict_classes(X_test)\n",
        "rounded_labels=np.argmax(Y_test, axis=1)\n",
        "cm = confusion_matrix(rounded_labels, Y_pred)\n",
        "print(cm)"
      ],
      "execution_count": 70,
      "outputs": [
        {
          "output_type": "stream",
          "text": [
            "/usr/local/lib/python3.7/dist-packages/tensorflow/python/keras/engine/sequential.py:450: UserWarning: `model.predict_classes()` is deprecated and will be removed after 2021-01-01. Please use instead:* `np.argmax(model.predict(x), axis=-1)`,   if your model does multi-class classification   (e.g. if it uses a `softmax` last-layer activation).* `(model.predict(x) > 0.5).astype(\"int32\")`,   if your model does binary classification   (e.g. if it uses a `sigmoid` last-layer activation).\n",
            "  warnings.warn('`model.predict_classes()` is deprecated and '\n"
          ],
          "name": "stderr"
        },
        {
          "output_type": "stream",
          "text": [
            "[[2497  226   91]\n",
            " [ 374  402  108]\n",
            " [ 168   92  434]]\n"
          ],
          "name": "stdout"
        }
      ]
    },
    {
      "cell_type": "code",
      "metadata": {
        "colab": {
          "base_uri": "https://localhost:8080/",
          "height": 445
        },
        "id": "kt1L6YP7-hMC",
        "outputId": "5c95a8b9-48d6-4cee-8d4c-e36ce71e7ecf"
      },
      "source": [
        "df_cm = pd.DataFrame(cm, index = [i for i in range(3)],\n",
        "                     columns = [i for i in range(3)])\n",
        "plt.figure(figsize = (12,7))\n",
        "sns.heatmap(df_cm, annot=True, fmt='d')"
      ],
      "execution_count": 71,
      "outputs": [
        {
          "output_type": "execute_result",
          "data": {
            "text/plain": [
              "<matplotlib.axes._subplots.AxesSubplot at 0x7f17aeeafd10>"
            ]
          },
          "metadata": {
            "tags": []
          },
          "execution_count": 71
        },
        {
          "output_type": "display_data",
          "data": {
            "image/png": "[encoded data removed]",
            "text/plain": [
              "<Figure size 864x504 with 2 Axes>"
            ]
          },
          "metadata": {
            "tags": [],
            "needs_background": "light"
          }
        }
      ]
    },
    {
      "cell_type": "code",
      "metadata": {
        "colab": {
          "base_uri": "https://localhost:8080/"
        },
        "id": "irRKuNRs-wYi",
        "outputId": "b9a1a961-8c2d-4a84-9c80-c0e21f1d6a65"
      },
      "source": [
        "# Printing the classification report\n",
        "print(\"=== Classification Report ===\")\n",
        "print(classification_report(rounded_labels, Y_pred))"
      ],
      "execution_count": 72,
      "outputs": [
        {
          "output_type": "stream",
          "text": [
            "=== Classification Report ===\n",
            "              precision    recall  f1-score   support\n",
            "\n",
            "           0       0.82      0.89      0.85      2814\n",
            "           1       0.56      0.45      0.50       884\n",
            "           2       0.69      0.63      0.65       694\n",
            "\n",
            "    accuracy                           0.76      4392\n",
            "   macro avg       0.69      0.66      0.67      4392\n",
            "weighted avg       0.75      0.76      0.75      4392\n",
            "\n"
          ],
          "name": "stdout"
        }
      ]
    },
    {
      "cell_type": "code",
      "metadata": {
        "colab": {
          "base_uri": "https://localhost:8080/"
        },
        "id": "7vW8lBBh-4RK",
        "outputId": "b6ad8d23-64d5-4780-cfc8-37dd4cdbc6b1"
      },
      "source": [
        "# Compare actual to predicted values -- model is performing well -- 1 wrong\n",
        "picarr = [0,50,44,55,100,45]\n",
        "\n",
        "for i in picarr:\n",
        "  print(f\"Predict {i}: {Y_pred[i]}\")\n",
        "  print(f\"Actual {i}: {np.argmax(Y_test[i])}\")"
      ],
      "execution_count": 73,
      "outputs": [
        {
          "output_type": "stream",
          "text": [
            "Predict 0: 2\n",
            "Actual 0: 2\n",
            "Predict 50: 1\n",
            "Actual 50: 1\n",
            "Predict 44: 1\n",
            "Actual 44: 1\n",
            "Predict 55: 0\n",
            "Actual 55: 2\n",
            "Predict 100: 0\n",
            "Actual 100: 0\n",
            "Predict 45: 2\n",
            "Actual 45: 2\n"
          ],
          "name": "stdout"
        }
      ]
    }
  ]
}